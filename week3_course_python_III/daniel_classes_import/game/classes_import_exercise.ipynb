{
 "metadata": {
  "language_info": {
   "codemirror_mode": {
    "name": "ipython",
    "version": 3
   },
   "file_extension": ".py",
   "mimetype": "text/x-python",
   "name": "python",
   "nbconvert_exporter": "python",
   "pygments_lexer": "ipython3",
   "version": "3.8.3"
  },
  "orig_nbformat": 2,
  "kernelspec": {
   "name": "python383jvsc74a57bd0885e59b4117422d4ddb743cd3083a9f7c4f583d62da3718482f61dc5ec76cf03",
   "display_name": "Python 3.8.3 64-bit"
  },
  "metadata": {
   "interpreter": {
    "hash": "885e59b4117422d4ddb743cd3083a9f7c4f583d62da3718482f61dc5ec76cf03"
   }
  }
 },
 "nbformat": 4,
 "nbformat_minor": 2,
 "cells": [
  {
   "cell_type": "code",
   "execution_count": null,
   "metadata": {},
   "outputs": [],
   "source": [
    "# ATENCIÓN\n",
    "Lo primero que he hecho ha sido crear las dos carpetas `game` donde he metido el jupyter donde interaccionarán las instancias de las clases (karina y daniel) y `objects` donde he metido los dos archivos con la definición de las clases.\n",
    "\n",
    "Ahora tenemos un esquema de carpetas tal que:\n",
    "- Daniel_classes_import\n",
    "    - game\n",
    "        - classes_import_exercise.ipynb\n",
    "    - objects\n",
    "        - ClaseHumano.py\n",
    "        - ClaseOrco.py\n",
    "\n",
    "Sabemos que el destino de las importaciones será el archivo `classes_import_exercise.ipynb` pero el origen `ClaseHumano.py` y `ClaseOrco.py`, por tanto, lo primero que tenemos que hacer es buscar aquella carpeta desde la que podamos acceder a todos los archivos. Esto es, desde `game` solo puedo acceder a `classes_import_exercise.ipynb` y desde la carpeta `objects` a los archivos .py, teniendo en cuenta que los movimientos entre carpetas a la hora de importar módulos (o archivos) es siempre \"hacia delante\". En este caso, ese punto en común a todos los archivos, por tanto es: `Daniel_classes_import`. \n",
    "\n",
    "¿Cómo podemos establecer esa carpeta como \"punto de partida\" o \"punto de referencia\" aunque yo esté en el archivo dentro de `game`? \n",
    "\n",
    "Tendrá que estar incluído en `sys.path`. Si `Daniel_classes_import` está incluído en el sys.path, ya puedo acceder a `ClaseHumano.py` o a `classes_import_exercise.ipynb` porque estoy en el punto en común. "
   ]
  },
  {
   "cell_type": "code",
   "execution_count": 1,
   "metadata": {},
   "outputs": [],
   "source": [
    "import sys, os"
   ]
  },
  {
   "cell_type": "code",
   "execution_count": 2,
   "metadata": {},
   "outputs": [
    {
     "output_type": "execute_result",
     "data": {
      "text/plain": [
       "['c:\\\\Users\\\\clara\\\\Desktop\\\\The_Bridge\\\\TAabril2021\\\\material\\\\correcciones\\\\daniel_classes_import\\\\game',\n",
       " 'c:\\\\Users\\\\clara\\\\.vscode\\\\extensions\\\\ms-toolsai.jupyter-2021.5.745244803\\\\pythonFiles',\n",
       " 'c:\\\\Users\\\\clara\\\\.vscode\\\\extensions\\\\ms-toolsai.jupyter-2021.5.745244803\\\\pythonFiles',\n",
       " 'c:\\\\Users\\\\clara\\\\.vscode\\\\extensions\\\\ms-toolsai.jupyter-2021.5.745244803\\\\pythonFiles\\\\lib\\\\python',\n",
       " 'C:\\\\Users\\\\clara\\\\AppData\\\\Local\\\\Programs\\\\Python\\\\Python38\\\\python38.zip',\n",
       " 'C:\\\\Users\\\\clara\\\\AppData\\\\Local\\\\Programs\\\\Python\\\\Python38\\\\DLLs',\n",
       " 'C:\\\\Users\\\\clara\\\\AppData\\\\Local\\\\Programs\\\\Python\\\\Python38\\\\lib',\n",
       " 'C:\\\\Users\\\\clara\\\\AppData\\\\Local\\\\Programs\\\\Python\\\\Python38',\n",
       " '',\n",
       " 'C:\\\\Users\\\\clara\\\\AppData\\\\Roaming\\\\Python\\\\Python38\\\\site-packages',\n",
       " 'C:\\\\Users\\\\clara\\\\AppData\\\\Roaming\\\\Python\\\\Python38\\\\site-packages\\\\win32',\n",
       " 'C:\\\\Users\\\\clara\\\\AppData\\\\Roaming\\\\Python\\\\Python38\\\\site-packages\\\\win32\\\\lib',\n",
       " 'C:\\\\Users\\\\clara\\\\AppData\\\\Roaming\\\\Python\\\\Python38\\\\site-packages\\\\Pythonwin',\n",
       " 'C:\\\\Users\\\\clara\\\\AppData\\\\Local\\\\Programs\\\\Python\\\\Python38\\\\lib\\\\site-packages',\n",
       " 'C:\\\\Users\\\\clara\\\\AppData\\\\Roaming\\\\Python\\\\Python38\\\\site-packages\\\\IPython\\\\extensions',\n",
       " 'C:\\\\Users\\\\clara\\\\.ipython']"
      ]
     },
     "metadata": {},
     "execution_count": 2
    }
   ],
   "source": [
    "# el primer elemento de la lista es la carpeta que contiene al archivo EN EL QUE ESTOY AHORA MISMO EJECUTANDO sys.path\n",
    "# pero yo quiero que en vez de `game` quiero a la carpeta que contiene a esa, osea, `daniel_classes_import`, bien entonces usaré os.path.dirname(os.getcwd()) [siguiente celda]\n",
    "sys.path"
   ]
  },
  {
   "cell_type": "code",
   "execution_count": 4,
   "metadata": {},
   "outputs": [
    {
     "output_type": "stream",
     "name": "stdout",
     "text": [
      "Carpeta donde está el archivo donde estoy ejecutando el código: c:\\Users\\clara\\Desktop\\The_Bridge\\TAabril2021\\material\\correcciones\\daniel_classes_import\\game\nCarpeta donde está la carpeta donde está el archivo donde estoy ejecutando el código: c:\\Users\\clara\\Desktop\\The_Bridge\\TAabril2021\\material\\correcciones\\daniel_classes_import \nesta es la dirección que quiero incluir en sys.path\n"
     ]
    }
   ],
   "source": [
    "# con os.getcwd() saco la carpeta DONDE ESTOY, es decir, la carpeta game\n",
    "# si lo que yo quiero es la carpeta que contiene a game entonces uso os.path.dirname() que siempre me va a dar la carpeta que contiene al argumento. \n",
    "dondeestoy= os.getcwd()\n",
    "print(\"Carpeta donde está el archivo donde estoy ejecutando el código:\", dondeestoy)\n",
    "carpeta_que_contiene_a_dondestoy= os.path.dirname(os.getcwd())\n",
    "print(\"Carpeta donde está la carpeta donde está el archivo donde estoy ejecutando el código:\", carpeta_que_contiene_a_dondestoy, \"\\nesta es la dirección que quiero incluir en sys.path\")"
   ]
  },
  {
   "cell_type": "code",
   "execution_count": 5,
   "metadata": {},
   "outputs": [],
   "source": [
    "#para incluir un path a nuestro punto de referencia: sys.path, y como sys.path es una lista, uso:\n",
    "sys.path.append(carpeta_que_contiene_a_dondestoy)"
   ]
  },
  {
   "cell_type": "code",
   "execution_count": 6,
   "metadata": {},
   "outputs": [
    {
     "output_type": "execute_result",
     "data": {
      "text/plain": [
       "['c:\\\\Users\\\\clara\\\\Desktop\\\\The_Bridge\\\\TAabril2021\\\\material\\\\correcciones\\\\daniel_classes_import\\\\game',\n",
       " 'c:\\\\Users\\\\clara\\\\.vscode\\\\extensions\\\\ms-toolsai.jupyter-2021.5.745244803\\\\pythonFiles',\n",
       " 'c:\\\\Users\\\\clara\\\\.vscode\\\\extensions\\\\ms-toolsai.jupyter-2021.5.745244803\\\\pythonFiles',\n",
       " 'c:\\\\Users\\\\clara\\\\.vscode\\\\extensions\\\\ms-toolsai.jupyter-2021.5.745244803\\\\pythonFiles\\\\lib\\\\python',\n",
       " 'C:\\\\Users\\\\clara\\\\AppData\\\\Local\\\\Programs\\\\Python\\\\Python38\\\\python38.zip',\n",
       " 'C:\\\\Users\\\\clara\\\\AppData\\\\Local\\\\Programs\\\\Python\\\\Python38\\\\DLLs',\n",
       " 'C:\\\\Users\\\\clara\\\\AppData\\\\Local\\\\Programs\\\\Python\\\\Python38\\\\lib',\n",
       " 'C:\\\\Users\\\\clara\\\\AppData\\\\Local\\\\Programs\\\\Python\\\\Python38',\n",
       " '',\n",
       " 'C:\\\\Users\\\\clara\\\\AppData\\\\Roaming\\\\Python\\\\Python38\\\\site-packages',\n",
       " 'C:\\\\Users\\\\clara\\\\AppData\\\\Roaming\\\\Python\\\\Python38\\\\site-packages\\\\win32',\n",
       " 'C:\\\\Users\\\\clara\\\\AppData\\\\Roaming\\\\Python\\\\Python38\\\\site-packages\\\\win32\\\\lib',\n",
       " 'C:\\\\Users\\\\clara\\\\AppData\\\\Roaming\\\\Python\\\\Python38\\\\site-packages\\\\Pythonwin',\n",
       " 'C:\\\\Users\\\\clara\\\\AppData\\\\Local\\\\Programs\\\\Python\\\\Python38\\\\lib\\\\site-packages',\n",
       " 'C:\\\\Users\\\\clara\\\\AppData\\\\Roaming\\\\Python\\\\Python38\\\\site-packages\\\\IPython\\\\extensions',\n",
       " 'C:\\\\Users\\\\clara\\\\.ipython',\n",
       " 'c:\\\\Users\\\\clara\\\\Desktop\\\\The_Bridge\\\\TAabril2021\\\\material\\\\correcciones\\\\daniel_classes_import']"
      ]
     },
     "metadata": {},
     "execution_count": 6
    }
   ],
   "source": [
    "#mira el último elemento! lo hemos conseguido. Ahora ya puedes importar a partir de ese punto\n",
    "sys.path"
   ]
  },
  {
   "cell_type": "code",
   "execution_count": 8,
   "metadata": {},
   "outputs": [],
   "source": [
    "from objects.ClaseHumano import Humano\n",
    "from objects.ClaseOrco import Orco\n",
    "# como mi punto de referencia ahora es daniel_classes_import tengo que \"entrar\" primero en la carpeta `objects`y luego al archivo ClaseHumano o ClaseOrco, de esos archivos importo concretamente la clase"
   ]
  },
  {
   "source": [
    "## 1\n",
    "\n",
    "Crea un archivo 'ClaseHumano.py' en la carpeta 'objects' que contenga una clase:\n",
    "\n",
    "* 'Humano' que tiene:\n",
    "    - Un atributo 'ojos' que por defecto es 2\n",
    "    - Un atributo 'piernas' que por defecto es 2\n",
    "    - Un atributo 'dientes' que por defecto es 32\n",
    "    - Un atributo 'nombre'\n",
    "    - Un atributo 'armadura' \n",
    "    - Un atributo 'nivel' \n",
    "    - Un atributo 'ataque'\n",
    "    - Un atributo 'salud' que por defecto es 100\n",
    "    - Una función  llamada 'atacar' que recibe un argumento 'orco' que representa otra clase ('Orco'). Esta función resta a la vida del 'Orco' el ataque de 'Humano' menos la armadura de 'Orco'. Al final, muestra por pantalla la vida del 'Orco'\n",
    "    - Una función no_vivo que retorna True si la vida del 'Humano' es igual o inferior a 0, False en otro caso.\n",
    "    - Una función que muestre por pantalla todos los atributos actuales de 'Humano' concatenados con un String representando el nombre del atributo que se muestra. Ejemplo: \"Nombre: Ataulfo | dientes: 32 | salud: 100 | ...\"\n",
    "\n",
    "Crea un archivo 'ClaseOrco.py' en la carpeta 'objects' que contenga una clase:\n",
    "\n",
    "* 'Orco' que tiene:\n",
    "    - Un atributo 'ojos' que por defecto es 2\n",
    "    - Un atributo 'piernas' que por defecto es 2\n",
    "    - Un atributo 'dientes' que por defecto es 56\n",
    "    - Un atributo 'nombre'\n",
    "    - Un atributo 'armadura' \n",
    "    - Un atributo 'nivel' \n",
    "    - Un atributo 'ataque'\n",
    "    - Un atributo 'salud' que por defecto es 100\n",
    "    - Una función  llamada 'atacar' que recibe un argumento 'humano' que representa otra clase ('Humano'). Esta función resta a la vida del 'Humano' el ataque de 'Orco' menos la armadura de 'Humano'. Al final, muestra por pantalla la vida del 'Humano'\n",
    "    - Una función no_vivo que retorna True si la vida del 'Humano' es igual o inferior a 0, False en otro caso.\n",
    "    - Una función que muestre por pantalla todos los atributos actuales de 'Orco' concatenados con un String representando el nombre del atributo que se muestra. Ejemplo: \"Nombre: Graug | dientes: 56 | salud: 100 | ...\"   "
   ],
   "cell_type": "markdown",
   "metadata": {}
  },
  {
   "source": [
    "## 2\n",
    "\n",
    "Desde aquí, importa las clases del ejercicio 1 (tendrás que utilizar sys.path para poder importar los archivos/módulos/librerías/ficheros). Crea una instancia de Humano/a y otra de Orco/a:\n",
    "\n",
    "* La clase Humano/a ha de inicializarse con los siguientes valores:\n",
    "    - nombre: tu nombre\n",
    "    - nivel: tu edad\n",
    "    - armadura: un número Entero que sea un décimo de tu nivel redondeado hacia abajo\n",
    "    - ataque: un número Entero que sea un quinto de tu nivel redondeado hacia abajo\n",
    "    - Todo lo demás por defecto.\n",
    "\n",
    "* La clase Orco/a ha de inicializarse con los siguientes valores:\n",
    "    - nombre: el nombre de tu compañero/a\n",
    "    - nivel: su edad\n",
    "    - armadura: un número Entero que sea un quinceavo de su nivel redondeado hacia arriba\n",
    "    - ataque: un número Entero que sea un sexto de su nivel redondeado hacia arriba\n",
    "    - Todo lo demás por defecto.\n"
   ],
   "cell_type": "markdown",
   "metadata": {}
  },
  {
   "cell_type": "code",
   "execution_count": 1,
   "metadata": {},
   "outputs": [
    {
     "output_type": "stream",
     "name": "stdout",
     "text": [
      "Este Orco karina termina con 96 puntos de vida.\n"
     ]
    }
   ],
   "source": [
    "'''\n",
    "# Tu código aquí\n",
    "import ClaseHumano as h\n",
    "import ClaseOrco as o\n",
    "\n",
    "daniel = h.Humano(nombre='daniel', armadura=3, nivel=34, ataque=6)  \n",
    "\n",
    "karina = o.Orco(nombre='karina', armadura=2, nivel=30, ataque=5)\n",
    "\n",
    "h.daniel.atacar('karina')\n",
    "\n",
    "#FAIL, PUEDO HACER FUNCIONAR LOS FUNCIONES DESDE EL ARCHIVO PERO NO DESDE AQUI\n",
    "'''"
   ]
  },
  {
   "cell_type": "code",
   "execution_count": 9,
   "metadata": {},
   "outputs": [
    {
     "output_type": "execute_result",
     "data": {
      "text/plain": [
       "'Nombre: karina | dientes: 56 | salud: 100 | armadura: 2 | nivel: 30 | ataque: 5 | ojos: 2 | piernas: 2 |'"
      ]
     },
     "metadata": {},
     "execution_count": 9
    }
   ],
   "source": [
    "# ya he importado las clases, pero las clases aún no tienen nombre, así que lo primero es crear las instancias, recuerda que podría crear todas las que quisiera a partir de a clase importada\n",
    "\n",
    "karina = Orco(nombre='karina', armadura=2, nivel=30, ataque=5)\n",
    "#al definir actualatr() tenía un parámetro self, en este caso este argumento entra poniendolo \n",
    "#justo delante: karina.actualatr()\n",
    "karina.actualatr()"
   ]
  },
  {
   "cell_type": "code",
   "execution_count": 10,
   "metadata": {},
   "outputs": [
    {
     "output_type": "execute_result",
     "data": {
      "text/plain": [
       "False"
      ]
     },
     "metadata": {},
     "execution_count": 10
    }
   ],
   "source": [
    "daniel = Humano(nombre='daniel', armadura=3, nivel=34, ataque=6)\n",
    "daniel.no_vivo()"
   ]
  },
  {
   "cell_type": "code",
   "execution_count": 11,
   "metadata": {},
   "outputs": [
    {
     "output_type": "stream",
     "name": "stdout",
     "text": [
      "Este Orco karina termina con 96 puntos de vida.\n"
     ]
    }
   ],
   "source": [
    "daniel.atacar(orco = karina)"
   ]
  },
  {
   "source": [
    "## 3\n",
    "\n",
    "Crea un bucle infinito que espere en cada turno(Iteración) 1 segundo. Para ello has de utilizar la función 'sleep(1)' de la librería time. En cada uno de los turnos debe ocurrir lo siguiente:\n",
    "\n",
    "- Que se muestre por pantalla el número del turno que se lleva empezando desde 1.  \n",
    "- Que se ataquen las instancias. Para ello, has de llamar a la función 'atacar' de cada una de las instancias.\n",
    "- Comprobar si una instancia no está viva con la función correspondiente. Si una instancia no está viva, mostrar por pantalla que una de ellas ha perdido y la otra ha ganado. Terminar el juego aquí.\n",
    "- Mostrar al finalizar el turno una barra divisoria para diferenciar un turno del siguiente.\n",
    "\n",
    "Hay que tener en cuenta: \n",
    "\n",
    "- Una instancia no puede atacar a la otra si no está viva.\n",
    "- Empieza primero la instancia que tiene menos nivel."
   ],
   "cell_type": "markdown",
   "metadata": {}
  },
  {
   "cell_type": "code",
   "execution_count": 12,
   "metadata": {},
   "outputs": [
    {
     "output_type": "stream",
     "name": "stdout",
     "text": [
      "Este Orco karina termina con 92 puntos de vida.\nEste Humano daniel termina con 98 puntos de vida.\n-------------------------------------------\nEste Orco karina termina con 88 puntos de vida.\nEste Humano daniel termina con 96 puntos de vida.\n-------------------------------------------\nEste Orco karina termina con 84 puntos de vida.\nEste Humano daniel termina con 94 puntos de vida.\n-------------------------------------------\nEste Orco karina termina con 80 puntos de vida.\nEste Humano daniel termina con 92 puntos de vida.\n-------------------------------------------\nEste Orco karina termina con 76 puntos de vida.\nEste Humano daniel termina con 90 puntos de vida.\n-------------------------------------------\nEste Orco karina termina con 72 puntos de vida.\nEste Humano daniel termina con 88 puntos de vida.\n-------------------------------------------\nEste Orco karina termina con 68 puntos de vida.\nEste Humano daniel termina con 86 puntos de vida.\n-------------------------------------------\nEste Orco karina termina con 64 puntos de vida.\nEste Humano daniel termina con 84 puntos de vida.\n-------------------------------------------\nEste Orco karina termina con 60 puntos de vida.\nEste Humano daniel termina con 82 puntos de vida.\n-------------------------------------------\nEste Orco karina termina con 56 puntos de vida.\nEste Humano daniel termina con 80 puntos de vida.\n-------------------------------------------\nEste Orco karina termina con 52 puntos de vida.\nEste Humano daniel termina con 78 puntos de vida.\n-------------------------------------------\nEste Orco karina termina con 48 puntos de vida.\nEste Humano daniel termina con 76 puntos de vida.\n-------------------------------------------\nEste Orco karina termina con 44 puntos de vida.\nEste Humano daniel termina con 74 puntos de vida.\n-------------------------------------------\nEste Orco karina termina con 40 puntos de vida.\nEste Humano daniel termina con 72 puntos de vida.\n-------------------------------------------\nEste Orco karina termina con 36 puntos de vida.\nEste Humano daniel termina con 70 puntos de vida.\n-------------------------------------------\nEste Orco karina termina con 32 puntos de vida.\nEste Humano daniel termina con 68 puntos de vida.\n-------------------------------------------\nEste Orco karina termina con 28 puntos de vida.\nEste Humano daniel termina con 66 puntos de vida.\n-------------------------------------------\nEste Orco karina termina con 24 puntos de vida.\nEste Humano daniel termina con 64 puntos de vida.\n-------------------------------------------\nEste Orco karina termina con 20 puntos de vida.\nEste Humano daniel termina con 62 puntos de vida.\n-------------------------------------------\nEste Orco karina termina con 16 puntos de vida.\nEste Humano daniel termina con 60 puntos de vida.\n-------------------------------------------\nEste Orco karina termina con 12 puntos de vida.\nEste Humano daniel termina con 58 puntos de vida.\n-------------------------------------------\nEste Orco karina termina con 8 puntos de vida.\nEste Humano daniel termina con 56 puntos de vida.\n-------------------------------------------\nEste Orco karina termina con 4 puntos de vida.\nEste Humano daniel termina con 54 puntos de vida.\n-------------------------------------------\nEste Orco karina termina con 0 puntos de vida.\nKarina ha muerto\n"
     ]
    }
   ],
   "source": [
    "# Tu código aquí\n",
    "\n",
    "#crea un bucle infinito ----> while True:\n",
    "\n",
    "while True:\n",
    "    daniel.atacar(karina)\n",
    "    if karina.no_vivo() == True: #evaluamos después de cada ataque si ha muerto el contrincante\n",
    "        print(\"Karina ha muerto\")\n",
    "        break #si ha muerto, rompe el bucle infinito\n",
    "    karina.atacar(daniel)\n",
    "    if daniel.no_vivo() == True: #evaluamos después de cada ataque si ha muerto el contrincante\n",
    "        print(\"Daniel ha muerto\")\n",
    "        break \n",
    "    print(\"-------------------------------------------\")\n"
   ]
  },
  {
   "cell_type": "code",
   "execution_count": null,
   "metadata": {},
   "outputs": [],
   "source": []
  }
 ]
}