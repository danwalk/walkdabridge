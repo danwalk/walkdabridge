{
 "cells": [
  {
   "cell_type": "markdown",
   "metadata": {},
   "source": [
    "# Python | Programación funcional\n",
    "\n",
    "### Ejercicio 1.\n",
    "\n",
    "1. Utiliza `reduce` para concatenar estas palabras en una frase\n",
    "```Python\n",
    "ejer_1 = (\"to\", \"be\", \"or\", \"not\", \"to\", \"be\", \"that\", \"is\", \"the\", \"question\")\n",
    "```"
   ]
  },
  {
   "cell_type": "code",
   "execution_count": 15,
   "metadata": {},
   "outputs": [
    {
     "output_type": "execute_result",
     "data": {
      "text/plain": [
       "'to be or not to be that is the question'"
      ]
     },
     "metadata": {},
     "execution_count": 15
    }
   ],
   "source": [
    "from functools import reduce\n",
    "\n",
    "ejer_1 = (\"to\", \"be\", \"or\", \"not\", \"to\", \"be\", \"that\", \"is\", \"the\", \"question\")\n",
    "\n",
    "reduce(lambda x, y: x + \" \" + y, ejer_1)"
   ]
  },
  {
   "cell_type": "markdown",
   "metadata": {},
   "source": [
    "2. Obtén una nueva tupla con el cuadrado de cada elemento de la siguiente tupla\n",
    "\n",
    "```Python\n",
    "ejer_2 = (1,2,3,4,5)\n",
    "```"
   ]
  },
  {
   "cell_type": "code",
   "execution_count": 6,
   "metadata": {},
   "outputs": [
    {
     "output_type": "execute_result",
     "data": {
      "text/plain": [
       "(1, 4, 9, 16, 25)"
      ]
     },
     "metadata": {},
     "execution_count": 6
    }
   ],
   "source": [
    "ejer_2 = (1,2,3,4,5)\n",
    "\n",
    "newtuple = tuple(map(lambda x: x**2, ejer_2))\n",
    "newtuple"
   ]
  },
  {
   "cell_type": "markdown",
   "metadata": {},
   "source": [
    "3. Filtra aquellos elementos que sean multiplos de 3 o de 5\n",
    "```Python\n",
    "ejer_3 = (1,2,3,4,5,15,21,22,33,34,35)\n",
    "```"
   ]
  },
  {
   "cell_type": "code",
   "execution_count": 13,
   "metadata": {},
   "outputs": [
    {
     "output_type": "execute_result",
     "data": {
      "text/plain": [
       "[3, 15, 21, 33]"
      ]
     },
     "metadata": {},
     "execution_count": 13
    }
   ],
   "source": [
    "ejer_3 = (1,2,3,4,5,15,21,22,33,34,35)\n",
    "list1 = list(filter(lambda x: x%3==0, ejer_3))\n",
    "list1"
   ]
  },
  {
   "cell_type": "code",
   "execution_count": 15,
   "metadata": {},
   "outputs": [
    {
     "output_type": "execute_result",
     "data": {
      "text/plain": [
       "[15]"
      ]
     },
     "metadata": {},
     "execution_count": 15
    }
   ],
   "source": [
    "ejer_3 = (1,2,3,4,5,15,21,22,33,34,35)\n",
    "list1 = list(filter(lambda x: x%3==0 and x%5==0, ejer_3))\n",
    "list1"
   ]
  },
  {
   "cell_type": "code",
   "execution_count": 16,
   "metadata": {},
   "outputs": [
    {
     "output_type": "execute_result",
     "data": {
      "text/plain": [
       "[3, 5, 15, 21, 33, 35]"
      ]
     },
     "metadata": {},
     "execution_count": 16
    }
   ],
   "source": [
    "ejer_3 = (1,2,3,4,5,15,21,22,33,34,35)\n",
    "list1 = list(filter(lambda x: x%3==0 or x%5==0, ejer_3))\n",
    "list1"
   ]
  },
  {
   "cell_type": "markdown",
   "metadata": {},
   "source": [
    "4. Convierte la siguiente tupla de pesetas a euros\n",
    "```Python\n",
    "ejer_4 = (1000, 8000, 20000000, 40000000)\n",
    "```"
   ]
  },
  {
   "cell_type": "code",
   "execution_count": 18,
   "metadata": {},
   "outputs": [
    {
     "output_type": "execute_result",
     "data": {
      "text/plain": [
       "[6.01, 48.08, 120200.0, 240400.0]"
      ]
     },
     "metadata": {},
     "execution_count": 18
    }
   ],
   "source": [
    "#1000 pesetas = 6.01 euros\n",
    "ps_a_euro = 0.00601\n",
    "ejer_4 = (1000, 8000, 20000000, 40000000)\n",
    "\n",
    "dinero = list(map(lambda x: x*ps_a_euro, ejer_4))\n",
    "dinero\n",
    "\n"
   ]
  },
  {
   "cell_type": "markdown",
   "metadata": {},
   "source": [
    "5. Convierte la siguiente lista de desconocidos a mayusculas\n",
    "```Python\n",
    "ejer_5 = (\"Arya\", \"John\", \"Robb\", \"Bran\", \"Sansa\", \"Rickon\")\n",
    "```"
   ]
  },
  {
   "cell_type": "code",
   "execution_count": 19,
   "metadata": {},
   "outputs": [
    {
     "output_type": "execute_result",
     "data": {
      "text/plain": [
       "<map at 0x200524b2f08>"
      ]
     },
     "metadata": {},
     "execution_count": 19
    }
   ],
   "source": [
    "ejer_5 = (\"Arya\", \"John\", \"Robb\", \"Bran\", \"Sansa\", \"Rickon\")\n",
    "\n",
    "ejer_5 = map(lambda x: x.upper(), ejer_5)\n",
    "ejer_5"
   ]
  },
  {
   "cell_type": "code",
   "execution_count": 20,
   "metadata": {},
   "outputs": [
    {
     "output_type": "execute_result",
     "data": {
      "text/plain": [
       "['ARYA', 'JOHN', 'ROBB', 'BRAN', 'SANSA', 'RICKON']"
      ]
     },
     "metadata": {},
     "execution_count": 20
    }
   ],
   "source": [
    "ejer_5 = (\"Arya\", \"John\", \"Robb\", \"Bran\", \"Sansa\", \"Rickon\")\n",
    "\n",
    "ejer_5 = list(map(lambda x: x.upper(), ejer_5))\n",
    "ejer_5"
   ]
  },
  {
   "cell_type": "markdown",
   "metadata": {},
   "source": [
    "6. Realiza un conversor de dias de la semana en texto a numerico (1-7), usando `map`.\n",
    "```Python\n",
    "ejer_6 = (\"Lunes\", \"Martes\", \"Miércoles\", \"Jueves\", \"Viernes\", \"Sábado\", \"Domingo\")\n",
    "```"
   ]
  },
  {
   "cell_type": "code",
   "execution_count": 16,
   "metadata": {},
   "outputs": [
    {
     "output_type": "error",
     "ename": "ValueError",
     "evalue": "invalid literal for int() with base 10: 'Monday'",
     "traceback": [
      "\u001b[1;31m---------------------------------------------------------------------------\u001b[0m",
      "\u001b[1;31mValueError\u001b[0m                                Traceback (most recent call last)",
      "\u001b[1;32m<ipython-input-16-709c262fb2f6>\u001b[0m in \u001b[0;36m<module>\u001b[1;34m\u001b[0m\n\u001b[0;32m      1\u001b[0m \u001b[0mejer_6\u001b[0m \u001b[1;33m=\u001b[0m \u001b[1;33m(\u001b[0m\u001b[1;34m\"Lunes\"\u001b[0m\u001b[1;33m,\u001b[0m \u001b[1;34m\"Martes\"\u001b[0m\u001b[1;33m,\u001b[0m \u001b[1;34m\"Miércoles\"\u001b[0m\u001b[1;33m,\u001b[0m \u001b[1;34m\"Jueves\"\u001b[0m\u001b[1;33m,\u001b[0m \u001b[1;34m\"Viernes\"\u001b[0m\u001b[1;33m,\u001b[0m \u001b[1;34m\"Sábado\"\u001b[0m\u001b[1;33m,\u001b[0m \u001b[1;34m\"Domingo\"\u001b[0m\u001b[1;33m)\u001b[0m\u001b[1;33m\u001b[0m\u001b[1;33m\u001b[0m\u001b[0m\n\u001b[1;32m----> 2\u001b[1;33m \u001b[0mprint\u001b[0m\u001b[1;33m(\u001b[0m\u001b[0mint\u001b[0m\u001b[1;33m(\u001b[0m\u001b[1;34m\"Monday\"\u001b[0m\u001b[1;33m)\u001b[0m\u001b[1;33m)\u001b[0m\u001b[1;33m\u001b[0m\u001b[1;33m\u001b[0m\u001b[0m\n\u001b[0m\u001b[0;32m      3\u001b[0m \u001b[1;33m\u001b[0m\u001b[0m\n\u001b[0;32m      4\u001b[0m \u001b[0mprint\u001b[0m\u001b[1;33m(\u001b[0m\u001b[0mweekday\u001b[0m\u001b[1;33m(\u001b[0m\u001b[0mmonday\u001b[0m\u001b[1;33m)\u001b[0m\u001b[1;33m)\u001b[0m\u001b[1;33m\u001b[0m\u001b[1;33m\u001b[0m\u001b[0m\n\u001b[0;32m      5\u001b[0m \u001b[1;31m#no se hacer esto salvo hacer otra lista de 1-7 y zip, pero ya teniendo una lista de 1-7 no veo en sentido de hacer otra con lo mismo.\u001b[0m\u001b[1;33m\u001b[0m\u001b[1;33m\u001b[0m\u001b[1;33m\u001b[0m\u001b[0m\n",
      "\u001b[1;31mValueError\u001b[0m: invalid literal for int() with base 10: 'Monday'"
     ]
    }
   ],
   "source": [
    "ejer_6 = (\"Lunes\", \"Martes\", \"Miércoles\", \"Jueves\", \"Viernes\", \"Sábado\", \"Domingo\")\n",
    "print(int(\"Monday\"))\n",
    "\n",
    "print(weekday(monday))\n",
    "#no se hacer esto salvo hacer otra lista de 1-7 y zip, pero ya teniendo una lista de 1-7 no veo en sentido de hacer otra con lo mismo."
   ]
  },
  {
   "cell_type": "code",
   "execution_count": 19,
   "metadata": {},
   "outputs": [
    {
     "output_type": "stream",
     "name": "stdout",
     "text": [
      "[1, 2, 3, 4, 5, 6, 7]\n{'Lunes': 1, 'Martes': 2, 'Miércoles': 3, 'Jueves': 4, 'Viernes': 5, 'Sábado': 6, 'Domingo': 7}\n"
     ]
    }
   ],
   "source": [
    "ejer_6 = (\"Lunes\", \"Martes\", \"Miércoles\", \"Jueves\", \"Viernes\", \"Sábado\", \"Domingo\")\n",
    "daysint = list(range(1,8))\n",
    "print(daysint)\n",
    "\n",
    "dictdias = dict(zip(ejer_6, daysint))\n",
    "print(dictdias)\n"
   ]
  },
  {
   "cell_type": "markdown",
   "metadata": {},
   "source": [
    "7. Utiliza `map` para multiplicar elemento a elemento estas dos tuplas\n",
    "```Python\n",
    "ejer_7_1 = (2, 5, 8)\n",
    "ejer_7_2 = (6, 3, 2)\n",
    "```"
   ]
  },
  {
   "cell_type": "code",
   "execution_count": 17,
   "metadata": {},
   "outputs": [
    {
     "output_type": "stream",
     "name": "stdout",
     "text": [
      "80\n36\n"
     ]
    }
   ],
   "source": [
    "ejer_7_1 = (2, 5, 8)\n",
    "ejer_7_2 = (6, 3, 2)\n",
    "\n",
    "print(reduce(lambda x,y: x*y, ejer_7_1))\n",
    "print(reduce(lambda x,y: x*y, ejer_7_2))\n"
   ]
  },
  {
   "cell_type": "markdown",
   "metadata": {},
   "source": [
    "8. Crea una tupla nueva con todos los coches que no sean VW :)\n",
    "\n",
    "```Python\n",
    "ejer_8 = (\"VW\", \"Audi\", \"Renault\", \"VW\", \"BMW\")\n",
    "```"
   ]
  },
  {
   "cell_type": "code",
   "execution_count": 12,
   "metadata": {},
   "outputs": [
    {
     "output_type": "execute_result",
     "data": {
      "text/plain": [
       "('Audi', 'Renault', 'BMW')"
      ]
     },
     "metadata": {},
     "execution_count": 12
    }
   ],
   "source": [
    "ejer_8 = (\"VW\", \"Audi\", \"Renault\", \"VW\", \"BMW\")\n",
    "\n",
    "cartuple = tuple(filter(lambda x: x!= \"VW\", ejer_8))\n",
    "cartuple"
   ]
  },
  {
   "cell_type": "markdown",
   "metadata": {},
   "source": [
    "9. Dadas las siguientes fechas en formato string, quedate con aquellas del año 2020\n",
    "\n",
    "```Python\n",
    "ejer_9 = (\"2019-04-08\", \"2020-10-10\", \"2020-01-22\", \"2019-07-13\", \"2019-02-01\")\n",
    "```"
   ]
  },
  {
   "cell_type": "code",
   "execution_count": 21,
   "metadata": {},
   "outputs": [
    {
     "output_type": "stream",
     "name": "stdout",
     "text": [
      "['2020-10-10', '2020-01-22']\n"
     ]
    }
   ],
   "source": [
    "ejer_9 = (\"2019-04-08\", \"2020-10-10\", \"2020-01-22\", \"2019-07-13\", \"2019-02-01\")\n",
    "\n",
    "dateslist = list(filter(lambda x: x[0:4] == '2020', ejer_9))\n",
    "print(dateslist)"
   ]
  },
  {
   "cell_type": "markdown",
   "metadata": {},
   "source": [
    "10. Filtra aquellos strings que sean [palíndromos](https://es.wikipedia.org/wiki/Pal%C3%ADndromo)\n",
    "```Python\n",
    "ejer_10 = (\"php\", \"w3r\", \"Python\", \"abcd\", \"Java\", \"aaa\")\n",
    "```"
   ]
  },
  {
   "cell_type": "code",
   "execution_count": 29,
   "metadata": {},
   "outputs": [
    {
     "output_type": "execute_result",
     "data": {
      "text/plain": [
       "['php', 'r3w', 'nohtyP', 'dcba', 'avaJ', 'aaa']"
      ]
     },
     "metadata": {},
     "execution_count": 29
    }
   ],
   "source": [
    "ejer_10 = (\"php\", \"w3r\", \"Python\", \"abcd\", \"Java\", \"aaa\")\n",
    "reje_01 = list(map(lambda x: x[::-1], ejer_10))\n",
    "reje_01\n"
   ]
  },
  {
   "cell_type": "code",
   "execution_count": 36,
   "metadata": {},
   "outputs": [
    {
     "output_type": "execute_result",
     "data": {
      "text/plain": [
       "[True, False, False, False, False, True]"
      ]
     },
     "metadata": {},
     "execution_count": 36
    }
   ],
   "source": [
    "filteredlist = list(map(lambda x, y: x==y, ejer_10, reje_01))\n",
    "filteredlist"
   ]
  },
  {
   "cell_type": "code",
   "execution_count": 37,
   "metadata": {},
   "outputs": [
    {
     "output_type": "execute_result",
     "data": {
      "text/plain": [
       "['php', 'aaa']"
      ]
     },
     "metadata": {},
     "execution_count": 37
    }
   ],
   "source": [
    "newfilter = list(filter(lambda x: x ==x[::-1], ejer_10))\n",
    "newfilter"
   ]
  },
  {
   "cell_type": "markdown",
   "metadata": {},
   "source": [
    "### Bonus Track.\n",
    "\n",
    "- Resuelve esta kata usando `map`\n",
    "https://www.codewars.com/kata/554b4ac871d6813a03000035\n",
    "\n",
    "Nota: si es demasiado difícil intenta resolverla sin usar `map` y si lo consigues, vuelve a resolverla usando `map`."
   ]
  },
  {
   "cell_type": "code",
   "execution_count": 60,
   "metadata": {},
   "outputs": [
    {
     "output_type": "stream",
     "name": "stdout",
     "text": [
      "['4 5 29 54 4 0 -214 542 -64 1 -3 6 -6', '542 -214']\n"
     ]
    }
   ],
   "source": [
    "high_and_lowlist = ((\"4 5 29 54 4 0 -214 542 -64 1 -3 6 -6\"), \"542 -214\")  # return \"5 1\"\n",
    "\n",
    "\n",
    "def high_and_low(numbers):\n",
    "    numlist = []\n",
    "    for elem in numbers:\n",
    "        if isinstance(elem, str):\n",
    "            numlist.append(elem)\n",
    "        elif isinstance(elem, tuple):\n",
    "            for ming in elem:\n",
    "                numlist.append(ming)\n",
    "    print(numlist)\n",
    "\n",
    "high_and_low(high_and_lowlist)"
   ]
  },
  {
   "cell_type": "code",
   "execution_count": 68,
   "metadata": {},
   "outputs": [
    {
     "output_type": "stream",
     "name": "stdout",
     "text": [
      "['4 5 29 54 4 0 -214 542 -64 1 -3 6 -6', '542 -214']\n4 5 29 54 4 0 -214 542 -64 1 -3 6 -6\n542 -214\n"
     ]
    }
   ],
   "source": [
    "high_and_lowlist = ((\"4 5 29 54 4 0 -214 542 -64 1 -3 6 -6\"), \"542 -214\")  # return \"5 1\"\n",
    "\n",
    "\n",
    "def high_and_low(numbers):\n",
    "    numlist = []\n",
    "    newlist = []\n",
    "    for elem in numbers:\n",
    "        if isinstance(elem, str):\n",
    "            numlist.append(elem)\n",
    "        elif isinstance(elem, tuple):\n",
    "            for ming in elem:\n",
    "                numlist.append(ming)\n",
    "    print(numlist)\n",
    "    for elem in numlist:\n",
    "        if elem.isdigit:\n",
    "            newlist.append(elem)\n",
    "            print(elem)\n",
    "            \n",
    "    \n",
    "\n",
    "high_and_low(high_and_lowlist)"
   ]
  },
  {
   "cell_type": "code",
   "execution_count": 66,
   "metadata": {},
   "outputs": [
    {
     "output_type": "error",
     "ename": "NameError",
     "evalue": "name 'newlist' is not defined",
     "traceback": [
      "\u001b[1;31m---------------------------------------------------------------------------\u001b[0m",
      "\u001b[1;31mNameError\u001b[0m                                 Traceback (most recent call last)",
      "\u001b[1;32m<ipython-input-66-cc3261cffc46>\u001b[0m in \u001b[0;36m<module>\u001b[1;34m\u001b[0m\n\u001b[1;32m----> 1\u001b[1;33m \u001b[0mprint\u001b[0m\u001b[1;33m(\u001b[0m\u001b[0mnewlist\u001b[0m\u001b[1;33m)\u001b[0m\u001b[1;33m\u001b[0m\u001b[1;33m\u001b[0m\u001b[0m\n\u001b[0m",
      "\u001b[1;31mNameError\u001b[0m: name 'newlist' is not defined"
     ]
    }
   ],
   "source": [
    "print(newlist)"
   ]
  },
  {
   "cell_type": "code",
   "execution_count": null,
   "metadata": {},
   "outputs": [],
   "source": [
    "numbers = [int(word) for word in a_string.split() if word.isdigit()]"
   ]
  }
 ],
 "metadata": {
  "kernelspec": {
   "name": "python374jvsc74a57bd016eb897c26cdfcf18817bc60a8e0737e3939ff1e8491198c807979170104e811",
   "display_name": "Python 3.7.4 64-bit"
  },
  "language_info": {
   "codemirror_mode": {
    "name": "ipython",
    "version": 3
   },
   "file_extension": ".py",
   "mimetype": "text/x-python",
   "name": "python",
   "nbconvert_exporter": "python",
   "pygments_lexer": "ipython3",
   "version": "3.7.4"
  },
  "metadata": {
   "interpreter": {
    "hash": "16eb897c26cdfcf18817bc60a8e0737e3939ff1e8491198c807979170104e811"
   }
  }
 },
 "nbformat": 4,
 "nbformat_minor": 4
}