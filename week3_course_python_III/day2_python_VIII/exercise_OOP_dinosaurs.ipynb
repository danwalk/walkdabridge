{
 "cells": [
  {
   "cell_type": "markdown",
   "metadata": {},
   "source": [
    "# Python | day 11 | object oriented programming"
   ]
  },
  {
   "cell_type": "markdown",
   "metadata": {},
   "source": [
    "#### ¡Practice what you already know and keep learning!"
   ]
  },
  {
   "cell_type": "markdown",
   "metadata": {},
   "source": [
    "![\"con_clase\"](https://cdn.ttgtmedia.com/rms/onlineimages/whatis-object_oriented_programming_half_column_mobile.png)"
   ]
  },
  {
   "cell_type": "markdown",
   "metadata": {},
   "source": [
    "https://realpython.com/python3-object-oriented-programming/"
   ]
  },
  {
   "cell_type": "markdown",
   "metadata": {},
   "source": [
    "## Exercise 1. "
   ]
  },
  {
   "cell_type": "markdown",
   "metadata": {},
   "source": [
    "A friend of yours have asked you to define a class so they can use it at the Natural History Museum in London in order to describe dinosaurs. \n",
    "\n",
    "Since you have no idea about dinosaurs he has given you a couple of instructions:\n",
    "\n",
    "   - Dinosaurs have four attributes all along the whole kind:\n",
    "        - They all have teeth, although every one of them have a different number of those\n",
    "        - Special skills which will be an empty list \n",
    "        - He finds interesting to specify if they are dangerous with a boolean, he also told you to set it False since usually they are very nice \n",
    "        - All of them have an only head\n",
    "        \n",
    "        \n",
    "   - Define also a couple of methods:\n",
    "   \n",
    "       - `many_teeth` --> number of teeth gives you a clue of how old the dinosaurs are, that's why it could be interesting to be able to change the number of teeth they have.\n",
    "       - `add_skill` --> this method add skills to each dinosaurs instance. \n",
    "       - `is_dangerous` --> not all of the dinosaurs are nice, some of them are a little bit dangerous and could attacks you, with this method you should be able to change the boolean set. Make sure, using `if`, the argument is always a boolean, if not print something like \"Remember you should give a boolean, True or False?\"\n"
   ]
  },
  {
   "cell_type": "code",
   "execution_count": 31,
   "metadata": {},
   "outputs": [],
   "source": [
    "# define a class Dinosaur\n",
    "class Dinosaur():\n",
    "\n",
    "    def __init__(self, n, teeth, special_skills=[], dangerous=False, head = 1):\n",
    "        self.name = n\n",
    "        self.teeth = teeth\n",
    "        self.special_skills = []\n",
    "        self.dangerous = dangerous\n",
    "        self.head = head\n",
    "    \n",
    "    def many_teeth(self,):\n",
    "        print(\"This dinosaurs teeth is currently at:\", self.teeth)\n",
    "        print(\"This number of teeth can give you a clue on how old the dinosaur is\")\n",
    "        changeteeth = (input(f'Currently assigned {self.teeth} teeth, enter a new amount of teeth or SAME to leave as it is'))\n",
    "        if changeteeth == \"SAME\" or changeteeth == \"same\" or changeteeth == \"Same\":\n",
    "            print(\"OK the amount of teeth has been left as they were\")\n",
    "        else:\n",
    "            self.teeth = int(changeteeth)\n",
    "            print(f'OK the amount of teeth has been modified to {self.teeth}')\n",
    "                \n",
    "    def add_skill(self, skill):\n",
    "        self.special_skills.append(skill)\n",
    "        print(f'{skill} added to dinosaur special skill list')\n",
    "        print(\"This dinosaur has these skills:\", self.special_skills)\n",
    "\n",
    "    def is_dangerous(self):\n",
    "        danger = input(\"Is this beast dangerous?\")\n",
    "        if danger == \"Yes\" or danger == \"yes\" or danger == \"YES\":\n",
    "            self.dangerous = True\n",
    "            print(\"You have modified the danger of this beast to yes, BE CAREFUL\")\n",
    "        else:\n",
    "            if danger == \"No\" or danger == \"no\" or danger == \"NO\":\n",
    "                self.dangerous = False\n",
    "                print(\"You have modified the danger of this beast to no, BREATH EASY\")\n",
    "            else:\n",
    "                print(\"No updates were made as you should call this function with a Yes or No\")\n",
    "\n",
    "    \n",
    "    pass"
   ]
  },
  {
   "cell_type": "code",
   "execution_count": 32,
   "metadata": {},
   "outputs": [],
   "source": [
    "drex = Dinosaur(n=\"drex\", teeth=24, special_skills= \"fast\", dangerous=False)"
   ]
  },
  {
   "cell_type": "code",
   "execution_count": 34,
   "metadata": {},
   "outputs": [
    {
     "output_type": "stream",
     "name": "stdout",
     "text": [
      "This dinosaurs teeth is currently at: 24\n",
      "This number of teeth can give you a clue on how old the dinosaur is\n",
      "OK the amount of teeth has been modified to 25\n"
     ]
    }
   ],
   "source": [
    "drex.many_teeth()"
   ]
  },
  {
   "cell_type": "code",
   "execution_count": 35,
   "metadata": {},
   "outputs": [
    {
     "output_type": "stream",
     "name": "stdout",
     "text": [
      "Tall added to dinosaur special skill list\nThis dinosaur has these skills: ['Tall']\n"
     ]
    }
   ],
   "source": [
    "drex.add_skill(\"Tall\")"
   ]
  },
  {
   "cell_type": "code",
   "execution_count": 36,
   "metadata": {},
   "outputs": [
    {
     "output_type": "stream",
     "name": "stdout",
     "text": [
      "Old added to dinosaur special skill list\nThis dinosaur has these skills: ['Tall', 'Old']\n"
     ]
    }
   ],
   "source": [
    "drex.add_skill(\"Old\")"
   ]
  },
  {
   "cell_type": "code",
   "execution_count": 37,
   "metadata": {},
   "outputs": [
    {
     "output_type": "stream",
     "name": "stdout",
     "text": [
      "You have modified the danger of this beast to yes, BE CAREFUL\n"
     ]
    }
   ],
   "source": [
    "drex.is_dangerous()"
   ]
  },
  {
   "cell_type": "code",
   "execution_count": 5,
   "metadata": {},
   "outputs": [
    {
     "output_type": "stream",
     "name": "stdout",
     "text": [
      "No updates were made as you should call this function with a Yes or No\n"
     ]
    }
   ],
   "source": [
    "drex.is_dangerous()"
   ]
  },
  {
   "cell_type": "markdown",
   "metadata": {},
   "source": [
    "Once you have the class Dinosaur and its methods defined, create an instance **tyrannosaurus**. Your friend has told you that Tyrannosaurus rex had 50 to 60 solid cone-shaped teeth as big as bananas. Set the number of teeth as 60 since you will have the opportunity of changing it later using the method `many_teeth`. "
   ]
  },
  {
   "cell_type": "code",
   "execution_count": 38,
   "metadata": {},
   "outputs": [],
   "source": [
    "# create an Tyrannosaurus rex with 60 teeth\n",
    "Tyrannosaurus = Dinosaur(n=\"Tyrannosaurus\", teeth=60)"
   ]
  },
  {
   "cell_type": "markdown",
   "metadata": {},
   "source": [
    "Tyrannosaurus rex are the most dangerous dinosaurs so please, use the method `is_dangerous` with the argument \"yes, it is dangerous\", to set this up. It should return a message telling you to give a boolean, True or False, instead of the string you used as argument. "
   ]
  },
  {
   "cell_type": "code",
   "execution_count": 40,
   "metadata": {},
   "outputs": [
    {
     "output_type": "stream",
     "name": "stdout",
     "text": [
      "No updates were made as you should call this function with a Yes or No\n"
     ]
    }
   ],
   "source": [
    "Tyrannosaurus.is_dangerous()\n",
    "\n",
    "#es que lo he configurando con input() dentro de la funcion"
   ]
  },
  {
   "cell_type": "markdown",
   "metadata": {},
   "source": [
    "Good try! But you need to set this with a boolean. Since tyrannosaurus rex are dangerous give True as an argument to the method `is_dangerous`."
   ]
  },
  {
   "cell_type": "code",
   "execution_count": 41,
   "metadata": {},
   "outputs": [
    {
     "output_type": "stream",
     "name": "stdout",
     "text": [
      "You have modified the danger of this beast to yes, BE CAREFUL\n"
     ]
    }
   ],
   "source": [
    "# call is_dangerous method with True as an argument\n",
    "Tyrannosaurus.is_dangerous()\n"
   ]
  },
  {
   "cell_type": "markdown",
   "metadata": {},
   "source": [
    "Set \"lethality\" as an special skill of the tyrannosaurus rex using the `add_skill` method. "
   ]
  },
  {
   "cell_type": "code",
   "execution_count": 42,
   "metadata": {},
   "outputs": [
    {
     "output_type": "stream",
     "name": "stdout",
     "text": [
      "lethality added to dinosaur special skill list\nThis dinosaur has these skills: ['lethality']\n"
     ]
    }
   ],
   "source": [
    "# give lethality as an argument to the method add_skill\n",
    "Tyrannosaurus.add_skill(\"lethality\")"
   ]
  },
  {
   "cell_type": "markdown",
   "metadata": {},
   "source": [
    "Show its `special_skill` to make sure you add the skill as expected."
   ]
  },
  {
   "cell_type": "code",
   "execution_count": 45,
   "metadata": {},
   "outputs": [
    {
     "output_type": "stream",
     "name": "stdout",
     "text": [
      "['lethality']\n"
     ]
    }
   ],
   "source": [
    "# show its special_skill \n",
    "print(Tyrannosaurus.special_skills)"
   ]
  },
  {
   "cell_type": "markdown",
   "metadata": {},
   "source": [
    "If you could add \"lethality\" to the tyrannosaurus special skills, let's try now adding \"strength\"."
   ]
  },
  {
   "cell_type": "code",
   "execution_count": 46,
   "metadata": {},
   "outputs": [
    {
     "output_type": "stream",
     "name": "stdout",
     "text": [
      "strength added to dinosaur special skill list\nThis dinosaur has these skills: ['lethality', 'strength']\n"
     ]
    }
   ],
   "source": [
    "# add strength to the list of special_skill\n",
    "Tyrannosaurus.add_skill(\"strength\")"
   ]
  },
  {
   "cell_type": "markdown",
   "metadata": {},
   "source": [
    "Now, you know a lot about tyrannosaurus rex and found out the most of them lose some teeth due to their diet during their life, so 50 teeth should be more realistic. Use `many_teeth` method. "
   ]
  },
  {
   "cell_type": "code",
   "execution_count": 47,
   "metadata": {},
   "outputs": [
    {
     "output_type": "stream",
     "name": "stdout",
     "text": [
      "This dinosaurs teeth is currently at: 60\n",
      "This number of teeth can give you a clue on how old the dinosaur is\n",
      "OK the amount of teeth has been modified to 50\n"
     ]
    }
   ],
   "source": [
    "# set 50 teeth as the number of teeth\n",
    "Tyrannosaurus.many_teeth()"
   ]
  },
  {
   "cell_type": "markdown",
   "metadata": {},
   "source": [
    "Show the tyrannosaurus rex's attributes defining a dictionary called `tyrannosaurus_data`. The keys should be the attributes: `teeth`, `danger`, `head`, `special_skill`, and the values those given to the attributes during the exercise.\n",
    "\n",
    "*Hint: You could solve this exercise using a function. Try google.* "
   ]
  },
  {
   "cell_type": "code",
   "execution_count": 71,
   "metadata": {},
   "outputs": [
    {
     "output_type": "stream",
     "name": "stdout",
     "text": [
      "tyrannosaurus_data: {'teeth': 50, 'danger': True, 'head': 1, 'special_skill': ['lethality', 'strength']}\n"
     ]
    }
   ],
   "source": [
    "# create the tyrannosaurus_data dictionary\n",
    "def dictmaker(dino):\n",
    "    attri = ['teeth', \"danger\", \"head\", \"special_skill\"]\n",
    "    nameof = dino\n",
    "    dictteeth = dino.teeth\n",
    "    dictdang = dino.dangerous\n",
    "    dicthead = dino.head\n",
    "    dictspec = dino.special_skills\n",
    "    dictlist = [dictteeth, dictdang, dicthead, dictspec]\n",
    "    dino.data = dict(zip(attri, dictlist))\n",
    "    return (dino.data)\n",
    "\n",
    "    \n",
    "tyrannosaurus_data = dictmaker(Tyrannosaurus)\n",
    "print(\"tyrannosaurus_data:\", tyrannosaurus_data)"
   ]
  },
  {
   "cell_type": "markdown",
   "metadata": {},
   "source": [
    "### Bonus\n",
    "\n",
    "Try to define a function named `if_danger` which check if **Dinosaur** is dangerous and if it is, then return something like \"RUN FOR YOUR LIFE, THIS GUY IS HUNGRY AND EAT PEOPLE\", in case the dinosaur isn't dangerous return \"all good, nothing to fear\".\n",
    "\n",
    "Call the function using as an argument the attribute `danger` of the **tyrannosaurus**."
   ]
  },
  {
   "cell_type": "code",
   "execution_count": 74,
   "metadata": {},
   "outputs": [],
   "source": [
    "# define if_danger with one parameter\n",
    "def dangerchecker(dino):\n",
    "    if dino.dangerous == True:\n",
    "        print(\"RUN FOR YOUR LIFE, IF ITS NOT TOO LATE ALREADY THEN QUICK, SEND ME YOUR PIN NUMBER\")\n",
    "    else:\n",
    "        print(\"Your safe for now\")\n"
   ]
  },
  {
   "cell_type": "code",
   "execution_count": 75,
   "metadata": {},
   "outputs": [
    {
     "output_type": "stream",
     "name": "stdout",
     "text": [
      "RUN FOR YOUR LIFE, IF ITS NOT TOO LATE ALREADY THEN QUICK, SEND ME YOUR PIN NUMBER\n"
     ]
    }
   ],
   "source": [
    "# invoked the if_danger function\n",
    "dangerchecker(Tyrannosaurus)"
   ]
  },
  {
   "cell_type": "markdown",
   "metadata": {},
   "source": [
    "## Exercise 2. "
   ]
  },
  {
   "cell_type": "markdown",
   "metadata": {},
   "source": [
    "A company is opening a bank, but the coder who is designing the user class made some errors. They need you to help them.\n",
    "\n",
    "You must include the following:\n",
    "\n",
    "**A withdraw method**\n",
    "- Subtracts money from balance\n",
    "- One parameter, money to withdraw\n",
    "- Raise ValueError if there isn't enough money to withdraw\n",
    "- Return a string with name and balence(see examples)\n",
    "\n",
    "**A check method**\n",
    "- Adds money to baleance\n",
    "- Two parameters, other user and money\n",
    "- Other user will always be valid\n",
    "- Raise a ValueError if other user doesn't have enough money\n",
    "- Raise a ValueError if checking_account isn't true for other user\n",
    "- Return a string with name and balance plus other name and other balance(see examples)\n",
    "\n",
    "**An add_cash method**\n",
    "- Adds money to balance\n",
    "- One parameter, money to add\n",
    "- Return a string with name and balance(see examples)\n",
    "\n",
    "**Additional Notes:**\n",
    "\n",
    "- Checking_account should be stored as a boolean\n",
    "- No input numbers will be negitive\n",
    "- Output must end with period\n",
    "- Float numbers will not be used so, balance should be integer\n",
    "- No currency will be used"
   ]
  },
  {
   "cell_type": "markdown",
   "metadata": {},
   "source": [
    "KATA --> https://www.codewars.com/kata/5a03af9606d5b65ff7000009"
   ]
  },
  {
   "cell_type": "markdown",
   "metadata": {},
   "source": [
    "**If you dare trying to solve this problem, you'll need this:** https://www.w3schools.com/python/gloss_python_raise.asp"
   ]
  },
  {
   "cell_type": "code",
   "execution_count": 24,
   "metadata": {},
   "outputs": [],
   "source": [
    "#your code here\n",
    "class User:\n",
    "    def __init__(self, n, balance, checking_account):\n",
    "        self.name = n\n",
    "        self.balance = balance\n",
    "        self.checking_account = checking_account\n",
    "\n",
    "    def withdraw(self, amount):\n",
    "        if amount > self.balance:\n",
    "            raise ValueError\n",
    "        else:\n",
    "            self.balance = self.balance - amount\n",
    "            return f'{self.name} has {self.balance}.'\n",
    "\n",
    "    def check(self, payer, amount):\n",
    "        if payer.checking_account == True:\n",
    "            if amount <= payer.balance:\n",
    "                payer.balance = payer.balance - amount\n",
    "                self.balance = self.balance + amount\n",
    "                return f'{self.name} has {self.balance} and {payer.name} has {payer.balance}.'\n",
    "            else:\n",
    "                raise ValueError\n",
    "        else:\n",
    "            raise ValueError\n",
    "\n",
    "    def add_cash(self, amount):\n",
    "        add = int(amount)\n",
    "        self.balance = self.balance + add\n",
    "        return f'{self.name} has {self.balance}.'\n",
    "    \n",
    "\n",
    "    pass\n",
    "\n",
    "Jeff = User('Jeff', 70, True)\n",
    "Joe = User('Joe', 70, False)\n",
    "\n"
   ]
  },
  {
   "cell_type": "code",
   "execution_count": 93,
   "metadata": {},
   "outputs": [
    {
     "output_type": "execute_result",
     "data": {
      "text/plain": [
       "'Jeff has 68'"
      ]
     },
     "metadata": {},
     "execution_count": 93
    }
   ],
   "source": [
    "Jeff.withdraw(2)"
   ]
  },
  {
   "cell_type": "code",
   "execution_count": 23,
   "metadata": {},
   "outputs": [
    {
     "output_type": "execute_result",
     "data": {
      "text/plain": [
       "'Jeff has 120 and Joe has 20.'"
      ]
     },
     "metadata": {},
     "execution_count": 23
    }
   ],
   "source": [
    "Jeff.check(Joe, 50)"
   ]
  },
  {
   "cell_type": "code",
   "execution_count": 120,
   "metadata": {},
   "outputs": [
    {
     "output_type": "execute_result",
     "data": {
      "text/plain": [
       "70"
      ]
     },
     "metadata": {},
     "execution_count": 120
    }
   ],
   "source": [
    "Joe.balance"
   ]
  },
  {
   "cell_type": "code",
   "execution_count": 22,
   "metadata": {},
   "outputs": [],
   "source": [
    "Joe.checking_account = True"
   ]
  },
  {
   "cell_type": "code",
   "execution_count": 25,
   "metadata": {},
   "outputs": [
    {
     "output_type": "execute_result",
     "data": {
      "text/plain": [
       "'Jeff has 90.'"
      ]
     },
     "metadata": {},
     "execution_count": 25
    }
   ],
   "source": [
    "Jeff.add_cash(20.00)"
   ]
  },
  {
   "cell_type": "code",
   "execution_count": null,
   "metadata": {},
   "outputs": [],
   "source": []
  }
 ],
 "metadata": {
  "kernelspec": {
   "name": "python374jvsc74a57bd016eb897c26cdfcf18817bc60a8e0737e3939ff1e8491198c807979170104e811",
   "display_name": "Python 3.7.4 64-bit"
  },
  "language_info": {
   "codemirror_mode": {
    "name": "ipython",
    "version": 3
   },
   "file_extension": ".py",
   "mimetype": "text/x-python",
   "name": "python",
   "nbconvert_exporter": "python",
   "pygments_lexer": "ipython3",
   "version": "3.7.4"
  },
  "metadata": {
   "interpreter": {
    "hash": "16eb897c26cdfcf18817bc60a8e0737e3939ff1e8491198c807979170104e811"
   }
  }
 },
 "nbformat": 4,
 "nbformat_minor": 4
}