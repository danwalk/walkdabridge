{
 "cells": [
  {
   "cell_type": "markdown",
   "metadata": {},
   "source": [
    "https://vgpena.github.io/classifying-tweets-with-keras-and-tensorflow/\n",
    "\n",
    "En el anterior enlace, tenéis un ejemplo sobre cómo, a partir de tweets con un label específico (un sentimiento, positivo o negativo): \n",
    "\n",
    "1. Genera un conjunto de entrenamiento. El conjunto de entrenamiento es formado a partir de tweets completos pasados a un array con un tamaño específico.\n",
    "2. Ese array (X_train de tamaño N) tiene un label que representa el sentimiento (y_train)\n",
    "3. Como todas las frases tienen un tamaño N, la entrada de la red neuronal será de tamaño N y la salida de la red será de tamaño 2 usando activación softmax(porque hay dos clases).\n",
    "\n",
    "Se pide: \n",
    "\n",
    "- Realizar un clasificador de reviews para el dataset de IMDB de la carpeta data_exercise/\n",
    "\n",
    "**Cuando usa la importación \"keras.x\", reemplázalo por \"tensorflow.keras.x\"**"
   ]
  },
  {
   "cell_type": "code",
   "execution_count": 1,
   "metadata": {},
   "outputs": [],
   "source": [
    "import pandas as pd\r\n",
    "import numpy as np\r\n",
    "import matplotlib.pyplot as plt\r\n",
    "import json\r\n",
    "from tensorflow import keras\r\n",
    "import tensorflow.keras.preprocessing.text as kpt\r\n",
    "from tensorflow.keras.preprocessing.text import Tokenizer\r\n",
    "from tensorflow.keras.models import Sequential\r\n",
    "from tensorflow.keras.layers import Dense, Dropout, Activation\r\n",
    "import os"
   ]
  },
  {
   "cell_type": "code",
   "execution_count": 5,
   "metadata": {},
   "outputs": [],
   "source": [
    "csvname = \"IMDB Dataset.csv\"\r\n",
    "SEP = os.sep\r\n",
    "dir = os.path.dirname\r\n",
    "csv_fullpath = dir(os.getcwd()) + SEP + \"exercise\" + SEP + \"data_exercise\" + SEP + csvname"
   ]
  },
  {
   "cell_type": "code",
   "execution_count": 6,
   "metadata": {},
   "outputs": [],
   "source": [
    "training = pd.read_csv(csv_fullpath, index_col=None)"
   ]
  },
  {
   "cell_type": "code",
   "execution_count": 8,
   "metadata": {},
   "outputs": [],
   "source": [
    "X_train = training[\"review\"]\r\n",
    "\r\n",
    "y_train = training[\"sentiment\"]"
   ]
  },
  {
   "cell_type": "code",
   "execution_count": 9,
   "metadata": {},
   "outputs": [
    {
     "data": {
      "text/plain": [
       "negative    25000\n",
       "positive    25000\n",
       "Name: sentiment, dtype: int64"
      ]
     },
     "execution_count": 9,
     "metadata": {},
     "output_type": "execute_result"
    }
   ],
   "source": [
    "y_train.value_counts()"
   ]
  },
  {
   "cell_type": "code",
   "execution_count": 10,
   "metadata": {},
   "outputs": [],
   "source": [
    "y_train = y_train.apply(lambda x: 1 if x == \"positive\" else 0)"
   ]
  },
  {
   "cell_type": "code",
   "execution_count": 11,
   "metadata": {},
   "outputs": [],
   "source": [
    "y_train = np.asarray(y_train)"
   ]
  },
  {
   "cell_type": "code",
   "execution_count": 12,
   "metadata": {},
   "outputs": [],
   "source": [
    "max_words = 3000\r\n",
    "tokenizer = Tokenizer(num_words=max_words)\r\n",
    "\r\n",
    "tokenizer.fit_on_texts(X_train)"
   ]
  },
  {
   "cell_type": "code",
   "execution_count": 13,
   "metadata": {},
   "outputs": [],
   "source": [
    "dictionary = tokenizer.word_index\r\n",
    "\r\n",
    "with open('dictionary.json', 'w') as dictionary_file:\r\n",
    "    json.dump(dictionary, dictionary_file)"
   ]
  },
  {
   "cell_type": "code",
   "execution_count": 14,
   "metadata": {},
   "outputs": [],
   "source": [
    "def convert_text_to_index_array(text):\r\n",
    "    return [dictionary[word] for word in kpt.text_to_word_sequence(text)]"
   ]
  },
  {
   "cell_type": "code",
   "execution_count": 15,
   "metadata": {},
   "outputs": [],
   "source": [
    "allWordIndices = []\r\n",
    "\r\n",
    "for text in X_train:\r\n",
    "    wordIndices = convert_text_to_index_array(text)\r\n",
    "    allWordIndices.append(wordIndices)"
   ]
  },
  {
   "cell_type": "code",
   "execution_count": 16,
   "metadata": {},
   "outputs": [
    {
     "name": "stderr",
     "output_type": "stream",
     "text": [
      "C:\\Users\\Daniel\\AppData\\Local\\Programs\\Python\\Python37\\lib\\site-packages\\numpy\\core\\_asarray.py:83: VisibleDeprecationWarning: Creating an ndarray from ragged nested sequences (which is a list-or-tuple of lists-or-tuples-or ndarrays with different lengths or shapes) is deprecated. If you meant to do this, you must specify 'dtype=object' when creating the ndarray\n",
      "  return array(a, dtype, copy=False, order=order)\n"
     ]
    }
   ],
   "source": [
    "allWordIndices = np.asarray(allWordIndices)\r\n",
    "\r\n",
    "train_x = tokenizer.sequences_to_matrix(allWordIndices, mode='binary')"
   ]
  },
  {
   "cell_type": "code",
   "execution_count": 17,
   "metadata": {},
   "outputs": [],
   "source": [
    "train_y = keras.utils.to_categorical(y_train, 2)"
   ]
  },
  {
   "cell_type": "code",
   "execution_count": 18,
   "metadata": {},
   "outputs": [],
   "source": [
    "model = Sequential()\r\n",
    "model.add(Dense(512, input_shape=(max_words,), activation='relu'))\r\n",
    "model.add(Dropout(0.5))\r\n",
    "model.add(Dense(256, activation='sigmoid'))\r\n",
    "model.add(Dropout(0.5))\r\n",
    "model.add(Dense(2, activation='softmax'))"
   ]
  },
  {
   "cell_type": "code",
   "execution_count": 19,
   "metadata": {},
   "outputs": [],
   "source": [
    "model.compile(loss='categorical_crossentropy',\r\n",
    "  optimizer='adam',\r\n",
    "  metrics= [\"CategoricalAccuracy\"])"
   ]
  },
  {
   "cell_type": "code",
   "execution_count": 20,
   "metadata": {},
   "outputs": [
    {
     "name": "stdout",
     "output_type": "stream",
     "text": [
      "Epoch 1/5\n",
      "1407/1407 [==============================] - 17s 10ms/step - loss: 0.3311 - categorical_accuracy: 0.8547 - val_loss: 0.2728 - val_categorical_accuracy: 0.8808\n",
      "Epoch 2/5\n",
      "1407/1407 [==============================] - 14s 10ms/step - loss: 0.2496 - categorical_accuracy: 0.8971 - val_loss: 0.2729 - val_categorical_accuracy: 0.8846\n",
      "Epoch 3/5\n",
      "1407/1407 [==============================] - 13s 9ms/step - loss: 0.1986 - categorical_accuracy: 0.9164 - val_loss: 0.2860 - val_categorical_accuracy: 0.8802\n",
      "Epoch 4/5\n",
      "1407/1407 [==============================] - 13s 9ms/step - loss: 0.1251 - categorical_accuracy: 0.9456 - val_loss: 0.3371 - val_categorical_accuracy: 0.8820\n",
      "Epoch 5/5\n",
      "1407/1407 [==============================] - 14s 10ms/step - loss: 0.0770 - categorical_accuracy: 0.9678 - val_loss: 0.4178 - val_categorical_accuracy: 0.8816\n"
     ]
    }
   ],
   "source": [
    "hist_model = model.fit(train_x, train_y,\r\n",
    "  batch_size=32,\r\n",
    "  epochs=5,\r\n",
    "  verbose=1,\r\n",
    "  validation_split=0.1,\r\n",
    "  shuffle=True)"
   ]
  },
  {
   "cell_type": "code",
   "execution_count": 21,
   "metadata": {},
   "outputs": [
    {
     "data": {
      "image/png": "[encoded data removed]",
      "text/plain": [
       "<Figure size 432x288 with 1 Axes>"
      ]
     },
     "metadata": {
      "needs_background": "light"
     },
     "output_type": "display_data"
    }
   ],
   "source": [
    "plt.plot(hist_model.history['loss'], label=' training data')\r\n",
    "plt.plot(hist_model.history['val_loss'], label='validation data)')\r\n",
    "plt.title('Loss for Review sentiment Classification')\r\n",
    "plt.ylabel('Loss value')\r\n",
    "plt.xlabel('No. epoch')\r\n",
    "plt.legend(loc=\"upper left\")\r\n",
    "plt.show()"
   ]
  },
  {
   "cell_type": "code",
   "execution_count": 22,
   "metadata": {},
   "outputs": [
    {
     "data": {
      "image/png": "[encoded data removed]",
      "text/plain": [
       "<Figure size 432x288 with 1 Axes>"
      ]
     },
     "metadata": {
      "needs_background": "light"
     },
     "output_type": "display_data"
    }
   ],
   "source": [
    "plt.plot(hist_model.history['categorical_accuracy'], label='training data')\r\n",
    "plt.plot(hist_model.history['val_categorical_accuracy'], label='validation data')\r\n",
    "plt.title('CategoricalAccuracy for Text Classification')\r\n",
    "plt.ylabel('CategoricalAccuracy value')\r\n",
    "plt.xlabel('No. epoch')\r\n",
    "plt.legend(loc=\"lower right\")\r\n",
    "plt.show()"
   ]
  }
 ],
 "metadata": {
  "interpreter": {
   "hash": "16eb897c26cdfcf18817bc60a8e0737e3939ff1e8491198c807979170104e811"
  },
  "kernelspec": {
   "display_name": "Python 3.7.4 64-bit",
   "name": "python3"
  },
  "language_info": {
   "codemirror_mode": {
    "name": "ipython",
    "version": 3
   },
   "file_extension": ".py",
   "mimetype": "text/x-python",
   "name": "python",
   "nbconvert_exporter": "python",
   "pygments_lexer": "ipython3",
   "version": "3.7.4"
  },
  "orig_nbformat": 2
 },
 "nbformat": 4,
 "nbformat_minor": 2
}