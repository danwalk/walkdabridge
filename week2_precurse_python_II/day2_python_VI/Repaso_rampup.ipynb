{
 "cells": [
  {
   "cell_type": "markdown",
   "metadata": {},
   "source": [
    "## 🐍 Ramp-up\n",
    "\n",
    "Note: The bold words are instructions for you to know how to solve the exercises below that word. For example, if it says **for loop** you should use at least a for loop in order to solve the exercise. "
   ]
  },
  {
   "cell_type": "markdown",
   "metadata": {},
   "source": [
    "#### Collections\n",
    "1. Create a tuple as follows (10,2,27,8)\n",
    "2. Get the lenght of the tuple\n",
    "3. Which type is it? And which type are the elements the tuple contains?\n",
    "4. Create a new tuple with any other 4 strings and concatenate all of them with the tuple you created before by position, creating a list called `words`.\n",
    "5. Make a list with the same elements in question 1. Find the element 27 and make it 37.\n",
    "6. Remove the number 8 from the list.\n",
    "7. Turn the list you made before into a set.\n",
    "8. Check if the element \"3\" is in that set.\n",
    "9. Sort the list you made in exercise 4 in descending order.\n",
    "10. Turn the list `words` into a dictionary. Split every string taking the number in the tuple (10,2,27,8) as the values and the rest as the keys.\n",
    "11. Sum up the values of the new dictionary.\n",
    "12. Sort the values of the dictionary in descending order and the keys in ascending order, then make a list of tuples with every couple of keys and values by position."
   ]
  },
  {
   "cell_type": "code",
   "execution_count": 75,
   "metadata": {},
   "outputs": [
    {
     "output_type": "stream",
     "name": "stdout",
     "text": [
      "(10, 2, 27, 8)\nLength is: 4\nType is: <class 'tuple'>\nType: <class 'int'>\nType: <class 'int'>\nType: <class 'int'>\nType: <class 'int'>\n"
     ]
    }
   ],
   "source": [
    "#Collections 1. 2. 3.\n",
    "\n",
    "mytuple = (10, 2, 27, 8)\n",
    "print(mytuple)\n",
    "print(\"Length is:\", len(mytuple))\n",
    "print(\"Type is:\", type(mytuple))\n",
    "\n",
    "count = 0\n",
    "while count < len(mytuple):\n",
    "    print(\"Type:\", type(mytuple[count]))\n",
    "    count += 1\n"
   ]
  },
  {
   "cell_type": "code",
   "execution_count": 76,
   "metadata": {},
   "outputs": [
    {
     "output_type": "stream",
     "name": "stdout",
     "text": [
      "['Car', 'Van', 'Bus', 'Bike', 10, 2, 27, 8]\n"
     ]
    }
   ],
   "source": [
    "#Collections 4.\n",
    "\n",
    "newtuple = (\"Car\", \"Van\", \"Bus\", \"Bike\")\n",
    "mytuple = list(mytuple)\n",
    "words = list(newtuple)\n",
    "\n",
    "for elem in mytuple:\n",
    "    words.append(elem)\n",
    "\n",
    "print(words)\n"
   ]
  },
  {
   "cell_type": "code",
   "execution_count": 77,
   "metadata": {},
   "outputs": [
    {
     "output_type": "stream",
     "name": "stdout",
     "text": [
      "[10, 2, 37, 8]\n"
     ]
    }
   ],
   "source": [
    "#Collections 5.\n",
    "\n",
    "newlist = [10,2,27,8]\n",
    "\n",
    "for i, elem in enumerate(newlist):\n",
    "    if elem == 27:\n",
    "        newlist[i] = 37\n",
    "\n",
    "print(newlist)\n"
   ]
  },
  {
   "cell_type": "code",
   "execution_count": 78,
   "metadata": {},
   "outputs": [
    {
     "output_type": "stream",
     "name": "stdout",
     "text": [
      "[10, 2, 37]\nType: <class 'set'>\nElement 3 is not in the set\n"
     ]
    }
   ],
   "source": [
    "#Collections 6. 7. 8.\n",
    "\n",
    "newlist.pop()\n",
    "print(newlist)\n",
    "newlist = set(newlist)\n",
    "print(\"Type:\", type(newlist))\n",
    "\n",
    "if \"3\" in newlist:\n",
    "    print(\"Element 3 is in the set\")\n",
    "else:\n",
    "    print(\"Element 3 is not in the set\")\n"
   ]
  },
  {
   "cell_type": "code",
   "execution_count": 79,
   "metadata": {},
   "outputs": [
    {
     "output_type": "stream",
     "name": "stdout",
     "text": [
      "['Car', 'Van', 'Bus', 'Bike', 10, 2, 27, 8]\n"
     ]
    },
    {
     "output_type": "error",
     "ename": "TypeError",
     "evalue": "'<' not supported between instances of 'int' and 'str'",
     "traceback": [
      "\u001b[1;31m---------------------------------------------------------------------------\u001b[0m",
      "\u001b[1;31mTypeError\u001b[0m                                 Traceback (most recent call last)",
      "\u001b[1;32m<ipython-input-79-8ed18aef4e5e>\u001b[0m in \u001b[0;36m<module>\u001b[1;34m\u001b[0m\n\u001b[0;32m      1\u001b[0m \u001b[1;31m#Collections 9.\u001b[0m\u001b[1;33m\u001b[0m\u001b[1;33m\u001b[0m\u001b[1;33m\u001b[0m\u001b[0m\n\u001b[0;32m      2\u001b[0m \u001b[0mprint\u001b[0m\u001b[1;33m(\u001b[0m\u001b[0mwords\u001b[0m\u001b[1;33m)\u001b[0m\u001b[1;33m\u001b[0m\u001b[1;33m\u001b[0m\u001b[0m\n\u001b[1;32m----> 3\u001b[1;33m \u001b[0msorted\u001b[0m\u001b[1;33m(\u001b[0m\u001b[0mwords\u001b[0m\u001b[1;33m,\u001b[0m \u001b[0mreverse\u001b[0m\u001b[1;33m=\u001b[0m\u001b[1;32mFalse\u001b[0m\u001b[1;33m)\u001b[0m\u001b[1;33m\u001b[0m\u001b[1;33m\u001b[0m\u001b[0m\n\u001b[0m\u001b[0;32m      4\u001b[0m \u001b[0mprint\u001b[0m\u001b[1;33m(\u001b[0m\u001b[0mwords\u001b[0m\u001b[1;33m)\u001b[0m\u001b[1;33m\u001b[0m\u001b[1;33m\u001b[0m\u001b[0m\n",
      "\u001b[1;31mTypeError\u001b[0m: '<' not supported between instances of 'int' and 'str'"
     ]
    }
   ],
   "source": [
    "#Collections 9.\n",
    "print(words)\n",
    "sorted(words, reverse=False)\n",
    "print(words)"
   ]
  },
  {
   "cell_type": "code",
   "execution_count": 80,
   "metadata": {},
   "outputs": [
    {
     "output_type": "stream",
     "name": "stdout",
     "text": [
      "['Car', 'Van', 'Bus', 'Bike', '10', '2', '27', '8']\n['10', '2', '27', '8', 'Bike', 'Bus', 'Car', 'Van']\n"
     ]
    }
   ],
   "source": [
    "#Collections 9.\n",
    "\n",
    "for x, elem in enumerate(words):\n",
    "    if isinstance(elem, int):\n",
    "        words[x] = str(elem)\n",
    "\n",
    "print(words)\n",
    "words.sort(reverse=False)\n",
    "print(words)\n"
   ]
  },
  {
   "cell_type": "code",
   "execution_count": 81,
   "metadata": {},
   "outputs": [
    {
     "output_type": "stream",
     "name": "stdout",
     "text": [
      "('10', '2', '27', '8')\n['Bike', 'Bus', 'Car', 'Van']\n{'Bike': '10', 'Bus': '2', 'Car': '27', 'Van': '8'}\n"
     ]
    }
   ],
   "source": [
    "#Collections 10.\n",
    "\n",
    "listtemp = words[0:4]\n",
    "listtemp = tuple(listtemp)\n",
    "print(listtemp)\n",
    "del words[0:4]\n",
    "print(words)\n",
    "\n",
    "dict1 = {}\n",
    "for i in range(len(words)):\n",
    "    dict1[words[i]] = listtemp[i]\n",
    "\n",
    "print(dict1)         "
   ]
  },
  {
   "cell_type": "code",
   "execution_count": 84,
   "metadata": {},
   "outputs": [
    {
     "output_type": "stream",
     "name": "stdout",
     "text": [
      "dict_values(['10', '2', '27', '8'])\n"
     ]
    },
    {
     "output_type": "error",
     "ename": "TypeError",
     "evalue": "unsupported operand type(s) for +: 'int' and 'str'",
     "traceback": [
      "\u001b[1;31m---------------------------------------------------------------------------\u001b[0m",
      "\u001b[1;31mTypeError\u001b[0m                                 Traceback (most recent call last)",
      "\u001b[1;32m<ipython-input-84-dbdae3077cba>\u001b[0m in \u001b[0;36m<module>\u001b[1;34m\u001b[0m\n\u001b[0;32m      3\u001b[0m \u001b[0mx\u001b[0m \u001b[1;33m=\u001b[0m \u001b[0mdict1\u001b[0m\u001b[1;33m.\u001b[0m\u001b[0mvalues\u001b[0m\u001b[1;33m(\u001b[0m\u001b[1;33m)\u001b[0m\u001b[1;33m\u001b[0m\u001b[1;33m\u001b[0m\u001b[0m\n\u001b[0;32m      4\u001b[0m \u001b[0mprint\u001b[0m\u001b[1;33m(\u001b[0m\u001b[0mx\u001b[0m\u001b[1;33m)\u001b[0m\u001b[1;33m\u001b[0m\u001b[1;33m\u001b[0m\u001b[0m\n\u001b[1;32m----> 5\u001b[1;33m \u001b[0msumtotal\u001b[0m \u001b[1;33m=\u001b[0m \u001b[0msum\u001b[0m\u001b[1;33m(\u001b[0m\u001b[0mx\u001b[0m\u001b[1;33m)\u001b[0m\u001b[1;33m\u001b[0m\u001b[1;33m\u001b[0m\u001b[0m\n\u001b[0m\u001b[0;32m      6\u001b[0m \u001b[0mprint\u001b[0m\u001b[1;33m(\u001b[0m\u001b[1;34m\"Sum of total values\"\u001b[0m\u001b[1;33m,\u001b[0m \u001b[0msumtotal\u001b[0m\u001b[1;33m)\u001b[0m\u001b[1;33m\u001b[0m\u001b[1;33m\u001b[0m\u001b[0m\n",
      "\u001b[1;31mTypeError\u001b[0m: unsupported operand type(s) for +: 'int' and 'str'"
     ]
    }
   ],
   "source": [
    "#Collections 11.\n",
    "\n",
    "x = dict1.values()\n",
    "print(x)\n",
    "sumtotal = sum(x)\n",
    "print(\"Sum of total values\", sumtotal)"
   ]
  },
  {
   "cell_type": "code",
   "execution_count": 89,
   "metadata": {},
   "outputs": [
    {
     "output_type": "stream",
     "name": "stdout",
     "text": [
      "10\n2\n27\n8\n[10, 2, 27, 8]\n"
     ]
    }
   ],
   "source": [
    "#Collections 11.\n",
    "\n",
    "sumtotal = []\n",
    "\n",
    "for elem in x:\n",
    "    sumtotal.append(int(elem))\n",
    "    print(elem)\n",
    "\n",
    "print(sumtotal)"
   ]
  },
  {
   "cell_type": "code",
   "execution_count": 90,
   "metadata": {},
   "outputs": [
    {
     "output_type": "stream",
     "name": "stdout",
     "text": [
      "47\n"
     ]
    }
   ],
   "source": [
    "#Collections 11.\n",
    "\n",
    "totalsum = sum(sumtotal)\n",
    "print(totalsum)"
   ]
  },
  {
   "cell_type": "code",
   "execution_count": 100,
   "metadata": {},
   "outputs": [
    {
     "output_type": "stream",
     "name": "stdout",
     "text": [
      "['10', '2', '27', '8']\n['8', '27', '2', '10']\n['Bike', 'Bus', 'Car', 'Van']\n['Bike', 'Bus', 'Car', 'Van']\n"
     ]
    }
   ],
   "source": [
    "#Collections 12.\n",
    "\n",
    "values = list(dict1.values())\n",
    "print(values)\n",
    "values.sort(reverse=True)\n",
    "print(values)\n",
    "\n",
    "keys1 = list(dict1.keys())\n",
    "print(keys1)\n",
    "keys1.sort()\n",
    "print(keys1)\n"
   ]
  },
  {
   "cell_type": "code",
   "execution_count": 103,
   "metadata": {},
   "outputs": [
    {
     "output_type": "stream",
     "name": "stdout",
     "text": [
      "Bike\nBus\nCar\nVan\n[('Bike', '8'), ('Bus', '27'), ('Car', '2'), ('Van', '10')]\n"
     ]
    }
   ],
   "source": [
    "#Collections 12.\n",
    "\n",
    "listoftuples = []\n",
    "\n",
    "for x, elem in enumerate(keys1):\n",
    "    listoftuples.append((keys1[x], values[x]))\n",
    "    print(elem)\n",
    "\n",
    "print(listoftuples)"
   ]
  },
  {
   "cell_type": "markdown",
   "metadata": {},
   "source": [
    "#### Dictionaries\n",
    "\n",
    "1. Make a dictionary containing three major rivers and the country each river runs through. One key-value pair might be 'nile': 'egypt'.\n",
    "\n",
    "    - Use a loop to print a sentence about each river, such as The Nile runs through Egypt.\n",
    "    - Use a loop to print the name of each river included in the dictionary.\n",
    "    - Use a loop to print the name of each country included in the dictionary."
   ]
  },
  {
   "cell_type": "code",
   "execution_count": 104,
   "metadata": {},
   "outputs": [],
   "source": [
    "riverscountry = {\"Thames\": \"UK\", \"Manzanares\": \"Spain\", \"Amazon\": \"Brazil\"}"
   ]
  },
  {
   "cell_type": "code",
   "execution_count": 110,
   "metadata": {},
   "outputs": [
    {
     "output_type": "stream",
     "name": "stdout",
     "text": [
      "The Thames runs through UK\nThe Manzanares runs through Spain\nThe Amazon runs through Brazil\n"
     ]
    }
   ],
   "source": [
    "for elem in riverscountry:\n",
    "    print(\"The\", elem, \"runs through\", riverscountry[elem])"
   ]
  },
  {
   "cell_type": "code",
   "execution_count": 112,
   "metadata": {},
   "outputs": [
    {
     "output_type": "stream",
     "name": "stdout",
     "text": [
      "Thames\nManzanares\nAmazon\nUK\nSpain\nBrazil\n"
     ]
    }
   ],
   "source": [
    "for x in riverscountry:\n",
    "    print(x)\n",
    "\n",
    "for x in riverscountry:\n",
    "    print(riverscountry[x])"
   ]
  },
  {
   "cell_type": "markdown",
   "metadata": {},
   "source": [
    "2. Use the provided dictionary that shows some coders and their favoites languages.\n",
    "```Python\n",
    "favorite_languages = {\n",
    "    'jen': 'python',\n",
    "    'sarah': 'c',\n",
    "    'edward': 'ruby',\n",
    "    'phil': 'python',\n",
    "    }\n",
    "```\n",
    "\n",
    "    - Make a list of people who should take the favorite languages poll. Include some names that are already in the dictionary and some that are not.\n",
    "    - Loop through the list of people who should take the poll. If they have already taken the poll, print a message thanking them for responding. If they have not yet taken the poll, print a message inviting them to take the poll."
   ]
  },
  {
   "cell_type": "code",
   "execution_count": 113,
   "metadata": {},
   "outputs": [],
   "source": [
    "favorite_languages = {'jen': 'python', 'sarah': 'c', 'edward': 'ruby', 'phil': 'python'}"
   ]
  },
  {
   "cell_type": "code",
   "execution_count": 114,
   "metadata": {},
   "outputs": [],
   "source": [
    "poll = [\"phil\", \"daniel\", \"lidia\", \"sarah\", \"richard\", \"ringo\", \"peter\", \"liz\"]"
   ]
  },
  {
   "cell_type": "code",
   "execution_count": 116,
   "metadata": {},
   "outputs": [
    {
     "output_type": "stream",
     "name": "stdout",
     "text": [
      "You have already answered the poll, thank you very much phil\nPlease proceed to answering the poll daniel\nPlease proceed to answering the poll lidia\nYou have already answered the poll, thank you very much sarah\nPlease proceed to answering the poll richard\nPlease proceed to answering the poll ringo\nPlease proceed to answering the poll peter\nPlease proceed to answering the poll liz\n"
     ]
    }
   ],
   "source": [
    "for elem in poll:\n",
    "    if elem in favorite_languages:\n",
    "        print(\"You have already answered the poll, thank you very much\", elem)\n",
    "    else:\n",
    "        print(\"Please proceed to answering the poll\", elem)"
   ]
  },
  {
   "cell_type": "markdown",
   "metadata": {},
   "source": [
    "3. Make a dictionary called cities. Use the names of three cities as keys in your dictionary. Create a dictionary of information about each city and include the country that the city is in, its approximate population, and one fact about that city. The keys for each city’s dictionary should be something like country, population, and fact. Print the name of each city and all of the information you have stored about it.\n",
    "\n",
    "```python\n",
    "cities = {\"city1\":{\"country\": \"bla\"}}\n",
    "```\n",
    "\n",
    "\n"
   ]
  },
  {
   "cell_type": "code",
   "execution_count": 4,
   "metadata": {},
   "outputs": [
    {
     "output_type": "stream",
     "name": "stdout",
     "text": [
      "Torrejon\n{'Country': 'Spain', 'Population': 132853, 'Fact': 'Is home to a promising junior programmer'}\n---------\nLondon\n{'Country': 'England', 'Population': 8982000, 'Fact': 'Is the birthplace of a young junior programmer'}\n---------\nOruro\n{'Country': 'Bolivia', 'Population': 264683, 'Fact': 'Is the birthplace of a certain junior programmers wife'}\n---------\n"
     ]
    }
   ],
   "source": [
    "cities = {\"Torrejon\": {\"Country\": \"Spain\", \"Population\": 132853, \"Fact\": \"Is home to a promising junior programmer\"}, \"London\": {\"Country\": \"England\", \"Population\": 8982000, \"Fact\": \"Is the birthplace of a young junior programmer\"}, \"Oruro\": {\"Country\": \"Bolivia\", \"Population\": 264683, \"Fact\": \"Is the birthplace of a certain junior programmers wife\"}}\n",
    "\n",
    "for elem in cities:\n",
    "    print(elem)\n",
    "    print(cities[elem])\n",
    "    print(\"---------\")\n"
   ]
  },
  {
   "cell_type": "markdown",
   "metadata": {},
   "source": [
    "**for loop**\n",
    "1. This is a fruit list, ['banana', 'orange', 'mango', 'lemon'] reverse the order using a for loop.\n"
   ]
  },
  {
   "cell_type": "code",
   "execution_count": 16,
   "metadata": {},
   "outputs": [],
   "source": [
    "fruits = ['banana', 'orange', 'mango', 'lemon']"
   ]
  },
  {
   "cell_type": "code",
   "execution_count": 17,
   "metadata": {},
   "outputs": [
    {
     "output_type": "stream",
     "name": "stdout",
     "text": [
      "0\n1\n2\n3\n['lemon', 'mango', 'orange', 'banana']\n"
     ]
    }
   ],
   "source": [
    "fruits = ['banana', 'orange', 'mango', 'lemon']\n",
    "fruitsreverse = []\n",
    "for elem in range(len(fruits[::-1])):\n",
    "    print(elem)\n",
    "    fruitsreverse.append(fruits.pop())\n",
    "\n",
    "print(fruitsreverse)\n"
   ]
  },
  {
   "cell_type": "markdown",
   "metadata": {},
   "source": [
    "2. Write a Python program to create the multiplication table (from 1 to 10) of a number.\n",
    "```python\n",
    "Input a number: 5                                                                                             \n",
    "5 x 1 = 5                                                                                                     \n",
    "5 x 2 = 10                                                                                                    \n",
    "5 x 3 = 15                                                                                                    \n",
    "5 x 4 = 20                                                                                                    \n",
    "5 x 5 = 25                                                                                                    \n",
    "5 x 6 = 30                                                                                                    \n",
    "5 x 7 = 35                                                                                                    \n",
    "5 x 8 = 40                                                                                                    \n",
    "5 x 9 = 45                                                                                                    \n",
    "5 x 10 = 50\n",
    "```"
   ]
  },
  {
   "cell_type": "code",
   "execution_count": 20,
   "metadata": {},
   "outputs": [
    {
     "output_type": "stream",
     "name": "stdout",
     "text": [
      "Input a number: 8\n8 x 1 = 8\n8 x 2 = 16\n8 x 3 = 24\n8 x 4 = 32\n8 x 5 = 40\n8 x 6 = 48\n8 x 7 = 56\n8 x 8 = 64\n8 x 9 = 72\n8 x 10 = 80\n"
     ]
    }
   ],
   "source": [
    "inputnumber = int(input(\"Input a number to create multiplication table\"))\n",
    "counter = 1\n",
    "print(\"Input a number:\", inputnumber)\n",
    "while counter < 11:\n",
    "    print(inputnumber, \"x\", counter, \"=\", (inputnumber * counter))\n",
    "    counter += 1\n",
    "\n",
    "counter = 1\n",
    "\n"
   ]
  },
  {
   "cell_type": "markdown",
   "metadata": {},
   "source": [
    "3. Write a Python program which iterates the integers from 1 to 50. For multiples of three print \"Fizz\" instead of the number and for the multiples of five print \"Buzz\". For numbers which are multiples of both three and five print \"FizzBuzz\".\n",
    "```python\n",
    "Sample Output :\n",
    "fizzbuzz\n",
    "1\n",
    "2\n",
    "fizz\n",
    "4\n",
    "buzz\n",
    "```"
   ]
  },
  {
   "cell_type": "code",
   "execution_count": 21,
   "metadata": {},
   "outputs": [
    {
     "output_type": "stream",
     "name": "stdout",
     "text": [
      "Sample Output:\n1\n2\nFizz\n4\nBuzz\nFizz\n7\n8\nFizz\nBuzz\n11\nFizz\n13\n14\nFizzbuzz\n16\n17\nFizz\n19\nBuzz\nFizz\n22\n23\nFizz\nBuzz\n26\nFizz\n28\n29\nFizzbuzz\n31\n32\nFizz\n34\nBuzz\nFizz\n37\n38\nFizz\nBuzz\n41\nFizz\n43\n44\nFizzbuzz\n46\n47\nFizz\n49\nBuzz\n"
     ]
    }
   ],
   "source": [
    "integar = 1\n",
    "print(\"Sample Output:\")\n",
    "\n",
    "while integar <= 50:\n",
    "    if (integar%3 == 0) and (integar%5 == 0):\n",
    "        print(\"Fizzbuzz\")\n",
    "    elif (integar%3 == 0):\n",
    "        print(\"Fizz\")\n",
    "    elif (integar%5 == 0):\n",
    "        print(\"Buzz\")\n",
    "    else:\n",
    "        print(integar)\n",
    "    integar += 1\n",
    "    "
   ]
  },
  {
   "cell_type": "markdown",
   "metadata": {},
   "source": [
    "**functions**\n",
    "\n",
    "1. Write a Python function to check whether a string is a pangram or not. \n",
    "\n",
    "Note : Pangrams are words or sentences containing every letter of the alphabet at least once.\n",
    "    \n",
    "For example : `\"The quick brown fox jumps over the lazy dog\"`"
   ]
  },
  {
   "cell_type": "code",
   "execution_count": 33,
   "metadata": {},
   "outputs": [
    {
     "output_type": "stream",
     "name": "stdout",
     "text": [
      "The quick brown fox jumps over the lazy dog\na Yes\nb Yes\nc Yes\nd Yes\ne Yes\nf Yes\ng Yes\nh Yes\ni Yes\nj Yes\nk Yes\nl Yes\nm Yes\nn Yes\no Yes\np Yes\nq Yes\nr Yes\ns Yes\nt Yes\nu Yes\nv Yes\nw Yes\nx Yes\ny Yes\nz Yes\nThe input is a Pangram as it contains every letter of the alphabet\n"
     ]
    }
   ],
   "source": [
    "inputstring = input(\"Type sentance here to check if pangram\")\n",
    "print(inputstring)\n",
    "inputstring = inputstring.lower()\n",
    "import string\n",
    "alphabet = list(string.ascii_lowercase)\n",
    "\n",
    "def pangramchecker(sentance):\n",
    "    phraselist = list(sentance)\n",
    "    yeslist = 0\n",
    "    for x in alphabet:\n",
    "        if x in phraselist:\n",
    "            print(x, \"Yes\")\n",
    "            yeslist += 1\n",
    "        else:\n",
    "            print(x, \"Not in input sentance\")\n",
    "    if yeslist == 26:\n",
    "        print(\"The input is a Pangram as it contains every letter of the alphabet\")\n",
    "    else:\n",
    "        print(\"The input is not a Pangram as is only contains\", yeslist, \"letters of the alphabet\")\n",
    "\n",
    "\n",
    "c = pangramchecker(inputstring)\n"
   ]
  },
  {
   "cell_type": "code",
   "execution_count": 34,
   "metadata": {},
   "outputs": [
    {
     "output_type": "stream",
     "name": "stdout",
     "text": [
      "Im not sure if the sentance will include every letter of the alphabet IN UPPER or lowercase\na Yes\nb Yes\nc Yes\nd Yes\ne Yes\nf Yes\ng Not in input sentance\nh Yes\ni Yes\nj Not in input sentance\nk Not in input sentance\nl Yes\nm Yes\nn Yes\no Yes\np Yes\nq Not in input sentance\nr Yes\ns Yes\nt Yes\nu Yes\nv Yes\nw Yes\nx Not in input sentance\ny Yes\nz Not in input sentance\nThe input is not a Pangram as is only contains 20 letters of the alphabet\n"
     ]
    }
   ],
   "source": [
    "inputstring = input(\"Type sentance here to check if pangram\")\n",
    "print(inputstring)\n",
    "inputstring = inputstring.lower()\n",
    "import string\n",
    "alphabet = list(string.ascii_lowercase)\n",
    "\n",
    "def pangramchecker(sentance):\n",
    "    phraselist = list(sentance)\n",
    "    yeslist = 0\n",
    "    for x in alphabet:\n",
    "        if x in phraselist:\n",
    "            print(x, \"Yes\")\n",
    "            yeslist += 1\n",
    "        else:\n",
    "            print(x, \"Not in input sentance\")\n",
    "    if yeslist == 26:\n",
    "        print(\"The input is a Pangram as it contains every letter of the alphabet\")\n",
    "    else:\n",
    "        print(\"The input is not a Pangram as is only contains\", yeslist, \"letters of the alphabet\")\n",
    "\n",
    "\n",
    "c = pangramchecker(inputstring)"
   ]
  },
  {
   "cell_type": "markdown",
   "metadata": {},
   "source": [
    "2. Write a Python program to count the number of even and odd numbers from a series of numbers. \n",
    "\n",
    "```python\n",
    "Sample numbers: numbers = (1, 2, 3, 4, 5, 6, 7, 8, 9) \n",
    "    \n",
    "Expected Output:\n",
    "Number of even numbers: 5\n",
    "Number of odd numbers: 4\n",
    "```"
   ]
  },
  {
   "cell_type": "code",
   "execution_count": 37,
   "metadata": {},
   "outputs": [
    {
     "output_type": "stream",
     "name": "stdout",
     "text": [
      "[1, 3, 5, 2, 7, 6, 8, 12, 19, 10]\nNumber of even numbers: 5\nNumber of odd numbers: 5\n"
     ]
    }
   ],
   "source": [
    "inputlistnumbers = [1, 3, 5, 2, 7, 6, 8, 12, 19, 10]\n",
    "\n",
    "def oddandevencounter(list):\n",
    "    evennumbers = []\n",
    "    oddnumbers = []\n",
    "    for x in list:\n",
    "        if x%2 == 0:\n",
    "            evennumbers.append(x)\n",
    "        else:\n",
    "            oddnumbers.append(x)\n",
    "    print(\"Number of even numbers:\", len(evennumbers))\n",
    "    print(\"Number of odd numbers:\", len(oddnumbers))\n",
    "\n",
    "print(inputlistnumbers)\n",
    "oddandevencounter(inputlistnumbers)"
   ]
  },
  {
   "cell_type": "markdown",
   "metadata": {},
   "source": [
    "#### functions & while loop\n",
    "1. Write a program which keeps asking for numbers till the user writes 9999. In that case, the program returns the concatenation of every number as a string.\n"
   ]
  },
  {
   "cell_type": "code",
   "execution_count": 71,
   "metadata": {},
   "outputs": [
    {
     "output_type": "stream",
     "name": "stdout",
     "text": [
      "Numbers typed: 4343532 452 4775 44125 442 8 9999\n"
     ]
    }
   ],
   "source": [
    "userinput = (input(\"input your number\"))\n",
    "\n",
    "def numberbreaker(user):\n",
    "    numberhistory = str(user)\n",
    "    userinputint = int(userinput)\n",
    "    result = 0\n",
    "    nextinput = 0\n",
    "    while result != 1:\n",
    "        if userinput == 9999 or nextinput == 9999:\n",
    "            print(\"Numbers typed:\", numberhistory)\n",
    "            result += 1\n",
    "        else: \n",
    "            newinput = int(input(\"Type another number\"))\n",
    "            numberhistory = numberhistory + \" \" + str(newinput)\n",
    "            nextinput = newinput\n",
    "    \n",
    "      \n",
    "\n",
    "numberbreaker(userinput)\n",
    "\n"
   ]
  },
  {
   "cell_type": "markdown",
   "metadata": {},
   "source": [
    "2. Writes a function that asks a user for a pin code till they get it right... If they give a wrong answer three times the function returns \"Your bank account has been blocked\", otherwise, returns: \"You got it right! You get full access to your money\".\n"
   ]
  },
  {
   "cell_type": "code",
   "execution_count": 73,
   "metadata": {
    "tags": []
   },
   "outputs": [
    {
     "output_type": "stream",
     "name": "stdout",
     "text": [
      "You got it right! You get full access to your money\n"
     ]
    }
   ],
   "source": [
    "pincode = 2345\n",
    "\n",
    "def pincodechecker():\n",
    "    counter = 0\n",
    "    while counter < 4:\n",
    "        usernumber = int(input(\"Type 4 numbers\"))\n",
    "        counter += 1\n",
    "        if usernumber == pincode:\n",
    "            print(\"You got it right! You get full access to your money\")\n",
    "            return\n",
    "        elif counter == 3:\n",
    "            print(\"Your bank account has been blocked\")\n",
    "            return\n",
    "    \n",
    "\n",
    "pincodechecker()\n"
   ]
  },
  {
   "cell_type": "markdown",
   "metadata": {},
   "source": [
    "#### functions & for loop\n",
    "\n",
    "1. Write a function that takes in a person's name, and prints out a greeting.\n",
    "    - The greeting must be at least three lines, and the person's name must be in each line.\n",
    "    - Use your function to greet at least three different people.\n",
    "    - Store your three people in a list, and call your function from a for loop."
   ]
  },
  {
   "cell_type": "code",
   "execution_count": 78,
   "metadata": {},
   "outputs": [
    {
     "output_type": "stream",
     "name": "stdout",
     "text": [
      "Hi Clara, welcome to this program \n its great to greet you Clara \n so have a great day Clara\n------\nHi Monica, welcome to this program \n its great to greet you Monica \n so have a great day Monica\n------\nHi Borja, welcome to this program \n its great to greet you Borja \n so have a great day Borja\n------\n"
     ]
    }
   ],
   "source": [
    "def namegreeter(name):\n",
    "    print(f\"Hi {name}, welcome to this program \\n its great to greet you {name} \\n so have a great day {name}\")\n",
    "\n",
    "namelist = [\"Clara\", \"Monica\", \"Borja\"]\n",
    "\n",
    "for elem in namelist:\n",
    "    namegreeter(elem)\n",
    "    print(\"------\")\n",
    "\n",
    "\n"
   ]
  },
  {
   "cell_type": "markdown",
   "metadata": {},
   "source": [
    "2. Make a list that includes 3 or 4 games that you like to play and print a statement that tells the user what games you like.\n",
    "    - Write a function that asks the user to tell you a game they like, and store the game in a variable such as `new_game`. \n",
    "    - If the user mentions one game you like to play, send a message asking to play together.\n",
    "    - Otherwise ask for another game name. If the user tries your program 3 times and doesn't give a game name you like, then ask them to find another friend."
   ]
  },
  {
   "cell_type": "code",
   "execution_count": 95,
   "metadata": {
    "tags": []
   },
   "outputs": [
    {
     "output_type": "stream",
     "name": "stdout",
     "text": [
      "I like these games ['F1', 'Lego Harry Potter', 'Barbie Fun House', 'Candy Crush']\n",
      "Unfortunatly we dont like the same games, find someone else to play with\n"
     ]
    }
   ],
   "source": [
    "mylist = [\"F1\", \"Lego Harry Potter\", \"Barbie Fun House\", \"Candy Crush\"]\n",
    "print(f\"I like these games {mylist}\")\n",
    "usergame = input(\"Name a game that you like to play\")\n",
    "\n",
    "def gamefriendchecker(game):\n",
    "    count = 0\n",
    "    while count <3:\n",
    "        if count == 2:\n",
    "            print(\"Unfortunatly we dont like the same games, find someone else to play with\")\n",
    "            break\n",
    "        elif game in mylist:\n",
    "            print(\"Lets play the game together!\")\n",
    "            break\n",
    "        else:\n",
    "            userinput2 = (input(\"Please name a different game\"))\n",
    "            if userinput2 in mylist:\n",
    "                print(\"Great lets play the game together!\")\n",
    "                break\n",
    "            else:\n",
    "                count += 1\n",
    "\n",
    "gamefriendchecker(usergame)\n",
    "\n"
   ]
  },
  {
   "cell_type": "markdown",
   "metadata": {},
   "source": [
    "#### write a mini-program\n",
    "**Three is a Crowd**\n",
    "- Make a list of names that includes at least four people.\n",
    "- Write an if test that prints a message about the room being crowded, if there are more than three people in your list.\n",
    "- Modify your list so that there are only two people in it. Use one of the methods for removing people from the list, don't just redefine the list.\n",
    "- Run your if test again. There should be no output this time, because there are less than three people in the list.\n",
    "- Store your if test in a function called something like `crowd_test`.\n",
    "\n"
   ]
  },
  {
   "cell_type": "code",
   "execution_count": 106,
   "metadata": {},
   "outputs": [
    {
     "output_type": "stream",
     "name": "stdout",
     "text": [
      "This group is crowded\n['Koke', 'Saul', 'Trippier', 'Suarez', 'Cholo']\n"
     ]
    }
   ],
   "source": [
    "listofpeople = [\"Koke\", \"Saul\", \"Trippier\", \"Suarez\", \"Cholo\"]\n",
    "\n",
    "def crowd_test(people):\n",
    "    if len(people) > 3:\n",
    "        print(\"This group is crowded\")\n",
    "        print(people)\n",
    "        listofpeople.pop()\n",
    "    else:\n",
    "        return listofpeople\n",
    "        \n",
    "crowd_test(listofpeople)    "
   ]
  },
  {
   "cell_type": "code",
   "execution_count": 104,
   "metadata": {},
   "outputs": [
    {
     "output_type": "stream",
     "name": "stdout",
     "text": [
      "This group is crowded\n['Koke', 'Saul', 'Trippier', 'Suarez']\n"
     ]
    }
   ],
   "source": [
    "crowd_test(listofpeople) "
   ]
  },
  {
   "cell_type": "code",
   "execution_count": 105,
   "metadata": {},
   "outputs": [
    {
     "output_type": "execute_result",
     "data": {
      "text/plain": [
       "['Koke', 'Saul', 'Trippier']"
      ]
     },
     "metadata": {},
     "execution_count": 105
    }
   ],
   "source": [
    "crowd_test(listofpeople) "
   ]
  },
  {
   "cell_type": "markdown",
   "metadata": {},
   "source": [
    "**Three is a Crowd - Part 2**\n",
    "- Save your program from *Three is a Crowd* under a new name.\n",
    "- Add an `else` statement to your if tests. If the `else` statement is run, have it print a message that the room is not very crowded.\n"
   ]
  },
  {
   "cell_type": "code",
   "execution_count": 108,
   "metadata": {},
   "outputs": [
    {
     "output_type": "execute_result",
     "data": {
      "text/plain": [
       "'The room is not very crowded'"
      ]
     },
     "metadata": {},
     "execution_count": 108
    }
   ],
   "source": [
    "def crowd_test_else(people):\n",
    "    if len(people) > 3:\n",
    "        print(\"This group is crowded\")\n",
    "        print(people)\n",
    "        listofpeople.pop()\n",
    "    else:\n",
    "        return \"The room is not very crowded\"\n",
    "\n",
    "crowd_test_else(listofpeople)"
   ]
  },
  {
   "cell_type": "markdown",
   "metadata": {},
   "source": [
    "\n",
    "**Six is a Mob**\n",
    "- Save your program from *Three is a Crowd - Part 2* under a new name.\n",
    "- Add some names to your list, so that there are at least six people in the list.\n",
    "- Modify your tests so that\n",
    "    - If there are more than 5 people, a message is printed about there being a mob in the room.\n",
    "    - If there are 3-5 people, a message is printed about the room being crowded.\n",
    "    - If there are 1 or 2 people, a message is printed about the room not being crowded.\n",
    "    - If there are no people in the room, a message is printed abou the room being empty."
   ]
  },
  {
   "cell_type": "code",
   "execution_count": 114,
   "metadata": {},
   "outputs": [],
   "source": [
    "listofmob = [\"Koke\", \"Saul\", \"Trippier\", \"Suarez\", \"Cholo\", \"Correa\"]\n"
   ]
  },
  {
   "cell_type": "code",
   "execution_count": 116,
   "metadata": {},
   "outputs": [
    {
     "output_type": "stream",
     "name": "stdout",
     "text": [
      "This group is a MOB\n['Koke', 'Saul', 'Trippier', 'Suarez', 'Cholo', 'Correa']\n"
     ]
    }
   ],
   "source": [
    "def mob_test(people):\n",
    "    if len(people) > 5:\n",
    "        print(\"This group is a MOB\")\n",
    "        print(people)\n",
    "    elif len(people) >= 3 and len(people) <= 5:      #Aqui entiendo que con solo el >= 3 tambien valdria porque si era 6, hubiese entrado en el if anterior\n",
    "        print(\"This room is crowded\")\n",
    "        print(people)\n",
    "    elif len(people) >= 1 and len(people) <= 2:\n",
    "        print(\"This room is not crowded\")\n",
    "        print(people)\n",
    "    else:\n",
    "        return \"The room is empty\"\n",
    "\n",
    "mob_test(listofmob)"
   ]
  }
 ],
 "metadata": {
  "kernelspec": {
   "name": "python374jvsc74a57bd016eb897c26cdfcf18817bc60a8e0737e3939ff1e8491198c807979170104e811",
   "display_name": "Python 3.7.4 64-bit"
  },
  "language_info": {
   "codemirror_mode": {
    "name": "ipython",
    "version": 3
   },
   "file_extension": ".py",
   "mimetype": "text/x-python",
   "name": "python",
   "nbconvert_exporter": "python",
   "pygments_lexer": "ipython3",
   "version": "3.7.4-final"
  },
  "metadata": {
   "interpreter": {
    "hash": "16eb897c26cdfcf18817bc60a8e0737e3939ff1e8491198c807979170104e811"
   }
  }
 },
 "nbformat": 4,
 "nbformat_minor": 4
}