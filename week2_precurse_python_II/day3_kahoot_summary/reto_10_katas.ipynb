{
 "cells": [
  {
   "cell_type": "markdown",
   "metadata": {},
   "source": [
    "# Reto ¡a por el 10!"
   ]
  },
  {
   "cell_type": "markdown",
   "metadata": {},
   "source": [
    "Quizás aún no conoces Codewars, pero es una plataforma de Katas. Las Katas son pequeños ejercicios que resolver con los diferentes lenguajes de programación existentes y por niveles, conocidos como Kyu.\n",
    "\n",
    "El nivel por el que empezarás es el nivel 8kyu y el objetivo será que durante el Bootcamp, al menos llegues al 5kyu empezando este mismo fin de semana con este reto. "
   ]
  },
  {
   "cell_type": "markdown",
   "metadata": {},
   "source": [
    "1. Hazte una cuenta en https://www.codewars.com/ (Súper recomendable vincularlo a tu cuenta de Github)\n",
    "2. Una vez tengas cuenta, envía tu usuario de **codewars** a `clara.piniella@thebridgeschool.es` (VERY IMPORTANT)\n",
    "3. Ve accediendo a las diferentes Katas propuestas más abajo.\n",
    "4. Pulsa `Train`\n",
    "5. En este punto deberás definir una función que de solución al problema planteado. \n",
    "6. Una vez tengas una buena propuesta, dale al `Test`, esto te indicará los errores, si los tuvieras.\n",
    "7. Si sin embargo, has pasado todos los test con éxito, pulsa `Attempt`\n",
    "8. Una vez pulses al `Attempt` y si no has tenido fallos, estate segura de haberlo hecho correctamente si puedes ver las soluciones de otros usuarios, entonces ¡has terminado la kata!\n",
    "\n",
    "No te preocupes por decirnos que la has acabado, si nos has dado tu usuario y la has completado con éxito, ya lo podemos ver ;) "
   ]
  },
  {
   "cell_type": "markdown",
   "metadata": {},
   "source": [
    "### Las Katas\n",
    "\n",
    "\"Easy peasy lemon squeezy\" --> https://www.youtube.com/watch?v=QEanm-gvQ94"
   ]
  },
  {
   "cell_type": "markdown",
   "metadata": {},
   "source": [
    "Las katas `Easy` serán obligatorias para algunos de vosotros, es por esto que dejo por aquí los enunciados. No hay excusa. Idealmente deberían estar resueltas en **codewars**, de hecho, para participar en el reto, deberán estar resueltas en la propia plataforma."
   ]
  },
  {
   "cell_type": "markdown",
   "metadata": {},
   "source": [
    "#### Easy\n",
    "Si realmente te es imposible hacerlo en Codewars, recuerda que es obligatorio resolver todos los ejercicios con una función. En este caso, envíanos tus soluciones en formato `.ipynb` a los cuatro profesores por email antes del lunes a las 9:15."
   ]
  },
  {
   "cell_type": "markdown",
   "metadata": {},
   "source": [
    "- https://www.codewars.com/kata/54d1c59aba326343c80000e7\n",
    "    \n",
    "This method, which is supposed to return the result of dividing its first argument by its second, isn't always returning correct values. Fix it.\n",
    "\n",
    "```python\n",
    "def divide_numbers(x,y):\n",
    "    return x // y\n",
    "```"
   ]
  },
  {
   "cell_type": "code",
   "execution_count": null,
   "metadata": {},
   "outputs": [],
   "source": []
  },
  {
   "cell_type": "markdown",
   "metadata": {},
   "source": [
    "- https://www.codewars.com/kata/53da3dbb4a5168369a0000fe\n",
    "\n",
    "Create a function that takes an integer as an argument and returns \"Even\" for even numbers or \"Odd\" for odd numbers."
   ]
  },
  {
   "cell_type": "code",
   "execution_count": null,
   "metadata": {},
   "outputs": [],
   "source": []
  },
  {
   "cell_type": "markdown",
   "metadata": {},
   "source": [
    "- https://www.codewars.com/kata/582cb0224e56e068d800003c\n",
    "\n",
    "Nathan loves cycling. Because Nathan knows it is important to stay hydrated, he drinks 0.5 litres of water per hour of cycling.\n",
    "You get given the time in hours and you need to return the number of litres Nathan will drink, rounded to the smallest value.\n",
    "\n",
    "For example:\n",
    "```python\n",
    "time = 3 ----> litres = 1\n",
    "time = 6.7---> litres = 3\n",
    "time = 11.8--> litres = 5\n",
    "```"
   ]
  },
  {
   "cell_type": "code",
   "execution_count": null,
   "metadata": {},
   "outputs": [],
   "source": []
  },
  {
   "cell_type": "markdown",
   "metadata": {},
   "source": [
    "- https://www.codewars.com/kata/55a2d7ebe362935a210000b2\n",
    "\n",
    "It's pretty straightforward. Your goal is to create a function that removes the first and last characters of a string. You're given one parameter, the original string. You don't have to worry with strings with less than two characters."
   ]
  },
  {
   "cell_type": "code",
   "execution_count": null,
   "metadata": {},
   "outputs": [],
   "source": []
  },
  {
   "cell_type": "markdown",
   "metadata": {},
   "source": [
    "#### Peasy\n",
    "\n",
    "Si vas a hacer las Katas de este nivel, es porque ya sabes hacer las de `Easy` y además en **codewars**, así que te recuerdo que en caso de hacerlas correctamente y nos has dado tu usuario, no hace falta que nos digas que la has terminado.\n",
    "\n",
    "- https://www.codewars.com/kata/5506b230a11c0aeab3000c1f\n",
    "- https://www.codewars.com/kata/59377c53e66267c8f6000027\n",
    "- https://www.codewars.com/kata/5ae7e3f068e6445bc8000046"
   ]
  },
  {
   "cell_type": "markdown",
   "metadata": {},
   "source": [
    "#### Lemon Squeezy\n",
    "\n",
    "- https://www.codewars.com/kata/55b95c76e08bd5eef100001e/solutions/python\n",
    "- https://www.codewars.com/kata/5e2596a9ad937f002e510435/\n",
    "- https://www.codewars.com/kata/5d4c6809089c6e5031f189ed"
   ]
  },
  {
   "cell_type": "code",
   "execution_count": 75,
   "metadata": {},
   "outputs": [
    {
     "output_type": "execute_result",
     "data": {
      "text/plain": [
       "[1, 2, 123]"
      ]
     },
     "metadata": {},
     "execution_count": 75
    }
   ],
   "source": [
    "#filter_list([1,2,'aasf','1','123',123]) == [1,2,123]\n",
    "def filter_list(l):\n",
    "    q = [e for e in l if isinstance(e, int)]\n",
    "    return q\n",
    "\n",
    "\n",
    "\n",
    "filter_list([1,2,'aasf','1','123',123])"
   ]
  },
  {
   "cell_type": "code",
   "execution_count": 99,
   "metadata": {},
   "outputs": [],
   "source": [
    "big_list_of_lists = [['40', '20', '10', '30'], ['20', '20', '20', '20', '20', '30', '20'], \\\n",
    "['30', '20', '30', '50', '10', '30', '20', '20', '20'], ['100', '100'], ['100', '100', '100', '100', '100'], \\\n",
    "['100', '100', '100', '100']]\n",
    "numbers = (\"4 5 29 54 4 0 -214 542 -64 1 -3 6 -6\")"
   ]
  },
  {
   "cell_type": "code",
   "execution_count": 120,
   "metadata": {},
   "outputs": [
    {
     "output_type": "stream",
     "name": "stdout",
     "text": [
      "542 -214\n"
     ]
    }
   ],
   "source": [
    "numbers = (\"4 5 29 54 4 0 -214 542 -64 1 -3 6 -6\")\n",
    "num = []\n",
    "for word in numbers.split():\n",
    "   if word.lstrip('-').isdigit():\n",
    "      num.append(int(word))\n",
    "maxnum= max(num)\n",
    "minnum= min(num)\n",
    "print(f'{maxnum} {minnum}')\n",
    "\n"
   ]
  },
  {
   "cell_type": "code",
   "execution_count": 123,
   "metadata": {},
   "outputs": [
    {
     "output_type": "execute_result",
     "data": {
      "text/plain": [
       "'542 -214'"
      ]
     },
     "metadata": {},
     "execution_count": 123
    }
   ],
   "source": [
    "def high_and_low(numbers): #z.\n",
    "    nn = [int(s) for s in numbers.split(\" \")]\n",
    "    return \"%i %i\" % (max(nn),min(nn))\n",
    "\n",
    "high_and_low(numbers)"
   ]
  },
  {
   "cell_type": "code",
   "execution_count": 125,
   "metadata": {},
   "outputs": [
    {
     "output_type": "execute_result",
     "data": {
      "text/plain": [
       "'542 -214'"
      ]
     },
     "metadata": {},
     "execution_count": 125
    }
   ],
   "source": [
    "def high_and_low(numbers):\n",
    "  n = list(map(int, numbers.split(' ')))\n",
    "  return str(max(n)) + ' ' + str(min(n))\n",
    "\n",
    "high_and_low(numbers)"
   ]
  },
  {
   "cell_type": "code",
   "execution_count": null,
   "metadata": {},
   "outputs": [],
   "source": []
  },
  {
   "cell_type": "code",
   "execution_count": 74,
   "metadata": {},
   "outputs": [
    {
     "output_type": "execute_result",
     "data": {
      "text/plain": [
       "(['terminator', 'alien', 'zombieland', 'predator'], 152000)"
      ]
     },
     "metadata": {},
     "execution_count": 74
    }
   ],
   "source": [
    "file_1 = {\"name\": \"alien\", \"size_GB\": 38, \"speed_Mbps\": 38}\n",
    "file_2 = {\"name\": \"predator\", \"size_GB\": 38, \"speed_Mbps\": 2}\n",
    "file_3 = {\"name\": \"terminator\", \"size_GB\": 5, \"speed_Mbps\": 25}\n",
    "file_4 = {\"name\": \"zombieland\", \"size_GB\": 38, \"speed_Mbps\": 38}\n",
    "\n",
    "files = [file_4, file_1, file_3, file_2]\n",
    "\n",
    "def torrent(files):\n",
    "    w = {}\n",
    "    x = list(range(len(files)))\n",
    "    for i in x:\n",
    "        files[i][\"total_time\"] = int(((files[i][\"size_GB\"]*8)/files[i][\"speed_Mbps\"])*1000)\n",
    "        count = 0\n",
    "    while count < 4:\n",
    "        for g in files:\n",
    "            w[g[\"name\"]] = g[\"total_time\"]\n",
    "            count +=1\n",
    "    sortedDict = dict(sorted(w.items(), key=lambda x: x[0].lower()))\n",
    "    all_values = sortedDict.values()\n",
    "    max_value = max(all_values)\n",
    "    e = sorted(sortedDict, key=sortedDict.get)\n",
    "    return (e,max_value)\n",
    "    \n",
    "\n",
    "torrent(files)"
   ]
  },
  {
   "cell_type": "code",
   "execution_count": 64,
   "metadata": {},
   "outputs": [
    {
     "output_type": "stream",
     "name": "stdout",
     "text": [
      "{'alien': 8000}\n"
     ]
    }
   ],
   "source": [
    "c = {file_1[\"name\"]:file_1[\"total_time\"]}\n",
    "print(c)"
   ]
  },
  {
   "cell_type": "code",
   "execution_count": 65,
   "metadata": {},
   "outputs": [
    {
     "output_type": "stream",
     "name": "stdout",
     "text": [
      "{'name': 'zombieland', 'size_GB': 38, 'speed_Mbps': 38, 'total_time': 8000}\n{'name': 'alien', 'size_GB': 38, 'speed_Mbps': 38, 'total_time': 8000}\n"
     ]
    }
   ],
   "source": [
    "w = {}\n",
    "count = 0\n",
    "while count < 2:\n",
    "    for g in files:\n",
    "        w[g[\"name\"]] = g[\"total_time\"]\n",
    "        count +=1\n",
    "        print(g)    "
   ]
  },
  {
   "cell_type": "code",
   "execution_count": 66,
   "metadata": {},
   "outputs": [
    {
     "output_type": "stream",
     "name": "stdout",
     "text": [
      "{'zombieland': 8000, 'alien': 8000}\n"
     ]
    }
   ],
   "source": [
    "print(w)"
   ]
  },
  {
   "cell_type": "code",
   "execution_count": null,
   "metadata": {},
   "outputs": [],
   "source": []
  },
  {
   "cell_type": "code",
   "execution_count": 67,
   "metadata": {},
   "outputs": [
    {
     "output_type": "stream",
     "name": "stdout",
     "text": [
      "['zombieland', 'alien']\n"
     ]
    }
   ],
   "source": [
    "e = sorted(w, key=w.get)\n",
    "print(e)"
   ]
  },
  {
   "cell_type": "code",
   "execution_count": 68,
   "metadata": {},
   "outputs": [
    {
     "output_type": "stream",
     "name": "stdout",
     "text": [
      "8000\n"
     ]
    }
   ],
   "source": [
    "all_values = w.values()\n",
    "max_value = max(all_values)\n",
    "print(max_value)"
   ]
  },
  {
   "cell_type": "code",
   "execution_count": 69,
   "metadata": {},
   "outputs": [
    {
     "output_type": "stream",
     "name": "stdout",
     "text": [
      "{'alien': 8000}\n"
     ]
    }
   ],
   "source": [
    "print(c)"
   ]
  },
  {
   "cell_type": "code",
   "execution_count": null,
   "metadata": {},
   "outputs": [],
   "source": [
    "        (\"0000000010\", 100),\n",
    "        (\"000001XXXX0010X1X00010\", 100),\n",
    "        (\"X00X000000X10X0100\",42.857142857142854),"
   ]
  },
  {
   "cell_type": "code",
   "execution_count": 140,
   "metadata": {},
   "outputs": [
    {
     "output_type": "execute_result",
     "data": {
      "text/plain": [
       "42.857142857142854"
      ]
     },
     "metadata": {},
     "execution_count": 140
    }
   ],
   "source": [
    "s = \"X00X000000X10X0100\"\n",
    "\n",
    "def virusprog(s):\n",
    "    temp = []\n",
    "    count = 0\n",
    "    totpop = 0\n",
    "    for x in s:\n",
    "        if x == \"0\":\n",
    "            temp.append(int(x))\n",
    "            totpop +=1\n",
    "        elif x == \"1\":\n",
    "            temp.append(int(x))\n",
    "            totpop +=1\n",
    "        else:\n",
    "            if sum(temp) > 0:\n",
    "                count = count + len(temp)\n",
    "                temp = []\n",
    "            else:\n",
    "                temp = []\n",
    "    if sum(temp) > 0:\n",
    "        count = count + len(temp)\n",
    "        temp = []\n",
    "        return (count / totpop)*100\n",
    "    else:\n",
    "        if totpop == 0:\n",
    "            return 0\n",
    "        else:\n",
    "            return (count / totpop)*100\n",
    "\n",
    "virusprog(s)"
   ]
  },
  {
   "cell_type": "code",
   "execution_count": 141,
   "metadata": {},
   "outputs": [
    {
     "output_type": "execute_result",
     "data": {
      "text/plain": [
       "42.857142857142854"
      ]
     },
     "metadata": {},
     "execution_count": 141
    }
   ],
   "source": [
    "s = \"X00X000000X10X0100\"\n",
    "\n",
    "def infected(s):\n",
    "    lands = s.split('X')\n",
    "    total = sum(map(len, lands))\n",
    "    infected = sum(len(x) for x in lands if '1' in x)\n",
    "    return infected * 100 / (total or 1)\n",
    "\n",
    "infected(s)"
   ]
  },
  {
   "cell_type": "code",
   "execution_count": null,
   "metadata": {},
   "outputs": [],
   "source": []
  },
  {
   "cell_type": "code",
   "execution_count": 143,
   "metadata": {},
   "outputs": [
    {
     "output_type": "stream",
     "name": "stdout",
     "text": [
      "1\n"
     ]
    }
   ],
   "source": [
    "#test.assert_equals(make_readable(0), \"00:00:00\")\n",
    "#test.assert_equals(make_readable(5), \"00:00:05\")\n",
    "#test.assert_equals(make_readable(60), \"00:01:00\")\n",
    "#test.assert_equals(make_readable(86399), \"23:59:59\")\n",
    "#test.assert_equals(make_readable(359999), \"99:59:59\")\n",
    "\n",
    "a = 61\n",
    "\n",
    "b = int(a/60)\n",
    "print(b)\n",
    "\n",
    "c = \n"
   ]
  },
  {
   "cell_type": "code",
   "execution_count": 146,
   "metadata": {},
   "outputs": [
    {
     "output_type": "execute_result",
     "data": {
      "text/plain": [
       "'00:00:05'"
      ]
     },
     "metadata": {},
     "execution_count": 146
    }
   ],
   "source": [
    "def secondsToTime(seconds):\n",
    "\tminutes, seconds = divmod(seconds, 60)\n",
    "\thours, minutes = divmod(minutes, 60)\n",
    "\treturn \"%02d:%02d:%02d\" % (hours, minutes, seconds)\n",
    "\n",
    "secondsToTime(5)"
   ]
  },
  {
   "cell_type": "code",
   "execution_count": null,
   "metadata": {},
   "outputs": [],
   "source": [
    "def make_readable(s):\n",
    "    return '{:02}:{:02}:{:02}'.format(s / 3600, s / 60 % 60, s % 60)"
   ]
  },
  {
   "cell_type": "code",
   "execution_count": null,
   "metadata": {},
   "outputs": [],
   "source": []
  },
  {
   "cell_type": "code",
   "execution_count": 152,
   "metadata": {},
   "outputs": [
    {
     "output_type": "execute_result",
     "data": {
      "text/plain": [
       "True"
      ]
     },
     "metadata": {},
     "execution_count": 152
    }
   ],
   "source": [
    "pangram = \"The quick, brown fox jumps over the lazy dog!\"\n",
    "\n",
    "def is_pangram(s):\n",
    "    s = s.lower()\n",
    "    letters = [\"a\", \"b\", \"c\", \"d\", \"e\", \"f\", \"g\", \"h\", \"i\", \"j\", \"k\", \"l\", \"m\", \"n\", \"o\", \"p\", \"q\", \"r\", \"s\", \"t\", \"u\", \"v\", \"w\", \"x\", \"y\", \"z\"]\n",
    "    count = 0\n",
    "    for x in letters:\n",
    "        if x in s:\n",
    "            count +=1\n",
    "    if count == 26:\n",
    "        return True\n",
    "    else:\n",
    "        return False\n",
    "\n",
    "is_pangram(pangram)"
   ]
  },
  {
   "cell_type": "code",
   "execution_count": 163,
   "metadata": {},
   "outputs": [
    {
     "output_type": "execute_result",
     "data": {
      "text/plain": [
       "5"
      ]
     },
     "metadata": {},
     "execution_count": 163
    }
   ],
   "source": [
    "myl = [20,1,-1,2,-2,3,3,5,5,1,2,4,20,4,-1,-2,5]\n",
    "\n",
    "def countX(list):\n",
    "    newlist = set(list)\n",
    "    for elem in newlist:\n",
    "        if list.count(elem)%2 != 0:\n",
    "            return elem\n",
    "   \n",
    "countX(myl)\n"
   ]
  },
  {
   "cell_type": "code",
   "execution_count": null,
   "metadata": {},
   "outputs": [],
   "source": [
    "def find_it(seq):\n",
    "    for i in seq:\n",
    "        if seq.count(i)%2!=0:\n",
    "            return i"
   ]
  },
  {
   "cell_type": "code",
   "execution_count": 241,
   "metadata": {},
   "outputs": [
    {
     "output_type": "execute_result",
     "data": {
      "text/plain": [
       "3"
      ]
     },
     "metadata": {},
     "execution_count": 241
    }
   ],
   "source": [
    "def zero(*n):\n",
    "    try:\n",
    "        if n[0][0] == \"d\":\n",
    "            y = 0 / n[0][1]\n",
    "            return int(y)\n",
    "        elif n[0][0] == \"p\":\n",
    "            y = 0 + n[0][1]\n",
    "            return int(y)\n",
    "        elif n[0][0] == \"m\":\n",
    "            y = 0 - n[0][1]\n",
    "            return int(y)\n",
    "        elif n[0][0] == \"t\":\n",
    "            y = 0 * n[0][1]\n",
    "            return int(y)\n",
    "    except:\n",
    "        return 0\n",
    "def one(*n):\n",
    "    try:\n",
    "        if n[0][0] == \"d\":\n",
    "            y = 1 / n[0][1]\n",
    "            return int(y)\n",
    "        elif n[0][0] == \"p\":\n",
    "            y = 1 + n[0][1]\n",
    "            return int(y)\n",
    "        elif n[0][0] == \"m\":\n",
    "            y = 1 - n[0][1]\n",
    "            return int(y)\n",
    "        elif n[0][0] == \"t\":\n",
    "            y = 1* n[0][1]\n",
    "            return int(y)\n",
    "    except:\n",
    "        return 1\n",
    "def two(*n):\n",
    "    try:\n",
    "        if n[0][0] == \"d\":\n",
    "            y = 2 / n[0][1]\n",
    "            return int(y)\n",
    "        elif n[0][0] == \"p\":\n",
    "            y = 2 + n[0][1]\n",
    "            return int(y)\n",
    "        elif n[0][0] == \"m\":\n",
    "            y = 2 - n[0][1]\n",
    "            return int(y)\n",
    "        elif n[0][0] == \"t\":\n",
    "            y = 2* n[0][1]\n",
    "            return int(y)\n",
    "    except:\n",
    "        return 2\n",
    "\n",
    "def three(*n):\n",
    "    try:\n",
    "        if n[0][0] == \"d\":\n",
    "            y = 3 / n[0][1]\n",
    "            return int(y)\n",
    "        elif n[0][0] == \"p\":\n",
    "            y = 3 + n[0][1]\n",
    "            return int(y)\n",
    "        elif n[0][0] == \"m\":\n",
    "            y = 3 - n[0][1]\n",
    "            return int(y)\n",
    "        elif n[0][0] == \"t\":\n",
    "            y = 3* n[0][1]\n",
    "            return int(y)\n",
    "    except:\n",
    "        return 3\n",
    "\n",
    "def four(*n):\n",
    "    try:\n",
    "        if n[0][0] == \"d\":\n",
    "            y = 4 / n[0][1]\n",
    "            return int(y)\n",
    "        elif n[0][0] == \"p\":\n",
    "            y = 4 + n[0][1]\n",
    "            return int(y)\n",
    "        elif n[0][0] == \"m\":\n",
    "            y = 4 - n[0][1]\n",
    "            return int(y)\n",
    "        elif n[0][0] == \"t\":\n",
    "            y = 4* n[0][1]\n",
    "            return int(y)\n",
    "    except:\n",
    "        return 4\n",
    "\n",
    "def five(*n):\n",
    "    try:\n",
    "        if n[0][0] == \"d\":\n",
    "            y = 5 / n[0][1]\n",
    "            return int(y)\n",
    "        elif n[0][0] == \"p\":\n",
    "            y = 5 + n[0][1]\n",
    "            return int(y)\n",
    "        elif n[0][0] == \"m\":\n",
    "            y = 5 - n[0][1]\n",
    "            return int(y)\n",
    "        elif n[0][0] == \"t\":\n",
    "            y = 5* n[0][1]\n",
    "            return int(y)\n",
    "    except:\n",
    "        return 5\n",
    "\n",
    "def six(*n):\n",
    "    try:\n",
    "        if n[0][0] == \"d\":\n",
    "            y = 6 / n[0][1]\n",
    "            return int(y)\n",
    "        elif n[0][0] == \"p\":\n",
    "            y = 6 + n[0][1]\n",
    "            return int(y)\n",
    "        elif n[0][0] == \"m\":\n",
    "            y = 6 - n[0][1]\n",
    "            return int(y)\n",
    "        elif n[0][0] == \"t\":\n",
    "            y = 6 * n[0][1]\n",
    "            return int(y)\n",
    "    except:\n",
    "        return 6\n",
    "\n",
    "def seven(*n):\n",
    "    try:\n",
    "        if n[0][0] == \"d\":\n",
    "            y = 7 / n[0][1]\n",
    "            return int(y)\n",
    "        elif n[0][0] == \"p\":\n",
    "            y = 7 + n[0][1]\n",
    "            return int(y)\n",
    "        elif n[0][0] == \"m\":\n",
    "            y = 7 - n[0][1]\n",
    "            return int(y)\n",
    "        elif n[0][0] == \"t\":\n",
    "            y = 7 * n[0][1]\n",
    "            return int(y)\n",
    "    except:\n",
    "        return 7\n",
    "\n",
    "def eight(*n):\n",
    "    try:\n",
    "        if n[0][0] == \"d\":\n",
    "            y = 8 / n[0][1]\n",
    "            return int(y)\n",
    "        elif n[0][0] == \"p\":\n",
    "            y = 8 + n[0][1]\n",
    "            return int(y)\n",
    "        elif n[0][0] == \"m\":\n",
    "            y = 8 - n[0][1]\n",
    "            return int(y)\n",
    "        elif n[0][0] == \"t\":\n",
    "            y = 8 * n[0][1]\n",
    "            return int(y)\n",
    "    except:\n",
    "        return 8\n",
    "def nine(*n):\n",
    "    try:\n",
    "        if n[0][0] == \"d\":\n",
    "            y = 9 / n[0][1]\n",
    "            return int(y)\n",
    "        elif n[0][0] == \"p\":\n",
    "            y = 9 + n[0][1]\n",
    "            return int(y)\n",
    "        elif n[0][0] == \"m\":\n",
    "            y = 9 - n[0][1]\n",
    "            return int(y)\n",
    "        elif n[0][0] == \"t\":\n",
    "            y = 9 * n[0][1]\n",
    "            return int(y)\n",
    "    except:\n",
    "         return 9\n",
    "\n",
    "def plus(x):\n",
    "    y = x\n",
    "    return (\"p\", y)\n",
    "def minus(x):\n",
    "    y = x\n",
    "    return (\"m\", y)\n",
    "def times(x):\n",
    "    y = x\n",
    "    return (\"t\", y)\n",
    "def divided_by(x):\n",
    "    y = x\n",
    "    return (\"d\", y)\n",
    "\n",
    "\n",
    "six(divided_by(two()))\n",
    "\n"
   ]
  },
  {
   "cell_type": "code",
   "execution_count": null,
   "metadata": {},
   "outputs": [],
   "source": []
  },
  {
   "cell_type": "code",
   "execution_count": 10,
   "metadata": {},
   "outputs": [
    {
     "output_type": "stream",
     "name": "stdout",
     "text": [
      "['this', 'is', 'an', 'awesome', 'text']\n[2, 7, 2, 4, 4]\n"
     ]
    }
   ],
   "source": [
    "test = \"this is an awesome text\"\n",
    "\n",
    "x = test.split(\" \")\n",
    "\n",
    "print(x)\n",
    "x.sort()\n",
    "b = []\n",
    "for elem in x:\n",
    "    b.append(len(elem))\n",
    "print(b)\n",
    "\n",
    "\n"
   ]
  },
  {
   "cell_type": "code",
   "execution_count": null,
   "metadata": {},
   "outputs": [],
   "source": [
    "a_list = [\"a_string\", \"the_longest_string\", \"string\"]\n",
    "longest_string = max(a_list, key=len)"
   ]
  },
  {
   "cell_type": "code",
   "execution_count": 36,
   "metadata": {},
   "outputs": [
    {
     "output_type": "execute_result",
     "data": {
      "text/plain": [
       "'20 8 5 19 21 14 19 5 20 19 5 20 19 1 20 20 23 5 12 22 5 15 3 12 15 3 11'"
      ]
     },
     "metadata": {},
     "execution_count": 36
    }
   ],
   "source": [
    "text = \"The sunset sets at twelve o' clock.\"\n",
    "\n",
    "def alphabet_position(txt):\n",
    "    al = [\"a\", \"b\", \"c\", \"d\", \"e\", \"f\", \"g\", \"h\", \"i\", \"j\", \"k\", \"l\" ,\"m\", \"n\", \"o\", \"p\", \"q\", \"r\", \"s\", \"t\", \"u\", \"v\", \"w\", \"x\", \"y\", \"z\"]\n",
    "    num = list(range(27))\n",
    "    num = num[1:27]\n",
    "    dic = dict(zip(al, num))\n",
    "    positionlist = []\n",
    "    for x in txt.lower():\n",
    "        try:\n",
    "            positionlist.append(dic[x])\n",
    "        except:\n",
    "            None\n",
    "    listToStr = ' '.join([str(elem) for elem in positionlist])\n",
    "    return (listToStr)\n",
    "    pass\n",
    "\n",
    "alphabet_position(text)"
   ]
  },
  {
   "cell_type": "code",
   "execution_count": 47,
   "metadata": {},
   "outputs": [
    {
     "output_type": "execute_result",
     "data": {
      "text/plain": [
       "[9, 9, 1, 2, 1, 1, 3, 1, 9, 9, 0, 0, 0, 0, 0, 0, 0, 0, 0, 0]"
      ]
     },
     "metadata": {},
     "execution_count": 47
    }
   ],
   "source": [
    "number = [9, 0, 0, 9, 1, 2, 0, 1, 0, 1, 0, 3, 0, 1, 9, 0, 0, 0, 0, 9]\n",
    "\n",
    "\n",
    "def move_zeros(array):\n",
    "    length = len(array)\n",
    "    li = array\n",
    "    while li.count(0) > 0:\n",
    "        for x in li:\n",
    "            if x == 0:\n",
    "                li.remove(x)\n",
    "    count = length - len(li)\n",
    "    while count > 0:\n",
    "        li.append(0)\n",
    "        count -= 1   \n",
    "    return array\n",
    "\n",
    "move_zeros(number)"
   ]
  },
  {
   "cell_type": "code",
   "execution_count": 56,
   "metadata": {},
   "outputs": [
    {
     "output_type": "execute_result",
     "data": {
      "text/plain": [
       "'Alex, Jacob and 2 others like this'"
      ]
     },
     "metadata": {},
     "execution_count": 56
    }
   ],
   "source": [
    "a = [] # 'no one likes this'\n",
    "b = ['Peter']  #'Peter likes this'\n",
    "c = ['Jacob', 'Alex'] # 'Jacob and Alex like this'\n",
    "d = ['Max', 'John', 'Mark'] #'Max, John and Mark like this'\n",
    "e = ['Alex', 'Jacob', 'Mark', 'Max'] #'Alex, Jacob and 2 others like this'\n",
    "\n",
    "\n",
    "def likes(names):\n",
    "    if len(names) == 0:\n",
    "        return 'no one likes this'\n",
    "    elif len(names) == 1:\n",
    "        return names[0] + \" likes this\"\n",
    "    elif len(names) == 2:\n",
    "        return f'{names[0]} and {names[1]} like this'\n",
    "    elif len(names) == 3:\n",
    "        return f'{names[0]}, {names[1]} and {names[2]} like this'\n",
    "    elif len(names) >3:\n",
    "        return f'{names[0]}, {names[1]} and {(len(names) - 2)} others like this'\n",
    "\n",
    "\n",
    "likes(e)"
   ]
  },
  {
   "cell_type": "code",
   "execution_count": 36,
   "metadata": {},
   "outputs": [
    {
     "output_type": "execute_result",
     "data": {
      "text/plain": [
       "'10'"
      ]
     },
     "metadata": {},
     "execution_count": 36
    }
   ],
   "source": [
    "a = \"9\"  #, \"foo1\")\n",
    "#\"foobar001\"), \"foobar002\")\n",
    "#\"foobar1\"), \"foobar2\")\n",
    "#\"foobar00\"), \"foobar01\")\n",
    "#\"foobar99\"), \"foobar100\")\n",
    "#\"foobar099\"), \"foobar100\")\n",
    "\n",
    "\n",
    "def increment_string(st):\n",
    "    try:\n",
    "        if st == \"\":\n",
    "            return \"1\"\n",
    "        else:\n",
    "            if not st[-1].isnumeric():\n",
    "                return st + \"1\"\n",
    "            else:\n",
    "                if not st[-2].isnumeric():\n",
    "                    h = st[-1]\n",
    "                    t = int(h)+1\n",
    "                    st = st[:-1]\n",
    "                    st = st + str(t)\n",
    "                    return st\n",
    "                else:\n",
    "                    count = -2\n",
    "                    while count != \"STOP\":\n",
    "                        if not st[(count -1)].isnumeric():\n",
    "                            h = st[count:]\n",
    "                            t = int(h)+1\n",
    "                            st = st[:count]\n",
    "                            st = st + str(t).zfill(abs(count))\n",
    "                            return st\n",
    "                        else:\n",
    "                            count -=1\n",
    "    except:\n",
    "        p = len(st)\n",
    "        return str(int(st)+1).zfill(p)\n",
    "\n",
    "increment_string(a)\n",
    "\n",
    "\n"
   ]
  },
  {
   "cell_type": "code",
   "execution_count": null,
   "metadata": {},
   "outputs": [],
   "source": [
    "def increment_string(strng):\n",
    "    head = strng.rstrip('0123456789')\n",
    "    tail = strng[len(head):]\n",
    "    if tail == \"\": return strng+\"1\"\n",
    "    return head + str(int(tail) + 1).zfill(len(tail))"
   ]
  }
 ],
 "metadata": {
  "kernelspec": {
   "name": "python374jvsc74a57bd016eb897c26cdfcf18817bc60a8e0737e3939ff1e8491198c807979170104e811",
   "display_name": "Python 3.7.4 64-bit"
  },
  "language_info": {
   "codemirror_mode": {
    "name": "ipython",
    "version": 3
   },
   "file_extension": ".py",
   "mimetype": "text/x-python",
   "name": "python",
   "nbconvert_exporter": "python",
   "pygments_lexer": "ipython3",
   "version": "3.7.4"
  },
  "metadata": {
   "interpreter": {
    "hash": "16eb897c26cdfcf18817bc60a8e0737e3939ff1e8491198c807979170104e811"
   }
  }
 },
 "nbformat": 4,
 "nbformat_minor": 4
}