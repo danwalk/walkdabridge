{
 "cells": [
  {
   "cell_type": "markdown",
   "metadata": {},
   "source": [
    "Antes de empezar: un poco de documentación para enterder ligeramente cómo funciona HTML:"
   ]
  },
  {
   "cell_type": "markdown",
   "metadata": {},
   "source": [
    "https://www.w3schools.com/html/html_intro.asp"
   ]
  },
  {
   "cell_type": "markdown",
   "metadata": {},
   "source": [
    "# Web Scraping: Selenium"
   ]
  },
  {
   "cell_type": "markdown",
   "metadata": {},
   "source": [
    "En este notebook veremos cómo automatizar la extracción de datos de una página web simulando la navegación. Para ello utilizaremos la librería Selenium:\n",
    "https://selenium-python.readthedocs.io/"
   ]
  },
  {
   "cell_type": "markdown",
   "metadata": {},
   "source": [
    "El software libre Selenium es un **framework** para realizar test automatizados de software a aplicaciones web. En principio, fue desarrollado para poner a prueba páginas y apps web, pero el **WebDriver** de Selenium también puede usarse con Python para realizar scraping. Si bien Selenium en sí no está escrito en Python, con este lenguaje de programación es posible acceder a las funciones del software.\n",
    "\n",
    "A diferencia de Scrapy y de BeautifulSoup, Selenium no trabaja con el texto fuente en HTML de la web en cuestión, sino que carga la página en un navegador sin interfaz de usuario. El navegador interpreta entonces el código fuente de la página y crea, a partir de él, un **Document Object Model** (modelo de objetos de documento o DOM). Esta interfaz estandarizada permite poner a prueba las interacciones de los usuarios. De esta forma se consigue, por ejemplo, simular clics y rellenar formularios automáticamente. Los cambios en la web que resultan de dichas acciones se reflejan en el DOM. La estructura del proceso de web scraping con Selenium es la siguiente:\n",
    "\n",
    "URL → Solicitud HTTP → HTML → Selenium → DOM"
   ]
  },
  {
   "cell_type": "code",
   "execution_count": 195,
   "metadata": {
    "ExecuteTime": {
     "end_time": "2021-02-26T12:16:59.303652Z",
     "start_time": "2021-02-26T12:16:59.300657Z"
    }
   },
   "outputs": [],
   "source": [
    "# Imports\n",
    "import pandas as pd\n",
    "from selenium import webdriver\n",
    "import html\n"
   ]
  },
  {
   "cell_type": "markdown",
   "metadata": {},
   "source": [
    "Deberemos descargar un archivo Chrome driver para selenium en https://chromedriver.chromium.org/downloads, es importante que compruebes la versión de Chrome que utilizas y descargaues el driver correspondiente.\n",
    "Una vez descargado crearemos una variable con la dirección completa del path al chromedriver "
   ]
  },
  {
   "cell_type": "markdown",
   "metadata": {},
   "source": [
    "El objeto driver es con el que trabajaremos a partir de ahora"
   ]
  },
  {
   "cell_type": "code",
   "execution_count": 204,
   "metadata": {
    "ExecuteTime": {
     "end_time": "2021-02-26T10:22:46.333679Z",
     "start_time": "2021-02-26T10:22:45.178780Z"
    }
   },
   "outputs": [],
   "source": [
    "# especificamos el path hasta nuestro driver recién descargado:\n",
    "chrome_driver_path = 'C:\\\\Program Files (x86)\\\\Google\\\\Chrome\\\\Application\\\\90.0.4430.212\\\\chromedriver.exe'\n",
    "options = webdriver.ChromeOptions()\n",
    "#option.add_argument('headless')\n",
    "# headless nos permite no tener que ver la navegación en la ventana de Chrome\n"
   ]
  },
  {
   "cell_type": "code",
   "execution_count": 205,
   "metadata": {},
   "outputs": [],
   "source": [
    "# Creamos el driver con el que nos vamos a manejar en la sesión de scrapeo:\n",
    "driver = webdriver.Chrome(executable_path = chrome_driver_path, options = options)"
   ]
  },
  {
   "cell_type": "code",
   "execution_count": 206,
   "metadata": {},
   "outputs": [],
   "source": [
    "# indicamos la URL de la página web a la que queremos acceder:\n",
    "url = 'https://www.filmaffinity.com/es/main.html'\n",
    "# el objeto driver nos va a permitir alterar el estado del la página\n",
    "driver.get(url)"
   ]
  },
  {
   "cell_type": "markdown",
   "metadata": {},
   "source": [
    "¡Vaya! Nos hemos encontrado con un pop-up que nos pide aceptar cookies o algo po el estilo, si nos lo queremos saltar, para poder automatizar el proceso deberemos:\n",
    "\n",
    "1. Buscamos el botón\n",
    "2. Hacemos click en el botón\n",
    "\n",
    "Selenium nos permite buscar elementos por etiqueteas de html: https://selenium-python.readthedocs.io/locating-elements.html\n",
    "\n",
    "CUIDADO! Los metodos de busqueda de elementos estan \"duplicados\". Tenemos *find_element_by_tag_name* y *find_elements_by_tag_name* el primero nos devolverá el primer elemento que encuentre (aunque haya más), el segundo nos devolverá una lista con todos los elementos que encuentre (aunque solo sea uno)"
   ]
  },
  {
   "cell_type": "code",
   "execution_count": 215,
   "metadata": {
    "ExecuteTime": {
     "end_time": "2021-02-26T10:22:48.546287Z",
     "start_time": "2021-02-26T10:22:48.489040Z"
    }
   },
   "outputs": [
    {
     "output_type": "execute_result",
     "data": {
      "text/plain": [
       "[<selenium.webdriver.remote.webelement.WebElement (session=\"c51ab9614dcbbb8d844d87fdfb736125\", element=\"c8774e15-f528-476e-9fda-2b4451907af8\")>]"
      ]
     },
     "metadata": {},
     "execution_count": 215
    }
   ],
   "source": [
    "# Navegando en filmaffinity, en el pop-up:\n",
    "elements_by_tag = driver.find_elements_by_tag_name('button')\n",
    "elements_by_class_name = driver.find_elements_by_class_name('css-47sehv')\n",
    "elements_by_xpath = driver.find_elements_by_xpath('/html/body/div[1]/div/div/div/div[2]/div/button[2]')\n",
    "elements_by_xpath"
   ]
  },
  {
   "cell_type": "markdown",
   "metadata": {},
   "source": [
    "Una vez tenemos los elementos podemos hacer varias cosas con ellos"
   ]
  },
  {
   "cell_type": "markdown",
   "metadata": {},
   "source": [
    "Podemos extraer todos los atributos que tenga"
   ]
  },
  {
   "cell_type": "code",
   "execution_count": 86,
   "metadata": {
    "ExecuteTime": {
     "end_time": "2021-02-26T10:22:51.542538Z",
     "start_time": "2021-02-26T10:22:51.508077Z"
    }
   },
   "outputs": [
    {
     "output_type": "execute_result",
     "data": {
      "text/plain": [
       "['__add__',\n",
       " '__class__',\n",
       " '__contains__',\n",
       " '__delattr__',\n",
       " '__delitem__',\n",
       " '__dir__',\n",
       " '__doc__',\n",
       " '__eq__',\n",
       " '__format__',\n",
       " '__ge__',\n",
       " '__getattribute__',\n",
       " '__getitem__',\n",
       " '__gt__',\n",
       " '__hash__',\n",
       " '__iadd__',\n",
       " '__imul__',\n",
       " '__init__',\n",
       " '__init_subclass__',\n",
       " '__iter__',\n",
       " '__le__',\n",
       " '__len__',\n",
       " '__lt__',\n",
       " '__mul__',\n",
       " '__ne__',\n",
       " '__new__',\n",
       " '__reduce__',\n",
       " '__reduce_ex__',\n",
       " '__repr__',\n",
       " '__reversed__',\n",
       " '__rmul__',\n",
       " '__setattr__',\n",
       " '__setitem__',\n",
       " '__sizeof__',\n",
       " '__str__',\n",
       " '__subclasshook__',\n",
       " 'append',\n",
       " 'clear',\n",
       " 'copy',\n",
       " 'count',\n",
       " 'extend',\n",
       " 'index',\n",
       " 'insert',\n",
       " 'pop',\n",
       " 'remove',\n",
       " 'reverse',\n",
       " 'sort']"
      ]
     },
     "metadata": {},
     "execution_count": 86
    }
   ],
   "source": [
    "dir(elements_by_tag)\n",
    "# obtenemos todos sus métodos y atributos:"
   ]
  },
  {
   "cell_type": "code",
   "execution_count": null,
   "metadata": {},
   "outputs": [],
   "source": []
  },
  {
   "cell_type": "markdown",
   "metadata": {},
   "source": [
    "Podemos evaluar que tipo de elemento es (tag)"
   ]
  },
  {
   "cell_type": "code",
   "execution_count": null,
   "metadata": {
    "ExecuteTime": {
     "end_time": "2021-02-26T10:22:53.325430Z",
     "start_time": "2021-02-26T10:22:53.306520Z"
    }
   },
   "outputs": [],
   "source": []
  },
  {
   "cell_type": "markdown",
   "metadata": {},
   "source": [
    "Podemos sacar el valor que tiene (el texto)"
   ]
  },
  {
   "cell_type": "code",
   "execution_count": 216,
   "metadata": {
    "ExecuteTime": {
     "end_time": "2021-02-26T10:22:54.583190Z",
     "start_time": "2021-02-26T10:22:54.553596Z"
    }
   },
   "outputs": [
    {
     "output_type": "execute_result",
     "data": {
      "text/plain": [
       "'ACEPTO'"
      ]
     },
     "metadata": {},
     "execution_count": 216
    }
   ],
   "source": [
    "elements_by_xpath[0].text"
   ]
  },
  {
   "cell_type": "code",
   "execution_count": 88,
   "metadata": {},
   "outputs": [
    {
     "output_type": "execute_result",
     "data": {
      "text/plain": [
       "['socios', 'MÁS OPCIONES', 'ACEPTO']"
      ]
     },
     "metadata": {},
     "execution_count": 88
    }
   ],
   "source": [
    "[elem.text for elem in elements_by_tag]"
   ]
  },
  {
   "cell_type": "code",
   "execution_count": 21,
   "metadata": {},
   "outputs": [
    {
     "output_type": "stream",
     "name": "stdout",
     "text": [
      "[<selenium.webdriver.remote.webelement.WebElement (session=\"c5a9480dd5886d0c3a6dd8e4db1e3035\", element=\"81d2b13f-bc55-4e05-a8e3-e52cdfca17db\")>, <selenium.webdriver.remote.webelement.WebElement (session=\"c5a9480dd5886d0c3a6dd8e4db1e3035\", element=\"aaac241a-e091-40e5-816a-a8ee9b410f06\")>, <selenium.webdriver.remote.webelement.WebElement (session=\"c5a9480dd5886d0c3a6dd8e4db1e3035\", element=\"e471e2e3-2b3e-46f3-9bef-7561892f366d\")>]\n[<selenium.webdriver.remote.webelement.WebElement (session=\"c5a9480dd5886d0c3a6dd8e4db1e3035\", element=\"81d2b13f-bc55-4e05-a8e3-e52cdfca17db\")>, <selenium.webdriver.remote.webelement.WebElement (session=\"c5a9480dd5886d0c3a6dd8e4db1e3035\", element=\"aaac241a-e091-40e5-816a-a8ee9b410f06\")>, <selenium.webdriver.remote.webelement.WebElement (session=\"c5a9480dd5886d0c3a6dd8e4db1e3035\", element=\"e471e2e3-2b3e-46f3-9bef-7561892f366d\")>]\n[<selenium.webdriver.remote.webelement.WebElement (session=\"c5a9480dd5886d0c3a6dd8e4db1e3035\", element=\"81d2b13f-bc55-4e05-a8e3-e52cdfca17db\")>, <selenium.webdriver.remote.webelement.WebElement (session=\"c5a9480dd5886d0c3a6dd8e4db1e3035\", element=\"aaac241a-e091-40e5-816a-a8ee9b410f06\")>, <selenium.webdriver.remote.webelement.WebElement (session=\"c5a9480dd5886d0c3a6dd8e4db1e3035\", element=\"e471e2e3-2b3e-46f3-9bef-7561892f366d\")>]\n"
     ]
    }
   ],
   "source": [
    "for i in range(0, len(elements_by_tag)):\n",
    "    print(elements_by_tag)"
   ]
  },
  {
   "cell_type": "markdown",
   "metadata": {},
   "source": [
    "Incluso podemos guardar una imagen del elemento"
   ]
  },
  {
   "cell_type": "code",
   "execution_count": 104,
   "metadata": {},
   "outputs": [
    {
     "output_type": "execute_result",
     "data": {
      "text/plain": [
       "True"
      ]
     },
     "metadata": {},
     "execution_count": 104
    }
   ],
   "source": [
    "# Vemos que es tipo 'WebElement' y en la documentación podremos encontrar sus métodos\n",
    "elements_by_xpath[0].screenshot('mi_imagen.png')"
   ]
  },
  {
   "cell_type": "code",
   "execution_count": null,
   "metadata": {
    "ExecuteTime": {
     "end_time": "2021-02-26T10:24:41.830050Z",
     "start_time": "2021-02-26T10:24:41.510086Z"
    }
   },
   "outputs": [],
   "source": [
    "# guardamos como 'mi_imagen.png' la imagen asociada al xpath\n"
   ]
  },
  {
   "cell_type": "markdown",
   "metadata": {
    "ExecuteTime": {
     "end_time": "2021-02-25T09:56:21.322475Z",
     "start_time": "2021-02-25T09:56:21.318715Z"
    }
   },
   "source": [
    "Evaluamos que elementos hemos encontrado por el tag:"
   ]
  },
  {
   "cell_type": "code",
   "execution_count": 217,
   "metadata": {
    "ExecuteTime": {
     "end_time": "2021-02-25T10:40:47.561469Z",
     "start_time": "2021-02-25T10:40:46.812684Z"
    }
   },
   "outputs": [
    {
     "output_type": "stream",
     "name": "stdout",
     "text": [
      "Elemento:  0\n",
      "Texto del elemento:  0 es socios\n",
      "El tag del elemento:  0 es button\n",
      "Elemento:  1\n",
      "Texto del elemento:  1 es MÁS OPCIONES\n",
      "El tag del elemento:  1 es button\n",
      "Elemento:  2\n",
      "Texto del elemento:  2 es ACEPTO\n",
      "El tag del elemento:  2 es button\n"
     ]
    }
   ],
   "source": [
    "for index, element in enumerate(elements_by_tag):\n",
    "    print('Elemento: ', index)\n",
    "    print('Texto del elemento: ', index, 'es', element.text)\n",
    "    print('El tag del elemento: ', index, 'es', element.tag_name)\n",
    "    element.screenshot('mi_imagen'+str(index)+'.png')"
   ]
  },
  {
   "cell_type": "markdown",
   "metadata": {},
   "source": [
    "Nos quedamos con el botón que nos interesa"
   ]
  },
  {
   "cell_type": "code",
   "execution_count": 218,
   "metadata": {
    "ExecuteTime": {
     "end_time": "2021-02-26T10:24:47.302978Z",
     "start_time": "2021-02-26T10:24:47.291261Z"
    }
   },
   "outputs": [],
   "source": [
    "boton_aceptar = elements_by_tag[2]\n"
   ]
  },
  {
   "cell_type": "markdown",
   "metadata": {},
   "source": [
    "Si el elemento es interactivo podremos hacer más cosas además de las anteriores. Por ejemplo: hacer click"
   ]
  },
  {
   "cell_type": "code",
   "execution_count": 219,
   "metadata": {
    "ExecuteTime": {
     "end_time": "2021-02-26T10:24:48.611716Z",
     "start_time": "2021-02-26T10:24:48.390430Z"
    }
   },
   "outputs": [],
   "source": [
    "boton_aceptar.click()"
   ]
  },
  {
   "cell_type": "markdown",
   "metadata": {},
   "source": [
    "Buscamos una película por título"
   ]
  },
  {
   "cell_type": "code",
   "execution_count": 109,
   "metadata": {},
   "outputs": [],
   "source": [
    "from selenium.webdriver.common.keys import Keys"
   ]
  },
  {
   "cell_type": "code",
   "execution_count": 111,
   "metadata": {
    "ExecuteTime": {
     "end_time": "2021-02-26T10:28:14.592155Z",
     "start_time": "2021-02-26T10:28:13.509998Z"
    }
   },
   "outputs": [],
   "source": [
    "buscador= driver.find_element_by_xpath('/html/body/div[2]/div[1]/div/div[2]/form/input[1]')\n"
   ]
  },
  {
   "cell_type": "code",
   "execution_count": 112,
   "metadata": {},
   "outputs": [],
   "source": [
    "buscador.send_keys('Interstellar')"
   ]
  },
  {
   "cell_type": "code",
   "execution_count": 113,
   "metadata": {},
   "outputs": [],
   "source": [
    "# una vez escrita la búsqueda deberíamos poder activarla:\n",
    "buscador.send_keys(Keys.ENTER)"
   ]
  },
  {
   "cell_type": "code",
   "execution_count": 114,
   "metadata": {},
   "outputs": [],
   "source": [
    "# volvemos a la página anterior\n",
    "driver.back()"
   ]
  },
  {
   "cell_type": "markdown",
   "metadata": {
    "ExecuteTime": {
     "end_time": "2021-02-25T10:09:19.308961Z",
     "start_time": "2021-02-25T10:09:19.299983Z"
    }
   },
   "source": [
    "### Vamos a buscar todas las películas que se estrenan el próximo viernes"
   ]
  },
  {
   "cell_type": "markdown",
   "metadata": {},
   "source": [
    "1. Cogemos los containers que hay en la zona central"
   ]
  },
  {
   "cell_type": "code",
   "execution_count": 221,
   "metadata": {
    "ExecuteTime": {
     "end_time": "2021-02-25T10:40:53.961145Z",
     "start_time": "2021-02-25T10:40:53.793388Z"
    }
   },
   "outputs": [
    {
     "output_type": "execute_result",
     "data": {
      "text/plain": [
       "<selenium.webdriver.remote.webelement.WebElement (session=\"c51ab9614dcbbb8d844d87fdfb736125\", element=\"3052e5fd-c866-4278-8d44-cf8028327f27\")>"
      ]
     },
     "metadata": {},
     "execution_count": 221
    }
   ],
   "source": [
    "menu_lateral = driver.find_element_by_id('lsmenu')\n",
    "menu_lateral"
   ]
  },
  {
   "cell_type": "code",
   "execution_count": 222,
   "metadata": {},
   "outputs": [],
   "source": [
    "secciones_menu = menu_lateral.find_elements_by_tag_name('a')"
   ]
  },
  {
   "cell_type": "code",
   "execution_count": 220,
   "metadata": {},
   "outputs": [
    {
     "output_type": "execute_result",
     "data": {
      "text/plain": [
       "[<selenium.webdriver.remote.webelement.WebElement (session=\"006dee27e6c85ecf66f4fecec8e497bd\", element=\"70e0fb22-2f32-41bd-a32c-69a31b4748be\")>,\n",
       " <selenium.webdriver.remote.webelement.WebElement (session=\"006dee27e6c85ecf66f4fecec8e497bd\", element=\"e43d6669-7e00-434d-af59-ff0ebea0f615\")>,\n",
       " <selenium.webdriver.remote.webelement.WebElement (session=\"006dee27e6c85ecf66f4fecec8e497bd\", element=\"168ce103-ce9b-47d7-bd4f-fd7c6b550038\")>,\n",
       " <selenium.webdriver.remote.webelement.WebElement (session=\"006dee27e6c85ecf66f4fecec8e497bd\", element=\"744289cd-66e4-4ca2-8767-aa16fb13a16e\")>,\n",
       " <selenium.webdriver.remote.webelement.WebElement (session=\"006dee27e6c85ecf66f4fecec8e497bd\", element=\"52602381-daee-4baa-a1d6-6c7795ffbf36\")>,\n",
       " <selenium.webdriver.remote.webelement.WebElement (session=\"006dee27e6c85ecf66f4fecec8e497bd\", element=\"35989a53-307c-4d08-923f-40175c718012\")>,\n",
       " <selenium.webdriver.remote.webelement.WebElement (session=\"006dee27e6c85ecf66f4fecec8e497bd\", element=\"168f8192-b5e2-4764-be08-755e15e91cb5\")>,\n",
       " <selenium.webdriver.remote.webelement.WebElement (session=\"006dee27e6c85ecf66f4fecec8e497bd\", element=\"a42f9354-5310-4ad3-a384-d139a6416558\")>,\n",
       " <selenium.webdriver.remote.webelement.WebElement (session=\"006dee27e6c85ecf66f4fecec8e497bd\", element=\"a3fe8742-11df-4041-85bf-b6d0ee078204\")>,\n",
       " <selenium.webdriver.remote.webelement.WebElement (session=\"006dee27e6c85ecf66f4fecec8e497bd\", element=\"2879025f-737a-4890-86e9-afa53f757ce1\")>,\n",
       " <selenium.webdriver.remote.webelement.WebElement (session=\"006dee27e6c85ecf66f4fecec8e497bd\", element=\"6af710cd-35c4-4e15-bd97-8b3c64b54e56\")>,\n",
       " <selenium.webdriver.remote.webelement.WebElement (session=\"006dee27e6c85ecf66f4fecec8e497bd\", element=\"ae59da35-9547-4433-8426-6b33be53cf56\")>,\n",
       " <selenium.webdriver.remote.webelement.WebElement (session=\"006dee27e6c85ecf66f4fecec8e497bd\", element=\"63cfc708-fabc-4424-9766-74bbd0b6cb5f\")>,\n",
       " <selenium.webdriver.remote.webelement.WebElement (session=\"006dee27e6c85ecf66f4fecec8e497bd\", element=\"979d36a5-d4a1-41aa-989c-26ef9b1f1dc3\")>,\n",
       " <selenium.webdriver.remote.webelement.WebElement (session=\"006dee27e6c85ecf66f4fecec8e497bd\", element=\"c09f5c70-e14f-4ebc-a17c-c4d15f03ba6c\")>,\n",
       " <selenium.webdriver.remote.webelement.WebElement (session=\"006dee27e6c85ecf66f4fecec8e497bd\", element=\"4fe66f5b-b6e3-4e32-8559-e107959d99bb\")>,\n",
       " <selenium.webdriver.remote.webelement.WebElement (session=\"006dee27e6c85ecf66f4fecec8e497bd\", element=\"9ffb5819-49f2-4cb8-88e2-b591dc430912\")>,\n",
       " <selenium.webdriver.remote.webelement.WebElement (session=\"006dee27e6c85ecf66f4fecec8e497bd\", element=\"7c3670c0-af3d-4dd8-96fd-a5a88dcc7b43\")>,\n",
       " <selenium.webdriver.remote.webelement.WebElement (session=\"006dee27e6c85ecf66f4fecec8e497bd\", element=\"342a5492-72fd-420d-b4ad-a81fd50767f3\")>,\n",
       " <selenium.webdriver.remote.webelement.WebElement (session=\"006dee27e6c85ecf66f4fecec8e497bd\", element=\"f04e3225-165f-42a8-b36b-c223a124ceb2\")>,\n",
       " <selenium.webdriver.remote.webelement.WebElement (session=\"006dee27e6c85ecf66f4fecec8e497bd\", element=\"d2c3921a-defd-473b-856a-1fbbe82aeb2c\")>,\n",
       " <selenium.webdriver.remote.webelement.WebElement (session=\"006dee27e6c85ecf66f4fecec8e497bd\", element=\"ed02056e-b2f5-4e3f-8c9f-22c1c6218280\")>,\n",
       " <selenium.webdriver.remote.webelement.WebElement (session=\"006dee27e6c85ecf66f4fecec8e497bd\", element=\"70920f32-075d-41cb-9d94-39b0b989d853\")>,\n",
       " <selenium.webdriver.remote.webelement.WebElement (session=\"006dee27e6c85ecf66f4fecec8e497bd\", element=\"32ef9b3f-1f82-4c0f-a083-7bb4b0fc3395\")>,\n",
       " <selenium.webdriver.remote.webelement.WebElement (session=\"006dee27e6c85ecf66f4fecec8e497bd\", element=\"2badea52-9c22-40ee-8abd-1a0dbdea603c\")>,\n",
       " <selenium.webdriver.remote.webelement.WebElement (session=\"006dee27e6c85ecf66f4fecec8e497bd\", element=\"3d910ac5-8c83-4b75-969e-cf68bed5d3ba\")>,\n",
       " <selenium.webdriver.remote.webelement.WebElement (session=\"006dee27e6c85ecf66f4fecec8e497bd\", element=\"8e760dc2-006b-4b31-8014-1fadbf3b5b7f\")>,\n",
       " <selenium.webdriver.remote.webelement.WebElement (session=\"006dee27e6c85ecf66f4fecec8e497bd\", element=\"3740cd6e-c3ad-4d64-85fe-2f00e00012fd\")>,\n",
       " <selenium.webdriver.remote.webelement.WebElement (session=\"006dee27e6c85ecf66f4fecec8e497bd\", element=\"27fc3565-2fe8-4d60-89ac-6f5464a7b80e\")>,\n",
       " <selenium.webdriver.remote.webelement.WebElement (session=\"006dee27e6c85ecf66f4fecec8e497bd\", element=\"997caccd-9e4d-4536-b4c6-0a0a433dc4a6\")>,\n",
       " <selenium.webdriver.remote.webelement.WebElement (session=\"006dee27e6c85ecf66f4fecec8e497bd\", element=\"5acda1fd-c825-4ca4-9165-a4eebe53a25a\")>,\n",
       " <selenium.webdriver.remote.webelement.WebElement (session=\"006dee27e6c85ecf66f4fecec8e497bd\", element=\"dae4fa2e-55fe-45c6-a953-0fa3046ca331\")>,\n",
       " <selenium.webdriver.remote.webelement.WebElement (session=\"006dee27e6c85ecf66f4fecec8e497bd\", element=\"4c009df5-941c-4e44-a9aa-768929767d1e\")>,\n",
       " <selenium.webdriver.remote.webelement.WebElement (session=\"006dee27e6c85ecf66f4fecec8e497bd\", element=\"376cc8f1-94e5-45ea-a536-6c902d65cdfa\")>,\n",
       " <selenium.webdriver.remote.webelement.WebElement (session=\"006dee27e6c85ecf66f4fecec8e497bd\", element=\"2a317e58-68a5-482c-b63e-144396e25fa6\")>,\n",
       " <selenium.webdriver.remote.webelement.WebElement (session=\"006dee27e6c85ecf66f4fecec8e497bd\", element=\"d52e648e-30f7-4fd0-a700-fd2bc3ddeaca\")>,\n",
       " <selenium.webdriver.remote.webelement.WebElement (session=\"006dee27e6c85ecf66f4fecec8e497bd\", element=\"acb26a59-0cc9-4250-9bde-150df1159e44\")>,\n",
       " <selenium.webdriver.remote.webelement.WebElement (session=\"006dee27e6c85ecf66f4fecec8e497bd\", element=\"93c237fe-908f-49cf-8290-165ba60a7251\")>,\n",
       " <selenium.webdriver.remote.webelement.WebElement (session=\"006dee27e6c85ecf66f4fecec8e497bd\", element=\"e67368ab-a20b-47dd-bd9b-fed3a0b7a69c\")>,\n",
       " <selenium.webdriver.remote.webelement.WebElement (session=\"006dee27e6c85ecf66f4fecec8e497bd\", element=\"bdfb4233-047f-4621-a115-ebec895a8d2c\")>,\n",
       " <selenium.webdriver.remote.webelement.WebElement (session=\"006dee27e6c85ecf66f4fecec8e497bd\", element=\"0ff9705b-95ff-4a02-ad91-3ec649282756\")>,\n",
       " <selenium.webdriver.remote.webelement.WebElement (session=\"006dee27e6c85ecf66f4fecec8e497bd\", element=\"9130ece3-d81c-4bac-a2a5-4a3ff66fd32b\")>,\n",
       " <selenium.webdriver.remote.webelement.WebElement (session=\"006dee27e6c85ecf66f4fecec8e497bd\", element=\"ec3446a2-d72b-420d-8dde-3e057e6ae4e6\")>,\n",
       " <selenium.webdriver.remote.webelement.WebElement (session=\"006dee27e6c85ecf66f4fecec8e497bd\", element=\"70e58d0b-4dd8-45df-bd50-8389ae9ce174\")>]"
      ]
     },
     "metadata": {},
     "execution_count": 220
    }
   ],
   "source": [
    "secciones_menu"
   ]
  },
  {
   "cell_type": "markdown",
   "metadata": {},
   "source": [
    "2. Vemos con cuál nos tenemos que quedar"
   ]
  },
  {
   "cell_type": "code",
   "execution_count": 223,
   "metadata": {
    "ExecuteTime": {
     "end_time": "2021-02-25T10:40:55.130681Z",
     "start_time": "2021-02-25T10:40:54.930234Z"
    }
   },
   "outputs": [],
   "source": [
    "for a in secciones_menu:\n",
    "    if a.text == 'Próximos estrenos':\n",
    "        a.click()\n",
    "        break"
   ]
  },
  {
   "cell_type": "code",
   "execution_count": null,
   "metadata": {},
   "outputs": [],
   "source": [
    "# [a for a in menu_lateral.find_elements_by_tag_name('a') if a.text == \"Próximos estrenos\"]"
   ]
  },
  {
   "cell_type": "markdown",
   "metadata": {},
   "source": [
    "Accedemos al container central, en el que aparecen los estrenos por semana que queremos ver, exactamente igual que hemos hecho antes"
   ]
  },
  {
   "cell_type": "code",
   "execution_count": 224,
   "metadata": {
    "ExecuteTime": {
     "end_time": "2021-02-25T10:43:53.772471Z",
     "start_time": "2021-02-25T10:43:53.757510Z"
    }
   },
   "outputs": [],
   "source": [
    "cajon_central = driver.find_elements_by_id('main-wrapper-rdcat')"
   ]
  },
  {
   "cell_type": "code",
   "execution_count": 119,
   "metadata": {},
   "outputs": [
    {
     "output_type": "execute_result",
     "data": {
      "text/plain": [
       "list"
      ]
     },
     "metadata": {},
     "execution_count": 119
    }
   ],
   "source": [
    "type(cajon_central)"
   ]
  },
  {
   "cell_type": "code",
   "execution_count": 120,
   "metadata": {
    "ExecuteTime": {
     "end_time": "2021-02-25T11:04:59.734561Z",
     "start_time": "2021-02-25T11:04:59.617626Z"
    }
   },
   "outputs": [
    {
     "output_type": "stream",
     "name": "stdout",
     "text": [
      "21 de mayo de 2021\n",
      "2021-05-21\n",
      "28 de mayo de 2021\n",
      "2021-05-28\n",
      "3 de junio de 2021\n",
      "2021-06-03\n",
      "4 de junio de 2021\n",
      "2021-06-04\n",
      "11 de junio de 2021\n",
      "2021-06-11\n",
      "16 de junio de 2021\n",
      "2021-06-16\n",
      "18 de junio de 2021\n",
      "2021-06-18\n",
      "25 de junio de 2021\n",
      "2021-06-25\n"
     ]
    }
   ],
   "source": [
    "for semana in cajon_central:\n",
    "    print(semana.find_element_by_tag_name('div').text)\n",
    "    print(semana.find_element_by_tag_name('div').get_attribute('id'))"
   ]
  },
  {
   "cell_type": "code",
   "execution_count": 121,
   "metadata": {},
   "outputs": [],
   "source": [
    "for semana in cajon_central:\n",
    "    fecha = semana.find_element_by_tag_name('div').get_attribute('id')\n",
    "    if fecha == '2021-05-21':\n",
    "        break"
   ]
  },
  {
   "cell_type": "markdown",
   "metadata": {
    "ExecuteTime": {
     "end_time": "2021-02-25T11:04:08.219853Z",
     "start_time": "2021-02-25T11:04:08.215863Z"
    }
   },
   "source": [
    "Buscamos cómo acceder a las películas"
   ]
  },
  {
   "cell_type": "code",
   "execution_count": 49,
   "metadata": {
    "ExecuteTime": {
     "end_time": "2021-02-25T11:10:28.294864Z",
     "start_time": "2021-02-25T11:10:28.174126Z"
    }
   },
   "outputs": [],
   "source": [
    "caratulas = semana.find_elements_by_class_name('mc-poster')\n",
    "\n",
    "lista_pelis = []\n",
    "\n",
    "for peli in caratulas:\n",
    "    lista_pelis.append(peli.find_element_by_tag_name('a').get_attribute('href'))"
   ]
  },
  {
   "cell_type": "code",
   "execution_count": 50,
   "metadata": {},
   "outputs": [
    {
     "output_type": "execute_result",
     "data": {
      "text/plain": [
       "['https://www.filmaffinity.com/es/film637149.html',\n",
       " 'https://www.filmaffinity.com/es/film478891.html',\n",
       " 'https://www.filmaffinity.com/es/film713795.html',\n",
       " 'https://www.filmaffinity.com/es/film112106.html',\n",
       " 'https://www.filmaffinity.com/es/film329087.html',\n",
       " 'https://www.filmaffinity.com/es/film950177.html',\n",
       " 'https://www.filmaffinity.com/es/film388427.html',\n",
       " 'https://www.filmaffinity.com/es/film132801.html',\n",
       " 'https://www.filmaffinity.com/es/film759533.html',\n",
       " 'https://www.filmaffinity.com/es/film407520.html',\n",
       " 'https://www.filmaffinity.com/es/film452148.html',\n",
       " 'https://www.filmaffinity.com/es/film158082.html',\n",
       " 'https://www.filmaffinity.com/es/film108823.html']"
      ]
     },
     "metadata": {},
     "execution_count": 50
    }
   ],
   "source": [
    "lista_pelis"
   ]
  },
  {
   "cell_type": "markdown",
   "metadata": {},
   "source": [
    "Una vez tenemos todas las urls vamos a ver qué hacemos con cada una de ellas"
   ]
  },
  {
   "cell_type": "code",
   "execution_count": 58,
   "metadata": {
    "ExecuteTime": {
     "end_time": "2021-02-25T11:15:40.003059Z",
     "start_time": "2021-02-25T11:15:39.091047Z"
    }
   },
   "outputs": [],
   "source": [
    "# Accedemos a la página de la primera pelicula\n",
    "driver.get(lista_pelis[0])"
   ]
  },
  {
   "cell_type": "code",
   "execution_count": 125,
   "metadata": {},
   "outputs": [],
   "source": [
    "driver.back()"
   ]
  },
  {
   "cell_type": "markdown",
   "metadata": {
    "ExecuteTime": {
     "end_time": "2021-02-25T11:21:51.020248Z",
     "start_time": "2021-02-25T11:21:50.381138Z"
    }
   },
   "source": [
    "Vamos a ver el proceso que deberíamos hacer con cada una de las películas:"
   ]
  },
  {
   "cell_type": "markdown",
   "metadata": {},
   "source": [
    "1. Sacamos toda la información que nos interesa"
   ]
  },
  {
   "cell_type": "code",
   "execution_count": 74,
   "metadata": {
    "ExecuteTime": {
     "end_time": "2021-02-25T11:36:58.487622Z",
     "start_time": "2021-02-25T11:36:58.420292Z"
    }
   },
   "outputs": [],
   "source": [
    "# titulo, nota, numero de votos y ficha técnica\n",
    "titulo = driver.find_element_by_xpath('/html/body/div[4]/table/tbody/tr/td[2]/div[1]/div[4]/div/div[3]/dl[1]/dd[1]').text\n",
    "nota = driver.find_element_by_xpath('/html/body/div[4]/table/tbody/tr/td[2]/div[1]/div[4]/div/div[2]/div[2]/div[1]/div[2]/div[1]').text\n",
    "votos = driver.find_element_by_xpath('/html/body/div[4]/table/tbody/tr/td[2]/div[1]/div[4]/div/div[2]/div[2]/div[1]/div[2]/div[2]/span').text\n",
    "ficha = driver.find_element_by_xpath('/html/body/div[4]/table/tbody/tr/td[2]/div[1]/div[4]/div')"
   ]
  },
  {
   "cell_type": "markdown",
   "metadata": {},
   "source": [
    "2. Creamos una lista a partir de la ficha técnica"
   ]
  },
  {
   "cell_type": "code",
   "execution_count": 75,
   "metadata": {
    "ExecuteTime": {
     "end_time": "2021-02-25T11:34:54.218938Z",
     "start_time": "2021-02-25T11:34:53.923558Z"
    }
   },
   "outputs": [],
   "source": [
    "# Los nombres estan con tag  = 'dt' y los valores con 'dd'\n",
    "ficha_claves = []\n",
    "ficha_valores = []\n",
    "\n",
    "for name in ficha.find_elements_by_tag_name('dt'):\n",
    "    ficha_claves.append(name.text)\n",
    "for value in ficha.find_elements_by_tag_name('dd'):\n",
    "    ficha_valores.append(value.text)"
   ]
  },
  {
   "cell_type": "markdown",
   "metadata": {},
   "source": [
    "3. Creamos un dataframe con la info"
   ]
  },
  {
   "cell_type": "code",
   "execution_count": null,
   "metadata": {
    "ExecuteTime": {
     "end_time": "2021-02-25T11:38:19.916044Z",
     "start_time": "2021-02-25T11:38:19.899094Z"
    }
   },
   "outputs": [],
   "source": [
    "pd.DataFrame([values],)"
   ]
  },
  {
   "cell_type": "code",
   "execution_count": null,
   "metadata": {},
   "outputs": [],
   "source": []
  },
  {
   "cell_type": "code",
   "execution_count": null,
   "metadata": {},
   "outputs": [],
   "source": []
  },
  {
   "cell_type": "markdown",
   "metadata": {},
   "source": [
    "Ahora vamos a crear una función que nos haga todo esto para cada una de las películas:"
   ]
  },
  {
   "cell_type": "code",
   "execution_count": 128,
   "metadata": {
    "ExecuteTime": {
     "end_time": "2021-02-25T11:58:39.349919Z",
     "start_time": "2021-02-25T11:58:39.052802Z"
    }
   },
   "outputs": [],
   "source": [
    "def sacar_info(driver):\n",
    "    titulo = driver.find_element_by_xpath('/html/body/div[4]/table/tbody/tr/td[2]/div[1]/div[4]/h1/span').text\n",
    "    try:\n",
    "        nota = driver.find_element_by_xpath('/html/body/div[4]/table/tbody/tr/td[2]/div[1]/div[4]/div/div[2]/div[2]/div[1]/div[2]/div[1]').text\n",
    "        votos = driver.find_element_by_xpath('/html/body/div[4]/table/tbody/tr/td[2]/div[1]/div[4]/div/div[2]/div[2]/div[1]/div[2]/div[2]/span').text\n",
    "    except:\n",
    "        nota = None\n",
    "        votos = None\n",
    "    ficha = driver.find_element_by_xpath('/html/body/div[4]/table/tbody/tr/td[2]/div[1]/div[4]/div')\n",
    "    return titulo, nota, votos, ficha\n",
    "\n",
    "def sacar_ficha(ficha):\n",
    "    ficha_claves = []\n",
    "    ficha_valores = []\n",
    "\n",
    "    for i, name in enumerate(ficha.find_elements_by_tag_name('dt')):\n",
    "        ficha_claves.append(name.text)\n",
    "        ficha_valores.append(ficha.find_elements_by_tag_name('dd')[i].text)\n",
    "    \n",
    "    return ficha_claves, ficha_valores\n",
    "\n",
    "\n",
    "def montar_df(ficha_claves, ficha_valores, titulo, nota, votos):\n",
    "    columns = ['Titulo', 'Nota', 'Votos']\n",
    "    values = [titulo, nota, votos]\n",
    "    \n",
    "    columns.extend(ficha_claves)\n",
    "    values.extend(ficha_valores)\n",
    "    \n",
    "    return pd.DataFrame([values], columns = columns)\n",
    "\n",
    "def nueva_peli(driver):\n",
    "    titulo, nota, votos, ficha = sacar_info(driver)\n",
    "    ficha_claves, ficha_valores = sacar_ficha(ficha)\n",
    "    df_peli = montar_df(ficha_claves, ficha_valores, titulo, nota, votos) \n",
    "    \n",
    "    return df_peli\n"
   ]
  },
  {
   "cell_type": "markdown",
   "metadata": {},
   "source": [
    "## Modo Dios: moviendonos entre ventanas"
   ]
  },
  {
   "cell_type": "markdown",
   "metadata": {},
   "source": [
    "Vamos a ver cómo nos podemos mover entre ventanas del navegador\n",
    "\n",
    "Abrir nueva ventana:"
   ]
  },
  {
   "cell_type": "code",
   "execution_count": 131,
   "metadata": {},
   "outputs": [
    {
     "output_type": "error",
     "ename": "NoSuchWindowException",
     "evalue": "Message: no such window: target window already closed\nfrom unknown error: web view not found\n  (Session info: chrome=90.0.4430.212)\n",
     "traceback": [
      "\u001b[1;31m---------------------------------------------------------------------------\u001b[0m",
      "\u001b[1;31mNoSuchWindowException\u001b[0m                     Traceback (most recent call last)",
      "\u001b[1;32m<ipython-input-131-a99ce8700b00>\u001b[0m in \u001b[0;36m<module>\u001b[1;34m\u001b[0m\n\u001b[1;32m----> 1\u001b[1;33m \u001b[0mdriver\u001b[0m\u001b[1;33m.\u001b[0m\u001b[0mexecute_script\u001b[0m\u001b[1;33m(\u001b[0m\u001b[1;34m'window.open(\"\");'\u001b[0m\u001b[1;33m)\u001b[0m\u001b[1;33m\u001b[0m\u001b[1;33m\u001b[0m\u001b[0m\n\u001b[0m",
      "\u001b[1;32m~\\AppData\\Local\\Programs\\Python\\Python37\\lib\\site-packages\\selenium\\webdriver\\remote\\webdriver.py\u001b[0m in \u001b[0;36mexecute_script\u001b[1;34m(self, script, *args)\u001b[0m\n\u001b[0;32m    634\u001b[0m         return self.execute(command, {\n\u001b[0;32m    635\u001b[0m             \u001b[1;34m'script'\u001b[0m\u001b[1;33m:\u001b[0m \u001b[0mscript\u001b[0m\u001b[1;33m,\u001b[0m\u001b[1;33m\u001b[0m\u001b[1;33m\u001b[0m\u001b[0m\n\u001b[1;32m--> 636\u001b[1;33m             'args': converted_args})['value']\n\u001b[0m\u001b[0;32m    637\u001b[0m \u001b[1;33m\u001b[0m\u001b[0m\n\u001b[0;32m    638\u001b[0m     \u001b[1;32mdef\u001b[0m \u001b[0mexecute_async_script\u001b[0m\u001b[1;33m(\u001b[0m\u001b[0mself\u001b[0m\u001b[1;33m,\u001b[0m \u001b[0mscript\u001b[0m\u001b[1;33m,\u001b[0m \u001b[1;33m*\u001b[0m\u001b[0margs\u001b[0m\u001b[1;33m)\u001b[0m\u001b[1;33m:\u001b[0m\u001b[1;33m\u001b[0m\u001b[1;33m\u001b[0m\u001b[0m\n",
      "\u001b[1;32m~\\AppData\\Local\\Programs\\Python\\Python37\\lib\\site-packages\\selenium\\webdriver\\remote\\webdriver.py\u001b[0m in \u001b[0;36mexecute\u001b[1;34m(self, driver_command, params)\u001b[0m\n\u001b[0;32m    319\u001b[0m         \u001b[0mresponse\u001b[0m \u001b[1;33m=\u001b[0m \u001b[0mself\u001b[0m\u001b[1;33m.\u001b[0m\u001b[0mcommand_executor\u001b[0m\u001b[1;33m.\u001b[0m\u001b[0mexecute\u001b[0m\u001b[1;33m(\u001b[0m\u001b[0mdriver_command\u001b[0m\u001b[1;33m,\u001b[0m \u001b[0mparams\u001b[0m\u001b[1;33m)\u001b[0m\u001b[1;33m\u001b[0m\u001b[1;33m\u001b[0m\u001b[0m\n\u001b[0;32m    320\u001b[0m         \u001b[1;32mif\u001b[0m \u001b[0mresponse\u001b[0m\u001b[1;33m:\u001b[0m\u001b[1;33m\u001b[0m\u001b[1;33m\u001b[0m\u001b[0m\n\u001b[1;32m--> 321\u001b[1;33m             \u001b[0mself\u001b[0m\u001b[1;33m.\u001b[0m\u001b[0merror_handler\u001b[0m\u001b[1;33m.\u001b[0m\u001b[0mcheck_response\u001b[0m\u001b[1;33m(\u001b[0m\u001b[0mresponse\u001b[0m\u001b[1;33m)\u001b[0m\u001b[1;33m\u001b[0m\u001b[1;33m\u001b[0m\u001b[0m\n\u001b[0m\u001b[0;32m    322\u001b[0m             response['value'] = self._unwrap_value(\n\u001b[0;32m    323\u001b[0m                 response.get('value', None))\n",
      "\u001b[1;32m~\\AppData\\Local\\Programs\\Python\\Python37\\lib\\site-packages\\selenium\\webdriver\\remote\\errorhandler.py\u001b[0m in \u001b[0;36mcheck_response\u001b[1;34m(self, response)\u001b[0m\n\u001b[0;32m    240\u001b[0m                 \u001b[0malert_text\u001b[0m \u001b[1;33m=\u001b[0m \u001b[0mvalue\u001b[0m\u001b[1;33m[\u001b[0m\u001b[1;34m'alert'\u001b[0m\u001b[1;33m]\u001b[0m\u001b[1;33m.\u001b[0m\u001b[0mget\u001b[0m\u001b[1;33m(\u001b[0m\u001b[1;34m'text'\u001b[0m\u001b[1;33m)\u001b[0m\u001b[1;33m\u001b[0m\u001b[1;33m\u001b[0m\u001b[0m\n\u001b[0;32m    241\u001b[0m             \u001b[1;32mraise\u001b[0m \u001b[0mexception_class\u001b[0m\u001b[1;33m(\u001b[0m\u001b[0mmessage\u001b[0m\u001b[1;33m,\u001b[0m \u001b[0mscreen\u001b[0m\u001b[1;33m,\u001b[0m \u001b[0mstacktrace\u001b[0m\u001b[1;33m,\u001b[0m \u001b[0malert_text\u001b[0m\u001b[1;33m)\u001b[0m\u001b[1;33m\u001b[0m\u001b[1;33m\u001b[0m\u001b[0m\n\u001b[1;32m--> 242\u001b[1;33m         \u001b[1;32mraise\u001b[0m \u001b[0mexception_class\u001b[0m\u001b[1;33m(\u001b[0m\u001b[0mmessage\u001b[0m\u001b[1;33m,\u001b[0m \u001b[0mscreen\u001b[0m\u001b[1;33m,\u001b[0m \u001b[0mstacktrace\u001b[0m\u001b[1;33m)\u001b[0m\u001b[1;33m\u001b[0m\u001b[1;33m\u001b[0m\u001b[0m\n\u001b[0m\u001b[0;32m    243\u001b[0m \u001b[1;33m\u001b[0m\u001b[0m\n\u001b[0;32m    244\u001b[0m     \u001b[1;32mdef\u001b[0m \u001b[0m_value_or_default\u001b[0m\u001b[1;33m(\u001b[0m\u001b[0mself\u001b[0m\u001b[1;33m,\u001b[0m \u001b[0mobj\u001b[0m\u001b[1;33m,\u001b[0m \u001b[0mkey\u001b[0m\u001b[1;33m,\u001b[0m \u001b[0mdefault\u001b[0m\u001b[1;33m)\u001b[0m\u001b[1;33m:\u001b[0m\u001b[1;33m\u001b[0m\u001b[1;33m\u001b[0m\u001b[0m\n",
      "\u001b[1;31mNoSuchWindowException\u001b[0m: Message: no such window: target window already closed\nfrom unknown error: web view not found\n  (Session info: chrome=90.0.4430.212)\n"
     ]
    }
   ],
   "source": [
    "driver.execute_script('window.open(\"\");')"
   ]
  },
  {
   "cell_type": "markdown",
   "metadata": {},
   "source": [
    "Movernos a otra ventana"
   ]
  },
  {
   "cell_type": "code",
   "execution_count": 191,
   "metadata": {},
   "outputs": [],
   "source": [
    "driver.switch_to.window(driver.window_handles[-1])"
   ]
  },
  {
   "cell_type": "markdown",
   "metadata": {},
   "source": [
    "Cerrar ventana"
   ]
  },
  {
   "cell_type": "code",
   "execution_count": 192,
   "metadata": {
    "ExecuteTime": {
     "end_time": "2021-02-25T12:04:17.177986Z",
     "start_time": "2021-02-25T12:04:17.160442Z"
    }
   },
   "outputs": [],
   "source": [
    "driver.close()"
   ]
  },
  {
   "cell_type": "markdown",
   "metadata": {},
   "source": [
    "Una vez cerramos la ventana tenemos que indicarle a qué ventana tiene que ir"
   ]
  },
  {
   "cell_type": "code",
   "execution_count": null,
   "metadata": {
    "ExecuteTime": {
     "end_time": "2021-02-25T12:05:01.711952Z",
     "start_time": "2021-02-25T12:05:01.583709Z"
    }
   },
   "outputs": [],
   "source": []
  },
  {
   "cell_type": "markdown",
   "metadata": {},
   "source": [
    "Sabiendo cómo podemos movernos por entre las ventanas y sabiendo cómo extraer de cada página toda la información que necesitamos vamos a crear nuestro dataframe:"
   ]
  },
  {
   "cell_type": "code",
   "execution_count": 134,
   "metadata": {},
   "outputs": [],
   "source": [
    "# para abrir todos los links en lista_pelis\n",
    "for link in lista_pelis:\n",
    "    driver.execute_script('window.open(\"'+link+'\");')\n",
    "    driver.switch_to.window(driver.window_handles[-1])\n",
    "    driver.get(link)"
   ]
  },
  {
   "cell_type": "code",
   "execution_count": 165,
   "metadata": {
    "ExecuteTime": {
     "end_time": "2021-02-25T12:00:27.038323Z",
     "start_time": "2021-02-25T11:59:37.219902Z"
    }
   },
   "outputs": [],
   "source": [
    "# Creamos un dataframe con todas las pelis que se estrenan la próxima semana:\n",
    "df_peliculas = pd.DataFrame()\n",
    "\n",
    "for link in lista_pelis:\n",
    "    driver.execute_script('window.open(\"'+link+'\");')\n",
    "    driver.switch_to.window(driver.window_handles[-1])\n",
    "    driver.get(link)\n",
    "    nueva_pelicula = nueva_peli(driver)\n",
    "    df_peliculas = df_peliculas.append(nueva_pelicula)"
   ]
  },
  {
   "cell_type": "code",
   "execution_count": null,
   "metadata": {
    "ExecuteTime": {
     "end_time": "2021-02-25T12:00:36.221987Z",
     "start_time": "2021-02-25T12:00:36.207006Z"
    }
   },
   "outputs": [],
   "source": []
  },
  {
   "cell_type": "code",
   "execution_count": 166,
   "metadata": {},
   "outputs": [
    {
     "output_type": "execute_result",
     "data": {
      "text/plain": [
       "                              Titulo  Nota    Votos  \\\n",
       "0                        Spiral: Saw   4,9       40   \n",
       "0        Poliamor para principiantes   4,4       26   \n",
       "0            Érase una vez en Queens  None     None   \n",
       "0                          First Cow   6,9    1.396   \n",
       "0                          Mía y Moi   6,0       67   \n",
       "0                       Pequeño país   6,4       30   \n",
       "0                              Sweat   6,5       44   \n",
       "0        Félix y el tesoro de Morgäa  None     None   \n",
       "0                El viaje de Chihiro   8,1  109.289   \n",
       "0                       Cascarrabias  None     None   \n",
       "0                        Rizi (Days)   6,7      204   \n",
       "0        El código de los diferentes  None     None   \n",
       "0  Tierra Santa. El último peregrino  None     None   \n",
       "\n",
       "                                 Título original   Año  Duración  \\\n",
       "0                   Spiral: From the Book of Saw  2021   93 min.   \n",
       "0                    Poliamor para principiantes  2021   97 min.   \n",
       "0                                         Boogie  2021   89 min.   \n",
       "0                                      First Cow  2019  121 min.   \n",
       "0                                      Mía y Moi  2021       NaN   \n",
       "0                                 Petit pays aka  2020  111 min.   \n",
       "0                                          Sweat  2020  100 min.   \n",
       "0               Félix et le trésor de Morgäa aka  2021   90 min.   \n",
       "0              Sen to Chihiro no kamikakushi aka  2001  124 min.   \n",
       "0  Here Comes the Grump (Ahí viene Cascarrabias)  2018   97 min.   \n",
       "0                                    Rizi (Days)  2020  127 min.   \n",
       "0                             Code of the Freaks  2020   68 min.   \n",
       "0              Tierra Santa. El último peregrino  2021   86 min.   \n",
       "\n",
       "              País                     Dirección  \\\n",
       "0   Estados Unidos           Darren Lynn Bousman   \n",
       "0           España               Fernando Colomo   \n",
       "0   Estados Unidos                   Eddie Huang   \n",
       "0   Estados Unidos               Kelly Reichardt   \n",
       "0           España              Borja de la Vega   \n",
       "0          Francia                  Eric Barbier   \n",
       "0          Polonia               Magnus von Horn   \n",
       "0           Canadá                  Nicola Lemay   \n",
       "0            Japón                Hayao Miyazaki   \n",
       "0           México              Andrés Couturier   \n",
       "0           Taiwán               Tsai Ming-liang   \n",
       "0   Estados Unidos               Salome Chasnoff   \n",
       "0           España  Andrés Garrigó, Pablo Moreno   \n",
       "\n",
       "                                               Guion  \\\n",
       "0  Josh Stolberg, Pete Goldfinger. Historia: Pete...   \n",
       "0  Fernando Colomo, Casandra Macías Gago, Marina ...   \n",
       "0                                        Eddie Huang   \n",
       "0  Jonathan Raymond, Kelly Reichardt. Novela: Jon...   \n",
       "0                                   Borja de la Vega   \n",
       "0                    Eric Barbier. Novela: Gaël Faye   \n",
       "0                                    Magnus von Horn   \n",
       "0                                    Marc Robitaille   \n",
       "0                                     Hayao Miyazaki   \n",
       "0  Jim Hecht, Piers Clifton, Ricardo Hernández Du...   \n",
       "0                                    Tsai Ming-liang   \n",
       "0    Susan Nussbaum, Alyson Patsavas, Carrie Sandahl   \n",
       "0    Andrés Garrigó, Pedro Delgado, Benjamín Lorenzo   \n",
       "\n",
       "                                Música  ...  \\\n",
       "0                      Charlie Clouser  ...   \n",
       "0                     Fernando Furones  ...   \n",
       "0  Ali Shaheed Muhammad, Adrian Younge  ...   \n",
       "0                        William Tyler  ...   \n",
       "0                                  NaN  ...   \n",
       "0                       Renaud Barbier  ...   \n",
       "0                          Piotr Kurek  ...   \n",
       "0                                  NaN  ...   \n",
       "0                         Joe Hisaishi  ...   \n",
       "0                  James Seymour Brett  ...   \n",
       "0                                  NaN  ...   \n",
       "0                          Brad Newton  ...   \n",
       "0                    José Sánchez-Sanz  ...   \n",
       "\n",
       "                                              Género  \\\n",
       "0  Terror. Thriller | Policíaco. Crimen. Asesinos...   \n",
       "0               Comedia. Romance | Comedia romántica   \n",
       "0                    Drama | Baloncesto. Inmigración   \n",
       "0                Drama. Western | Siglo XIX. Amistad   \n",
       "0                                              Drama   \n",
       "0                                              Drama   \n",
       "0                       Drama | Internet/Informática   \n",
       "0                Animación. Aventuras | Adolescencia   \n",
       "0  Animación. Fantástico. Aventuras | Dragones. P...   \n",
       "0  Animación. Aventuras. Comedia. Fantástico. Inf...   \n",
       "0                 Drama | Homosexualidad. Enfermedad   \n",
       "0                          Documental | Discapacidad   \n",
       "0                       Drama. Documental | Religión   \n",
       "\n",
       "                                 Grupos  \\\n",
       "0                                   Saw   \n",
       "0                                   NaN   \n",
       "0                                   NaN   \n",
       "0                                   NaN   \n",
       "0                                   NaN   \n",
       "0                                   NaN   \n",
       "0                                   NaN   \n",
       "0                                   NaN   \n",
       "0  Studio Ghibli (y obras relacionadas)   \n",
       "0                                   NaN   \n",
       "0                                   NaN   \n",
       "0                                   NaN   \n",
       "0                                   NaN   \n",
       "\n",
       "                                            Sinopsis  \\\n",
       "0  Trabajando a la sombra de un policía veterano ...   \n",
       "0  Satur (Karra Elejalde) y Tina (Toni Acosta) so...   \n",
       "0  En la Nueva York contemporánea, un joven fenóm...   \n",
       "0  Narra la historia de un cocinero (John Magaro)...   \n",
       "0  Tras perder a su madre, Mía y Moi se refugian ...   \n",
       "0  Gabriel tiene 10 años y vive en un cómodo veci...   \n",
       "0  Describe tres días en la vida de la motivadora...   \n",
       "0  Félix es un niño de 12 años que está convencid...   \n",
       "0  Chihiro es una niña de diez años que viaja en ...   \n",
       "0  Pasar las vacaciones de verano en el increíble...   \n",
       "0  Kang vive solo en una casa grande. A través de...   \n",
       "0  Documental que examina la representación de pe...   \n",
       "0  Carmen ve su matrimonio estancado: su marido n...   \n",
       "\n",
       "                                            Críticas  \\\n",
       "0  \"La saga de 'Saw' no ha cambiado nada. Así que...   \n",
       "0                                                NaN   \n",
       "0  \"Mientras que su acercamiento a los personajes...   \n",
       "0  \"Una película tan plena de humor como de trist...   \n",
       "0  \"Hay películas ultrasensoriales, que se huelen...   \n",
       "0  \"Un vehículo entrañable y pedagógico, un buen ...   \n",
       "0  \"Pocas dudas hay del poderoso influjo del maes...   \n",
       "0                                                NaN   \n",
       "0  Andy Wachowski, director de \"Matrix\": \"Es una ...   \n",
       "0  \"Si bien este trabajo no mantiene el carácter ...   \n",
       "0  \"Una obra mayor y bellísima sobre la soledad, ...   \n",
       "0                                                NaN   \n",
       "0                                                NaN   \n",
       "\n",
       "                                          Tu crítica  \\\n",
       "0  Escribe tu opinión para que el resto de los us...   \n",
       "0  Escribe tu opinión para que el resto de los us...   \n",
       "0  Escribe tu opinión para que el resto de los us...   \n",
       "0  Escribe tu opinión para que el resto de los us...   \n",
       "0  Escribe tu opinión para que el resto de los us...   \n",
       "0  Escribe tu opinión para que el resto de los us...   \n",
       "0  Escribe tu opinión para que el resto de los us...   \n",
       "0  Escribe tu opinión para que el resto de los us...   \n",
       "0  Escribe tu opinión para que el resto de los us...   \n",
       "0  Escribe tu opinión para que el resto de los us...   \n",
       "0  Escribe tu opinión para que el resto de los us...   \n",
       "0  Escribe tu opinión para que el resto de los us...   \n",
       "0  Escribe tu opinión para que el resto de los us...   \n",
       "\n",
       "                         Votaciones de almas gemelas  \\\n",
       "0  Regístrate y podrás acceder a recomendaciones ...   \n",
       "0  Regístrate y podrás acceder a recomendaciones ...   \n",
       "0  Regístrate y podrás acceder a recomendaciones ...   \n",
       "0  Regístrate y podrás acceder a recomendaciones ...   \n",
       "0  Regístrate y podrás acceder a recomendaciones ...   \n",
       "0  Regístrate y podrás acceder a recomendaciones ...   \n",
       "0  Regístrate y podrás acceder a recomendaciones ...   \n",
       "0  Regístrate y podrás acceder a recomendaciones ...   \n",
       "0  Regístrate y podrás acceder a recomendaciones ...   \n",
       "0  Regístrate y podrás acceder a recomendaciones ...   \n",
       "0  Regístrate y podrás acceder a recomendaciones ...   \n",
       "0  Regístrate y podrás acceder a recomendaciones ...   \n",
       "0  Regístrate y podrás acceder a recomendaciones ...   \n",
       "\n",
       "                            Votaciones de tus amigos  \\\n",
       "0  Regístrate y podrás acceder a todas las votaci...   \n",
       "0  Regístrate y podrás acceder a todas las votaci...   \n",
       "0  Regístrate y podrás acceder a todas las votaci...   \n",
       "0  Regístrate y podrás acceder a todas las votaci...   \n",
       "0  Regístrate y podrás acceder a todas las votaci...   \n",
       "0  Regístrate y podrás acceder a todas las votaci...   \n",
       "0  Regístrate y podrás acceder a todas las votaci...   \n",
       "0  Regístrate y podrás acceder a todas las votaci...   \n",
       "0  Regístrate y podrás acceder a todas las votaci...   \n",
       "0  Regístrate y podrás acceder a todas las votaci...   \n",
       "0  Regístrate y podrás acceder a todas las votaci...   \n",
       "0  Regístrate y podrás acceder a todas las votaci...   \n",
       "0  Regístrate y podrás acceder a todas las votaci...   \n",
       "\n",
       "                            Posición rankings listas  \\\n",
       "0  99 Próximos estrenos: éstas no me las pierdo (...   \n",
       "0                                                NaN   \n",
       "0                                                NaN   \n",
       "0           53 Mis películas favoritas del 2020 (24)   \n",
       "0                                                NaN   \n",
       "0                                                NaN   \n",
       "0                                                NaN   \n",
       "0                                                NaN   \n",
       "0  1 Mis películas japonesas favoritas (206)\\n2 M...   \n",
       "0                                                NaN   \n",
       "0                                                NaN   \n",
       "0                                                NaN   \n",
       "0                                                NaN   \n",
       "\n",
       "                                             Premios       \n",
       "0                                                NaN  NaN  \n",
       "0                                                NaN  NaN  \n",
       "0                                                NaN  NaN  \n",
       "0  2020: National Board of Review (NBR): Top 10 p...  NaN  \n",
       "0                                                NaN  NaN  \n",
       "0  2020: Premios César: Nominada a mejor guion ad...       \n",
       "0  2020: Festival internacional de Chicago: Mejor...  NaN  \n",
       "0                                                NaN       \n",
       "0  2002: Oscar: Mejor largometraje de animación\\n...       \n",
       "0  2018: Premios Ariel: Nominada a mejor largomet...  NaN  \n",
       "0  2020: Festival de Berlín: Sección oficial larg...  NaN  \n",
       "0                                                NaN  NaN  \n",
       "0                                                NaN  NaN  \n",
       "\n",
       "[13 rows x 23 columns]"
      ],
      "text/html": "<div>\n<style scoped>\n    .dataframe tbody tr th:only-of-type {\n        vertical-align: middle;\n    }\n\n    .dataframe tbody tr th {\n        vertical-align: top;\n    }\n\n    .dataframe thead th {\n        text-align: right;\n    }\n</style>\n<table border=\"1\" class=\"dataframe\">\n  <thead>\n    <tr style=\"text-align: right;\">\n      <th></th>\n      <th>Titulo</th>\n      <th>Nota</th>\n      <th>Votos</th>\n      <th>Título original</th>\n      <th>Año</th>\n      <th>Duración</th>\n      <th>País</th>\n      <th>Dirección</th>\n      <th>Guion</th>\n      <th>Música</th>\n      <th>...</th>\n      <th>Género</th>\n      <th>Grupos</th>\n      <th>Sinopsis</th>\n      <th>Críticas</th>\n      <th>Tu crítica</th>\n      <th>Votaciones de almas gemelas</th>\n      <th>Votaciones de tus amigos</th>\n      <th>Posición rankings listas</th>\n      <th>Premios</th>\n      <th></th>\n    </tr>\n  </thead>\n  <tbody>\n    <tr>\n      <th>0</th>\n      <td>Spiral: Saw</td>\n      <td>4,9</td>\n      <td>40</td>\n      <td>Spiral: From the Book of Saw</td>\n      <td>2021</td>\n      <td>93 min.</td>\n      <td>Estados Unidos</td>\n      <td>Darren Lynn Bousman</td>\n      <td>Josh Stolberg, Pete Goldfinger. Historia: Pete...</td>\n      <td>Charlie Clouser</td>\n      <td>...</td>\n      <td>Terror. Thriller | Policíaco. Crimen. Asesinos...</td>\n      <td>Saw</td>\n      <td>Trabajando a la sombra de un policía veterano ...</td>\n      <td>\"La saga de 'Saw' no ha cambiado nada. Así que...</td>\n      <td>Escribe tu opinión para que el resto de los us...</td>\n      <td>Regístrate y podrás acceder a recomendaciones ...</td>\n      <td>Regístrate y podrás acceder a todas las votaci...</td>\n      <td>99 Próximos estrenos: éstas no me las pierdo (...</td>\n      <td>NaN</td>\n      <td>NaN</td>\n    </tr>\n    <tr>\n      <th>0</th>\n      <td>Poliamor para principiantes</td>\n      <td>4,4</td>\n      <td>26</td>\n      <td>Poliamor para principiantes</td>\n      <td>2021</td>\n      <td>97 min.</td>\n      <td>España</td>\n      <td>Fernando Colomo</td>\n      <td>Fernando Colomo, Casandra Macías Gago, Marina ...</td>\n      <td>Fernando Furones</td>\n      <td>...</td>\n      <td>Comedia. Romance | Comedia romántica</td>\n      <td>NaN</td>\n      <td>Satur (Karra Elejalde) y Tina (Toni Acosta) so...</td>\n      <td>NaN</td>\n      <td>Escribe tu opinión para que el resto de los us...</td>\n      <td>Regístrate y podrás acceder a recomendaciones ...</td>\n      <td>Regístrate y podrás acceder a todas las votaci...</td>\n      <td>NaN</td>\n      <td>NaN</td>\n      <td>NaN</td>\n    </tr>\n    <tr>\n      <th>0</th>\n      <td>Érase una vez en Queens</td>\n      <td>None</td>\n      <td>None</td>\n      <td>Boogie</td>\n      <td>2021</td>\n      <td>89 min.</td>\n      <td>Estados Unidos</td>\n      <td>Eddie Huang</td>\n      <td>Eddie Huang</td>\n      <td>Ali Shaheed Muhammad, Adrian Younge</td>\n      <td>...</td>\n      <td>Drama | Baloncesto. Inmigración</td>\n      <td>NaN</td>\n      <td>En la Nueva York contemporánea, un joven fenóm...</td>\n      <td>\"Mientras que su acercamiento a los personajes...</td>\n      <td>Escribe tu opinión para que el resto de los us...</td>\n      <td>Regístrate y podrás acceder a recomendaciones ...</td>\n      <td>Regístrate y podrás acceder a todas las votaci...</td>\n      <td>NaN</td>\n      <td>NaN</td>\n      <td>NaN</td>\n    </tr>\n    <tr>\n      <th>0</th>\n      <td>First Cow</td>\n      <td>6,9</td>\n      <td>1.396</td>\n      <td>First Cow</td>\n      <td>2019</td>\n      <td>121 min.</td>\n      <td>Estados Unidos</td>\n      <td>Kelly Reichardt</td>\n      <td>Jonathan Raymond, Kelly Reichardt. Novela: Jon...</td>\n      <td>William Tyler</td>\n      <td>...</td>\n      <td>Drama. Western | Siglo XIX. Amistad</td>\n      <td>NaN</td>\n      <td>Narra la historia de un cocinero (John Magaro)...</td>\n      <td>\"Una película tan plena de humor como de trist...</td>\n      <td>Escribe tu opinión para que el resto de los us...</td>\n      <td>Regístrate y podrás acceder a recomendaciones ...</td>\n      <td>Regístrate y podrás acceder a todas las votaci...</td>\n      <td>53 Mis películas favoritas del 2020 (24)</td>\n      <td>2020: National Board of Review (NBR): Top 10 p...</td>\n      <td>NaN</td>\n    </tr>\n    <tr>\n      <th>0</th>\n      <td>Mía y Moi</td>\n      <td>6,0</td>\n      <td>67</td>\n      <td>Mía y Moi</td>\n      <td>2021</td>\n      <td>NaN</td>\n      <td>España</td>\n      <td>Borja de la Vega</td>\n      <td>Borja de la Vega</td>\n      <td>NaN</td>\n      <td>...</td>\n      <td>Drama</td>\n      <td>NaN</td>\n      <td>Tras perder a su madre, Mía y Moi se refugian ...</td>\n      <td>\"Hay películas ultrasensoriales, que se huelen...</td>\n      <td>Escribe tu opinión para que el resto de los us...</td>\n      <td>Regístrate y podrás acceder a recomendaciones ...</td>\n      <td>Regístrate y podrás acceder a todas las votaci...</td>\n      <td>NaN</td>\n      <td>NaN</td>\n      <td>NaN</td>\n    </tr>\n    <tr>\n      <th>0</th>\n      <td>Pequeño país</td>\n      <td>6,4</td>\n      <td>30</td>\n      <td>Petit pays aka</td>\n      <td>2020</td>\n      <td>111 min.</td>\n      <td>Francia</td>\n      <td>Eric Barbier</td>\n      <td>Eric Barbier. Novela: Gaël Faye</td>\n      <td>Renaud Barbier</td>\n      <td>...</td>\n      <td>Drama</td>\n      <td>NaN</td>\n      <td>Gabriel tiene 10 años y vive en un cómodo veci...</td>\n      <td>\"Un vehículo entrañable y pedagógico, un buen ...</td>\n      <td>Escribe tu opinión para que el resto de los us...</td>\n      <td>Regístrate y podrás acceder a recomendaciones ...</td>\n      <td>Regístrate y podrás acceder a todas las votaci...</td>\n      <td>NaN</td>\n      <td>2020: Premios César: Nominada a mejor guion ad...</td>\n      <td></td>\n    </tr>\n    <tr>\n      <th>0</th>\n      <td>Sweat</td>\n      <td>6,5</td>\n      <td>44</td>\n      <td>Sweat</td>\n      <td>2020</td>\n      <td>100 min.</td>\n      <td>Polonia</td>\n      <td>Magnus von Horn</td>\n      <td>Magnus von Horn</td>\n      <td>Piotr Kurek</td>\n      <td>...</td>\n      <td>Drama | Internet/Informática</td>\n      <td>NaN</td>\n      <td>Describe tres días en la vida de la motivadora...</td>\n      <td>\"Pocas dudas hay del poderoso influjo del maes...</td>\n      <td>Escribe tu opinión para que el resto de los us...</td>\n      <td>Regístrate y podrás acceder a recomendaciones ...</td>\n      <td>Regístrate y podrás acceder a todas las votaci...</td>\n      <td>NaN</td>\n      <td>2020: Festival internacional de Chicago: Mejor...</td>\n      <td>NaN</td>\n    </tr>\n    <tr>\n      <th>0</th>\n      <td>Félix y el tesoro de Morgäa</td>\n      <td>None</td>\n      <td>None</td>\n      <td>Félix et le trésor de Morgäa aka</td>\n      <td>2021</td>\n      <td>90 min.</td>\n      <td>Canadá</td>\n      <td>Nicola Lemay</td>\n      <td>Marc Robitaille</td>\n      <td>NaN</td>\n      <td>...</td>\n      <td>Animación. Aventuras | Adolescencia</td>\n      <td>NaN</td>\n      <td>Félix es un niño de 12 años que está convencid...</td>\n      <td>NaN</td>\n      <td>Escribe tu opinión para que el resto de los us...</td>\n      <td>Regístrate y podrás acceder a recomendaciones ...</td>\n      <td>Regístrate y podrás acceder a todas las votaci...</td>\n      <td>NaN</td>\n      <td>NaN</td>\n      <td></td>\n    </tr>\n    <tr>\n      <th>0</th>\n      <td>El viaje de Chihiro</td>\n      <td>8,1</td>\n      <td>109.289</td>\n      <td>Sen to Chihiro no kamikakushi aka</td>\n      <td>2001</td>\n      <td>124 min.</td>\n      <td>Japón</td>\n      <td>Hayao Miyazaki</td>\n      <td>Hayao Miyazaki</td>\n      <td>Joe Hisaishi</td>\n      <td>...</td>\n      <td>Animación. Fantástico. Aventuras | Dragones. P...</td>\n      <td>Studio Ghibli (y obras relacionadas)</td>\n      <td>Chihiro es una niña de diez años que viaja en ...</td>\n      <td>Andy Wachowski, director de \"Matrix\": \"Es una ...</td>\n      <td>Escribe tu opinión para que el resto de los us...</td>\n      <td>Regístrate y podrás acceder a recomendaciones ...</td>\n      <td>Regístrate y podrás acceder a todas las votaci...</td>\n      <td>1 Mis películas japonesas favoritas (206)\\n2 M...</td>\n      <td>2002: Oscar: Mejor largometraje de animación\\n...</td>\n      <td></td>\n    </tr>\n    <tr>\n      <th>0</th>\n      <td>Cascarrabias</td>\n      <td>None</td>\n      <td>None</td>\n      <td>Here Comes the Grump (Ahí viene Cascarrabias)</td>\n      <td>2018</td>\n      <td>97 min.</td>\n      <td>México</td>\n      <td>Andrés Couturier</td>\n      <td>Jim Hecht, Piers Clifton, Ricardo Hernández Du...</td>\n      <td>James Seymour Brett</td>\n      <td>...</td>\n      <td>Animación. Aventuras. Comedia. Fantástico. Inf...</td>\n      <td>NaN</td>\n      <td>Pasar las vacaciones de verano en el increíble...</td>\n      <td>\"Si bien este trabajo no mantiene el carácter ...</td>\n      <td>Escribe tu opinión para que el resto de los us...</td>\n      <td>Regístrate y podrás acceder a recomendaciones ...</td>\n      <td>Regístrate y podrás acceder a todas las votaci...</td>\n      <td>NaN</td>\n      <td>2018: Premios Ariel: Nominada a mejor largomet...</td>\n      <td>NaN</td>\n    </tr>\n    <tr>\n      <th>0</th>\n      <td>Rizi (Days)</td>\n      <td>6,7</td>\n      <td>204</td>\n      <td>Rizi (Days)</td>\n      <td>2020</td>\n      <td>127 min.</td>\n      <td>Taiwán</td>\n      <td>Tsai Ming-liang</td>\n      <td>Tsai Ming-liang</td>\n      <td>NaN</td>\n      <td>...</td>\n      <td>Drama | Homosexualidad. Enfermedad</td>\n      <td>NaN</td>\n      <td>Kang vive solo en una casa grande. A través de...</td>\n      <td>\"Una obra mayor y bellísima sobre la soledad, ...</td>\n      <td>Escribe tu opinión para que el resto de los us...</td>\n      <td>Regístrate y podrás acceder a recomendaciones ...</td>\n      <td>Regístrate y podrás acceder a todas las votaci...</td>\n      <td>NaN</td>\n      <td>2020: Festival de Berlín: Sección oficial larg...</td>\n      <td>NaN</td>\n    </tr>\n    <tr>\n      <th>0</th>\n      <td>El código de los diferentes</td>\n      <td>None</td>\n      <td>None</td>\n      <td>Code of the Freaks</td>\n      <td>2020</td>\n      <td>68 min.</td>\n      <td>Estados Unidos</td>\n      <td>Salome Chasnoff</td>\n      <td>Susan Nussbaum, Alyson Patsavas, Carrie Sandahl</td>\n      <td>Brad Newton</td>\n      <td>...</td>\n      <td>Documental | Discapacidad</td>\n      <td>NaN</td>\n      <td>Documental que examina la representación de pe...</td>\n      <td>NaN</td>\n      <td>Escribe tu opinión para que el resto de los us...</td>\n      <td>Regístrate y podrás acceder a recomendaciones ...</td>\n      <td>Regístrate y podrás acceder a todas las votaci...</td>\n      <td>NaN</td>\n      <td>NaN</td>\n      <td>NaN</td>\n    </tr>\n    <tr>\n      <th>0</th>\n      <td>Tierra Santa. El último peregrino</td>\n      <td>None</td>\n      <td>None</td>\n      <td>Tierra Santa. El último peregrino</td>\n      <td>2021</td>\n      <td>86 min.</td>\n      <td>España</td>\n      <td>Andrés Garrigó, Pablo Moreno</td>\n      <td>Andrés Garrigó, Pedro Delgado, Benjamín Lorenzo</td>\n      <td>José Sánchez-Sanz</td>\n      <td>...</td>\n      <td>Drama. Documental | Religión</td>\n      <td>NaN</td>\n      <td>Carmen ve su matrimonio estancado: su marido n...</td>\n      <td>NaN</td>\n      <td>Escribe tu opinión para que el resto de los us...</td>\n      <td>Regístrate y podrás acceder a recomendaciones ...</td>\n      <td>Regístrate y podrás acceder a todas las votaci...</td>\n      <td>NaN</td>\n      <td>NaN</td>\n      <td>NaN</td>\n    </tr>\n  </tbody>\n</table>\n<p>13 rows × 23 columns</p>\n</div>"
     },
     "metadata": {},
     "execution_count": 166
    }
   ],
   "source": [
    "df_peliculas"
   ]
  },
  {
   "cell_type": "markdown",
   "metadata": {},
   "source": [
    "¡Tachán! Ya tenemos un dataframe con todas las películas que se van a estrenar el próximo viernes"
   ]
  }
 ],
 "metadata": {
  "hide_input": false,
  "kernelspec": {
   "name": "python374jvsc74a57bd016eb897c26cdfcf18817bc60a8e0737e3939ff1e8491198c807979170104e811",
   "display_name": "Python 3.7.4 64-bit"
  },
  "language_info": {
   "codemirror_mode": {
    "name": "ipython",
    "version": 3
   },
   "file_extension": ".py",
   "mimetype": "text/x-python",
   "name": "python",
   "nbconvert_exporter": "python",
   "pygments_lexer": "ipython3",
   "version": "3.7.4"
  },
  "nbTranslate": {
   "displayLangs": [
    "*"
   ],
   "hotkey": "alt-t",
   "langInMainMenu": true,
   "sourceLang": "en",
   "targetLang": "fr",
   "useGoogleTranslate": true
  },
  "varInspector": {
   "cols": {
    "lenName": 16,
    "lenType": 16,
    "lenVar": 40
   },
   "kernels_config": {
    "python": {
     "delete_cmd_postfix": "",
     "delete_cmd_prefix": "del ",
     "library": "var_list.py",
     "varRefreshCmd": "print(var_dic_list())"
    },
    "r": {
     "delete_cmd_postfix": ") ",
     "delete_cmd_prefix": "rm(",
     "library": "var_list.r",
     "varRefreshCmd": "cat(var_dic_list()) "
    }
   },
   "types_to_exclude": [
    "module",
    "function",
    "builtin_function_or_method",
    "instance",
    "_Feature"
   ],
   "window_display": false
  },
  "metadata": {
   "interpreter": {
    "hash": "16eb897c26cdfcf18817bc60a8e0737e3939ff1e8491198c807979170104e811"
   }
  }
 },
 "nbformat": 4,
 "nbformat_minor": 2
}