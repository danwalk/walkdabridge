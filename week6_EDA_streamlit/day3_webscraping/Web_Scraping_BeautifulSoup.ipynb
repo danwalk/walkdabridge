{
 "cells": [
  {
   "cell_type": "markdown",
   "metadata": {},
   "source": [
    "Antes de empezar: un poco de documentación para enterder ligeramente cómo funciona HTML: https://www.w3schools.com/html/html_intro.asp"
   ]
  },
  {
   "cell_type": "markdown",
   "metadata": {},
   "source": [
    "# Web Scraping: Beautiful Soup"
   ]
  },
  {
   "cell_type": "markdown",
   "metadata": {},
   "source": [
    "**Beautiful Soup** es una librería **Python** que permite extraer información de contenido en formato **HTML o XML**. Para usarla, es necesario especificar un **parser**, que es responsable de transformar un documento HTML o XML en un árbol complejo de objetos Python. Esto permite, por ejemplo, que podamos interactuar con los elementos de una página web como si estuviésemos utilizando las herramientas del desarrollador de un navegador.\n",
    "\n",
    "A la hora de extraer información de una web, uno de los parsers más utilizado es el parser HTML de **lxml**. Precisamente, será el que utilicemos en este tutorial."
   ]
  },
  {
   "cell_type": "markdown",
   "metadata": {},
   "source": [
    "**Será necesario instalar las siguientes librerías** (si no las tienes ya):\n",
    "\n",
    "        pip3 install beautifulsoup4 requests pandas\n",
    "\n",
    "        pip3 install beautifulsoup4 \n",
    "\n",
    "        pip3 install requests\n",
    "\n",
    "        pip3 install pandas "
   ]
  },
  {
   "cell_type": "markdown",
   "metadata": {},
   "source": [
    "###  Pasos a seguir en el proceso de 'scraping':\n",
    "\n",
    "1. Encuentra la URL que quieres 'escrapear'.\n",
    "2. Inspecciona la página (código fuente).\n",
    "3. Localiza los datos que necesitas obtener.\n",
    "4. Desarrolla tu código en Python.\n",
    "    1. Crea tu sopa\n",
    "    2. Busca los elementos que cotienen los datos y extráelos\n",
    "5. Ejecuta tu código y obten los datos.\n",
    "6. Alamacena los datos en el formato requerido."
   ]
  },
  {
   "cell_type": "markdown",
   "metadata": {},
   "source": [
    "Algunos ejemplos de Web Scraping utilizando Beautiful Soup:\n",
    "\n",
    "https://j2logo.com/python/web-scraping-con-python-guia-inicio-beautifulsoup/\n",
    "\n",
    "http://omz-software.com/pythonista/docs/ios/beautifulsoup_guide.html\n",
    "\n",
    "https://towardsdatascience.com/top-5-beautiful-soup-functions-7bfe5a693482\n",
    "\n",
    "https://www.crummy.com/software/BeautifulSoup/bs4/doc/"
   ]
  },
  {
   "cell_type": "code",
   "execution_count": 28,
   "metadata": {},
   "outputs": [],
   "source": [
    "# Importamos librerías\n",
    "import requests\n",
    "from bs4 import BeautifulSoup\n",
    "import pandas as pd\n",
    "import html\n",
    "import numpy as np"
   ]
  },
  {
   "cell_type": "markdown",
   "metadata": {},
   "source": [
    "## Caso 1: Scraping de un catálogo: Labirratorium"
   ]
  },
  {
   "cell_type": "code",
   "execution_count": 2,
   "metadata": {},
   "outputs": [],
   "source": [
    "URL = 'https://www.labirratorium.com/es/67-cervezas-por-estilo?page='"
   ]
  },
  {
   "cell_type": "markdown",
   "metadata": {},
   "source": [
    "Queremos obtener un dataFrame con todas las cervezas del catálogo y sus características descritas. Analizamos la página para ver qué tenemos que hacer para conseguirlo"
   ]
  },
  {
   "cell_type": "code",
   "execution_count": null,
   "metadata": {},
   "outputs": [],
   "source": [
    "# La web tiene 80 páginas con 12 cervezas listadas en cada página."
   ]
  },
  {
   "cell_type": "markdown",
   "metadata": {},
   "source": [
    "Hacemos la consulta (request) y creamos la SOPA inicial:"
   ]
  },
  {
   "cell_type": "code",
   "execution_count": 6,
   "metadata": {},
   "outputs": [],
   "source": [
    "r = requests.get(URL)\n",
    "soup = BeautifulSoup(r.text, 'lxml')"
   ]
  },
  {
   "cell_type": "code",
   "execution_count": 7,
   "metadata": {},
   "outputs": [],
   "source": [
    "# Guardamos lista de cervezas\n",
    "cervezas_grid = soup.find_all(class_ = 'product-image')"
   ]
  },
  {
   "cell_type": "code",
   "execution_count": 9,
   "metadata": {},
   "outputs": [
    {
     "output_type": "stream",
     "name": "stdout",
     "text": [
      "12\n"
     ]
    }
   ],
   "source": [
    "# necesitamos acceder a cada una de las cervezas del grid:\n",
    "print(len(cervezas_grid))"
   ]
  },
  {
   "cell_type": "code",
   "execution_count": 10,
   "metadata": {},
   "outputs": [],
   "source": [
    "lista_URL = []\n",
    "for cerveza in cervezas_grid:\n",
    "    URL_cerveza = cerveza.find('a')['href']\n",
    "    lista_URL.append(URL_cerveza)"
   ]
  },
  {
   "cell_type": "code",
   "execution_count": 11,
   "metadata": {},
   "outputs": [
    {
     "output_type": "execute_result",
     "data": {
      "text/plain": [
       "['https://www.labirratorium.com/es/lambic/284-boon-kriek-2013.html',\n",
       " 'https://www.labirratorium.com/es/alemania/225-stortebeker-schwarz-bier.html',\n",
       " 'https://www.labirratorium.com/es/inicio/199-orval.html',\n",
       " 'https://www.labirratorium.com/es/alemania/184-augustiner-lagerbier-hell.html',\n",
       " 'https://www.labirratorium.com/es/inicio/183-schneider-eisbock.html',\n",
       " 'https://www.labirratorium.com/es/inicio/181-schlenkerla-rauchbier-weizen.html',\n",
       " 'https://www.labirratorium.com/es/inicio/173-samuel-adams-boston-lager.html',\n",
       " 'https://www.labirratorium.com/es/inicio/165-laugar-epa.html',\n",
       " 'https://www.labirratorium.com/es/inicio/82-westmalle-dubbel.html',\n",
       " 'https://www.labirratorium.com/es/inicio/75-duchesse-de-bourgogne.html',\n",
       " 'https://www.labirratorium.com/es/inicio/61-tripel-karmeliet33.html',\n",
       " 'https://www.labirratorium.com/es/inicio/21-weihenstephaner-vitus.html']"
      ]
     },
     "metadata": {},
     "execution_count": 11
    }
   ],
   "source": [
    "lista_URL"
   ]
  },
  {
   "cell_type": "code",
   "execution_count": 12,
   "metadata": {},
   "outputs": [],
   "source": [
    "# Hacemos un nuevo request para la primera cerveza: \n",
    "r = requests.get(lista_URL[0])\n",
    "soup_cerveza = BeautifulSoup(r.text, 'lxml')"
   ]
  },
  {
   "cell_type": "code",
   "execution_count": 13,
   "metadata": {},
   "outputs": [
    {
     "output_type": "execute_result",
     "data": {
      "text/plain": [
       "'Boon Oude Kriek 37,5cl'"
      ]
     },
     "metadata": {},
     "execution_count": 13
    }
   ],
   "source": [
    "# Nombre\n",
    "nombre = soup_cerveza.find(class_ = 'h1 product-detail-name').text\n",
    "nombre"
   ]
  },
  {
   "cell_type": "code",
   "execution_count": 14,
   "metadata": {},
   "outputs": [
    {
     "output_type": "execute_result",
     "data": {
      "text/plain": [
       "'7.15'"
      ]
     },
     "metadata": {},
     "execution_count": 14
    }
   ],
   "source": [
    "# Precio\n",
    "precio = soup_cerveza.find(class_ = 'current-price').find('span')['content']\n",
    "precio"
   ]
  },
  {
   "cell_type": "code",
   "execution_count": 15,
   "metadata": {},
   "outputs": [
    {
     "output_type": "execute_result",
     "data": {
      "text/plain": [
       "'Lambic / Kriek'"
      ]
     },
     "metadata": {},
     "execution_count": 15
    }
   ],
   "source": [
    "# Descripcion corta\n",
    "descrp_corta = soup_cerveza.find(class_ = 'description-short').find('p').text\n",
    "descrp_corta"
   ]
  },
  {
   "cell_type": "code",
   "execution_count": 16,
   "metadata": {},
   "outputs": [
    {
     "output_type": "execute_result",
     "data": {
      "text/plain": [
       "'Cerveza de fermentación espontánea (Lambic) de 6.5% ABV sin filtrar ni pasteurizar de estilo Kriek, elaborada con cerezas naturales.'"
      ]
     },
     "metadata": {},
     "execution_count": 16
    }
   ],
   "source": [
    "# Descripción larga\n",
    "descrp_larga = soup_cerveza.find(class_ = 'product-description').find('p').text\n",
    "descrp_larga"
   ]
  },
  {
   "cell_type": "code",
   "execution_count": 17,
   "metadata": {},
   "outputs": [
    {
     "output_type": "execute_result",
     "data": {
      "text/plain": [
       "'https://www.labirratorium.com/19351-large_default/boon-kriek-2013.jpg'"
      ]
     },
     "metadata": {},
     "execution_count": 17
    }
   ],
   "source": [
    "# Imagen\n",
    "imagen = soup_cerveza.find(class_ = 'js-qv-product-cover img-fluid')['src']\n",
    "imagen"
   ]
  },
  {
   "cell_type": "code",
   "execution_count": 18,
   "metadata": {},
   "outputs": [
    {
     "output_type": "execute_result",
     "data": {
      "text/plain": [
       "'Brouwerij F. Boon'"
      ]
     },
     "metadata": {},
     "execution_count": 18
    }
   ],
   "source": [
    " # Brand\n",
    "brand = soup_cerveza.find(class_ = 'img img-thumbnail manufacturer-logo')['alt']\n",
    "brand"
   ]
  },
  {
   "cell_type": "code",
   "execution_count": null,
   "metadata": {},
   "outputs": [],
   "source": [
    "# Código de barras\n"
   ]
  },
  {
   "cell_type": "code",
   "execution_count": 19,
   "metadata": {},
   "outputs": [],
   "source": [
    "# Features\n",
    "features_dic = {}\n",
    "features = soup_cerveza.find(class_ = 'data-sheet')\n",
    "features_dt = features.find_all('dt')\n",
    "features_dd = features.find_all('dd')\n",
    "for feature, value in zip(features_dt, features_dd):\n",
    "    features_dic[feature.text] = value.text\n",
    "\n"
   ]
  },
  {
   "cell_type": "code",
   "execution_count": 20,
   "metadata": {},
   "outputs": [
    {
     "output_type": "execute_result",
     "data": {
      "text/plain": [
       "{'Estilo': 'KRIEK',\n",
       " 'Origen': 'Bélgica',\n",
       " '% Alc.': '6.5\\nALTO (6-9%)',\n",
       " 'Otros ingredientes': 'Cerezas Naturales',\n",
       " 'Volumen (cl)': '37.5 Cl',\n",
       " 'Tipo Fermentación': 'Lambic (Fermentación espontánea o salvaje)',\n",
       " 'Maltas': 'Cebada y Trigo',\n",
       " 'IBU': '0-25 Amargor bajo',\n",
       " 'Color': 'Rojiza',\n",
       " 'Envase': 'Botella'}"
      ]
     },
     "metadata": {},
     "execution_count": 20
    }
   ],
   "source": [
    "features_dic"
   ]
  },
  {
   "cell_type": "code",
   "execution_count": null,
   "metadata": {},
   "outputs": [],
   "source": [
    "# Creamos un Id único que os permita diferenciar cada entrada en la BBDD\n"
   ]
  },
  {
   "cell_type": "markdown",
   "metadata": {},
   "source": [
    "Ya tenemos todos los datos que queremos de la cerveza: Agrupamos todo en una lista:"
   ]
  },
  {
   "cell_type": "code",
   "execution_count": 31,
   "metadata": {},
   "outputs": [
    {
     "output_type": "stream",
     "name": "stdout",
     "text": [
      "Cerveza 1 de 12, pag 1/80\n",
      "Cerveza 2 de 12, pag 1/80\n",
      "Cerveza 3 de 12, pag 1/80\n",
      "Cerveza 4 de 12, pag 1/80\n",
      "Cerveza 5 de 12, pag 1/80\n",
      "Cerveza 6 de 12, pag 1/80\n",
      "Cerveza 7 de 12, pag 1/80\n",
      "Cerveza 8 de 12, pag 1/80\n",
      "Cerveza 9 de 12, pag 1/80\n",
      "Cerveza 10 de 12, pag 1/80\n",
      "Cerveza 11 de 12, pag 1/80\n",
      "Cerveza 12 de 12, pag 1/80\n",
      "Cerveza 1 de 12, pag 2/80\n",
      "Cerveza 2 de 12, pag 2/80\n",
      "Cerveza 3 de 12, pag 2/80\n",
      "Cerveza 4 de 12, pag 2/80\n",
      "Cerveza 5 de 12, pag 2/80\n",
      "Cerveza 6 de 12, pag 2/80\n",
      "Cerveza 7 de 12, pag 2/80\n",
      "Cerveza 8 de 12, pag 2/80\n",
      "Cerveza 9 de 12, pag 2/80\n",
      "Cerveza 10 de 12, pag 2/80\n",
      "Cerveza 11 de 12, pag 2/80\n",
      "Cerveza 12 de 12, pag 2/80\n"
     ]
    },
    {
     "output_type": "error",
     "ename": "KeyboardInterrupt",
     "evalue": "",
     "traceback": [
      "\u001b[1;31m---------------------------------------------------------------------------\u001b[0m",
      "\u001b[1;31mKeyboardInterrupt\u001b[0m                         Traceback (most recent call last)",
      "\u001b[1;32m<ipython-input-31-5f6f91d145cc>\u001b[0m in \u001b[0;36m<module>\u001b[1;34m\u001b[0m\n\u001b[0;32m     15\u001b[0m         \u001b[0mprint\u001b[0m\u001b[1;33m(\u001b[0m\u001b[1;34m'Cerveza {} de {}, pag {}/{}'\u001b[0m\u001b[1;33m.\u001b[0m\u001b[0mformat\u001b[0m\u001b[1;33m(\u001b[0m\u001b[0mcount_beer\u001b[0m\u001b[1;33m,\u001b[0m \u001b[0mlen\u001b[0m\u001b[1;33m(\u001b[0m\u001b[0mcervezas_grid\u001b[0m\u001b[1;33m)\u001b[0m\u001b[1;33m,\u001b[0m \u001b[0mpage\u001b[0m\u001b[1;33m,\u001b[0m \u001b[0mlen\u001b[0m\u001b[1;33m(\u001b[0m\u001b[0mpages\u001b[0m\u001b[1;33m)\u001b[0m\u001b[1;33m)\u001b[0m\u001b[1;33m)\u001b[0m\u001b[1;33m\u001b[0m\u001b[1;33m\u001b[0m\u001b[0m\n\u001b[0;32m     16\u001b[0m         \u001b[0mURL_cerveza\u001b[0m \u001b[1;33m=\u001b[0m \u001b[0mcerveza\u001b[0m\u001b[1;33m.\u001b[0m\u001b[0mfind\u001b[0m\u001b[1;33m(\u001b[0m\u001b[1;34m'a'\u001b[0m\u001b[1;33m)\u001b[0m\u001b[1;33m[\u001b[0m\u001b[1;34m'href'\u001b[0m\u001b[1;33m]\u001b[0m\u001b[1;33m\u001b[0m\u001b[1;33m\u001b[0m\u001b[0m\n\u001b[1;32m---> 17\u001b[1;33m         \u001b[0mr\u001b[0m \u001b[1;33m=\u001b[0m \u001b[0mrequests\u001b[0m\u001b[1;33m.\u001b[0m\u001b[0mget\u001b[0m\u001b[1;33m(\u001b[0m\u001b[0mURL_cerveza\u001b[0m\u001b[1;33m)\u001b[0m\u001b[1;33m\u001b[0m\u001b[1;33m\u001b[0m\u001b[0m\n\u001b[0m\u001b[0;32m     18\u001b[0m         \u001b[0msoup_cerveza\u001b[0m \u001b[1;33m=\u001b[0m \u001b[0mBeautifulSoup\u001b[0m\u001b[1;33m(\u001b[0m\u001b[0mr\u001b[0m\u001b[1;33m.\u001b[0m\u001b[0mtext\u001b[0m\u001b[1;33m,\u001b[0m \u001b[1;34m'lxml'\u001b[0m\u001b[1;33m)\u001b[0m\u001b[1;33m\u001b[0m\u001b[1;33m\u001b[0m\u001b[0m\n\u001b[0;32m     19\u001b[0m \u001b[1;33m\u001b[0m\u001b[0m\n",
      "\u001b[1;32m~\\AppData\\Local\\Programs\\Python\\Python37\\lib\\site-packages\\requests\\api.py\u001b[0m in \u001b[0;36mget\u001b[1;34m(url, params, **kwargs)\u001b[0m\n\u001b[0;32m     74\u001b[0m \u001b[1;33m\u001b[0m\u001b[0m\n\u001b[0;32m     75\u001b[0m     \u001b[0mkwargs\u001b[0m\u001b[1;33m.\u001b[0m\u001b[0msetdefault\u001b[0m\u001b[1;33m(\u001b[0m\u001b[1;34m'allow_redirects'\u001b[0m\u001b[1;33m,\u001b[0m \u001b[1;32mTrue\u001b[0m\u001b[1;33m)\u001b[0m\u001b[1;33m\u001b[0m\u001b[1;33m\u001b[0m\u001b[0m\n\u001b[1;32m---> 76\u001b[1;33m     \u001b[1;32mreturn\u001b[0m \u001b[0mrequest\u001b[0m\u001b[1;33m(\u001b[0m\u001b[1;34m'get'\u001b[0m\u001b[1;33m,\u001b[0m \u001b[0murl\u001b[0m\u001b[1;33m,\u001b[0m \u001b[0mparams\u001b[0m\u001b[1;33m=\u001b[0m\u001b[0mparams\u001b[0m\u001b[1;33m,\u001b[0m \u001b[1;33m**\u001b[0m\u001b[0mkwargs\u001b[0m\u001b[1;33m)\u001b[0m\u001b[1;33m\u001b[0m\u001b[1;33m\u001b[0m\u001b[0m\n\u001b[0m\u001b[0;32m     77\u001b[0m \u001b[1;33m\u001b[0m\u001b[0m\n\u001b[0;32m     78\u001b[0m \u001b[1;33m\u001b[0m\u001b[0m\n",
      "\u001b[1;32m~\\AppData\\Local\\Programs\\Python\\Python37\\lib\\site-packages\\requests\\api.py\u001b[0m in \u001b[0;36mrequest\u001b[1;34m(method, url, **kwargs)\u001b[0m\n\u001b[0;32m     59\u001b[0m     \u001b[1;31m# cases, and look like a memory leak in others.\u001b[0m\u001b[1;33m\u001b[0m\u001b[1;33m\u001b[0m\u001b[1;33m\u001b[0m\u001b[0m\n\u001b[0;32m     60\u001b[0m     \u001b[1;32mwith\u001b[0m \u001b[0msessions\u001b[0m\u001b[1;33m.\u001b[0m\u001b[0mSession\u001b[0m\u001b[1;33m(\u001b[0m\u001b[1;33m)\u001b[0m \u001b[1;32mas\u001b[0m \u001b[0msession\u001b[0m\u001b[1;33m:\u001b[0m\u001b[1;33m\u001b[0m\u001b[1;33m\u001b[0m\u001b[0m\n\u001b[1;32m---> 61\u001b[1;33m         \u001b[1;32mreturn\u001b[0m \u001b[0msession\u001b[0m\u001b[1;33m.\u001b[0m\u001b[0mrequest\u001b[0m\u001b[1;33m(\u001b[0m\u001b[0mmethod\u001b[0m\u001b[1;33m=\u001b[0m\u001b[0mmethod\u001b[0m\u001b[1;33m,\u001b[0m \u001b[0murl\u001b[0m\u001b[1;33m=\u001b[0m\u001b[0murl\u001b[0m\u001b[1;33m,\u001b[0m \u001b[1;33m**\u001b[0m\u001b[0mkwargs\u001b[0m\u001b[1;33m)\u001b[0m\u001b[1;33m\u001b[0m\u001b[1;33m\u001b[0m\u001b[0m\n\u001b[0m\u001b[0;32m     62\u001b[0m \u001b[1;33m\u001b[0m\u001b[0m\n\u001b[0;32m     63\u001b[0m \u001b[1;33m\u001b[0m\u001b[0m\n",
      "\u001b[1;32m~\\AppData\\Local\\Programs\\Python\\Python37\\lib\\site-packages\\requests\\sessions.py\u001b[0m in \u001b[0;36mrequest\u001b[1;34m(self, method, url, params, data, headers, cookies, files, auth, timeout, allow_redirects, proxies, hooks, stream, verify, cert, json)\u001b[0m\n\u001b[0;32m    540\u001b[0m         }\n\u001b[0;32m    541\u001b[0m         \u001b[0msend_kwargs\u001b[0m\u001b[1;33m.\u001b[0m\u001b[0mupdate\u001b[0m\u001b[1;33m(\u001b[0m\u001b[0msettings\u001b[0m\u001b[1;33m)\u001b[0m\u001b[1;33m\u001b[0m\u001b[1;33m\u001b[0m\u001b[0m\n\u001b[1;32m--> 542\u001b[1;33m         \u001b[0mresp\u001b[0m \u001b[1;33m=\u001b[0m \u001b[0mself\u001b[0m\u001b[1;33m.\u001b[0m\u001b[0msend\u001b[0m\u001b[1;33m(\u001b[0m\u001b[0mprep\u001b[0m\u001b[1;33m,\u001b[0m \u001b[1;33m**\u001b[0m\u001b[0msend_kwargs\u001b[0m\u001b[1;33m)\u001b[0m\u001b[1;33m\u001b[0m\u001b[1;33m\u001b[0m\u001b[0m\n\u001b[0m\u001b[0;32m    543\u001b[0m \u001b[1;33m\u001b[0m\u001b[0m\n\u001b[0;32m    544\u001b[0m         \u001b[1;32mreturn\u001b[0m \u001b[0mresp\u001b[0m\u001b[1;33m\u001b[0m\u001b[1;33m\u001b[0m\u001b[0m\n",
      "\u001b[1;32m~\\AppData\\Local\\Programs\\Python\\Python37\\lib\\site-packages\\requests\\sessions.py\u001b[0m in \u001b[0;36msend\u001b[1;34m(self, request, **kwargs)\u001b[0m\n\u001b[0;32m    653\u001b[0m \u001b[1;33m\u001b[0m\u001b[0m\n\u001b[0;32m    654\u001b[0m         \u001b[1;31m# Send the request\u001b[0m\u001b[1;33m\u001b[0m\u001b[1;33m\u001b[0m\u001b[1;33m\u001b[0m\u001b[0m\n\u001b[1;32m--> 655\u001b[1;33m         \u001b[0mr\u001b[0m \u001b[1;33m=\u001b[0m \u001b[0madapter\u001b[0m\u001b[1;33m.\u001b[0m\u001b[0msend\u001b[0m\u001b[1;33m(\u001b[0m\u001b[0mrequest\u001b[0m\u001b[1;33m,\u001b[0m \u001b[1;33m**\u001b[0m\u001b[0mkwargs\u001b[0m\u001b[1;33m)\u001b[0m\u001b[1;33m\u001b[0m\u001b[1;33m\u001b[0m\u001b[0m\n\u001b[0m\u001b[0;32m    656\u001b[0m \u001b[1;33m\u001b[0m\u001b[0m\n\u001b[0;32m    657\u001b[0m         \u001b[1;31m# Total elapsed time of the request (approximately)\u001b[0m\u001b[1;33m\u001b[0m\u001b[1;33m\u001b[0m\u001b[1;33m\u001b[0m\u001b[0m\n",
      "\u001b[1;32m~\\AppData\\Local\\Programs\\Python\\Python37\\lib\\site-packages\\requests\\adapters.py\u001b[0m in \u001b[0;36msend\u001b[1;34m(self, request, stream, timeout, verify, cert, proxies)\u001b[0m\n\u001b[0;32m    447\u001b[0m                     \u001b[0mdecode_content\u001b[0m\u001b[1;33m=\u001b[0m\u001b[1;32mFalse\u001b[0m\u001b[1;33m,\u001b[0m\u001b[1;33m\u001b[0m\u001b[1;33m\u001b[0m\u001b[0m\n\u001b[0;32m    448\u001b[0m                     \u001b[0mretries\u001b[0m\u001b[1;33m=\u001b[0m\u001b[0mself\u001b[0m\u001b[1;33m.\u001b[0m\u001b[0mmax_retries\u001b[0m\u001b[1;33m,\u001b[0m\u001b[1;33m\u001b[0m\u001b[1;33m\u001b[0m\u001b[0m\n\u001b[1;32m--> 449\u001b[1;33m                     \u001b[0mtimeout\u001b[0m\u001b[1;33m=\u001b[0m\u001b[0mtimeout\u001b[0m\u001b[1;33m\u001b[0m\u001b[1;33m\u001b[0m\u001b[0m\n\u001b[0m\u001b[0;32m    450\u001b[0m                 )\n\u001b[0;32m    451\u001b[0m \u001b[1;33m\u001b[0m\u001b[0m\n",
      "\u001b[1;32m~\\AppData\\Local\\Programs\\Python\\Python37\\lib\\site-packages\\urllib3\\connectionpool.py\u001b[0m in \u001b[0;36murlopen\u001b[1;34m(self, method, url, body, headers, retries, redirect, assert_same_host, timeout, pool_timeout, release_conn, chunked, body_pos, **response_kw)\u001b[0m\n\u001b[0;32m    704\u001b[0m                 \u001b[0mbody\u001b[0m\u001b[1;33m=\u001b[0m\u001b[0mbody\u001b[0m\u001b[1;33m,\u001b[0m\u001b[1;33m\u001b[0m\u001b[1;33m\u001b[0m\u001b[0m\n\u001b[0;32m    705\u001b[0m                 \u001b[0mheaders\u001b[0m\u001b[1;33m=\u001b[0m\u001b[0mheaders\u001b[0m\u001b[1;33m,\u001b[0m\u001b[1;33m\u001b[0m\u001b[1;33m\u001b[0m\u001b[0m\n\u001b[1;32m--> 706\u001b[1;33m                 \u001b[0mchunked\u001b[0m\u001b[1;33m=\u001b[0m\u001b[0mchunked\u001b[0m\u001b[1;33m,\u001b[0m\u001b[1;33m\u001b[0m\u001b[1;33m\u001b[0m\u001b[0m\n\u001b[0m\u001b[0;32m    707\u001b[0m             )\n\u001b[0;32m    708\u001b[0m \u001b[1;33m\u001b[0m\u001b[0m\n",
      "\u001b[1;32m~\\AppData\\Local\\Programs\\Python\\Python37\\lib\\site-packages\\urllib3\\connectionpool.py\u001b[0m in \u001b[0;36m_make_request\u001b[1;34m(self, conn, method, url, timeout, chunked, **httplib_request_kw)\u001b[0m\n\u001b[0;32m    443\u001b[0m                     \u001b[1;31m# Python 3 (including for exceptions like SystemExit).\u001b[0m\u001b[1;33m\u001b[0m\u001b[1;33m\u001b[0m\u001b[1;33m\u001b[0m\u001b[0m\n\u001b[0;32m    444\u001b[0m                     \u001b[1;31m# Otherwise it looks like a bug in the code.\u001b[0m\u001b[1;33m\u001b[0m\u001b[1;33m\u001b[0m\u001b[1;33m\u001b[0m\u001b[0m\n\u001b[1;32m--> 445\u001b[1;33m                     \u001b[0msix\u001b[0m\u001b[1;33m.\u001b[0m\u001b[0mraise_from\u001b[0m\u001b[1;33m(\u001b[0m\u001b[0me\u001b[0m\u001b[1;33m,\u001b[0m \u001b[1;32mNone\u001b[0m\u001b[1;33m)\u001b[0m\u001b[1;33m\u001b[0m\u001b[1;33m\u001b[0m\u001b[0m\n\u001b[0m\u001b[0;32m    446\u001b[0m         \u001b[1;32mexcept\u001b[0m \u001b[1;33m(\u001b[0m\u001b[0mSocketTimeout\u001b[0m\u001b[1;33m,\u001b[0m \u001b[0mBaseSSLError\u001b[0m\u001b[1;33m,\u001b[0m \u001b[0mSocketError\u001b[0m\u001b[1;33m)\u001b[0m \u001b[1;32mas\u001b[0m \u001b[0me\u001b[0m\u001b[1;33m:\u001b[0m\u001b[1;33m\u001b[0m\u001b[1;33m\u001b[0m\u001b[0m\n\u001b[0;32m    447\u001b[0m             \u001b[0mself\u001b[0m\u001b[1;33m.\u001b[0m\u001b[0m_raise_timeout\u001b[0m\u001b[1;33m(\u001b[0m\u001b[0merr\u001b[0m\u001b[1;33m=\u001b[0m\u001b[0me\u001b[0m\u001b[1;33m,\u001b[0m \u001b[0murl\u001b[0m\u001b[1;33m=\u001b[0m\u001b[0murl\u001b[0m\u001b[1;33m,\u001b[0m \u001b[0mtimeout_value\u001b[0m\u001b[1;33m=\u001b[0m\u001b[0mread_timeout\u001b[0m\u001b[1;33m)\u001b[0m\u001b[1;33m\u001b[0m\u001b[1;33m\u001b[0m\u001b[0m\n",
      "\u001b[1;32m~\\AppData\\Local\\Programs\\Python\\Python37\\lib\\site-packages\\urllib3\\packages\\six.py\u001b[0m in \u001b[0;36mraise_from\u001b[1;34m(value, from_value)\u001b[0m\n",
      "\u001b[1;32m~\\AppData\\Local\\Programs\\Python\\Python37\\lib\\site-packages\\urllib3\\connectionpool.py\u001b[0m in \u001b[0;36m_make_request\u001b[1;34m(self, conn, method, url, timeout, chunked, **httplib_request_kw)\u001b[0m\n\u001b[0;32m    438\u001b[0m                 \u001b[1;31m# Python 3\u001b[0m\u001b[1;33m\u001b[0m\u001b[1;33m\u001b[0m\u001b[1;33m\u001b[0m\u001b[0m\n\u001b[0;32m    439\u001b[0m                 \u001b[1;32mtry\u001b[0m\u001b[1;33m:\u001b[0m\u001b[1;33m\u001b[0m\u001b[1;33m\u001b[0m\u001b[0m\n\u001b[1;32m--> 440\u001b[1;33m                     \u001b[0mhttplib_response\u001b[0m \u001b[1;33m=\u001b[0m \u001b[0mconn\u001b[0m\u001b[1;33m.\u001b[0m\u001b[0mgetresponse\u001b[0m\u001b[1;33m(\u001b[0m\u001b[1;33m)\u001b[0m\u001b[1;33m\u001b[0m\u001b[1;33m\u001b[0m\u001b[0m\n\u001b[0m\u001b[0;32m    441\u001b[0m                 \u001b[1;32mexcept\u001b[0m \u001b[0mBaseException\u001b[0m \u001b[1;32mas\u001b[0m \u001b[0me\u001b[0m\u001b[1;33m:\u001b[0m\u001b[1;33m\u001b[0m\u001b[1;33m\u001b[0m\u001b[0m\n\u001b[0;32m    442\u001b[0m                     \u001b[1;31m# Remove the TypeError from the exception chain in\u001b[0m\u001b[1;33m\u001b[0m\u001b[1;33m\u001b[0m\u001b[1;33m\u001b[0m\u001b[0m\n",
      "\u001b[1;32m~\\AppData\\Local\\Programs\\Python\\Python37\\lib\\http\\client.py\u001b[0m in \u001b[0;36mgetresponse\u001b[1;34m(self)\u001b[0m\n\u001b[0;32m   1334\u001b[0m         \u001b[1;32mtry\u001b[0m\u001b[1;33m:\u001b[0m\u001b[1;33m\u001b[0m\u001b[1;33m\u001b[0m\u001b[0m\n\u001b[0;32m   1335\u001b[0m             \u001b[1;32mtry\u001b[0m\u001b[1;33m:\u001b[0m\u001b[1;33m\u001b[0m\u001b[1;33m\u001b[0m\u001b[0m\n\u001b[1;32m-> 1336\u001b[1;33m                 \u001b[0mresponse\u001b[0m\u001b[1;33m.\u001b[0m\u001b[0mbegin\u001b[0m\u001b[1;33m(\u001b[0m\u001b[1;33m)\u001b[0m\u001b[1;33m\u001b[0m\u001b[1;33m\u001b[0m\u001b[0m\n\u001b[0m\u001b[0;32m   1337\u001b[0m             \u001b[1;32mexcept\u001b[0m \u001b[0mConnectionError\u001b[0m\u001b[1;33m:\u001b[0m\u001b[1;33m\u001b[0m\u001b[1;33m\u001b[0m\u001b[0m\n\u001b[0;32m   1338\u001b[0m                 \u001b[0mself\u001b[0m\u001b[1;33m.\u001b[0m\u001b[0mclose\u001b[0m\u001b[1;33m(\u001b[0m\u001b[1;33m)\u001b[0m\u001b[1;33m\u001b[0m\u001b[1;33m\u001b[0m\u001b[0m\n",
      "\u001b[1;32m~\\AppData\\Local\\Programs\\Python\\Python37\\lib\\http\\client.py\u001b[0m in \u001b[0;36mbegin\u001b[1;34m(self)\u001b[0m\n\u001b[0;32m    304\u001b[0m         \u001b[1;31m# read until we get a non-100 response\u001b[0m\u001b[1;33m\u001b[0m\u001b[1;33m\u001b[0m\u001b[1;33m\u001b[0m\u001b[0m\n\u001b[0;32m    305\u001b[0m         \u001b[1;32mwhile\u001b[0m \u001b[1;32mTrue\u001b[0m\u001b[1;33m:\u001b[0m\u001b[1;33m\u001b[0m\u001b[1;33m\u001b[0m\u001b[0m\n\u001b[1;32m--> 306\u001b[1;33m             \u001b[0mversion\u001b[0m\u001b[1;33m,\u001b[0m \u001b[0mstatus\u001b[0m\u001b[1;33m,\u001b[0m \u001b[0mreason\u001b[0m \u001b[1;33m=\u001b[0m \u001b[0mself\u001b[0m\u001b[1;33m.\u001b[0m\u001b[0m_read_status\u001b[0m\u001b[1;33m(\u001b[0m\u001b[1;33m)\u001b[0m\u001b[1;33m\u001b[0m\u001b[1;33m\u001b[0m\u001b[0m\n\u001b[0m\u001b[0;32m    307\u001b[0m             \u001b[1;32mif\u001b[0m \u001b[0mstatus\u001b[0m \u001b[1;33m!=\u001b[0m \u001b[0mCONTINUE\u001b[0m\u001b[1;33m:\u001b[0m\u001b[1;33m\u001b[0m\u001b[1;33m\u001b[0m\u001b[0m\n\u001b[0;32m    308\u001b[0m                 \u001b[1;32mbreak\u001b[0m\u001b[1;33m\u001b[0m\u001b[1;33m\u001b[0m\u001b[0m\n",
      "\u001b[1;32m~\\AppData\\Local\\Programs\\Python\\Python37\\lib\\http\\client.py\u001b[0m in \u001b[0;36m_read_status\u001b[1;34m(self)\u001b[0m\n\u001b[0;32m    265\u001b[0m \u001b[1;33m\u001b[0m\u001b[0m\n\u001b[0;32m    266\u001b[0m     \u001b[1;32mdef\u001b[0m \u001b[0m_read_status\u001b[0m\u001b[1;33m(\u001b[0m\u001b[0mself\u001b[0m\u001b[1;33m)\u001b[0m\u001b[1;33m:\u001b[0m\u001b[1;33m\u001b[0m\u001b[1;33m\u001b[0m\u001b[0m\n\u001b[1;32m--> 267\u001b[1;33m         \u001b[0mline\u001b[0m \u001b[1;33m=\u001b[0m \u001b[0mstr\u001b[0m\u001b[1;33m(\u001b[0m\u001b[0mself\u001b[0m\u001b[1;33m.\u001b[0m\u001b[0mfp\u001b[0m\u001b[1;33m.\u001b[0m\u001b[0mreadline\u001b[0m\u001b[1;33m(\u001b[0m\u001b[0m_MAXLINE\u001b[0m \u001b[1;33m+\u001b[0m \u001b[1;36m1\u001b[0m\u001b[1;33m)\u001b[0m\u001b[1;33m,\u001b[0m \u001b[1;34m\"iso-8859-1\"\u001b[0m\u001b[1;33m)\u001b[0m\u001b[1;33m\u001b[0m\u001b[1;33m\u001b[0m\u001b[0m\n\u001b[0m\u001b[0;32m    268\u001b[0m         \u001b[1;32mif\u001b[0m \u001b[0mlen\u001b[0m\u001b[1;33m(\u001b[0m\u001b[0mline\u001b[0m\u001b[1;33m)\u001b[0m \u001b[1;33m>\u001b[0m \u001b[0m_MAXLINE\u001b[0m\u001b[1;33m:\u001b[0m\u001b[1;33m\u001b[0m\u001b[1;33m\u001b[0m\u001b[0m\n\u001b[0;32m    269\u001b[0m             \u001b[1;32mraise\u001b[0m \u001b[0mLineTooLong\u001b[0m\u001b[1;33m(\u001b[0m\u001b[1;34m\"status line\"\u001b[0m\u001b[1;33m)\u001b[0m\u001b[1;33m\u001b[0m\u001b[1;33m\u001b[0m\u001b[0m\n",
      "\u001b[1;32m~\\AppData\\Local\\Programs\\Python\\Python37\\lib\\socket.py\u001b[0m in \u001b[0;36mreadinto\u001b[1;34m(self, b)\u001b[0m\n\u001b[0;32m    587\u001b[0m         \u001b[1;32mwhile\u001b[0m \u001b[1;32mTrue\u001b[0m\u001b[1;33m:\u001b[0m\u001b[1;33m\u001b[0m\u001b[1;33m\u001b[0m\u001b[0m\n\u001b[0;32m    588\u001b[0m             \u001b[1;32mtry\u001b[0m\u001b[1;33m:\u001b[0m\u001b[1;33m\u001b[0m\u001b[1;33m\u001b[0m\u001b[0m\n\u001b[1;32m--> 589\u001b[1;33m                 \u001b[1;32mreturn\u001b[0m \u001b[0mself\u001b[0m\u001b[1;33m.\u001b[0m\u001b[0m_sock\u001b[0m\u001b[1;33m.\u001b[0m\u001b[0mrecv_into\u001b[0m\u001b[1;33m(\u001b[0m\u001b[0mb\u001b[0m\u001b[1;33m)\u001b[0m\u001b[1;33m\u001b[0m\u001b[1;33m\u001b[0m\u001b[0m\n\u001b[0m\u001b[0;32m    590\u001b[0m             \u001b[1;32mexcept\u001b[0m \u001b[0mtimeout\u001b[0m\u001b[1;33m:\u001b[0m\u001b[1;33m\u001b[0m\u001b[1;33m\u001b[0m\u001b[0m\n\u001b[0;32m    591\u001b[0m                 \u001b[0mself\u001b[0m\u001b[1;33m.\u001b[0m\u001b[0m_timeout_occurred\u001b[0m \u001b[1;33m=\u001b[0m \u001b[1;32mTrue\u001b[0m\u001b[1;33m\u001b[0m\u001b[1;33m\u001b[0m\u001b[0m\n",
      "\u001b[1;32m~\\AppData\\Local\\Programs\\Python\\Python37\\lib\\ssl.py\u001b[0m in \u001b[0;36mrecv_into\u001b[1;34m(self, buffer, nbytes, flags)\u001b[0m\n\u001b[0;32m   1069\u001b[0m                   \u001b[1;34m\"non-zero flags not allowed in calls to recv_into() on %s\"\u001b[0m \u001b[1;33m%\u001b[0m\u001b[1;33m\u001b[0m\u001b[1;33m\u001b[0m\u001b[0m\n\u001b[0;32m   1070\u001b[0m                   self.__class__)\n\u001b[1;32m-> 1071\u001b[1;33m             \u001b[1;32mreturn\u001b[0m \u001b[0mself\u001b[0m\u001b[1;33m.\u001b[0m\u001b[0mread\u001b[0m\u001b[1;33m(\u001b[0m\u001b[0mnbytes\u001b[0m\u001b[1;33m,\u001b[0m \u001b[0mbuffer\u001b[0m\u001b[1;33m)\u001b[0m\u001b[1;33m\u001b[0m\u001b[1;33m\u001b[0m\u001b[0m\n\u001b[0m\u001b[0;32m   1072\u001b[0m         \u001b[1;32melse\u001b[0m\u001b[1;33m:\u001b[0m\u001b[1;33m\u001b[0m\u001b[1;33m\u001b[0m\u001b[0m\n\u001b[0;32m   1073\u001b[0m             \u001b[1;32mreturn\u001b[0m \u001b[0msuper\u001b[0m\u001b[1;33m(\u001b[0m\u001b[1;33m)\u001b[0m\u001b[1;33m.\u001b[0m\u001b[0mrecv_into\u001b[0m\u001b[1;33m(\u001b[0m\u001b[0mbuffer\u001b[0m\u001b[1;33m,\u001b[0m \u001b[0mnbytes\u001b[0m\u001b[1;33m,\u001b[0m \u001b[0mflags\u001b[0m\u001b[1;33m)\u001b[0m\u001b[1;33m\u001b[0m\u001b[1;33m\u001b[0m\u001b[0m\n",
      "\u001b[1;32m~\\AppData\\Local\\Programs\\Python\\Python37\\lib\\ssl.py\u001b[0m in \u001b[0;36mread\u001b[1;34m(self, len, buffer)\u001b[0m\n\u001b[0;32m    927\u001b[0m         \u001b[1;32mtry\u001b[0m\u001b[1;33m:\u001b[0m\u001b[1;33m\u001b[0m\u001b[1;33m\u001b[0m\u001b[0m\n\u001b[0;32m    928\u001b[0m             \u001b[1;32mif\u001b[0m \u001b[0mbuffer\u001b[0m \u001b[1;32mis\u001b[0m \u001b[1;32mnot\u001b[0m \u001b[1;32mNone\u001b[0m\u001b[1;33m:\u001b[0m\u001b[1;33m\u001b[0m\u001b[1;33m\u001b[0m\u001b[0m\n\u001b[1;32m--> 929\u001b[1;33m                 \u001b[1;32mreturn\u001b[0m \u001b[0mself\u001b[0m\u001b[1;33m.\u001b[0m\u001b[0m_sslobj\u001b[0m\u001b[1;33m.\u001b[0m\u001b[0mread\u001b[0m\u001b[1;33m(\u001b[0m\u001b[0mlen\u001b[0m\u001b[1;33m,\u001b[0m \u001b[0mbuffer\u001b[0m\u001b[1;33m)\u001b[0m\u001b[1;33m\u001b[0m\u001b[1;33m\u001b[0m\u001b[0m\n\u001b[0m\u001b[0;32m    930\u001b[0m             \u001b[1;32melse\u001b[0m\u001b[1;33m:\u001b[0m\u001b[1;33m\u001b[0m\u001b[1;33m\u001b[0m\u001b[0m\n\u001b[0;32m    931\u001b[0m                 \u001b[1;32mreturn\u001b[0m \u001b[0mself\u001b[0m\u001b[1;33m.\u001b[0m\u001b[0m_sslobj\u001b[0m\u001b[1;33m.\u001b[0m\u001b[0mread\u001b[0m\u001b[1;33m(\u001b[0m\u001b[0mlen\u001b[0m\u001b[1;33m)\u001b[0m\u001b[1;33m\u001b[0m\u001b[1;33m\u001b[0m\u001b[0m\n",
      "\u001b[1;31mKeyboardInterrupt\u001b[0m: "
     ]
    }
   ],
   "source": [
    "# Agregamos a una lista\n",
    "pages = np.arange(1,81)\n",
    "count = 1\n",
    "lista_cervezas = []\n",
    "\n",
    "for page in pages:\n",
    "\n",
    "    URL = 'https://www.labirratorium.com/es/67-cervezas-por-estilo?page=' + str(page)\n",
    "    r = requests.get(URL)\n",
    "    soup = BeautifulSoup(r.text, 'lxml')\n",
    "    cervezas_grid = soup.find_all(class_ = 'product-image')\n",
    "\n",
    "    count_beer = 1\n",
    "    for cerveza in cervezas_grid:\n",
    "        print('Cerveza {} de {}, pag {}/{}'.format(count_beer, len(cervezas_grid), page, len(pages)))\n",
    "        URL_cerveza = cerveza.find('a')['href']\n",
    "        r = requests.get(URL_cerveza)\n",
    "        soup_cerveza = BeautifulSoup(r.text, 'lxml')\n",
    "\n",
    "        id_cerv = 'lbt_' + str(count)\n",
    "\n",
    "        name = soup_cerveza.find(class_='h1 product-detail-name').text\n",
    "\n",
    "        precio = soup_cerveza.find(class_ = 'current-price').find('span')['content']\n",
    "        try:\n",
    "            descrp_corta = soup_cerveza.find(class_ = 'description-short').find('p').text\n",
    "        except:\n",
    "            descrp_corta = None\n",
    "        try:        \n",
    "            descrp_larga = soup_cerveza.find(class_ = 'product-description').find('p').text\n",
    "        except:\n",
    "            descrp_larga = None\n",
    "        try:\n",
    "            image = soup_cerveza.find(class_='js-qv-product-cover img-fluid')['src']\n",
    "        except:\n",
    "            image = None\n",
    "        try:\n",
    "            brand = soup_cerveza.find(class_ = 'img img-thumbnail manufacturer-logo')['alt']\n",
    "        except:\n",
    "            brand = None\n",
    "        try:\n",
    "            descrp_larga = soup_cerveza.find(class_ = 'product-description').find('p').text\n",
    "        except:\n",
    "            descrp_larga = None\n",
    "        features_dic = {}\n",
    "        try:\n",
    "            features = soup_cerveza.find(class_ = 'data-sheet')\n",
    "            features_dt = features.find_all('dt')\n",
    "            features_dd = features.find_all('dd')\n",
    "            for feature, value in zip(features_dt, features_dd):\n",
    "                features_dic[feature.text] = value.text\n",
    "        except:\n",
    "            features_dic = {}\n",
    "\n",
    "        lista_cervezas.append([\n",
    "            ('id', id_cerv),\n",
    "            ('name', name), \n",
    "            ('price', precio),\n",
    "            ('descr_short', descrp_corta),\n",
    "            ('descr_full', descrp_larga),\n",
    "            ('image', image),\n",
    "            ('brand', brand),\n",
    "            ('features', features_dic)\n",
    "        ]) \n",
    "\n",
    "        count +=1\n",
    "        count_beer +=1"
   ]
  },
  {
   "cell_type": "code",
   "execution_count": 26,
   "metadata": {},
   "outputs": [
    {
     "output_type": "execute_result",
     "data": {
      "text/plain": [
       "[[('id', 'lbt_1'),\n",
       "  ('name', 'Boon Oude Kriek 37,5cl'),\n",
       "  ('price', '7.15'),\n",
       "  ('descr_short', 'Lambic / Kriek'),\n",
       "  ('descr_full',\n",
       "   'Cerveza de fermentación espontánea (Lambic) de 6.5% ABV sin filtrar ni pasteurizar de estilo Kriek, elaborada con cerezas naturales.'),\n",
       "  ('image',\n",
       "   'https://www.labirratorium.com/19351-large_default/boon-kriek-2013.jpg'),\n",
       "  ('brand', 'Brouwerij F. Boon'),\n",
       "  ('features',\n",
       "   {'Estilo': 'KRIEK',\n",
       "    'Origen': 'Bélgica',\n",
       "    '% Alc.': '6.5\\nALTO (6-9%)',\n",
       "    'Otros ingredientes': 'Cerezas Naturales',\n",
       "    'Volumen (cl)': '37.5 Cl',\n",
       "    'Tipo Fermentación': 'Lambic (Fermentación espontánea o salvaje)',\n",
       "    'Maltas': 'Cebada y Trigo',\n",
       "    'IBU': '0-25 Amargor bajo',\n",
       "    'Color': 'Rojiza',\n",
       "    'Envase': 'Botella'})],\n",
       " [('id', 'lbt_2'),\n",
       "  ('name', 'Störtebeker Schwarz-Bier'),\n",
       "  ('price', '2.4'),\n",
       "  ('descr_short', 'Cerveza negra de baja fermentación\\xa0'),\n",
       "  ('descr_full',\n",
       "   'Cerveza negra de baja fermentación de estilo Schwarzbier de 5% ABV.'),\n",
       "  ('image',\n",
       "   'https://www.labirratorium.com/488-large_default/stortebeker-schwarz-bier.jpg'),\n",
       "  ('brand', 'Störtebeker'),\n",
       "  ('features',\n",
       "   {'Estilo': 'SCHWARZBIER',\n",
       "    'Origen': 'Alemania',\n",
       "    '% Alc.': '5\\nMEDIO (4-6%)',\n",
       "    'Volumen (cl)': '50 Cl',\n",
       "    'Tipo Fermentación': 'Lager (Baja Fermentación)',\n",
       "    'Maltas': 'Cebada',\n",
       "    'IBU': '0-25 Amargor bajo',\n",
       "    'Color': 'Negro',\n",
       "    'Envase': 'Botella'})],\n",
       " [('id', 'lbt_3'),\n",
       "  ('name', 'Orval'),\n",
       "  ('price', '2.8'),\n",
       "  ('descr_short', 'Belgian Pale Ale'),\n",
       "  ('descr_full',\n",
       "   'Orval\\xa0es una cerveza tipo ale y es la que principalmente se elabora, aunque no es la única. Con 6.2% ABV.\\u200b Se elaboró por primera vez en 1931 y se distingue del resto de cervezas trapistas por su complejo e inusual sabor y aroma producido por una cepa de levadura única:\\xa0Brettanomyces lambicus. '),\n",
       "  ('image', 'https://www.labirratorium.com/385-large_default/orval.jpg'),\n",
       "  ('brand', 'Orval'),\n",
       "  ('features',\n",
       "   {'Estilo': 'BELGIAN PALE ALE',\n",
       "    'Origen': 'Bélgica',\n",
       "    '% Alc.': '6.2\\nALTO (6-9%)',\n",
       "    'Volumen (cl)': '33 Cl',\n",
       "    'Tipo Fermentación': 'Ale (Alta Fermentación)',\n",
       "    'IBU': '25-50 Amargor medio\\n36',\n",
       "    'Color': 'Amarillo pálido',\n",
       "    'Envase': 'Botella'})],\n",
       " [('id', 'lbt_4'),\n",
       "  ('name', 'Augustiner Lagerbier Hell'),\n",
       "  ('price', '2.5'),\n",
       "  ('descr_short', 'Lager / Helles'),\n",
       "  ('descr_full',\n",
       "   'Cerveza de baja fermentación\\xa0de estilo Munich Helles de 5.2% ABV,. De color amarillo pajizo, con aromas a malta y cereales. Sabor con toques amargos pero suaves propios de su estilo.\\xa0'),\n",
       "  ('image',\n",
       "   'https://www.labirratorium.com/367-large_default/augustiner-lagerbier-hell.jpg'),\n",
       "  ('brand', 'Augustiner'),\n",
       "  ('features',\n",
       "   {'Estilo': 'MUNICH HELLES',\n",
       "    'Origen': 'Alemania',\n",
       "    '% Alc.': '5.2\\nMEDIO (4-6%)',\n",
       "    'Volumen (cl)': '50 Cl',\n",
       "    'Tipo Fermentación': 'Lager (Baja Fermentación)',\n",
       "    'Maltas': 'Cebada',\n",
       "    'IBU': '0-25 Amargor bajo\\n12',\n",
       "    'Color': 'Amarillo pálido',\n",
       "    'Envase': 'Botella'})],\n",
       " [('id', 'lbt_5'),\n",
       "  ('name', 'Schneider Aventinus Weizen-Eisbock'),\n",
       "  ('price', '2.7'),\n",
       "  ('descr_short',\n",
       "   'Cerveza de color medio oscuro, aromas alcohólico, toques dulces y alicorados. Sabor dulzón, frutos secos y algo afrutada.\\xa0'),\n",
       "  ('descr_full',\n",
       "   'Cerveza de color medio oscuro, aromas alcohólico, toques dulces y alicorados. Sabor dulzón, frutos secos y algo afrutada.\\xa0'),\n",
       "  ('image',\n",
       "   'https://www.labirratorium.com/366-large_default/schneider-eisbock.jpg'),\n",
       "  ('brand', 'Schneider'),\n",
       "  ('features',\n",
       "   {'Origen': 'Alemania',\n",
       "    '% Alc.': '12',\n",
       "    'Volumen (cl)': '33',\n",
       "    'Tipo Fermentación': 'Lager (Baja Fermentación)',\n",
       "    'IBU': '0-25 Amargor bajo'})],\n",
       " [('id', 'lbt_6'),\n",
       "  ('name', 'Aecht Schlenkerla Rauchbier Weizen'),\n",
       "  ('price', '2.5'),\n",
       "  ('descr_short', ''),\n",
       "  ('descr_full',\n",
       "   'Rauchbier (cerveza ahumada) de trigo con 5.2% ABV, de aspecto turbio y sin filtrar. Elaborada con una mezcla de malta de cebada ahumada y malta de trigo sin ahumar.\\xa0'),\n",
       "  ('image',\n",
       "   'https://www.labirratorium.com/364-large_default/schlenkerla-rauchbier-weizen.jpg'),\n",
       "  ('brand', 'Brauerei Heller'),\n",
       "  ('features',\n",
       "   {'Estilo': 'RAUCHBIER',\n",
       "    'Origen': 'Alemania',\n",
       "    '% Alc.': '5.2\\nMEDIO (4-6%)',\n",
       "    'Volumen (cl)': '50 Cl',\n",
       "    'Tipo Fermentación': 'Ale (Alta Fermentación)',\n",
       "    'Maltas': 'Trigo  y Cebada',\n",
       "    'IBU': '0-25 Amargor bajo\\n20',\n",
       "    'Color': 'Marrón',\n",
       "    'Envase': 'Botella'})],\n",
       " [('id', 'lbt_7'),\n",
       "  ('name', 'Samuel Adams Boston Lager'),\n",
       "  ('price', '2.4'),\n",
       "  ('descr_short',\n",
       "   'Cerveza de baja fermentación (Lager) de color ambarino y suave.'),\n",
       "  ('descr_full',\n",
       "   'Apariencia: color ambarino cobrizo y espuma persistente y cremosa'),\n",
       "  ('image',\n",
       "   'https://www.labirratorium.com/343-large_default/samuel-adams-boston-lager.jpg'),\n",
       "  ('brand', 'Samuel Adams'),\n",
       "  ('features',\n",
       "   {'Estilo': 'AMERICAN LAGER',\n",
       "    'Origen': 'EEUU',\n",
       "    '% Alc.': '4.8\\nMEDIO (4-6%)',\n",
       "    'Volumen (cl)': '33 Cl',\n",
       "    'Tipo Fermentación': 'Samuel Adams lager',\n",
       "    'Maltas': 'Samuel Adams two-row pale malt blend y Caramel 60',\n",
       "    'Lúpulos': 'Hallertau Mittelfrueh y Tettnang Tettnanger Noble hops',\n",
       "    'IBU': '25-50 Amargor medio\\n30',\n",
       "    'Color': 'Ámbar',\n",
       "    'Envase': 'Botella'})],\n",
       " [('id', 'lbt_8'),\n",
       "  ('name', 'Laugar EPA! Euskadiko Pale Ale'),\n",
       "  ('price', '2.65'),\n",
       "  ('descr_short', 'American Pale Ale'),\n",
       "  ('descr_full',\n",
       "   'American Pale Ale de 5.2% ABV elaborada con lúpulos Cascade, Chinook y Columbus.'),\n",
       "  ('image',\n",
       "   'https://www.labirratorium.com/11103-large_default/laugar-epa.jpg'),\n",
       "  ('brand', 'Laugar'),\n",
       "  ('features',\n",
       "   {'Estilo': 'APA (AMERICAN PALE ALE)',\n",
       "    'Origen': 'Bizkaia',\n",
       "    '% Alc.': '5.4\\nMEDIO (4-6%)',\n",
       "    'Volumen (cl)': '33 Cl',\n",
       "    'Tipo Fermentación': 'Ale (Alta Fermentación)',\n",
       "    'Maltas': 'Pils y caramunich II',\n",
       "    'Lúpulos': 'Cascade, Chinook y Columbus',\n",
       "    'IBU': '25-50 Amargor medio\\n40',\n",
       "    'Color': 'Amarillo dorado',\n",
       "    'Envase': 'Botella'})],\n",
       " [('id', 'lbt_9'),\n",
       "  ('name', 'Westmalle Dubbel'),\n",
       "  ('price', '2.3'),\n",
       "  ('descr_short', 'Dubbel'),\n",
       "  ('descr_full',\n",
       "   'Cerveza Trapista belga con 7% ABV de color marrón oscuro, aromas dulces y maltosos, cremosa y alcohólica. Sabor ligeramente dulzón y retrogusto alcohólico.'),\n",
       "  ('image',\n",
       "   'https://www.labirratorium.com/102-large_default/westmalle-dubbel.jpg'),\n",
       "  ('brand', 'Van Westmalle'),\n",
       "  ('features',\n",
       "   {'Estilo': 'DUBBEL',\n",
       "    'Origen': 'Bélgica',\n",
       "    '% Alc.': '7\\nALTO (6-9%)',\n",
       "    'Volumen (cl)': '33 Cl',\n",
       "    'Tipo Fermentación': 'Ale (Alta Fermentación)',\n",
       "    'Maltas': 'Cebada',\n",
       "    'IBU': '0-25 Amargor bajo\\n24\\n25-50 Amargor medio',\n",
       "    'Color': 'Marrón',\n",
       "    'Envase': 'Botella'})],\n",
       " [('id', 'lbt_10'),\n",
       "  ('name', 'Duchesse De Bourgogne'),\n",
       "  ('price', '2.95'),\n",
       "  ('descr_short', 'Oud Bruin/ Flanders Red Ale'),\n",
       "  ('descr_full',\n",
       "   'Cerveza belga de estilo Ale Roja de 6.2% ABV de marcado carácter ácido y dulce.'),\n",
       "  ('image',\n",
       "   'https://www.labirratorium.com/12300-large_default/duchesse-de-bourgogne.jpg'),\n",
       "  ('brand', 'Verhaeghe'),\n",
       "  ('features',\n",
       "   {'Estilo': 'FLANDERS RED ALE\\nOUD BRUIN\\nOud Bruin / Franders Red Ale',\n",
       "    'Origen': 'Bélgica',\n",
       "    '% Alc.': '6.2\\nALTO (6-9%)',\n",
       "    'Volumen (cl)': '25 Cl',\n",
       "    'Tipo Fermentación': 'Ale (Alta Fermentación)',\n",
       "    'Maltas': 'Cebada',\n",
       "    'IBU': '0-25 Amargor bajo',\n",
       "    'Color': 'Ámbar',\n",
       "    'Envase': 'Botella'})],\n",
       " [('id', 'lbt_11'),\n",
       "  ('name', 'Tripel Karmeliet 33 cl.'),\n",
       "  ('price', '2.5'),\n",
       "  ('descr_short', 'Tripel'),\n",
       "  ('descr_full',\n",
       "   'Cerveza de estilo Belgian Tripel con 8.4% ABV. De color amarillo oro, contiene tres cereales: cebada, avena y trigo. El aroma complejo herbáceo y especiado, cítrico, albaricoque, y notas de especias (clavo). El sabor es herbáceo, especiado y cremoso.'),\n",
       "  ('image',\n",
       "   'https://www.labirratorium.com/81-large_default/tripel-karmeliet33.jpg'),\n",
       "  ('brand', 'Brouwerij Bosteels (AB InBev)'),\n",
       "  ('features',\n",
       "   {'Origen': 'Bélgica',\n",
       "    '% Alc.': '8.4\\nALTO (6-9%)',\n",
       "    'Volumen (cl)': '33 Cl',\n",
       "    'Tipo Fermentación': 'Ale (Alta Fermentación)',\n",
       "    'Maltas': 'Cebada, Avena y Trigo',\n",
       "    'IBU': '0-25 Amargor bajo\\n16',\n",
       "    'Color': 'Amarillo pálido',\n",
       "    'Envase': 'Botella'})],\n",
       " [('id', 'lbt_12'),\n",
       "  ('name', 'Weihenstephaner Vitus'),\n",
       "  ('price', '2.8'),\n",
       "  ('descr_short', 'Weizenbock'),\n",
       "  ('descr_full',\n",
       "   'Cerveza refrescante de trigo fuerte y aromática considerada una de las mejores del mundo en su estilo.'),\n",
       "  ('image',\n",
       "   'https://www.labirratorium.com/43-large_default/weihenstephaner-vitus.jpg'),\n",
       "  ('brand', 'Weihenstephan'),\n",
       "  ('features',\n",
       "   {'Estilo': 'TRIGO ALEMÁN (WEIZENDOPPELBOCK)',\n",
       "    'Origen': 'Alemania',\n",
       "    '% Alc.': '7,7\\nALTO (6-9%)',\n",
       "    'Volumen (cl)': '50 Cl',\n",
       "    'Tipo Fermentación': 'Ale (Alta Fermentación)',\n",
       "    'Maltas': 'Trigo y Cebada',\n",
       "    'IBU': '0-25 Amargor bajo',\n",
       "    'Color': 'Amarillo dorado',\n",
       "    'Envase': 'Botella'})],\n",
       " [('id', 'lbt_13'),\n",
       "  ('name', 'Boon Oude Kriek 37,5cl'),\n",
       "  ('price', '7.15'),\n",
       "  ('descr_short', 'Lambic / Kriek'),\n",
       "  ('descr_full',\n",
       "   'Cerveza de fermentación espontánea (Lambic) de 6.5% ABV sin filtrar ni pasteurizar de estilo Kriek, elaborada con cerezas naturales.'),\n",
       "  ('image',\n",
       "   'https://www.labirratorium.com/19351-large_default/boon-kriek-2013.jpg'),\n",
       "  ('brand', 'Brouwerij F. Boon'),\n",
       "  ('features',\n",
       "   {'Estilo': 'KRIEK',\n",
       "    'Origen': 'Bélgica',\n",
       "    '% Alc.': '6.5\\nALTO (6-9%)',\n",
       "    'Otros ingredientes': 'Cerezas Naturales',\n",
       "    'Volumen (cl)': '37.5 Cl',\n",
       "    'Tipo Fermentación': 'Lambic (Fermentación espontánea o salvaje)',\n",
       "    'Maltas': 'Cebada y Trigo',\n",
       "    'IBU': '0-25 Amargor bajo',\n",
       "    'Color': 'Rojiza',\n",
       "    'Envase': 'Botella'})],\n",
       " [('id', 'lbt_14'),\n",
       "  ('name', 'Störtebeker Schwarz-Bier'),\n",
       "  ('price', '2.4'),\n",
       "  ('descr_short', 'Cerveza negra de baja fermentación\\xa0'),\n",
       "  ('descr_full',\n",
       "   'Cerveza negra de baja fermentación de estilo Schwarzbier de 5% ABV.'),\n",
       "  ('image',\n",
       "   'https://www.labirratorium.com/488-large_default/stortebeker-schwarz-bier.jpg'),\n",
       "  ('brand', 'Störtebeker'),\n",
       "  ('features',\n",
       "   {'Estilo': 'SCHWARZBIER',\n",
       "    'Origen': 'Alemania',\n",
       "    '% Alc.': '5\\nMEDIO (4-6%)',\n",
       "    'Volumen (cl)': '50 Cl',\n",
       "    'Tipo Fermentación': 'Lager (Baja Fermentación)',\n",
       "    'Maltas': 'Cebada',\n",
       "    'IBU': '0-25 Amargor bajo',\n",
       "    'Color': 'Negro',\n",
       "    'Envase': 'Botella'})],\n",
       " [('id', 'lbt_15'),\n",
       "  ('name', 'Orval'),\n",
       "  ('price', '2.8'),\n",
       "  ('descr_short', 'Belgian Pale Ale'),\n",
       "  ('descr_full',\n",
       "   'Orval\\xa0es una cerveza tipo ale y es la que principalmente se elabora, aunque no es la única. Con 6.2% ABV.\\u200b Se elaboró por primera vez en 1931 y se distingue del resto de cervezas trapistas por su complejo e inusual sabor y aroma producido por una cepa de levadura única:\\xa0Brettanomyces lambicus. '),\n",
       "  ('image', 'https://www.labirratorium.com/385-large_default/orval.jpg'),\n",
       "  ('brand', 'Orval'),\n",
       "  ('features',\n",
       "   {'Estilo': 'BELGIAN PALE ALE',\n",
       "    'Origen': 'Bélgica',\n",
       "    '% Alc.': '6.2\\nALTO (6-9%)',\n",
       "    'Volumen (cl)': '33 Cl',\n",
       "    'Tipo Fermentación': 'Ale (Alta Fermentación)',\n",
       "    'IBU': '25-50 Amargor medio\\n36',\n",
       "    'Color': 'Amarillo pálido',\n",
       "    'Envase': 'Botella'})],\n",
       " [('id', 'lbt_16'),\n",
       "  ('name', 'Augustiner Lagerbier Hell'),\n",
       "  ('price', '2.5'),\n",
       "  ('descr_short', 'Lager / Helles'),\n",
       "  ('descr_full',\n",
       "   'Cerveza de baja fermentación\\xa0de estilo Munich Helles de 5.2% ABV,. De color amarillo pajizo, con aromas a malta y cereales. Sabor con toques amargos pero suaves propios de su estilo.\\xa0'),\n",
       "  ('image',\n",
       "   'https://www.labirratorium.com/367-large_default/augustiner-lagerbier-hell.jpg'),\n",
       "  ('brand', 'Augustiner'),\n",
       "  ('features',\n",
       "   {'Estilo': 'MUNICH HELLES',\n",
       "    'Origen': 'Alemania',\n",
       "    '% Alc.': '5.2\\nMEDIO (4-6%)',\n",
       "    'Volumen (cl)': '50 Cl',\n",
       "    'Tipo Fermentación': 'Lager (Baja Fermentación)',\n",
       "    'Maltas': 'Cebada',\n",
       "    'IBU': '0-25 Amargor bajo\\n12',\n",
       "    'Color': 'Amarillo pálido',\n",
       "    'Envase': 'Botella'})],\n",
       " [('id', 'lbt_17'),\n",
       "  ('name', 'Schneider Aventinus Weizen-Eisbock'),\n",
       "  ('price', '2.7'),\n",
       "  ('descr_short',\n",
       "   'Cerveza de color medio oscuro, aromas alcohólico, toques dulces y alicorados. Sabor dulzón, frutos secos y algo afrutada.\\xa0'),\n",
       "  ('descr_full',\n",
       "   'Cerveza de color medio oscuro, aromas alcohólico, toques dulces y alicorados. Sabor dulzón, frutos secos y algo afrutada.\\xa0'),\n",
       "  ('image',\n",
       "   'https://www.labirratorium.com/366-large_default/schneider-eisbock.jpg'),\n",
       "  ('brand', 'Schneider'),\n",
       "  ('features',\n",
       "   {'Origen': 'Alemania',\n",
       "    '% Alc.': '12',\n",
       "    'Volumen (cl)': '33',\n",
       "    'Tipo Fermentación': 'Lager (Baja Fermentación)',\n",
       "    'IBU': '0-25 Amargor bajo'})],\n",
       " [('id', 'lbt_18'),\n",
       "  ('name', 'Aecht Schlenkerla Rauchbier Weizen'),\n",
       "  ('price', '2.5'),\n",
       "  ('descr_short', ''),\n",
       "  ('descr_full',\n",
       "   'Rauchbier (cerveza ahumada) de trigo con 5.2% ABV, de aspecto turbio y sin filtrar. Elaborada con una mezcla de malta de cebada ahumada y malta de trigo sin ahumar.\\xa0'),\n",
       "  ('image',\n",
       "   'https://www.labirratorium.com/364-large_default/schlenkerla-rauchbier-weizen.jpg'),\n",
       "  ('brand', 'Brauerei Heller'),\n",
       "  ('features',\n",
       "   {'Estilo': 'RAUCHBIER',\n",
       "    'Origen': 'Alemania',\n",
       "    '% Alc.': '5.2\\nMEDIO (4-6%)',\n",
       "    'Volumen (cl)': '50 Cl',\n",
       "    'Tipo Fermentación': 'Ale (Alta Fermentación)',\n",
       "    'Maltas': 'Trigo  y Cebada',\n",
       "    'IBU': '0-25 Amargor bajo\\n20',\n",
       "    'Color': 'Marrón',\n",
       "    'Envase': 'Botella'})],\n",
       " [('id', 'lbt_19'),\n",
       "  ('name', 'Samuel Adams Boston Lager'),\n",
       "  ('price', '2.4'),\n",
       "  ('descr_short',\n",
       "   'Cerveza de baja fermentación (Lager) de color ambarino y suave.'),\n",
       "  ('descr_full',\n",
       "   'Apariencia: color ambarino cobrizo y espuma persistente y cremosa'),\n",
       "  ('image',\n",
       "   'https://www.labirratorium.com/343-large_default/samuel-adams-boston-lager.jpg'),\n",
       "  ('brand', 'Samuel Adams'),\n",
       "  ('features',\n",
       "   {'Estilo': 'AMERICAN LAGER',\n",
       "    'Origen': 'EEUU',\n",
       "    '% Alc.': '4.8\\nMEDIO (4-6%)',\n",
       "    'Volumen (cl)': '33 Cl',\n",
       "    'Tipo Fermentación': 'Samuel Adams lager',\n",
       "    'Maltas': 'Samuel Adams two-row pale malt blend y Caramel 60',\n",
       "    'Lúpulos': 'Hallertau Mittelfrueh y Tettnang Tettnanger Noble hops',\n",
       "    'IBU': '25-50 Amargor medio\\n30',\n",
       "    'Color': 'Ámbar',\n",
       "    'Envase': 'Botella'})],\n",
       " [('id', 'lbt_20'),\n",
       "  ('name', 'Laugar EPA! Euskadiko Pale Ale'),\n",
       "  ('price', '2.65'),\n",
       "  ('descr_short', 'American Pale Ale'),\n",
       "  ('descr_full',\n",
       "   'American Pale Ale de 5.2% ABV elaborada con lúpulos Cascade, Chinook y Columbus.'),\n",
       "  ('image',\n",
       "   'https://www.labirratorium.com/11103-large_default/laugar-epa.jpg'),\n",
       "  ('brand', 'Laugar'),\n",
       "  ('features',\n",
       "   {'Estilo': 'APA (AMERICAN PALE ALE)',\n",
       "    'Origen': 'Bizkaia',\n",
       "    '% Alc.': '5.4\\nMEDIO (4-6%)',\n",
       "    'Volumen (cl)': '33 Cl',\n",
       "    'Tipo Fermentación': 'Ale (Alta Fermentación)',\n",
       "    'Maltas': 'Pils y caramunich II',\n",
       "    'Lúpulos': 'Cascade, Chinook y Columbus',\n",
       "    'IBU': '25-50 Amargor medio\\n40',\n",
       "    'Color': 'Amarillo dorado',\n",
       "    'Envase': 'Botella'})],\n",
       " [('id', 'lbt_21'),\n",
       "  ('name', 'Westmalle Dubbel'),\n",
       "  ('price', '2.3'),\n",
       "  ('descr_short', 'Dubbel'),\n",
       "  ('descr_full',\n",
       "   'Cerveza Trapista belga con 7% ABV de color marrón oscuro, aromas dulces y maltosos, cremosa y alcohólica. Sabor ligeramente dulzón y retrogusto alcohólico.'),\n",
       "  ('image',\n",
       "   'https://www.labirratorium.com/102-large_default/westmalle-dubbel.jpg'),\n",
       "  ('brand', 'Van Westmalle'),\n",
       "  ('features',\n",
       "   {'Estilo': 'DUBBEL',\n",
       "    'Origen': 'Bélgica',\n",
       "    '% Alc.': '7\\nALTO (6-9%)',\n",
       "    'Volumen (cl)': '33 Cl',\n",
       "    'Tipo Fermentación': 'Ale (Alta Fermentación)',\n",
       "    'Maltas': 'Cebada',\n",
       "    'IBU': '0-25 Amargor bajo\\n24\\n25-50 Amargor medio',\n",
       "    'Color': 'Marrón',\n",
       "    'Envase': 'Botella'})],\n",
       " [('id', 'lbt_22'),\n",
       "  ('name', 'Duchesse De Bourgogne'),\n",
       "  ('price', '2.95'),\n",
       "  ('descr_short', 'Oud Bruin/ Flanders Red Ale'),\n",
       "  ('descr_full',\n",
       "   'Cerveza belga de estilo Ale Roja de 6.2% ABV de marcado carácter ácido y dulce.'),\n",
       "  ('image',\n",
       "   'https://www.labirratorium.com/12300-large_default/duchesse-de-bourgogne.jpg'),\n",
       "  ('brand', 'Verhaeghe'),\n",
       "  ('features',\n",
       "   {'Estilo': 'FLANDERS RED ALE\\nOUD BRUIN\\nOud Bruin / Franders Red Ale',\n",
       "    'Origen': 'Bélgica',\n",
       "    '% Alc.': '6.2\\nALTO (6-9%)',\n",
       "    'Volumen (cl)': '25 Cl',\n",
       "    'Tipo Fermentación': 'Ale (Alta Fermentación)',\n",
       "    'Maltas': 'Cebada',\n",
       "    'IBU': '0-25 Amargor bajo',\n",
       "    'Color': 'Ámbar',\n",
       "    'Envase': 'Botella'})],\n",
       " [('id', 'lbt_23'),\n",
       "  ('name', 'Tripel Karmeliet 33 cl.'),\n",
       "  ('price', '2.5'),\n",
       "  ('descr_short', 'Tripel'),\n",
       "  ('descr_full',\n",
       "   'Cerveza de estilo Belgian Tripel con 8.4% ABV. De color amarillo oro, contiene tres cereales: cebada, avena y trigo. El aroma complejo herbáceo y especiado, cítrico, albaricoque, y notas de especias (clavo). El sabor es herbáceo, especiado y cremoso.'),\n",
       "  ('image',\n",
       "   'https://www.labirratorium.com/81-large_default/tripel-karmeliet33.jpg'),\n",
       "  ('brand', 'Brouwerij Bosteels (AB InBev)'),\n",
       "  ('features',\n",
       "   {'Origen': 'Bélgica',\n",
       "    '% Alc.': '8.4\\nALTO (6-9%)',\n",
       "    'Volumen (cl)': '33 Cl',\n",
       "    'Tipo Fermentación': 'Ale (Alta Fermentación)',\n",
       "    'Maltas': 'Cebada, Avena y Trigo',\n",
       "    'IBU': '0-25 Amargor bajo\\n16',\n",
       "    'Color': 'Amarillo pálido',\n",
       "    'Envase': 'Botella'})],\n",
       " [('id', 'lbt_24'),\n",
       "  ('name', 'Weihenstephaner Vitus'),\n",
       "  ('price', '2.8'),\n",
       "  ('descr_short', 'Weizenbock'),\n",
       "  ('descr_full',\n",
       "   'Cerveza refrescante de trigo fuerte y aromática considerada una de las mejores del mundo en su estilo.'),\n",
       "  ('image',\n",
       "   'https://www.labirratorium.com/43-large_default/weihenstephaner-vitus.jpg'),\n",
       "  ('brand', 'Weihenstephan'),\n",
       "  ('features',\n",
       "   {'Estilo': 'TRIGO ALEMÁN (WEIZENDOPPELBOCK)',\n",
       "    'Origen': 'Alemania',\n",
       "    '% Alc.': '7,7\\nALTO (6-9%)',\n",
       "    'Volumen (cl)': '50 Cl',\n",
       "    'Tipo Fermentación': 'Ale (Alta Fermentación)',\n",
       "    'Maltas': 'Trigo y Cebada',\n",
       "    'IBU': '0-25 Amargor bajo',\n",
       "    'Color': 'Amarillo dorado',\n",
       "    'Envase': 'Botella'})]]"
      ]
     },
     "metadata": {},
     "execution_count": 26
    }
   ],
   "source": [
    "lista_cervezas"
   ]
  },
  {
   "cell_type": "code",
   "execution_count": 32,
   "metadata": {},
   "outputs": [
    {
     "output_type": "execute_result",
     "data": {
      "text/plain": [
       "        id                                               name  price  \\\n",
       "0    lbt_1                             Boon Oude Kriek 37,5cl   7.15   \n",
       "1    lbt_2                           Störtebeker Schwarz-Bier    2.4   \n",
       "2    lbt_3                                              Orval    2.8   \n",
       "3    lbt_4                          Augustiner Lagerbier Hell    2.5   \n",
       "4    lbt_5                 Schneider Aventinus Weizen-Eisbock    2.7   \n",
       "5    lbt_6                 Aecht Schlenkerla Rauchbier Weizen    2.5   \n",
       "6    lbt_7                          Samuel Adams Boston Lager    2.4   \n",
       "7    lbt_8                     Laugar EPA! Euskadiko Pale Ale   2.65   \n",
       "8    lbt_9                                   Westmalle Dubbel    2.3   \n",
       "9   lbt_10                              Duchesse De Bourgogne   2.95   \n",
       "10  lbt_11                            Tripel Karmeliet 33 cl.    2.5   \n",
       "11  lbt_12                              Weihenstephaner Vitus    2.8   \n",
       "12  lbt_13                                      Anchor Porter   2.95   \n",
       "13  lbt_14  Blaugies / Hill Farmstead La Vermontoise 37,5 cl.    6.6   \n",
       "14  lbt_15                Oud Beersel Oude Kriek Vieille 75cl  14.95   \n",
       "15  lbt_16                      Boon Oude Geuze Boon 37,5 cl.   5.15   \n",
       "16  lbt_17                          Weihenstephaner Korbinian   2.95   \n",
       "17  lbt_18                 Aecht Schlenkerla Rauchbier Märzen    2.4   \n",
       "18  lbt_19                        Samuel Smith Imperial Stout    3.3   \n",
       "19  lbt_20                                   Westmalle Tripel   2.75   \n",
       "20  lbt_21                    Chimay Azul Grande Réserve 75cl   7.55   \n",
       "21  lbt_22                         Lindemans Framboise 25 cl.    2.4   \n",
       "22  lbt_23                                        Achel Brune   2.75   \n",
       "\n",
       "                                          descr_short  \\\n",
       "0                                      Lambic / Kriek   \n",
       "1                 Cerveza negra de baja fermentación    \n",
       "2                                    Belgian Pale Ale   \n",
       "3                                      Lager / Helles   \n",
       "4   Cerveza de color medio oscuro, aromas alcohóli...   \n",
       "5                                                       \n",
       "6   Cerveza de baja fermentación (Lager) de color ...   \n",
       "7                                   American Pale Ale   \n",
       "8                                              Dubbel   \n",
       "9                         Oud Bruin/ Flanders Red Ale   \n",
       "10                                             Tripel   \n",
       "11                                         Weizenbock   \n",
       "12                                             Porter   \n",
       "13                                             Saison   \n",
       "14                                     Lambik / Kriek   \n",
       "15                                    Lambic / Gueuze   \n",
       "16                                         Doppelbock   \n",
       "17                                  Rauchbier / Mazen   \n",
       "18                                     Imperial Stout   \n",
       "19                                             Tripel   \n",
       "20                                 Belgian Strong Ale   \n",
       "21                                 Lambic / Framboise   \n",
       "22                                     Belgian Dubbel   \n",
       "\n",
       "                                           descr_full  \\\n",
       "0   Cerveza de fermentación espontánea (Lambic) de...   \n",
       "1   Cerveza negra de baja fermentación de estilo S...   \n",
       "2   Orval es una cerveza tipo ale y es la que prin...   \n",
       "3   Cerveza de baja fermentación de estilo Munich ...   \n",
       "4   Cerveza de color medio oscuro, aromas alcohóli...   \n",
       "5   Rauchbier (cerveza ahumada) de trigo con 5.2% ...   \n",
       "6   Apariencia: color ambarino cobrizo y espuma pe...   \n",
       "7   American Pale Ale de 5.2% ABV elaborada con lú...   \n",
       "8   Cerveza Trapista belga con 7% ABV de color mar...   \n",
       "9   Cerveza belga de estilo Ale Roja de 6.2% ABV d...   \n",
       "10  Cerveza de estilo Belgian Tripel con 8.4% ABV....   \n",
       "11  Cerveza refrescante de trigo fuerte y aromátic...   \n",
       "12  Cerveza negra, cremosa, con aromas a chocolate...   \n",
       "13   Saison de 6% ABV elaborada con lúpulo Amarillo.    \n",
       "14  Oud Beersel Oude Kriek es una cerveza artesana...   \n",
       "15  Cerveza de fermentación espontánea de estilo G...   \n",
       "16  Cerveza de estilo alemán Doppelbock de  color ...   \n",
       "17  Rauchbier (cerveza ahumada) de estilo Marzen d...   \n",
       "18  Cerveza de color marrón muy oscuro, muy cremos...   \n",
       "19  Cerveza Trapista belga con 9% ABV de color oro...   \n",
       "20  Cerveza fuerte de abadía, de color oscuro, Afr...   \n",
       "21  Cerveza de fermentación espontánea y con framb...   \n",
       "22  Ale Trapense.De un color caoba muy bello y una...   \n",
       "\n",
       "                                               imagen  \\\n",
       "0   https://www.labirratorium.com/19351-large_defa...   \n",
       "1   https://www.labirratorium.com/488-large_defaul...   \n",
       "2   https://www.labirratorium.com/385-large_defaul...   \n",
       "3   https://www.labirratorium.com/367-large_defaul...   \n",
       "4   https://www.labirratorium.com/366-large_defaul...   \n",
       "5   https://www.labirratorium.com/364-large_defaul...   \n",
       "6   https://www.labirratorium.com/343-large_defaul...   \n",
       "7   https://www.labirratorium.com/11103-large_defa...   \n",
       "8   https://www.labirratorium.com/102-large_defaul...   \n",
       "9   https://www.labirratorium.com/12300-large_defa...   \n",
       "10  https://www.labirratorium.com/81-large_default...   \n",
       "11  https://www.labirratorium.com/43-large_default...   \n",
       "12  https://www.labirratorium.com/41-large_default...   \n",
       "13  https://www.labirratorium.com/21794-large_defa...   \n",
       "14  https://www.labirratorium.com/620-large_defaul...   \n",
       "15  https://www.labirratorium.com/618-large_defaul...   \n",
       "16  https://www.labirratorium.com/365-large_defaul...   \n",
       "17  https://www.labirratorium.com/12653-large_defa...   \n",
       "18  https://www.labirratorium.com/131-large_defaul...   \n",
       "19  https://www.labirratorium.com/103-large_defaul...   \n",
       "20  https://www.labirratorium.com/67-large_default...   \n",
       "21  https://www.labirratorium.com/62-large_default...   \n",
       "22  https://www.labirratorium.com/12481-large_defa...   \n",
       "\n",
       "                                                brand  \\\n",
       "0                                   Brouwerij F. Boon   \n",
       "1                                         Störtebeker   \n",
       "2                                               Orval   \n",
       "3                                          Augustiner   \n",
       "4                                           Schneider   \n",
       "5                                     Brauerei Heller   \n",
       "6                                        Samuel Adams   \n",
       "7                                              Laugar   \n",
       "8                                       Van Westmalle   \n",
       "9                                           Verhaeghe   \n",
       "10                      Brouwerij Bosteels (AB InBev)   \n",
       "11                                      Weihenstephan   \n",
       "12                   Anchor Brewing Company (Sapporo)   \n",
       "13                                           Blaugies   \n",
       "14                                        Oud Beersel   \n",
       "15                                  Brouwerij F. Boon   \n",
       "16                                      Weihenstephan   \n",
       "17                                    Brauerei Heller   \n",
       "18                                       Samuel Smith   \n",
       "19                                      Van Westmalle   \n",
       "20                                             Chimay   \n",
       "21                                          Lindemans   \n",
       "22  Brouwerij der Trappistenabdij De Achelse Kluis...   \n",
       "\n",
       "                                             features  \n",
       "0   {'Estilo': 'KRIEK', 'Origen': 'Bélgica', '% Al...  \n",
       "1   {'Estilo': 'SCHWARZBIER', 'Origen': 'Alemania'...  \n",
       "2   {'Estilo': 'BELGIAN PALE ALE', 'Origen': 'Bélg...  \n",
       "3   {'Estilo': 'MUNICH HELLES', 'Origen': 'Alemani...  \n",
       "4   {'Origen': 'Alemania', '% Alc.': '12', 'Volume...  \n",
       "5   {'Estilo': 'RAUCHBIER', 'Origen': 'Alemania', ...  \n",
       "6   {'Estilo': 'AMERICAN LAGER', 'Origen': 'EEUU',...  \n",
       "7   {'Estilo': 'APA (AMERICAN PALE ALE)', 'Origen'...  \n",
       "8   {'Estilo': 'DUBBEL', 'Origen': 'Bélgica', '% A...  \n",
       "9   {'Estilo': 'FLANDERS RED ALE\n",
       "OUD BRUIN\n",
       "Oud Bru...  \n",
       "10  {'Origen': 'Bélgica', '% Alc.': '8.4\n",
       "ALTO (6-9...  \n",
       "11  {'Estilo': 'TRIGO ALEMÁN (WEIZENDOPPELBOCK)', ...  \n",
       "12  {'Estilo': 'AMERICAN PORTER', 'Origen': 'Estad...  \n",
       "13  {'Estilo': 'SAISON / FARMHOUSE ALE', 'Origen':...  \n",
       "14  {'Estilo': 'KRIEK', 'Origen': 'Belgica', '% Al...  \n",
       "15  {'Estilo': 'GUEUZE', 'Origen': 'Bélgica', '% A...  \n",
       "16  {'Estilo': 'DOPPELBOCK', 'Origen': 'Alemania',...  \n",
       "17  {'Estilo': 'RAUCHBIER', 'Origen': 'Alemania', ...  \n",
       "18  {'Estilo': 'IMPERIAL STOUT', 'Origen': 'Inglat...  \n",
       "19  {'Estilo': 'TRIPEL', 'Origen': 'Bélgica', '% A...  \n",
       "20  {'Estilo': 'BELGIAN DARK STRONG ALE', 'Origen'...  \n",
       "21  {'Estilo': 'FRAMBOISE', 'Origen': 'Bélgica', '...  \n",
       "22  {'Estilo': 'DUBBEL', 'Origen': 'Bélgica', '% A...  "
      ],
      "text/html": "<div>\n<style scoped>\n    .dataframe tbody tr th:only-of-type {\n        vertical-align: middle;\n    }\n\n    .dataframe tbody tr th {\n        vertical-align: top;\n    }\n\n    .dataframe thead th {\n        text-align: right;\n    }\n</style>\n<table border=\"1\" class=\"dataframe\">\n  <thead>\n    <tr style=\"text-align: right;\">\n      <th></th>\n      <th>id</th>\n      <th>name</th>\n      <th>price</th>\n      <th>descr_short</th>\n      <th>descr_full</th>\n      <th>imagen</th>\n      <th>brand</th>\n      <th>features</th>\n    </tr>\n  </thead>\n  <tbody>\n    <tr>\n      <th>0</th>\n      <td>lbt_1</td>\n      <td>Boon Oude Kriek 37,5cl</td>\n      <td>7.15</td>\n      <td>Lambic / Kriek</td>\n      <td>Cerveza de fermentación espontánea (Lambic) de...</td>\n      <td>https://www.labirratorium.com/19351-large_defa...</td>\n      <td>Brouwerij F. Boon</td>\n      <td>{'Estilo': 'KRIEK', 'Origen': 'Bélgica', '% Al...</td>\n    </tr>\n    <tr>\n      <th>1</th>\n      <td>lbt_2</td>\n      <td>Störtebeker Schwarz-Bier</td>\n      <td>2.4</td>\n      <td>Cerveza negra de baja fermentación</td>\n      <td>Cerveza negra de baja fermentación de estilo S...</td>\n      <td>https://www.labirratorium.com/488-large_defaul...</td>\n      <td>Störtebeker</td>\n      <td>{'Estilo': 'SCHWARZBIER', 'Origen': 'Alemania'...</td>\n    </tr>\n    <tr>\n      <th>2</th>\n      <td>lbt_3</td>\n      <td>Orval</td>\n      <td>2.8</td>\n      <td>Belgian Pale Ale</td>\n      <td>Orval es una cerveza tipo ale y es la que prin...</td>\n      <td>https://www.labirratorium.com/385-large_defaul...</td>\n      <td>Orval</td>\n      <td>{'Estilo': 'BELGIAN PALE ALE', 'Origen': 'Bélg...</td>\n    </tr>\n    <tr>\n      <th>3</th>\n      <td>lbt_4</td>\n      <td>Augustiner Lagerbier Hell</td>\n      <td>2.5</td>\n      <td>Lager / Helles</td>\n      <td>Cerveza de baja fermentación de estilo Munich ...</td>\n      <td>https://www.labirratorium.com/367-large_defaul...</td>\n      <td>Augustiner</td>\n      <td>{'Estilo': 'MUNICH HELLES', 'Origen': 'Alemani...</td>\n    </tr>\n    <tr>\n      <th>4</th>\n      <td>lbt_5</td>\n      <td>Schneider Aventinus Weizen-Eisbock</td>\n      <td>2.7</td>\n      <td>Cerveza de color medio oscuro, aromas alcohóli...</td>\n      <td>Cerveza de color medio oscuro, aromas alcohóli...</td>\n      <td>https://www.labirratorium.com/366-large_defaul...</td>\n      <td>Schneider</td>\n      <td>{'Origen': 'Alemania', '% Alc.': '12', 'Volume...</td>\n    </tr>\n    <tr>\n      <th>5</th>\n      <td>lbt_6</td>\n      <td>Aecht Schlenkerla Rauchbier Weizen</td>\n      <td>2.5</td>\n      <td></td>\n      <td>Rauchbier (cerveza ahumada) de trigo con 5.2% ...</td>\n      <td>https://www.labirratorium.com/364-large_defaul...</td>\n      <td>Brauerei Heller</td>\n      <td>{'Estilo': 'RAUCHBIER', 'Origen': 'Alemania', ...</td>\n    </tr>\n    <tr>\n      <th>6</th>\n      <td>lbt_7</td>\n      <td>Samuel Adams Boston Lager</td>\n      <td>2.4</td>\n      <td>Cerveza de baja fermentación (Lager) de color ...</td>\n      <td>Apariencia: color ambarino cobrizo y espuma pe...</td>\n      <td>https://www.labirratorium.com/343-large_defaul...</td>\n      <td>Samuel Adams</td>\n      <td>{'Estilo': 'AMERICAN LAGER', 'Origen': 'EEUU',...</td>\n    </tr>\n    <tr>\n      <th>7</th>\n      <td>lbt_8</td>\n      <td>Laugar EPA! Euskadiko Pale Ale</td>\n      <td>2.65</td>\n      <td>American Pale Ale</td>\n      <td>American Pale Ale de 5.2% ABV elaborada con lú...</td>\n      <td>https://www.labirratorium.com/11103-large_defa...</td>\n      <td>Laugar</td>\n      <td>{'Estilo': 'APA (AMERICAN PALE ALE)', 'Origen'...</td>\n    </tr>\n    <tr>\n      <th>8</th>\n      <td>lbt_9</td>\n      <td>Westmalle Dubbel</td>\n      <td>2.3</td>\n      <td>Dubbel</td>\n      <td>Cerveza Trapista belga con 7% ABV de color mar...</td>\n      <td>https://www.labirratorium.com/102-large_defaul...</td>\n      <td>Van Westmalle</td>\n      <td>{'Estilo': 'DUBBEL', 'Origen': 'Bélgica', '% A...</td>\n    </tr>\n    <tr>\n      <th>9</th>\n      <td>lbt_10</td>\n      <td>Duchesse De Bourgogne</td>\n      <td>2.95</td>\n      <td>Oud Bruin/ Flanders Red Ale</td>\n      <td>Cerveza belga de estilo Ale Roja de 6.2% ABV d...</td>\n      <td>https://www.labirratorium.com/12300-large_defa...</td>\n      <td>Verhaeghe</td>\n      <td>{'Estilo': 'FLANDERS RED ALE\nOUD BRUIN\nOud Bru...</td>\n    </tr>\n    <tr>\n      <th>10</th>\n      <td>lbt_11</td>\n      <td>Tripel Karmeliet 33 cl.</td>\n      <td>2.5</td>\n      <td>Tripel</td>\n      <td>Cerveza de estilo Belgian Tripel con 8.4% ABV....</td>\n      <td>https://www.labirratorium.com/81-large_default...</td>\n      <td>Brouwerij Bosteels (AB InBev)</td>\n      <td>{'Origen': 'Bélgica', '% Alc.': '8.4\nALTO (6-9...</td>\n    </tr>\n    <tr>\n      <th>11</th>\n      <td>lbt_12</td>\n      <td>Weihenstephaner Vitus</td>\n      <td>2.8</td>\n      <td>Weizenbock</td>\n      <td>Cerveza refrescante de trigo fuerte y aromátic...</td>\n      <td>https://www.labirratorium.com/43-large_default...</td>\n      <td>Weihenstephan</td>\n      <td>{'Estilo': 'TRIGO ALEMÁN (WEIZENDOPPELBOCK)', ...</td>\n    </tr>\n    <tr>\n      <th>12</th>\n      <td>lbt_13</td>\n      <td>Anchor Porter</td>\n      <td>2.95</td>\n      <td>Porter</td>\n      <td>Cerveza negra, cremosa, con aromas a chocolate...</td>\n      <td>https://www.labirratorium.com/41-large_default...</td>\n      <td>Anchor Brewing Company (Sapporo)</td>\n      <td>{'Estilo': 'AMERICAN PORTER', 'Origen': 'Estad...</td>\n    </tr>\n    <tr>\n      <th>13</th>\n      <td>lbt_14</td>\n      <td>Blaugies / Hill Farmstead La Vermontoise 37,5 cl.</td>\n      <td>6.6</td>\n      <td>Saison</td>\n      <td>Saison de 6% ABV elaborada con lúpulo Amarillo.</td>\n      <td>https://www.labirratorium.com/21794-large_defa...</td>\n      <td>Blaugies</td>\n      <td>{'Estilo': 'SAISON / FARMHOUSE ALE', 'Origen':...</td>\n    </tr>\n    <tr>\n      <th>14</th>\n      <td>lbt_15</td>\n      <td>Oud Beersel Oude Kriek Vieille 75cl</td>\n      <td>14.95</td>\n      <td>Lambik / Kriek</td>\n      <td>Oud Beersel Oude Kriek es una cerveza artesana...</td>\n      <td>https://www.labirratorium.com/620-large_defaul...</td>\n      <td>Oud Beersel</td>\n      <td>{'Estilo': 'KRIEK', 'Origen': 'Belgica', '% Al...</td>\n    </tr>\n    <tr>\n      <th>15</th>\n      <td>lbt_16</td>\n      <td>Boon Oude Geuze Boon 37,5 cl.</td>\n      <td>5.15</td>\n      <td>Lambic / Gueuze</td>\n      <td>Cerveza de fermentación espontánea de estilo G...</td>\n      <td>https://www.labirratorium.com/618-large_defaul...</td>\n      <td>Brouwerij F. Boon</td>\n      <td>{'Estilo': 'GUEUZE', 'Origen': 'Bélgica', '% A...</td>\n    </tr>\n    <tr>\n      <th>16</th>\n      <td>lbt_17</td>\n      <td>Weihenstephaner Korbinian</td>\n      <td>2.95</td>\n      <td>Doppelbock</td>\n      <td>Cerveza de estilo alemán Doppelbock de  color ...</td>\n      <td>https://www.labirratorium.com/365-large_defaul...</td>\n      <td>Weihenstephan</td>\n      <td>{'Estilo': 'DOPPELBOCK', 'Origen': 'Alemania',...</td>\n    </tr>\n    <tr>\n      <th>17</th>\n      <td>lbt_18</td>\n      <td>Aecht Schlenkerla Rauchbier Märzen</td>\n      <td>2.4</td>\n      <td>Rauchbier / Mazen</td>\n      <td>Rauchbier (cerveza ahumada) de estilo Marzen d...</td>\n      <td>https://www.labirratorium.com/12653-large_defa...</td>\n      <td>Brauerei Heller</td>\n      <td>{'Estilo': 'RAUCHBIER', 'Origen': 'Alemania', ...</td>\n    </tr>\n    <tr>\n      <th>18</th>\n      <td>lbt_19</td>\n      <td>Samuel Smith Imperial Stout</td>\n      <td>3.3</td>\n      <td>Imperial Stout</td>\n      <td>Cerveza de color marrón muy oscuro, muy cremos...</td>\n      <td>https://www.labirratorium.com/131-large_defaul...</td>\n      <td>Samuel Smith</td>\n      <td>{'Estilo': 'IMPERIAL STOUT', 'Origen': 'Inglat...</td>\n    </tr>\n    <tr>\n      <th>19</th>\n      <td>lbt_20</td>\n      <td>Westmalle Tripel</td>\n      <td>2.75</td>\n      <td>Tripel</td>\n      <td>Cerveza Trapista belga con 9% ABV de color oro...</td>\n      <td>https://www.labirratorium.com/103-large_defaul...</td>\n      <td>Van Westmalle</td>\n      <td>{'Estilo': 'TRIPEL', 'Origen': 'Bélgica', '% A...</td>\n    </tr>\n    <tr>\n      <th>20</th>\n      <td>lbt_21</td>\n      <td>Chimay Azul Grande Réserve 75cl</td>\n      <td>7.55</td>\n      <td>Belgian Strong Ale</td>\n      <td>Cerveza fuerte de abadía, de color oscuro, Afr...</td>\n      <td>https://www.labirratorium.com/67-large_default...</td>\n      <td>Chimay</td>\n      <td>{'Estilo': 'BELGIAN DARK STRONG ALE', 'Origen'...</td>\n    </tr>\n    <tr>\n      <th>21</th>\n      <td>lbt_22</td>\n      <td>Lindemans Framboise 25 cl.</td>\n      <td>2.4</td>\n      <td>Lambic / Framboise</td>\n      <td>Cerveza de fermentación espontánea y con framb...</td>\n      <td>https://www.labirratorium.com/62-large_default...</td>\n      <td>Lindemans</td>\n      <td>{'Estilo': 'FRAMBOISE', 'Origen': 'Bélgica', '...</td>\n    </tr>\n    <tr>\n      <th>22</th>\n      <td>lbt_23</td>\n      <td>Achel Brune</td>\n      <td>2.75</td>\n      <td>Belgian Dubbel</td>\n      <td>Ale Trapense.De un color caoba muy bello y una...</td>\n      <td>https://www.labirratorium.com/12481-large_defa...</td>\n      <td>Brouwerij der Trappistenabdij De Achelse Kluis...</td>\n      <td>{'Estilo': 'DUBBEL', 'Origen': 'Bélgica', '% A...</td>\n    </tr>\n  </tbody>\n</table>\n</div>"
     },
     "metadata": {},
     "execution_count": 32
    }
   ],
   "source": [
    "df= pd.DataFrame([[x[0][1],\n",
    "                x[1][1],\n",
    "                x[2][1],\n",
    "                x[3][1],\n",
    "                x[4][1],\n",
    "                x[5][1],\n",
    "                x[6][1],\n",
    "                x[7][1]] for x in lista_cervezas],\n",
    "                columns = ['id',\n",
    "                            'name',\n",
    "                            'price',\n",
    "                            'descr_short',\n",
    "                            'descr_full',\n",
    "                            'imagen',\n",
    "                            'brand',\n",
    "                            'features'])\n",
    "df.to_csv('df_labirratorium.csv', sep=';')\n",
    "df\n"
   ]
  },
  {
   "cell_type": "markdown",
   "metadata": {},
   "source": [
    "### Ya sabemos obtener todos los datos que nos interesan de una cerveza, ahora tenemos que aplicar esta lógica para obtener todas las demás "
   ]
  },
  {
   "cell_type": "code",
   "execution_count": null,
   "metadata": {},
   "outputs": [],
   "source": []
  },
  {
   "cell_type": "markdown",
   "metadata": {},
   "source": [
    "### FBI: Top ten criminals\n",
    "\n",
    "#### Queremos guardar las imágenes de cada fugitivo y que el nombre de cada archivo sea el nombre del fugitivo:"
   ]
  },
  {
   "cell_type": "code",
   "execution_count": null,
   "metadata": {},
   "outputs": [],
   "source": [
    "fbi_url = 'https://www.fbi.gov/wanted/topten'\n",
    "\n"
   ]
  }
 ],
 "metadata": {
  "hide_input": false,
  "kernelspec": {
   "name": "python374jvsc74a57bd016eb897c26cdfcf18817bc60a8e0737e3939ff1e8491198c807979170104e811",
   "display_name": "Python 3.7.4 64-bit"
  },
  "language_info": {
   "codemirror_mode": {
    "name": "ipython",
    "version": 3
   },
   "file_extension": ".py",
   "mimetype": "text/x-python",
   "name": "python",
   "nbconvert_exporter": "python",
   "pygments_lexer": "ipython3",
   "version": "3.7.4"
  },
  "varInspector": {
   "cols": {
    "lenName": 16,
    "lenType": 16,
    "lenVar": 40
   },
   "kernels_config": {
    "python": {
     "delete_cmd_postfix": "",
     "delete_cmd_prefix": "del ",
     "library": "var_list.py",
     "varRefreshCmd": "print(var_dic_list())"
    },
    "r": {
     "delete_cmd_postfix": ") ",
     "delete_cmd_prefix": "rm(",
     "library": "var_list.r",
     "varRefreshCmd": "cat(var_dic_list()) "
    }
   },
   "types_to_exclude": [
    "module",
    "function",
    "builtin_function_or_method",
    "instance",
    "_Feature"
   ],
   "window_display": false
  },
  "metadata": {
   "interpreter": {
    "hash": "16eb897c26cdfcf18817bc60a8e0737e3939ff1e8491198c807979170104e811"
   }
  }
 },
 "nbformat": 4,
 "nbformat_minor": 2
}