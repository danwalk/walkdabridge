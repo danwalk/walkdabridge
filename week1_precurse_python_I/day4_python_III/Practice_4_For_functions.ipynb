{
 "cells": [
  {
   "cell_type": "markdown",
   "metadata": {},
   "source": [
    "# Python | day 4 | for loop, functions (feat. basics & if/else) "
   ]
  },
  {
   "cell_type": "markdown",
   "metadata": {},
   "source": [
    "### Exercise 0.1 - Python Basics\n",
    "\n",
    "1. What do we use to make a line break in a print? And for a tab stop?\n",
    "\n",
    "have a look ---> http://elclubdelautodidacta.es/wp/2012/04/python-capitulo-31-exprimiendo-la-funcion-print/"
   ]
  },
  {
   "cell_type": "code",
   "execution_count": null,
   "metadata": {},
   "outputs": [],
   "source": [
    "# \\n para line break, \\t para tab"
   ]
  },
  {
   "cell_type": "markdown",
   "metadata": {},
   "source": [
    "2. Make a converter from dollars to euros. You'll have to use input."
   ]
  },
  {
   "cell_type": "code",
   "execution_count": 10,
   "metadata": {},
   "outputs": [
    {
     "output_type": "stream",
     "name": "stdout",
     "text": [
      "15.6 dollars equals 13.104 euros.\n"
     ]
    }
   ],
   "source": [
    "exchange_rate = 0.84\n",
    "dollars = float(input())\n",
    "euros = dollars * exchange_rate\n",
    "\n",
    "print(dollars, \"dollars equals\", euros, \"euros.\")\n"
   ]
  },
  {
   "cell_type": "markdown",
   "metadata": {},
   "source": [
    "3. Declare two strings, one will be your first name and the other your last name. Declare your age in another variable. Print a sentence which include those variables, using ```f{}```. Wtf is that? check this out **-->** https://realpython.com/python-string-formatting/"
   ]
  },
  {
   "cell_type": "code",
   "execution_count": 15,
   "metadata": {},
   "outputs": [
    {
     "output_type": "execute_result",
     "data": {
      "text/plain": [
       "'Hello, my name is Daniel'"
      ]
     },
     "metadata": {},
     "execution_count": 15
    }
   ],
   "source": [
    "first_name = \"Daniel\"\n",
    "last_name = \"Walker\"\n",
    "Age = 34\n",
    "\n",
    "f\"Hello, my name is {first_name}\""
   ]
  },
  {
   "cell_type": "code",
   "execution_count": 16,
   "metadata": {},
   "outputs": [
    {
     "output_type": "execute_result",
     "data": {
      "text/plain": [
       "'Hello, my name is Daniel Walker and I am 34 years old'"
      ]
     },
     "metadata": {},
     "execution_count": 16
    }
   ],
   "source": [
    "f\"Hello, my name is {first_name} {last_name} and I am {Age} years old\""
   ]
  },
  {
   "cell_type": "markdown",
   "metadata": {},
   "source": [
    "4. Given the list `[4,7, -3]`, calculate its maximum, minimum and sum."
   ]
  },
  {
   "cell_type": "code",
   "execution_count": 17,
   "metadata": {},
   "outputs": [
    {
     "output_type": "error",
     "ename": "AttributeError",
     "evalue": "'builtin_function_or_method' object has no attribute 'list'",
     "traceback": [
      "\u001b[1;31m---------------------------------------------------------------------------\u001b[0m",
      "\u001b[1;31mAttributeError\u001b[0m                            Traceback (most recent call last)",
      "\u001b[1;32m<ipython-input-17-b6cfedea6a3f>\u001b[0m in \u001b[0;36m<module>\u001b[1;34m\u001b[0m\n\u001b[0;32m      1\u001b[0m \u001b[0mlist\u001b[0m \u001b[1;33m=\u001b[0m \u001b[1;33m[\u001b[0m\u001b[1;36m4\u001b[0m\u001b[1;33m,\u001b[0m\u001b[1;36m7\u001b[0m\u001b[1;33m,\u001b[0m\u001b[1;33m-\u001b[0m\u001b[1;36m3\u001b[0m\u001b[1;33m]\u001b[0m\u001b[1;33m\u001b[0m\u001b[1;33m\u001b[0m\u001b[0m\n\u001b[1;32m----> 2\u001b[1;33m \u001b[0mprint\u001b[0m\u001b[1;33m(\u001b[0m\u001b[0mmax\u001b[0m\u001b[1;33m.\u001b[0m\u001b[0mlist\u001b[0m\u001b[1;33m)\u001b[0m\u001b[1;33m\u001b[0m\u001b[1;33m\u001b[0m\u001b[0m\n\u001b[0m",
      "\u001b[1;31mAttributeError\u001b[0m: 'builtin_function_or_method' object has no attribute 'list'"
     ]
    }
   ],
   "source": [
    "list = [4,7,-3]\n",
    "print(max.list)"
   ]
  },
  {
   "cell_type": "code",
   "execution_count": 18,
   "metadata": {},
   "outputs": [
    {
     "output_type": "stream",
     "name": "stdout",
     "text": [
      "Max: 7\nMin: -3\nSum: 8\n"
     ]
    }
   ],
   "source": [
    "print(\"Max:\", max(list))\n",
    "print(\"Min:\", min(list))\n",
    "print(\"Sum:\", sum(list))\n"
   ]
  },
  {
   "cell_type": "markdown",
   "metadata": {},
   "source": [
    "5. Save the number `38.38276252728` to a variable called `number_dec` and round it to 5 decimal places.\n"
   ]
  },
  {
   "cell_type": "code",
   "execution_count": 19,
   "metadata": {},
   "outputs": [
    {
     "output_type": "stream",
     "name": "stdout",
     "text": [
      "Original: 38.38276252728\nNumber with 5 decimal places: 38.38276\n"
     ]
    }
   ],
   "source": [
    "number_dec = 38.38276252728\n",
    "formstr = \"{:.5f}\".format(number_dec)\n",
    "new_number = float(formstr)\n",
    "\n",
    "print(\"Original:\", number_dec)\n",
    "print(\"Number with 5 decimal places:\", new_number)"
   ]
  },
  {
   "cell_type": "markdown",
   "metadata": {},
   "source": [
    "6. Declare a variable `phrase` with the value `\"Born to be wild\"` and make it uppercase, then lowercase, divide it by spaces, and finally, replace `\"wild\"` with `\"Geek.\"`"
   ]
  },
  {
   "cell_type": "code",
   "execution_count": 21,
   "metadata": {},
   "outputs": [
    {
     "output_type": "stream",
     "name": "stdout",
     "text": [
      "Born to be wild\n<built-in method upper of str object at 0x000002174E29B6B0>\nBorn to be wild\n"
     ]
    }
   ],
   "source": [
    "phrase = \"Born to be wild\"\n",
    "print(phrase)\n",
    "phrase.upper()\n",
    "print(phrase.upper)\n",
    "phrase.lower\n",
    "print(phrase)"
   ]
  },
  {
   "cell_type": "code",
   "execution_count": 22,
   "metadata": {},
   "outputs": [
    {
     "output_type": "stream",
     "name": "stdout",
     "text": [
      "Born to be wild\nBorn to be wild\n"
     ]
    }
   ],
   "source": [
    "phrase = \"Born to be wild\"\n",
    "print(phrase)\n",
    "phrase.upper()\n",
    "print(phrase)"
   ]
  },
  {
   "cell_type": "code",
   "execution_count": 23,
   "metadata": {},
   "outputs": [
    {
     "output_type": "stream",
     "name": "stdout",
     "text": [
      "Born to be wild\nBORN TO BE WILD\n"
     ]
    }
   ],
   "source": [
    "phrase = \"Born to be wild\"\n",
    "print(phrase)\n",
    "print(phrase.upper())"
   ]
  },
  {
   "cell_type": "code",
   "execution_count": 24,
   "metadata": {},
   "outputs": [
    {
     "output_type": "stream",
     "name": "stdout",
     "text": [
      "Born to be wild\nBORN TO BE WILD\nborn to be wild\n"
     ]
    }
   ],
   "source": [
    "phrase = \"Born to be wild\"\n",
    "print(phrase)\n",
    "print(phrase.upper())\n",
    "print(phrase.lower())"
   ]
  },
  {
   "cell_type": "code",
   "execution_count": 25,
   "metadata": {},
   "outputs": [
    {
     "output_type": "stream",
     "name": "stdout",
     "text": [
      "Born to be wild\nBORN TO BE WILD\nborn to be wild\n['Born', 'to', 'be', 'wild']\n"
     ]
    }
   ],
   "source": [
    "phrase = \"Born to be wild\"\n",
    "print(phrase)\n",
    "print(phrase.upper())\n",
    "print(phrase.lower())\n",
    "print(phrase.split())"
   ]
  },
  {
   "cell_type": "code",
   "execution_count": 26,
   "metadata": {},
   "outputs": [
    {
     "output_type": "stream",
     "name": "stdout",
     "text": [
      "Born to be wild\nBORN TO BE WILD\nborn to be wild\n['Born', 'to', 'be', 'wild']\nBorn to be geek\n"
     ]
    }
   ],
   "source": [
    "phrase = \"Born to be wild\"\n",
    "print(phrase)\n",
    "print(phrase.upper())\n",
    "print(phrase.lower())\n",
    "print(phrase.split())\n",
    "print(phrase.replace(\"wild\", \"geek\"))"
   ]
  },
  {
   "cell_type": "markdown",
   "metadata": {},
   "source": [
    "7. Create a program where two inputs are collected, and the output of the program is a boolean which tell the user whether those inputs are the same or not.\n"
   ]
  },
  {
   "cell_type": "code",
   "execution_count": 27,
   "metadata": {},
   "outputs": [
    {
     "output_type": "error",
     "ename": "SyntaxError",
     "evalue": "invalid syntax (<ipython-input-27-7f1c19340c59>, line 4)",
     "traceback": [
      "\u001b[1;36m  File \u001b[1;32m\"<ipython-input-27-7f1c19340c59>\"\u001b[1;36m, line \u001b[1;32m4\u001b[0m\n\u001b[1;33m    if input1 is == input2:\u001b[0m\n\u001b[1;37m                  ^\u001b[0m\n\u001b[1;31mSyntaxError\u001b[0m\u001b[1;31m:\u001b[0m invalid syntax\n"
     ]
    }
   ],
   "source": [
    "input1 = input(\"Type ANYTHING here:\")\n",
    "input2 = input(\"Type the same, something else, not something or not something else here:\")\n",
    "\n",
    "if input1 is == input2:\n",
    "    print(\"You typed the same thing both times!\")\n",
    "else:\n",
    "    print(\"Ok, thanks for your different input\")"
   ]
  },
  {
   "cell_type": "code",
   "execution_count": 28,
   "metadata": {},
   "outputs": [
    {
     "output_type": "stream",
     "name": "stdout",
     "text": [
      "You typed the same thing both times!\n"
     ]
    }
   ],
   "source": [
    "input1 = input(\"Type ANYTHING here:\")\n",
    "input2 = input(\"Type the same, something else, not something or not something else here:\")\n",
    "\n",
    "if input1 == input2:\n",
    "    print(\"You typed the same thing both times!\")\n",
    "else:\n",
    "    print(\"Ok, thanks for your different input\")"
   ]
  },
  {
   "cell_type": "code",
   "execution_count": 29,
   "metadata": {},
   "outputs": [
    {
     "output_type": "stream",
     "name": "stdout",
     "text": [
      "Ok, thanks for your different input\n"
     ]
    }
   ],
   "source": [
    "input1 = input(\"Type ANYTHING here:\")\n",
    "input2 = input(\"Type the same, something else, not something or not something else here:\")\n",
    "\n",
    "if input1 == input2:\n",
    "    print(\"You typed the same thing both times!\")\n",
    "else:\n",
    "    print(\"Ok, thanks for your different input\")"
   ]
  },
  {
   "cell_type": "markdown",
   "metadata": {},
   "source": [
    "### Exercise 0.2 - If/else\n",
    "\n",
    "1. Create a decission tree using if/else sentences, to determine the price of the movies ticket. If the client's age is between 5 and 15 years, both included, the price will be 5, if she/he is retired and the movie is one of the `peliculas_discount`, the price is 4. In any other case, it will be 7 euros.\n",
    "\n",
    "You should create the list of `peliculas_discount` with your favourites movies. "
   ]
  },
  {
   "cell_type": "code",
   "execution_count": 39,
   "metadata": {},
   "outputs": [
    {
     "output_type": "error",
     "ename": "SyntaxError",
     "evalue": "invalid syntax (<ipython-input-39-19ec271c0cca>, line 16)",
     "traceback": [
      "\u001b[1;36m  File \u001b[1;32m\"<ipython-input-39-19ec271c0cca>\"\u001b[1;36m, line \u001b[1;32m16\u001b[0m\n\u001b[1;33m    f.\"You are {client_age} years old, the movie you selected is {client_movie}, which will cost 7 euros\"\u001b[0m\n\u001b[1;37m                                                                                                        ^\u001b[0m\n\u001b[1;31mSyntaxError\u001b[0m\u001b[1;31m:\u001b[0m invalid syntax\n"
     ]
    }
   ],
   "source": [
    "peliculas_discount = [\"Interstellar\", \"Apollo 13\", \"Gladiator\", \"Elysium\", \"Hot Shots\"]\n",
    "client_age = input(\"Clients age:\")\n",
    "retirement_age = 65\n",
    "client_movie = input(\"Which film would you like to see\")\n",
    "\n",
    "\n",
    "if client_age >= 5 and client_age <=15:\n",
    "    print(\"Your ticket costs 5 euros\")\n",
    "    if x in peliculas_discount:\n",
    "        print(\"are you sure you want to watch\", client_movie, \"at your age\")\n",
    "    else:\n",
    "        print(\"enjoy the movie and leave some popcorn for dad\")\n",
    "elif client_age >= retirement_age and client_movie in peliculas_discount:\n",
    "    print(\"Your ticket costs 4 euros, enjoy\", client_movie,)\n",
    "else:\n",
    "    f.\"You are {client_age} years old, the movie you selected is {client_movie}, which will cost 7 euros\"\n",
    "\n",
    "\n",
    "\n"
   ]
  },
  {
   "cell_type": "code",
   "execution_count": 40,
   "metadata": {},
   "outputs": [
    {
     "output_type": "error",
     "ename": "TypeError",
     "evalue": "'>=' not supported between instances of 'str' and 'int'",
     "traceback": [
      "\u001b[1;31m---------------------------------------------------------------------------\u001b[0m",
      "\u001b[1;31mTypeError\u001b[0m                                 Traceback (most recent call last)",
      "\u001b[1;32m<ipython-input-40-8c2946370dcf>\u001b[0m in \u001b[0;36m<module>\u001b[1;34m\u001b[0m\n\u001b[0;32m      5\u001b[0m \u001b[1;33m\u001b[0m\u001b[0m\n\u001b[0;32m      6\u001b[0m \u001b[1;33m\u001b[0m\u001b[0m\n\u001b[1;32m----> 7\u001b[1;33m \u001b[1;32mif\u001b[0m \u001b[0mclient_age\u001b[0m \u001b[1;33m>=\u001b[0m \u001b[1;36m5\u001b[0m \u001b[1;32mand\u001b[0m \u001b[0mclient_age\u001b[0m \u001b[1;33m<=\u001b[0m\u001b[1;36m15\u001b[0m\u001b[1;33m:\u001b[0m\u001b[1;33m\u001b[0m\u001b[1;33m\u001b[0m\u001b[0m\n\u001b[0m\u001b[0;32m      8\u001b[0m     \u001b[0mprint\u001b[0m\u001b[1;33m(\u001b[0m\u001b[1;34m\"Your ticket costs 5 euros\"\u001b[0m\u001b[1;33m)\u001b[0m\u001b[1;33m\u001b[0m\u001b[1;33m\u001b[0m\u001b[0m\n\u001b[0;32m      9\u001b[0m     \u001b[1;32mif\u001b[0m \u001b[0mx\u001b[0m \u001b[1;32min\u001b[0m \u001b[0mpeliculas_discount\u001b[0m\u001b[1;33m:\u001b[0m\u001b[1;33m\u001b[0m\u001b[1;33m\u001b[0m\u001b[0m\n",
      "\u001b[1;31mTypeError\u001b[0m: '>=' not supported between instances of 'str' and 'int'"
     ]
    }
   ],
   "source": [
    "peliculas_discount = [\"Interstellar\", \"Apollo 13\", \"Gladiator\", \"Elysium\", \"Hot Shots\"]\n",
    "client_age = input(\"Clients age:\")\n",
    "retirement_age = 65\n",
    "client_movie = input(\"Which film would you like to see\")\n",
    "\n",
    "\n",
    "if client_age >= 5 and client_age <=15:\n",
    "    print(\"Your ticket costs 5 euros\")\n",
    "    if x in peliculas_discount:\n",
    "        print(\"are you sure you want to watch\", client_movie, \"at your age\")\n",
    "    else:\n",
    "        print(\"enjoy the movie and leave some popcorn for dad\")\n",
    "elif client_age >= retirement_age and client_movie in peliculas_discount:\n",
    "    print(\"Your ticket costs 4 euros, enjoy\", client_movie,)\n",
    "else:\n",
    "    f\"You are {client_age} years old, the movie you selected is {client_movie}, which will cost 7 euros\""
   ]
  },
  {
   "cell_type": "code",
   "execution_count": 41,
   "metadata": {},
   "outputs": [
    {
     "output_type": "stream",
     "name": "stdout",
     "text": [
      "Your ticket costs 5 euros\n"
     ]
    },
    {
     "output_type": "error",
     "ename": "NameError",
     "evalue": "name 'x' is not defined",
     "traceback": [
      "\u001b[1;31m---------------------------------------------------------------------------\u001b[0m",
      "\u001b[1;31mNameError\u001b[0m                                 Traceback (most recent call last)",
      "\u001b[1;32m<ipython-input-41-175093e80e41>\u001b[0m in \u001b[0;36m<module>\u001b[1;34m\u001b[0m\n\u001b[0;32m      7\u001b[0m \u001b[1;32mif\u001b[0m \u001b[0mclient_age\u001b[0m \u001b[1;33m>=\u001b[0m \u001b[1;36m5\u001b[0m \u001b[1;32mand\u001b[0m \u001b[0mclient_age\u001b[0m \u001b[1;33m<=\u001b[0m \u001b[1;36m15\u001b[0m\u001b[1;33m:\u001b[0m\u001b[1;33m\u001b[0m\u001b[1;33m\u001b[0m\u001b[0m\n\u001b[0;32m      8\u001b[0m     \u001b[0mprint\u001b[0m\u001b[1;33m(\u001b[0m\u001b[1;34m\"Your ticket costs 5 euros\"\u001b[0m\u001b[1;33m)\u001b[0m\u001b[1;33m\u001b[0m\u001b[1;33m\u001b[0m\u001b[0m\n\u001b[1;32m----> 9\u001b[1;33m     \u001b[1;32mif\u001b[0m \u001b[0mx\u001b[0m \u001b[1;32min\u001b[0m \u001b[0mpeliculas_discount\u001b[0m\u001b[1;33m:\u001b[0m\u001b[1;33m\u001b[0m\u001b[1;33m\u001b[0m\u001b[0m\n\u001b[0m\u001b[0;32m     10\u001b[0m         \u001b[0mprint\u001b[0m\u001b[1;33m(\u001b[0m\u001b[1;34m\"are you sure you want to watch\"\u001b[0m\u001b[1;33m,\u001b[0m \u001b[0mclient_movie\u001b[0m\u001b[1;33m,\u001b[0m \u001b[1;34m\"at your age\"\u001b[0m\u001b[1;33m)\u001b[0m\u001b[1;33m\u001b[0m\u001b[1;33m\u001b[0m\u001b[0m\n\u001b[0;32m     11\u001b[0m     \u001b[1;32melse\u001b[0m\u001b[1;33m:\u001b[0m\u001b[1;33m\u001b[0m\u001b[1;33m\u001b[0m\u001b[0m\n",
      "\u001b[1;31mNameError\u001b[0m: name 'x' is not defined"
     ]
    }
   ],
   "source": [
    "peliculas_discount = [\"Interstellar\", \"Apollo 13\", \"Gladiator\", \"Elysium\", \"Hot Shots\"]\n",
    "client_age = int(input(\"Clients age:\"))\n",
    "retirement_age = 65\n",
    "client_movie = input(\"Which film would you like to see\")\n",
    "\n",
    "\n",
    "if client_age >= 5 and client_age <= 15:\n",
    "    print(\"Your ticket costs 5 euros\")\n",
    "    if x in peliculas_discount:\n",
    "        print(\"are you sure you want to watch\", client_movie, \"at your age\")\n",
    "    else:\n",
    "        print(\"enjoy the movie and leave some popcorn for dad\")\n",
    "elif client_age >= retirement_age and client_movie in peliculas_discount:\n",
    "    print(\"Your ticket costs 4 euros, enjoy\", client_movie,)\n",
    "else:\n",
    "    f\"You are {client_age} years old, the movie you selected is {client_movie}, which will cost 7 euros\""
   ]
  },
  {
   "cell_type": "code",
   "execution_count": 43,
   "metadata": {},
   "outputs": [
    {
     "output_type": "stream",
     "name": "stdout",
     "text": [
      "Your ticket costs 5 euros\nAre you sure you want to watch Gladiator at your age?\n"
     ]
    }
   ],
   "source": [
    "peliculas_discount = [\"Interstellar\", \"Apollo 13\", \"Gladiator\", \"Elysium\", \"Hot Shots\"]\n",
    "client_age = int(input(\"Clients age:\"))\n",
    "retirement_age = 65\n",
    "client_movie = input(\"Which film would you like to see\")\n",
    "\n",
    "\n",
    "if client_age >= 5 and client_age <= 15:\n",
    "    print(\"Your ticket costs 5 euros\")\n",
    "    if client_movie in peliculas_discount:\n",
    "        print(\"Are you sure you want to watch\", client_movie, \"at your age?\")\n",
    "    else:\n",
    "        print(\"enjoy the movie and leave some popcorn for dad\")\n",
    "elif client_age >= retirement_age and client_movie in peliculas_discount:\n",
    "    print(\"Your ticket costs 4 euros, enjoy\", client_movie,)\n",
    "else:\n",
    "    f\"You are {client_age} years old, the movie you selected is {client_movie}, which will cost 7 euros\""
   ]
  },
  {
   "cell_type": "code",
   "execution_count": 47,
   "metadata": {},
   "outputs": [
    {
     "output_type": "stream",
     "name": "stdout",
     "text": [
      "You are 34 years old, the movie you selected is Aladdin which will cost 7 euros.\n"
     ]
    }
   ],
   "source": [
    "peliculas_discount = [\"Interstellar\", \"Apollo 13\", \"Gladiator\", \"Elysium\", \"Hot Shots\"]\n",
    "client_age = int(input(\"Clients age:\"))\n",
    "retirement_age = 65\n",
    "client_movie = input(\"Which film would you like to see\")\n",
    "\n",
    "\n",
    "if client_age >= 5 and client_age <= 15:\n",
    "    print(\"Your ticket costs 5 euros\")\n",
    "    if client_movie in peliculas_discount:\n",
    "        print(\"Are you sure you want to watch\", client_movie, \"at your age?\")\n",
    "    else:\n",
    "        print(\"enjoy the movie and leave some popcorn for dad\")\n",
    "elif client_age >= retirement_age and client_movie in peliculas_discount:\n",
    "    print(\"Your ticket costs 4 euros, enjoy\", client_movie,)\n",
    "else:\n",
    "    print(f\"You are {client_age} years old, the movie you selected is {client_movie} which will cost 7 euros.\")"
   ]
  },
  {
   "cell_type": "code",
   "execution_count": 48,
   "metadata": {},
   "outputs": [
    {
     "output_type": "stream",
     "name": "stdout",
     "text": [
      "Your ticket costs 4 euros, enjoy Interstellar\n"
     ]
    }
   ],
   "source": [
    "peliculas_discount = [\"Interstellar\", \"Apollo 13\", \"Gladiator\", \"Elysium\", \"Hot Shots\"]\n",
    "client_age = int(input(\"Clients age:\"))\n",
    "retirement_age = 65\n",
    "client_movie = input(\"Which film would you like to see\")\n",
    "\n",
    "\n",
    "if client_age >= 5 and client_age <= 15:\n",
    "    print(\"Your ticket costs 5 euros\")\n",
    "    if client_movie in peliculas_discount:\n",
    "        print(\"Are you sure you want to watch\", client_movie, \"at your age?\")\n",
    "    else:\n",
    "        print(\"enjoy the movie and leave some popcorn for dad\")\n",
    "elif client_age >= retirement_age and client_movie in peliculas_discount:\n",
    "    print(\"Your ticket costs 4 euros, enjoy\", client_movie,)\n",
    "else:\n",
    "    print(f\"You are {client_age} years old, the movie you selected is {client_movie} which will cost 7 euros.\")"
   ]
  },
  {
   "cell_type": "code",
   "execution_count": 50,
   "metadata": {},
   "outputs": [
    {
     "output_type": "stream",
     "name": "stdout",
     "text": [
      "You are 60 years old, the movie you selected is Interstellar which will cost 7 euros.\n"
     ]
    }
   ],
   "source": [
    "peliculas_discount = [\"Interstellar\", \"Apollo 13\", \"Gladiator\", \"Elysium\", \"Hot Shots\"]\n",
    "client_age = int(input(\"Clients age:\"))\n",
    "retirement_age = 65\n",
    "client_movie = input(\"Which film would you like to see\")\n",
    "\n",
    "\n",
    "if client_age >= 5 and client_age <= 15:\n",
    "    print(\"Your ticket costs 5 euros\")\n",
    "    if client_movie in peliculas_discount:\n",
    "        print(\"Are you sure you want to watch\", client_movie, \"at your age?\")\n",
    "    else:\n",
    "        print(\"enjoy the movie and leave some popcorn for dad\")\n",
    "elif client_age >= retirement_age and client_movie in peliculas_discount:\n",
    "    print(\"Your ticket costs 4 euros, enjoy\", client_movie,)\n",
    "else:\n",
    "    print(f\"You are {client_age} years old, the movie you selected is {client_movie} which will cost 7 euros.\")"
   ]
  },
  {
   "cell_type": "code",
   "execution_count": 52,
   "metadata": {},
   "outputs": [
    {
     "output_type": "stream",
     "name": "stdout",
     "text": [
      "Your ticket costs 5 euros\nEnjoy the movie and leave some popcorn for dad\n"
     ]
    }
   ],
   "source": [
    "peliculas_discount = [\"Interstellar\", \"Apollo 13\", \"Gladiator\", \"Elysium\", \"Hot Shots\"]\n",
    "client_age = int(input(\"Clients age:\"))\n",
    "retirement_age = 65\n",
    "client_movie = input(\"Which film would you like to see\")\n",
    "\n",
    "\n",
    "if client_age >= 5 and client_age <= 15:\n",
    "    print(\"Your ticket costs 5 euros\")\n",
    "    if client_movie in peliculas_discount:\n",
    "        print(\"Are you sure you want to watch\", client_movie, \"at your age?\")\n",
    "    else:\n",
    "        print(\"Enjoy the movie and leave some popcorn for dad\")\n",
    "elif client_age >= retirement_age and client_movie in peliculas_discount:\n",
    "    print(\"Your ticket costs 4 euros, enjoy\", client_movie,)\n",
    "else:\n",
    "    print(f\"You are {client_age} years old, the movie you selected is {client_movie} which will cost 7 euros.\")"
   ]
  },
  {
   "cell_type": "code",
   "execution_count": 54,
   "metadata": {},
   "outputs": [
    {
     "output_type": "stream",
     "name": "stdout",
     "text": [
      "You are 36 years old, the movie you selected is Aladdin which will cost 7 euros.\n"
     ]
    }
   ],
   "source": [
    "peliculas_discount = [\"Interstellar\", \"Apollo 13\", \"Gladiator\", \"Elysium\", \"Hot Shots\"]\n",
    "client_age = int(input(\"Clients age:\"))\n",
    "retirement_age = 65\n",
    "client_movie = input(\"Which film would you like to see\")\n",
    "\n",
    "\n",
    "if client_age >= 5 and client_age <= 15:\n",
    "    print(\"Your ticket costs 5 euros\")\n",
    "    if client_movie in peliculas_discount:\n",
    "        print(\"Are you sure you want to watch\", client_movie, \"at your age?\")\n",
    "    else:\n",
    "        print(\"Enjoy the movie and leave some popcorn for dad\")\n",
    "elif client_age >= retirement_age and client_movie in peliculas_discount:\n",
    "    print(\"Your ticket costs 4 euros, enjoy\", client_movie,)\n",
    "else:\n",
    "    print(f\"You are {client_age} years old, the movie you selected is {client_movie} which will cost 7 euros.\")"
   ]
  },
  {
   "cell_type": "markdown",
   "metadata": {},
   "source": [
    "### Exercise 1 - For"
   ]
  },
  {
   "cell_type": "markdown",
   "metadata": {},
   "source": [
    "1. You are witnessing an epic battle between two powerful sorcerers: Gandalf and Saruman. Each sorcerer has 10 spells of variable power in their mind and they are going to throw them one after the other. The winner of the duel will be the one who wins more of those clashes between spells. Spells are represented as a list of 10 integers whose value equals the power of the spell.\n",
    "\n",
    "```python\n",
    "gandalf = [10, 11, 13, 30, 22, 11, 10, 33, 22, 22]\n",
    "saruman = [23, 66, 12, 43, 12, 10, 44, 23, 12, 17]\n",
    "```\n",
    "\n",
    "For example:\n",
    "\n",
    "The first clash is won by Saruman: 10 against 23, wins 23\n",
    "The second clash wins Saruman: 11 against 66, wins 66\n",
    "etc.\n",
    "You will create two variables, one for each sorcerer, where the sum of clashes won will be stored. Depending on which variable is greater at the end of the duel, you will show one of the following three results on the screen:\n",
    "```\n",
    "Gandalf wins\n",
    "Saruman wins\n",
    "Tie\n",
    "```"
   ]
  },
  {
   "cell_type": "code",
   "execution_count": 55,
   "metadata": {},
   "outputs": [
    {
     "output_type": "error",
     "ename": "TypeError",
     "evalue": "'list' object is not callable",
     "traceback": [
      "\u001b[1;31m---------------------------------------------------------------------------\u001b[0m",
      "\u001b[1;31mTypeError\u001b[0m                                 Traceback (most recent call last)",
      "\u001b[1;32m<ipython-input-55-fb480c90efd0>\u001b[0m in \u001b[0;36m<module>\u001b[1;34m\u001b[0m\n\u001b[0;32m      8\u001b[0m         \u001b[0mgandalf_score\u001b[0m\u001b[1;33m.\u001b[0m\u001b[0mappend\u001b[0m\u001b[1;33m(\u001b[0m\u001b[0mgandalf\u001b[0m\u001b[1;33m(\u001b[0m\u001b[0mi\u001b[0m\u001b[1;33m)\u001b[0m\u001b[1;33m)\u001b[0m\u001b[1;33m\u001b[0m\u001b[1;33m\u001b[0m\u001b[0m\n\u001b[0;32m      9\u001b[0m     \u001b[1;32melif\u001b[0m \u001b[0mgandalf\u001b[0m\u001b[1;33m[\u001b[0m\u001b[0mi\u001b[0m\u001b[1;33m]\u001b[0m \u001b[1;33m<\u001b[0m \u001b[0msaruman\u001b[0m\u001b[1;33m[\u001b[0m\u001b[0mi\u001b[0m\u001b[1;33m]\u001b[0m\u001b[1;33m:\u001b[0m\u001b[1;33m\u001b[0m\u001b[1;33m\u001b[0m\u001b[0m\n\u001b[1;32m---> 10\u001b[1;33m         \u001b[0msaruman_score\u001b[0m\u001b[1;33m.\u001b[0m\u001b[0mappend\u001b[0m\u001b[1;33m(\u001b[0m\u001b[0msaruman\u001b[0m\u001b[1;33m(\u001b[0m\u001b[0mi\u001b[0m\u001b[1;33m)\u001b[0m\u001b[1;33m)\u001b[0m\u001b[1;33m\u001b[0m\u001b[1;33m\u001b[0m\u001b[0m\n\u001b[0m\u001b[0;32m     11\u001b[0m \u001b[1;33m\u001b[0m\u001b[0m\n\u001b[0;32m     12\u001b[0m \u001b[0mprint\u001b[0m\u001b[1;33m(\u001b[0m\u001b[0mgandalf_score\u001b[0m\u001b[1;33m)\u001b[0m\u001b[1;33m\u001b[0m\u001b[1;33m\u001b[0m\u001b[0m\n",
      "\u001b[1;31mTypeError\u001b[0m: 'list' object is not callable"
     ]
    }
   ],
   "source": [
    "gandalf = [10, 11, 13, 30, 22, 11, 10, 33, 22, 22]\n",
    "saruman = [23, 66, 12, 43, 12, 10, 44, 23, 12, 17]\n",
    "gandalf_score = []\n",
    "saruman_score = []\n",
    "\n",
    "for i in range(len(gandalf)):\n",
    "    if gandalf[i] > saruman[i]:\n",
    "        gandalf_score.append(gandalf(i))\n",
    "    elif gandalf[i] < saruman[i]:\n",
    "        saruman_score.append(saruman(i))\n",
    "\n",
    "print(gandalf_score)\n",
    "print(saruman_score)\n"
   ]
  },
  {
   "cell_type": "code",
   "execution_count": 56,
   "metadata": {},
   "outputs": [
    {
     "output_type": "error",
     "ename": "TypeError",
     "evalue": "'list' object is not callable",
     "traceback": [
      "\u001b[1;31m---------------------------------------------------------------------------\u001b[0m",
      "\u001b[1;31mTypeError\u001b[0m                                 Traceback (most recent call last)",
      "\u001b[1;32m<ipython-input-56-87289647bca5>\u001b[0m in \u001b[0;36m<module>\u001b[1;34m\u001b[0m\n\u001b[0;32m      6\u001b[0m \u001b[1;32mfor\u001b[0m \u001b[0mi\u001b[0m \u001b[1;32min\u001b[0m \u001b[0mrange\u001b[0m\u001b[1;33m(\u001b[0m\u001b[0mlen\u001b[0m\u001b[1;33m(\u001b[0m\u001b[0mgandalf\u001b[0m\u001b[1;33m)\u001b[0m\u001b[1;33m)\u001b[0m\u001b[1;33m:\u001b[0m\u001b[1;33m\u001b[0m\u001b[1;33m\u001b[0m\u001b[0m\n\u001b[0;32m      7\u001b[0m     \u001b[1;32mif\u001b[0m \u001b[0mgandalf\u001b[0m\u001b[1;33m[\u001b[0m\u001b[0mi\u001b[0m\u001b[1;33m]\u001b[0m \u001b[1;33m>\u001b[0m \u001b[0msaruman\u001b[0m\u001b[1;33m[\u001b[0m\u001b[0mi\u001b[0m\u001b[1;33m]\u001b[0m\u001b[1;33m:\u001b[0m\u001b[1;33m\u001b[0m\u001b[1;33m\u001b[0m\u001b[0m\n\u001b[1;32m----> 8\u001b[1;33m         \u001b[0mgandalf_score\u001b[0m\u001b[1;33m.\u001b[0m\u001b[0mappend\u001b[0m\u001b[1;33m(\u001b[0m\u001b[0mgandalf\u001b[0m\u001b[1;33m(\u001b[0m\u001b[0mi\u001b[0m\u001b[1;33m)\u001b[0m\u001b[1;33m)\u001b[0m\u001b[1;33m\u001b[0m\u001b[1;33m\u001b[0m\u001b[0m\n\u001b[0m\u001b[0;32m      9\u001b[0m     \u001b[1;32melif\u001b[0m \u001b[0mgandalf\u001b[0m\u001b[1;33m[\u001b[0m\u001b[0mi\u001b[0m\u001b[1;33m]\u001b[0m \u001b[1;33m<\u001b[0m \u001b[0msaruman\u001b[0m\u001b[1;33m[\u001b[0m\u001b[0mi\u001b[0m\u001b[1;33m]\u001b[0m\u001b[1;33m:\u001b[0m\u001b[1;33m\u001b[0m\u001b[1;33m\u001b[0m\u001b[0m\n\u001b[0;32m     10\u001b[0m         \u001b[0msaruman_score\u001b[0m\u001b[1;33m.\u001b[0m\u001b[0mappend\u001b[0m\u001b[1;33m(\u001b[0m\u001b[0msaruman\u001b[0m\u001b[1;33m[\u001b[0m\u001b[0mi\u001b[0m\u001b[1;33m]\u001b[0m\u001b[1;33m)\u001b[0m\u001b[1;33m\u001b[0m\u001b[1;33m\u001b[0m\u001b[0m\n",
      "\u001b[1;31mTypeError\u001b[0m: 'list' object is not callable"
     ]
    }
   ],
   "source": [
    "gandalf = [10, 11, 13, 30, 22, 11, 10, 33, 22, 22]\n",
    "saruman = [23, 66, 12, 43, 12, 10, 44, 23, 12, 17]\n",
    "gandalf_score = []\n",
    "saruman_score = []\n",
    "\n",
    "for i in range(len(gandalf)):\n",
    "    if gandalf[i] > saruman[i]:\n",
    "        gandalf_score.append(gandalf(i))\n",
    "    elif gandalf[i] < saruman[i]:\n",
    "        saruman_score.append(saruman[i])\n",
    "\n",
    "print(gandalf_score)\n",
    "print(saruman_score)"
   ]
  },
  {
   "cell_type": "code",
   "execution_count": 58,
   "metadata": {},
   "outputs": [
    {
     "output_type": "stream",
     "name": "stdout",
     "text": [
      "Saruman wins round\nSaruman wins round\nGandalf wins round\nSaruman wins round\nGandalf wins round\nGandalf wins round\nSaruman wins round\nGandalf wins round\nGandalf wins round\nGandalf wins round\n[13, 22, 11, 33, 22, 22]\n[23, 66, 43, 44]\n"
     ]
    }
   ],
   "source": [
    "gandalf = [10, 11, 13, 30, 22, 11, 10, 33, 22, 22]\n",
    "saruman = [23, 66, 12, 43, 12, 10, 44, 23, 12, 17]\n",
    "gandalf_score = []\n",
    "saruman_score = []\n",
    "\n",
    "for i in range(len(gandalf)):\n",
    "    g = gandalf[i]\n",
    "    s = saruman[i]\n",
    "    if g > s:\n",
    "        gandalf_score.append(g)\n",
    "        print(\"Gandalf wins round\")\n",
    "    elif g == s:\n",
    "        print(\"This battle is a draw\")\n",
    "    else:\n",
    "        saruman_score.append(s)\n",
    "        print(\"Saruman wins round\")\n",
    "\n",
    "print(gandalf_score)\n",
    "print(saruman_score)"
   ]
  },
  {
   "cell_type": "code",
   "execution_count": 60,
   "metadata": {},
   "outputs": [
    {
     "output_type": "stream",
     "name": "stdout",
     "text": [
      "Saruman wins round\nSaruman wins round\nGandalf wins round\nSaruman wins round\nGandalf wins round\nGandalf wins round\nSaruman wins round\nGandalf wins round\nGandalf wins round\nGandalf wins round\n[13, 22, 11, 33, 22, 22]\n[23, 66, 43, 44]\nGANDALF WINS OVERALL BATTLE\n"
     ]
    }
   ],
   "source": [
    "gandalf = [10, 11, 13, 30, 22, 11, 10, 33, 22, 22]\n",
    "saruman = [23, 66, 12, 43, 12, 10, 44, 23, 12, 17]\n",
    "gandalf_score = []\n",
    "saruman_score = []\n",
    "\n",
    "for i in range(len(gandalf)):\n",
    "    g = gandalf[i]\n",
    "    s = saruman[i]\n",
    "    if g > s:\n",
    "        gandalf_score.append(g)\n",
    "        print(\"Gandalf wins round\")\n",
    "    elif g == s:\n",
    "        print(\"This battle is a draw\")\n",
    "    else:\n",
    "        saruman_score.append(s)\n",
    "        print(\"Saruman wins round\")\n",
    "\n",
    "print(gandalf_score)\n",
    "print(saruman_score)\n",
    "\n",
    "if len(gandalf_score) > len(saruman_score):\n",
    "    print(\"GANDALF WINS OVERALL BATTLE\")\n",
    "elif len(gandalf_score) == len(saruman_score):\n",
    "    print(\"ITS A TIE!\")\n",
    "else:\n",
    "    print(\"SARUMAN WINS THIS BATTLE BUT GANDALF WILL WIN EVENTUALLY\")"
   ]
  },
  {
   "cell_type": "markdown",
   "metadata": {},
   "source": [
    "### Exercise 2 - Functions"
   ]
  },
  {
   "cell_type": "markdown",
   "metadata": {},
   "source": [
    "1. Write a function program to sum up two given different numbers. "
   ]
  },
  {
   "cell_type": "code",
   "execution_count": 63,
   "metadata": {},
   "outputs": [
    {
     "output_type": "error",
     "ename": "SyntaxError",
     "evalue": "invalid syntax (<ipython-input-63-6dc871ae91bf>, line 1)",
     "traceback": [
      "\u001b[1;36m  File \u001b[1;32m\"<ipython-input-63-6dc871ae91bf>\"\u001b[1;36m, line \u001b[1;32m1\u001b[0m\n\u001b[1;33m    def programsum(int(x) + int(y))\u001b[0m\n\u001b[1;37m                      ^\u001b[0m\n\u001b[1;31mSyntaxError\u001b[0m\u001b[1;31m:\u001b[0m invalid syntax\n"
     ]
    }
   ],
   "source": [
    "def programsum(int(x) + int(y))\n",
    "x = int(input(\"Enter first number:\"))\n",
    "y = int(input(\"Enter second number:\"))\n"
   ]
  },
  {
   "cell_type": "code",
   "execution_count": 68,
   "metadata": {},
   "outputs": [
    {
     "output_type": "error",
     "ename": "IndentationError",
     "evalue": "expected an indented block (<ipython-input-68-177a5c5a3e7f>, line 2)",
     "traceback": [
      "\u001b[1;36m  File \u001b[1;32m\"<ipython-input-68-177a5c5a3e7f>\"\u001b[1;36m, line \u001b[1;32m2\u001b[0m\n\u001b[1;33m    x = int(input(\"Enter first number:\"))\u001b[0m\n\u001b[1;37m    ^\u001b[0m\n\u001b[1;31mIndentationError\u001b[0m\u001b[1;31m:\u001b[0m expected an indented block\n"
     ]
    }
   ],
   "source": [
    "def programsum(x,y):\n",
    "x = int(input(\"Enter first number:\"))\n",
    "y = int(input(\"Enter second number:\"))\n",
    "xy = x + y"
   ]
  },
  {
   "cell_type": "code",
   "execution_count": 71,
   "metadata": {},
   "outputs": [
    {
     "output_type": "error",
     "ename": "NameError",
     "evalue": "name 'z' is not defined",
     "traceback": [
      "\u001b[1;31m---------------------------------------------------------------------------\u001b[0m",
      "\u001b[1;31mNameError\u001b[0m                                 Traceback (most recent call last)",
      "\u001b[1;32m<ipython-input-71-87decbe34ed3>\u001b[0m in \u001b[0;36m<module>\u001b[1;34m\u001b[0m\n\u001b[0;32m      3\u001b[0m     \u001b[0my\u001b[0m \u001b[1;33m=\u001b[0m \u001b[0mint\u001b[0m\u001b[1;33m(\u001b[0m\u001b[0minput\u001b[0m\u001b[1;33m(\u001b[0m\u001b[1;34m\"Enter second number:\"\u001b[0m\u001b[1;33m)\u001b[0m\u001b[1;33m)\u001b[0m\u001b[1;33m\u001b[0m\u001b[1;33m\u001b[0m\u001b[0m\n\u001b[0;32m      4\u001b[0m     \u001b[0mz\u001b[0m \u001b[1;33m=\u001b[0m \u001b[0mx\u001b[0m \u001b[1;33m+\u001b[0m \u001b[0my\u001b[0m\u001b[1;33m\u001b[0m\u001b[1;33m\u001b[0m\u001b[0m\n\u001b[1;32m----> 5\u001b[1;33m \u001b[0mprint\u001b[0m\u001b[1;33m(\u001b[0m\u001b[0mz\u001b[0m\u001b[1;33m)\u001b[0m\u001b[1;33m\u001b[0m\u001b[1;33m\u001b[0m\u001b[0m\n\u001b[0m",
      "\u001b[1;31mNameError\u001b[0m: name 'z' is not defined"
     ]
    }
   ],
   "source": [
    "def programsum(z):\n",
    "    x = int(input(\"Enter first number:\"))\n",
    "    y = int(input(\"Enter second number:\"))\n",
    "    z = x + y\n",
    "print(z)"
   ]
  },
  {
   "cell_type": "code",
   "execution_count": 72,
   "metadata": {},
   "outputs": [
    {
     "output_type": "error",
     "ename": "NameError",
     "evalue": "name 'z' is not defined",
     "traceback": [
      "\u001b[1;31m---------------------------------------------------------------------------\u001b[0m",
      "\u001b[1;31mNameError\u001b[0m                                 Traceback (most recent call last)",
      "\u001b[1;32m<ipython-input-72-bfe46e3344ca>\u001b[0m in \u001b[0;36m<module>\u001b[1;34m\u001b[0m\n\u001b[0;32m      6\u001b[0m \u001b[0muserinput1\u001b[0m \u001b[1;33m=\u001b[0m \u001b[0mint\u001b[0m\u001b[1;33m(\u001b[0m\u001b[0minput\u001b[0m\u001b[1;33m(\u001b[0m\u001b[1;34m\"Type a number:\"\u001b[0m\u001b[1;33m)\u001b[0m\u001b[1;33m)\u001b[0m\u001b[1;33m\u001b[0m\u001b[1;33m\u001b[0m\u001b[0m\n\u001b[0;32m      7\u001b[0m \u001b[0muserinput2\u001b[0m \u001b[1;33m=\u001b[0m \u001b[0mint\u001b[0m\u001b[1;33m(\u001b[0m\u001b[0minput\u001b[0m\u001b[1;33m(\u001b[0m\u001b[1;34m\"Type a number:\"\u001b[0m\u001b[1;33m)\u001b[0m\u001b[1;33m)\u001b[0m\u001b[1;33m\u001b[0m\u001b[1;33m\u001b[0m\u001b[0m\n\u001b[1;32m----> 8\u001b[1;33m \u001b[0mprint\u001b[0m\u001b[1;33m(\u001b[0m\u001b[0mz\u001b[0m\u001b[1;33m)\u001b[0m\u001b[1;33m\u001b[0m\u001b[1;33m\u001b[0m\u001b[0m\n\u001b[0m",
      "\u001b[1;31mNameError\u001b[0m: name 'z' is not defined"
     ]
    }
   ],
   "source": [
    "def programsum(z):\n",
    "    x = userinput1\n",
    "    y = userinput2\n",
    "    z = userinput1 + userinput2\n",
    "\n",
    "userinput1 = int(input(\"Type a number:\"))\n",
    "userinput2 = int(input(\"Type a number:\"))\n",
    "print(z)\n"
   ]
  },
  {
   "cell_type": "code",
   "execution_count": 79,
   "metadata": {},
   "outputs": [
    {
     "output_type": "stream",
     "name": "stdout",
     "text": [
      "<function programsum at 0x000002174ECC5CA8>\n"
     ]
    }
   ],
   "source": [
    "userinput1 = int(input(\"Type a number:\"))\n",
    "userinput2 = int(input(\"Type a number:\"))\n",
    "\n",
    "def programsum(z):\n",
    "    x = userinput1\n",
    "    y = userinput2\n",
    "    z = userinput1 + userinput2\n",
    "    f\"Result is {x} + {y} equals {z}\"\n",
    "\n",
    "print(programsum)\n"
   ]
  },
  {
   "cell_type": "code",
   "execution_count": 85,
   "metadata": {},
   "outputs": [
    {
     "output_type": "stream",
     "name": "stdout",
     "text": [
      "10\nNone\n"
     ]
    }
   ],
   "source": [
    "def myp(x, y):\n",
    "    print(x + y)\n",
    "\n",
    "print(myp(1, 9))"
   ]
  },
  {
   "cell_type": "code",
   "execution_count": 86,
   "metadata": {},
   "outputs": [
    {
     "output_type": "stream",
     "name": "stdout",
     "text": [
      "None\n"
     ]
    }
   ],
   "source": [
    "def myp(x, y):\n",
    "    x + y\n",
    "\n",
    "print(myp(1, 9))"
   ]
  },
  {
   "cell_type": "code",
   "execution_count": 95,
   "metadata": {},
   "outputs": [
    {
     "output_type": "stream",
     "name": "stdout",
     "text": [
      "12\n"
     ]
    }
   ],
   "source": [
    "def mysum(): #probablemente lo mas sencillo de todo el dia pero SUFRIENDO UNA HORA, que cosas!!!!!\n",
    "    x = int(input(\"Type a number:\"))\n",
    "    y = int(input(\"Type a second number:\"))\n",
    "    print(x + y)\n",
    "\n",
    "mysum()"
   ]
  },
  {
   "cell_type": "markdown",
   "metadata": {},
   "source": [
    "Call the function you've just defined to sum up: \n",
    "    - 5 and 6\n",
    "    - -3 and 10\n",
    "    - 99 and 789"
   ]
  },
  {
   "cell_type": "code",
   "execution_count": 98,
   "metadata": {},
   "outputs": [
    {
     "output_type": "stream",
     "name": "stdout",
     "text": [
      "11\n7\n888\n"
     ]
    }
   ],
   "source": [
    "def mysum(x, y): #MAS FACIL AUN JAJAJAJA\n",
    "    print(x + y)\n",
    "\n",
    "mysum(5, 6)\n",
    "mysum(-3, 10)\n",
    "mysum(99, 789)"
   ]
  },
  {
   "cell_type": "markdown",
   "metadata": {},
   "source": [
    "### Bonus Track"
   ]
  },
  {
   "cell_type": "markdown",
   "metadata": {},
   "source": [
    "2. Write a Python program to convert a tuple of characters into a string.\n",
    "\n",
    "    - Sample tuple: `(\"T\", \"H\", \"E\", \" \", \"B\", \"R\", \"I\", \"D\", \"G\", \"E\")`\n",
    "    - Expected output : `\"THE BRIDGE\"`\n",
    "    \n",
    "Hint: Turn it into a list. "
   ]
  },
  {
   "cell_type": "code",
   "execution_count": 99,
   "metadata": {},
   "outputs": [
    {
     "output_type": "error",
     "ename": "TypeError",
     "evalue": "'list' object is not callable",
     "traceback": [
      "\u001b[1;31m---------------------------------------------------------------------------\u001b[0m",
      "\u001b[1;31mTypeError\u001b[0m                                 Traceback (most recent call last)",
      "\u001b[1;32m<ipython-input-99-8639d8262097>\u001b[0m in \u001b[0;36m<module>\u001b[1;34m\u001b[0m\n\u001b[0;32m      1\u001b[0m \u001b[0mtuple1\u001b[0m \u001b[1;33m=\u001b[0m \u001b[1;33m(\u001b[0m\u001b[1;34m\"T\"\u001b[0m\u001b[1;33m,\u001b[0m \u001b[1;34m\"H\"\u001b[0m\u001b[1;33m,\u001b[0m \u001b[1;34m\"E\"\u001b[0m\u001b[1;33m,\u001b[0m \u001b[1;34m\" \"\u001b[0m\u001b[1;33m,\u001b[0m \u001b[1;34m\"B\"\u001b[0m\u001b[1;33m,\u001b[0m \u001b[1;34m\"R\"\u001b[0m\u001b[1;33m,\u001b[0m \u001b[1;34m\"I\"\u001b[0m\u001b[1;33m,\u001b[0m \u001b[1;34m\"D\"\u001b[0m\u001b[1;33m,\u001b[0m \u001b[1;34m\"G\"\u001b[0m\u001b[1;33m,\u001b[0m \u001b[1;34m\"E\"\u001b[0m\u001b[1;33m)\u001b[0m\u001b[1;33m\u001b[0m\u001b[1;33m\u001b[0m\u001b[0m\n\u001b[1;32m----> 2\u001b[1;33m \u001b[0mlist1\u001b[0m \u001b[1;33m=\u001b[0m \u001b[0mlist\u001b[0m\u001b[1;33m(\u001b[0m\u001b[0mtuple1\u001b[0m\u001b[1;33m)\u001b[0m\u001b[1;33m\u001b[0m\u001b[1;33m\u001b[0m\u001b[0m\n\u001b[0m\u001b[0;32m      3\u001b[0m \u001b[0mprint\u001b[0m\u001b[1;33m(\u001b[0m\u001b[0mlist1\u001b[0m\u001b[1;33m)\u001b[0m\u001b[1;33m\u001b[0m\u001b[1;33m\u001b[0m\u001b[0m\n",
      "\u001b[1;31mTypeError\u001b[0m: 'list' object is not callable"
     ]
    }
   ],
   "source": [
    "tuple1 = (\"T\", \"H\", \"E\", \" \", \"B\", \"R\", \"I\", \"D\", \"G\", \"E\")\n",
    "list1 = list(tuple1)\n",
    "print(list1)"
   ]
  },
  {
   "cell_type": "code",
   "execution_count": 1,
   "metadata": {},
   "outputs": [
    {
     "output_type": "stream",
     "name": "stdout",
     "text": [
      "<class 'type'>\n"
     ]
    }
   ],
   "source": [
    "print(type(list))"
   ]
  },
  {
   "cell_type": "code",
   "execution_count": 3,
   "metadata": {},
   "outputs": [
    {
     "output_type": "stream",
     "name": "stdout",
     "text": [
      "['T', 'H', 'E', ' ', 'B', 'R', 'I', 'D', 'G', 'E']\n"
     ]
    }
   ],
   "source": [
    "tuple1 = (\"T\", \"H\", \"E\", \" \", \"B\", \"R\", \"I\", \"D\", \"G\", \"E\")\n",
    "list1 = list(tuple1)\n",
    "print(list1)"
   ]
  },
  {
   "cell_type": "code",
   "execution_count": 4,
   "metadata": {},
   "outputs": [
    {
     "output_type": "stream",
     "name": "stdout",
     "text": [
      "T H E   B R I D G E\n"
     ]
    }
   ],
   "source": [
    "tuple1 = (\"T\", \"H\", \"E\", \" \", \"B\", \"R\", \"I\", \"D\", \"G\", \"E\")\n",
    "list1 = list(tuple1)\n",
    "string = ' '.join([str(elem) for elem in list1])\n",
    "print(string)"
   ]
  },
  {
   "cell_type": "code",
   "execution_count": 5,
   "metadata": {},
   "outputs": [
    {
     "output_type": "stream",
     "name": "stdout",
     "text": [
      "<class 'str'>\n"
     ]
    }
   ],
   "source": [
    "print(type(string))"
   ]
  },
  {
   "cell_type": "code",
   "execution_count": null,
   "metadata": {},
   "outputs": [],
   "source": []
  },
  {
   "cell_type": "markdown",
   "metadata": {},
   "source": [
    "3. Write a Python program to generate a list where the values are square of numbers between 1 and 30 (both included), and return a list of first and last 5 elements of the list."
   ]
  },
  {
   "cell_type": "code",
   "execution_count": null,
   "metadata": {},
   "outputs": [],
   "source": []
  },
  {
   "cell_type": "markdown",
   "metadata": {},
   "source": [
    "4. Create a program that calculates the average.\n",
    "\n",
    "The program will ask the user to specify how many numbers you want to enter, and will show a prompt to include number by number to a list, and then calculate the average of each number in that list."
   ]
  },
  {
   "cell_type": "code",
   "execution_count": null,
   "metadata": {},
   "outputs": [],
   "source": []
  },
  {
   "cell_type": "markdown",
   "metadata": {},
   "source": [
    "# If you made it till here you did a fantastic work!"
   ]
  },
  {
   "cell_type": "markdown",
   "metadata": {},
   "source": [
    "![\"holo\"](https://img-9gag-fun.9cache.com/photo/aNg9wMK_460s.jpg)"
   ]
  },
  {
   "cell_type": "code",
   "execution_count": null,
   "metadata": {},
   "outputs": [],
   "source": []
  }
 ],
 "metadata": {
  "kernelspec": {
   "name": "python374jvsc74a57bd016eb897c26cdfcf18817bc60a8e0737e3939ff1e8491198c807979170104e811",
   "display_name": "Python 3.7.4 64-bit"
  },
  "language_info": {
   "codemirror_mode": {
    "name": "ipython",
    "version": 3
   },
   "file_extension": ".py",
   "mimetype": "text/x-python",
   "name": "python",
   "nbconvert_exporter": "python",
   "pygments_lexer": "ipython3",
   "version": "3.7.4-final"
  },
  "metadata": {
   "interpreter": {
    "hash": "16eb897c26cdfcf18817bc60a8e0737e3939ff1e8491198c807979170104e811"
   }
  }
 },
 "nbformat": 4,
 "nbformat_minor": 4
}