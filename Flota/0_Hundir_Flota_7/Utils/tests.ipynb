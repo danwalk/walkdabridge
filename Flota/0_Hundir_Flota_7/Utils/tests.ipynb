{
 "metadata": {
  "language_info": {
   "codemirror_mode": {
    "name": "ipython",
    "version": 3
   },
   "file_extension": ".py",
   "mimetype": "text/x-python",
   "name": "python",
   "nbconvert_exporter": "python",
   "pygments_lexer": "ipython3",
   "version": "3.7.4"
  },
  "orig_nbformat": 2,
  "kernelspec": {
   "name": "python374jvsc74a57bd0aee8b7b246df8f9039afb4144a1f6fd8d2ca17a180786b69acc140d282b71a49",
   "display_name": "Python 3.7.4 64-bit"
  },
  "metadata": {
   "interpreter": {
    "hash": "aee8b7b246df8f9039afb4144a1f6fd8d2ca17a180786b69acc140d282b71a49"
   }
  }
 },
 "nbformat": 4,
 "nbformat_minor": 2,
 "cells": [
  {
   "cell_type": "code",
   "execution_count": 31,
   "metadata": {},
   "outputs": [],
   "source": [
    "# ~ --> agua                    // azul     // 1\n",
    "# X --> hit                     // marrón   // -1\n",
    "# O --> fallido                 // blanco   // 0\n",
    "# * --> donde está el barco     // azul     // 1"
   ]
  },
  {
   "cell_type": "code",
   "execution_count": 1,
   "metadata": {},
   "outputs": [],
   "source": [
    "import pandas as pd\n",
    "import numpy as np\n",
    "import matplotlib.pyplot as plt\n",
    "import seaborn as sns\n",
    "import json"
   ]
  },
  {
   "cell_type": "code",
   "execution_count": 6,
   "metadata": {},
   "outputs": [],
   "source": [
    "def matrix_creator():\n",
    "    # Board's index\n",
    "    index = ['A', 'B', 'C', 'D', 'E', 'F', 'G', 'H', 'I', 'J']\n",
    "    # Two dicts for later use\n",
    "    d = {}\n",
    "    d2 = {}\n",
    "\n",
    "    # The outer dict is for the indexes and the inner for the columns\n",
    "    for i in index:\n",
    "        for j in range(1, len(index) + 1):\n",
    "            # I fill it with '~'\n",
    "            d2[j] = 1\n",
    "        d[i] = d2\n",
    "\n",
    "    # Dataframe out of the dicts\n",
    "    df = pd.DataFrame(d)\n",
    "    # Transpose it to have the letters to be the index and the numbers the columns\n",
    "    df = df.T\n",
    "    return df"
   ]
  },
  {
   "cell_type": "code",
   "execution_count": null,
   "metadata": {},
   "outputs": [],
   "source": [
    "def fleet_drawer(fleet):\n",
    "    for i in range(len(fleet)):\n",
    "    to_draw = fleet[i].attributes()[:-1]\n",
    "    board.ship_drawer(to_draw)"
   ]
  },
  {
   "cell_type": "code",
   "execution_count": null,
   "metadata": {},
   "outputs": [],
   "source": [
    "def full_board(matrix1, matrix2, turn):\n",
    "\n",
    "    to_plot1 = matrix1.replace(['~', '*', 'O', 'X'], [1, 1, 0, -1])\n",
    "    to_plot2 = matrix2.replace(['~', '*', 'O', 'X'], [1, 1, 0, -1])\n",
    "\n",
    "    fig, (ax1, ax2) = plt.subplots(1, 2, sharey = True, figsize = (10, 10))\n",
    "\n",
    "    sns.heatmap(to_plot, cmap=\"BrBG\", center = 0, linewidths = 0.5,\n",
    "            linecolor = \"white\", square = True, cbar = False, ax = ax1)\n",
    "\n",
    "    sns.heatmap(to_plot, cmap=\"BrBG\", center = 0, linewidths = 0.5,\n",
    "            linecolor = \"white\", square = True, cbar = False, ax = ax2)\n",
    "\n",
    "    fig.suptitle('\\n\\nTurn 1', fontsize=16)\n",
    "\n",
    "    ax1.set_title('Player 1')\n",
    "    ax2.set_title('Player 2')\n",
    "\n",
    "    plt.show()\n",
    "    plt.pause(10) \n",
    "    plt.close()"
   ]
  },
  {
   "cell_type": "code",
   "execution_count": null,
   "metadata": {},
   "outputs": [],
   "source": [
    "def winner(board1, board2):\n",
    "    if board1.life > board2.life:\n",
    "        return board1.player\n",
    "    elif board1.life < board2.life:\n",
    "        return board2.player\n",
    "    else:\n",
    "        return \"It's a Tie\""
   ]
  },
  {
   "cell_type": "code",
   "execution_count": 1,
   "metadata": {},
   "outputs": [],
   "source": [
    "winner = None"
   ]
  },
  {
   "cell_type": "code",
   "execution_count": 4,
   "metadata": {},
   "outputs": [
    {
     "output_type": "execute_result",
     "data": {
      "text/plain": [
       "False"
      ]
     },
     "metadata": {},
     "execution_count": 4
    }
   ],
   "source": [
    "winner == 'Jonhy'"
   ]
  },
  {
   "cell_type": "code",
   "execution_count": 5,
   "metadata": {},
   "outputs": [],
   "source": [
    "def pack_dfs_to_save(board1, board2):\n",
    "    # Pack the backends into a list\n",
    "    dfs = board1.backend, board2.backend\n",
    "\n",
    "    return dfs\n",
    "\n",
    "# To save the current game\n",
    "def save_game(backends_list, game_name):\n",
    "    # Unpack the backends in the list\n",
    "    board1_backend, board2_backend = backends_list\n",
    "\n",
    "    # Creo una carpeta con el nombre del juego, donde voy a guardar todos los jsons (correspondientes a dfs)\n",
    "    path = os.path.dirname(__file__) + '/json/' + game_name\n",
    "    if not os.path.exists(path):\n",
    "        os.makedirs(path)\n",
    "\n",
    "    # I append the names to the locations\n",
    "    path1 = path + '/' + nameof(board1_backend) + '.json'\n",
    "    path2 = path + '/' + nameof(board2_backend) + '.json'\n",
    "\n",
    "    # I save all the dfs as jsons\n",
    "    board1_backend.to_json(path1, orient = 'records', indent = 4)\n",
    "    board2_backend.to_json(path2, orient = 'records', indent = 4)\n",
    "\n",
    "    return '\\nSuccesfully saved\\n'\n",
    "\n",
    "# To see the saved games when choosing \"load old game\"\n",
    "def show_saved_games():\n",
    "    # I use a try/except, just in case the folder of \"json\" doesn't exist yet -> this means, there is no saved game\n",
    "    try:\n",
    "        # I go up to my current folder location and append the \"json\"\n",
    "        path = os.path.dirname(__file__) + '/json'\n",
    "        # list of all files within the folder\n",
    "        files = os.listdir(path)\n",
    "        print('\\n')\n",
    "        # print all the files in the list\n",
    "        for i in files:\n",
    "            print(i)\n",
    "        print('\\n')\n",
    "    except Exception:\n",
    "        print(\"\\nYou don't have any saved games\\n\")\n",
    "\n",
    "# To load an old game\n",
    "def load_old_game(game_name):\n",
    "    # Dict to store all the dataframes that I upload with the names as keys, so that I can them match them with the respective player front/back boards\n",
    "    dfs = []\n",
    "    # path = '0_Hundir_Flota_2/json/' + game_name\n",
    "    path = os.path.dirname(__file__) + '/json/' + game_name\n",
    "\n",
    "    # As I will have 4 json (1 per player front/back matrix)\n",
    "    # I check all the items in the folder\n",
    "    for i in os.listdir(path):\n",
    "        # I append the name to the path, so that I can read it later\n",
    "        full_path = path + '/' + str(i)\n",
    "        # I read it\n",
    "        with open(full_path, 'r+') as outfile:\n",
    "            # Now I have the dict\n",
    "            old_game = json.load(outfile)\n",
    "            # Not I have the df\n",
    "            old_df = pd.DataFrame(old_game)\n",
    "\n",
    "            # I recover the indexes, as they get lost when saved as jsons\n",
    "            old_df.index = ['A', 'B', 'C', 'D', 'E', 'F', 'G', 'H', 'I', 'J']\n",
    "            old_df.columns = list(range(1, 11))\n",
    "            \n",
    "            # I append the df, with the corresponding name, to the dict\n",
    "            dfs.append(old_df)\n",
    "\n",
    "    return dfs\n",
    "    # This is how they are laoded: TODO"
   ]
  },
  {
   "cell_type": "code",
   "execution_count": 28,
   "metadata": {},
   "outputs": [
    {
     "output_type": "execute_result",
     "data": {
      "text/plain": [
       "   1   2   3   4   5   6   7   8   9   10\n",
       "A   1   1   1   1   1   1   1   1   1   1\n",
       "B   1   1   1   1   1   1   1   1   1   1\n",
       "C   1   1   1   1   1   1   1   1   1   1\n",
       "D   1   1   1   1   1   1   1   1   1   1\n",
       "E   1   1   1   1   1   1   1   1   1   1\n",
       "F   1   1   1   1   1   1   1   1   1   1\n",
       "G   1   1   1   1   1   1   1   1   1   1\n",
       "H   1   1   1   1   1   1   1   1   1   1\n",
       "I   1   1   1   1   1   1   1   1   1   1\n",
       "J   1   1   1   1   1   1   1   1   1   1"
      ],
      "text/html": "<div>\n<style scoped>\n    .dataframe tbody tr th:only-of-type {\n        vertical-align: middle;\n    }\n\n    .dataframe tbody tr th {\n        vertical-align: top;\n    }\n\n    .dataframe thead th {\n        text-align: right;\n    }\n</style>\n<table border=\"1\" class=\"dataframe\">\n  <thead>\n    <tr style=\"text-align: right;\">\n      <th></th>\n      <th>1</th>\n      <th>2</th>\n      <th>3</th>\n      <th>4</th>\n      <th>5</th>\n      <th>6</th>\n      <th>7</th>\n      <th>8</th>\n      <th>9</th>\n      <th>10</th>\n    </tr>\n  </thead>\n  <tbody>\n    <tr>\n      <th>A</th>\n      <td>1</td>\n      <td>1</td>\n      <td>1</td>\n      <td>1</td>\n      <td>1</td>\n      <td>1</td>\n      <td>1</td>\n      <td>1</td>\n      <td>1</td>\n      <td>1</td>\n    </tr>\n    <tr>\n      <th>B</th>\n      <td>1</td>\n      <td>1</td>\n      <td>1</td>\n      <td>1</td>\n      <td>1</td>\n      <td>1</td>\n      <td>1</td>\n      <td>1</td>\n      <td>1</td>\n      <td>1</td>\n    </tr>\n    <tr>\n      <th>C</th>\n      <td>1</td>\n      <td>1</td>\n      <td>1</td>\n      <td>1</td>\n      <td>1</td>\n      <td>1</td>\n      <td>1</td>\n      <td>1</td>\n      <td>1</td>\n      <td>1</td>\n    </tr>\n    <tr>\n      <th>D</th>\n      <td>1</td>\n      <td>1</td>\n      <td>1</td>\n      <td>1</td>\n      <td>1</td>\n      <td>1</td>\n      <td>1</td>\n      <td>1</td>\n      <td>1</td>\n      <td>1</td>\n    </tr>\n    <tr>\n      <th>E</th>\n      <td>1</td>\n      <td>1</td>\n      <td>1</td>\n      <td>1</td>\n      <td>1</td>\n      <td>1</td>\n      <td>1</td>\n      <td>1</td>\n      <td>1</td>\n      <td>1</td>\n    </tr>\n    <tr>\n      <th>F</th>\n      <td>1</td>\n      <td>1</td>\n      <td>1</td>\n      <td>1</td>\n      <td>1</td>\n      <td>1</td>\n      <td>1</td>\n      <td>1</td>\n      <td>1</td>\n      <td>1</td>\n    </tr>\n    <tr>\n      <th>G</th>\n      <td>1</td>\n      <td>1</td>\n      <td>1</td>\n      <td>1</td>\n      <td>1</td>\n      <td>1</td>\n      <td>1</td>\n      <td>1</td>\n      <td>1</td>\n      <td>1</td>\n    </tr>\n    <tr>\n      <th>H</th>\n      <td>1</td>\n      <td>1</td>\n      <td>1</td>\n      <td>1</td>\n      <td>1</td>\n      <td>1</td>\n      <td>1</td>\n      <td>1</td>\n      <td>1</td>\n      <td>1</td>\n    </tr>\n    <tr>\n      <th>I</th>\n      <td>1</td>\n      <td>1</td>\n      <td>1</td>\n      <td>1</td>\n      <td>1</td>\n      <td>1</td>\n      <td>1</td>\n      <td>1</td>\n      <td>1</td>\n      <td>1</td>\n    </tr>\n    <tr>\n      <th>J</th>\n      <td>1</td>\n      <td>1</td>\n      <td>1</td>\n      <td>1</td>\n      <td>1</td>\n      <td>1</td>\n      <td>1</td>\n      <td>1</td>\n      <td>1</td>\n      <td>1</td>\n    </tr>\n  </tbody>\n</table>\n</div>"
     },
     "metadata": {},
     "execution_count": 28
    }
   ],
   "source": [
    "backend1 = matrix_creator()\n",
    "backend1"
   ]
  },
  {
   "cell_type": "code",
   "execution_count": 29,
   "metadata": {},
   "outputs": [
    {
     "output_type": "execute_result",
     "data": {
      "text/plain": [
       "   1   2   3   4   5   6   7   8   9   10\n",
       "A   1   1   1   1   0   0   0   0   0   0\n",
       "B   1   1   1   1   1   1   1   1   1   1\n",
       "C   1   1   1   1   1   1   1   1   1   1\n",
       "D   1   1   1   1   1   1   1   1   1   1\n",
       "E   1   1   1   1   1   1   1   1   1   1\n",
       "F   1   1   1   1   1   1   1   1   1   1\n",
       "G   1   1   1   1   1   1   1   1   1   1\n",
       "H   1   1   1   1   1   1   1   1   1   1\n",
       "I   1   1   1   1   1   1   1   1   1   1\n",
       "J   1   1   1   1   1   1   1   1   1   1"
      ],
      "text/html": "<div>\n<style scoped>\n    .dataframe tbody tr th:only-of-type {\n        vertical-align: middle;\n    }\n\n    .dataframe tbody tr th {\n        vertical-align: top;\n    }\n\n    .dataframe thead th {\n        text-align: right;\n    }\n</style>\n<table border=\"1\" class=\"dataframe\">\n  <thead>\n    <tr style=\"text-align: right;\">\n      <th></th>\n      <th>1</th>\n      <th>2</th>\n      <th>3</th>\n      <th>4</th>\n      <th>5</th>\n      <th>6</th>\n      <th>7</th>\n      <th>8</th>\n      <th>9</th>\n      <th>10</th>\n    </tr>\n  </thead>\n  <tbody>\n    <tr>\n      <th>A</th>\n      <td>1</td>\n      <td>1</td>\n      <td>1</td>\n      <td>1</td>\n      <td>0</td>\n      <td>0</td>\n      <td>0</td>\n      <td>0</td>\n      <td>0</td>\n      <td>0</td>\n    </tr>\n    <tr>\n      <th>B</th>\n      <td>1</td>\n      <td>1</td>\n      <td>1</td>\n      <td>1</td>\n      <td>1</td>\n      <td>1</td>\n      <td>1</td>\n      <td>1</td>\n      <td>1</td>\n      <td>1</td>\n    </tr>\n    <tr>\n      <th>C</th>\n      <td>1</td>\n      <td>1</td>\n      <td>1</td>\n      <td>1</td>\n      <td>1</td>\n      <td>1</td>\n      <td>1</td>\n      <td>1</td>\n      <td>1</td>\n      <td>1</td>\n    </tr>\n    <tr>\n      <th>D</th>\n      <td>1</td>\n      <td>1</td>\n      <td>1</td>\n      <td>1</td>\n      <td>1</td>\n      <td>1</td>\n      <td>1</td>\n      <td>1</td>\n      <td>1</td>\n      <td>1</td>\n    </tr>\n    <tr>\n      <th>E</th>\n      <td>1</td>\n      <td>1</td>\n      <td>1</td>\n      <td>1</td>\n      <td>1</td>\n      <td>1</td>\n      <td>1</td>\n      <td>1</td>\n      <td>1</td>\n      <td>1</td>\n    </tr>\n    <tr>\n      <th>F</th>\n      <td>1</td>\n      <td>1</td>\n      <td>1</td>\n      <td>1</td>\n      <td>1</td>\n      <td>1</td>\n      <td>1</td>\n      <td>1</td>\n      <td>1</td>\n      <td>1</td>\n    </tr>\n    <tr>\n      <th>G</th>\n      <td>1</td>\n      <td>1</td>\n      <td>1</td>\n      <td>1</td>\n      <td>1</td>\n      <td>1</td>\n      <td>1</td>\n      <td>1</td>\n      <td>1</td>\n      <td>1</td>\n    </tr>\n    <tr>\n      <th>H</th>\n      <td>1</td>\n      <td>1</td>\n      <td>1</td>\n      <td>1</td>\n      <td>1</td>\n      <td>1</td>\n      <td>1</td>\n      <td>1</td>\n      <td>1</td>\n      <td>1</td>\n    </tr>\n    <tr>\n      <th>I</th>\n      <td>1</td>\n      <td>1</td>\n      <td>1</td>\n      <td>1</td>\n      <td>1</td>\n      <td>1</td>\n      <td>1</td>\n      <td>1</td>\n      <td>1</td>\n      <td>1</td>\n    </tr>\n    <tr>\n      <th>J</th>\n      <td>1</td>\n      <td>1</td>\n      <td>1</td>\n      <td>1</td>\n      <td>1</td>\n      <td>1</td>\n      <td>1</td>\n      <td>1</td>\n      <td>1</td>\n      <td>1</td>\n    </tr>\n  </tbody>\n</table>\n</div>"
     },
     "metadata": {},
     "execution_count": 29
    }
   ],
   "source": [
    "backend2 = matrix_creator()\n",
    "backend2.loc[\"A\", 5:10] = 0\n",
    "backend2"
   ]
  },
  {
   "cell_type": "code",
   "execution_count": 16,
   "metadata": {},
   "outputs": [],
   "source": [
    "import os\n",
    "from varname import nameof\n",
    "\n",
    "\n",
    "def save_game_t(backends_list, game_name):\n",
    "    # Unpack the backends in the list\n",
    "    board1_backend, board2_backend = backends_list\n",
    "\n",
    "    # Creo una carpeta con el nombre del juego, donde voy a guardar todos los jsons (correspondientes a dfs)\n",
    "    path = os.path.dirname(os.getcwd()) + '/json/' + game_name\n",
    "    if not os.path.exists(path):\n",
    "        os.makedirs(path)\n",
    "\n",
    "    # I append the names to the locations\n",
    "    path1 = path + '/' + nameof(board1_backend) + '.json'\n",
    "    path2 = path + '/' + nameof(board2_backend) + '.json'\n",
    "\n",
    "    # I save all the dfs as jsons\n",
    "    board1_backend.to_json(path1, orient = 'records', indent = 4)\n",
    "    board2_backend.to_json(path2, orient = 'records', indent = 4)\n",
    "\n",
    "    return '\\nSuccesfully saved\\n'"
   ]
  },
  {
   "cell_type": "code",
   "execution_count": 17,
   "metadata": {},
   "outputs": [
    {
     "output_type": "execute_result",
     "data": {
      "text/plain": [
       "'\\nSuccesfully saved\\n'"
      ]
     },
     "metadata": {},
     "execution_count": 17
    }
   ],
   "source": [
    "dfs = [df1, df2]\n",
    "\n",
    "save_game_t(dfs, \"test\")"
   ]
  },
  {
   "cell_type": "code",
   "execution_count": 23,
   "metadata": {},
   "outputs": [],
   "source": [
    "# To load an old game\n",
    "def load_old_game_t(game_name):\n",
    "    # Dict to store all the dataframes that I upload with the names as keys, so that I can them match them with the respective player front/back boards\n",
    "    dfs = []\n",
    "    # path = '0_Hundir_Flota_2/json/' + game_name\n",
    "    path = os.path.dirname(os.getcwd()) + '/json/' + game_name\n",
    "\n",
    "    # As I will have 4 json (1 per player front/back matrix)\n",
    "    # I check all the items in the folder\n",
    "    for i in os.listdir(path):\n",
    "        # I append the name to the path, so that I can read it later\n",
    "        full_path = path + '/' + str(i)\n",
    "        # I read it\n",
    "        with open(full_path, 'r+') as outfile:\n",
    "            # Now I have the dict\n",
    "            old_game = json.load(outfile)\n",
    "            # Not I have the df\n",
    "            old_df = pd.DataFrame(old_game)\n",
    "\n",
    "            # I recover the indexes, as they get lost when saved as jsons\n",
    "            old_df.index = ['A', 'B', 'C', 'D', 'E', 'F', 'G', 'H', 'I', 'J']\n",
    "            old_df.columns = list(range(1, 11))\n",
    "            \n",
    "            # I append the df, with the corresponding name, to the dict\n",
    "            dfs.append(old_df)\n",
    "\n",
    "    return dfs\n",
    "    # This is how they are laoded: TODO"
   ]
  },
  {
   "cell_type": "code",
   "execution_count": 24,
   "metadata": {},
   "outputs": [
    {
     "output_type": "execute_result",
     "data": {
      "text/plain": [
       "[   1   2   3   4   5   6   7   8   9   10\n",
       " A   1   1   1   1   1   1   1   1   1   1\n",
       " B   1   1   1   1   1   1   1   1   1   1\n",
       " C   1   1   1   1   1   1   1   1   1   1\n",
       " D   1   1   1   1   1   1   1   1   1   1\n",
       " E   1   1   1   1   1   1   1   1   1   1\n",
       " F   1   1   1   1   1   1   1   1   1   1\n",
       " G   1   1   1   1   1   1   1   1   1   1\n",
       " H   1   1   1   1   1   1   1   1   1   1\n",
       " I   1   1   1   1   1   1   1   1   1   1\n",
       " J   1   1   1   1   1   1   1   1   1   1,\n",
       "    1   2   3   4   5   6   7   8   9   10\n",
       " A   1   1   1   1   1   1   1   1   1   1\n",
       " B   1   1   1   1   1   1   1   1   1   1\n",
       " C   1   1   1   1   1   1   1   1   1   1\n",
       " D   1   1   1   1   1   1   1   1   1   1\n",
       " E   1   1   1   1   1   1   1   1   1   1\n",
       " F   1   1   1   1   1   1   1   1   1   1\n",
       " G   1   1   1   1   1   1   1   1   1   1\n",
       " H   1   1   1   1   1   1   1   1   1   1\n",
       " I   1   1   1   1   1   1   1   1   1   1\n",
       " J   1   1   1   1   1   1   1   1   1   1]"
      ]
     },
     "metadata": {},
     "execution_count": 24
    }
   ],
   "source": [
    "dfs_loaded = load_old_game_t(\"test\")\n",
    "dfs_loaded"
   ]
  },
  {
   "cell_type": "code",
   "execution_count": 30,
   "metadata": {},
   "outputs": [
    {
     "output_type": "execute_result",
     "data": {
      "text/plain": [
       "'\\nSuccesfully saved\\n'"
      ]
     },
     "metadata": {},
     "execution_count": 30
    }
   ],
   "source": [
    "backends = [backend1, backend2]\n",
    "save_game_t(backends, \"test2\")"
   ]
  },
  {
   "cell_type": "code",
   "execution_count": 31,
   "metadata": {},
   "outputs": [
    {
     "output_type": "execute_result",
     "data": {
      "text/plain": [
       "[   1   2   3   4   5   6   7   8   9   10\n",
       " A   1   1   1   1   1   1   1   1   1   1\n",
       " B   1   1   1   1   1   1   1   1   1   1\n",
       " C   1   1   1   1   1   1   1   1   1   1\n",
       " D   1   1   1   1   1   1   1   1   1   1\n",
       " E   1   1   1   1   1   1   1   1   1   1\n",
       " F   1   1   1   1   1   1   1   1   1   1\n",
       " G   1   1   1   1   1   1   1   1   1   1\n",
       " H   1   1   1   1   1   1   1   1   1   1\n",
       " I   1   1   1   1   1   1   1   1   1   1\n",
       " J   1   1   1   1   1   1   1   1   1   1,\n",
       "    1   2   3   4   5   6   7   8   9   10\n",
       " A   1   1   1   1   0   0   0   0   0   0\n",
       " B   1   1   1   1   1   1   1   1   1   1\n",
       " C   1   1   1   1   1   1   1   1   1   1\n",
       " D   1   1   1   1   1   1   1   1   1   1\n",
       " E   1   1   1   1   1   1   1   1   1   1\n",
       " F   1   1   1   1   1   1   1   1   1   1\n",
       " G   1   1   1   1   1   1   1   1   1   1\n",
       " H   1   1   1   1   1   1   1   1   1   1\n",
       " I   1   1   1   1   1   1   1   1   1   1\n",
       " J   1   1   1   1   1   1   1   1   1   1]"
      ]
     },
     "metadata": {},
     "execution_count": 31
    }
   ],
   "source": [
    "test2 = load_old_game_t(\"test2\")\n",
    "test2"
   ]
  },
  {
   "cell_type": "code",
   "execution_count": 33,
   "metadata": {},
   "outputs": [
    {
     "output_type": "execute_result",
     "data": {
      "text/plain": [
       "<classes.board at 0x12a750bd0>"
      ]
     },
     "metadata": {},
     "execution_count": 33
    }
   ],
   "source": [
    "import classes as c\n",
    "\n",
    "board = c.board('Jonhy')\n",
    "board"
   ]
  },
  {
   "cell_type": "code",
   "execution_count": null,
   "metadata": {},
   "outputs": [],
   "source": [
    "def beginning_of_game(new_or_old_game):\n",
    "    # If new game...\n",
    "    if new_or_old_game == 'new':\n",
    "\n",
    "        # 2) Ask players for the coordenates\n",
    "        print('Player 1, please place your ships:\\n')\n",
    "        p1_ships = f.ask_coordenates()\n",
    "\n",
    "        # Clear the output and ask the next player\n",
    "        os.system('clear')\n",
    "\n",
    "        print('Player 2, please place your ships:\\n')\n",
    "        p2_ships = f.ask_coordenates()\n",
    "\n",
    "        # 3) Draw the ships\n",
    "        for i in range(len(p1_ships)):\n",
    "            # I loop through the player1 ships\n",
    "            to_draw_1 = p1_ships[i].attributes()[:-1]\n",
    "            board1.ship_drawer(to_draw_1)\n",
    "\n",
    "            # I loop through the player 2 ships\n",
    "            to_draw_2 = p2_ships[i].attributes()[:-1]\n",
    "            board2.ship_drawer(to_draw_2)\n",
    "\n",
    "        # 4) Update the boards' lifes situation\n",
    "        board1.board_lifes()\n",
    "        board2.board_lifes()\n",
    "\n",
    "    # If old game...\n",
    "    else:\n",
    "        if f.show_saved_games() = None:\n",
    "            print(\"You don't have any saved game. You'll start a new one.\")\n",
    "            beginning_of_game(new)\n",
    "        else:\n",
    "        f.show_saved_games()\n",
    "        game_name = input('Enter the name of the game you want to load:\\n')\n",
    "\n",
    "        # This is how they are laoded: [board1_backend, board2_backend]\n",
    "        board1.backend, board2.backend = f.load_old_game(game_name)\n",
    "\n",
    "        # Update the lifes\n",
    "        board1.board_lifes()\n",
    "        board2.board_lifes()"
   ]
  },
  {
   "cell_type": "code",
   "execution_count": null,
   "metadata": {},
   "outputs": [],
   "source": [
    "# 2)\n",
    "\n",
    "# If new game...\n",
    "if new_or_old_game == 'new':\n",
    "\n",
    "    # 2) Ask players for the coordenates\n",
    "    print('Player 1, please place your ships:\\n')\n",
    "    p1_ships = f.ask_coordenates()\n",
    "\n",
    "    # Clear the output and ask the next player\n",
    "    os.system('clear')\n",
    "\n",
    "    print('Player 2, please place your ships:\\n')\n",
    "    p2_ships = f.ask_coordenates()\n",
    "\n",
    "    # 3) Draw the ships\n",
    "    for i in range(len(p1_ships)):\n",
    "        # I loop through the player1 ships\n",
    "        to_draw_1 = p1_ships[i].attributes()[:-1]\n",
    "        board1.ship_drawer(to_draw_1)\n",
    "\n",
    "        # I loop through the player 2 ships\n",
    "        to_draw_2 = p2_ships[i].attributes()[:-1]\n",
    "        board2.ship_drawer(to_draw_2)\n",
    "\n",
    "    # 4) Update the boards' lifes situation\n",
    "    board1.board_lifes()\n",
    "    board2.board_lifes()\n",
    "\n",
    "# If old game...\n",
    "else:\n",
    "    f.show_saved_games()\n",
    "    game_name = input('Enter the name of the game you want to load:\\n')\n",
    "\n",
    "    # This is how they are laoded: [board1_backend, board2_backend]\n",
    "    board1.backend, board2.backend = f.load_old_game(game_name)\n",
    "\n",
    "    # Update the lifes\n",
    "    board1.board_lifes()\n",
    "    board2.board_lifes()\n",
    "\n",
    "# time.sleep(3)"
   ]
  }
 ]
}