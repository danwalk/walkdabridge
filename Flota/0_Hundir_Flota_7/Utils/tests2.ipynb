{
 "metadata": {
  "language_info": {
   "codemirror_mode": {
    "name": "ipython",
    "version": 3
   },
   "file_extension": ".py",
   "mimetype": "text/x-python",
   "name": "python",
   "nbconvert_exporter": "python",
   "pygments_lexer": "ipython3",
   "version": "3.7.4"
  },
  "orig_nbformat": 2,
  "kernelspec": {
   "name": "python374jvsc74a57bd0aee8b7b246df8f9039afb4144a1f6fd8d2ca17a180786b69acc140d282b71a49",
   "display_name": "Python 3.7.4 64-bit"
  },
  "metadata": {
   "interpreter": {
    "hash": "aee8b7b246df8f9039afb4144a1f6fd8d2ca17a180786b69acc140d282b71a49"
   }
  }
 },
 "nbformat": 4,
 "nbformat_minor": 2,
 "cells": [
  {
   "cell_type": "code",
   "execution_count": 1,
   "metadata": {},
   "outputs": [],
   "source": [
    "import pandas as pd\n",
    "import matplotlib.pyplot as plt\n",
    "import seaborn as sns\n",
    "import json\n",
    "\n",
    "from varname import nameof\n",
    "import os\n",
    "import sys\n",
    "\n",
    "import classes as c"
   ]
  },
  {
   "cell_type": "code",
   "execution_count": 2,
   "metadata": {},
   "outputs": [],
   "source": [
    "# >>> To ask for ship's column \n",
    "def ship_column():\n",
    "    try:\n",
    "        column = int(input('Column: '))\n",
    "        column_options = list(range(1, 11))\n",
    "\n",
    "        if column in column_options:\n",
    "            return column\n",
    "\n",
    "        else:\n",
    "            print(\"That's not allowed!!!!!\")\n",
    "            return ship_column()\n",
    "\n",
    "    except Exception:\n",
    "        print(\"That's not allowed!!!!!\")\n",
    "        return ship_column()\n",
    "\n",
    "# >>> To ask for ship's row -\n",
    "def ship_row():\n",
    "    row = input('Row: ').upper()\n",
    "    row_options = ['A', 'B', 'C', 'D', 'E', 'F', 'G', 'H', 'I', 'J']\n",
    "\n",
    "    if row in row_options:\n",
    "        return row\n",
    "\n",
    "    else:\n",
    "        print(\"That's not allowed!!!!!\")\n",
    "        return ship_row()\n",
    "\n",
    "# >>> To join ship's row and column -\n",
    "def ship_coordenates():\n",
    "    column = ship_column()\n",
    "    row = ship_row()\n",
    "\n",
    "    return [column, row]\n",
    "\n",
    "# >>> To ask for ship's allignment -\n",
    "def ship_allignment():\n",
    "    allignment = input('Vertical (v) or Horizontal (h): ').lower()\n",
    "    options = ['v', 'h']    # valid options\n",
    "\n",
    "    # I check if the user enter a right option and if so, I just return it\n",
    "    if allignment in options:\n",
    "        return allignment\n",
    "\n",
    "    # Otherwise, I call the function again and print a message\n",
    "    else:\n",
    "        print(\"That's not allowed!!!!!\")\n",
    "        ship_allignment()\n",
    "\n",
    "# >>> To ask for ship's size -\n",
    "def ship_size():\n",
    "    size = input('5x1, 4x1, 3x1 or 2x1: ')\n",
    "    size = int(size[0])\n",
    "    return size"
   ]
  },
  {
   "cell_type": "code",
   "execution_count": 3,
   "metadata": {},
   "outputs": [],
   "source": [
    "def ask_coordenates():\n",
    "    ships_to_enter = {'2x1' : {'size' : 2, 'amount' : 4}, '3x1' : {'size' : 3, 'amount' : 3}, '4x1' : {'size' : 4, 'amount' : 2}, '5x1' : {'size' : 5, 'amount' : 1}}\n",
    "\n",
    "    player_ships = []\n",
    "\n",
    "    for i in ships_to_enter.keys():\n",
    "        count = 0\n",
    "        while count < ships_to_enter[i]['amount']:\n",
    "            print('For your ship {} of size {}, please enter the info:\\n'.format(count + 1,\n",
    "            i))\n",
    "\n",
    "            size = int(i[0])\n",
    "            allignment = ship_allignment()\n",
    "            column, row = ship_coordenates()\n",
    "\n",
    "            ship = c.ship([column, row, allignment, size])\n",
    "            player_ships.append(ship)\n",
    "\n",
    "            count += 1\n",
    "\n",
    "        count = 0\n",
    "\n",
    "    return player_ships"
   ]
  },
  {
   "cell_type": "code",
   "execution_count": 4,
   "metadata": {},
   "outputs": [],
   "source": [
    "def ask_coordenates2(board):\n",
    "    # Ships to be entered\n",
    "    ships_to_enter = {'2x1' : {'size' : 2, 'amount' : 4}, '3x1' : {'size' : 3, 'amount' : 3}, '4x1' : {'size' : 4, 'amount' : 2}, '5x1' : {'size' : 5, 'amount' : 1}}\n",
    "\n",
    "    player_ships = []\n",
    "\n",
    "    # Iterate through the keys (type of ship)\n",
    "    for i in ships_to_enter.keys():\n",
    "\n",
    "        count = 0\n",
    "        # Iterate though the amount of ships for every type\n",
    "        while count < ships_to_enter[i][\"amount\"]:\n",
    "            # Show the user the ship we are asking for\n",
    "            print('For your ship {} of size {}, please enter the info:\\n'.format(count + 1, i))\n",
    "            # Ask information about the ship\n",
    "            size = int(i[0])\n",
    "            allignment = ship_allignment()\n",
    "            column, row = ship_coordenates()\n",
    "\n",
    "            # Create the ship object and add it to the ships' list\n",
    "            ship = c.ship([column, row, allignment, size])\n",
    "            player_ships.append(ship)\n",
    "\n",
    "            # Draw the ship\n",
    "            board.ship_drawer(ship.attributes())\n",
    "\n",
    "            count += 1\n",
    "\n",
    "        count = 0\n",
    "\n",
    "    return player_ships"
   ]
  },
  {
   "cell_type": "code",
   "execution_count": 5,
   "metadata": {},
   "outputs": [],
   "source": [
    "def ask_coordenates3(board):\n",
    "    # Ships to be entered\n",
    "    ships_to_enter = {'2x1' : {'size' : 2, 'amount' : 4}, '3x1' : {'size' : 3, 'amount' : 3}, '4x1' : {'size' : 4, 'amount' : 2}, '5x1' : {'size' : 5, 'amount' : 1}}\n",
    "\n",
    "    player_ships = []\n",
    "\n",
    "    # Iterate through the keys (type of ship)\n",
    "    for i in ships_to_enter.keys():\n",
    "\n",
    "        count = 0\n",
    "        # Iterate though the amount of ships for every type\n",
    "        while count < ships_to_enter[i][\"amount\"]:\n",
    "            # Show the user the ship we are asking for\n",
    "            print('For your ship {} of size {}, please enter the info:\\n'.format(count + 1, i))\n",
    "            # Ask information about the ship\n",
    "            size = int(i[0])\n",
    "            allignment = ship_allignment()\n",
    "            column, row = ship_coordenates()\n",
    "\n",
    "            # Create the ship object and add it to the ships' list\n",
    "            ship = c.ship([column, row, allignment, size])\n",
    "            player_ships.append(ship)\n",
    "\n",
    "            # Draw the ship\n",
    "            board.ship_drawer2(ship.attributes())\n",
    "\n",
    "            count += 1\n",
    "\n",
    "        count = 0\n",
    "\n",
    "    return player_ships"
   ]
  },
  {
   "cell_type": "code",
   "execution_count": 6,
   "metadata": {},
   "outputs": [
    {
     "output_type": "stream",
     "name": "stdout",
     "text": [
      "For your ship 1 of size 2x1, please enter the info:\n\n"
     ]
    },
    {
     "output_type": "error",
     "ename": "KeyboardInterrupt",
     "evalue": "Interrupted by user",
     "traceback": [
      "\u001b[0;31m---------------------------------------------------------------------------\u001b[0m",
      "\u001b[0;31mKeyboardInterrupt\u001b[0m                         Traceback (most recent call last)",
      "\u001b[0;32m<ipython-input-6-ad8fd7380ff0>\u001b[0m in \u001b[0;36m<module>\u001b[0;34m\u001b[0m\n\u001b[1;32m      1\u001b[0m \u001b[0mboard1\u001b[0m \u001b[0;34m=\u001b[0m \u001b[0mc\u001b[0m\u001b[0;34m.\u001b[0m\u001b[0mboard\u001b[0m\u001b[0;34m(\u001b[0m\u001b[0;34m\"Test\"\u001b[0m\u001b[0;34m)\u001b[0m\u001b[0;34m\u001b[0m\u001b[0;34m\u001b[0m\u001b[0m\n\u001b[0;32m----> 2\u001b[0;31m \u001b[0mask_coordenates3\u001b[0m\u001b[0;34m(\u001b[0m\u001b[0mboard1\u001b[0m\u001b[0;34m)\u001b[0m\u001b[0;34m\u001b[0m\u001b[0;34m\u001b[0m\u001b[0m\n\u001b[0m\u001b[1;32m      3\u001b[0m \u001b[0mboard1\u001b[0m\u001b[0;34m.\u001b[0m\u001b[0mbackend\u001b[0m\u001b[0;34m\u001b[0m\u001b[0;34m\u001b[0m\u001b[0m\n",
      "\u001b[0;32m<ipython-input-5-88754ccb7e14>\u001b[0m in \u001b[0;36mask_coordenates3\u001b[0;34m(board)\u001b[0m\n\u001b[1;32m     15\u001b[0m             \u001b[0;31m# Ask information about the ship\u001b[0m\u001b[0;34m\u001b[0m\u001b[0;34m\u001b[0m\u001b[0;34m\u001b[0m\u001b[0m\n\u001b[1;32m     16\u001b[0m             \u001b[0msize\u001b[0m \u001b[0;34m=\u001b[0m \u001b[0mint\u001b[0m\u001b[0;34m(\u001b[0m\u001b[0mi\u001b[0m\u001b[0;34m[\u001b[0m\u001b[0;36m0\u001b[0m\u001b[0;34m]\u001b[0m\u001b[0;34m)\u001b[0m\u001b[0;34m\u001b[0m\u001b[0;34m\u001b[0m\u001b[0m\n\u001b[0;32m---> 17\u001b[0;31m             \u001b[0mallignment\u001b[0m \u001b[0;34m=\u001b[0m \u001b[0mship_allignment\u001b[0m\u001b[0;34m(\u001b[0m\u001b[0;34m)\u001b[0m\u001b[0;34m\u001b[0m\u001b[0;34m\u001b[0m\u001b[0m\n\u001b[0m\u001b[1;32m     18\u001b[0m             \u001b[0mcolumn\u001b[0m\u001b[0;34m,\u001b[0m \u001b[0mrow\u001b[0m \u001b[0;34m=\u001b[0m \u001b[0mship_coordenates\u001b[0m\u001b[0;34m(\u001b[0m\u001b[0;34m)\u001b[0m\u001b[0;34m\u001b[0m\u001b[0;34m\u001b[0m\u001b[0m\n\u001b[1;32m     19\u001b[0m \u001b[0;34m\u001b[0m\u001b[0m\n",
      "\u001b[0;32m<ipython-input-2-fbcf641e294f>\u001b[0m in \u001b[0;36mship_allignment\u001b[0;34m()\u001b[0m\n\u001b[1;32m     37\u001b[0m \u001b[0;31m# >>> To ask for ship's allignment -\u001b[0m\u001b[0;34m\u001b[0m\u001b[0;34m\u001b[0m\u001b[0;34m\u001b[0m\u001b[0m\n\u001b[1;32m     38\u001b[0m \u001b[0;32mdef\u001b[0m \u001b[0mship_allignment\u001b[0m\u001b[0;34m(\u001b[0m\u001b[0;34m)\u001b[0m\u001b[0;34m:\u001b[0m\u001b[0;34m\u001b[0m\u001b[0;34m\u001b[0m\u001b[0m\n\u001b[0;32m---> 39\u001b[0;31m     \u001b[0mallignment\u001b[0m \u001b[0;34m=\u001b[0m \u001b[0minput\u001b[0m\u001b[0;34m(\u001b[0m\u001b[0;34m'Vertical (v) or Horizontal (h): '\u001b[0m\u001b[0;34m)\u001b[0m\u001b[0;34m.\u001b[0m\u001b[0mlower\u001b[0m\u001b[0;34m(\u001b[0m\u001b[0;34m)\u001b[0m\u001b[0;34m\u001b[0m\u001b[0;34m\u001b[0m\u001b[0m\n\u001b[0m\u001b[1;32m     40\u001b[0m     \u001b[0moptions\u001b[0m \u001b[0;34m=\u001b[0m \u001b[0;34m[\u001b[0m\u001b[0;34m'v'\u001b[0m\u001b[0;34m,\u001b[0m \u001b[0;34m'h'\u001b[0m\u001b[0;34m]\u001b[0m    \u001b[0;31m# valid options\u001b[0m\u001b[0;34m\u001b[0m\u001b[0;34m\u001b[0m\u001b[0m\n\u001b[1;32m     41\u001b[0m \u001b[0;34m\u001b[0m\u001b[0m\n",
      "\u001b[0;32m~/Library/Python/3.7/lib/python/site-packages/ipykernel/kernelbase.py\u001b[0m in \u001b[0;36mraw_input\u001b[0;34m(self, prompt)\u001b[0m\n\u001b[1;32m    849\u001b[0m             \u001b[0mself\u001b[0m\u001b[0;34m.\u001b[0m\u001b[0m_parent_ident\u001b[0m\u001b[0;34m,\u001b[0m\u001b[0;34m\u001b[0m\u001b[0;34m\u001b[0m\u001b[0m\n\u001b[1;32m    850\u001b[0m             \u001b[0mself\u001b[0m\u001b[0;34m.\u001b[0m\u001b[0m_parent_header\u001b[0m\u001b[0;34m,\u001b[0m\u001b[0;34m\u001b[0m\u001b[0;34m\u001b[0m\u001b[0m\n\u001b[0;32m--> 851\u001b[0;31m             \u001b[0mpassword\u001b[0m\u001b[0;34m=\u001b[0m\u001b[0;32mFalse\u001b[0m\u001b[0;34m,\u001b[0m\u001b[0;34m\u001b[0m\u001b[0;34m\u001b[0m\u001b[0m\n\u001b[0m\u001b[1;32m    852\u001b[0m         )\n\u001b[1;32m    853\u001b[0m \u001b[0;34m\u001b[0m\u001b[0m\n",
      "\u001b[0;32m~/Library/Python/3.7/lib/python/site-packages/ipykernel/kernelbase.py\u001b[0m in \u001b[0;36m_input_request\u001b[0;34m(self, prompt, ident, parent, password)\u001b[0m\n\u001b[1;32m    890\u001b[0m             \u001b[0;32mexcept\u001b[0m \u001b[0mKeyboardInterrupt\u001b[0m\u001b[0;34m:\u001b[0m\u001b[0;34m\u001b[0m\u001b[0;34m\u001b[0m\u001b[0m\n\u001b[1;32m    891\u001b[0m                 \u001b[0;31m# re-raise KeyboardInterrupt, to truncate traceback\u001b[0m\u001b[0;34m\u001b[0m\u001b[0;34m\u001b[0m\u001b[0;34m\u001b[0m\u001b[0m\n\u001b[0;32m--> 892\u001b[0;31m                 \u001b[0;32mraise\u001b[0m \u001b[0mKeyboardInterrupt\u001b[0m\u001b[0;34m(\u001b[0m\u001b[0;34m\"Interrupted by user\"\u001b[0m\u001b[0;34m)\u001b[0m \u001b[0;32mfrom\u001b[0m \u001b[0;32mNone\u001b[0m\u001b[0;34m\u001b[0m\u001b[0;34m\u001b[0m\u001b[0m\n\u001b[0m\u001b[1;32m    893\u001b[0m             \u001b[0;32mexcept\u001b[0m \u001b[0mException\u001b[0m \u001b[0;32mas\u001b[0m \u001b[0me\u001b[0m\u001b[0;34m:\u001b[0m\u001b[0;34m\u001b[0m\u001b[0;34m\u001b[0m\u001b[0m\n\u001b[1;32m    894\u001b[0m                 \u001b[0mself\u001b[0m\u001b[0;34m.\u001b[0m\u001b[0mlog\u001b[0m\u001b[0;34m.\u001b[0m\u001b[0mwarning\u001b[0m\u001b[0;34m(\u001b[0m\u001b[0;34m\"Invalid Message:\"\u001b[0m\u001b[0;34m,\u001b[0m \u001b[0mexc_info\u001b[0m\u001b[0;34m=\u001b[0m\u001b[0;32mTrue\u001b[0m\u001b[0;34m)\u001b[0m\u001b[0;34m\u001b[0m\u001b[0;34m\u001b[0m\u001b[0m\n",
      "\u001b[0;31mKeyboardInterrupt\u001b[0m: Interrupted by user"
     ]
    }
   ],
   "source": [
    "board1 = c.board(\"Test\")\n",
    "ask_coordenates3(board1)\n",
    "board1.backend"
   ]
  },
  {
   "cell_type": "code",
   "execution_count": 23,
   "metadata": {},
   "outputs": [
    {
     "output_type": "execute_result",
     "data": {
      "text/plain": [
       "int"
      ]
     },
     "metadata": {},
     "execution_count": 23
    }
   ],
   "source": [
    "a = list(board1.backend.index)\n",
    "b = list(range(len(a)))\n",
    "\n",
    "d = dict(zip(a, b))\n",
    "type(d[\"A\"])"
   ]
  },
  {
   "cell_type": "code",
   "execution_count": null,
   "metadata": {},
   "outputs": [],
   "source": [
    "def ship_drawer2(self, ship_info):\n",
    "        # Matrix to draw into\n",
    "        df = self.backend\n",
    "\n",
    "        # Unpacking the info\n",
    "        column, row, allignment, size = ship_info\n",
    "\n",
    "        # List of indexes and equivalent numeric position\n",
    "        l1 = list(df.index)             # A, B, C, D, ...\n",
    "        l2 = list(range(len(l1)))       # 1, 2, 3, 4, ...\n",
    "\n",
    "        # Zip both lists\n",
    "        d = dict(zip(l1, l2))       # {'A' : 1, 'B' : 2, ...}\n",
    "\n",
    "        # First I check the allignment\n",
    "        if allignment == 'h':\n",
    "            # Then I draw the ships starting from the given column and finishing in the column + size\n",
    "            for i in range(column, column + size):\n",
    "                df.iloc[d[row] - 1][i] = '-'\n",
    "                df.iloc[d[row]][i] = '*'\n",
    "                df.iloc[d[row] + 1][i] = '-'\n",
    "            return df\n",
    "        elif allignment == 'v':\n",
    "            # Equivalent procedure for rows\n",
    "            for i in range(d[row], d[row] + size):\n",
    "                df.iloc[i][column] = '*'\n",
    "            return df"
   ]
  },
  {
   "cell_type": "code",
   "execution_count": 50,
   "metadata": {},
   "outputs": [],
   "source": [
    "def check_last_position(ship_info):\n",
    "    column, row, allignment, size = ship_info\n",
    "\n",
    "    rows = ['A', 'B', 'C', 'D', 'E', 'F', 'G', 'H', 'I', 'J']\n",
    "    columns = list(range(1, 11))\n",
    "\n",
    "    d = dict(zip(index, columns))\n",
    "\n",
    "    if allignment == 'v':\n",
    "        f_row = rows[d[row] + size - 2]\n",
    "        if f_row not in rows:\n",
    "            return 'Out of boundaries'\n",
    "    \n",
    "    else:\n",
    "        f_col = column + size - 1\n",
    "        if f_col not in columns:\n",
    "            return 'Out of boundaries'\n",
    "\n",
    "    return 'All right'"
   ]
  },
  {
   "cell_type": "code",
   "execution_count": 4,
   "metadata": {},
   "outputs": [],
   "source": [
    "import functions as f\n",
    "\n",
    "def check_last_position(size):\n",
    "\n",
    "    # Call the functions for column, row and allignment\n",
    "    col, row, allign = f.ship_coordenates()\n",
    "\n",
    "    # Indexes to check\n",
    "    rows = ['A', 'B', 'C', 'D', 'E', 'F', 'G', 'H', 'I', 'J']\n",
    "    columns = list(range(1, 11))\n",
    "\n",
    "    # Zip into dict for later user\n",
    "    d = dict(zip(rows, columns))\n",
    "\n",
    "    # Pull the row index for later use\n",
    "    row_index = d[row]\n",
    "\n",
    "    if allign == 'v':\n",
    "        # Calculate the last row with the indexes\n",
    "        # -1 -> Because it starts drawing in the row entered, not the next one\n",
    "        end_row = row_index + size - 1\n",
    "        # As rows and columns have the same length and the previous calculation returns a number, we can use it to check the condition\n",
    "        if end_row not in columns:\n",
    "            print('Out of boundaries')\n",
    "            return check_last_position(size)\n",
    "    \n",
    "    else:\n",
    "        # Calculate the last column\n",
    "        end_col = col + size - 1\n",
    "        # If it is not in the possible columns, then 'out of boundaries'\n",
    "        if end_col not in columns:\n",
    "            print('Out of boundaries')\n",
    "            return check_last_position(size)\n",
    "\n",
    "    print('All right')\n",
    "    return [col, row, allign, size]"
   ]
  },
  {
   "cell_type": "code",
   "execution_count": 3,
   "metadata": {},
   "outputs": [
    {
     "output_type": "stream",
     "name": "stdout",
     "text": [
      "Out of boundaries\n",
      "Out of boundaries\n",
      "All right\n"
     ]
    },
    {
     "output_type": "execute_result",
     "data": {
      "text/plain": [
       "[6, 'H', 'h']"
      ]
     },
     "metadata": {},
     "execution_count": 3
    }
   ],
   "source": [
    "# [7, 'G', 'v', 5]\n",
    "\n",
    "check_last_position(4)"
   ]
  },
  {
   "cell_type": "code",
   "execution_count": 11,
   "metadata": {},
   "outputs": [],
   "source": [
    "def ask_coordenates(board):\n",
    "    # Ships to be entered\n",
    "    ships_to_enter = {'2x1' : {'size' : 2, 'amount' : 4}, '3x1' : {'size' : 3, 'amount' : 3}, '4x1' : {'size' : 4, 'amount' : 2}, '5x1' : {'size' : 5, 'amount' : 1}}\n",
    "\n",
    "    player_ships = []\n",
    "\n",
    "    # Iterate through the keys (type of ship)\n",
    "    for i in ships_to_enter.keys():\n",
    "\n",
    "        count = 0\n",
    "        # Iterate though the amount of ships for every type\n",
    "        while count < ships_to_enter[i][\"amount\"]:\n",
    "            # Show the user the ship we are asking for\n",
    "            print('For your ship {} of size {}, please enter the info:\\n'.format(count + 1, i))\n",
    "            # Ask information about the ship using the checker\n",
    "            ship_info = check_last_position(int(i[0]))\n",
    "\n",
    "            # Create the ship object and add it to the ships' list\n",
    "            ship = c.ship(ship_info)\n",
    "            player_ships.append(ship)\n",
    "\n",
    "            # Draw the ship\n",
    "            board.ship_drawer(ship.attributes())\n",
    "\n",
    "            count += 1\n",
    "\n",
    "        count = 0\n",
    "\n",
    "    return player_ships"
   ]
  },
  {
   "cell_type": "code",
   "execution_count": 12,
   "metadata": {},
   "outputs": [
    {
     "output_type": "stream",
     "name": "stdout",
     "text": [
      "For your ship 1 of size 2x1, please enter the info:\n",
      "\n",
      "All right\n",
      "For your ship 2 of size 2x1, please enter the info:\n",
      "\n",
      "All right\n",
      "For your ship 3 of size 2x1, please enter the info:\n",
      "\n",
      "All right\n",
      "For your ship 4 of size 2x1, please enter the info:\n",
      "\n",
      "All right\n",
      "For your ship 1 of size 3x1, please enter the info:\n",
      "\n",
      "All right\n",
      "For your ship 2 of size 3x1, please enter the info:\n",
      "\n",
      "All right\n",
      "For your ship 3 of size 3x1, please enter the info:\n",
      "\n",
      "Out of boundaries\n",
      "Out of boundaries\n",
      "All right\n",
      "For your ship 1 of size 4x1, please enter the info:\n",
      "\n",
      "All right\n",
      "For your ship 2 of size 4x1, please enter the info:\n",
      "\n",
      "All right\n",
      "For your ship 1 of size 5x1, please enter the info:\n",
      "\n",
      "Out of boundaries\n",
      "Out of boundaries\n",
      "All right\n"
     ]
    },
    {
     "output_type": "execute_result",
     "data": {
      "text/plain": [
       "  1  2  3  4  5  6  7  8  9  10\n",
       "A  *  *  *  *  *  *  *  *  *  ~\n",
       "B  *  *  *  *  *  *  *  *  *  ~\n",
       "C  ~  ~  ~  ~  *  *  *  *  *  ~\n",
       "D  ~  ~  ~  ~  ~  ~  ~  *  *  ~\n",
       "E  ~  ~  ~  ~  ~  ~  ~  ~  ~  ~\n",
       "F  ~  ~  ~  ~  ~  ~  ~  ~  ~  ~\n",
       "G  ~  ~  ~  ~  ~  ~  ~  ~  ~  ~\n",
       "H  ~  ~  ~  ~  ~  *  *  *  *  *\n",
       "I  ~  ~  ~  ~  ~  ~  ~  ~  ~  ~\n",
       "J  ~  ~  ~  ~  ~  ~  ~  ~  ~  ~"
      ],
      "text/html": "<div>\n<style scoped>\n    .dataframe tbody tr th:only-of-type {\n        vertical-align: middle;\n    }\n\n    .dataframe tbody tr th {\n        vertical-align: top;\n    }\n\n    .dataframe thead th {\n        text-align: right;\n    }\n</style>\n<table border=\"1\" class=\"dataframe\">\n  <thead>\n    <tr style=\"text-align: right;\">\n      <th></th>\n      <th>1</th>\n      <th>2</th>\n      <th>3</th>\n      <th>4</th>\n      <th>5</th>\n      <th>6</th>\n      <th>7</th>\n      <th>8</th>\n      <th>9</th>\n      <th>10</th>\n    </tr>\n  </thead>\n  <tbody>\n    <tr>\n      <th>A</th>\n      <td>*</td>\n      <td>*</td>\n      <td>*</td>\n      <td>*</td>\n      <td>*</td>\n      <td>*</td>\n      <td>*</td>\n      <td>*</td>\n      <td>*</td>\n      <td>~</td>\n    </tr>\n    <tr>\n      <th>B</th>\n      <td>*</td>\n      <td>*</td>\n      <td>*</td>\n      <td>*</td>\n      <td>*</td>\n      <td>*</td>\n      <td>*</td>\n      <td>*</td>\n      <td>*</td>\n      <td>~</td>\n    </tr>\n    <tr>\n      <th>C</th>\n      <td>~</td>\n      <td>~</td>\n      <td>~</td>\n      <td>~</td>\n      <td>*</td>\n      <td>*</td>\n      <td>*</td>\n      <td>*</td>\n      <td>*</td>\n      <td>~</td>\n    </tr>\n    <tr>\n      <th>D</th>\n      <td>~</td>\n      <td>~</td>\n      <td>~</td>\n      <td>~</td>\n      <td>~</td>\n      <td>~</td>\n      <td>~</td>\n      <td>*</td>\n      <td>*</td>\n      <td>~</td>\n    </tr>\n    <tr>\n      <th>E</th>\n      <td>~</td>\n      <td>~</td>\n      <td>~</td>\n      <td>~</td>\n      <td>~</td>\n      <td>~</td>\n      <td>~</td>\n      <td>~</td>\n      <td>~</td>\n      <td>~</td>\n    </tr>\n    <tr>\n      <th>F</th>\n      <td>~</td>\n      <td>~</td>\n      <td>~</td>\n      <td>~</td>\n      <td>~</td>\n      <td>~</td>\n      <td>~</td>\n      <td>~</td>\n      <td>~</td>\n      <td>~</td>\n    </tr>\n    <tr>\n      <th>G</th>\n      <td>~</td>\n      <td>~</td>\n      <td>~</td>\n      <td>~</td>\n      <td>~</td>\n      <td>~</td>\n      <td>~</td>\n      <td>~</td>\n      <td>~</td>\n      <td>~</td>\n    </tr>\n    <tr>\n      <th>H</th>\n      <td>~</td>\n      <td>~</td>\n      <td>~</td>\n      <td>~</td>\n      <td>~</td>\n      <td>*</td>\n      <td>*</td>\n      <td>*</td>\n      <td>*</td>\n      <td>*</td>\n    </tr>\n    <tr>\n      <th>I</th>\n      <td>~</td>\n      <td>~</td>\n      <td>~</td>\n      <td>~</td>\n      <td>~</td>\n      <td>~</td>\n      <td>~</td>\n      <td>~</td>\n      <td>~</td>\n      <td>~</td>\n    </tr>\n    <tr>\n      <th>J</th>\n      <td>~</td>\n      <td>~</td>\n      <td>~</td>\n      <td>~</td>\n      <td>~</td>\n      <td>~</td>\n      <td>~</td>\n      <td>~</td>\n      <td>~</td>\n      <td>~</td>\n    </tr>\n  </tbody>\n</table>\n</div>"
     },
     "metadata": {},
     "execution_count": 12
    }
   ],
   "source": [
    "import classes as c\n",
    "\n",
    "board1 = c.board(\"Test\")\n",
    "ask_coordenates(board1)\n",
    "board1.backend"
   ]
  },
  {
   "cell_type": "code",
   "execution_count": 1,
   "metadata": {},
   "outputs": [
    {
     "output_type": "stream",
     "name": "stdout",
     "text": [
      "For your ship 1 of size 2x1, please enter the info:\n",
      "\n",
      "Out of boundaries\n",
      "All right\n",
      "For your ship 2 of size 2x1, please enter the info:\n",
      "\n",
      "All right\n",
      "For your ship 3 of size 2x1, please enter the info:\n",
      "\n",
      "All right\n",
      "For your ship 4 of size 2x1, please enter the info:\n",
      "\n",
      "All right\n",
      "For your ship 1 of size 3x1, please enter the info:\n",
      "\n",
      "All right\n",
      "For your ship 2 of size 3x1, please enter the info:\n",
      "\n",
      "All right\n",
      "For your ship 3 of size 3x1, please enter the info:\n",
      "\n",
      "All right\n",
      "For your ship 1 of size 4x1, please enter the info:\n",
      "\n",
      "All right\n",
      "For your ship 2 of size 4x1, please enter the info:\n",
      "\n",
      "Out of boundaries\n",
      "All right\n",
      "For your ship 1 of size 5x1, please enter the info:\n",
      "\n",
      "All right\n"
     ]
    },
    {
     "output_type": "execute_result",
     "data": {
      "text/plain": [
       "  1  2  3  4  5  6  7  8  9  10\n",
       "A  *  *  *  *  *  *  *  *  *  *\n",
       "B  *  *  *  *  *  *  *  *  *  *\n",
       "C  ~  ~  ~  ~  *  *  *  *  *  *\n",
       "D  ~  ~  ~  ~  ~  ~  ~  *  *  *\n",
       "E  ~  ~  ~  ~  ~  ~  ~  ~  ~  *\n",
       "F  ~  ~  ~  ~  ~  ~  ~  ~  ~  ~\n",
       "G  ~  ~  ~  ~  ~  ~  ~  ~  ~  ~\n",
       "H  ~  ~  ~  ~  ~  ~  ~  ~  ~  ~\n",
       "I  ~  ~  ~  ~  ~  ~  ~  ~  ~  ~\n",
       "J  ~  ~  ~  ~  ~  ~  ~  ~  ~  ~"
      ],
      "text/html": "<div>\n<style scoped>\n    .dataframe tbody tr th:only-of-type {\n        vertical-align: middle;\n    }\n\n    .dataframe tbody tr th {\n        vertical-align: top;\n    }\n\n    .dataframe thead th {\n        text-align: right;\n    }\n</style>\n<table border=\"1\" class=\"dataframe\">\n  <thead>\n    <tr style=\"text-align: right;\">\n      <th></th>\n      <th>1</th>\n      <th>2</th>\n      <th>3</th>\n      <th>4</th>\n      <th>5</th>\n      <th>6</th>\n      <th>7</th>\n      <th>8</th>\n      <th>9</th>\n      <th>10</th>\n    </tr>\n  </thead>\n  <tbody>\n    <tr>\n      <th>A</th>\n      <td>*</td>\n      <td>*</td>\n      <td>*</td>\n      <td>*</td>\n      <td>*</td>\n      <td>*</td>\n      <td>*</td>\n      <td>*</td>\n      <td>*</td>\n      <td>*</td>\n    </tr>\n    <tr>\n      <th>B</th>\n      <td>*</td>\n      <td>*</td>\n      <td>*</td>\n      <td>*</td>\n      <td>*</td>\n      <td>*</td>\n      <td>*</td>\n      <td>*</td>\n      <td>*</td>\n      <td>*</td>\n    </tr>\n    <tr>\n      <th>C</th>\n      <td>~</td>\n      <td>~</td>\n      <td>~</td>\n      <td>~</td>\n      <td>*</td>\n      <td>*</td>\n      <td>*</td>\n      <td>*</td>\n      <td>*</td>\n      <td>*</td>\n    </tr>\n    <tr>\n      <th>D</th>\n      <td>~</td>\n      <td>~</td>\n      <td>~</td>\n      <td>~</td>\n      <td>~</td>\n      <td>~</td>\n      <td>~</td>\n      <td>*</td>\n      <td>*</td>\n      <td>*</td>\n    </tr>\n    <tr>\n      <th>E</th>\n      <td>~</td>\n      <td>~</td>\n      <td>~</td>\n      <td>~</td>\n      <td>~</td>\n      <td>~</td>\n      <td>~</td>\n      <td>~</td>\n      <td>~</td>\n      <td>*</td>\n    </tr>\n    <tr>\n      <th>F</th>\n      <td>~</td>\n      <td>~</td>\n      <td>~</td>\n      <td>~</td>\n      <td>~</td>\n      <td>~</td>\n      <td>~</td>\n      <td>~</td>\n      <td>~</td>\n      <td>~</td>\n    </tr>\n    <tr>\n      <th>G</th>\n      <td>~</td>\n      <td>~</td>\n      <td>~</td>\n      <td>~</td>\n      <td>~</td>\n      <td>~</td>\n      <td>~</td>\n      <td>~</td>\n      <td>~</td>\n      <td>~</td>\n    </tr>\n    <tr>\n      <th>H</th>\n      <td>~</td>\n      <td>~</td>\n      <td>~</td>\n      <td>~</td>\n      <td>~</td>\n      <td>~</td>\n      <td>~</td>\n      <td>~</td>\n      <td>~</td>\n      <td>~</td>\n    </tr>\n    <tr>\n      <th>I</th>\n      <td>~</td>\n      <td>~</td>\n      <td>~</td>\n      <td>~</td>\n      <td>~</td>\n      <td>~</td>\n      <td>~</td>\n      <td>~</td>\n      <td>~</td>\n      <td>~</td>\n    </tr>\n    <tr>\n      <th>J</th>\n      <td>~</td>\n      <td>~</td>\n      <td>~</td>\n      <td>~</td>\n      <td>~</td>\n      <td>~</td>\n      <td>~</td>\n      <td>~</td>\n      <td>~</td>\n      <td>~</td>\n    </tr>\n  </tbody>\n</table>\n</div>"
     },
     "metadata": {},
     "execution_count": 1
    }
   ],
   "source": [
    "import classes as c\n",
    "import functions as f\n",
    "\n",
    "board1 = c.board(\"Test\")\n",
    "f.ask_coordenates(board1)\n",
    "board1.backend"
   ]
  },
  {
   "cell_type": "code",
   "execution_count": 61,
   "metadata": {},
   "outputs": [],
   "source": [
    "import functions as f\n",
    "\n",
    "def check_overlap(board):\n",
    "    col, row, allign, size = f.check_boundaries(5)\n",
    "\n",
    "    # Indexes to check\n",
    "    rows = ['A', 'B', 'C', 'D', 'E', 'F', 'G', 'H', 'I', 'J']\n",
    "    columns = list(range(1, 11))\n",
    "\n",
    "    # Zip into dict for later user\n",
    "    d = dict(zip(rows, columns))\n",
    "\n",
    "    # space list to store all the positions we need to check\n",
    "    space = []\n",
    "\n",
    "    if allign == 'v':\n",
    "        row_start = d[row] -1\n",
    "        row_end = d[row] + size -1\n",
    "\n",
    "        for i in rows[row_start:row_end]:\n",
    "            field = board.backend.loc[i][col]\n",
    "            space.append(field)\n",
    "\n",
    "    else:\n",
    "        col_start = col - 1\n",
    "        col_end = col + size - 1\n",
    "\n",
    "        for i in columns[col_start:col_end]:\n",
    "            field = board.backend.loc[row][i]\n",
    "            space.append(field)\n",
    "\n",
    "\n",
    "    if '*' in space or '/' in space:\n",
    "        print(\"You already have a ship there or too close. Try another location\")\n",
    "        return check_overlap(board)\n",
    "\n",
    "    else:\n",
    "        ship_info = [col, row, allign, size]\n",
    "        return ship_info"
   ]
  },
  {
   "cell_type": "code",
   "execution_count": 3,
   "metadata": {},
   "outputs": [
    {
     "output_type": "execute_result",
     "data": {
      "text/plain": [
       "  1  2  3  4  5  6  7  8  9  10\n",
       "A  /  *  *  *  *  /  ~  ~  ~  ~\n",
       "B  ~  /  /  /  /  ~  ~  ~  ~  ~\n",
       "C  ~  ~  ~  ~  ~  ~  ~  ~  ~  ~\n",
       "D  ~  ~  ~  ~  ~  ~  ~  ~  ~  ~\n",
       "E  ~  ~  ~  ~  ~  ~  ~  ~  ~  ~\n",
       "F  ~  ~  ~  ~  ~  ~  ~  ~  ~  ~\n",
       "G  ~  ~  ~  ~  ~  ~  ~  ~  ~  ~\n",
       "H  ~  ~  ~  ~  ~  ~  ~  ~  ~  ~\n",
       "I  ~  ~  ~  ~  ~  ~  ~  ~  ~  ~\n",
       "J  ~  ~  ~  ~  ~  ~  ~  ~  ~  ~"
      ],
      "text/html": "<div>\n<style scoped>\n    .dataframe tbody tr th:only-of-type {\n        vertical-align: middle;\n    }\n\n    .dataframe tbody tr th {\n        vertical-align: top;\n    }\n\n    .dataframe thead th {\n        text-align: right;\n    }\n</style>\n<table border=\"1\" class=\"dataframe\">\n  <thead>\n    <tr style=\"text-align: right;\">\n      <th></th>\n      <th>1</th>\n      <th>2</th>\n      <th>3</th>\n      <th>4</th>\n      <th>5</th>\n      <th>6</th>\n      <th>7</th>\n      <th>8</th>\n      <th>9</th>\n      <th>10</th>\n    </tr>\n  </thead>\n  <tbody>\n    <tr>\n      <th>A</th>\n      <td>/</td>\n      <td>*</td>\n      <td>*</td>\n      <td>*</td>\n      <td>*</td>\n      <td>/</td>\n      <td>~</td>\n      <td>~</td>\n      <td>~</td>\n      <td>~</td>\n    </tr>\n    <tr>\n      <th>B</th>\n      <td>~</td>\n      <td>/</td>\n      <td>/</td>\n      <td>/</td>\n      <td>/</td>\n      <td>~</td>\n      <td>~</td>\n      <td>~</td>\n      <td>~</td>\n      <td>~</td>\n    </tr>\n    <tr>\n      <th>C</th>\n      <td>~</td>\n      <td>~</td>\n      <td>~</td>\n      <td>~</td>\n      <td>~</td>\n      <td>~</td>\n      <td>~</td>\n      <td>~</td>\n      <td>~</td>\n      <td>~</td>\n    </tr>\n    <tr>\n      <th>D</th>\n      <td>~</td>\n      <td>~</td>\n      <td>~</td>\n      <td>~</td>\n      <td>~</td>\n      <td>~</td>\n      <td>~</td>\n      <td>~</td>\n      <td>~</td>\n      <td>~</td>\n    </tr>\n    <tr>\n      <th>E</th>\n      <td>~</td>\n      <td>~</td>\n      <td>~</td>\n      <td>~</td>\n      <td>~</td>\n      <td>~</td>\n      <td>~</td>\n      <td>~</td>\n      <td>~</td>\n      <td>~</td>\n    </tr>\n    <tr>\n      <th>F</th>\n      <td>~</td>\n      <td>~</td>\n      <td>~</td>\n      <td>~</td>\n      <td>~</td>\n      <td>~</td>\n      <td>~</td>\n      <td>~</td>\n      <td>~</td>\n      <td>~</td>\n    </tr>\n    <tr>\n      <th>G</th>\n      <td>~</td>\n      <td>~</td>\n      <td>~</td>\n      <td>~</td>\n      <td>~</td>\n      <td>~</td>\n      <td>~</td>\n      <td>~</td>\n      <td>~</td>\n      <td>~</td>\n    </tr>\n    <tr>\n      <th>H</th>\n      <td>~</td>\n      <td>~</td>\n      <td>~</td>\n      <td>~</td>\n      <td>~</td>\n      <td>~</td>\n      <td>~</td>\n      <td>~</td>\n      <td>~</td>\n      <td>~</td>\n    </tr>\n    <tr>\n      <th>I</th>\n      <td>~</td>\n      <td>~</td>\n      <td>~</td>\n      <td>~</td>\n      <td>~</td>\n      <td>~</td>\n      <td>~</td>\n      <td>~</td>\n      <td>~</td>\n      <td>~</td>\n    </tr>\n    <tr>\n      <th>J</th>\n      <td>~</td>\n      <td>~</td>\n      <td>~</td>\n      <td>~</td>\n      <td>~</td>\n      <td>~</td>\n      <td>~</td>\n      <td>~</td>\n      <td>~</td>\n      <td>~</td>\n    </tr>\n  </tbody>\n</table>\n</div>"
     },
     "metadata": {},
     "execution_count": 3
    }
   ],
   "source": [
    "board1 = c.board(\"Test\")\n",
    "board1.backend.loc[\"A\"][1:5] = '*'\n",
    "board1.backend.loc[\"B\"][1:5] = '/'\n",
    "board1.backend.loc[\"A\"][1] = '/'\n",
    "board1.backend.loc[\"A\"][6] = '/'\n",
    "board1.backend"
   ]
  },
  {
   "cell_type": "code",
   "execution_count": 16,
   "metadata": {},
   "outputs": [
    {
     "output_type": "execute_result",
     "data": {
      "text/plain": [
       "  1  2  3  4  5  6  7  8  9  10\n",
       "A  /  *  *  *  *  /  ~  ~  ~  /\n",
       "B  ~  /  /  /  /  ~  ~  ~  ~  ~\n",
       "C  ~  ~  ~  ~  ~  ~  ~  ~  ~  ~\n",
       "D  ~  ~  ~  ~  ~  ~  ~  ~  ~  ~\n",
       "E  ~  ~  ~  ~  ~  ~  ~  ~  ~  ~\n",
       "F  ~  ~  ~  ~  ~  ~  ~  ~  ~  ~\n",
       "G  ~  ~  ~  ~  ~  ~  ~  ~  ~  ~\n",
       "H  ~  ~  ~  ~  ~  ~  ~  ~  ~  ~\n",
       "I  ~  ~  ~  ~  ~  ~  ~  ~  ~  ~\n",
       "J  O  O  O  O  ~  ~  ~  ~  ~  ~"
      ],
      "text/html": "<div>\n<style scoped>\n    .dataframe tbody tr th:only-of-type {\n        vertical-align: middle;\n    }\n\n    .dataframe tbody tr th {\n        vertical-align: top;\n    }\n\n    .dataframe thead th {\n        text-align: right;\n    }\n</style>\n<table border=\"1\" class=\"dataframe\">\n  <thead>\n    <tr style=\"text-align: right;\">\n      <th></th>\n      <th>1</th>\n      <th>2</th>\n      <th>3</th>\n      <th>4</th>\n      <th>5</th>\n      <th>6</th>\n      <th>7</th>\n      <th>8</th>\n      <th>9</th>\n      <th>10</th>\n    </tr>\n  </thead>\n  <tbody>\n    <tr>\n      <th>A</th>\n      <td>/</td>\n      <td>*</td>\n      <td>*</td>\n      <td>*</td>\n      <td>*</td>\n      <td>/</td>\n      <td>~</td>\n      <td>~</td>\n      <td>~</td>\n      <td>/</td>\n    </tr>\n    <tr>\n      <th>B</th>\n      <td>~</td>\n      <td>/</td>\n      <td>/</td>\n      <td>/</td>\n      <td>/</td>\n      <td>~</td>\n      <td>~</td>\n      <td>~</td>\n      <td>~</td>\n      <td>~</td>\n    </tr>\n    <tr>\n      <th>C</th>\n      <td>~</td>\n      <td>~</td>\n      <td>~</td>\n      <td>~</td>\n      <td>~</td>\n      <td>~</td>\n      <td>~</td>\n      <td>~</td>\n      <td>~</td>\n      <td>~</td>\n    </tr>\n    <tr>\n      <th>D</th>\n      <td>~</td>\n      <td>~</td>\n      <td>~</td>\n      <td>~</td>\n      <td>~</td>\n      <td>~</td>\n      <td>~</td>\n      <td>~</td>\n      <td>~</td>\n      <td>~</td>\n    </tr>\n    <tr>\n      <th>E</th>\n      <td>~</td>\n      <td>~</td>\n      <td>~</td>\n      <td>~</td>\n      <td>~</td>\n      <td>~</td>\n      <td>~</td>\n      <td>~</td>\n      <td>~</td>\n      <td>~</td>\n    </tr>\n    <tr>\n      <th>F</th>\n      <td>~</td>\n      <td>~</td>\n      <td>~</td>\n      <td>~</td>\n      <td>~</td>\n      <td>~</td>\n      <td>~</td>\n      <td>~</td>\n      <td>~</td>\n      <td>~</td>\n    </tr>\n    <tr>\n      <th>G</th>\n      <td>~</td>\n      <td>~</td>\n      <td>~</td>\n      <td>~</td>\n      <td>~</td>\n      <td>~</td>\n      <td>~</td>\n      <td>~</td>\n      <td>~</td>\n      <td>~</td>\n    </tr>\n    <tr>\n      <th>H</th>\n      <td>~</td>\n      <td>~</td>\n      <td>~</td>\n      <td>~</td>\n      <td>~</td>\n      <td>~</td>\n      <td>~</td>\n      <td>~</td>\n      <td>~</td>\n      <td>~</td>\n    </tr>\n    <tr>\n      <th>I</th>\n      <td>~</td>\n      <td>~</td>\n      <td>~</td>\n      <td>~</td>\n      <td>~</td>\n      <td>~</td>\n      <td>~</td>\n      <td>~</td>\n      <td>~</td>\n      <td>~</td>\n    </tr>\n    <tr>\n      <th>J</th>\n      <td>O</td>\n      <td>O</td>\n      <td>O</td>\n      <td>O</td>\n      <td>~</td>\n      <td>~</td>\n      <td>~</td>\n      <td>~</td>\n      <td>~</td>\n      <td>~</td>\n    </tr>\n  </tbody>\n</table>\n</div>"
     },
     "metadata": {},
     "execution_count": 16
    }
   ],
   "source": [
    "board1.backend.loc[\"J\"][-4:5] = 'O'\n",
    "board1.backend"
   ]
  },
  {
   "cell_type": "code",
   "execution_count": 63,
   "metadata": {},
   "outputs": [
    {
     "output_type": "stream",
     "name": "stdout",
     "text": [
      "All right\n",
      "You already have a ship there or too close. Try another location\n",
      "All right\n",
      "You already have a ship there or too close. Try another location\n",
      "All right\n",
      "You already have a ship there or too close. Try another location\n",
      "All right\n"
     ]
    },
    {
     "output_type": "execute_result",
     "data": {
      "text/plain": [
       "[1, 'B', 'v', 5]"
      ]
     },
     "metadata": {},
     "execution_count": 63
    }
   ],
   "source": [
    "check_overlap(board1)"
   ]
  },
  {
   "cell_type": "code",
   "execution_count": 11,
   "metadata": {},
   "outputs": [
    {
     "output_type": "stream",
     "name": "stdout",
     "text": [
      "1 D\n1 E\n1 F\n1 G\n1 H\n--------------------------------------------------\n1 D\n2 D\n3 D\n4 D\n5 D\n"
     ]
    }
   ],
   "source": [
    "col, row, size = [1, 'D', 5]\n",
    "\n",
    "# Indexes to check\n",
    "rows = ['A', 'B', 'C', 'D', 'E', 'F', 'G', 'H', 'I', 'J']\n",
    "columns = list(range(1, 11))\n",
    "\n",
    "# Zip into dict for later user\n",
    "d = dict(zip(rows, columns))\n",
    "\n",
    "for i in rows[d[row] -1:d[row] + size -1 ]:\n",
    "    print(col, i)\n",
    "\n",
    "print('-' * 50)\n",
    "\n",
    "for i in columns[col - 1:col + size - 1]:\n",
    "    print(i, row)"
   ]
  },
  {
   "cell_type": "code",
   "execution_count": 1,
   "metadata": {},
   "outputs": [],
   "source": [
    "import functions as f\n",
    "import os\n",
    "\n",
    "def ask_coordenates(board):\n",
    "    # Ships to be entered\n",
    "    ships_to_enter = {'2x1' : {'size' : 2, 'amount' : 4}, '3x1' : {'size' : 3, 'amount' : 3}, '4x1' : {'size' : 4, 'amount' : 2}, '5x1' : {'size' : 5, 'amount' : 1}}\n",
    "\n",
    "    player_ships = []\n",
    "\n",
    "    # Iterate through the keys (type of ship)\n",
    "    for i in ships_to_enter.keys():\n",
    "\n",
    "        count = 0\n",
    "        # Iterate though the amount of ships for every type\n",
    "        while count < ships_to_enter[i][\"amount\"]:\n",
    "            print(board.backend)\n",
    "            # Show the user the ship we are asking for\n",
    "            print('For your ship {} of size {}, please enter the info:\\n'.format(count + 1, i))\n",
    "            # Ask information about the ship using the checker\n",
    "            ship_info = f.check_overlap(board, int(i[0]))\n",
    "\n",
    "            # Create the ship object and add it to the ships' list\n",
    "            ship = c.ship(ship_info)\n",
    "            player_ships.append(ship)\n",
    "\n",
    "            # Draw the ship\n",
    "            board.ship_drawer(ship.attributes())\n",
    "\n",
    "            os.system('clear')\n",
    "            count += 1\n",
    "\n",
    "        count = 0\n",
    "\n",
    "    print('Ships succesfully placed')\n",
    "    return player_ships"
   ]
  },
  {
   "cell_type": "code",
   "execution_count": 1,
   "metadata": {},
   "outputs": [
    {
     "output_type": "stream",
     "name": "stdout",
     "text": [
      "  1  2  3  4  5  6  7  8  9  10\n",
      "A  ~  ~  ~  ~  ~  ~  ~  ~  ~  ~\n",
      "B  ~  ~  ~  ~  ~  ~  ~  ~  ~  ~\n",
      "C  ~  ~  ~  ~  ~  ~  ~  ~  ~  ~\n",
      "D  ~  ~  ~  ~  ~  ~  ~  ~  ~  ~\n",
      "E  ~  ~  ~  ~  ~  ~  ~  ~  ~  ~\n",
      "F  ~  ~  ~  ~  ~  ~  ~  ~  ~  ~\n",
      "G  ~  ~  ~  ~  ~  ~  ~  ~  ~  ~\n",
      "H  ~  ~  ~  ~  ~  ~  ~  ~  ~  ~\n",
      "I  ~  ~  ~  ~  ~  ~  ~  ~  ~  ~\n",
      "J  ~  ~  ~  ~  ~  ~  ~  ~  ~  ~\n",
      "For your ship 1 of size 2x1, please enter the info:\n",
      "\n",
      "All right\n",
      "  1  2  3  4  5  6  7  8  9  10\n",
      "A  ~  ~  ~  ~  ~  ~  ~  ~  ~  ~\n",
      "B  ~  ~  ~  ~  ~  ~  ~  ~  ~  ~\n",
      "C  ~  ~  ~  ~  ~  ~  ~  ~  ~  ~\n",
      "D  ~  ~  ~  ~  ~  ~  ~  ~  ~  ~\n",
      "E  ~  ~  ~  ~  ~  ~  ~  ~  ~  ~\n",
      "F  ~  ~  ~  ~  ~  ~  ~  ~  ~  ~\n",
      "G  ~  ~  ~  ~  ~  ~  ~  ~  ~  ~\n",
      "H  ~  ~  ~  ~  ~  ~  ~  ~  ~  ~\n",
      "I  /  /  ~  ~  ~  ~  ~  ~  ~  ~\n",
      "J  *  *  /  ~  ~  ~  ~  ~  ~  ~\n",
      "For your ship 2 of size 2x1, please enter the info:\n",
      "\n",
      "All right\n",
      "  1  2  3  4  5  6  7  8  9  10\n",
      "A  ~  ~  ~  ~  ~  ~  ~  ~  /  *\n",
      "B  ~  ~  ~  ~  ~  ~  ~  ~  /  *\n",
      "C  ~  ~  ~  ~  ~  ~  ~  ~  ~  /\n",
      "D  ~  ~  ~  ~  ~  ~  ~  ~  ~  ~\n",
      "E  ~  ~  ~  ~  ~  ~  ~  ~  ~  ~\n",
      "F  ~  ~  ~  ~  ~  ~  ~  ~  ~  ~\n",
      "G  ~  ~  ~  ~  ~  ~  ~  ~  ~  ~\n",
      "H  ~  ~  ~  ~  ~  ~  ~  ~  ~  ~\n",
      "I  /  /  ~  ~  ~  ~  ~  ~  ~  ~\n",
      "J  *  *  /  ~  ~  ~  ~  ~  ~  ~\n",
      "For your ship 3 of size 2x1, please enter the info:\n",
      "\n"
     ]
    },
    {
     "output_type": "error",
     "ename": "KeyboardInterrupt",
     "evalue": "Interrupted by user",
     "traceback": [
      "\u001b[0;31m---------------------------------------------------------------------------\u001b[0m",
      "\u001b[0;31mKeyboardInterrupt\u001b[0m                         Traceback (most recent call last)",
      "\u001b[0;32m<ipython-input-1-e5cfc914bf70>\u001b[0m in \u001b[0;36m<module>\u001b[0;34m\u001b[0m\n\u001b[1;32m      4\u001b[0m \u001b[0mboard1\u001b[0m \u001b[0;34m=\u001b[0m \u001b[0mc\u001b[0m\u001b[0;34m.\u001b[0m\u001b[0mboard\u001b[0m\u001b[0;34m(\u001b[0m\u001b[0;34m\"Test\"\u001b[0m\u001b[0;34m)\u001b[0m\u001b[0;34m\u001b[0m\u001b[0;34m\u001b[0m\u001b[0m\n\u001b[1;32m      5\u001b[0m \u001b[0;34m\u001b[0m\u001b[0m\n\u001b[0;32m----> 6\u001b[0;31m \u001b[0mf\u001b[0m\u001b[0;34m.\u001b[0m\u001b[0mask_coordenates\u001b[0m\u001b[0;34m(\u001b[0m\u001b[0mboard1\u001b[0m\u001b[0;34m)\u001b[0m\u001b[0;34m\u001b[0m\u001b[0;34m\u001b[0m\u001b[0m\n\u001b[0m",
      "\u001b[0;32m~/Downloads/1_DataScience/TheBridge/thebridge/0_Hundir_Flota_6/Utils/functions.py\u001b[0m in \u001b[0;36mask_coordenates\u001b[0;34m(board)\u001b[0m\n\u001b[1;32m    157\u001b[0m             \u001b[0mprint\u001b[0m\u001b[0;34m(\u001b[0m\u001b[0;34m'For your ship {} of size {}, please enter the info:\\n'\u001b[0m\u001b[0;34m.\u001b[0m\u001b[0mformat\u001b[0m\u001b[0;34m(\u001b[0m\u001b[0mcount\u001b[0m \u001b[0;34m+\u001b[0m \u001b[0;36m1\u001b[0m\u001b[0;34m,\u001b[0m \u001b[0mi\u001b[0m\u001b[0;34m)\u001b[0m\u001b[0;34m)\u001b[0m\u001b[0;34m\u001b[0m\u001b[0;34m\u001b[0m\u001b[0m\n\u001b[1;32m    158\u001b[0m             \u001b[0;31m# Ask information about the ship using the checker\u001b[0m\u001b[0;34m\u001b[0m\u001b[0;34m\u001b[0m\u001b[0;34m\u001b[0m\u001b[0m\n\u001b[0;32m--> 159\u001b[0;31m             \u001b[0mship_info\u001b[0m \u001b[0;34m=\u001b[0m \u001b[0mcheck_overlap\u001b[0m\u001b[0;34m(\u001b[0m\u001b[0mboard\u001b[0m\u001b[0;34m,\u001b[0m \u001b[0mint\u001b[0m\u001b[0;34m(\u001b[0m\u001b[0mi\u001b[0m\u001b[0;34m[\u001b[0m\u001b[0;36m0\u001b[0m\u001b[0;34m]\u001b[0m\u001b[0;34m)\u001b[0m\u001b[0;34m)\u001b[0m\u001b[0;34m\u001b[0m\u001b[0;34m\u001b[0m\u001b[0m\n\u001b[0m\u001b[1;32m    160\u001b[0m \u001b[0;34m\u001b[0m\u001b[0m\n\u001b[1;32m    161\u001b[0m             \u001b[0;31m# Create the ship object and add it to the ships' list\u001b[0m\u001b[0;34m\u001b[0m\u001b[0;34m\u001b[0m\u001b[0;34m\u001b[0m\u001b[0m\n",
      "\u001b[0;32m~/Downloads/1_DataScience/TheBridge/thebridge/0_Hundir_Flota_6/Utils/functions.py\u001b[0m in \u001b[0;36mcheck_overlap\u001b[0;34m(board, size)\u001b[0m\n\u001b[1;32m    103\u001b[0m \u001b[0;31m# >>> To check the ship isn't overlapping\u001b[0m\u001b[0;34m\u001b[0m\u001b[0;34m\u001b[0m\u001b[0;34m\u001b[0m\u001b[0m\n\u001b[1;32m    104\u001b[0m \u001b[0;32mdef\u001b[0m \u001b[0mcheck_overlap\u001b[0m\u001b[0;34m(\u001b[0m\u001b[0mboard\u001b[0m\u001b[0;34m,\u001b[0m \u001b[0msize\u001b[0m\u001b[0;34m)\u001b[0m\u001b[0;34m:\u001b[0m\u001b[0;34m\u001b[0m\u001b[0;34m\u001b[0m\u001b[0m\n\u001b[0;32m--> 105\u001b[0;31m     \u001b[0mcol\u001b[0m\u001b[0;34m,\u001b[0m \u001b[0mrow\u001b[0m\u001b[0;34m,\u001b[0m \u001b[0mallign\u001b[0m\u001b[0;34m,\u001b[0m \u001b[0msize\u001b[0m \u001b[0;34m=\u001b[0m \u001b[0mcheck_boundaries\u001b[0m\u001b[0;34m(\u001b[0m\u001b[0msize\u001b[0m\u001b[0;34m)\u001b[0m\u001b[0;34m\u001b[0m\u001b[0;34m\u001b[0m\u001b[0m\n\u001b[0m\u001b[1;32m    106\u001b[0m \u001b[0;34m\u001b[0m\u001b[0m\n\u001b[1;32m    107\u001b[0m     \u001b[0;31m# Indexes to check\u001b[0m\u001b[0;34m\u001b[0m\u001b[0;34m\u001b[0m\u001b[0;34m\u001b[0m\u001b[0m\n",
      "\u001b[0;32m~/Downloads/1_DataScience/TheBridge/thebridge/0_Hundir_Flota_6/Utils/functions.py\u001b[0m in \u001b[0;36mcheck_boundaries\u001b[0;34m(size)\u001b[0m\n\u001b[1;32m     69\u001b[0m \u001b[0;32mdef\u001b[0m \u001b[0mcheck_boundaries\u001b[0m\u001b[0;34m(\u001b[0m\u001b[0msize\u001b[0m\u001b[0;34m)\u001b[0m\u001b[0;34m:\u001b[0m\u001b[0;34m\u001b[0m\u001b[0;34m\u001b[0m\u001b[0m\n\u001b[1;32m     70\u001b[0m     \u001b[0;31m# Call the functions for column, row and allignment\u001b[0m\u001b[0;34m\u001b[0m\u001b[0;34m\u001b[0m\u001b[0;34m\u001b[0m\u001b[0m\n\u001b[0;32m---> 71\u001b[0;31m     \u001b[0mcol\u001b[0m\u001b[0;34m,\u001b[0m \u001b[0mrow\u001b[0m\u001b[0;34m,\u001b[0m \u001b[0mallign\u001b[0m \u001b[0;34m=\u001b[0m \u001b[0mship_coordenates\u001b[0m\u001b[0;34m(\u001b[0m\u001b[0;34m)\u001b[0m\u001b[0;34m\u001b[0m\u001b[0;34m\u001b[0m\u001b[0m\n\u001b[0m\u001b[1;32m     72\u001b[0m \u001b[0;34m\u001b[0m\u001b[0m\n\u001b[1;32m     73\u001b[0m     \u001b[0;31m# Indexes to check\u001b[0m\u001b[0;34m\u001b[0m\u001b[0;34m\u001b[0m\u001b[0;34m\u001b[0m\u001b[0m\n",
      "\u001b[0;32m~/Downloads/1_DataScience/TheBridge/thebridge/0_Hundir_Flota_6/Utils/functions.py\u001b[0m in \u001b[0;36mship_coordenates\u001b[0;34m()\u001b[0m\n\u001b[1;32m     58\u001b[0m \u001b[0;31m# >>> To join ship's row and column -\u001b[0m\u001b[0;34m\u001b[0m\u001b[0;34m\u001b[0m\u001b[0;34m\u001b[0m\u001b[0m\n\u001b[1;32m     59\u001b[0m \u001b[0;32mdef\u001b[0m \u001b[0mship_coordenates\u001b[0m\u001b[0;34m(\u001b[0m\u001b[0;34m)\u001b[0m\u001b[0;34m:\u001b[0m\u001b[0;34m\u001b[0m\u001b[0;34m\u001b[0m\u001b[0m\n\u001b[0;32m---> 60\u001b[0;31m     \u001b[0mcolumn\u001b[0m \u001b[0;34m=\u001b[0m \u001b[0mship_column\u001b[0m\u001b[0;34m(\u001b[0m\u001b[0;34m)\u001b[0m\u001b[0;34m\u001b[0m\u001b[0;34m\u001b[0m\u001b[0m\n\u001b[0m\u001b[1;32m     61\u001b[0m     \u001b[0mrow\u001b[0m \u001b[0;34m=\u001b[0m \u001b[0mship_row\u001b[0m\u001b[0;34m(\u001b[0m\u001b[0;34m)\u001b[0m\u001b[0;34m\u001b[0m\u001b[0;34m\u001b[0m\u001b[0m\n\u001b[1;32m     62\u001b[0m     \u001b[0mallignment\u001b[0m \u001b[0;34m=\u001b[0m \u001b[0mship_allignment\u001b[0m\u001b[0;34m(\u001b[0m\u001b[0;34m)\u001b[0m\u001b[0;34m\u001b[0m\u001b[0;34m\u001b[0m\u001b[0m\n",
      "\u001b[0;32m~/Downloads/1_DataScience/TheBridge/thebridge/0_Hundir_Flota_6/Utils/functions.py\u001b[0m in \u001b[0;36mship_column\u001b[0;34m()\u001b[0m\n\u001b[1;32m     16\u001b[0m \u001b[0;32mdef\u001b[0m \u001b[0mship_column\u001b[0m\u001b[0;34m(\u001b[0m\u001b[0;34m)\u001b[0m\u001b[0;34m:\u001b[0m\u001b[0;34m\u001b[0m\u001b[0;34m\u001b[0m\u001b[0m\n\u001b[1;32m     17\u001b[0m     \u001b[0;32mtry\u001b[0m\u001b[0;34m:\u001b[0m\u001b[0;34m\u001b[0m\u001b[0;34m\u001b[0m\u001b[0m\n\u001b[0;32m---> 18\u001b[0;31m         \u001b[0mcolumn\u001b[0m \u001b[0;34m=\u001b[0m \u001b[0mint\u001b[0m\u001b[0;34m(\u001b[0m\u001b[0minput\u001b[0m\u001b[0;34m(\u001b[0m\u001b[0;34m'Column: '\u001b[0m\u001b[0;34m)\u001b[0m\u001b[0;34m)\u001b[0m\u001b[0;34m\u001b[0m\u001b[0;34m\u001b[0m\u001b[0m\n\u001b[0m\u001b[1;32m     19\u001b[0m         \u001b[0mcolumn_options\u001b[0m \u001b[0;34m=\u001b[0m \u001b[0mlist\u001b[0m\u001b[0;34m(\u001b[0m\u001b[0mrange\u001b[0m\u001b[0;34m(\u001b[0m\u001b[0;36m1\u001b[0m\u001b[0;34m,\u001b[0m \u001b[0;36m11\u001b[0m\u001b[0;34m)\u001b[0m\u001b[0;34m)\u001b[0m\u001b[0;34m\u001b[0m\u001b[0;34m\u001b[0m\u001b[0m\n\u001b[1;32m     20\u001b[0m \u001b[0;34m\u001b[0m\u001b[0m\n",
      "\u001b[0;32m~/Library/Python/3.7/lib/python/site-packages/ipykernel/kernelbase.py\u001b[0m in \u001b[0;36mraw_input\u001b[0;34m(self, prompt)\u001b[0m\n\u001b[1;32m    849\u001b[0m             \u001b[0mself\u001b[0m\u001b[0;34m.\u001b[0m\u001b[0m_parent_ident\u001b[0m\u001b[0;34m,\u001b[0m\u001b[0;34m\u001b[0m\u001b[0;34m\u001b[0m\u001b[0m\n\u001b[1;32m    850\u001b[0m             \u001b[0mself\u001b[0m\u001b[0;34m.\u001b[0m\u001b[0m_parent_header\u001b[0m\u001b[0;34m,\u001b[0m\u001b[0;34m\u001b[0m\u001b[0;34m\u001b[0m\u001b[0m\n\u001b[0;32m--> 851\u001b[0;31m             \u001b[0mpassword\u001b[0m\u001b[0;34m=\u001b[0m\u001b[0;32mFalse\u001b[0m\u001b[0;34m,\u001b[0m\u001b[0;34m\u001b[0m\u001b[0;34m\u001b[0m\u001b[0m\n\u001b[0m\u001b[1;32m    852\u001b[0m         )\n\u001b[1;32m    853\u001b[0m \u001b[0;34m\u001b[0m\u001b[0m\n",
      "\u001b[0;32m~/Library/Python/3.7/lib/python/site-packages/ipykernel/kernelbase.py\u001b[0m in \u001b[0;36m_input_request\u001b[0;34m(self, prompt, ident, parent, password)\u001b[0m\n\u001b[1;32m    890\u001b[0m             \u001b[0;32mexcept\u001b[0m \u001b[0mKeyboardInterrupt\u001b[0m\u001b[0;34m:\u001b[0m\u001b[0;34m\u001b[0m\u001b[0;34m\u001b[0m\u001b[0m\n\u001b[1;32m    891\u001b[0m                 \u001b[0;31m# re-raise KeyboardInterrupt, to truncate traceback\u001b[0m\u001b[0;34m\u001b[0m\u001b[0;34m\u001b[0m\u001b[0;34m\u001b[0m\u001b[0m\n\u001b[0;32m--> 892\u001b[0;31m                 \u001b[0;32mraise\u001b[0m \u001b[0mKeyboardInterrupt\u001b[0m\u001b[0;34m(\u001b[0m\u001b[0;34m\"Interrupted by user\"\u001b[0m\u001b[0;34m)\u001b[0m \u001b[0;32mfrom\u001b[0m \u001b[0;32mNone\u001b[0m\u001b[0;34m\u001b[0m\u001b[0;34m\u001b[0m\u001b[0m\n\u001b[0m\u001b[1;32m    893\u001b[0m             \u001b[0;32mexcept\u001b[0m \u001b[0mException\u001b[0m \u001b[0;32mas\u001b[0m \u001b[0me\u001b[0m\u001b[0;34m:\u001b[0m\u001b[0;34m\u001b[0m\u001b[0;34m\u001b[0m\u001b[0m\n\u001b[1;32m    894\u001b[0m                 \u001b[0mself\u001b[0m\u001b[0;34m.\u001b[0m\u001b[0mlog\u001b[0m\u001b[0;34m.\u001b[0m\u001b[0mwarning\u001b[0m\u001b[0;34m(\u001b[0m\u001b[0;34m\"Invalid Message:\"\u001b[0m\u001b[0;34m,\u001b[0m \u001b[0mexc_info\u001b[0m\u001b[0;34m=\u001b[0m\u001b[0;32mTrue\u001b[0m\u001b[0;34m)\u001b[0m\u001b[0;34m\u001b[0m\u001b[0;34m\u001b[0m\u001b[0m\n",
      "\u001b[0;31mKeyboardInterrupt\u001b[0m: Interrupted by user"
     ]
    }
   ],
   "source": [
    "import classes as c\n",
    "import functions as f\n",
    "\n",
    "board1 = c.board(\"Test\")\n",
    "\n",
    "f.ask_coordenates(board1)"
   ]
  },
  {
   "cell_type": "code",
   "execution_count": 6,
   "metadata": {},
   "outputs": [
    {
     "output_type": "execute_result",
     "data": {
      "text/plain": [
       "8"
      ]
     },
     "metadata": {},
     "execution_count": 6
    }
   ],
   "source": [
    "a = int(input('number 1'))\n",
    "b = int(input('number 2'))\n",
    "\n",
    "c = a + b if a + b < 10 else 10\n",
    "c"
   ]
  },
  {
   "cell_type": "code",
   "execution_count": null,
   "metadata": {},
   "outputs": [],
   "source": []
  }
 ]
}