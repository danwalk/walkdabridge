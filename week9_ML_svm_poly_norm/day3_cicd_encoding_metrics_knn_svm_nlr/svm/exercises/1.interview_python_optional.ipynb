{
 "metadata": {
  "language_info": {
   "codemirror_mode": {
    "name": "ipython",
    "version": 3
   },
   "file_extension": ".py",
   "mimetype": "text/x-python",
   "name": "python",
   "nbconvert_exporter": "python",
   "pygments_lexer": "ipython3",
   "version": "3.7.4"
  },
  "orig_nbformat": 2,
  "kernelspec": {
   "name": "python3",
   "display_name": "Python 3.7.4 64-bit"
  },
  "interpreter": {
   "hash": "16eb897c26cdfcf18817bc60a8e0737e3939ff1e8491198c807979170104e811"
  }
 },
 "nbformat": 4,
 "nbformat_minor": 2,
 "cells": [
  {
   "cell_type": "markdown",
   "metadata": {},
   "source": [
    "Here's your coding interview problem for today.\n",
    "\n",
    "This problem was asked by Facebook.\n",
    "\n",
    "Given a string of round, curly, and square open and closing brackets, return whether the brackets are balanced (well-formed).\n",
    "\n",
    "For example, given the string \"([])[]({})\", you should return true.\n",
    "\n",
    "{}\n",
    "\n",
    "Given the string \"([)]\" or \"((()\", you should return false.\n",
    "\n",
    "\"()[]{}\", True"
   ]
  },
  {
   "source": [
    "- This case is not correct: \n",
    "\n",
    "\"({)}\""
   ],
   "cell_type": "markdown",
   "metadata": {}
  },
  {
   "cell_type": "code",
   "execution_count": 28,
   "metadata": {},
   "outputs": [],
   "source": [
    "# ([{)}] False\n",
    "\n",
    "def ismycodeclosed(code):\n",
    "    count = 0\n",
    "    for x in code:\n",
    "        print(x)\n",
    "        if x == \"(\" or x == \"{\" or x == \"[\":\n",
    "            count += 1\n",
    "        else:\n",
    "            count -= 1\n",
    "    if count == 0:\n",
    "        return True\n",
    "    else:\n",
    "        print(count)\n",
    "        return False"
   ]
  },
  {
   "cell_type": "code",
   "execution_count": 49,
   "metadata": {},
   "outputs": [
    {
     "output_type": "stream",
     "name": "stdout",
     "text": [
      "(\n[\n]\n)\n"
     ]
    },
    {
     "output_type": "execute_result",
     "data": {
      "text/plain": [
       "True"
      ]
     },
     "metadata": {},
     "execution_count": 49
    }
   ],
   "source": [
    "ismycodeclosed(\"([])\")"
   ]
  },
  {
   "cell_type": "code",
   "execution_count": 48,
   "metadata": {},
   "outputs": [
    {
     "output_type": "error",
     "ename": "SyntaxError",
     "evalue": "invalid syntax (<ipython-input-48-335da394c11c>, line 1)",
     "traceback": [
      "\u001b[1;36m  File \u001b[1;32m\"<ipython-input-48-335da394c11c>\"\u001b[1;36m, line \u001b[1;32m1\u001b[0m\n\u001b[1;33m    (1+1)[1+1]{1}\u001b[0m\n\u001b[1;37m              ^\u001b[0m\n\u001b[1;31mSyntaxError\u001b[0m\u001b[1;31m:\u001b[0m invalid syntax\n"
     ]
    }
   ],
   "source": [
    "(1+1)[]{}"
   ]
  },
  {
   "source": [
    "https://www.geeksforgeeks.org/check-for-balanced-parentheses-in-an-expression/"
   ],
   "cell_type": "markdown",
   "metadata": {}
  },
  {
   "cell_type": "code",
   "execution_count": 62,
   "metadata": {},
   "outputs": [],
   "source": [
    "def ismycodeclosedcopied(code):\n",
    "    test = []\n",
    "    for x in code:\n",
    "        if x in [\"(\", \"{\", \"[\"]:\n",
    "            print(x)\n",
    "            test.append(x)\n",
    "        else:\n",
    "            print(x)\n",
    "            if not test:\n",
    "                return False\n",
    "            thisx = test.pop()\n",
    "            if thisx == \"(\":\n",
    "                if x != \")\":\n",
    "                    return False\n",
    "            if thisx == \"{\":\n",
    "                if x != \"}\":\n",
    "                    return False\n",
    "            if thisx == \"[\":\n",
    "                if x != \"]\":\n",
    "                    return False\n",
    "    if test:\n",
    "        return False\n",
    "    return True         "
   ]
  },
  {
   "cell_type": "code",
   "execution_count": 65,
   "metadata": {},
   "outputs": [
    {
     "output_type": "stream",
     "name": "stdout",
     "text": [
      "(\n(\n(\n)\n"
     ]
    },
    {
     "output_type": "execute_result",
     "data": {
      "text/plain": [
       "False"
      ]
     },
     "metadata": {},
     "execution_count": 65
    }
   ],
   "source": [
    "ismycodeclosedcopied(\"((()\")"
   ]
  },
  {
   "cell_type": "code",
   "execution_count": null,
   "metadata": {},
   "outputs": [],
   "source": []
  }
 ]
}