{
 "metadata": {
  "language_info": {
   "codemirror_mode": {
    "name": "ipython",
    "version": 3
   },
   "file_extension": ".py",
   "mimetype": "text/x-python",
   "name": "python",
   "nbconvert_exporter": "python",
   "pygments_lexer": "ipython3",
   "version": "3.7.4"
  },
  "orig_nbformat": 2,
  "kernelspec": {
   "name": "python3",
   "display_name": "Python 3.7.4 64-bit"
  },
  "interpreter": {
   "hash": "16eb897c26cdfcf18817bc60a8e0737e3939ff1e8491198c807979170104e811"
  }
 },
 "nbformat": 4,
 "nbformat_minor": 2,
 "cells": [
  {
   "cell_type": "markdown",
   "metadata": {},
   "source": [
    "1. \n",
    "\n",
    "(X_train=80%)\n",
    "(X_test=20%)\n",
    "\n",
    "A partir del archivo \"iris.csv\" que se corresponde con datos relacionados con tres tipos de plantas (el target es el tipo de planta):\n",
    "\n",
    "- Mediante regresión logística, predice qué planta se corresponde con los ejemplos: [[15.7,2.8,9.5,0.1]] y [[1.7,3.8,4.5,11.3]]\n",
    "- ¿Qué acierto tiene tu modelo? (score)\n",
    "- Utiliza un conjunto de test con el 40% de los datos: ¿cambian los resultados anteriores? ¿por qué?\n",
    "- Elimina la clase \"Virginica\" de tus datos. Repite el proceso anterior, ¿cambian los resultados?\n",
    "- ¿Consideras la regresión logística un buen algoritmo para estos datos? ¿por qué?"
   ]
  },
  {
   "cell_type": "code",
   "execution_count": 1,
   "metadata": {},
   "outputs": [],
   "source": [
    "import pandas as pd\n",
    "import numpy as np\n",
    "from sklearn import linear_model\n",
    "from sklearn import model_selection\n",
    "from sklearn.model_selection import train_test_split\n",
    "from sklearn.metrics import classification_report\n",
    "from sklearn.metrics import confusion_matrix\n",
    "from sklearn.metrics import accuracy_score\n",
    "import matplotlib.pyplot as plt\n",
    "import seaborn as sns\n",
    "from sklearn import metrics"
   ]
  },
  {
   "cell_type": "code",
   "execution_count": 2,
   "metadata": {},
   "outputs": [],
   "source": [
    "df = pd.read_csv(\"../data/iris.csv\")"
   ]
  },
  {
   "cell_type": "code",
   "execution_count": 33,
   "metadata": {},
   "outputs": [
    {
     "output_type": "stream",
     "name": "stdout",
     "text": [
      "[1.         1.         0.95833333 0.91666667 1.        ]\n----------\nLogistic Regression: 0.975000 +- (0.033333)\nScore:  0.9733333333333334\nFlower predicted with [15.7, 2.8, 9.5, 0.1]:  ['Virginica']\n"
     ]
    }
   ],
   "source": [
    "firstplant = [15.7,2.8,9.5,0.1]\n",
    "X = np.array(df.drop(['variety'], axis=1))\n",
    "y = np.array(df['variety'])\n",
    "model = linear_model.LogisticRegression(max_iter=1000)\n",
    "name='Logistic Regression'\n",
    "X_train, X_test, Y_train, Y_test = model_selection.train_test_split(X, y, test_size=0.2, random_state=1)\n",
    "kfold = model_selection.KFold()\n",
    "cv_results = model_selection.cross_val_score(model, X_train, Y_train, cv=kfold, scoring='accuracy')\n",
    "msg = \"%s: %f %s (%f)\" % (name, cv_results.mean(), \"+-\", cv_results.std())\n",
    "print(cv_results)\n",
    "print(\"----------\")\n",
    "print(msg)\n",
    "model.fit(X, y)\n",
    "print(\"Score: \", model.score(X, y))\n",
    "predicted = model.predict([firstplant])\n",
    "print(f'Flower predicted with {firstplant}: ', predicted) "
   ]
  },
  {
   "cell_type": "code",
   "execution_count": 35,
   "metadata": {},
   "outputs": [
    {
     "output_type": "stream",
     "name": "stdout",
     "text": [
      "[1.         1.         0.95833333 0.91666667 1.        ]\n----------\nLogistic Regression: 0.975000 +- (0.033333)\nScore:  0.9733333333333334\nFlower predicted with [1.7, 3.8, 4.5, 11.3]:  ['Virginica']\n"
     ]
    }
   ],
   "source": [
    "secondplant = [1.7,3.8,4.5,11.3]\n",
    "X = np.array(df.drop(['variety'], axis=1))\n",
    "y = np.array(df['variety'])\n",
    "model = linear_model.LogisticRegression(max_iter=1000)\n",
    "name='Logistic Regression'\n",
    "X_train, X_test, Y_train, Y_test = model_selection.train_test_split(X, y, test_size=0.2, random_state=1)\n",
    "kfold = model_selection.KFold()\n",
    "cv_results = model_selection.cross_val_score(model, X_train, Y_train, cv=kfold, scoring='accuracy')\n",
    "msg = \"%s: %f %s (%f)\" % (name, cv_results.mean(), \"+-\", cv_results.std())\n",
    "print(cv_results)\n",
    "print(\"----------\")\n",
    "print(msg)\n",
    "model.fit(X, y)\n",
    "print(\"Score: \", model.score(X, y))\n",
    "predicted = model.predict([secondplant])\n",
    "print(f'Flower predicted with {secondplant}: ', predicted)"
   ]
  },
  {
   "cell_type": "code",
   "execution_count": 43,
   "metadata": {},
   "outputs": [
    {
     "output_type": "stream",
     "name": "stdout",
     "text": [
      "[0.94444444 1.         1.         0.83333333 1.        ]\n----------\nLogistic Regression: 0.955556 +- (0.064788)\nScore using 40% test size:  0.9777777777777777\nFlower predicted with [1.7, 3.8, 4.5, 11.3] using 40% test size:  ['Virginica']\n"
     ]
    }
   ],
   "source": [
    "secondplant = [1.7,3.8,4.5,11.3]\n",
    "X = np.array(df.drop(['variety'], axis=1))\n",
    "y = np.array(df['variety'])\n",
    "model = linear_model.LogisticRegression(max_iter=1000) # change iterations\n",
    "name='Logistic Regression'\n",
    "X_train, X_test, Y_train, Y_test = model_selection.train_test_split(X, y, test_size=0.4, random_state=17) #change test size and random state\n",
    "kfold = model_selection.KFold()\n",
    "cv_results = model_selection.cross_val_score(model, X_train, Y_train, cv=kfold, scoring='accuracy')\n",
    "msg = \"%s: %f %s (%f)\" % (name, cv_results.mean(), \"+-\", cv_results.std())\n",
    "print(cv_results)\n",
    "print(\"----------\")\n",
    "print(msg)\n",
    "model.fit(X, y)\n",
    "print(\"Score using 40% test size: \", model.score(X_train, Y_train))\n",
    "predicted = model.predict([secondplant])\n",
    "print(f'Flower predicted with {secondplant} using 40% test size: ', predicted)"
   ]
  },
  {
   "cell_type": "code",
   "execution_count": 46,
   "metadata": {},
   "outputs": [],
   "source": [
    "withoutvirginica = df[df['variety'] == \"Virginica\"].index\n",
    "withoutvirginica = df.drop(withoutvirginica)"
   ]
  },
  {
   "cell_type": "code",
   "execution_count": 47,
   "metadata": {},
   "outputs": [
    {
     "output_type": "stream",
     "name": "stdout",
     "text": [
      "[1. 1. 1. 1. 1.]\n----------\nLogistic Regression: 1.000000 +- (0.000000)\nScore:  1.0\nFlower predicted with [15.7, 2.8, 9.5, 0.1]:  ['Versicolor']\n"
     ]
    }
   ],
   "source": [
    "firstplant = [15.7,2.8,9.5,0.1]\n",
    "X = np.array(withoutvirginica.drop(['variety'], axis=1))\n",
    "y = np.array(withoutvirginica['variety'])\n",
    "model = linear_model.LogisticRegression(max_iter=1000)\n",
    "name='Logistic Regression'\n",
    "X_train, X_test, Y_train, Y_test = model_selection.train_test_split(X, y, test_size=0.2, random_state=1)\n",
    "kfold = model_selection.KFold()\n",
    "cv_results = model_selection.cross_val_score(model, X_train, Y_train, cv=kfold, scoring='accuracy')\n",
    "msg = \"%s: %f %s (%f)\" % (name, cv_results.mean(), \"+-\", cv_results.std())\n",
    "print(cv_results)\n",
    "print(\"----------\")\n",
    "print(msg)\n",
    "model.fit(X, y)\n",
    "print(\"Score: \", model.score(X, y))\n",
    "predicted = model.predict([firstplant])\n",
    "print(f'Flower predicted with {firstplant}: ', predicted)"
   ]
  },
  {
   "cell_type": "code",
   "execution_count": 48,
   "metadata": {},
   "outputs": [
    {
     "output_type": "stream",
     "name": "stdout",
     "text": [
      "[1. 1. 1. 1. 1.]\n----------\nLogistic Regression: 1.000000 +- (0.000000)\nScore:  1.0\nFlower predicted with [1.7, 3.8, 4.5, 11.3]:  ['Versicolor']\n"
     ]
    }
   ],
   "source": [
    "secondplant = [1.7,3.8,4.5,11.3]\n",
    "X = np.array(withoutvirginica.drop(['variety'], axis=1))\n",
    "y = np.array(withoutvirginica['variety'])\n",
    "model = linear_model.LogisticRegression(max_iter=1000)\n",
    "name='Logistic Regression'\n",
    "X_train, X_test, Y_train, Y_test = model_selection.train_test_split(X, y, test_size=0.2, random_state=1)\n",
    "kfold = model_selection.KFold()\n",
    "cv_results = model_selection.cross_val_score(model, X_train, Y_train, cv=kfold, scoring='accuracy')\n",
    "msg = \"%s: %f %s (%f)\" % (name, cv_results.mean(), \"+-\", cv_results.std())\n",
    "print(cv_results)\n",
    "print(\"----------\")\n",
    "print(msg)\n",
    "model.fit(X, y)\n",
    "print(\"Score: \", model.score(X, y))\n",
    "predicted = model.predict([secondplant])\n",
    "print(f'Flower predicted with {secondplant}: ', predicted)"
   ]
  },
  {
   "cell_type": "code",
   "execution_count": null,
   "metadata": {},
   "outputs": [],
   "source": []
  }
 ]
}