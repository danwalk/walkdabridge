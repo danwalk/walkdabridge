{
 "metadata": {
  "language_info": {
   "codemirror_mode": {
    "name": "ipython",
    "version": 3
   },
   "file_extension": ".py",
   "mimetype": "text/x-python",
   "name": "python",
   "nbconvert_exporter": "python",
   "pygments_lexer": "ipython3",
   "version": "3.7.4"
  },
  "orig_nbformat": 2,
  "kernelspec": {
   "name": "python374jvsc74a57bd016eb897c26cdfcf18817bc60a8e0737e3939ff1e8491198c807979170104e811",
   "display_name": "Python 3.7.4 64-bit"
  },
  "metadata": {
   "interpreter": {
    "hash": "16eb897c26cdfcf18817bc60a8e0737e3939ff1e8491198c807979170104e811"
   }
  }
 },
 "nbformat": 4,
 "nbformat_minor": 2,
 "cells": [
  {
   "cell_type": "code",
   "execution_count": 82,
   "metadata": {},
   "outputs": [],
   "source": [
    "import pandas as pd\n",
    "import numpy as np\n",
    "import json\n",
    "import requests"
   ]
  },
  {
   "cell_type": "code",
   "execution_count": 83,
   "metadata": {},
   "outputs": [],
   "source": [
    "with open('oddsnba.json') as json_file:\n",
    "    odds = json.load(json_file)"
   ]
  },
  {
   "cell_type": "code",
   "execution_count": 84,
   "metadata": {},
   "outputs": [],
   "source": [
    "odds = pd.DataFrame.from_dict(odds, orient='index')"
   ]
  },
  {
   "cell_type": "code",
   "execution_count": 85,
   "metadata": {},
   "outputs": [
    {
     "output_type": "execute_result",
     "data": {
      "text/plain": [
       "                                                          0\n",
       "tEOKqchD  01:00 Chicago Bulls - Milwaukee Bucks\\n  118:1...\n",
       "jq6B6KaQ  01:00 Minnesota Timberwolves - Dallas Maverick...\n",
       "hhhw2v8s  01:00 New Orleans Pelicans - Los Angeles Laker...\n",
       "lKon0Ixf  01:00 Oklahoma City Thunder - Los Angeles Clip...\n",
       "fHlfbd76  01:00 Portland Trail Blazers - Denver Nuggets\\...\n",
       "...                                                     ...\n",
       "63r78x3F  23:00 Indiana Pacers - New York Knicks\\n  121:...\n",
       "n1dyiAXs  23:00 Orlando Magic - Miami Heat 113:107\\n2.66...\n",
       "QieujUnl  23:00 Philadelphia 76ers - Washington Wizards\\...\n",
       "K0sOixx5  02:00 Los Angeles Lakers - Los Angeles Clipper...\n",
       "xxhJhIMb  23:00 Brooklyn Nets - Golden State Warriors\\n ...\n",
       "\n",
       "[1081 rows x 1 columns]"
      ],
      "text/html": "<div>\n<style scoped>\n    .dataframe tbody tr th:only-of-type {\n        vertical-align: middle;\n    }\n\n    .dataframe tbody tr th {\n        vertical-align: top;\n    }\n\n    .dataframe thead th {\n        text-align: right;\n    }\n</style>\n<table border=\"1\" class=\"dataframe\">\n  <thead>\n    <tr style=\"text-align: right;\">\n      <th></th>\n      <th>0</th>\n    </tr>\n  </thead>\n  <tbody>\n    <tr>\n      <th>tEOKqchD</th>\n      <td>01:00 Chicago Bulls - Milwaukee Bucks\\n  118:1...</td>\n    </tr>\n    <tr>\n      <th>jq6B6KaQ</th>\n      <td>01:00 Minnesota Timberwolves - Dallas Maverick...</td>\n    </tr>\n    <tr>\n      <th>hhhw2v8s</th>\n      <td>01:00 New Orleans Pelicans - Los Angeles Laker...</td>\n    </tr>\n    <tr>\n      <th>lKon0Ixf</th>\n      <td>01:00 Oklahoma City Thunder - Los Angeles Clip...</td>\n    </tr>\n    <tr>\n      <th>fHlfbd76</th>\n      <td>01:00 Portland Trail Blazers - Denver Nuggets\\...</td>\n    </tr>\n    <tr>\n      <th>...</th>\n      <td>...</td>\n    </tr>\n    <tr>\n      <th>63r78x3F</th>\n      <td>23:00 Indiana Pacers - New York Knicks\\n  121:...</td>\n    </tr>\n    <tr>\n      <th>n1dyiAXs</th>\n      <td>23:00 Orlando Magic - Miami Heat 113:107\\n2.66...</td>\n    </tr>\n    <tr>\n      <th>QieujUnl</th>\n      <td>23:00 Philadelphia 76ers - Washington Wizards\\...</td>\n    </tr>\n    <tr>\n      <th>K0sOixx5</th>\n      <td>02:00 Los Angeles Lakers - Los Angeles Clipper...</td>\n    </tr>\n    <tr>\n      <th>xxhJhIMb</th>\n      <td>23:00 Brooklyn Nets - Golden State Warriors\\n ...</td>\n    </tr>\n  </tbody>\n</table>\n<p>1081 rows × 1 columns</p>\n</div>"
     },
     "metadata": {},
     "execution_count": 85
    }
   ],
   "source": [
    "odds"
   ]
  },
  {
   "cell_type": "code",
   "execution_count": 86,
   "metadata": {},
   "outputs": [],
   "source": [
    "odds['games'] = odds[0].str[6:]\n",
    "\n",
    "#odds['gameid'] = odds[0]"
   ]
  },
  {
   "cell_type": "code",
   "execution_count": 87,
   "metadata": {},
   "outputs": [
    {
     "output_type": "execute_result",
     "data": {
      "text/plain": [
       "                                                      games\n",
       "tEOKqchD  Chicago Bulls - Milwaukee Bucks\\n  118:112\\n3....\n",
       "jq6B6KaQ  Minnesota Timberwolves - Dallas Mavericks\\n  1...\n",
       "hhhw2v8s  New Orleans Pelicans - Los Angeles Lakers\\n  9...\n",
       "lKon0Ixf  Oklahoma City Thunder - Los Angeles Clippers\\n...\n",
       "fHlfbd76  Portland Trail Blazers - Denver Nuggets\\n  132...\n",
       "...                                                     ...\n",
       "63r78x3F  Indiana Pacers - New York Knicks\\n  121:107\\n1...\n",
       "n1dyiAXs  Orlando Magic - Miami Heat 113:107\\n2.66\\n1.51...\n",
       "QieujUnl  Philadelphia 76ers - Washington Wizards\\n  113...\n",
       "K0sOixx5  Los Angeles Lakers - Los Angeles Clippers\\n  1...\n",
       "xxhJhIMb  Brooklyn Nets - Golden State Warriors\\n  125:9...\n",
       "\n",
       "[1081 rows x 1 columns]"
      ],
      "text/html": "<div>\n<style scoped>\n    .dataframe tbody tr th:only-of-type {\n        vertical-align: middle;\n    }\n\n    .dataframe tbody tr th {\n        vertical-align: top;\n    }\n\n    .dataframe thead th {\n        text-align: right;\n    }\n</style>\n<table border=\"1\" class=\"dataframe\">\n  <thead>\n    <tr style=\"text-align: right;\">\n      <th></th>\n      <th>games</th>\n    </tr>\n  </thead>\n  <tbody>\n    <tr>\n      <th>tEOKqchD</th>\n      <td>Chicago Bulls - Milwaukee Bucks\\n  118:112\\n3....</td>\n    </tr>\n    <tr>\n      <th>jq6B6KaQ</th>\n      <td>Minnesota Timberwolves - Dallas Mavericks\\n  1...</td>\n    </tr>\n    <tr>\n      <th>hhhw2v8s</th>\n      <td>New Orleans Pelicans - Los Angeles Lakers\\n  9...</td>\n    </tr>\n    <tr>\n      <th>lKon0Ixf</th>\n      <td>Oklahoma City Thunder - Los Angeles Clippers\\n...</td>\n    </tr>\n    <tr>\n      <th>fHlfbd76</th>\n      <td>Portland Trail Blazers - Denver Nuggets\\n  132...</td>\n    </tr>\n    <tr>\n      <th>...</th>\n      <td>...</td>\n    </tr>\n    <tr>\n      <th>63r78x3F</th>\n      <td>Indiana Pacers - New York Knicks\\n  121:107\\n1...</td>\n    </tr>\n    <tr>\n      <th>n1dyiAXs</th>\n      <td>Orlando Magic - Miami Heat 113:107\\n2.66\\n1.51...</td>\n    </tr>\n    <tr>\n      <th>QieujUnl</th>\n      <td>Philadelphia 76ers - Washington Wizards\\n  113...</td>\n    </tr>\n    <tr>\n      <th>K0sOixx5</th>\n      <td>Los Angeles Lakers - Los Angeles Clippers\\n  1...</td>\n    </tr>\n    <tr>\n      <th>xxhJhIMb</th>\n      <td>Brooklyn Nets - Golden State Warriors\\n  125:9...</td>\n    </tr>\n  </tbody>\n</table>\n<p>1081 rows × 1 columns</p>\n</div>"
     },
     "metadata": {},
     "execution_count": 87
    }
   ],
   "source": [
    "odds.drop(columns=[0], inplace=True)\n",
    "odds"
   ]
  },
  {
   "cell_type": "code",
   "execution_count": 88,
   "metadata": {},
   "outputs": [
    {
     "output_type": "execute_result",
     "data": {
      "text/plain": [
       "                                                      games  \\\n",
       "tEOKqchD  Chicago Bulls - Milwaukee Bucks\\n  118:112\\n3....   \n",
       "jq6B6KaQ  Minnesota Timberwolves - Dallas Mavericks\\n  1...   \n",
       "hhhw2v8s  New Orleans Pelicans - Los Angeles Lakers\\n  9...   \n",
       "lKon0Ixf  Oklahoma City Thunder - Los Angeles Clippers\\n...   \n",
       "fHlfbd76  Portland Trail Blazers - Denver Nuggets\\n  132...   \n",
       "...                                                     ...   \n",
       "63r78x3F  Indiana Pacers - New York Knicks\\n  121:107\\n1...   \n",
       "n1dyiAXs  Orlando Magic - Miami Heat 113:107\\n2.66\\n1.51...   \n",
       "QieujUnl  Philadelphia 76ers - Washington Wizards\\n  113...   \n",
       "K0sOixx5  Los Angeles Lakers - Los Angeles Clippers\\n  1...   \n",
       "xxhJhIMb  Brooklyn Nets - Golden State Warriors\\n  125:9...   \n",
       "\n",
       "                        AwayTeam  \\\n",
       "tEOKqchD           Chicago Bulls   \n",
       "jq6B6KaQ  Minnesota Timberwolves   \n",
       "hhhw2v8s    New Orleans Pelicans   \n",
       "lKon0Ixf   Oklahoma City Thunder   \n",
       "fHlfbd76  Portland Trail Blazers   \n",
       "...                          ...   \n",
       "63r78x3F          Indiana Pacers   \n",
       "n1dyiAXs           Orlando Magic   \n",
       "QieujUnl      Philadelphia 76ers   \n",
       "K0sOixx5      Los Angeles Lakers   \n",
       "xxhJhIMb           Brooklyn Nets   \n",
       "\n",
       "                                                 HomeTeam  \n",
       "tEOKqchD       Milwaukee Bucks\\n  118:112\\n3.30\\n1.36\\n14  \n",
       "jq6B6KaQ      Dallas Mavericks\\n  136:121\\n3.26\\n1.37\\n14  \n",
       "hhhw2v8s     Los Angeles Lakers\\n  98:110\\n4.55\\n1.22\\n14  \n",
       "lKon0Ixf  Los Angeles Clippers\\n  117:112\\n3.75\\n1.29\\n14  \n",
       "fHlfbd76        Denver Nuggets\\n  132:116\\n1.26\\n4.06\\n14  \n",
       "...                                                   ...  \n",
       "63r78x3F       New York Knicks\\n  121:107\\n1.31\\n3.62\\n12  \n",
       "n1dyiAXs               Miami Heat 113:107\\n2.66\\n1.51\\n12  \n",
       "QieujUnl    Washington Wizards\\n  113:107\\n1.33\\n3.47\\n12  \n",
       "K0sOixx5  Los Angeles Clippers\\n  109:116\\n1.74\\n2.16\\n12  \n",
       "xxhJhIMb  Golden State Warriors\\n  125:99\\n1.31\\n3.61\\n12  \n",
       "\n",
       "[1081 rows x 3 columns]"
      ],
      "text/html": "<div>\n<style scoped>\n    .dataframe tbody tr th:only-of-type {\n        vertical-align: middle;\n    }\n\n    .dataframe tbody tr th {\n        vertical-align: top;\n    }\n\n    .dataframe thead th {\n        text-align: right;\n    }\n</style>\n<table border=\"1\" class=\"dataframe\">\n  <thead>\n    <tr style=\"text-align: right;\">\n      <th></th>\n      <th>games</th>\n      <th>AwayTeam</th>\n      <th>HomeTeam</th>\n    </tr>\n  </thead>\n  <tbody>\n    <tr>\n      <th>tEOKqchD</th>\n      <td>Chicago Bulls - Milwaukee Bucks\\n  118:112\\n3....</td>\n      <td>Chicago Bulls</td>\n      <td>Milwaukee Bucks\\n  118:112\\n3.30\\n1.36\\n14</td>\n    </tr>\n    <tr>\n      <th>jq6B6KaQ</th>\n      <td>Minnesota Timberwolves - Dallas Mavericks\\n  1...</td>\n      <td>Minnesota Timberwolves</td>\n      <td>Dallas Mavericks\\n  136:121\\n3.26\\n1.37\\n14</td>\n    </tr>\n    <tr>\n      <th>hhhw2v8s</th>\n      <td>New Orleans Pelicans - Los Angeles Lakers\\n  9...</td>\n      <td>New Orleans Pelicans</td>\n      <td>Los Angeles Lakers\\n  98:110\\n4.55\\n1.22\\n14</td>\n    </tr>\n    <tr>\n      <th>lKon0Ixf</th>\n      <td>Oklahoma City Thunder - Los Angeles Clippers\\n...</td>\n      <td>Oklahoma City Thunder</td>\n      <td>Los Angeles Clippers\\n  117:112\\n3.75\\n1.29\\n14</td>\n    </tr>\n    <tr>\n      <th>fHlfbd76</th>\n      <td>Portland Trail Blazers - Denver Nuggets\\n  132...</td>\n      <td>Portland Trail Blazers</td>\n      <td>Denver Nuggets\\n  132:116\\n1.26\\n4.06\\n14</td>\n    </tr>\n    <tr>\n      <th>...</th>\n      <td>...</td>\n      <td>...</td>\n      <td>...</td>\n    </tr>\n    <tr>\n      <th>63r78x3F</th>\n      <td>Indiana Pacers - New York Knicks\\n  121:107\\n1...</td>\n      <td>Indiana Pacers</td>\n      <td>New York Knicks\\n  121:107\\n1.31\\n3.62\\n12</td>\n    </tr>\n    <tr>\n      <th>n1dyiAXs</th>\n      <td>Orlando Magic - Miami Heat 113:107\\n2.66\\n1.51...</td>\n      <td>Orlando Magic</td>\n      <td>Miami Heat 113:107\\n2.66\\n1.51\\n12</td>\n    </tr>\n    <tr>\n      <th>QieujUnl</th>\n      <td>Philadelphia 76ers - Washington Wizards\\n  113...</td>\n      <td>Philadelphia 76ers</td>\n      <td>Washington Wizards\\n  113:107\\n1.33\\n3.47\\n12</td>\n    </tr>\n    <tr>\n      <th>K0sOixx5</th>\n      <td>Los Angeles Lakers - Los Angeles Clippers\\n  1...</td>\n      <td>Los Angeles Lakers</td>\n      <td>Los Angeles Clippers\\n  109:116\\n1.74\\n2.16\\n12</td>\n    </tr>\n    <tr>\n      <th>xxhJhIMb</th>\n      <td>Brooklyn Nets - Golden State Warriors\\n  125:9...</td>\n      <td>Brooklyn Nets</td>\n      <td>Golden State Warriors\\n  125:99\\n1.31\\n3.61\\n12</td>\n    </tr>\n  </tbody>\n</table>\n<p>1081 rows × 3 columns</p>\n</div>"
     },
     "metadata": {},
     "execution_count": 88
    }
   ],
   "source": [
    "odds[['AwayTeam','HomeTeam']] = odds.games.str.split(\" - \",expand=True,)\n",
    "odds"
   ]
  },
  {
   "cell_type": "code",
   "execution_count": 89,
   "metadata": {},
   "outputs": [
    {
     "output_type": "execute_result",
     "data": {
      "text/plain": [
       "                        AwayTeam  \\\n",
       "tEOKqchD           Chicago Bulls   \n",
       "jq6B6KaQ  Minnesota Timberwolves   \n",
       "hhhw2v8s    New Orleans Pelicans   \n",
       "lKon0Ixf   Oklahoma City Thunder   \n",
       "fHlfbd76  Portland Trail Blazers   \n",
       "...                          ...   \n",
       "63r78x3F          Indiana Pacers   \n",
       "n1dyiAXs           Orlando Magic   \n",
       "QieujUnl      Philadelphia 76ers   \n",
       "K0sOixx5      Los Angeles Lakers   \n",
       "xxhJhIMb           Brooklyn Nets   \n",
       "\n",
       "                                                 HomeTeam  \n",
       "tEOKqchD       Milwaukee Bucks\\n  118:112\\n3.30\\n1.36\\n14  \n",
       "jq6B6KaQ      Dallas Mavericks\\n  136:121\\n3.26\\n1.37\\n14  \n",
       "hhhw2v8s     Los Angeles Lakers\\n  98:110\\n4.55\\n1.22\\n14  \n",
       "lKon0Ixf  Los Angeles Clippers\\n  117:112\\n3.75\\n1.29\\n14  \n",
       "fHlfbd76        Denver Nuggets\\n  132:116\\n1.26\\n4.06\\n14  \n",
       "...                                                   ...  \n",
       "63r78x3F       New York Knicks\\n  121:107\\n1.31\\n3.62\\n12  \n",
       "n1dyiAXs               Miami Heat 113:107\\n2.66\\n1.51\\n12  \n",
       "QieujUnl    Washington Wizards\\n  113:107\\n1.33\\n3.47\\n12  \n",
       "K0sOixx5  Los Angeles Clippers\\n  109:116\\n1.74\\n2.16\\n12  \n",
       "xxhJhIMb  Golden State Warriors\\n  125:99\\n1.31\\n3.61\\n12  \n",
       "\n",
       "[1081 rows x 2 columns]"
      ],
      "text/html": "<div>\n<style scoped>\n    .dataframe tbody tr th:only-of-type {\n        vertical-align: middle;\n    }\n\n    .dataframe tbody tr th {\n        vertical-align: top;\n    }\n\n    .dataframe thead th {\n        text-align: right;\n    }\n</style>\n<table border=\"1\" class=\"dataframe\">\n  <thead>\n    <tr style=\"text-align: right;\">\n      <th></th>\n      <th>AwayTeam</th>\n      <th>HomeTeam</th>\n    </tr>\n  </thead>\n  <tbody>\n    <tr>\n      <th>tEOKqchD</th>\n      <td>Chicago Bulls</td>\n      <td>Milwaukee Bucks\\n  118:112\\n3.30\\n1.36\\n14</td>\n    </tr>\n    <tr>\n      <th>jq6B6KaQ</th>\n      <td>Minnesota Timberwolves</td>\n      <td>Dallas Mavericks\\n  136:121\\n3.26\\n1.37\\n14</td>\n    </tr>\n    <tr>\n      <th>hhhw2v8s</th>\n      <td>New Orleans Pelicans</td>\n      <td>Los Angeles Lakers\\n  98:110\\n4.55\\n1.22\\n14</td>\n    </tr>\n    <tr>\n      <th>lKon0Ixf</th>\n      <td>Oklahoma City Thunder</td>\n      <td>Los Angeles Clippers\\n  117:112\\n3.75\\n1.29\\n14</td>\n    </tr>\n    <tr>\n      <th>fHlfbd76</th>\n      <td>Portland Trail Blazers</td>\n      <td>Denver Nuggets\\n  132:116\\n1.26\\n4.06\\n14</td>\n    </tr>\n    <tr>\n      <th>...</th>\n      <td>...</td>\n      <td>...</td>\n    </tr>\n    <tr>\n      <th>63r78x3F</th>\n      <td>Indiana Pacers</td>\n      <td>New York Knicks\\n  121:107\\n1.31\\n3.62\\n12</td>\n    </tr>\n    <tr>\n      <th>n1dyiAXs</th>\n      <td>Orlando Magic</td>\n      <td>Miami Heat 113:107\\n2.66\\n1.51\\n12</td>\n    </tr>\n    <tr>\n      <th>QieujUnl</th>\n      <td>Philadelphia 76ers</td>\n      <td>Washington Wizards\\n  113:107\\n1.33\\n3.47\\n12</td>\n    </tr>\n    <tr>\n      <th>K0sOixx5</th>\n      <td>Los Angeles Lakers</td>\n      <td>Los Angeles Clippers\\n  109:116\\n1.74\\n2.16\\n12</td>\n    </tr>\n    <tr>\n      <th>xxhJhIMb</th>\n      <td>Brooklyn Nets</td>\n      <td>Golden State Warriors\\n  125:99\\n1.31\\n3.61\\n12</td>\n    </tr>\n  </tbody>\n</table>\n<p>1081 rows × 2 columns</p>\n</div>"
     },
     "metadata": {},
     "execution_count": 89
    }
   ],
   "source": [
    "odds.drop(columns=['games'], inplace=True)\n",
    "odds"
   ]
  },
  {
   "cell_type": "code",
   "execution_count": 90,
   "metadata": {},
   "outputs": [
    {
     "output_type": "execute_result",
     "data": {
      "text/plain": [
       "                        AwayTeam  \\\n",
       "tEOKqchD           Chicago Bulls   \n",
       "jq6B6KaQ  Minnesota Timberwolves   \n",
       "hhhw2v8s    New Orleans Pelicans   \n",
       "lKon0Ixf   Oklahoma City Thunder   \n",
       "fHlfbd76  Portland Trail Blazers   \n",
       "...                          ...   \n",
       "63r78x3F          Indiana Pacers   \n",
       "n1dyiAXs           Orlando Magic   \n",
       "QieujUnl      Philadelphia 76ers   \n",
       "K0sOixx5      Los Angeles Lakers   \n",
       "xxhJhIMb           Brooklyn Nets   \n",
       "\n",
       "                                               HomeTeam  \n",
       "tEOKqchD       Milwaukee Bucks\\n  118:112\\n3.30\\n1.36\\n  \n",
       "jq6B6KaQ      Dallas Mavericks\\n  136:121\\n3.26\\n1.37\\n  \n",
       "hhhw2v8s     Los Angeles Lakers\\n  98:110\\n4.55\\n1.22\\n  \n",
       "lKon0Ixf  Los Angeles Clippers\\n  117:112\\n3.75\\n1.29\\n  \n",
       "fHlfbd76        Denver Nuggets\\n  132:116\\n1.26\\n4.06\\n  \n",
       "...                                                 ...  \n",
       "63r78x3F       New York Knicks\\n  121:107\\n1.31\\n3.62\\n  \n",
       "n1dyiAXs               Miami Heat 113:107\\n2.66\\n1.51\\n  \n",
       "QieujUnl    Washington Wizards\\n  113:107\\n1.33\\n3.47\\n  \n",
       "K0sOixx5  Los Angeles Clippers\\n  109:116\\n1.74\\n2.16\\n  \n",
       "xxhJhIMb  Golden State Warriors\\n  125:99\\n1.31\\n3.61\\n  \n",
       "\n",
       "[1081 rows x 2 columns]"
      ],
      "text/html": "<div>\n<style scoped>\n    .dataframe tbody tr th:only-of-type {\n        vertical-align: middle;\n    }\n\n    .dataframe tbody tr th {\n        vertical-align: top;\n    }\n\n    .dataframe thead th {\n        text-align: right;\n    }\n</style>\n<table border=\"1\" class=\"dataframe\">\n  <thead>\n    <tr style=\"text-align: right;\">\n      <th></th>\n      <th>AwayTeam</th>\n      <th>HomeTeam</th>\n    </tr>\n  </thead>\n  <tbody>\n    <tr>\n      <th>tEOKqchD</th>\n      <td>Chicago Bulls</td>\n      <td>Milwaukee Bucks\\n  118:112\\n3.30\\n1.36\\n</td>\n    </tr>\n    <tr>\n      <th>jq6B6KaQ</th>\n      <td>Minnesota Timberwolves</td>\n      <td>Dallas Mavericks\\n  136:121\\n3.26\\n1.37\\n</td>\n    </tr>\n    <tr>\n      <th>hhhw2v8s</th>\n      <td>New Orleans Pelicans</td>\n      <td>Los Angeles Lakers\\n  98:110\\n4.55\\n1.22\\n</td>\n    </tr>\n    <tr>\n      <th>lKon0Ixf</th>\n      <td>Oklahoma City Thunder</td>\n      <td>Los Angeles Clippers\\n  117:112\\n3.75\\n1.29\\n</td>\n    </tr>\n    <tr>\n      <th>fHlfbd76</th>\n      <td>Portland Trail Blazers</td>\n      <td>Denver Nuggets\\n  132:116\\n1.26\\n4.06\\n</td>\n    </tr>\n    <tr>\n      <th>...</th>\n      <td>...</td>\n      <td>...</td>\n    </tr>\n    <tr>\n      <th>63r78x3F</th>\n      <td>Indiana Pacers</td>\n      <td>New York Knicks\\n  121:107\\n1.31\\n3.62\\n</td>\n    </tr>\n    <tr>\n      <th>n1dyiAXs</th>\n      <td>Orlando Magic</td>\n      <td>Miami Heat 113:107\\n2.66\\n1.51\\n</td>\n    </tr>\n    <tr>\n      <th>QieujUnl</th>\n      <td>Philadelphia 76ers</td>\n      <td>Washington Wizards\\n  113:107\\n1.33\\n3.47\\n</td>\n    </tr>\n    <tr>\n      <th>K0sOixx5</th>\n      <td>Los Angeles Lakers</td>\n      <td>Los Angeles Clippers\\n  109:116\\n1.74\\n2.16\\n</td>\n    </tr>\n    <tr>\n      <th>xxhJhIMb</th>\n      <td>Brooklyn Nets</td>\n      <td>Golden State Warriors\\n  125:99\\n1.31\\n3.61\\n</td>\n    </tr>\n  </tbody>\n</table>\n<p>1081 rows × 2 columns</p>\n</div>"
     },
     "metadata": {},
     "execution_count": 90
    }
   ],
   "source": [
    "odds['HomeTeam'] = odds['HomeTeam'].str[:-2]\n",
    "odds"
   ]
  },
  {
   "cell_type": "code",
   "execution_count": 100,
   "metadata": {},
   "outputs": [],
   "source": [
    "odds['Score'] = odds['HomeTeam'].str.rsplit('\\n', 4, expand=True)[1]\n",
    "odds['Home'] = odds['HomeTeam'].str.rsplit('\\n', 4, expand=True)[0]"
   ]
  },
  {
   "cell_type": "code",
   "execution_count": 102,
   "metadata": {},
   "outputs": [],
   "source": [
    "odds['AwayOdds'] = odds['HomeTeam'].str.rsplit('\\n', 4, expand=True)[2]\n",
    "odds['HomeOdds'] = odds['HomeTeam'].str.rsplit('\\n', 4, expand=True)[3]"
   ]
  },
  {
   "cell_type": "code",
   "execution_count": 111,
   "metadata": {},
   "outputs": [
    {
     "output_type": "execute_result",
     "data": {
      "text/plain": [
       "                        AwayTeam      Score                   Home AwayOdds  \\\n",
       "tEOKqchD           Chicago Bulls    118:112        Milwaukee Bucks     3.30   \n",
       "jq6B6KaQ  Minnesota Timberwolves    136:121       Dallas Mavericks     3.26   \n",
       "hhhw2v8s    New Orleans Pelicans     98:110     Los Angeles Lakers     4.55   \n",
       "lKon0Ixf   Oklahoma City Thunder    117:112   Los Angeles Clippers     3.75   \n",
       "fHlfbd76  Portland Trail Blazers    132:116         Denver Nuggets     1.26   \n",
       "...                          ...        ...                    ...      ...   \n",
       "63r78x3F          Indiana Pacers    121:107        New York Knicks     1.31   \n",
       "n1dyiAXs           Orlando Magic       2.66     Miami Heat 113:107     1.51   \n",
       "QieujUnl      Philadelphia 76ers    113:107     Washington Wizards     1.33   \n",
       "K0sOixx5      Los Angeles Lakers    109:116   Los Angeles Clippers     1.74   \n",
       "xxhJhIMb           Brooklyn Nets     125:99  Golden State Warriors     1.31   \n",
       "\n",
       "         HomeOdds  \n",
       "tEOKqchD     1.36  \n",
       "jq6B6KaQ     1.37  \n",
       "hhhw2v8s     1.22  \n",
       "lKon0Ixf     1.29  \n",
       "fHlfbd76     4.06  \n",
       "...           ...  \n",
       "63r78x3F     3.62  \n",
       "n1dyiAXs           \n",
       "QieujUnl     3.47  \n",
       "K0sOixx5     2.16  \n",
       "xxhJhIMb     3.61  \n",
       "\n",
       "[1081 rows x 5 columns]"
      ],
      "text/html": "<div>\n<style scoped>\n    .dataframe tbody tr th:only-of-type {\n        vertical-align: middle;\n    }\n\n    .dataframe tbody tr th {\n        vertical-align: top;\n    }\n\n    .dataframe thead th {\n        text-align: right;\n    }\n</style>\n<table border=\"1\" class=\"dataframe\">\n  <thead>\n    <tr style=\"text-align: right;\">\n      <th></th>\n      <th>AwayTeam</th>\n      <th>Score</th>\n      <th>Home</th>\n      <th>AwayOdds</th>\n      <th>HomeOdds</th>\n    </tr>\n  </thead>\n  <tbody>\n    <tr>\n      <th>tEOKqchD</th>\n      <td>Chicago Bulls</td>\n      <td>118:112</td>\n      <td>Milwaukee Bucks</td>\n      <td>3.30</td>\n      <td>1.36</td>\n    </tr>\n    <tr>\n      <th>jq6B6KaQ</th>\n      <td>Minnesota Timberwolves</td>\n      <td>136:121</td>\n      <td>Dallas Mavericks</td>\n      <td>3.26</td>\n      <td>1.37</td>\n    </tr>\n    <tr>\n      <th>hhhw2v8s</th>\n      <td>New Orleans Pelicans</td>\n      <td>98:110</td>\n      <td>Los Angeles Lakers</td>\n      <td>4.55</td>\n      <td>1.22</td>\n    </tr>\n    <tr>\n      <th>lKon0Ixf</th>\n      <td>Oklahoma City Thunder</td>\n      <td>117:112</td>\n      <td>Los Angeles Clippers</td>\n      <td>3.75</td>\n      <td>1.29</td>\n    </tr>\n    <tr>\n      <th>fHlfbd76</th>\n      <td>Portland Trail Blazers</td>\n      <td>132:116</td>\n      <td>Denver Nuggets</td>\n      <td>1.26</td>\n      <td>4.06</td>\n    </tr>\n    <tr>\n      <th>...</th>\n      <td>...</td>\n      <td>...</td>\n      <td>...</td>\n      <td>...</td>\n      <td>...</td>\n    </tr>\n    <tr>\n      <th>63r78x3F</th>\n      <td>Indiana Pacers</td>\n      <td>121:107</td>\n      <td>New York Knicks</td>\n      <td>1.31</td>\n      <td>3.62</td>\n    </tr>\n    <tr>\n      <th>n1dyiAXs</th>\n      <td>Orlando Magic</td>\n      <td>2.66</td>\n      <td>Miami Heat 113:107</td>\n      <td>1.51</td>\n      <td></td>\n    </tr>\n    <tr>\n      <th>QieujUnl</th>\n      <td>Philadelphia 76ers</td>\n      <td>113:107</td>\n      <td>Washington Wizards</td>\n      <td>1.33</td>\n      <td>3.47</td>\n    </tr>\n    <tr>\n      <th>K0sOixx5</th>\n      <td>Los Angeles Lakers</td>\n      <td>109:116</td>\n      <td>Los Angeles Clippers</td>\n      <td>1.74</td>\n      <td>2.16</td>\n    </tr>\n    <tr>\n      <th>xxhJhIMb</th>\n      <td>Brooklyn Nets</td>\n      <td>125:99</td>\n      <td>Golden State Warriors</td>\n      <td>1.31</td>\n      <td>3.61</td>\n    </tr>\n  </tbody>\n</table>\n<p>1081 rows × 5 columns</p>\n</div>"
     },
     "metadata": {},
     "execution_count": 111
    }
   ],
   "source": [
    "pd.set_option('display.max_rows', 10)\n",
    "odds"
   ]
  },
  {
   "cell_type": "code",
   "execution_count": 112,
   "metadata": {},
   "outputs": [],
   "source": [
    "odds.to_csv(\"clean.csv\")"
   ]
  },
  {
   "cell_type": "code",
   "execution_count": 116,
   "metadata": {},
   "outputs": [],
   "source": [
    "odds = pd.read_csv(\"clean.csv\")"
   ]
  },
  {
   "cell_type": "code",
   "execution_count": 117,
   "metadata": {},
   "outputs": [
    {
     "output_type": "execute_result",
     "data": {
      "text/plain": [
       "     Unnamed: 0                AwayTeam    Score               HomeTeam  \\\n",
       "0      tEOKqchD           Chicago Bulls  118:112        Milwaukee Bucks   \n",
       "1      jq6B6KaQ  Minnesota Timberwolves  136:121       Dallas Mavericks   \n",
       "2      hhhw2v8s    New Orleans Pelicans   98:110     Los Angeles Lakers   \n",
       "3      lKon0Ixf   Oklahoma City Thunder  117:112   Los Angeles Clippers   \n",
       "4      fHlfbd76  Portland Trail Blazers  132:116         Denver Nuggets   \n",
       "...         ...                     ...      ...                    ...   \n",
       "1076   63r78x3F          Indiana Pacers  121:107        New York Knicks   \n",
       "1077   n1dyiAXs           Orlando Magic  113:107             Miami Heat   \n",
       "1078   QieujUnl      Philadelphia 76ers  113:107     Washington Wizards   \n",
       "1079   K0sOixx5      Los Angeles Lakers  109:116   Los Angeles Clippers   \n",
       "1080   xxhJhIMb           Brooklyn Nets   125:99  Golden State Warriors   \n",
       "\n",
       "      AwayOdds  HomeOdds  \n",
       "0         3.30      1.36  \n",
       "1         3.26      1.37  \n",
       "2         4.55      1.22  \n",
       "3         3.75      1.29  \n",
       "4         1.26      4.06  \n",
       "...        ...       ...  \n",
       "1076      1.31      3.62  \n",
       "1077      2.66      1.51  \n",
       "1078      1.33      3.47  \n",
       "1079      1.74      2.16  \n",
       "1080      1.31      3.61  \n",
       "\n",
       "[1081 rows x 6 columns]"
      ],
      "text/html": "<div>\n<style scoped>\n    .dataframe tbody tr th:only-of-type {\n        vertical-align: middle;\n    }\n\n    .dataframe tbody tr th {\n        vertical-align: top;\n    }\n\n    .dataframe thead th {\n        text-align: right;\n    }\n</style>\n<table border=\"1\" class=\"dataframe\">\n  <thead>\n    <tr style=\"text-align: right;\">\n      <th></th>\n      <th>Unnamed: 0</th>\n      <th>AwayTeam</th>\n      <th>Score</th>\n      <th>HomeTeam</th>\n      <th>AwayOdds</th>\n      <th>HomeOdds</th>\n    </tr>\n  </thead>\n  <tbody>\n    <tr>\n      <th>0</th>\n      <td>tEOKqchD</td>\n      <td>Chicago Bulls</td>\n      <td>118:112</td>\n      <td>Milwaukee Bucks</td>\n      <td>3.30</td>\n      <td>1.36</td>\n    </tr>\n    <tr>\n      <th>1</th>\n      <td>jq6B6KaQ</td>\n      <td>Minnesota Timberwolves</td>\n      <td>136:121</td>\n      <td>Dallas Mavericks</td>\n      <td>3.26</td>\n      <td>1.37</td>\n    </tr>\n    <tr>\n      <th>2</th>\n      <td>hhhw2v8s</td>\n      <td>New Orleans Pelicans</td>\n      <td>98:110</td>\n      <td>Los Angeles Lakers</td>\n      <td>4.55</td>\n      <td>1.22</td>\n    </tr>\n    <tr>\n      <th>3</th>\n      <td>lKon0Ixf</td>\n      <td>Oklahoma City Thunder</td>\n      <td>117:112</td>\n      <td>Los Angeles Clippers</td>\n      <td>3.75</td>\n      <td>1.29</td>\n    </tr>\n    <tr>\n      <th>4</th>\n      <td>fHlfbd76</td>\n      <td>Portland Trail Blazers</td>\n      <td>132:116</td>\n      <td>Denver Nuggets</td>\n      <td>1.26</td>\n      <td>4.06</td>\n    </tr>\n    <tr>\n      <th>...</th>\n      <td>...</td>\n      <td>...</td>\n      <td>...</td>\n      <td>...</td>\n      <td>...</td>\n      <td>...</td>\n    </tr>\n    <tr>\n      <th>1076</th>\n      <td>63r78x3F</td>\n      <td>Indiana Pacers</td>\n      <td>121:107</td>\n      <td>New York Knicks</td>\n      <td>1.31</td>\n      <td>3.62</td>\n    </tr>\n    <tr>\n      <th>1077</th>\n      <td>n1dyiAXs</td>\n      <td>Orlando Magic</td>\n      <td>113:107</td>\n      <td>Miami Heat</td>\n      <td>2.66</td>\n      <td>1.51</td>\n    </tr>\n    <tr>\n      <th>1078</th>\n      <td>QieujUnl</td>\n      <td>Philadelphia 76ers</td>\n      <td>113:107</td>\n      <td>Washington Wizards</td>\n      <td>1.33</td>\n      <td>3.47</td>\n    </tr>\n    <tr>\n      <th>1079</th>\n      <td>K0sOixx5</td>\n      <td>Los Angeles Lakers</td>\n      <td>109:116</td>\n      <td>Los Angeles Clippers</td>\n      <td>1.74</td>\n      <td>2.16</td>\n    </tr>\n    <tr>\n      <th>1080</th>\n      <td>xxhJhIMb</td>\n      <td>Brooklyn Nets</td>\n      <td>125:99</td>\n      <td>Golden State Warriors</td>\n      <td>1.31</td>\n      <td>3.61</td>\n    </tr>\n  </tbody>\n</table>\n<p>1081 rows × 6 columns</p>\n</div>"
     },
     "metadata": {},
     "execution_count": 117
    }
   ],
   "source": [
    "odds"
   ]
  },
  {
   "cell_type": "code",
   "execution_count": 118,
   "metadata": {},
   "outputs": [
    {
     "output_type": "execute_result",
     "data": {
      "text/plain": [
       "     Unnamed: 0                AwayTeam    Score               HomeTeam  \\\n",
       "0      tEOKqchD           Chicago Bulls  118:112        Milwaukee Bucks   \n",
       "1      jq6B6KaQ  Minnesota Timberwolves  136:121       Dallas Mavericks   \n",
       "2      hhhw2v8s    New Orleans Pelicans   98:110     Los Angeles Lakers   \n",
       "3      lKon0Ixf   Oklahoma City Thunder  117:112   Los Angeles Clippers   \n",
       "4      fHlfbd76  Portland Trail Blazers  132:116         Denver Nuggets   \n",
       "...         ...                     ...      ...                    ...   \n",
       "1076   63r78x3F          Indiana Pacers  121:107        New York Knicks   \n",
       "1077   n1dyiAXs           Orlando Magic  113:107             Miami Heat   \n",
       "1078   QieujUnl      Philadelphia 76ers  113:107     Washington Wizards   \n",
       "1079   K0sOixx5      Los Angeles Lakers  109:116   Los Angeles Clippers   \n",
       "1080   xxhJhIMb           Brooklyn Nets   125:99  Golden State Warriors   \n",
       "\n",
       "      AwayOdds  HomeOdds AwayScore HomeScore  \n",
       "0         3.30      1.36       118       112  \n",
       "1         3.26      1.37       136       121  \n",
       "2         4.55      1.22        98       110  \n",
       "3         3.75      1.29       117       112  \n",
       "4         1.26      4.06       132       116  \n",
       "...        ...       ...       ...       ...  \n",
       "1076      1.31      3.62       121       107  \n",
       "1077      2.66      1.51       113       107  \n",
       "1078      1.33      3.47       113       107  \n",
       "1079      1.74      2.16       109       116  \n",
       "1080      1.31      3.61       125        99  \n",
       "\n",
       "[1081 rows x 8 columns]"
      ],
      "text/html": "<div>\n<style scoped>\n    .dataframe tbody tr th:only-of-type {\n        vertical-align: middle;\n    }\n\n    .dataframe tbody tr th {\n        vertical-align: top;\n    }\n\n    .dataframe thead th {\n        text-align: right;\n    }\n</style>\n<table border=\"1\" class=\"dataframe\">\n  <thead>\n    <tr style=\"text-align: right;\">\n      <th></th>\n      <th>Unnamed: 0</th>\n      <th>AwayTeam</th>\n      <th>Score</th>\n      <th>HomeTeam</th>\n      <th>AwayOdds</th>\n      <th>HomeOdds</th>\n      <th>AwayScore</th>\n      <th>HomeScore</th>\n    </tr>\n  </thead>\n  <tbody>\n    <tr>\n      <th>0</th>\n      <td>tEOKqchD</td>\n      <td>Chicago Bulls</td>\n      <td>118:112</td>\n      <td>Milwaukee Bucks</td>\n      <td>3.30</td>\n      <td>1.36</td>\n      <td>118</td>\n      <td>112</td>\n    </tr>\n    <tr>\n      <th>1</th>\n      <td>jq6B6KaQ</td>\n      <td>Minnesota Timberwolves</td>\n      <td>136:121</td>\n      <td>Dallas Mavericks</td>\n      <td>3.26</td>\n      <td>1.37</td>\n      <td>136</td>\n      <td>121</td>\n    </tr>\n    <tr>\n      <th>2</th>\n      <td>hhhw2v8s</td>\n      <td>New Orleans Pelicans</td>\n      <td>98:110</td>\n      <td>Los Angeles Lakers</td>\n      <td>4.55</td>\n      <td>1.22</td>\n      <td>98</td>\n      <td>110</td>\n    </tr>\n    <tr>\n      <th>3</th>\n      <td>lKon0Ixf</td>\n      <td>Oklahoma City Thunder</td>\n      <td>117:112</td>\n      <td>Los Angeles Clippers</td>\n      <td>3.75</td>\n      <td>1.29</td>\n      <td>117</td>\n      <td>112</td>\n    </tr>\n    <tr>\n      <th>4</th>\n      <td>fHlfbd76</td>\n      <td>Portland Trail Blazers</td>\n      <td>132:116</td>\n      <td>Denver Nuggets</td>\n      <td>1.26</td>\n      <td>4.06</td>\n      <td>132</td>\n      <td>116</td>\n    </tr>\n    <tr>\n      <th>...</th>\n      <td>...</td>\n      <td>...</td>\n      <td>...</td>\n      <td>...</td>\n      <td>...</td>\n      <td>...</td>\n      <td>...</td>\n      <td>...</td>\n    </tr>\n    <tr>\n      <th>1076</th>\n      <td>63r78x3F</td>\n      <td>Indiana Pacers</td>\n      <td>121:107</td>\n      <td>New York Knicks</td>\n      <td>1.31</td>\n      <td>3.62</td>\n      <td>121</td>\n      <td>107</td>\n    </tr>\n    <tr>\n      <th>1077</th>\n      <td>n1dyiAXs</td>\n      <td>Orlando Magic</td>\n      <td>113:107</td>\n      <td>Miami Heat</td>\n      <td>2.66</td>\n      <td>1.51</td>\n      <td>113</td>\n      <td>107</td>\n    </tr>\n    <tr>\n      <th>1078</th>\n      <td>QieujUnl</td>\n      <td>Philadelphia 76ers</td>\n      <td>113:107</td>\n      <td>Washington Wizards</td>\n      <td>1.33</td>\n      <td>3.47</td>\n      <td>113</td>\n      <td>107</td>\n    </tr>\n    <tr>\n      <th>1079</th>\n      <td>K0sOixx5</td>\n      <td>Los Angeles Lakers</td>\n      <td>109:116</td>\n      <td>Los Angeles Clippers</td>\n      <td>1.74</td>\n      <td>2.16</td>\n      <td>109</td>\n      <td>116</td>\n    </tr>\n    <tr>\n      <th>1080</th>\n      <td>xxhJhIMb</td>\n      <td>Brooklyn Nets</td>\n      <td>125:99</td>\n      <td>Golden State Warriors</td>\n      <td>1.31</td>\n      <td>3.61</td>\n      <td>125</td>\n      <td>99</td>\n    </tr>\n  </tbody>\n</table>\n<p>1081 rows × 8 columns</p>\n</div>"
     },
     "metadata": {},
     "execution_count": 118
    }
   ],
   "source": [
    "odds[['AwayScore','HomeScore']] = odds.Score.str.split(\":\",expand=True)\n",
    "odds"
   ]
  },
  {
   "cell_type": "code",
   "execution_count": 119,
   "metadata": {},
   "outputs": [
    {
     "output_type": "execute_result",
     "data": {
      "text/plain": [
       "     Unnamed: 0                AwayTeam               HomeTeam  AwayOdds  \\\n",
       "0      tEOKqchD           Chicago Bulls        Milwaukee Bucks      3.30   \n",
       "1      jq6B6KaQ  Minnesota Timberwolves       Dallas Mavericks      3.26   \n",
       "2      hhhw2v8s    New Orleans Pelicans     Los Angeles Lakers      4.55   \n",
       "3      lKon0Ixf   Oklahoma City Thunder   Los Angeles Clippers      3.75   \n",
       "4      fHlfbd76  Portland Trail Blazers         Denver Nuggets      1.26   \n",
       "...         ...                     ...                    ...       ...   \n",
       "1076   63r78x3F          Indiana Pacers        New York Knicks      1.31   \n",
       "1077   n1dyiAXs           Orlando Magic             Miami Heat      2.66   \n",
       "1078   QieujUnl      Philadelphia 76ers     Washington Wizards      1.33   \n",
       "1079   K0sOixx5      Los Angeles Lakers   Los Angeles Clippers      1.74   \n",
       "1080   xxhJhIMb           Brooklyn Nets  Golden State Warriors      1.31   \n",
       "\n",
       "      HomeOdds AwayScore HomeScore  \n",
       "0         1.36       118       112  \n",
       "1         1.37       136       121  \n",
       "2         1.22        98       110  \n",
       "3         1.29       117       112  \n",
       "4         4.06       132       116  \n",
       "...        ...       ...       ...  \n",
       "1076      3.62       121       107  \n",
       "1077      1.51       113       107  \n",
       "1078      3.47       113       107  \n",
       "1079      2.16       109       116  \n",
       "1080      3.61       125        99  \n",
       "\n",
       "[1081 rows x 7 columns]"
      ],
      "text/html": "<div>\n<style scoped>\n    .dataframe tbody tr th:only-of-type {\n        vertical-align: middle;\n    }\n\n    .dataframe tbody tr th {\n        vertical-align: top;\n    }\n\n    .dataframe thead th {\n        text-align: right;\n    }\n</style>\n<table border=\"1\" class=\"dataframe\">\n  <thead>\n    <tr style=\"text-align: right;\">\n      <th></th>\n      <th>Unnamed: 0</th>\n      <th>AwayTeam</th>\n      <th>HomeTeam</th>\n      <th>AwayOdds</th>\n      <th>HomeOdds</th>\n      <th>AwayScore</th>\n      <th>HomeScore</th>\n    </tr>\n  </thead>\n  <tbody>\n    <tr>\n      <th>0</th>\n      <td>tEOKqchD</td>\n      <td>Chicago Bulls</td>\n      <td>Milwaukee Bucks</td>\n      <td>3.30</td>\n      <td>1.36</td>\n      <td>118</td>\n      <td>112</td>\n    </tr>\n    <tr>\n      <th>1</th>\n      <td>jq6B6KaQ</td>\n      <td>Minnesota Timberwolves</td>\n      <td>Dallas Mavericks</td>\n      <td>3.26</td>\n      <td>1.37</td>\n      <td>136</td>\n      <td>121</td>\n    </tr>\n    <tr>\n      <th>2</th>\n      <td>hhhw2v8s</td>\n      <td>New Orleans Pelicans</td>\n      <td>Los Angeles Lakers</td>\n      <td>4.55</td>\n      <td>1.22</td>\n      <td>98</td>\n      <td>110</td>\n    </tr>\n    <tr>\n      <th>3</th>\n      <td>lKon0Ixf</td>\n      <td>Oklahoma City Thunder</td>\n      <td>Los Angeles Clippers</td>\n      <td>3.75</td>\n      <td>1.29</td>\n      <td>117</td>\n      <td>112</td>\n    </tr>\n    <tr>\n      <th>4</th>\n      <td>fHlfbd76</td>\n      <td>Portland Trail Blazers</td>\n      <td>Denver Nuggets</td>\n      <td>1.26</td>\n      <td>4.06</td>\n      <td>132</td>\n      <td>116</td>\n    </tr>\n    <tr>\n      <th>...</th>\n      <td>...</td>\n      <td>...</td>\n      <td>...</td>\n      <td>...</td>\n      <td>...</td>\n      <td>...</td>\n      <td>...</td>\n    </tr>\n    <tr>\n      <th>1076</th>\n      <td>63r78x3F</td>\n      <td>Indiana Pacers</td>\n      <td>New York Knicks</td>\n      <td>1.31</td>\n      <td>3.62</td>\n      <td>121</td>\n      <td>107</td>\n    </tr>\n    <tr>\n      <th>1077</th>\n      <td>n1dyiAXs</td>\n      <td>Orlando Magic</td>\n      <td>Miami Heat</td>\n      <td>2.66</td>\n      <td>1.51</td>\n      <td>113</td>\n      <td>107</td>\n    </tr>\n    <tr>\n      <th>1078</th>\n      <td>QieujUnl</td>\n      <td>Philadelphia 76ers</td>\n      <td>Washington Wizards</td>\n      <td>1.33</td>\n      <td>3.47</td>\n      <td>113</td>\n      <td>107</td>\n    </tr>\n    <tr>\n      <th>1079</th>\n      <td>K0sOixx5</td>\n      <td>Los Angeles Lakers</td>\n      <td>Los Angeles Clippers</td>\n      <td>1.74</td>\n      <td>2.16</td>\n      <td>109</td>\n      <td>116</td>\n    </tr>\n    <tr>\n      <th>1080</th>\n      <td>xxhJhIMb</td>\n      <td>Brooklyn Nets</td>\n      <td>Golden State Warriors</td>\n      <td>1.31</td>\n      <td>3.61</td>\n      <td>125</td>\n      <td>99</td>\n    </tr>\n  </tbody>\n</table>\n<p>1081 rows × 7 columns</p>\n</div>"
     },
     "metadata": {},
     "execution_count": 119
    }
   ],
   "source": [
    "odds.drop(columns=['Score'], inplace=True)\n",
    "odds"
   ]
  },
  {
   "cell_type": "code",
   "execution_count": 130,
   "metadata": {},
   "outputs": [],
   "source": [
    "odds.rename(columns={'Unnamed: 0':'in'}, inplace=True)"
   ]
  },
  {
   "cell_type": "code",
   "execution_count": 132,
   "metadata": {},
   "outputs": [
    {
     "output_type": "execute_result",
     "data": {
      "text/plain": [
       "                        AwayTeam               HomeTeam  AwayOdds  HomeOdds  \\\n",
       "in                                                                            \n",
       "tEOKqchD           Chicago Bulls        Milwaukee Bucks      3.30      1.36   \n",
       "jq6B6KaQ  Minnesota Timberwolves       Dallas Mavericks      3.26      1.37   \n",
       "hhhw2v8s    New Orleans Pelicans     Los Angeles Lakers      4.55      1.22   \n",
       "lKon0Ixf   Oklahoma City Thunder   Los Angeles Clippers      3.75      1.29   \n",
       "fHlfbd76  Portland Trail Blazers         Denver Nuggets      1.26      4.06   \n",
       "...                          ...                    ...       ...       ...   \n",
       "63r78x3F          Indiana Pacers        New York Knicks      1.31      3.62   \n",
       "n1dyiAXs           Orlando Magic             Miami Heat      2.66      1.51   \n",
       "QieujUnl      Philadelphia 76ers     Washington Wizards      1.33      3.47   \n",
       "K0sOixx5      Los Angeles Lakers   Los Angeles Clippers      1.74      2.16   \n",
       "xxhJhIMb           Brooklyn Nets  Golden State Warriors      1.31      3.61   \n",
       "\n",
       "         AwayScore HomeScore  \n",
       "in                            \n",
       "tEOKqchD       118       112  \n",
       "jq6B6KaQ       136       121  \n",
       "hhhw2v8s        98       110  \n",
       "lKon0Ixf       117       112  \n",
       "fHlfbd76       132       116  \n",
       "...            ...       ...  \n",
       "63r78x3F       121       107  \n",
       "n1dyiAXs       113       107  \n",
       "QieujUnl       113       107  \n",
       "K0sOixx5       109       116  \n",
       "xxhJhIMb       125        99  \n",
       "\n",
       "[1081 rows x 6 columns]"
      ],
      "text/html": "<div>\n<style scoped>\n    .dataframe tbody tr th:only-of-type {\n        vertical-align: middle;\n    }\n\n    .dataframe tbody tr th {\n        vertical-align: top;\n    }\n\n    .dataframe thead th {\n        text-align: right;\n    }\n</style>\n<table border=\"1\" class=\"dataframe\">\n  <thead>\n    <tr style=\"text-align: right;\">\n      <th></th>\n      <th>AwayTeam</th>\n      <th>HomeTeam</th>\n      <th>AwayOdds</th>\n      <th>HomeOdds</th>\n      <th>AwayScore</th>\n      <th>HomeScore</th>\n    </tr>\n    <tr>\n      <th>in</th>\n      <th></th>\n      <th></th>\n      <th></th>\n      <th></th>\n      <th></th>\n      <th></th>\n    </tr>\n  </thead>\n  <tbody>\n    <tr>\n      <th>tEOKqchD</th>\n      <td>Chicago Bulls</td>\n      <td>Milwaukee Bucks</td>\n      <td>3.30</td>\n      <td>1.36</td>\n      <td>118</td>\n      <td>112</td>\n    </tr>\n    <tr>\n      <th>jq6B6KaQ</th>\n      <td>Minnesota Timberwolves</td>\n      <td>Dallas Mavericks</td>\n      <td>3.26</td>\n      <td>1.37</td>\n      <td>136</td>\n      <td>121</td>\n    </tr>\n    <tr>\n      <th>hhhw2v8s</th>\n      <td>New Orleans Pelicans</td>\n      <td>Los Angeles Lakers</td>\n      <td>4.55</td>\n      <td>1.22</td>\n      <td>98</td>\n      <td>110</td>\n    </tr>\n    <tr>\n      <th>lKon0Ixf</th>\n      <td>Oklahoma City Thunder</td>\n      <td>Los Angeles Clippers</td>\n      <td>3.75</td>\n      <td>1.29</td>\n      <td>117</td>\n      <td>112</td>\n    </tr>\n    <tr>\n      <th>fHlfbd76</th>\n      <td>Portland Trail Blazers</td>\n      <td>Denver Nuggets</td>\n      <td>1.26</td>\n      <td>4.06</td>\n      <td>132</td>\n      <td>116</td>\n    </tr>\n    <tr>\n      <th>...</th>\n      <td>...</td>\n      <td>...</td>\n      <td>...</td>\n      <td>...</td>\n      <td>...</td>\n      <td>...</td>\n    </tr>\n    <tr>\n      <th>63r78x3F</th>\n      <td>Indiana Pacers</td>\n      <td>New York Knicks</td>\n      <td>1.31</td>\n      <td>3.62</td>\n      <td>121</td>\n      <td>107</td>\n    </tr>\n    <tr>\n      <th>n1dyiAXs</th>\n      <td>Orlando Magic</td>\n      <td>Miami Heat</td>\n      <td>2.66</td>\n      <td>1.51</td>\n      <td>113</td>\n      <td>107</td>\n    </tr>\n    <tr>\n      <th>QieujUnl</th>\n      <td>Philadelphia 76ers</td>\n      <td>Washington Wizards</td>\n      <td>1.33</td>\n      <td>3.47</td>\n      <td>113</td>\n      <td>107</td>\n    </tr>\n    <tr>\n      <th>K0sOixx5</th>\n      <td>Los Angeles Lakers</td>\n      <td>Los Angeles Clippers</td>\n      <td>1.74</td>\n      <td>2.16</td>\n      <td>109</td>\n      <td>116</td>\n    </tr>\n    <tr>\n      <th>xxhJhIMb</th>\n      <td>Brooklyn Nets</td>\n      <td>Golden State Warriors</td>\n      <td>1.31</td>\n      <td>3.61</td>\n      <td>125</td>\n      <td>99</td>\n    </tr>\n  </tbody>\n</table>\n<p>1081 rows × 6 columns</p>\n</div>"
     },
     "metadata": {},
     "execution_count": 132
    }
   ],
   "source": [
    "odds = odds.set_index('in')\n",
    "odds"
   ]
  },
  {
   "cell_type": "code",
   "execution_count": 133,
   "metadata": {},
   "outputs": [],
   "source": [
    "odds.to_csv(\"clean.csv\")"
   ]
  },
  {
   "cell_type": "code",
   "execution_count": null,
   "metadata": {},
   "outputs": [],
   "source": []
  }
 ]
}