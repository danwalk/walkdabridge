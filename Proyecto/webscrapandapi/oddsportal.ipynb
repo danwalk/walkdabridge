{
 "metadata": {
  "language_info": {
   "codemirror_mode": {
    "name": "ipython",
    "version": 3
   },
   "file_extension": ".py",
   "mimetype": "text/x-python",
   "name": "python",
   "nbconvert_exporter": "python",
   "pygments_lexer": "ipython3",
   "version": "3.7.4"
  },
  "orig_nbformat": 2,
  "kernelspec": {
   "name": "python374jvsc74a57bd016eb897c26cdfcf18817bc60a8e0737e3939ff1e8491198c807979170104e811",
   "display_name": "Python 3.7.4 64-bit"
  },
  "metadata": {
   "interpreter": {
    "hash": "16eb897c26cdfcf18817bc60a8e0737e3939ff1e8491198c807979170104e811"
   }
  }
 },
 "nbformat": 4,
 "nbformat_minor": 2,
 "cells": [
  {
   "cell_type": "code",
   "execution_count": 3,
   "metadata": {},
   "outputs": [],
   "source": [
    "import requests\n",
    "import pandas as pd\n",
    "import html\n",
    "import numpy as np\n",
    "from selenium import webdriver\n",
    "from selenium.webdriver.common.keys import Keys\n",
    "from datetime import datetime\n",
    "from datetime import timedelta\n",
    "import time\n",
    "import json"
   ]
  },
  {
   "cell_type": "code",
   "execution_count": 15,
   "metadata": {},
   "outputs": [],
   "source": [
    "url = 'https://www.oddsportal.com/basketball/usa/nba/results/#/page/1'"
   ]
  },
  {
   "cell_type": "code",
   "execution_count": 5,
   "metadata": {},
   "outputs": [],
   "source": [
    "def pageurlchanger(url, adddays, maxpage): #works up to 9\n",
    "    page = int(url[-1:])\n",
    "    if page >= maxpage:\n",
    "        return 'UP TO DATE'\n",
    "    else:\n",
    "        return url.replace(url[-1:], str(page+adddays))"
   ]
  },
  {
   "cell_type": "code",
   "execution_count": 8,
   "metadata": {},
   "outputs": [],
   "source": [
    "def pageadderurl(url, counter): #works to infinity\n",
    "    return url + str(counter)"
   ]
  },
  {
   "cell_type": "code",
   "execution_count": 10,
   "metadata": {},
   "outputs": [],
   "source": [
    "url = 'https://www.oddsportal.com/basketball/usa/nba/results/#/page/'"
   ]
  },
  {
   "cell_type": "code",
   "execution_count": 11,
   "metadata": {},
   "outputs": [
    {
     "output_type": "execute_result",
     "data": {
      "text/plain": [
       "'https://www.oddsportal.com/basketball/usa/nba/results/#/page/1'"
      ]
     },
     "metadata": {},
     "execution_count": 11
    }
   ],
   "source": [
    "pageadderurl(url, 1)"
   ]
  },
  {
   "cell_type": "code",
   "execution_count": 14,
   "metadata": {},
   "outputs": [
    {
     "output_type": "stream",
     "name": "stdout",
     "text": [
      "https://www.oddsportal.com/basketball/usa/nba/results/#/page/1\n",
      "https://www.oddsportal.com/basketball/usa/nba/results/#/page/2\n",
      "https://www.oddsportal.com/basketball/usa/nba/results/#/page/3\n",
      "https://www.oddsportal.com/basketball/usa/nba/results/#/page/4\n",
      "https://www.oddsportal.com/basketball/usa/nba/results/#/page/5\n",
      "https://www.oddsportal.com/basketball/usa/nba/results/#/page/6\n",
      "https://www.oddsportal.com/basketball/usa/nba/results/#/page/7\n",
      "https://www.oddsportal.com/basketball/usa/nba/results/#/page/8\n",
      "https://www.oddsportal.com/basketball/usa/nba/results/#/page/9\n",
      "https://www.oddsportal.com/basketball/usa/nba/results/#/page/10\n",
      "https://www.oddsportal.com/basketball/usa/nba/results/#/page/11\n",
      "https://www.oddsportal.com/basketball/usa/nba/results/#/page/12\n",
      "https://www.oddsportal.com/basketball/usa/nba/results/#/page/13\n",
      "https://www.oddsportal.com/basketball/usa/nba/results/#/page/14\n",
      "https://www.oddsportal.com/basketball/usa/nba/results/#/page/15\n",
      "https://www.oddsportal.com/basketball/usa/nba/results/#/page/16\n",
      "https://www.oddsportal.com/basketball/usa/nba/results/#/page/17\n",
      "https://www.oddsportal.com/basketball/usa/nba/results/#/page/18\n",
      "https://www.oddsportal.com/basketball/usa/nba/results/#/page/19\n",
      "https://www.oddsportal.com/basketball/usa/nba/results/#/page/20\n",
      "https://www.oddsportal.com/basketball/usa/nba/results/#/page/21\n",
      "https://www.oddsportal.com/basketball/usa/nba/results/#/page/22\n"
     ]
    }
   ],
   "source": [
    "count=1\n",
    "dicttotal = {}\n",
    "while count < 23:\n",
    "    url = 'https://www.oddsportal.com/basketball/usa/nba/results/#/page/'\n",
    "    chrome_driver_path = 'C:\\\\Program Files (x86)\\\\Google\\\\Chrome\\\\Application\\\\90.0.4430.212\\\\chromedriver.exe'\n",
    "    options = webdriver.ChromeOptions()\n",
    "    driver = webdriver.Chrome(executable_path = chrome_driver_path, options = options)\n",
    "    url = pageadderurl(url, count)\n",
    "    if url == 'UP TO DATE':\n",
    "        count = 24\n",
    "    else:\n",
    "        driver.get(url)\n",
    "        time.sleep(5)\n",
    "        menu_lateral = driver.find_element_by_class_name('table-main')\n",
    "        center = menu_lateral.find_element_by_tag_name('tbody')\n",
    "        hh = center.find_elements_by_tag_name('tr')\n",
    "        for elem in hh:\n",
    "            t = elem.get_attribute('xeid')\n",
    "            #get attribute a?\n",
    "            if t !=None:\n",
    "                dicttotal[t] = elem.text\n",
    "        print(url)\n",
    "        time.sleep(2)\n",
    "        driver.close()\n",
    "        time.sleep(1)\n",
    "        with open('oddsnba.json', 'w') as fp:\n",
    "            json.dump(dicttotal, fp, indent=4)\n",
    "        count +=1\n"
   ]
  }
 ]
}