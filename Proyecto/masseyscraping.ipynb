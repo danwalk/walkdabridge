{
 "metadata": {
  "language_info": {
   "codemirror_mode": {
    "name": "ipython",
    "version": 3
   },
   "file_extension": ".py",
   "mimetype": "text/x-python",
   "name": "python",
   "nbconvert_exporter": "python",
   "pygments_lexer": "ipython3",
   "version": "3.7.4"
  },
  "orig_nbformat": 2,
  "kernelspec": {
   "name": "python374jvsc74a57bd016eb897c26cdfcf18817bc60a8e0737e3939ff1e8491198c807979170104e811",
   "display_name": "Python 3.7.4 64-bit"
  },
  "metadata": {
   "interpreter": {
    "hash": "16eb897c26cdfcf18817bc60a8e0737e3939ff1e8491198c807979170104e811"
   }
  }
 },
 "nbformat": 4,
 "nbformat_minor": 2,
 "cells": [
  {
   "cell_type": "code",
   "execution_count": 1,
   "metadata": {},
   "outputs": [],
   "source": [
    "import requests\n",
    "import pandas as pd\n",
    "import html\n",
    "import numpy as np\n",
    "from selenium import webdriver"
   ]
  },
  {
   "cell_type": "code",
   "execution_count": 149,
   "metadata": {},
   "outputs": [],
   "source": [
    "chrome_driver_path = 'C:\\\\Program Files (x86)\\\\Google\\\\Chrome\\\\Application\\\\90.0.4430.212\\\\chromedriver.exe'\n",
    "options = webdriver.ChromeOptions()\n",
    "driver = webdriver.Chrome(executable_path = chrome_driver_path, options = options)"
   ]
  },
  {
   "cell_type": "code",
   "execution_count": 148,
   "metadata": {},
   "outputs": [],
   "source": [
    "url = 'https://masseyratings.com/nba/games?dt=20210516'\n"
   ]
  },
  {
   "cell_type": "code",
   "execution_count": 150,
   "metadata": {},
   "outputs": [],
   "source": [
    "driver.get(url)"
   ]
  },
  {
   "cell_type": "code",
   "execution_count": 107,
   "metadata": {},
   "outputs": [],
   "source": [
    "from selenium.webdriver.common.keys import Keys"
   ]
  },
  {
   "cell_type": "code",
   "execution_count": 151,
   "metadata": {},
   "outputs": [],
   "source": [
    "menu_lateral = driver.find_element_by_class_name('mytable')"
   ]
  },
  {
   "cell_type": "code",
   "execution_count": 152,
   "metadata": {},
   "outputs": [],
   "source": [
    "gamerows = menu_lateral.find_elements_by_tag_name('tr')"
   ]
  },
  {
   "cell_type": "code",
   "execution_count": 153,
   "metadata": {},
   "outputs": [
    {
     "output_type": "stream",
     "name": "stdout",
     "text": [
      "16\n"
     ]
    }
   ],
   "source": [
    "print(len(gamerows))"
   ]
  },
  {
   "cell_type": "code",
   "execution_count": 154,
   "metadata": {},
   "outputs": [
    {
     "output_type": "execute_result",
     "data": {
      "text/plain": [
       "[1, 2, 3, 4, 5, 6, 7, 8, 9, 10, 11, 12, 13, 14, 15, 16]"
      ]
     },
     "metadata": {},
     "execution_count": 154
    }
   ],
   "source": [
    "u = list(range(1,(len(gamerows)+1)))\n",
    "u"
   ]
  },
  {
   "cell_type": "code",
   "execution_count": 146,
   "metadata": {},
   "outputs": [
    {
     "output_type": "stream",
     "name": "stdout",
     "text": [
      "1\n",
      "112\n",
      "109\n",
      "2\n",
      "112\n",
      "118\n",
      "3\n",
      "101\n",
      "107\n",
      "4\n",
      "118\n",
      "111\n",
      "5\n",
      "114\n",
      "108\n",
      "6\n",
      "109\n",
      "116\n",
      "7\n",
      "104\n",
      "107\n",
      "8\n",
      "115\n",
      "118\n",
      "9\n",
      "114\n",
      "116\n",
      "10\n",
      "115\n",
      "109\n",
      "11\n",
      "112\n",
      "114\n",
      "12\n",
      "108\n",
      "118\n",
      "13\n",
      "105\n",
      "118\n",
      "14\n",
      "99\n",
      "114\n",
      "15\n",
      "107\n",
      "103\n",
      "16\n",
      "111\n",
      "109\n",
      "17\n",
      "118\n",
      "112\n",
      "18\n",
      "117\n",
      "110\n",
      "19\n",
      "116\n",
      "101\n",
      "20\n",
      "116\n",
      "114\n",
      "21\n",
      "22\n",
      "120\n",
      "111\n",
      "23\n"
     ]
    }
   ],
   "source": [
    "lista = [1, 2, 3, 4, 5, 6, 7, 8, 9, 10, 11, 12, 13, 14, 15]\n",
    "for i in u:\n",
    "    print(i)\n",
    "    try:\n",
    "        nota = driver.find_element_by_xpath('/html/body/div[5]/div[1]/table/tbody/tr['+str(i)+']/td[5]').text\n",
    "        print(nota)\n",
    "    except:\n",
    "        pass\n",
    "#predictions\n",
    "#/html/body/div[5]/div[1]/table/tbody/tr[1]/td[5]"
   ]
  },
  {
   "cell_type": "code",
   "execution_count": 81,
   "metadata": {},
   "outputs": [
    {
     "output_type": "stream",
     "name": "stdout",
     "text": [
      "1\n",
      "92\n",
      "96\n",
      "2\n",
      "110\n",
      "115\n",
      "3\n",
      "125\n",
      "113\n",
      "4\n",
      "123\n",
      "121\n",
      "5\n",
      "101\n",
      "113\n",
      "6\n",
      "95\n",
      "124\n",
      "7\n",
      "109\n",
      "123\n",
      "8\n",
      "117\n",
      "128\n",
      "9\n",
      "120\n",
      "107\n",
      "10\n",
      "110\n",
      "98\n",
      "11\n",
      "112\n",
      "118\n",
      "12\n",
      "121\n",
      "136\n",
      "13\n",
      "112\n",
      "117\n",
      "14\n",
      "116\n",
      "132\n",
      "15\n",
      "121\n",
      "99\n"
     ]
    }
   ],
   "source": [
    "lista = [1, 2, 3, 4, 5, 6, 7, 8, 9, 10, 11, 12, 13, 14, 15]\n",
    "for i in lista:\n",
    "    print(i)\n",
    "    nota = driver.find_element_by_xpath('/html/body/div[5]/div[1]/table/tbody/tr['+str(i)+']/td[4]').text\n",
    "    print(nota)\n",
    "\n",
    "#scores"
   ]
  },
  {
   "cell_type": "code",
   "execution_count": 82,
   "metadata": {},
   "outputs": [
    {
     "output_type": "stream",
     "name": "stdout",
     "text": [
      "1\n",
      "Sun 05.16\n",
      "FINAL\n",
      "2\n",
      "Sun 05.16\n",
      "FINAL\n",
      "3\n",
      "Sun 05.16\n",
      "FINAL\n",
      "4\n",
      "Sun 05.16\n",
      "FINAL\n",
      "5\n",
      "Sun 05.16\n",
      "FINAL\n",
      "6\n",
      "Sun 05.16\n",
      "FINAL\n",
      "7\n",
      "Sun 05.16\n",
      "FINAL\n",
      "8\n",
      "Sun 05.16\n",
      "FINAL\n",
      "9\n",
      "Sun 05.16\n",
      "FINAL\n",
      "10\n",
      "Sun 05.16\n",
      "FINAL\n",
      "11\n",
      "Sun 05.16\n",
      "FINAL\n",
      "12\n",
      "Sun 05.16\n",
      "FINAL\n",
      "13\n",
      "Sun 05.16\n",
      "FINAL\n",
      "14\n",
      "Sun 05.16\n",
      "FINAL\n",
      "15\n",
      "Sun 05.16\n",
      "FINAL\n"
     ]
    }
   ],
   "source": [
    "lista = [1, 2, 3, 4, 5, 6, 7, 8, 9, 10, 11, 12, 13, 14, 15]\n",
    "for i in lista:\n",
    "    print(i)\n",
    "    nota = driver.find_element_by_xpath('/html/body/div[5]/div[1]/table/tbody/tr['+str(i)+']/td[1]').text\n",
    "    print(nota)\n",
    "#date of game\n"
   ]
  },
  {
   "cell_type": "code",
   "execution_count": 103,
   "metadata": {},
   "outputs": [
    {
     "output_type": "stream",
     "name": "stdout",
     "text": [
      "1\n",
      "https://masseyratings.com/game.php?gid=933385756\n",
      "2\n",
      "https://masseyratings.com/game.php?gid=933385758\n",
      "3\n",
      "https://masseyratings.com/game.php?gid=933385759\n",
      "4\n",
      "https://masseyratings.com/game.php?gid=933385763\n",
      "5\n",
      "https://masseyratings.com/game.php?gid=933385765\n",
      "6\n",
      "https://masseyratings.com/game.php?gid=933385753\n",
      "7\n",
      "https://masseyratings.com/game.php?gid=933385755\n",
      "8\n",
      "https://masseyratings.com/game.php?gid=933385757\n",
      "9\n",
      "https://masseyratings.com/game.php?gid=933385754\n",
      "10\n",
      "https://masseyratings.com/game.php?gid=933385760\n",
      "11\n",
      "https://masseyratings.com/game.php?gid=933385761\n",
      "12\n",
      "https://masseyratings.com/game.php?gid=933385762\n",
      "13\n",
      "https://masseyratings.com/game.php?gid=933385764\n",
      "14\n",
      "https://masseyratings.com/game.php?gid=933385766\n",
      "15\n",
      "https://masseyratings.com/game.php?gid=933385767\n"
     ]
    }
   ],
   "source": [
    "lista = [1, 2, 3, 4, 5, 6, 7, 8, 9, 10, 11, 12, 13, 14, 15]\n",
    "for i in lista:\n",
    "    print(i)\n",
    "    nota = driver.find_element_by_xpath('/html/body/div[5]/div[1]/table/tbody/tr['+str(i)+']/td[1]/a').get_attribute('href')\n",
    "    print(nota)\n",
    "#gameID\n",
    "\n"
   ]
  },
  {
   "cell_type": "code",
   "execution_count": 84,
   "metadata": {},
   "outputs": [
    {
     "output_type": "stream",
     "name": "stdout",
     "text": [
      "1\n",
      "Boston\n",
      "@ New York\n",
      "2\n",
      "Charlotte\n",
      "@ Washington\n",
      "3\n",
      "Indiana\n",
      "@ Toronto\n",
      "4\n",
      "Phoenix\n",
      "@ San Antonio\n",
      "5\n",
      "Memphis\n",
      "@ Golden State\n",
      "6\n",
      "Houston\n",
      "@ Atlanta\n",
      "7\n",
      "Cleveland\n",
      "@ Brooklyn\n",
      "8\n",
      "Orlando\n",
      "@ Philadelphia\n",
      "9\n",
      "Miami\n",
      "@ Detroit\n",
      "10\n",
      "LA Lakers\n",
      "@ New Orleans\n",
      "11\n",
      "Milwaukee\n",
      "@ Chicago\n",
      "12\n",
      "Dallas\n",
      "@ Minnesota\n",
      "13\n",
      "LA Clippers\n",
      "@ Oklahoma City\n",
      "14\n",
      "Denver\n",
      "@ Portland\n",
      "15\n",
      "Utah\n",
      "@ Sacramento\n"
     ]
    }
   ],
   "source": [
    "lista = [1, 2, 3, 4, 5, 6, 7, 8, 9, 10, 11, 12, 13, 14, 15]\n",
    "for i in lista:\n",
    "    print(i)\n",
    "    nota = driver.find_element_by_xpath('/html/body/div[5]/div[1]/table/tbody/tr['+str(i)+']/td[2]').text\n",
    "    print(nota)\n",
    "#Teams"
   ]
  },
  {
   "cell_type": "code",
   "execution_count": 3,
   "metadata": {},
   "outputs": [],
   "source": [
    "def dateurlchanger(url, adddays, maxdate):\n",
    "    dateofpage = url[-8:]\n",
    "    date_time_obj = datetime.strptime(dateofpage, '%Y%m%d')\n",
    "    maxd = datetime.strptime(maxdate, '%Y%m%d')\n",
    "    if date_time_obj >= maxd:\n",
    "        return 'UP TO DATE'\n",
    "    else:\n",
    "        date_time_obj1 = date_time_obj + timedelta(days=adddays) \n",
    "        date_time_obj1 = date_time_obj1.strftime('%Y%m%d')\n",
    "        return url.replace(dateofpage, date_time_obj1)"
   ]
  },
  {
   "cell_type": "code",
   "execution_count": 179,
   "metadata": {},
   "outputs": [],
   "source": []
  },
  {
   "cell_type": "code",
   "execution_count": 2,
   "metadata": {},
   "outputs": [],
   "source": [
    "from datetime import datetime\n",
    "from datetime import timedelta\n",
    "import time"
   ]
  },
  {
   "cell_type": "code",
   "execution_count": 9,
   "metadata": {},
   "outputs": [],
   "source": [
    "dicc = {}"
   ]
  },
  {
   "cell_type": "code",
   "execution_count": 23,
   "metadata": {},
   "outputs": [],
   "source": [
    "\n",
    "\n",
    "def pageurlchanger(url, adddays, maxpage):\n",
    "    page = int(url[-2:-1])\n",
    "    if page >= maxpage:\n",
    "        return 'UP TO DATE'\n",
    "    else:\n",
    "        return url.replace(url[-2:-1], str(page+adddays))"
   ]
  },
  {
   "cell_type": "code",
   "execution_count": 26,
   "metadata": {},
   "outputs": [
    {
     "output_type": "execute_result",
     "data": {
      "text/plain": [
       "'https://www.oddsportal.com/basketball/usa/nba/results/#/page/2/'"
      ]
     },
     "metadata": {},
     "execution_count": 26
    }
   ],
   "source": [
    "pageurlchanger('https://www.oddsportal.com/basketball/usa/nba/results/#/page/1/', 1, 10)"
   ]
  },
  {
   "cell_type": "code",
   "execution_count": 15,
   "metadata": {},
   "outputs": [
    {
     "output_type": "stream",
     "name": "stdout",
     "text": [
      "20210503\n",
      "20210504\n",
      "20210505\n",
      "20210506\n",
      "20210507\n",
      "20210508\n",
      "20210509\n",
      "20210510\n",
      "20210511\n",
      "20210512\n",
      "20210513\n",
      "20210514\n",
      "20210515\n",
      "20210516\n",
      "UP TO DATE\n"
     ]
    }
   ],
   "source": [
    "\n",
    "\n",
    "url = 'https://masseyratings.com/nba/games?dt=20210502'\n",
    "\n",
    "massey = 0\n",
    "while massey == 0:\n",
    "    time.sleep(5)\n",
    "    chrome_driver_path = 'C:\\\\Program Files (x86)\\\\Google\\\\Chrome\\\\Application\\\\90.0.4430.212\\\\chromedriver.exe'\n",
    "    options = webdriver.ChromeOptions()\n",
    "    driver = webdriver.Chrome(executable_path = chrome_driver_path, options = options)\n",
    "    url = pageurlchanger(url, 1, '20210516')\n",
    "    if url == 'UP TO DATE':\n",
    "        massey +=1\n",
    "        print(\"UP TO DATE\")\n",
    "    else:\n",
    "        driver.get(url)\n",
    "        time.sleep(5)\n",
    "        try:\n",
    "            menu_lateral = driver.find_element_by_xpath('/html/body/div[5]/div[1]/table')\n",
    "        except:\n",
    "            massey+1\n",
    "        time.sleep(5)\n",
    "        gamerows = menu_lateral.find_elements_by_tag_name('tr')\n",
    "        u = list(range(1,(len(gamerows)+1)))\n",
    "        time.sleep(3)\n",
    "        for i in u:\n",
    "            gamedicc = {}\n",
    "            try:\n",
    "                gameid = driver.find_element_by_xpath('/html/body/div[5]/div[1]/table/tbody/tr['+str(i)+']/td[1]/a').get_attribute('href')\n",
    "                time.sleep(1)\n",
    "                gamedate = driver.find_element_by_xpath('/html/body/div[5]/div[1]/table/tbody/tr['+str(i)+']/td[1]').text\n",
    "                teams = driver.find_element_by_xpath('/html/body/div[5]/div[1]/table/tbody/tr['+str(i)+']/td[2]').text\n",
    "                prediction = driver.find_element_by_xpath('/html/body/div[5]/div[1]/table/tbody/tr['+str(i)+']/td[5]').text\n",
    "                winpred = driver.find_element_by_xpath('/html/body/div[5]/div[1]/table/tbody/tr['+str(i)+']/td[6]').text\n",
    "                time.sleep(1)\n",
    "                score = driver.find_element_by_xpath('/html/body/div[5]/div[1]/table/tbody/tr['+str(i)+']/td[4]').text\n",
    "            except:\n",
    "                pass\n",
    "            gamedicc['Game Date'] = gamedate\n",
    "            gamedicc['Teams'] = teams\n",
    "            gamedicc['Prediction'] = prediction\n",
    "            gamedicc['Win%Pred'] = winpred\n",
    "            gamedicc['Score'] = score\n",
    "            dicc[gameid] = gamedicc\n",
    "        driver.close()\n",
    "        time.sleep(5)\n",
    "        with open('massey2.json', 'w') as fp:\n",
    "            json.dump(dicc, fp, indent=4)\n",
    "        print(url[-8:])\n"
   ]
  },
  {
   "cell_type": "code",
   "execution_count": 11,
   "metadata": {},
   "outputs": [],
   "source": [
    "import json\n"
   ]
  },
  {
   "cell_type": "code",
   "execution_count": 162,
   "metadata": {},
   "outputs": [],
   "source": [
    "with open('1605massey.json', 'w') as fp:\n",
    "    json.dump(dicc, fp, indent=4)"
   ]
  },
  {
   "cell_type": "code",
   "execution_count": null,
   "metadata": {},
   "outputs": [],
   "source": []
  }
 ]
}