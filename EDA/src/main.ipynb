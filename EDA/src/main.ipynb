{
 "metadata": {
  "language_info": {
   "codemirror_mode": {
    "name": "ipython",
    "version": 3
   },
   "file_extension": ".py",
   "mimetype": "text/x-python",
   "name": "python",
   "nbconvert_exporter": "python",
   "pygments_lexer": "ipython3",
   "version": "3.7.4"
  },
  "orig_nbformat": 2,
  "kernelspec": {
   "name": "python374jvsc74a57bd016eb897c26cdfcf18817bc60a8e0737e3939ff1e8491198c807979170104e811",
   "display_name": "Python 3.7.4 64-bit"
  },
  "metadata": {
   "interpreter": {
    "hash": "16eb897c26cdfcf18817bc60a8e0737e3939ff1e8491198c807979170104e811"
   }
  }
 },
 "nbformat": 4,
 "nbformat_minor": 2,
 "cells": [
  {
   "cell_type": "code",
   "execution_count": 1,
   "metadata": {},
   "outputs": [],
   "source": [
    "import pandas as pd\n",
    "import requests\n",
    "import numpy as np\n",
    "from utils.mining_data_tb import getnbafromoddsportal\n",
    "from utils.mining_data_tb import getnbafrommassey\n",
    "from utils.sendtomysql import nflcleantomysql\n",
    "from utils.sendtomysql import nbacleantomysql\n",
    "from utils.sendtomysql import footballcleanandsendtomysql"
   ]
  },
  {
   "source": [
    "## Step 1\n",
    "Get/clean/send the data to mysql. NBA data was got by webscrapping https://masseyratings.com/nba/games. and also from https://www.oddsportal.com/, both functions are below and can be run if you require."
   ],
   "cell_type": "markdown",
   "metadata": {}
  },
  {
   "source": [
    "**This function can be run if needed**, the funcion is ready to run from yesterday. The original was from 20201222 and each day was scrapped and loaded to json in EDA/data, it took 4 hours as time.sleep(5) is used frequently to avoid error using selenium."
   ],
   "cell_type": "markdown",
   "metadata": {}
  },
  {
   "cell_type": "code",
   "execution_count": null,
   "metadata": {},
   "outputs": [],
   "source": [
    "#getnbafrommassey('https://masseyratings.com/nba/games?dt=20210601', maxdate=(datetime.today().strftime('%Y%m%d')))"
   ]
  },
  {
   "source": [
    "**This function can be run if needed,** the (2) is so that only page one is scrapped and loaded to json in EDA/data"
   ],
   "cell_type": "markdown",
   "metadata": {}
  },
  {
   "cell_type": "code",
   "execution_count": null,
   "metadata": {},
   "outputs": [],
   "source": [
    "#getnbafromoddsportal(2)"
   ]
  },
  {
   "source": [
    "**The two NBA** files are 1100 lines long and needed to be merged withough a common index and unfortunatly are not ordered in the same way. At the moment I joined the two together from Excel as can be ordered by date, then by team, and reviewd using vlookup() to correct any rows that did not match both teams and points scored. This clean file was saved to \\data\\nbaclean.csv\n",
    "\n",
    "**This file is then uploaded to mysql** to a table called NBA... In the function below it can be done but has been configured to go to NBAtest instead."
   ],
   "cell_type": "markdown",
   "metadata": {}
  },
  {
   "cell_type": "code",
   "execution_count": null,
   "metadata": {},
   "outputs": [],
   "source": [
    "#nbacleantomysql(csvname)"
   ]
  },
  {
   "source": [
    "**NFL data** was obtained with a file from https://www.aussportsbetting.com/historical_data/nfl.xlsx, cleaned in excel and saved to a csv file in EDA\\data\\NFL ready.csv. \n",
    "\n",
    "Once the file is there, it is sent to mysql to a table called NFL... **In the function below it can be done** but has been configured to go to NFLtest instead."
   ],
   "cell_type": "markdown",
   "metadata": {}
  },
  {
   "cell_type": "code",
   "execution_count": null,
   "metadata": {},
   "outputs": [],
   "source": [
    "#nflcleantomysql('NFL ready.csv')"
   ]
  },
  {
   "source": [
    "**All of the football** csv (24 in total, 6 seasons, 4 countries) are retrieved from http://www.football-data.co.uk/. As the file names from the same countries have the same name, e.g D1 ---> http://www.football-data.co.uk/mmz4281/2021/D1.csv, then the csv files were downloaded to local file and places manually into EDA\\data, adding the year, e.g D120\n",
    "\n",
    "The whole process of cleaning these csv, taking the information I required, adding the columns needed using calculations in pandas, and then duplicating the file from within to account for Home and Away teams is one of the best things I have done on this project. The function then ends by appending the cleaned data to mysql, table FOOTBALL and finally returning a view of the df to review.abs\n",
    "\n",
    "This file can be executed but it will go to the table FUTBOLtest instead of the live version.\n",
    "\n",
    "**IMPORTANT this function can be used** to upload further leagues and countries to the existing batch in the space of a minute and will be viewable directly on the visualisations prepared in tablaeu. To me thats AMAZING!"
   ],
   "cell_type": "markdown",
   "metadata": {}
  },
  {
   "cell_type": "code",
   "execution_count": null,
   "metadata": {},
   "outputs": [],
   "source": [
    "#footballcleanandsendtomysql('SPAIN', 'LALIGA', '20/21', 'SP120.csv')"
   ]
  },
  {
   "source": [
    "## Step 2\n",
    "\n",
    "Configure flask and streamlit as required in the project instructions. The csv files in \\data are available from the Streamlit app as a GET from flask. Both currently work from within **localhost:6060 - flask, localhost:8501 - stremalit**\n",
    "\n",
    "\n",
    "\n",
    "## Step 3\n",
    "\n",
    "\n",
    "Configure tablaeu to connect to database in mysql\n",
    "\n",
    "\n",
    "\n",
    "## Step 4\n",
    "\n",
    "\n",
    "The remaining steps were done on Tablaeu which I will detail briefly below.\n",
    "\n",
    "\n",
    "\n",
    "## Things to add regarding my EDA:\n",
    "\n",
    "\n",
    "I am extremly happy with the results. There is clearly room for improvement, especially with some of the coding as I have not used classes, BUT webscrapping for NBA, then the cleaning and automization of the football leagues, together with the skills used in Tablaeu are something that I am proud of, I have very much enjoyed doing it and I hope to continue adding more fantastic skills! Thank you TheBridge!\n",
    "\n",
    "Although 1 of the steps during the NBA cleaning was done using Excel, the rest of the project has been assembled entirely using the newly acquired knowledge obtained during the bootcamp :)!\n",
    "\n",
    "The visualization is currently in Tablaeu however, I do hope to gradually move the project across onto Streamlit as I think most, if not all of the functionalities are available.abs\n",
    "\n",
    "If I was to begin the EDA again, I am not sure that I would do many things differently. Probably the main change would be to use Streamlit instead of Tablaeu, but I am unsure that I would have been able to configure 12 dashboards in so little time.\n",
    "\n",
    "\n",
    "\n",
    "## Looking ahead:\n",
    "\n",
    "\n",
    "During the ML part of the bootcamp, I hope to add to the statistical analysis of sports betting and find ways to help predict some of the outcomes. Hopefully a prediction model can be put together and then used to compare against real results from the previous weeks.abs\n",
    "\n",
    "The next stage will be to use dictionaries and automation for the database of results to be updated \"automatically\" and for the analysis to continue!\n",
    "\n",
    "\n",
    "\n",
    "## Tablaeu:\n",
    "\n",
    "\n",
    "The storyboard is available online: https://public.tableau.com/profile/api/publish/ComparisonLeaguesWINStraight/Story1\n",
    "\n",
    "\n",
    "Here are some screenshots:"
   ],
   "cell_type": "markdown",
   "metadata": {}
  },
  {
   "source": [
    "![../src/img/TablaeuMAIN.png](../src/img/TablaeuMAIN.png)\n",
    "![../src/img/TablaeuOverallAnalysis1.png](../src/img/TablaeuOverallAnalysis1.png)\n",
    "![../src/img/TablaeuTeamAnalysis.png](../src/img/TablaeuTeamAnalysis.png)\n",
    "![../src/img/FootballH2H.png](../src/img/FootballH2H.png)\n",
    "![../src/img/FootballScatter.png](../src/img/FootballScatter.png)\n",
    "![../src/img/NFLH2H.png](../src/img/NFLH2H.png)\n",
    "![../src/img/NBAMAIN.png](../src/img/NBAMAIN.png)\n",
    "![../src/img/NBAH2H.png](../src/img/NBAH2H.png)\n",
    "![../src/img/NBAH2H2.png](../src/img/NBAH2H2.png)"
   ],
   "cell_type": "markdown",
   "metadata": {}
  }
 ]
}