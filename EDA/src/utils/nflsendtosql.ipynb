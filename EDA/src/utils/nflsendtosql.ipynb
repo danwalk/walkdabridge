{
 "metadata": {
  "language_info": {
   "codemirror_mode": {
    "name": "ipython",
    "version": 3
   },
   "file_extension": ".py",
   "mimetype": "text/x-python",
   "name": "python",
   "nbconvert_exporter": "python",
   "pygments_lexer": "ipython3",
   "version": "3.7.4"
  },
  "orig_nbformat": 2,
  "kernelspec": {
   "name": "python374jvsc74a57bd016eb897c26cdfcf18817bc60a8e0737e3939ff1e8491198c807979170104e811",
   "display_name": "Python 3.7.4 64-bit"
  },
  "metadata": {
   "interpreter": {
    "hash": "16eb897c26cdfcf18817bc60a8e0737e3939ff1e8491198c807979170104e811"
   }
  }
 },
 "nbformat": 4,
 "nbformat_minor": 2,
 "cells": [
  {
   "cell_type": "code",
   "execution_count": 1,
   "metadata": {},
   "outputs": [],
   "source": [
    "import pandas as pd\n",
    "import json\n",
    "import os\n",
    "import numpy as np\n",
    "from folders_tb import read_json_to_dict\n",
    "from mysql_driver import MySQL\n",
    "import mysql.connector\n",
    "from sqlalchemy import create_engine"
   ]
  },
  {
   "cell_type": "code",
   "execution_count": 3,
   "metadata": {},
   "outputs": [],
   "source": [
    "SEP = os.sep\n",
    "dir = os.path.dirname\n",
    "csv_fullpath = dir(dir(os.getcwd())) + SEP + \"data\" + SEP + \"NFL ready.csv\" #put name of file here"
   ]
  },
  {
   "cell_type": "code",
   "execution_count": 4,
   "metadata": {},
   "outputs": [],
   "source": [
    "json_readed = read_json_to_dict(\"sql_server_settings.json\")\n",
    "IP_DNS = json_readed[\"IP_DNS\"]\n",
    "USER = json_readed[\"USER\"]\n",
    "PASSWORD = json_readed[\"PASSWORD\"]\n",
    "BD_NAME = json_readed[\"BD_NAME\"]\n",
    "PORT = json_readed[\"PORT\"]"
   ]
  },
  {
   "cell_type": "code",
   "execution_count": 1,
   "metadata": {},
   "outputs": [],
   "source": [
    "#mysql_db = MySQL(IP_DNS=IP_DNS, USER=USER, PASSWORD=PASSWORD, BD_NAME=BD_NAME, PORT=PORT)\n",
    "#conn = mysql_db.connect()"
   ]
  },
  {
   "cell_type": "code",
   "execution_count": null,
   "metadata": {},
   "outputs": [],
   "source": [
    "#engine = create_engine(f'mysql+pymysql://{USER}:{PASSWORD}@{IP_DNS}:{PORT}/{BD_NAME}')\n",
    "#NFL = pd.read_csv(csv_fullpath, index_col=None)\n",
    "#NFL['Date'] = pd.to_datetime(NFL['Date'])\n",
    "#NFL.to_sql('NFL', con = engine, index=False, if_exists='replace')\n",
    "#conn.close()"
   ]
  }
 ]
}