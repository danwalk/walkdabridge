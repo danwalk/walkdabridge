{
 "metadata": {
  "language_info": {
   "codemirror_mode": {
    "name": "ipython",
    "version": 3
   },
   "file_extension": ".py",
   "mimetype": "text/x-python",
   "name": "python",
   "nbconvert_exporter": "python",
   "pygments_lexer": "ipython3",
   "version": "3.7.4"
  },
  "orig_nbformat": 2,
  "kernelspec": {
   "name": "python374jvsc74a57bd016eb897c26cdfcf18817bc60a8e0737e3939ff1e8491198c807979170104e811",
   "display_name": "Python 3.7.4 64-bit"
  },
  "metadata": {
   "interpreter": {
    "hash": "16eb897c26cdfcf18817bc60a8e0737e3939ff1e8491198c807979170104e811"
   }
  }
 },
 "nbformat": 4,
 "nbformat_minor": 2,
 "cells": [
  {
   "cell_type": "code",
   "execution_count": 3,
   "metadata": {},
   "outputs": [],
   "source": [
    "import pandas as pd\n",
    "import json\n",
    "import os\n",
    "import numpy as np\n",
    "from folders_tb import read_json_to_dict\n",
    "from mysql_driver import MySQL\n",
    "import mysql.connector\n",
    "from sqlalchemy import create_engine"
   ]
  },
  {
   "cell_type": "code",
   "execution_count": 4,
   "metadata": {},
   "outputs": [],
   "source": [
    "SEP = os.sep\n",
    "dir = os.path.dirname\n",
    "csv_fullpath = dir(dir(os.getcwd())) + SEP + \"data\" + SEP + \"SP120.csv\" #put name of file here"
   ]
  },
  {
   "cell_type": "code",
   "execution_count": 5,
   "metadata": {},
   "outputs": [],
   "source": [
    "json_readed = read_json_to_dict(\"sql_server_settings.json\")\n",
    "IP_DNS = json_readed[\"IP_DNS\"]\n",
    "USER = json_readed[\"USER\"]\n",
    "PASSWORD = json_readed[\"PASSWORD\"]\n",
    "BD_NAME = json_readed[\"BD_NAME\"]\n",
    "PORT = json_readed[\"PORT\"]"
   ]
  },
  {
   "cell_type": "code",
   "execution_count": 6,
   "metadata": {},
   "outputs": [
    {
     "output_type": "stream",
     "name": "stdout",
     "text": [
      "Connected to MySQL server [x9808164k_ds_april_2021_db]\n"
     ]
    }
   ],
   "source": [
    "mysql_db = MySQL(IP_DNS=IP_DNS, USER=USER, PASSWORD=PASSWORD, BD_NAME=BD_NAME, PORT=PORT)\n",
    "conn = mysql_db.connect()"
   ]
  },
  {
   "cell_type": "code",
   "execution_count": 1,
   "metadata": {},
   "outputs": [],
   "source": [
    "\n",
    "def footballcleanandsendtomysql(COUNTRY, LEAGUE, SEASON, csvpath):\n",
    "    df = pd.read_csv(csvpath, index_col=None)\n",
    "    df = df[['Date','HomeTeam','FTHG','AwayTeam','FTAG','B365H','B365D','B365A']]\n",
    "    df['Country'] = COUNTRY\n",
    "    df['League'] = LEAGUE\n",
    "    df['Season'] = SEASON\n",
    "    df['Homeoraway'] = \"Home\"\n",
    "    df.rename(columns={'HomeTeam':'Team', 'FTHG':'TeamGoals', 'AwayTeam':'Opponent', 'FTAG':'OpponentGoals', 'B365H':'TeamOdds', 'B365D':'DrawOdds',        'B365A':'OpponentOdds'}, inplace=True)\n",
    "    awaydf = df.rename(columns={'Team':'Opponentt', 'TeamGoals':'OpponentGoalst', 'Opponent':'Teamt', 'OpponentGoals':'TeamGoalst', 'TeamOdds':'OpponentOddst', 'OpponentOdds':'TeamOddst'})\n",
    "    awayt = awaydf.rename(columns={'Opponentt':'Opponent', 'OpponentGoalst':'OpponentGoals', 'Teamt':'Team', 'TeamGoalst':'TeamGoals', 'OpponentOddst':'OpponentOdds', 'TeamOddst':'TeamOdds'})\n",
    "    awayt[\"Homeoraway\"].replace({\"Home\": \"Away\"}, inplace=True)\n",
    "    awayt = awayt[[\"Date\", \"Team\", \"TeamGoals\", \"Opponent\", \"OpponentGoals\", \"TeamOdds\", \"DrawOdds\", \"OpponentOdds\", \"Country\", \"League\", \"Season\", \"Homeoraway\"]]\n",
    "    df = df.append(awayt)\n",
    "    conditions = [(df['TeamGoals'] > df['OpponentGoals']), \n",
    "    (df['TeamGoals'] == df['OpponentGoals']),\n",
    "    (df['TeamGoals'] < df['OpponentGoals'])]\n",
    "    values = ['Win', 'Draw', 'Lose']\n",
    "    df['Result'] = np.select(conditions, values)\n",
    "    conditions = [(df['Result'] == \"Win\"),\n",
    "    (df['Result'] != \"Win\")]\n",
    "    values = [(df['TeamOdds']-1), -1]\n",
    "    df['ResultBetWin'] = np.select(conditions, values)\n",
    "    conditions = [(df['Result'] == \"Draw\"),\n",
    "    (df['Result'] != \"Draw\")]\n",
    "    values = [(df['DrawOdds']-1), -1]\n",
    "    df['ResultBetDraw'] = np.select(conditions, values)\n",
    "    conditions = [(df['Result'] == \"Lose\"),\n",
    "    (df['Result'] != \"Lose\")]\n",
    "    values = [(df['OpponentOdds']-1), -1]\n",
    "    df['ResultBetLose'] = np.select(conditions, values)\n",
    "    conditions = [(df['TeamOdds'] <= df['OpponentOdds']),\n",
    "    (df['TeamOdds'] > df['OpponentOdds'])]\n",
    "    values = [\"Favourite\", \"NotFavourite\"]\n",
    "    df['Favourite'] = np.select(conditions, values)\n",
    "    df['TotalGoals'] = df['TeamGoals'] + df['OpponentGoals']\n",
    "    df = df[[\"Country\", \"League\", \"Season\", \"Date\", \"Homeoraway\", \"Team\", \"TeamGoals\", \"Opponent\", \"OpponentGoals\", \"Favourite\", \"Result\", \"TotalGoals\", \"TeamOdds\", \"DrawOdds\", \"OpponentOdds\", \"ResultBetWin\", \"ResultBetDraw\", \"ResultBetLose\"]]\n",
    "    df['Date'] = pd.to_datetime(df['Date'])\n",
    "    engine = create_engine(f'mysql+pymysql://{USER}:{PASSWORD}@{IP_DNS}:{PORT}/{BD_NAME}')\n",
    "    df.to_sql('Futbol', con = engine, index=False, if_exists='append')\n",
    "    print(csvpath, \"Cleaned and uploaded to mysql\")\n",
    "    return df\n"
   ]
  },
  {
   "cell_type": "code",
   "execution_count": null,
   "metadata": {},
   "outputs": [],
   "source": [
    "# footballcleanandsendtomysql('SPAIN', 'LALIGA', '20/21', csv_fullpath) example of function call"
   ]
  },
  {
   "cell_type": "code",
   "execution_count": 15,
   "metadata": {},
   "outputs": [],
   "source": [
    "#cursor = conn.cursor()\n",
    "#cursor.execute(\"DROP TABLE IF EXISTS Futbol\")\n",
    "#conn.close()"
   ]
  }
 ]
}