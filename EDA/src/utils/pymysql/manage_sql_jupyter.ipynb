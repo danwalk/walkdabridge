{
 "metadata": {
  "language_info": {
   "codemirror_mode": {
    "name": "ipython",
    "version": 3
   },
   "file_extension": ".py",
   "mimetype": "text/x-python",
   "name": "python",
   "nbconvert_exporter": "python",
   "pygments_lexer": "ipython3",
   "version": "3.7.4"
  },
  "orig_nbformat": 2,
  "kernelspec": {
   "name": "python374jvsc74a57bd016eb897c26cdfcf18817bc60a8e0737e3939ff1e8491198c807979170104e811",
   "display_name": "Python 3.7.4 64-bit"
  },
  "metadata": {
   "interpreter": {
    "hash": "16eb897c26cdfcf18817bc60a8e0737e3939ff1e8491198c807979170104e811"
   }
  }
 },
 "nbformat": 4,
 "nbformat_minor": 2,
 "cells": [
  {
   "source": [
    "### CRUD:\n",
    "- Create\n",
    "- Replace\n",
    "- Update\n",
    "- Delete\n",
    "\n",
    "===============================\n",
    "\n",
    "### IMPORTS & GET DATABASE INFO"
   ],
   "cell_type": "markdown",
   "metadata": {}
  },
  {
   "cell_type": "code",
   "execution_count": 1,
   "metadata": {},
   "outputs": [],
   "source": [
    "from jsons import read_json_to_dict\n",
    "from mysql_driver import MySQL\n",
    "import mysql.connector\n",
    "import pandas as pd\n",
    "from sqlalchemy import create_engine\n",
    "\n",
    "json_readed = read_json_to_dict(\"sql_server_settings.json\")\n",
    "IP_DNS = json_readed[\"IP_DNS\"]\n",
    "USER = json_readed[\"USER\"]\n",
    "PASSWORD = json_readed[\"PASSWORD\"]\n",
    "BD_NAME = json_readed[\"BD_NAME\"]\n",
    "PORT = json_readed[\"PORT\"]\n"
   ]
  },
  {
   "cell_type": "code",
   "execution_count": 2,
   "metadata": {},
   "outputs": [
    {
     "output_type": "stream",
     "name": "stdout",
     "text": [
      "Connected to MySQL server [x9808164k_ds_april_2021_db]\n"
     ]
    }
   ],
   "source": [
    "# Connect to MySQL\n",
    "mysql_db = MySQL(IP_DNS=IP_DNS, USER=USER, PASSWORD=PASSWORD, BD_NAME=BD_NAME, PORT=PORT)\n",
    "conn = mysql_db.connect()\n"
   ]
  },
  {
   "source": [
    "============== \n",
    "\n",
    "### DROP TABLE"
   ],
   "cell_type": "markdown",
   "metadata": {}
  },
  {
   "cell_type": "code",
   "execution_count": 12,
   "metadata": {},
   "outputs": [
    {
     "output_type": "stream",
     "name": "stdout",
     "text": [
      "Executed \n\nDROP TABLE IF EXISTS Football\n\n successfully\n"
     ]
    },
    {
     "output_type": "execute_result",
     "data": {
      "text/plain": [
       "1"
      ]
     },
     "metadata": {},
     "execution_count": 12
    }
   ],
   "source": [
    "# Drop table if it already exist using execute() method.\n",
    "#mysql_db.cursor.execute(\"DROP TABLE IF EXISTS people\")\n",
    "\n",
    "#mysql_db.execute_interactive_sql(sql=\"DROP TABLE IF EXISTS Football\")"
   ]
  },
  {
   "source": [
    "============== \n",
    "\n",
    "### CREATE TABLE"
   ],
   "cell_type": "markdown",
   "metadata": {}
  },
  {
   "cell_type": "code",
   "execution_count": 14,
   "metadata": {},
   "outputs": [
    {
     "output_type": "execute_result",
     "data": {
      "text/plain": [
       "'c:\\\\Users\\\\Daniel\\\\Desktop\\\\The Bridge\\\\walkdabridge\\\\EDA\\\\data\\\\futclean.csv'"
      ]
     },
     "metadata": {},
     "execution_count": 14
    }
   ],
   "source": [
    "import os\n",
    "SEP = os.sep\n",
    "dir = os.path.dirname\n",
    "\n",
    "csv_fullpath = dir(dir(dir(os.getcwd()))) + SEP + \"data\" + SEP + \"futclean.csv\"\n",
    "\n",
    "csv_fullpath"
   ]
  },
  {
   "cell_type": "code",
   "execution_count": 15,
   "metadata": {},
   "outputs": [
    {
     "output_type": "execute_result",
     "data": {
      "text/plain": [
       "       Country League Season        Date Homeoraway            Team  \\\n",
       "0      ENGLAND   PREM  20/21  2021/05/23       Away         Chelsea   \n",
       "1      ENGLAND   PREM  20/21  2021/05/23       Home          Fulham   \n",
       "2      ENGLAND   PREM  20/21  2021/05/23       Home       Leicester   \n",
       "3      ENGLAND   PREM  20/21  2021/05/23       Away         Burnley   \n",
       "4      ENGLAND   PREM  20/21  2021/05/23       Home          Wolves   \n",
       "...        ...    ...    ...         ...        ...             ...   \n",
       "17347  ENGLAND   PREM  15/16  2015/08/08       Away         Swansea   \n",
       "17348  ENGLAND   PREM  15/16  2015/08/08       Away         Watford   \n",
       "17349  ENGLAND   PREM  15/16  2015/08/08       Away      Sunderland   \n",
       "17350  ENGLAND   PREM  15/16  2015/08/08       Away       Tottenham   \n",
       "17351  ENGLAND   PREM  15/16  2015/08/08       Away  Crystal Palace   \n",
       "\n",
       "       TeamGoals          Opponent  OpponentGoals     Favourite Result  \\\n",
       "0              1       Aston Villa              2     Favourite   Lose   \n",
       "1              0         Newcastle              2     Favourite   Lose   \n",
       "2              2         Tottenham              4     Favourite   Lose   \n",
       "3              0  Sheffield United              1     Favourite   Lose   \n",
       "4              1        Man United              2     Favourite   Lose   \n",
       "...          ...               ...            ...           ...    ...   \n",
       "17347          2           Chelsea              2  NotFavourite   Draw   \n",
       "17348          2           Everton              2  NotFavourite   Draw   \n",
       "17349          2         Leicester              4  NotFavourite   Lose   \n",
       "17350          0        Man United              1  NotFavourite   Lose   \n",
       "17351          3           Norwich              1  NotFavourite    Win   \n",
       "\n",
       "       TotalGoals  TeamOdds  DrawOdds  OpponentOdds  ResultBetWin  \\\n",
       "0               3      1.45       4.6          6.50          -1.0   \n",
       "1               2      2.05       3.8          3.30          -1.0   \n",
       "2               6      2.00       4.0          3.30          -1.0   \n",
       "3               1      2.40       3.6          2.80          -1.0   \n",
       "4               3      2.50       3.5          2.70          -1.0   \n",
       "...           ...       ...       ...           ...           ...   \n",
       "17347           4     11.00       5.0          1.36          -1.0   \n",
       "17348           4      5.50       3.9          1.70          -1.0   \n",
       "17349           6      4.33       3.5          1.95          -1.0   \n",
       "17350           1      6.00       4.0          1.65          -1.0   \n",
       "17351           4      3.00       3.3          2.55           2.0   \n",
       "\n",
       "       ResultBetDraw  ResultBetLose  \n",
       "0               -1.0           5.50  \n",
       "1               -1.0           2.30  \n",
       "2               -1.0           2.30  \n",
       "3               -1.0           1.80  \n",
       "4               -1.0           1.70  \n",
       "...              ...            ...  \n",
       "17347            4.0          -1.00  \n",
       "17348            2.9          -1.00  \n",
       "17349           -1.0           0.95  \n",
       "17350           -1.0           0.65  \n",
       "17351           -1.0          -1.00  \n",
       "\n",
       "[17352 rows x 18 columns]"
      ],
      "text/html": "<div>\n<style scoped>\n    .dataframe tbody tr th:only-of-type {\n        vertical-align: middle;\n    }\n\n    .dataframe tbody tr th {\n        vertical-align: top;\n    }\n\n    .dataframe thead th {\n        text-align: right;\n    }\n</style>\n<table border=\"1\" class=\"dataframe\">\n  <thead>\n    <tr style=\"text-align: right;\">\n      <th></th>\n      <th>Country</th>\n      <th>League</th>\n      <th>Season</th>\n      <th>Date</th>\n      <th>Homeoraway</th>\n      <th>Team</th>\n      <th>TeamGoals</th>\n      <th>Opponent</th>\n      <th>OpponentGoals</th>\n      <th>Favourite</th>\n      <th>Result</th>\n      <th>TotalGoals</th>\n      <th>TeamOdds</th>\n      <th>DrawOdds</th>\n      <th>OpponentOdds</th>\n      <th>ResultBetWin</th>\n      <th>ResultBetDraw</th>\n      <th>ResultBetLose</th>\n    </tr>\n  </thead>\n  <tbody>\n    <tr>\n      <th>0</th>\n      <td>ENGLAND</td>\n      <td>PREM</td>\n      <td>20/21</td>\n      <td>2021/05/23</td>\n      <td>Away</td>\n      <td>Chelsea</td>\n      <td>1</td>\n      <td>Aston Villa</td>\n      <td>2</td>\n      <td>Favourite</td>\n      <td>Lose</td>\n      <td>3</td>\n      <td>1.45</td>\n      <td>4.6</td>\n      <td>6.50</td>\n      <td>-1.0</td>\n      <td>-1.0</td>\n      <td>5.50</td>\n    </tr>\n    <tr>\n      <th>1</th>\n      <td>ENGLAND</td>\n      <td>PREM</td>\n      <td>20/21</td>\n      <td>2021/05/23</td>\n      <td>Home</td>\n      <td>Fulham</td>\n      <td>0</td>\n      <td>Newcastle</td>\n      <td>2</td>\n      <td>Favourite</td>\n      <td>Lose</td>\n      <td>2</td>\n      <td>2.05</td>\n      <td>3.8</td>\n      <td>3.30</td>\n      <td>-1.0</td>\n      <td>-1.0</td>\n      <td>2.30</td>\n    </tr>\n    <tr>\n      <th>2</th>\n      <td>ENGLAND</td>\n      <td>PREM</td>\n      <td>20/21</td>\n      <td>2021/05/23</td>\n      <td>Home</td>\n      <td>Leicester</td>\n      <td>2</td>\n      <td>Tottenham</td>\n      <td>4</td>\n      <td>Favourite</td>\n      <td>Lose</td>\n      <td>6</td>\n      <td>2.00</td>\n      <td>4.0</td>\n      <td>3.30</td>\n      <td>-1.0</td>\n      <td>-1.0</td>\n      <td>2.30</td>\n    </tr>\n    <tr>\n      <th>3</th>\n      <td>ENGLAND</td>\n      <td>PREM</td>\n      <td>20/21</td>\n      <td>2021/05/23</td>\n      <td>Away</td>\n      <td>Burnley</td>\n      <td>0</td>\n      <td>Sheffield United</td>\n      <td>1</td>\n      <td>Favourite</td>\n      <td>Lose</td>\n      <td>1</td>\n      <td>2.40</td>\n      <td>3.6</td>\n      <td>2.80</td>\n      <td>-1.0</td>\n      <td>-1.0</td>\n      <td>1.80</td>\n    </tr>\n    <tr>\n      <th>4</th>\n      <td>ENGLAND</td>\n      <td>PREM</td>\n      <td>20/21</td>\n      <td>2021/05/23</td>\n      <td>Home</td>\n      <td>Wolves</td>\n      <td>1</td>\n      <td>Man United</td>\n      <td>2</td>\n      <td>Favourite</td>\n      <td>Lose</td>\n      <td>3</td>\n      <td>2.50</td>\n      <td>3.5</td>\n      <td>2.70</td>\n      <td>-1.0</td>\n      <td>-1.0</td>\n      <td>1.70</td>\n    </tr>\n    <tr>\n      <th>...</th>\n      <td>...</td>\n      <td>...</td>\n      <td>...</td>\n      <td>...</td>\n      <td>...</td>\n      <td>...</td>\n      <td>...</td>\n      <td>...</td>\n      <td>...</td>\n      <td>...</td>\n      <td>...</td>\n      <td>...</td>\n      <td>...</td>\n      <td>...</td>\n      <td>...</td>\n      <td>...</td>\n      <td>...</td>\n      <td>...</td>\n    </tr>\n    <tr>\n      <th>17347</th>\n      <td>ENGLAND</td>\n      <td>PREM</td>\n      <td>15/16</td>\n      <td>2015/08/08</td>\n      <td>Away</td>\n      <td>Swansea</td>\n      <td>2</td>\n      <td>Chelsea</td>\n      <td>2</td>\n      <td>NotFavourite</td>\n      <td>Draw</td>\n      <td>4</td>\n      <td>11.00</td>\n      <td>5.0</td>\n      <td>1.36</td>\n      <td>-1.0</td>\n      <td>4.0</td>\n      <td>-1.00</td>\n    </tr>\n    <tr>\n      <th>17348</th>\n      <td>ENGLAND</td>\n      <td>PREM</td>\n      <td>15/16</td>\n      <td>2015/08/08</td>\n      <td>Away</td>\n      <td>Watford</td>\n      <td>2</td>\n      <td>Everton</td>\n      <td>2</td>\n      <td>NotFavourite</td>\n      <td>Draw</td>\n      <td>4</td>\n      <td>5.50</td>\n      <td>3.9</td>\n      <td>1.70</td>\n      <td>-1.0</td>\n      <td>2.9</td>\n      <td>-1.00</td>\n    </tr>\n    <tr>\n      <th>17349</th>\n      <td>ENGLAND</td>\n      <td>PREM</td>\n      <td>15/16</td>\n      <td>2015/08/08</td>\n      <td>Away</td>\n      <td>Sunderland</td>\n      <td>2</td>\n      <td>Leicester</td>\n      <td>4</td>\n      <td>NotFavourite</td>\n      <td>Lose</td>\n      <td>6</td>\n      <td>4.33</td>\n      <td>3.5</td>\n      <td>1.95</td>\n      <td>-1.0</td>\n      <td>-1.0</td>\n      <td>0.95</td>\n    </tr>\n    <tr>\n      <th>17350</th>\n      <td>ENGLAND</td>\n      <td>PREM</td>\n      <td>15/16</td>\n      <td>2015/08/08</td>\n      <td>Away</td>\n      <td>Tottenham</td>\n      <td>0</td>\n      <td>Man United</td>\n      <td>1</td>\n      <td>NotFavourite</td>\n      <td>Lose</td>\n      <td>1</td>\n      <td>6.00</td>\n      <td>4.0</td>\n      <td>1.65</td>\n      <td>-1.0</td>\n      <td>-1.0</td>\n      <td>0.65</td>\n    </tr>\n    <tr>\n      <th>17351</th>\n      <td>ENGLAND</td>\n      <td>PREM</td>\n      <td>15/16</td>\n      <td>2015/08/08</td>\n      <td>Away</td>\n      <td>Crystal Palace</td>\n      <td>3</td>\n      <td>Norwich</td>\n      <td>1</td>\n      <td>NotFavourite</td>\n      <td>Win</td>\n      <td>4</td>\n      <td>3.00</td>\n      <td>3.3</td>\n      <td>2.55</td>\n      <td>2.0</td>\n      <td>-1.0</td>\n      <td>-1.00</td>\n    </tr>\n  </tbody>\n</table>\n<p>17352 rows × 18 columns</p>\n</div>"
     },
     "metadata": {},
     "execution_count": 15
    }
   ],
   "source": [
    "football = pd.read_csv(csv_fullpath, index_col=0)\n",
    "football = football.reset_index()\n",
    "football"
   ]
  },
  {
   "source": [
    "============== \n",
    "\n",
    "### SELECT TABLE"
   ],
   "cell_type": "markdown",
   "metadata": {}
  },
  {
   "cell_type": "code",
   "execution_count": 18,
   "metadata": {},
   "outputs": [
    {
     "output_type": "stream",
     "name": "stdout",
     "text": [
      "Executing:\n SELECT * FROM Football\n"
     ]
    },
    {
     "output_type": "execute_result",
     "data": {
      "text/plain": [
       "tuple"
      ]
     },
     "metadata": {},
     "execution_count": 18
    }
   ],
   "source": [
    "# Select\n",
    "select_sql = \"\"\"SELECT * FROM Football\"\"\"\n",
    "select_result = mysql_db.execute_get_sql(sql=select_sql)\n",
    "\n",
    "# tupla de tuplas\n",
    "type(select_result)"
   ]
  },
  {
   "source": [
    "============== \n",
    "\n",
    "### INSERT TABLE"
   ],
   "cell_type": "markdown",
   "metadata": {}
  },
  {
   "source": [
    "# Insert\n",
    "\n",
    "#to_insert_1 = [\"Pepito\", \"Wolfram_Eustaquio\", \"Calle Bellavista 9º-B\", \"67\", \"Enfermedad: Ceguera\"]\n",
    "#to_insert_2 = [\"Juanita\", \"Data Science\", \"Calle Recoletos\", \"15\", \"Está muy alegre siempre\"]\n",
    "\n",
    "#sql_to_insert_1 = mysql_db.generate_insert_into_people_sql(to_insert=to_insert_1)\n",
    "#sql_to_insert_2 = mysql_db.generate_insert_into_people_sql(to_insert=to_insert_2)"
   ],
   "cell_type": "code",
   "metadata": {},
   "execution_count": null,
   "outputs": []
  },
  {
   "cell_type": "code",
   "execution_count": null,
   "metadata": {},
   "outputs": [],
   "source": [
    "#sql_to_insert_1"
   ]
  },
  {
   "cell_type": "code",
   "execution_count": null,
   "metadata": {},
   "outputs": [],
   "source": [
    "# Otra forma de insert\n",
    "#mysql_db.execute_interactive_sql(sql=\"\"\"INSERT INTO people \n",
    "(MOMENTO, NOMBRE, APELLIDOS, DIRECCION, EDAD, NOTA) \n",
    "VALUES \n",
    "(NOW(), 'Pepito', 'Wolfram_Eustaquio', 'Calle Bellavista 9º-B', '67', 'Enfermedad: Ceguera')\"\"\")"
   ]
  },
  {
   "cell_type": "code",
   "execution_count": null,
   "metadata": {},
   "outputs": [],
   "source": [
    "#mysql_db.execute_interactive_sql(sql=sql_to_insert_1)\n",
    "#mysql_db.execute_interactive_sql(sql=sql_to_insert_2)"
   ]
  },
  {
   "source": [
    "=====================\n",
    "\n",
    "### SELECT COLUMNS"
   ],
   "cell_type": "markdown",
   "metadata": {}
  },
  {
   "cell_type": "code",
   "execution_count": null,
   "metadata": {},
   "outputs": [],
   "source": [
    "#select_sql = \"\"\"SELECT * FROM people\"\"\"\n",
    "#select_result = mysql_db.execute_get_sql(sql=select_sql)\n",
    "#select_result"
   ]
  },
  {
   "cell_type": "code",
   "execution_count": null,
   "metadata": {},
   "outputs": [],
   "source": [
    "#sql_drop = \"\"\"DELETE FROM people WHERE NOMBRE='Pepito';\"\"\"\n",
    "#mysql_db.execute_interactive_sql(sql=sql_drop)"
   ]
  },
  {
   "cell_type": "code",
   "execution_count": null,
   "metadata": {},
   "outputs": [],
   "source": [
    "#select_sql = \"\"\"SELECT * FROM people\"\"\"\n",
    "#select_result = mysql_db.execute_get_sql(sql=select_sql)\n",
    "#select_result"
   ]
  },
  {
   "source": [
    "# WITH PANDAS"
   ],
   "cell_type": "markdown",
   "metadata": {}
  },
  {
   "source": [
    "### Select with pandas"
   ],
   "cell_type": "markdown",
   "metadata": {}
  },
  {
   "cell_type": "code",
   "execution_count": null,
   "metadata": {},
   "outputs": [],
   "source": [
    "# Usar estas 4 lineas para enviar los csv limpios a mysql"
   ]
  },
  {
   "cell_type": "code",
   "execution_count": 27,
   "metadata": {},
   "outputs": [],
   "source": [
    "#engine = create_engine(f'mysql+pymysql://{USER}:{PASSWORD}@{IP_DNS}:{PORT}/{BD_NAME}')"
   ]
  },
  {
   "cell_type": "code",
   "execution_count": 50,
   "metadata": {},
   "outputs": [],
   "source": [
    "#football.to_sql('Football', con = engine, index=False, if_exists='replace')"
   ]
  },
  {
   "cell_type": "code",
   "execution_count": 44,
   "metadata": {},
   "outputs": [],
   "source": [
    "#nfl.to_sql('NFL', con = engine, index=False, if_exists='replace')"
   ]
  },
  {
   "cell_type": "code",
   "execution_count": 41,
   "metadata": {},
   "outputs": [],
   "source": [
    "#NBA.to_sql('NBA', con = engine, index=False, if_exists='replace')"
   ]
  },
  {
   "source": [
    "### Insert from pandas"
   ],
   "cell_type": "markdown",
   "metadata": {}
  },
  {
   "source": [
    "=============================\n",
    "\n",
    "### Update row"
   ],
   "cell_type": "markdown",
   "metadata": {}
  },
  {
   "cell_type": "code",
   "execution_count": null,
   "metadata": {},
   "outputs": [],
   "source": [
    "#mysql_db.close()"
   ]
  },
  {
   "source": [
    "### Ejemplo trabajar directamente con pandas"
   ],
   "cell_type": "markdown",
   "metadata": {}
  },
  {
   "cell_type": "code",
   "execution_count": null,
   "metadata": {},
   "outputs": [],
   "source": [
    "# Version 2\n",
    "#db_connection_str = mysql_db.SQL_ALCHEMY\n",
    "#db_connection = create_engine(db_connection_str)\n",
    "\n",
    "#df1 = pd.read_sql(\"select * from people\", con=db_connection)\n",
    "\n",
    "#df1"
   ]
  },
  {
   "cell_type": "code",
   "execution_count": null,
   "metadata": {},
   "outputs": [],
   "source": [
    "#df1 = df1[df1.ID <= 5]\n",
    "#df1"
   ]
  },
  {
   "cell_type": "code",
   "execution_count": null,
   "metadata": {},
   "outputs": [],
   "source": [
    "# Example\n",
    "\n",
    "#table_to_insert = \"people\"\n",
    "\n",
    "#to_append = \"append\"\n",
    "#to_replace = \"replace\"\n",
    "\n",
    "#try:\n",
    "    #frame_sql = df1.to_sql(name=\"people\", con=db_connection, if_exists=\"replace\", index=False)\n",
    "    #print(\"Success\")\n",
    "#except Exception as error:\n",
    "    #print(error)"
   ]
  },
  {
   "source": [
    "### Interactuando directamente con la base de datos sin pasar por pandas"
   ],
   "cell_type": "markdown",
   "metadata": {}
  },
  {
   "cell_type": "code",
   "execution_count": null,
   "metadata": {},
   "outputs": [],
   "source": [
    "#sql2 = \"\"\"DELETE FROM people WHERE ID>5;\"\"\"\n",
    "\n",
    "#mysql_db.execute_interactive_sql(sql=sql2)"
   ]
  }
 ]
}