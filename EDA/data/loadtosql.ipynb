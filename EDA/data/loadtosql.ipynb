{
 "metadata": {
  "language_info": {
   "codemirror_mode": {
    "name": "ipython",
    "version": 3
   },
   "file_extension": ".py",
   "mimetype": "text/x-python",
   "name": "python",
   "nbconvert_exporter": "python",
   "pygments_lexer": "ipython3",
   "version": "3.7.4"
  },
  "orig_nbformat": 2,
  "kernelspec": {
   "name": "python374jvsc74a57bd016eb897c26cdfcf18817bc60a8e0737e3939ff1e8491198c807979170104e811",
   "display_name": "Python 3.7.4 64-bit"
  },
  "metadata": {
   "interpreter": {
    "hash": "16eb897c26cdfcf18817bc60a8e0737e3939ff1e8491198c807979170104e811"
   }
  }
 },
 "nbformat": 4,
 "nbformat_minor": 2,
 "cells": [
  {
   "cell_type": "code",
   "execution_count": 2,
   "metadata": {},
   "outputs": [],
   "source": [
    "import pandas as pd"
   ]
  },
  {
   "cell_type": "code",
   "execution_count": 3,
   "metadata": {},
   "outputs": [],
   "source": [
    "nfl = pd.read_csv('NFL ready.csv', index_col=False, delimiter = ',')"
   ]
  },
  {
   "cell_type": "code",
   "execution_count": 4,
   "metadata": {},
   "outputs": [
    {
     "output_type": "execute_result",
     "data": {
      "text/plain": [
       "   Country League Season      Date                  Team Homeoraway  TeamOdds  \\\n",
       "0      USA    NFL  20/21  07/02/21  Tampa Bay Buccaneers       Home      2.55   \n",
       "1      USA    NFL  20/21  07/02/21    Kansas City Chiefs       Away      1.57   \n",
       "2      USA    NFL  20/21  24/01/21    Kansas City Chiefs       Home      1.66   \n",
       "3      USA    NFL  20/21  24/01/21     Green Bay Packers       Home      1.50   \n",
       "4      USA    NFL  20/21  24/01/21         Buffalo Bills       Away      2.30   \n",
       "5      USA    NFL  20/21  24/01/21  Tampa Bay Buccaneers       Away      2.70   \n",
       "6      USA    NFL  20/21  17/01/21    New Orleans Saints       Home      1.52   \n",
       "7      USA    NFL  20/21  17/01/21    Kansas City Chiefs       Home      1.20   \n",
       "8      USA    NFL  20/21  17/01/21  Tampa Bay Buccaneers       Away      2.67   \n",
       "9      USA    NFL  20/21  17/01/21      Cleveland Browns       Away      4.75   \n",
       "10     USA    NFL  20/21  16/01/21         Buffalo Bills       Home      1.66   \n",
       "11     USA    NFL  20/21  16/01/21     Green Bay Packers       Home      1.29   \n",
       "12     USA    NFL  20/21  16/01/21      Baltimore Ravens       Away      2.30   \n",
       "13     USA    NFL  20/21  16/01/21      Los Angeles Rams       Away      3.70   \n",
       "14     USA    NFL  20/21  10/01/21   Pittsburgh Steelers       Home      1.50   \n",
       "15     USA    NFL  20/21  10/01/21    New Orleans Saints       Home      1.22   \n",
       "16     USA    NFL  20/21  10/01/21      Tennessee Titans       Home      2.65   \n",
       "17     USA    NFL  20/21  10/01/21      Cleveland Browns       Away      2.70   \n",
       "18     USA    NFL  20/21  10/01/21         Chicago Bears       Away      4.50   \n",
       "19     USA    NFL  20/21  10/01/21      Baltimore Ravens       Away      1.54   \n",
       "\n",
       "    TeamScore              Opponent  OpponentOdds  OpponentScore Result  \\\n",
       "0          31    Kansas City Chiefs          1.57              9    Win   \n",
       "1           9  Tampa Bay Buccaneers          2.55             31   Lose   \n",
       "2          38         Buffalo Bills          2.30             24    Win   \n",
       "3          26  Tampa Bay Buccaneers          2.70             31   Lose   \n",
       "4          24    Kansas City Chiefs          1.66             38   Lose   \n",
       "5          31     Green Bay Packers          1.50             26    Win   \n",
       "6          20  Tampa Bay Buccaneers          2.67             30   Lose   \n",
       "7          22      Cleveland Browns          4.75             17    Win   \n",
       "8          30    New Orleans Saints          1.52             20    Win   \n",
       "9          17    Kansas City Chiefs          1.20             22   Lose   \n",
       "10         17      Baltimore Ravens          2.30              3    Win   \n",
       "11         32      Los Angeles Rams          3.70             18    Win   \n",
       "12          3         Buffalo Bills          1.66             17   Lose   \n",
       "13         18     Green Bay Packers          1.29             32   Lose   \n",
       "14         37      Cleveland Browns          2.70             48   Lose   \n",
       "15         21         Chicago Bears          4.50              9    Win   \n",
       "16         13      Baltimore Ravens          1.54             20   Lose   \n",
       "17         48   Pittsburgh Steelers          1.50             37    Win   \n",
       "18          9    New Orleans Saints          1.22             21   Lose   \n",
       "19         20      Tennessee Titans          2.65             13    Win   \n",
       "\n",
       "       Favourite  TotalScorePred  TotalScore  ResultBetWin  ResultBetLose  \\\n",
       "0   NotFavourite            57.0          40          1.55          -1.00   \n",
       "1      Favourite            57.0          40         -1.00           1.55   \n",
       "2      Favourite            52.0          62          0.66          -1.00   \n",
       "3      Favourite            51.0          57         -1.00           1.70   \n",
       "4   NotFavourite            52.0          62         -1.00           0.66   \n",
       "5   NotFavourite            51.0          57          1.70          -1.00   \n",
       "6      Favourite            50.0          50         -1.00           1.67   \n",
       "7      Favourite            56.0          39          0.20          -1.00   \n",
       "8   NotFavourite            50.0          50          1.67          -1.00   \n",
       "9   NotFavourite            56.0          39         -1.00           0.20   \n",
       "10     Favourite            50.0          20          0.66          -1.00   \n",
       "11     Favourite            46.0          50          0.29          -1.00   \n",
       "12  NotFavourite            50.0          20         -1.00           0.66   \n",
       "13  NotFavourite            46.0          50         -1.00           0.29   \n",
       "14     Favourite            47.0          85         -1.00           1.70   \n",
       "15     Favourite            48.0          30          0.22          -1.00   \n",
       "16  NotFavourite            54.0          33         -1.00           0.54   \n",
       "17  NotFavourite            47.0          85          1.70          -1.00   \n",
       "18  NotFavourite            48.0          30         -1.00           0.22   \n",
       "19     Favourite            54.0          33          0.54          -1.00   \n",
       "\n",
       "    TotalfromPred Playoff Game?  \n",
       "0           -17.0             Y  \n",
       "1           -17.0             Y  \n",
       "2            10.0             Y  \n",
       "3             6.0             Y  \n",
       "4            10.0             Y  \n",
       "5             6.0             Y  \n",
       "6             0.0             Y  \n",
       "7           -17.0             Y  \n",
       "8             0.0             Y  \n",
       "9           -17.0             Y  \n",
       "10          -30.0             Y  \n",
       "11            4.0             Y  \n",
       "12          -30.0             Y  \n",
       "13            4.0             Y  \n",
       "14           38.0             Y  \n",
       "15          -18.0             Y  \n",
       "16          -21.0             Y  \n",
       "17           38.0             Y  \n",
       "18          -18.0             Y  \n",
       "19          -21.0             Y  "
      ],
      "text/html": "<div>\n<style scoped>\n    .dataframe tbody tr th:only-of-type {\n        vertical-align: middle;\n    }\n\n    .dataframe tbody tr th {\n        vertical-align: top;\n    }\n\n    .dataframe thead th {\n        text-align: right;\n    }\n</style>\n<table border=\"1\" class=\"dataframe\">\n  <thead>\n    <tr style=\"text-align: right;\">\n      <th></th>\n      <th>Country</th>\n      <th>League</th>\n      <th>Season</th>\n      <th>Date</th>\n      <th>Team</th>\n      <th>Homeoraway</th>\n      <th>TeamOdds</th>\n      <th>TeamScore</th>\n      <th>Opponent</th>\n      <th>OpponentOdds</th>\n      <th>OpponentScore</th>\n      <th>Result</th>\n      <th>Favourite</th>\n      <th>TotalScorePred</th>\n      <th>TotalScore</th>\n      <th>ResultBetWin</th>\n      <th>ResultBetLose</th>\n      <th>TotalfromPred</th>\n      <th>Playoff Game?</th>\n    </tr>\n  </thead>\n  <tbody>\n    <tr>\n      <th>0</th>\n      <td>USA</td>\n      <td>NFL</td>\n      <td>20/21</td>\n      <td>07/02/21</td>\n      <td>Tampa Bay Buccaneers</td>\n      <td>Home</td>\n      <td>2.55</td>\n      <td>31</td>\n      <td>Kansas City Chiefs</td>\n      <td>1.57</td>\n      <td>9</td>\n      <td>Win</td>\n      <td>NotFavourite</td>\n      <td>57.0</td>\n      <td>40</td>\n      <td>1.55</td>\n      <td>-1.00</td>\n      <td>-17.0</td>\n      <td>Y</td>\n    </tr>\n    <tr>\n      <th>1</th>\n      <td>USA</td>\n      <td>NFL</td>\n      <td>20/21</td>\n      <td>07/02/21</td>\n      <td>Kansas City Chiefs</td>\n      <td>Away</td>\n      <td>1.57</td>\n      <td>9</td>\n      <td>Tampa Bay Buccaneers</td>\n      <td>2.55</td>\n      <td>31</td>\n      <td>Lose</td>\n      <td>Favourite</td>\n      <td>57.0</td>\n      <td>40</td>\n      <td>-1.00</td>\n      <td>1.55</td>\n      <td>-17.0</td>\n      <td>Y</td>\n    </tr>\n    <tr>\n      <th>2</th>\n      <td>USA</td>\n      <td>NFL</td>\n      <td>20/21</td>\n      <td>24/01/21</td>\n      <td>Kansas City Chiefs</td>\n      <td>Home</td>\n      <td>1.66</td>\n      <td>38</td>\n      <td>Buffalo Bills</td>\n      <td>2.30</td>\n      <td>24</td>\n      <td>Win</td>\n      <td>Favourite</td>\n      <td>52.0</td>\n      <td>62</td>\n      <td>0.66</td>\n      <td>-1.00</td>\n      <td>10.0</td>\n      <td>Y</td>\n    </tr>\n    <tr>\n      <th>3</th>\n      <td>USA</td>\n      <td>NFL</td>\n      <td>20/21</td>\n      <td>24/01/21</td>\n      <td>Green Bay Packers</td>\n      <td>Home</td>\n      <td>1.50</td>\n      <td>26</td>\n      <td>Tampa Bay Buccaneers</td>\n      <td>2.70</td>\n      <td>31</td>\n      <td>Lose</td>\n      <td>Favourite</td>\n      <td>51.0</td>\n      <td>57</td>\n      <td>-1.00</td>\n      <td>1.70</td>\n      <td>6.0</td>\n      <td>Y</td>\n    </tr>\n    <tr>\n      <th>4</th>\n      <td>USA</td>\n      <td>NFL</td>\n      <td>20/21</td>\n      <td>24/01/21</td>\n      <td>Buffalo Bills</td>\n      <td>Away</td>\n      <td>2.30</td>\n      <td>24</td>\n      <td>Kansas City Chiefs</td>\n      <td>1.66</td>\n      <td>38</td>\n      <td>Lose</td>\n      <td>NotFavourite</td>\n      <td>52.0</td>\n      <td>62</td>\n      <td>-1.00</td>\n      <td>0.66</td>\n      <td>10.0</td>\n      <td>Y</td>\n    </tr>\n    <tr>\n      <th>5</th>\n      <td>USA</td>\n      <td>NFL</td>\n      <td>20/21</td>\n      <td>24/01/21</td>\n      <td>Tampa Bay Buccaneers</td>\n      <td>Away</td>\n      <td>2.70</td>\n      <td>31</td>\n      <td>Green Bay Packers</td>\n      <td>1.50</td>\n      <td>26</td>\n      <td>Win</td>\n      <td>NotFavourite</td>\n      <td>51.0</td>\n      <td>57</td>\n      <td>1.70</td>\n      <td>-1.00</td>\n      <td>6.0</td>\n      <td>Y</td>\n    </tr>\n    <tr>\n      <th>6</th>\n      <td>USA</td>\n      <td>NFL</td>\n      <td>20/21</td>\n      <td>17/01/21</td>\n      <td>New Orleans Saints</td>\n      <td>Home</td>\n      <td>1.52</td>\n      <td>20</td>\n      <td>Tampa Bay Buccaneers</td>\n      <td>2.67</td>\n      <td>30</td>\n      <td>Lose</td>\n      <td>Favourite</td>\n      <td>50.0</td>\n      <td>50</td>\n      <td>-1.00</td>\n      <td>1.67</td>\n      <td>0.0</td>\n      <td>Y</td>\n    </tr>\n    <tr>\n      <th>7</th>\n      <td>USA</td>\n      <td>NFL</td>\n      <td>20/21</td>\n      <td>17/01/21</td>\n      <td>Kansas City Chiefs</td>\n      <td>Home</td>\n      <td>1.20</td>\n      <td>22</td>\n      <td>Cleveland Browns</td>\n      <td>4.75</td>\n      <td>17</td>\n      <td>Win</td>\n      <td>Favourite</td>\n      <td>56.0</td>\n      <td>39</td>\n      <td>0.20</td>\n      <td>-1.00</td>\n      <td>-17.0</td>\n      <td>Y</td>\n    </tr>\n    <tr>\n      <th>8</th>\n      <td>USA</td>\n      <td>NFL</td>\n      <td>20/21</td>\n      <td>17/01/21</td>\n      <td>Tampa Bay Buccaneers</td>\n      <td>Away</td>\n      <td>2.67</td>\n      <td>30</td>\n      <td>New Orleans Saints</td>\n      <td>1.52</td>\n      <td>20</td>\n      <td>Win</td>\n      <td>NotFavourite</td>\n      <td>50.0</td>\n      <td>50</td>\n      <td>1.67</td>\n      <td>-1.00</td>\n      <td>0.0</td>\n      <td>Y</td>\n    </tr>\n    <tr>\n      <th>9</th>\n      <td>USA</td>\n      <td>NFL</td>\n      <td>20/21</td>\n      <td>17/01/21</td>\n      <td>Cleveland Browns</td>\n      <td>Away</td>\n      <td>4.75</td>\n      <td>17</td>\n      <td>Kansas City Chiefs</td>\n      <td>1.20</td>\n      <td>22</td>\n      <td>Lose</td>\n      <td>NotFavourite</td>\n      <td>56.0</td>\n      <td>39</td>\n      <td>-1.00</td>\n      <td>0.20</td>\n      <td>-17.0</td>\n      <td>Y</td>\n    </tr>\n    <tr>\n      <th>10</th>\n      <td>USA</td>\n      <td>NFL</td>\n      <td>20/21</td>\n      <td>16/01/21</td>\n      <td>Buffalo Bills</td>\n      <td>Home</td>\n      <td>1.66</td>\n      <td>17</td>\n      <td>Baltimore Ravens</td>\n      <td>2.30</td>\n      <td>3</td>\n      <td>Win</td>\n      <td>Favourite</td>\n      <td>50.0</td>\n      <td>20</td>\n      <td>0.66</td>\n      <td>-1.00</td>\n      <td>-30.0</td>\n      <td>Y</td>\n    </tr>\n    <tr>\n      <th>11</th>\n      <td>USA</td>\n      <td>NFL</td>\n      <td>20/21</td>\n      <td>16/01/21</td>\n      <td>Green Bay Packers</td>\n      <td>Home</td>\n      <td>1.29</td>\n      <td>32</td>\n      <td>Los Angeles Rams</td>\n      <td>3.70</td>\n      <td>18</td>\n      <td>Win</td>\n      <td>Favourite</td>\n      <td>46.0</td>\n      <td>50</td>\n      <td>0.29</td>\n      <td>-1.00</td>\n      <td>4.0</td>\n      <td>Y</td>\n    </tr>\n    <tr>\n      <th>12</th>\n      <td>USA</td>\n      <td>NFL</td>\n      <td>20/21</td>\n      <td>16/01/21</td>\n      <td>Baltimore Ravens</td>\n      <td>Away</td>\n      <td>2.30</td>\n      <td>3</td>\n      <td>Buffalo Bills</td>\n      <td>1.66</td>\n      <td>17</td>\n      <td>Lose</td>\n      <td>NotFavourite</td>\n      <td>50.0</td>\n      <td>20</td>\n      <td>-1.00</td>\n      <td>0.66</td>\n      <td>-30.0</td>\n      <td>Y</td>\n    </tr>\n    <tr>\n      <th>13</th>\n      <td>USA</td>\n      <td>NFL</td>\n      <td>20/21</td>\n      <td>16/01/21</td>\n      <td>Los Angeles Rams</td>\n      <td>Away</td>\n      <td>3.70</td>\n      <td>18</td>\n      <td>Green Bay Packers</td>\n      <td>1.29</td>\n      <td>32</td>\n      <td>Lose</td>\n      <td>NotFavourite</td>\n      <td>46.0</td>\n      <td>50</td>\n      <td>-1.00</td>\n      <td>0.29</td>\n      <td>4.0</td>\n      <td>Y</td>\n    </tr>\n    <tr>\n      <th>14</th>\n      <td>USA</td>\n      <td>NFL</td>\n      <td>20/21</td>\n      <td>10/01/21</td>\n      <td>Pittsburgh Steelers</td>\n      <td>Home</td>\n      <td>1.50</td>\n      <td>37</td>\n      <td>Cleveland Browns</td>\n      <td>2.70</td>\n      <td>48</td>\n      <td>Lose</td>\n      <td>Favourite</td>\n      <td>47.0</td>\n      <td>85</td>\n      <td>-1.00</td>\n      <td>1.70</td>\n      <td>38.0</td>\n      <td>Y</td>\n    </tr>\n    <tr>\n      <th>15</th>\n      <td>USA</td>\n      <td>NFL</td>\n      <td>20/21</td>\n      <td>10/01/21</td>\n      <td>New Orleans Saints</td>\n      <td>Home</td>\n      <td>1.22</td>\n      <td>21</td>\n      <td>Chicago Bears</td>\n      <td>4.50</td>\n      <td>9</td>\n      <td>Win</td>\n      <td>Favourite</td>\n      <td>48.0</td>\n      <td>30</td>\n      <td>0.22</td>\n      <td>-1.00</td>\n      <td>-18.0</td>\n      <td>Y</td>\n    </tr>\n    <tr>\n      <th>16</th>\n      <td>USA</td>\n      <td>NFL</td>\n      <td>20/21</td>\n      <td>10/01/21</td>\n      <td>Tennessee Titans</td>\n      <td>Home</td>\n      <td>2.65</td>\n      <td>13</td>\n      <td>Baltimore Ravens</td>\n      <td>1.54</td>\n      <td>20</td>\n      <td>Lose</td>\n      <td>NotFavourite</td>\n      <td>54.0</td>\n      <td>33</td>\n      <td>-1.00</td>\n      <td>0.54</td>\n      <td>-21.0</td>\n      <td>Y</td>\n    </tr>\n    <tr>\n      <th>17</th>\n      <td>USA</td>\n      <td>NFL</td>\n      <td>20/21</td>\n      <td>10/01/21</td>\n      <td>Cleveland Browns</td>\n      <td>Away</td>\n      <td>2.70</td>\n      <td>48</td>\n      <td>Pittsburgh Steelers</td>\n      <td>1.50</td>\n      <td>37</td>\n      <td>Win</td>\n      <td>NotFavourite</td>\n      <td>47.0</td>\n      <td>85</td>\n      <td>1.70</td>\n      <td>-1.00</td>\n      <td>38.0</td>\n      <td>Y</td>\n    </tr>\n    <tr>\n      <th>18</th>\n      <td>USA</td>\n      <td>NFL</td>\n      <td>20/21</td>\n      <td>10/01/21</td>\n      <td>Chicago Bears</td>\n      <td>Away</td>\n      <td>4.50</td>\n      <td>9</td>\n      <td>New Orleans Saints</td>\n      <td>1.22</td>\n      <td>21</td>\n      <td>Lose</td>\n      <td>NotFavourite</td>\n      <td>48.0</td>\n      <td>30</td>\n      <td>-1.00</td>\n      <td>0.22</td>\n      <td>-18.0</td>\n      <td>Y</td>\n    </tr>\n    <tr>\n      <th>19</th>\n      <td>USA</td>\n      <td>NFL</td>\n      <td>20/21</td>\n      <td>10/01/21</td>\n      <td>Baltimore Ravens</td>\n      <td>Away</td>\n      <td>1.54</td>\n      <td>20</td>\n      <td>Tennessee Titans</td>\n      <td>2.65</td>\n      <td>13</td>\n      <td>Win</td>\n      <td>Favourite</td>\n      <td>54.0</td>\n      <td>33</td>\n      <td>0.54</td>\n      <td>-1.00</td>\n      <td>-21.0</td>\n      <td>Y</td>\n    </tr>\n  </tbody>\n</table>\n</div>"
     },
     "metadata": {},
     "execution_count": 4
    }
   ],
   "source": [
    "nfl.head(20)"
   ]
  },
  {
   "cell_type": "code",
   "execution_count": 8,
   "metadata": {},
   "outputs": [],
   "source": [
    "import mysql.connector"
   ]
  },
  {
   "cell_type": "code",
   "execution_count": 14,
   "metadata": {},
   "outputs": [
    {
     "output_type": "error",
     "ename": "ProgrammingError",
     "evalue": "1044 (42000): Access denied for user 'x9808164k'@'%' to database 'danielwalker87_db_tb'",
     "traceback": [
      "\u001b[1;31m---------------------------------------------------------------------------\u001b[0m",
      "\u001b[1;31mMySQLInterfaceError\u001b[0m                       Traceback (most recent call last)",
      "\u001b[1;32m~\\AppData\\Local\\Programs\\Python\\Python37\\lib\\site-packages\\mysql\\connector\\connection_cext.py\u001b[0m in \u001b[0;36m_open_connection\u001b[1;34m(self)\u001b[0m\n\u001b[0;32m    231\u001b[0m         \u001b[1;32mtry\u001b[0m\u001b[1;33m:\u001b[0m\u001b[1;33m\u001b[0m\u001b[1;33m\u001b[0m\u001b[0m\n\u001b[1;32m--> 232\u001b[1;33m             \u001b[0mself\u001b[0m\u001b[1;33m.\u001b[0m\u001b[0m_cmysql\u001b[0m\u001b[1;33m.\u001b[0m\u001b[0mconnect\u001b[0m\u001b[1;33m(\u001b[0m\u001b[1;33m**\u001b[0m\u001b[0mcnx_kwargs\u001b[0m\u001b[1;33m)\u001b[0m\u001b[1;33m\u001b[0m\u001b[1;33m\u001b[0m\u001b[0m\n\u001b[0m\u001b[0;32m    233\u001b[0m         \u001b[1;32mexcept\u001b[0m \u001b[0mMySQLInterfaceError\u001b[0m \u001b[1;32mas\u001b[0m \u001b[0mexc\u001b[0m\u001b[1;33m:\u001b[0m\u001b[1;33m\u001b[0m\u001b[1;33m\u001b[0m\u001b[0m\n",
      "\u001b[1;31mMySQLInterfaceError\u001b[0m: Access denied for user 'x9808164k'@'%' to database 'danielwalker87_db_tb'",
      "\nDuring handling of the above exception, another exception occurred:\n",
      "\u001b[1;31mProgrammingError\u001b[0m                          Traceback (most recent call last)",
      "\u001b[1;32m<ipython-input-14-9344ef2261e5>\u001b[0m in \u001b[0;36m<module>\u001b[1;34m\u001b[0m\n\u001b[0;32m      1\u001b[0m cnx = mysql.connector.connect(user='x9808164k', password='danielwalker87',\n\u001b[0;32m      2\u001b[0m                               \u001b[0mhost\u001b[0m\u001b[1;33m=\u001b[0m\u001b[1;34m'54.87.229.244'\u001b[0m\u001b[1;33m,\u001b[0m \u001b[0mport\u001b[0m\u001b[1;33m=\u001b[0m\u001b[1;34m'25001'\u001b[0m\u001b[1;33m,\u001b[0m\u001b[1;33m\u001b[0m\u001b[1;33m\u001b[0m\u001b[0m\n\u001b[1;32m----> 3\u001b[1;33m                               database='danielwalker87_db_tb')\n\u001b[0m\u001b[0;32m      4\u001b[0m \u001b[1;33m\u001b[0m\u001b[0m\n\u001b[0;32m      5\u001b[0m \u001b[0mmycursor\u001b[0m \u001b[1;33m=\u001b[0m \u001b[0mmydb\u001b[0m\u001b[1;33m.\u001b[0m\u001b[0mcursor\u001b[0m\u001b[1;33m(\u001b[0m\u001b[1;33m)\u001b[0m\u001b[1;33m\u001b[0m\u001b[1;33m\u001b[0m\u001b[0m\n",
      "\u001b[1;32m~\\AppData\\Local\\Programs\\Python\\Python37\\lib\\site-packages\\mysql\\connector\\__init__.py\u001b[0m in \u001b[0;36mconnect\u001b[1;34m(*args, **kwargs)\u001b[0m\n\u001b[0;32m    270\u001b[0m \u001b[1;33m\u001b[0m\u001b[0m\n\u001b[0;32m    271\u001b[0m     \u001b[1;32mif\u001b[0m \u001b[0mHAVE_CEXT\u001b[0m \u001b[1;32mand\u001b[0m \u001b[1;32mnot\u001b[0m \u001b[0muse_pure\u001b[0m\u001b[1;33m:\u001b[0m\u001b[1;33m\u001b[0m\u001b[1;33m\u001b[0m\u001b[0m\n\u001b[1;32m--> 272\u001b[1;33m         \u001b[1;32mreturn\u001b[0m \u001b[0mCMySQLConnection\u001b[0m\u001b[1;33m(\u001b[0m\u001b[1;33m*\u001b[0m\u001b[0margs\u001b[0m\u001b[1;33m,\u001b[0m \u001b[1;33m**\u001b[0m\u001b[0mkwargs\u001b[0m\u001b[1;33m)\u001b[0m\u001b[1;33m\u001b[0m\u001b[1;33m\u001b[0m\u001b[0m\n\u001b[0m\u001b[0;32m    273\u001b[0m     \u001b[1;32mreturn\u001b[0m \u001b[0mMySQLConnection\u001b[0m\u001b[1;33m(\u001b[0m\u001b[1;33m*\u001b[0m\u001b[0margs\u001b[0m\u001b[1;33m,\u001b[0m \u001b[1;33m**\u001b[0m\u001b[0mkwargs\u001b[0m\u001b[1;33m)\u001b[0m\u001b[1;33m\u001b[0m\u001b[1;33m\u001b[0m\u001b[0m\n\u001b[0;32m    274\u001b[0m \u001b[0mConnect\u001b[0m \u001b[1;33m=\u001b[0m \u001b[0mconnect\u001b[0m  \u001b[1;31m# pylint: disable=C0103\u001b[0m\u001b[1;33m\u001b[0m\u001b[1;33m\u001b[0m\u001b[0m\n",
      "\u001b[1;32m~\\AppData\\Local\\Programs\\Python\\Python37\\lib\\site-packages\\mysql\\connector\\connection_cext.py\u001b[0m in \u001b[0;36m__init__\u001b[1;34m(self, **kwargs)\u001b[0m\n\u001b[0;32m     83\u001b[0m \u001b[1;33m\u001b[0m\u001b[0m\n\u001b[0;32m     84\u001b[0m         \u001b[1;32mif\u001b[0m \u001b[0mkwargs\u001b[0m\u001b[1;33m:\u001b[0m\u001b[1;33m\u001b[0m\u001b[1;33m\u001b[0m\u001b[0m\n\u001b[1;32m---> 85\u001b[1;33m             \u001b[0mself\u001b[0m\u001b[1;33m.\u001b[0m\u001b[0mconnect\u001b[0m\u001b[1;33m(\u001b[0m\u001b[1;33m**\u001b[0m\u001b[0mkwargs\u001b[0m\u001b[1;33m)\u001b[0m\u001b[1;33m\u001b[0m\u001b[1;33m\u001b[0m\u001b[0m\n\u001b[0m\u001b[0;32m     86\u001b[0m \u001b[1;33m\u001b[0m\u001b[0m\n\u001b[0;32m     87\u001b[0m     \u001b[1;32mdef\u001b[0m \u001b[0m_add_default_conn_attrs\u001b[0m\u001b[1;33m(\u001b[0m\u001b[0mself\u001b[0m\u001b[1;33m)\u001b[0m\u001b[1;33m:\u001b[0m\u001b[1;33m\u001b[0m\u001b[1;33m\u001b[0m\u001b[0m\n",
      "\u001b[1;32m~\\AppData\\Local\\Programs\\Python\\Python37\\lib\\site-packages\\mysql\\connector\\abstracts.py\u001b[0m in \u001b[0;36mconnect\u001b[1;34m(self, **kwargs)\u001b[0m\n\u001b[0;32m   1001\u001b[0m \u001b[1;33m\u001b[0m\u001b[0m\n\u001b[0;32m   1002\u001b[0m         \u001b[0mself\u001b[0m\u001b[1;33m.\u001b[0m\u001b[0mdisconnect\u001b[0m\u001b[1;33m(\u001b[0m\u001b[1;33m)\u001b[0m\u001b[1;33m\u001b[0m\u001b[1;33m\u001b[0m\u001b[0m\n\u001b[1;32m-> 1003\u001b[1;33m         \u001b[0mself\u001b[0m\u001b[1;33m.\u001b[0m\u001b[0m_open_connection\u001b[0m\u001b[1;33m(\u001b[0m\u001b[1;33m)\u001b[0m\u001b[1;33m\u001b[0m\u001b[1;33m\u001b[0m\u001b[0m\n\u001b[0m\u001b[0;32m   1004\u001b[0m         \u001b[1;31m# Server does not allow to run any other statement different from ALTER\u001b[0m\u001b[1;33m\u001b[0m\u001b[1;33m\u001b[0m\u001b[1;33m\u001b[0m\u001b[0m\n\u001b[0;32m   1005\u001b[0m         \u001b[1;31m# when user's password has been expired.\u001b[0m\u001b[1;33m\u001b[0m\u001b[1;33m\u001b[0m\u001b[1;33m\u001b[0m\u001b[0m\n",
      "\u001b[1;32m~\\AppData\\Local\\Programs\\Python\\Python37\\lib\\site-packages\\mysql\\connector\\connection_cext.py\u001b[0m in \u001b[0;36m_open_connection\u001b[1;34m(self)\u001b[0m\n\u001b[0;32m    233\u001b[0m         \u001b[1;32mexcept\u001b[0m \u001b[0mMySQLInterfaceError\u001b[0m \u001b[1;32mas\u001b[0m \u001b[0mexc\u001b[0m\u001b[1;33m:\u001b[0m\u001b[1;33m\u001b[0m\u001b[1;33m\u001b[0m\u001b[0m\n\u001b[0;32m    234\u001b[0m             raise errors.get_mysql_exception(msg=exc.msg, errno=exc.errno,\n\u001b[1;32m--> 235\u001b[1;33m                                              sqlstate=exc.sqlstate)\n\u001b[0m\u001b[0;32m    236\u001b[0m \u001b[1;33m\u001b[0m\u001b[0m\n\u001b[0;32m    237\u001b[0m         \u001b[0mself\u001b[0m\u001b[1;33m.\u001b[0m\u001b[0m_do_handshake\u001b[0m\u001b[1;33m(\u001b[0m\u001b[1;33m)\u001b[0m\u001b[1;33m\u001b[0m\u001b[1;33m\u001b[0m\u001b[0m\n",
      "\u001b[1;31mProgrammingError\u001b[0m: 1044 (42000): Access denied for user 'x9808164k'@'%' to database 'danielwalker87_db_tb'"
     ]
    }
   ],
   "source": [
    "#cnx = mysql.connector.connect(\n",
    "\n",
    "#mycursor = mydb.cursor()"
   ]
  },
  {
   "cell_type": "code",
   "execution_count": null,
   "metadata": {},
   "outputs": [],
   "source": []
  }
 ]
}