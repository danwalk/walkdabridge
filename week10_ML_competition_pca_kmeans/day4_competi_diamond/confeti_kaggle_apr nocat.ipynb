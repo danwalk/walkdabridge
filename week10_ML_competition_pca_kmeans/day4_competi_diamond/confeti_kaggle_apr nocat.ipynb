{
 "cells": [
  {
   "cell_type": "markdown",
   "metadata": {},
   "source": [
    "![image](competi.png)"
   ]
  },
  {
   "cell_type": "markdown",
   "metadata": {},
   "source": [
    "#### Aquí encontrarás todo lo que necesitas saber: https://www.kaggle.com/t/ab8726f0cfc84544abbae69a6be88071"
   ]
  },
  {
   "cell_type": "code",
   "execution_count": 1,
   "metadata": {},
   "outputs": [],
   "source": [
    "import numpy as np\n",
    "import pandas as pd\n",
    "from sklearn import datasets\n",
    "import seaborn as sns\n",
    "from sklearn.feature_selection import RFE\n",
    "from sklearn.model_selection import train_test_split\n",
    "from sklearn.model_selection import cross_val_score\n",
    "from sklearn.model_selection import KFold\n",
    "from sklearn.pipeline import Pipeline\n",
    "from sklearn.preprocessing import StandardScaler\n",
    "import matplotlib.pyplot as plt\n",
    "from sklearn.preprocessing import LabelEncoder\n",
    "from sklearn.linear_model import LinearRegression\n",
    "from sklearn.linear_model import Lasso\n",
    "from sklearn.linear_model import ElasticNet\n",
    "from sklearn.tree import DecisionTreeRegressor\n",
    "from sklearn.neighbors import KNeighborsRegressor\n",
    "from sklearn.ensemble import GradientBoostingRegressor\n",
    "from sklearn.model_selection import GridSearchCV\n",
    "from sklearn.metrics import mean_squared_error\n",
    "from sklearn.ensemble import RandomForestRegressor\n",
    "from sklearn.datasets import make_regression\n",
    "from sklearn.metrics import r2_score,mean_squared_error\n",
    "import urllib.request\n",
    "from PIL import Image\n",
    "from xgboost import XGBClassifier"
   ]
  },
  {
   "cell_type": "code",
   "execution_count": 2,
   "metadata": {},
   "outputs": [],
   "source": [
    "### Para que funcione necesitas bajarte los archivos de datos de Kaggle \n",
    "df = pd.read_csv(\"diamonds_train.csv\", index_col=0)"
   ]
  },
  {
   "cell_type": "code",
   "execution_count": 3,
   "metadata": {},
   "outputs": [
    {
     "output_type": "execute_result",
     "data": {
      "text/plain": [
       "       carat        cut color clarity  depth  table     x     y     z  price\n",
       "0       1.21      Ideal     H     VS2   63.0   57.0  6.73  6.70  4.23   6134\n",
       "1       0.28  Very Good     D    VVS2   64.0   56.0  4.14  4.17  2.66    532\n",
       "2       0.42    Premium     F     VS1   61.2   58.0  4.86  4.82  2.96   1103\n",
       "3       0.26      Ideal     H      IF   61.1   57.0  4.16  4.12  2.53    600\n",
       "4       1.10       Good     G     SI1   63.4   57.0  6.52  6.55  4.14   4997\n",
       "...      ...        ...   ...     ...    ...    ...   ...   ...   ...    ...\n",
       "40340   1.55    Premium     H     VS2   61.3   61.0  7.46  7.39  4.55  11708\n",
       "40341   0.36      Ideal     D     SI1   60.6   56.0  4.58  4.63  2.79    619\n",
       "40342   0.57  Very Good     I     VS2   62.2   55.0  5.33  5.34  3.32   1267\n",
       "40343   1.01  Very Good     F      IF   59.6   62.0  6.47  6.56  3.88   9965\n",
       "40344   0.54      Ideal     E     SI2   60.4   57.0  5.33  5.27  3.20   1340\n",
       "\n",
       "[40345 rows x 10 columns]"
      ],
      "text/html": "<div>\n<style scoped>\n    .dataframe tbody tr th:only-of-type {\n        vertical-align: middle;\n    }\n\n    .dataframe tbody tr th {\n        vertical-align: top;\n    }\n\n    .dataframe thead th {\n        text-align: right;\n    }\n</style>\n<table border=\"1\" class=\"dataframe\">\n  <thead>\n    <tr style=\"text-align: right;\">\n      <th></th>\n      <th>carat</th>\n      <th>cut</th>\n      <th>color</th>\n      <th>clarity</th>\n      <th>depth</th>\n      <th>table</th>\n      <th>x</th>\n      <th>y</th>\n      <th>z</th>\n      <th>price</th>\n    </tr>\n  </thead>\n  <tbody>\n    <tr>\n      <th>0</th>\n      <td>1.21</td>\n      <td>Ideal</td>\n      <td>H</td>\n      <td>VS2</td>\n      <td>63.0</td>\n      <td>57.0</td>\n      <td>6.73</td>\n      <td>6.70</td>\n      <td>4.23</td>\n      <td>6134</td>\n    </tr>\n    <tr>\n      <th>1</th>\n      <td>0.28</td>\n      <td>Very Good</td>\n      <td>D</td>\n      <td>VVS2</td>\n      <td>64.0</td>\n      <td>56.0</td>\n      <td>4.14</td>\n      <td>4.17</td>\n      <td>2.66</td>\n      <td>532</td>\n    </tr>\n    <tr>\n      <th>2</th>\n      <td>0.42</td>\n      <td>Premium</td>\n      <td>F</td>\n      <td>VS1</td>\n      <td>61.2</td>\n      <td>58.0</td>\n      <td>4.86</td>\n      <td>4.82</td>\n      <td>2.96</td>\n      <td>1103</td>\n    </tr>\n    <tr>\n      <th>3</th>\n      <td>0.26</td>\n      <td>Ideal</td>\n      <td>H</td>\n      <td>IF</td>\n      <td>61.1</td>\n      <td>57.0</td>\n      <td>4.16</td>\n      <td>4.12</td>\n      <td>2.53</td>\n      <td>600</td>\n    </tr>\n    <tr>\n      <th>4</th>\n      <td>1.10</td>\n      <td>Good</td>\n      <td>G</td>\n      <td>SI1</td>\n      <td>63.4</td>\n      <td>57.0</td>\n      <td>6.52</td>\n      <td>6.55</td>\n      <td>4.14</td>\n      <td>4997</td>\n    </tr>\n    <tr>\n      <th>...</th>\n      <td>...</td>\n      <td>...</td>\n      <td>...</td>\n      <td>...</td>\n      <td>...</td>\n      <td>...</td>\n      <td>...</td>\n      <td>...</td>\n      <td>...</td>\n      <td>...</td>\n    </tr>\n    <tr>\n      <th>40340</th>\n      <td>1.55</td>\n      <td>Premium</td>\n      <td>H</td>\n      <td>VS2</td>\n      <td>61.3</td>\n      <td>61.0</td>\n      <td>7.46</td>\n      <td>7.39</td>\n      <td>4.55</td>\n      <td>11708</td>\n    </tr>\n    <tr>\n      <th>40341</th>\n      <td>0.36</td>\n      <td>Ideal</td>\n      <td>D</td>\n      <td>SI1</td>\n      <td>60.6</td>\n      <td>56.0</td>\n      <td>4.58</td>\n      <td>4.63</td>\n      <td>2.79</td>\n      <td>619</td>\n    </tr>\n    <tr>\n      <th>40342</th>\n      <td>0.57</td>\n      <td>Very Good</td>\n      <td>I</td>\n      <td>VS2</td>\n      <td>62.2</td>\n      <td>55.0</td>\n      <td>5.33</td>\n      <td>5.34</td>\n      <td>3.32</td>\n      <td>1267</td>\n    </tr>\n    <tr>\n      <th>40343</th>\n      <td>1.01</td>\n      <td>Very Good</td>\n      <td>F</td>\n      <td>IF</td>\n      <td>59.6</td>\n      <td>62.0</td>\n      <td>6.47</td>\n      <td>6.56</td>\n      <td>3.88</td>\n      <td>9965</td>\n    </tr>\n    <tr>\n      <th>40344</th>\n      <td>0.54</td>\n      <td>Ideal</td>\n      <td>E</td>\n      <td>SI2</td>\n      <td>60.4</td>\n      <td>57.0</td>\n      <td>5.33</td>\n      <td>5.27</td>\n      <td>3.20</td>\n      <td>1340</td>\n    </tr>\n  </tbody>\n</table>\n<p>40345 rows × 10 columns</p>\n</div>"
     },
     "metadata": {},
     "execution_count": 3
    }
   ],
   "source": [
    "df"
   ]
  },
  {
   "cell_type": "code",
   "execution_count": 7,
   "metadata": {},
   "outputs": [],
   "source": [
    "lb_make = LabelEncoder()\n",
    "df['cut'] = lb_make.fit_transform(df['cut'])\n",
    "df['color'] = lb_make.fit_transform(df['color'])\n",
    "df['clarity'] = lb_make.fit_transform(df['clarity'])"
   ]
  },
  {
   "cell_type": "code",
   "execution_count": 11,
   "metadata": {},
   "outputs": [],
   "source": [
    "X = np.array(df[[\"carat\", \"color\", \"clarity\", \"x\",\"y\",\"z\"]]) #without cut, depth\n",
    "y = np.array(df[\"price\"])"
   ]
  },
  {
   "cell_type": "code",
   "execution_count": 42,
   "metadata": {},
   "outputs": [],
   "source": [
    "X, y = make_regression(n_features=6, n_informative=2,\n",
    "                       random_state=0, shuffle=False)"
   ]
  },
  {
   "cell_type": "code",
   "execution_count": 12,
   "metadata": {},
   "outputs": [],
   "source": [
    "X_train, X_test, y_train, y_test = train_test_split (X, y, test_size = 0.20, random_state=42)"
   ]
  },
  {
   "cell_type": "code",
   "execution_count": null,
   "metadata": {},
   "outputs": [],
   "source": []
  },
  {
   "cell_type": "code",
   "execution_count": 67,
   "metadata": {},
   "outputs": [
    {
     "output_type": "stream",
     "name": "stdout",
     "text": [
      "ScaledLASSO: -1.230501 (0.106742)\n",
      "ScaledKNN: -29.180551 (1.944607)\n",
      "ScaledCART: -24.973068 (1.691026)\n",
      "ScaledFOR: -21.175664 (2.143945)\n"
     ]
    }
   ],
   "source": [
    "pipelines = []\n",
    "pipelines.append(('ScaledLASSO', Pipeline([('Scaler', StandardScaler()),('LASSO', Lasso())])))\n",
    "pipelines.append(('ScaledKNN', Pipeline([('Scaler', StandardScaler()),('KNN', KNeighborsRegressor())])))\n",
    "pipelines.append(('ScaledCART', Pipeline([('Scaler', StandardScaler()),('CART', DecisionTreeRegressor())])))\n",
    "#pipelines.append(('ScaledGBM', Pipeline([('Scaler', StandardScaler()),('GBM', GradientBoostingRegressor(\n",
    "pipelines.append(('ScaledFOR', Pipeline([('Scaler', StandardScaler()),('FOR', RandomForestRegressor(max_depth=6, random_state=0, n_estimators=1000))])))\n",
    "results = []\n",
    "names = []\n",
    "for name, model in pipelines:\n",
    "    kfold = KFold(n_splits=2)\n",
    "    cv_results = cross_val_score(model, X_train, Y_train, cv=kfold, scoring=\"neg_mean_absolute_error\")\n",
    "    results.append(cv_results)\n",
    "    names.append(name)\n",
    "    msg = \"%s: %f (%f)\" % (name, cv_results.mean(), cv_results.std())\n",
    "    print(msg)"
   ]
  },
  {
   "cell_type": "code",
   "execution_count": 68,
   "metadata": {},
   "outputs": [
    {
     "output_type": "execute_result",
     "data": {
      "text/plain": [
       "RandomForestRegressor(max_depth=6, n_estimators=1000, random_state=0)"
      ]
     },
     "metadata": {},
     "execution_count": 68
    }
   ],
   "source": [
    "RandomForestRegModel = RandomForestRegressor(max_depth=6, random_state=0, n_estimators=1000)\n",
    "RandomForestRegModel.fit(X_train, Y_train)"
   ]
  },
  {
   "cell_type": "code",
   "execution_count": 69,
   "metadata": {},
   "outputs": [
    {
     "output_type": "execute_result",
     "data": {
      "text/plain": [
       "array([104.7105929 ,  16.18332147,  35.69672191, ...,  60.28769597,\n",
       "        81.54124518,  52.7811812 ])"
      ]
     },
     "metadata": {},
     "execution_count": 69
    }
   ],
   "source": [
    "y_pred = RandomForestRegModel.predict(X)\n",
    "y_pred"
   ]
  },
  {
   "cell_type": "code",
   "execution_count": 71,
   "metadata": {},
   "outputs": [
    {
     "output_type": "error",
     "ename": "ValueError",
     "evalue": "Found input variables with inconsistent numbers of samples: [20, 40345]",
     "traceback": [
      "\u001b[1;31m---------------------------------------------------------------------------\u001b[0m",
      "\u001b[1;31mValueError\u001b[0m                                Traceback (most recent call last)",
      "\u001b[1;32m<ipython-input-71-5545e1acfaf1>\u001b[0m in \u001b[0;36m<module>\u001b[1;34m\u001b[0m\n\u001b[1;32m----> 1\u001b[1;33m \u001b[0mmean_absolute_error\u001b[0m\u001b[1;33m(\u001b[0m\u001b[0mY_test\u001b[0m\u001b[1;33m,\u001b[0m \u001b[0my_pred\u001b[0m\u001b[1;33m)\u001b[0m\u001b[1;33m\u001b[0m\u001b[1;33m\u001b[0m\u001b[0m\n\u001b[0m",
      "\u001b[1;32m~\\AppData\\Local\\Programs\\Python\\Python37\\lib\\site-packages\\sklearn\\utils\\validation.py\u001b[0m in \u001b[0;36minner_f\u001b[1;34m(*args, **kwargs)\u001b[0m\n\u001b[0;32m     61\u001b[0m             \u001b[0mextra_args\u001b[0m \u001b[1;33m=\u001b[0m \u001b[0mlen\u001b[0m\u001b[1;33m(\u001b[0m\u001b[0margs\u001b[0m\u001b[1;33m)\u001b[0m \u001b[1;33m-\u001b[0m \u001b[0mlen\u001b[0m\u001b[1;33m(\u001b[0m\u001b[0mall_args\u001b[0m\u001b[1;33m)\u001b[0m\u001b[1;33m\u001b[0m\u001b[1;33m\u001b[0m\u001b[0m\n\u001b[0;32m     62\u001b[0m             \u001b[1;32mif\u001b[0m \u001b[0mextra_args\u001b[0m \u001b[1;33m<=\u001b[0m \u001b[1;36m0\u001b[0m\u001b[1;33m:\u001b[0m\u001b[1;33m\u001b[0m\u001b[1;33m\u001b[0m\u001b[0m\n\u001b[1;32m---> 63\u001b[1;33m                 \u001b[1;32mreturn\u001b[0m \u001b[0mf\u001b[0m\u001b[1;33m(\u001b[0m\u001b[1;33m*\u001b[0m\u001b[0margs\u001b[0m\u001b[1;33m,\u001b[0m \u001b[1;33m**\u001b[0m\u001b[0mkwargs\u001b[0m\u001b[1;33m)\u001b[0m\u001b[1;33m\u001b[0m\u001b[1;33m\u001b[0m\u001b[0m\n\u001b[0m\u001b[0;32m     64\u001b[0m \u001b[1;33m\u001b[0m\u001b[0m\n\u001b[0;32m     65\u001b[0m             \u001b[1;31m# extra_args > 0\u001b[0m\u001b[1;33m\u001b[0m\u001b[1;33m\u001b[0m\u001b[1;33m\u001b[0m\u001b[0m\n",
      "\u001b[1;32m~\\AppData\\Local\\Programs\\Python\\Python37\\lib\\site-packages\\sklearn\\metrics\\_regression.py\u001b[0m in \u001b[0;36mmean_absolute_error\u001b[1;34m(y_true, y_pred, sample_weight, multioutput)\u001b[0m\n\u001b[0;32m    181\u001b[0m     \"\"\"\n\u001b[0;32m    182\u001b[0m     y_type, y_true, y_pred, multioutput = _check_reg_targets(\n\u001b[1;32m--> 183\u001b[1;33m         y_true, y_pred, multioutput)\n\u001b[0m\u001b[0;32m    184\u001b[0m     \u001b[0mcheck_consistent_length\u001b[0m\u001b[1;33m(\u001b[0m\u001b[0my_true\u001b[0m\u001b[1;33m,\u001b[0m \u001b[0my_pred\u001b[0m\u001b[1;33m,\u001b[0m \u001b[0msample_weight\u001b[0m\u001b[1;33m)\u001b[0m\u001b[1;33m\u001b[0m\u001b[1;33m\u001b[0m\u001b[0m\n\u001b[0;32m    185\u001b[0m     output_errors = np.average(np.abs(y_pred - y_true),\n",
      "\u001b[1;32m~\\AppData\\Local\\Programs\\Python\\Python37\\lib\\site-packages\\sklearn\\metrics\\_regression.py\u001b[0m in \u001b[0;36m_check_reg_targets\u001b[1;34m(y_true, y_pred, multioutput, dtype)\u001b[0m\n\u001b[0;32m     86\u001b[0m         \u001b[0mthe\u001b[0m \u001b[0mdtype\u001b[0m \u001b[0margument\u001b[0m \u001b[0mpassed\u001b[0m \u001b[0mto\u001b[0m \u001b[0mcheck_array\u001b[0m\u001b[1;33m.\u001b[0m\u001b[1;33m\u001b[0m\u001b[1;33m\u001b[0m\u001b[0m\n\u001b[0;32m     87\u001b[0m     \"\"\"\n\u001b[1;32m---> 88\u001b[1;33m     \u001b[0mcheck_consistent_length\u001b[0m\u001b[1;33m(\u001b[0m\u001b[0my_true\u001b[0m\u001b[1;33m,\u001b[0m \u001b[0my_pred\u001b[0m\u001b[1;33m)\u001b[0m\u001b[1;33m\u001b[0m\u001b[1;33m\u001b[0m\u001b[0m\n\u001b[0m\u001b[0;32m     89\u001b[0m     \u001b[0my_true\u001b[0m \u001b[1;33m=\u001b[0m \u001b[0mcheck_array\u001b[0m\u001b[1;33m(\u001b[0m\u001b[0my_true\u001b[0m\u001b[1;33m,\u001b[0m \u001b[0mensure_2d\u001b[0m\u001b[1;33m=\u001b[0m\u001b[1;32mFalse\u001b[0m\u001b[1;33m,\u001b[0m \u001b[0mdtype\u001b[0m\u001b[1;33m=\u001b[0m\u001b[0mdtype\u001b[0m\u001b[1;33m)\u001b[0m\u001b[1;33m\u001b[0m\u001b[1;33m\u001b[0m\u001b[0m\n\u001b[0;32m     90\u001b[0m     \u001b[0my_pred\u001b[0m \u001b[1;33m=\u001b[0m \u001b[0mcheck_array\u001b[0m\u001b[1;33m(\u001b[0m\u001b[0my_pred\u001b[0m\u001b[1;33m,\u001b[0m \u001b[0mensure_2d\u001b[0m\u001b[1;33m=\u001b[0m\u001b[1;32mFalse\u001b[0m\u001b[1;33m,\u001b[0m \u001b[0mdtype\u001b[0m\u001b[1;33m=\u001b[0m\u001b[0mdtype\u001b[0m\u001b[1;33m)\u001b[0m\u001b[1;33m\u001b[0m\u001b[1;33m\u001b[0m\u001b[0m\n",
      "\u001b[1;32m~\\AppData\\Local\\Programs\\Python\\Python37\\lib\\site-packages\\sklearn\\utils\\validation.py\u001b[0m in \u001b[0;36mcheck_consistent_length\u001b[1;34m(*arrays)\u001b[0m\n\u001b[0;32m    318\u001b[0m     \u001b[1;32mif\u001b[0m \u001b[0mlen\u001b[0m\u001b[1;33m(\u001b[0m\u001b[0muniques\u001b[0m\u001b[1;33m)\u001b[0m \u001b[1;33m>\u001b[0m \u001b[1;36m1\u001b[0m\u001b[1;33m:\u001b[0m\u001b[1;33m\u001b[0m\u001b[1;33m\u001b[0m\u001b[0m\n\u001b[0;32m    319\u001b[0m         raise ValueError(\"Found input variables with inconsistent numbers of\"\n\u001b[1;32m--> 320\u001b[1;33m                          \" samples: %r\" % [int(l) for l in lengths])\n\u001b[0m\u001b[0;32m    321\u001b[0m \u001b[1;33m\u001b[0m\u001b[0m\n\u001b[0;32m    322\u001b[0m \u001b[1;33m\u001b[0m\u001b[0m\n",
      "\u001b[1;31mValueError\u001b[0m: Found input variables with inconsistent numbers of samples: [20, 40345]"
     ]
    }
   ],
   "source": [
    "mean_absolute_error(Y_test, y_pred)"
   ]
  },
  {
   "cell_type": "code",
   "execution_count": 11,
   "metadata": {},
   "outputs": [
    {
     "output_type": "execute_result",
     "data": {
      "text/plain": [
       "Index(['price', 'carat', 'x', 'z', 'y', 'color', 'table', 'cut', 'depth',\n",
       "       'clarity'],\n",
       "      dtype='object')"
      ]
     },
     "metadata": {},
     "execution_count": 11
    }
   ],
   "source": [
    "correlation = df.corr(method='pearson')\n",
    "columns = correlation.nlargest(10, 'price').index\n",
    "columns"
   ]
  },
  {
   "cell_type": "code",
   "execution_count": 12,
   "metadata": {},
   "outputs": [
    {
     "output_type": "display_data",
     "data": {
      "text/plain": "<Figure size 432x288 with 2 Axes>",
      "image/svg+xml": "<?xml version=\"1.0\" encoding=\"utf-8\" standalone=\"no\"?>\r\n<!DOCTYPE svg PUBLIC \"-//W3C//DTD SVG 1.1//EN\"\r\n  \"http://www.w3.org/Graphics/SVG/1.1/DTD/svg11.dtd\">\r\n<svg height=\"274.000547pt\" version=\"1.1\" viewBox=\"0 0 328.890437 274.000547\" width=\"328.890437pt\" xmlns=\"http://www.w3.org/2000/svg\" xmlns:xlink=\"http://www.w3.org/1999/xlink\">\r\n <metadata>\r\n  <rdf:RDF xmlns:cc=\"http://creativecommons.org/ns#\" xmlns:dc=\"http://purl.org/dc/elements/1.1/\" xmlns:rdf=\"http://www.w3.org/1999/02/22-rdf-syntax-ns#\">\r\n   <cc:Work>\r\n    <dc:type rdf:resource=\"http://purl.org/dc/dcmitype/StillImage\"/>\r\n    <dc:date>2021-06-19T18:02:42.954185</dc:date>\r\n    <dc:format>image/svg+xml</dc:format>\r\n    <dc:creator>\r\n     <cc:Agent>\r\n      <dc:title>Matplotlib v3.4.1, https://matplotlib.org/</dc:title>\r\n     </cc:Agent>\r\n    </dc:creator>\r\n   </cc:Work>\r\n  </rdf:RDF>\r\n </metadata>\r\n <defs>\r\n  <style type=\"text/css\">*{stroke-linecap:butt;stroke-linejoin:round;}</style>\r\n </defs>\r\n <g id=\"figure_1\">\r\n  <g id=\"patch_1\">\r\n   <path d=\"M -0 274.000547 \r\nL 328.890437 274.000547 \r\nL 328.890437 0 \r\nL -0 0 \r\nz\r\n\" style=\"fill:#ffffff;\"/>\r\n  </g>\r\n  <g id=\"axes_1\">\r\n   <g id=\"patch_2\">\r\n    <path d=\"M 45.42375 228.576797 \r\nL 262.86375 228.576797 \r\nL 262.86375 11.136797 \r\nL 45.42375 11.136797 \r\nz\r\n\" style=\"fill:#eaeaf2;\"/>\r\n   </g>\r\n   <g id=\"matplotlib.axis_1\">\r\n    <g id=\"xtick_1\">\r\n     <g id=\"text_1\">\r\n      <!-- price -->\r\n      <g style=\"fill:#262626;\" transform=\"translate(59.139422 261.917578)rotate(-90)scale(0.11 -0.11)\">\r\n       <defs>\r\n        <path d=\"M 422 -1272 \r\nL 422 3319 \r\nL 934 3319 \r\nL 934 2888 \r\nQ 1116 3141 1344 3267 \r\nQ 1572 3394 1897 3394 \r\nQ 2322 3394 2647 3175 \r\nQ 2972 2956 3137 2557 \r\nQ 3303 2159 3303 1684 \r\nQ 3303 1175 3120 767 \r\nQ 2938 359 2589 142 \r\nQ 2241 -75 1856 -75 \r\nQ 1575 -75 1351 44 \r\nQ 1128 163 984 344 \r\nL 984 -1272 \r\nL 422 -1272 \r\nz\r\nM 931 1641 \r\nQ 931 1000 1190 694 \r\nQ 1450 388 1819 388 \r\nQ 2194 388 2461 705 \r\nQ 2728 1022 2728 1688 \r\nQ 2728 2322 2467 2637 \r\nQ 2206 2953 1844 2953 \r\nQ 1484 2953 1207 2617 \r\nQ 931 2281 931 1641 \r\nz\r\n\" id=\"ArialMT-70\" transform=\"scale(0.015625)\"/>\r\n        <path d=\"M 416 0 \r\nL 416 3319 \r\nL 922 3319 \r\nL 922 2816 \r\nQ 1116 3169 1280 3281 \r\nQ 1444 3394 1641 3394 \r\nQ 1925 3394 2219 3213 \r\nL 2025 2691 \r\nQ 1819 2813 1613 2813 \r\nQ 1428 2813 1281 2702 \r\nQ 1134 2591 1072 2394 \r\nQ 978 2094 978 1738 \r\nL 978 0 \r\nL 416 0 \r\nz\r\n\" id=\"ArialMT-72\" transform=\"scale(0.015625)\"/>\r\n        <path d=\"M 425 3934 \r\nL 425 4581 \r\nL 988 4581 \r\nL 988 3934 \r\nL 425 3934 \r\nz\r\nM 425 0 \r\nL 425 3319 \r\nL 988 3319 \r\nL 988 0 \r\nL 425 0 \r\nz\r\n\" id=\"ArialMT-69\" transform=\"scale(0.015625)\"/>\r\n        <path d=\"M 2588 1216 \r\nL 3141 1144 \r\nQ 3050 572 2676 248 \r\nQ 2303 -75 1759 -75 \r\nQ 1078 -75 664 370 \r\nQ 250 816 250 1647 \r\nQ 250 2184 428 2587 \r\nQ 606 2991 970 3192 \r\nQ 1334 3394 1763 3394 \r\nQ 2303 3394 2647 3120 \r\nQ 2991 2847 3088 2344 \r\nL 2541 2259 \r\nQ 2463 2594 2264 2762 \r\nQ 2066 2931 1784 2931 \r\nQ 1359 2931 1093 2626 \r\nQ 828 2322 828 1663 \r\nQ 828 994 1084 691 \r\nQ 1341 388 1753 388 \r\nQ 2084 388 2306 591 \r\nQ 2528 794 2588 1216 \r\nz\r\n\" id=\"ArialMT-63\" transform=\"scale(0.015625)\"/>\r\n        <path d=\"M 2694 1069 \r\nL 3275 997 \r\nQ 3138 488 2766 206 \r\nQ 2394 -75 1816 -75 \r\nQ 1088 -75 661 373 \r\nQ 234 822 234 1631 \r\nQ 234 2469 665 2931 \r\nQ 1097 3394 1784 3394 \r\nQ 2450 3394 2872 2941 \r\nQ 3294 2488 3294 1666 \r\nQ 3294 1616 3291 1516 \r\nL 816 1516 \r\nQ 847 969 1125 678 \r\nQ 1403 388 1819 388 \r\nQ 2128 388 2347 550 \r\nQ 2566 713 2694 1069 \r\nz\r\nM 847 1978 \r\nL 2700 1978 \r\nQ 2663 2397 2488 2606 \r\nQ 2219 2931 1791 2931 \r\nQ 1403 2931 1139 2672 \r\nQ 875 2413 847 1978 \r\nz\r\n\" id=\"ArialMT-65\" transform=\"scale(0.015625)\"/>\r\n       </defs>\r\n       <use xlink:href=\"#ArialMT-70\"/>\r\n       <use x=\"55.615234\" xlink:href=\"#ArialMT-72\"/>\r\n       <use x=\"88.916016\" xlink:href=\"#ArialMT-69\"/>\r\n       <use x=\"111.132812\" xlink:href=\"#ArialMT-63\"/>\r\n       <use x=\"161.132812\" xlink:href=\"#ArialMT-65\"/>\r\n      </g>\r\n     </g>\r\n    </g>\r\n    <g id=\"xtick_2\">\r\n     <g id=\"text_2\">\r\n      <!-- carat -->\r\n      <g style=\"fill:#262626;\" transform=\"translate(80.883422 262.529453)rotate(-90)scale(0.11 -0.11)\">\r\n       <defs>\r\n        <path d=\"M 2588 409 \r\nQ 2275 144 1986 34 \r\nQ 1697 -75 1366 -75 \r\nQ 819 -75 525 192 \r\nQ 231 459 231 875 \r\nQ 231 1119 342 1320 \r\nQ 453 1522 633 1644 \r\nQ 813 1766 1038 1828 \r\nQ 1203 1872 1538 1913 \r\nQ 2219 1994 2541 2106 \r\nQ 2544 2222 2544 2253 \r\nQ 2544 2597 2384 2738 \r\nQ 2169 2928 1744 2928 \r\nQ 1347 2928 1158 2789 \r\nQ 969 2650 878 2297 \r\nL 328 2372 \r\nQ 403 2725 575 2942 \r\nQ 747 3159 1072 3276 \r\nQ 1397 3394 1825 3394 \r\nQ 2250 3394 2515 3294 \r\nQ 2781 3194 2906 3042 \r\nQ 3031 2891 3081 2659 \r\nQ 3109 2516 3109 2141 \r\nL 3109 1391 \r\nQ 3109 606 3145 398 \r\nQ 3181 191 3288 0 \r\nL 2700 0 \r\nQ 2613 175 2588 409 \r\nz\r\nM 2541 1666 \r\nQ 2234 1541 1622 1453 \r\nQ 1275 1403 1131 1340 \r\nQ 988 1278 909 1158 \r\nQ 831 1038 831 891 \r\nQ 831 666 1001 516 \r\nQ 1172 366 1500 366 \r\nQ 1825 366 2078 508 \r\nQ 2331 650 2450 897 \r\nQ 2541 1088 2541 1459 \r\nL 2541 1666 \r\nz\r\n\" id=\"ArialMT-61\" transform=\"scale(0.015625)\"/>\r\n        <path d=\"M 1650 503 \r\nL 1731 6 \r\nQ 1494 -44 1306 -44 \r\nQ 1000 -44 831 53 \r\nQ 663 150 594 308 \r\nQ 525 466 525 972 \r\nL 525 2881 \r\nL 113 2881 \r\nL 113 3319 \r\nL 525 3319 \r\nL 525 4141 \r\nL 1084 4478 \r\nL 1084 3319 \r\nL 1650 3319 \r\nL 1650 2881 \r\nL 1084 2881 \r\nL 1084 941 \r\nQ 1084 700 1114 631 \r\nQ 1144 563 1211 522 \r\nQ 1278 481 1403 481 \r\nQ 1497 481 1650 503 \r\nz\r\n\" id=\"ArialMT-74\" transform=\"scale(0.015625)\"/>\r\n       </defs>\r\n       <use xlink:href=\"#ArialMT-63\"/>\r\n       <use x=\"50\" xlink:href=\"#ArialMT-61\"/>\r\n       <use x=\"105.615234\" xlink:href=\"#ArialMT-72\"/>\r\n       <use x=\"138.916016\" xlink:href=\"#ArialMT-61\"/>\r\n       <use x=\"194.53125\" xlink:href=\"#ArialMT-74\"/>\r\n      </g>\r\n     </g>\r\n    </g>\r\n    <g id=\"xtick_3\">\r\n     <g id=\"text_3\">\r\n      <!-- x -->\r\n      <g style=\"fill:#262626;\" transform=\"translate(102.627422 243.576797)rotate(-90)scale(0.11 -0.11)\">\r\n       <defs>\r\n        <path d=\"M 47 0 \r\nL 1259 1725 \r\nL 138 3319 \r\nL 841 3319 \r\nL 1350 2541 \r\nQ 1494 2319 1581 2169 \r\nQ 1719 2375 1834 2534 \r\nL 2394 3319 \r\nL 3066 3319 \r\nL 1919 1756 \r\nL 3153 0 \r\nL 2463 0 \r\nL 1781 1031 \r\nL 1600 1309 \r\nL 728 0 \r\nL 47 0 \r\nz\r\n\" id=\"ArialMT-78\" transform=\"scale(0.015625)\"/>\r\n       </defs>\r\n       <use xlink:href=\"#ArialMT-78\"/>\r\n      </g>\r\n     </g>\r\n    </g>\r\n    <g id=\"xtick_4\">\r\n     <g id=\"text_4\">\r\n      <!-- z -->\r\n      <g style=\"fill:#262626;\" transform=\"translate(124.371422 243.576797)rotate(-90)scale(0.11 -0.11)\">\r\n       <defs>\r\n        <path d=\"M 125 0 \r\nL 125 456 \r\nL 2238 2881 \r\nQ 1878 2863 1603 2863 \r\nL 250 2863 \r\nL 250 3319 \r\nL 2963 3319 \r\nL 2963 2947 \r\nL 1166 841 \r\nL 819 456 \r\nQ 1197 484 1528 484 \r\nL 3063 484 \r\nL 3063 0 \r\nL 125 0 \r\nz\r\n\" id=\"ArialMT-7a\" transform=\"scale(0.015625)\"/>\r\n       </defs>\r\n       <use xlink:href=\"#ArialMT-7a\"/>\r\n      </g>\r\n     </g>\r\n    </g>\r\n    <g id=\"xtick_5\">\r\n     <g id=\"text_5\">\r\n      <!-- y -->\r\n      <g style=\"fill:#262626;\" transform=\"translate(145.986516 243.576797)rotate(-90)scale(0.11 -0.11)\">\r\n       <defs>\r\n        <path d=\"M 397 -1278 \r\nL 334 -750 \r\nQ 519 -800 656 -800 \r\nQ 844 -800 956 -737 \r\nQ 1069 -675 1141 -563 \r\nQ 1194 -478 1313 -144 \r\nQ 1328 -97 1363 -6 \r\nL 103 3319 \r\nL 709 3319 \r\nL 1400 1397 \r\nQ 1534 1031 1641 628 \r\nQ 1738 1016 1872 1384 \r\nL 2581 3319 \r\nL 3144 3319 \r\nL 1881 -56 \r\nQ 1678 -603 1566 -809 \r\nQ 1416 -1088 1222 -1217 \r\nQ 1028 -1347 759 -1347 \r\nQ 597 -1347 397 -1278 \r\nz\r\n\" id=\"ArialMT-79\" transform=\"scale(0.015625)\"/>\r\n       </defs>\r\n       <use xlink:href=\"#ArialMT-79\"/>\r\n      </g>\r\n     </g>\r\n    </g>\r\n    <g id=\"xtick_6\">\r\n     <g id=\"text_6\">\r\n      <!-- color -->\r\n      <g style=\"fill:#262626;\" transform=\"translate(167.859422 261.917578)rotate(-90)scale(0.11 -0.11)\">\r\n       <defs>\r\n        <path d=\"M 213 1659 \r\nQ 213 2581 725 3025 \r\nQ 1153 3394 1769 3394 \r\nQ 2453 3394 2887 2945 \r\nQ 3322 2497 3322 1706 \r\nQ 3322 1066 3130 698 \r\nQ 2938 331 2570 128 \r\nQ 2203 -75 1769 -75 \r\nQ 1072 -75 642 372 \r\nQ 213 819 213 1659 \r\nz\r\nM 791 1659 \r\nQ 791 1022 1069 705 \r\nQ 1347 388 1769 388 \r\nQ 2188 388 2466 706 \r\nQ 2744 1025 2744 1678 \r\nQ 2744 2294 2464 2611 \r\nQ 2184 2928 1769 2928 \r\nQ 1347 2928 1069 2612 \r\nQ 791 2297 791 1659 \r\nz\r\n\" id=\"ArialMT-6f\" transform=\"scale(0.015625)\"/>\r\n        <path d=\"M 409 0 \r\nL 409 4581 \r\nL 972 4581 \r\nL 972 0 \r\nL 409 0 \r\nz\r\n\" id=\"ArialMT-6c\" transform=\"scale(0.015625)\"/>\r\n       </defs>\r\n       <use xlink:href=\"#ArialMT-63\"/>\r\n       <use x=\"50\" xlink:href=\"#ArialMT-6f\"/>\r\n       <use x=\"105.615234\" xlink:href=\"#ArialMT-6c\"/>\r\n       <use x=\"127.832031\" xlink:href=\"#ArialMT-6f\"/>\r\n       <use x=\"183.447266\" xlink:href=\"#ArialMT-72\"/>\r\n      </g>\r\n     </g>\r\n    </g>\r\n    <g id=\"xtick_7\">\r\n     <g id=\"text_7\">\r\n      <!-- table -->\r\n      <g style=\"fill:#262626;\" transform=\"translate(189.603422 261.927891)rotate(-90)scale(0.11 -0.11)\">\r\n       <defs>\r\n        <path d=\"M 941 0 \r\nL 419 0 \r\nL 419 4581 \r\nL 981 4581 \r\nL 981 2947 \r\nQ 1338 3394 1891 3394 \r\nQ 2197 3394 2470 3270 \r\nQ 2744 3147 2920 2923 \r\nQ 3097 2700 3197 2384 \r\nQ 3297 2069 3297 1709 \r\nQ 3297 856 2875 390 \r\nQ 2453 -75 1863 -75 \r\nQ 1275 -75 941 416 \r\nL 941 0 \r\nz\r\nM 934 1684 \r\nQ 934 1088 1097 822 \r\nQ 1363 388 1816 388 \r\nQ 2184 388 2453 708 \r\nQ 2722 1028 2722 1663 \r\nQ 2722 2313 2464 2622 \r\nQ 2206 2931 1841 2931 \r\nQ 1472 2931 1203 2611 \r\nQ 934 2291 934 1684 \r\nz\r\n\" id=\"ArialMT-62\" transform=\"scale(0.015625)\"/>\r\n       </defs>\r\n       <use xlink:href=\"#ArialMT-74\"/>\r\n       <use x=\"27.783203\" xlink:href=\"#ArialMT-61\"/>\r\n       <use x=\"83.398438\" xlink:href=\"#ArialMT-62\"/>\r\n       <use x=\"139.013672\" xlink:href=\"#ArialMT-6c\"/>\r\n       <use x=\"161.230469\" xlink:href=\"#ArialMT-65\"/>\r\n      </g>\r\n     </g>\r\n    </g>\r\n    <g id=\"xtick_8\">\r\n     <g id=\"text_8\">\r\n      <!-- cut -->\r\n      <g style=\"fill:#262626;\" transform=\"translate(211.347422 252.749766)rotate(-90)scale(0.11 -0.11)\">\r\n       <defs>\r\n        <path d=\"M 2597 0 \r\nL 2597 488 \r\nQ 2209 -75 1544 -75 \r\nQ 1250 -75 995 37 \r\nQ 741 150 617 320 \r\nQ 494 491 444 738 \r\nQ 409 903 409 1263 \r\nL 409 3319 \r\nL 972 3319 \r\nL 972 1478 \r\nQ 972 1038 1006 884 \r\nQ 1059 663 1231 536 \r\nQ 1403 409 1656 409 \r\nQ 1909 409 2131 539 \r\nQ 2353 669 2445 892 \r\nQ 2538 1116 2538 1541 \r\nL 2538 3319 \r\nL 3100 3319 \r\nL 3100 0 \r\nL 2597 0 \r\nz\r\n\" id=\"ArialMT-75\" transform=\"scale(0.015625)\"/>\r\n       </defs>\r\n       <use xlink:href=\"#ArialMT-63\"/>\r\n       <use x=\"50\" xlink:href=\"#ArialMT-75\"/>\r\n       <use x=\"105.615234\" xlink:href=\"#ArialMT-74\"/>\r\n      </g>\r\n     </g>\r\n    </g>\r\n    <g id=\"xtick_9\">\r\n     <g id=\"text_9\">\r\n      <!-- depth -->\r\n      <g style=\"fill:#262626;\" transform=\"translate(233.091422 265.600859)rotate(-90)scale(0.11 -0.11)\">\r\n       <defs>\r\n        <path d=\"M 2575 0 \r\nL 2575 419 \r\nQ 2259 -75 1647 -75 \r\nQ 1250 -75 917 144 \r\nQ 584 363 401 755 \r\nQ 219 1147 219 1656 \r\nQ 219 2153 384 2558 \r\nQ 550 2963 881 3178 \r\nQ 1213 3394 1622 3394 \r\nQ 1922 3394 2156 3267 \r\nQ 2391 3141 2538 2938 \r\nL 2538 4581 \r\nL 3097 4581 \r\nL 3097 0 \r\nL 2575 0 \r\nz\r\nM 797 1656 \r\nQ 797 1019 1065 703 \r\nQ 1334 388 1700 388 \r\nQ 2069 388 2326 689 \r\nQ 2584 991 2584 1609 \r\nQ 2584 2291 2321 2609 \r\nQ 2059 2928 1675 2928 \r\nQ 1300 2928 1048 2622 \r\nQ 797 2316 797 1656 \r\nz\r\n\" id=\"ArialMT-64\" transform=\"scale(0.015625)\"/>\r\n        <path d=\"M 422 0 \r\nL 422 4581 \r\nL 984 4581 \r\nL 984 2938 \r\nQ 1378 3394 1978 3394 \r\nQ 2347 3394 2619 3248 \r\nQ 2891 3103 3008 2847 \r\nQ 3125 2591 3125 2103 \r\nL 3125 0 \r\nL 2563 0 \r\nL 2563 2103 \r\nQ 2563 2525 2380 2717 \r\nQ 2197 2909 1863 2909 \r\nQ 1613 2909 1392 2779 \r\nQ 1172 2650 1078 2428 \r\nQ 984 2206 984 1816 \r\nL 984 0 \r\nL 422 0 \r\nz\r\n\" id=\"ArialMT-68\" transform=\"scale(0.015625)\"/>\r\n       </defs>\r\n       <use xlink:href=\"#ArialMT-64\"/>\r\n       <use x=\"55.615234\" xlink:href=\"#ArialMT-65\"/>\r\n       <use x=\"111.230469\" xlink:href=\"#ArialMT-70\"/>\r\n       <use x=\"166.845703\" xlink:href=\"#ArialMT-74\"/>\r\n       <use x=\"194.628906\" xlink:href=\"#ArialMT-68\"/>\r\n      </g>\r\n     </g>\r\n    </g>\r\n    <g id=\"xtick_10\">\r\n     <g id=\"text_10\">\r\n      <!-- clarity -->\r\n      <g style=\"fill:#262626;\" transform=\"translate(254.770969 266.800547)rotate(-90)scale(0.11 -0.11)\">\r\n       <use xlink:href=\"#ArialMT-63\"/>\r\n       <use x=\"50\" xlink:href=\"#ArialMT-6c\"/>\r\n       <use x=\"72.216797\" xlink:href=\"#ArialMT-61\"/>\r\n       <use x=\"127.832031\" xlink:href=\"#ArialMT-72\"/>\r\n       <use x=\"161.132812\" xlink:href=\"#ArialMT-69\"/>\r\n       <use x=\"183.349609\" xlink:href=\"#ArialMT-74\"/>\r\n       <use x=\"211.132812\" xlink:href=\"#ArialMT-79\"/>\r\n      </g>\r\n     </g>\r\n    </g>\r\n   </g>\r\n   <g id=\"matplotlib.axis_2\">\r\n    <g id=\"ytick_1\">\r\n     <g id=\"text_11\">\r\n      <!-- price -->\r\n      <g style=\"fill:#262626;\" transform=\"translate(12.082969 25.945594)scale(0.11 -0.11)\">\r\n       <use xlink:href=\"#ArialMT-70\"/>\r\n       <use x=\"55.615234\" xlink:href=\"#ArialMT-72\"/>\r\n       <use x=\"88.916016\" xlink:href=\"#ArialMT-69\"/>\r\n       <use x=\"111.132812\" xlink:href=\"#ArialMT-63\"/>\r\n       <use x=\"161.132812\" xlink:href=\"#ArialMT-65\"/>\r\n      </g>\r\n     </g>\r\n    </g>\r\n    <g id=\"ytick_2\">\r\n     <g id=\"text_12\">\r\n      <!-- carat -->\r\n      <g style=\"fill:#262626;\" transform=\"translate(11.471094 47.689594)scale(0.11 -0.11)\">\r\n       <use xlink:href=\"#ArialMT-63\"/>\r\n       <use x=\"50\" xlink:href=\"#ArialMT-61\"/>\r\n       <use x=\"105.615234\" xlink:href=\"#ArialMT-72\"/>\r\n       <use x=\"138.916016\" xlink:href=\"#ArialMT-61\"/>\r\n       <use x=\"194.53125\" xlink:href=\"#ArialMT-74\"/>\r\n      </g>\r\n     </g>\r\n    </g>\r\n    <g id=\"ytick_3\">\r\n     <g id=\"text_13\">\r\n      <!-- x -->\r\n      <g style=\"fill:#262626;\" transform=\"translate(30.42375 69.433594)scale(0.11 -0.11)\">\r\n       <use xlink:href=\"#ArialMT-78\"/>\r\n      </g>\r\n     </g>\r\n    </g>\r\n    <g id=\"ytick_4\">\r\n     <g id=\"text_14\">\r\n      <!-- z -->\r\n      <g style=\"fill:#262626;\" transform=\"translate(30.42375 91.177594)scale(0.11 -0.11)\">\r\n       <use xlink:href=\"#ArialMT-7a\"/>\r\n      </g>\r\n     </g>\r\n    </g>\r\n    <g id=\"ytick_5\">\r\n     <g id=\"text_15\">\r\n      <!-- y -->\r\n      <g style=\"fill:#262626;\" transform=\"translate(30.42375 112.857141)scale(0.11 -0.11)\">\r\n       <use xlink:href=\"#ArialMT-79\"/>\r\n      </g>\r\n     </g>\r\n    </g>\r\n    <g id=\"ytick_6\">\r\n     <g id=\"text_16\">\r\n      <!-- color -->\r\n      <g style=\"fill:#262626;\" transform=\"translate(12.082969 134.665594)scale(0.11 -0.11)\">\r\n       <use xlink:href=\"#ArialMT-63\"/>\r\n       <use x=\"50\" xlink:href=\"#ArialMT-6f\"/>\r\n       <use x=\"105.615234\" xlink:href=\"#ArialMT-6c\"/>\r\n       <use x=\"127.832031\" xlink:href=\"#ArialMT-6f\"/>\r\n       <use x=\"183.447266\" xlink:href=\"#ArialMT-72\"/>\r\n      </g>\r\n     </g>\r\n    </g>\r\n    <g id=\"ytick_7\">\r\n     <g id=\"text_17\">\r\n      <!-- table -->\r\n      <g style=\"fill:#262626;\" transform=\"translate(12.072656 156.409594)scale(0.11 -0.11)\">\r\n       <use xlink:href=\"#ArialMT-74\"/>\r\n       <use x=\"27.783203\" xlink:href=\"#ArialMT-61\"/>\r\n       <use x=\"83.398438\" xlink:href=\"#ArialMT-62\"/>\r\n       <use x=\"139.013672\" xlink:href=\"#ArialMT-6c\"/>\r\n       <use x=\"161.230469\" xlink:href=\"#ArialMT-65\"/>\r\n      </g>\r\n     </g>\r\n    </g>\r\n    <g id=\"ytick_8\">\r\n     <g id=\"text_18\">\r\n      <!-- cut -->\r\n      <g style=\"fill:#262626;\" transform=\"translate(21.250781 178.153594)scale(0.11 -0.11)\">\r\n       <use xlink:href=\"#ArialMT-63\"/>\r\n       <use x=\"50\" xlink:href=\"#ArialMT-75\"/>\r\n       <use x=\"105.615234\" xlink:href=\"#ArialMT-74\"/>\r\n      </g>\r\n     </g>\r\n    </g>\r\n    <g id=\"ytick_9\">\r\n     <g id=\"text_19\">\r\n      <!-- depth -->\r\n      <g style=\"fill:#262626;\" transform=\"translate(8.399687 199.897594)scale(0.11 -0.11)\">\r\n       <use xlink:href=\"#ArialMT-64\"/>\r\n       <use x=\"55.615234\" xlink:href=\"#ArialMT-65\"/>\r\n       <use x=\"111.230469\" xlink:href=\"#ArialMT-70\"/>\r\n       <use x=\"166.845703\" xlink:href=\"#ArialMT-74\"/>\r\n       <use x=\"194.628906\" xlink:href=\"#ArialMT-68\"/>\r\n      </g>\r\n     </g>\r\n    </g>\r\n    <g id=\"ytick_10\">\r\n     <g id=\"text_20\">\r\n      <!-- clarity -->\r\n      <g style=\"fill:#262626;\" transform=\"translate(7.2 221.641594)scale(0.11 -0.11)\">\r\n       <use xlink:href=\"#ArialMT-63\"/>\r\n       <use x=\"50\" xlink:href=\"#ArialMT-6c\"/>\r\n       <use x=\"72.216797\" xlink:href=\"#ArialMT-61\"/>\r\n       <use x=\"127.832031\" xlink:href=\"#ArialMT-72\"/>\r\n       <use x=\"161.132812\" xlink:href=\"#ArialMT-69\"/>\r\n       <use x=\"183.349609\" xlink:href=\"#ArialMT-74\"/>\r\n       <use x=\"211.132812\" xlink:href=\"#ArialMT-79\"/>\r\n      </g>\r\n     </g>\r\n    </g>\r\n   </g>\r\n   <g id=\"QuadMesh_1\">\r\n    <path clip-path=\"url(#pf1a5bb05f4)\" d=\"M 45.42375 11.136797 \r\nL 67.16775 11.136797 \r\nL 67.16775 32.880797 \r\nL 45.42375 32.880797 \r\nL 45.42375 11.136797 \r\n\" style=\"fill:#faebdd;\"/>\r\n    <path clip-path=\"url(#pf1a5bb05f4)\" d=\"M 67.16775 11.136797 \r\nL 88.91175 11.136797 \r\nL 88.91175 32.880797 \r\nL 67.16775 32.880797 \r\nL 67.16775 11.136797 \r\n\" style=\"fill:#f8d4bc;\"/>\r\n    <path clip-path=\"url(#pf1a5bb05f4)\" d=\"M 88.91175 11.136797 \r\nL 110.65575 11.136797 \r\nL 110.65575 32.880797 \r\nL 88.91175 32.880797 \r\nL 88.91175 11.136797 \r\n\" style=\"fill:#f7c9aa;\"/>\r\n    <path clip-path=\"url(#pf1a5bb05f4)\" d=\"M 110.65575 11.136797 \r\nL 132.39975 11.136797 \r\nL 132.39975 32.880797 \r\nL 110.65575 32.880797 \r\nL 110.65575 11.136797 \r\n\" style=\"fill:#f7c6a6;\"/>\r\n    <path clip-path=\"url(#pf1a5bb05f4)\" d=\"M 132.39975 11.136797 \r\nL 154.14375 11.136797 \r\nL 154.14375 32.880797 \r\nL 132.39975 32.880797 \r\nL 132.39975 11.136797 \r\n\" style=\"fill:#f6c19f;\"/>\r\n    <path clip-path=\"url(#pf1a5bb05f4)\" d=\"M 154.14375 11.136797 \r\nL 175.88775 11.136797 \r\nL 175.88775 32.880797 \r\nL 154.14375 32.880797 \r\nL 154.14375 11.136797 \r\n\" style=\"fill:#8c1d5b;\"/>\r\n    <path clip-path=\"url(#pf1a5bb05f4)\" d=\"M 175.88775 11.136797 \r\nL 197.63175 11.136797 \r\nL 197.63175 32.880797 \r\nL 175.88775 32.880797 \r\nL 175.88775 11.136797 \r\n\" style=\"fill:#7f1e5a;\"/>\r\n    <path clip-path=\"url(#pf1a5bb05f4)\" d=\"M 197.63175 11.136797 \r\nL 219.37575 11.136797 \r\nL 219.37575 32.880797 \r\nL 197.63175 32.880797 \r\nL 197.63175 11.136797 \r\n\" style=\"fill:#631f53;\"/>\r\n    <path clip-path=\"url(#pf1a5bb05f4)\" d=\"M 219.37575 11.136797 \r\nL 241.11975 11.136797 \r\nL 241.11975 32.880797 \r\nL 219.37575 32.880797 \r\nL 219.37575 11.136797 \r\n\" style=\"fill:#531e4d;\"/>\r\n    <path clip-path=\"url(#pf1a5bb05f4)\" d=\"M 241.11975 11.136797 \r\nL 262.86375 11.136797 \r\nL 262.86375 32.880797 \r\nL 241.11975 32.880797 \r\nL 241.11975 11.136797 \r\n\" style=\"fill:#401b44;\"/>\r\n    <path clip-path=\"url(#pf1a5bb05f4)\" d=\"M 45.42375 32.880797 \r\nL 67.16775 32.880797 \r\nL 67.16775 54.624797 \r\nL 45.42375 54.624797 \r\nL 45.42375 32.880797 \r\n\" style=\"fill:#f8d4bc;\"/>\r\n    <path clip-path=\"url(#pf1a5bb05f4)\" d=\"M 67.16775 32.880797 \r\nL 88.91175 32.880797 \r\nL 88.91175 54.624797 \r\nL 67.16775 54.624797 \r\nL 67.16775 32.880797 \r\n\" style=\"fill:#faebdd;\"/>\r\n    <path clip-path=\"url(#pf1a5bb05f4)\" d=\"M 88.91175 32.880797 \r\nL 110.65575 32.880797 \r\nL 110.65575 54.624797 \r\nL 88.91175 54.624797 \r\nL 88.91175 32.880797 \r\n\" style=\"fill:#f9e5d4;\"/>\r\n    <path clip-path=\"url(#pf1a5bb05f4)\" d=\"M 110.65575 32.880797 \r\nL 132.39975 32.880797 \r\nL 132.39975 54.624797 \r\nL 110.65575 54.624797 \r\nL 110.65575 32.880797 \r\n\" style=\"fill:#f9e2d0;\"/>\r\n    <path clip-path=\"url(#pf1a5bb05f4)\" d=\"M 132.39975 32.880797 \r\nL 154.14375 32.880797 \r\nL 154.14375 54.624797 \r\nL 132.39975 54.624797 \r\nL 132.39975 32.880797 \r\n\" style=\"fill:#f8dac5;\"/>\r\n    <path clip-path=\"url(#pf1a5bb05f4)\" d=\"M 154.14375 32.880797 \r\nL 175.88775 32.880797 \r\nL 175.88775 54.624797 \r\nL 154.14375 54.624797 \r\nL 154.14375 32.880797 \r\n\" style=\"fill:#b51657;\"/>\r\n    <path clip-path=\"url(#pf1a5bb05f4)\" d=\"M 175.88775 32.880797 \r\nL 197.63175 32.880797 \r\nL 197.63175 54.624797 \r\nL 175.88775 54.624797 \r\nL 175.88775 32.880797 \r\n\" style=\"fill:#921c5b;\"/>\r\n    <path clip-path=\"url(#pf1a5bb05f4)\" d=\"M 197.63175 32.880797 \r\nL 219.37575 32.880797 \r\nL 219.37575 54.624797 \r\nL 197.63175 54.624797 \r\nL 197.63175 32.880797 \r\n\" style=\"fill:#5c1e51;\"/>\r\n    <path clip-path=\"url(#pf1a5bb05f4)\" d=\"M 219.37575 32.880797 \r\nL 241.11975 32.880797 \r\nL 241.11975 54.624797 \r\nL 219.37575 54.624797 \r\nL 219.37575 32.880797 \r\n\" style=\"fill:#601f52;\"/>\r\n    <path clip-path=\"url(#pf1a5bb05f4)\" d=\"M 241.11975 32.880797 \r\nL 262.86375 32.880797 \r\nL 262.86375 54.624797 \r\nL 241.11975 54.624797 \r\nL 241.11975 32.880797 \r\n\" style=\"fill:#160e27;\"/>\r\n    <path clip-path=\"url(#pf1a5bb05f4)\" d=\"M 45.42375 54.624797 \r\nL 67.16775 54.624797 \r\nL 67.16775 76.368797 \r\nL 45.42375 76.368797 \r\nL 45.42375 54.624797 \r\n\" style=\"fill:#f7c9aa;\"/>\r\n    <path clip-path=\"url(#pf1a5bb05f4)\" d=\"M 67.16775 54.624797 \r\nL 88.91175 54.624797 \r\nL 88.91175 76.368797 \r\nL 67.16775 76.368797 \r\nL 67.16775 54.624797 \r\n\" style=\"fill:#f9e5d4;\"/>\r\n    <path clip-path=\"url(#pf1a5bb05f4)\" d=\"M 88.91175 54.624797 \r\nL 110.65575 54.624797 \r\nL 110.65575 76.368797 \r\nL 88.91175 76.368797 \r\nL 88.91175 54.624797 \r\n\" style=\"fill:#faebdd;\"/>\r\n    <path clip-path=\"url(#pf1a5bb05f4)\" d=\"M 110.65575 54.624797 \r\nL 132.39975 54.624797 \r\nL 132.39975 76.368797 \r\nL 110.65575 76.368797 \r\nL 110.65575 54.624797 \r\n\" style=\"fill:#fae8d8;\"/>\r\n    <path clip-path=\"url(#pf1a5bb05f4)\" d=\"M 132.39975 54.624797 \r\nL 154.14375 54.624797 \r\nL 154.14375 76.368797 \r\nL 132.39975 76.368797 \r\nL 132.39975 54.624797 \r\n\" style=\"fill:#f9e2d0;\"/>\r\n    <path clip-path=\"url(#pf1a5bb05f4)\" d=\"M 154.14375 54.624797 \r\nL 175.88775 54.624797 \r\nL 175.88775 76.368797 \r\nL 154.14375 76.368797 \r\nL 154.14375 54.624797 \r\n\" style=\"fill:#ad1759;\"/>\r\n    <path clip-path=\"url(#pf1a5bb05f4)\" d=\"M 175.88775 54.624797 \r\nL 197.63175 54.624797 \r\nL 197.63175 76.368797 \r\nL 175.88775 76.368797 \r\nL 175.88775 54.624797 \r\n\" style=\"fill:#951c5b;\"/>\r\n    <path clip-path=\"url(#pf1a5bb05f4)\" d=\"M 197.63175 54.624797 \r\nL 219.37575 54.624797 \r\nL 219.37575 76.368797 \r\nL 197.63175 76.368797 \r\nL 197.63175 54.624797 \r\n\" style=\"fill:#5e1f52;\"/>\r\n    <path clip-path=\"url(#pf1a5bb05f4)\" d=\"M 219.37575 54.624797 \r\nL 241.11975 54.624797 \r\nL 241.11975 76.368797 \r\nL 219.37575 76.368797 \r\nL 219.37575 54.624797 \r\n\" style=\"fill:#4e1d4b;\"/>\r\n    <path clip-path=\"url(#pf1a5bb05f4)\" d=\"M 241.11975 54.624797 \r\nL 262.86375 54.624797 \r\nL 262.86375 76.368797 \r\nL 241.11975 76.368797 \r\nL 241.11975 54.624797 \r\n\" style=\"fill:#130d25;\"/>\r\n    <path clip-path=\"url(#pf1a5bb05f4)\" d=\"M 45.42375 76.368797 \r\nL 67.16775 76.368797 \r\nL 67.16775 98.112797 \r\nL 45.42375 98.112797 \r\nL 45.42375 76.368797 \r\n\" style=\"fill:#f7c6a6;\"/>\r\n    <path clip-path=\"url(#pf1a5bb05f4)\" d=\"M 67.16775 76.368797 \r\nL 88.91175 76.368797 \r\nL 88.91175 98.112797 \r\nL 67.16775 98.112797 \r\nL 67.16775 76.368797 \r\n\" style=\"fill:#f9e2d0;\"/>\r\n    <path clip-path=\"url(#pf1a5bb05f4)\" d=\"M 88.91175 76.368797 \r\nL 110.65575 76.368797 \r\nL 110.65575 98.112797 \r\nL 88.91175 98.112797 \r\nL 88.91175 76.368797 \r\n\" style=\"fill:#fae8d8;\"/>\r\n    <path clip-path=\"url(#pf1a5bb05f4)\" d=\"M 110.65575 76.368797 \r\nL 132.39975 76.368797 \r\nL 132.39975 98.112797 \r\nL 110.65575 98.112797 \r\nL 110.65575 76.368797 \r\n\" style=\"fill:#faebdd;\"/>\r\n    <path clip-path=\"url(#pf1a5bb05f4)\" d=\"M 132.39975 76.368797 \r\nL 154.14375 76.368797 \r\nL 154.14375 98.112797 \r\nL 132.39975 98.112797 \r\nL 132.39975 76.368797 \r\n\" style=\"fill:#f9e0cd;\"/>\r\n    <path clip-path=\"url(#pf1a5bb05f4)\" d=\"M 154.14375 76.368797 \r\nL 175.88775 76.368797 \r\nL 175.88775 98.112797 \r\nL 154.14375 98.112797 \r\nL 154.14375 76.368797 \r\n\" style=\"fill:#af1759;\"/>\r\n    <path clip-path=\"url(#pf1a5bb05f4)\" d=\"M 175.88775 76.368797 \r\nL 197.63175 76.368797 \r\nL 197.63175 98.112797 \r\nL 175.88775 98.112797 \r\nL 175.88775 76.368797 \r\n\" style=\"fill:#871e5b;\"/>\r\n    <path clip-path=\"url(#pf1a5bb05f4)\" d=\"M 197.63175 76.368797 \r\nL 219.37575 76.368797 \r\nL 219.37575 98.112797 \r\nL 197.63175 98.112797 \r\nL 197.63175 76.368797 \r\n\" style=\"fill:#561e4f;\"/>\r\n    <path clip-path=\"url(#pf1a5bb05f4)\" d=\"M 219.37575 76.368797 \r\nL 241.11975 76.368797 \r\nL 241.11975 98.112797 \r\nL 219.37575 98.112797 \r\nL 219.37575 76.368797 \r\n\" style=\"fill:#751f58;\"/>\r\n    <path clip-path=\"url(#pf1a5bb05f4)\" d=\"M 241.11975 76.368797 \r\nL 262.86375 76.368797 \r\nL 262.86375 98.112797 \r\nL 241.11975 98.112797 \r\nL 241.11975 76.368797 \r\n\" style=\"fill:#130d25;\"/>\r\n    <path clip-path=\"url(#pf1a5bb05f4)\" d=\"M 45.42375 98.112797 \r\nL 67.16775 98.112797 \r\nL 67.16775 119.856797 \r\nL 45.42375 119.856797 \r\nL 45.42375 98.112797 \r\n\" style=\"fill:#f6c19f;\"/>\r\n    <path clip-path=\"url(#pf1a5bb05f4)\" d=\"M 67.16775 98.112797 \r\nL 88.91175 98.112797 \r\nL 88.91175 119.856797 \r\nL 67.16775 119.856797 \r\nL 67.16775 98.112797 \r\n\" style=\"fill:#f8dac5;\"/>\r\n    <path clip-path=\"url(#pf1a5bb05f4)\" d=\"M 88.91175 98.112797 \r\nL 110.65575 98.112797 \r\nL 110.65575 119.856797 \r\nL 88.91175 119.856797 \r\nL 88.91175 98.112797 \r\n\" style=\"fill:#f9e2d0;\"/>\r\n    <path clip-path=\"url(#pf1a5bb05f4)\" d=\"M 110.65575 98.112797 \r\nL 132.39975 98.112797 \r\nL 132.39975 119.856797 \r\nL 110.65575 119.856797 \r\nL 110.65575 98.112797 \r\n\" style=\"fill:#f9e0cd;\"/>\r\n    <path clip-path=\"url(#pf1a5bb05f4)\" d=\"M 132.39975 98.112797 \r\nL 154.14375 98.112797 \r\nL 154.14375 119.856797 \r\nL 132.39975 119.856797 \r\nL 132.39975 98.112797 \r\n\" style=\"fill:#faebdd;\"/>\r\n    <path clip-path=\"url(#pf1a5bb05f4)\" d=\"M 154.14375 98.112797 \r\nL 175.88775 98.112797 \r\nL 175.88775 119.856797 \r\nL 154.14375 119.856797 \r\nL 154.14375 98.112797 \r\n\" style=\"fill:#ab185a;\"/>\r\n    <path clip-path=\"url(#pf1a5bb05f4)\" d=\"M 175.88775 98.112797 \r\nL 197.63175 98.112797 \r\nL 197.63175 119.856797 \r\nL 175.88775 119.856797 \r\nL 175.88775 98.112797 \r\n\" style=\"fill:#921c5b;\"/>\r\n    <path clip-path=\"url(#pf1a5bb05f4)\" d=\"M 197.63175 98.112797 \r\nL 219.37575 98.112797 \r\nL 219.37575 119.856797 \r\nL 197.63175 119.856797 \r\nL 197.63175 98.112797 \r\n\" style=\"fill:#601f52;\"/>\r\n    <path clip-path=\"url(#pf1a5bb05f4)\" d=\"M 219.37575 98.112797 \r\nL 241.11975 98.112797 \r\nL 241.11975 119.856797 \r\nL 219.37575 119.856797 \r\nL 219.37575 98.112797 \r\n\" style=\"fill:#4c1d4b;\"/>\r\n    <path clip-path=\"url(#pf1a5bb05f4)\" d=\"M 241.11975 98.112797 \r\nL 262.86375 98.112797 \r\nL 262.86375 119.856797 \r\nL 241.11975 119.856797 \r\nL 241.11975 98.112797 \r\n\" style=\"fill:#160e27;\"/>\r\n    <path clip-path=\"url(#pf1a5bb05f4)\" d=\"M 45.42375 119.856797 \r\nL 67.16775 119.856797 \r\nL 67.16775 141.600797 \r\nL 45.42375 141.600797 \r\nL 45.42375 119.856797 \r\n\" style=\"fill:#8c1d5b;\"/>\r\n    <path clip-path=\"url(#pf1a5bb05f4)\" d=\"M 67.16775 119.856797 \r\nL 88.91175 119.856797 \r\nL 88.91175 141.600797 \r\nL 67.16775 141.600797 \r\nL 67.16775 119.856797 \r\n\" style=\"fill:#b51657;\"/>\r\n    <path clip-path=\"url(#pf1a5bb05f4)\" d=\"M 88.91175 119.856797 \r\nL 110.65575 119.856797 \r\nL 110.65575 141.600797 \r\nL 88.91175 141.600797 \r\nL 88.91175 119.856797 \r\n\" style=\"fill:#ad1759;\"/>\r\n    <path clip-path=\"url(#pf1a5bb05f4)\" d=\"M 110.65575 119.856797 \r\nL 132.39975 119.856797 \r\nL 132.39975 141.600797 \r\nL 110.65575 141.600797 \r\nL 110.65575 119.856797 \r\n\" style=\"fill:#af1759;\"/>\r\n    <path clip-path=\"url(#pf1a5bb05f4)\" d=\"M 132.39975 119.856797 \r\nL 154.14375 119.856797 \r\nL 154.14375 141.600797 \r\nL 132.39975 141.600797 \r\nL 132.39975 119.856797 \r\n\" style=\"fill:#ab185a;\"/>\r\n    <path clip-path=\"url(#pf1a5bb05f4)\" d=\"M 154.14375 119.856797 \r\nL 175.88775 119.856797 \r\nL 175.88775 141.600797 \r\nL 154.14375 141.600797 \r\nL 154.14375 119.856797 \r\n\" style=\"fill:#faebdd;\"/>\r\n    <path clip-path=\"url(#pf1a5bb05f4)\" d=\"M 175.88775 119.856797 \r\nL 197.63175 119.856797 \r\nL 197.63175 141.600797 \r\nL 175.88775 141.600797 \r\nL 175.88775 119.856797 \r\n\" style=\"fill:#5c1e51;\"/>\r\n    <path clip-path=\"url(#pf1a5bb05f4)\" d=\"M 197.63175 119.856797 \r\nL 219.37575 119.856797 \r\nL 219.37575 141.600797 \r\nL 197.63175 141.600797 \r\nL 197.63175 119.856797 \r\n\" style=\"fill:#561e4f;\"/>\r\n    <path clip-path=\"url(#pf1a5bb05f4)\" d=\"M 219.37575 119.856797 \r\nL 241.11975 119.856797 \r\nL 241.11975 141.600797 \r\nL 219.37575 141.600797 \r\nL 219.37575 119.856797 \r\n\" style=\"fill:#661f54;\"/>\r\n    <path clip-path=\"url(#pf1a5bb05f4)\" d=\"M 241.11975 119.856797 \r\nL 262.86375 119.856797 \r\nL 262.86375 141.600797 \r\nL 241.11975 141.600797 \r\nL 241.11975 119.856797 \r\n\" style=\"fill:#4c1d4b;\"/>\r\n    <path clip-path=\"url(#pf1a5bb05f4)\" d=\"M 45.42375 141.600797 \r\nL 67.16775 141.600797 \r\nL 67.16775 163.344797 \r\nL 45.42375 163.344797 \r\nL 45.42375 141.600797 \r\n\" style=\"fill:#7f1e5a;\"/>\r\n    <path clip-path=\"url(#pf1a5bb05f4)\" d=\"M 67.16775 141.600797 \r\nL 88.91175 141.600797 \r\nL 88.91175 163.344797 \r\nL 67.16775 163.344797 \r\nL 67.16775 141.600797 \r\n\" style=\"fill:#921c5b;\"/>\r\n    <path clip-path=\"url(#pf1a5bb05f4)\" d=\"M 88.91175 141.600797 \r\nL 110.65575 141.600797 \r\nL 110.65575 163.344797 \r\nL 88.91175 163.344797 \r\nL 88.91175 141.600797 \r\n\" style=\"fill:#951c5b;\"/>\r\n    <path clip-path=\"url(#pf1a5bb05f4)\" d=\"M 110.65575 141.600797 \r\nL 132.39975 141.600797 \r\nL 132.39975 163.344797 \r\nL 110.65575 163.344797 \r\nL 110.65575 141.600797 \r\n\" style=\"fill:#871e5b;\"/>\r\n    <path clip-path=\"url(#pf1a5bb05f4)\" d=\"M 132.39975 141.600797 \r\nL 154.14375 141.600797 \r\nL 154.14375 163.344797 \r\nL 132.39975 163.344797 \r\nL 132.39975 141.600797 \r\n\" style=\"fill:#921c5b;\"/>\r\n    <path clip-path=\"url(#pf1a5bb05f4)\" d=\"M 154.14375 141.600797 \r\nL 175.88775 141.600797 \r\nL 175.88775 163.344797 \r\nL 154.14375 163.344797 \r\nL 154.14375 141.600797 \r\n\" style=\"fill:#5c1e51;\"/>\r\n    <path clip-path=\"url(#pf1a5bb05f4)\" d=\"M 175.88775 141.600797 \r\nL 197.63175 141.600797 \r\nL 197.63175 163.344797 \r\nL 175.88775 163.344797 \r\nL 175.88775 141.600797 \r\n\" style=\"fill:#faebdd;\"/>\r\n    <path clip-path=\"url(#pf1a5bb05f4)\" d=\"M 197.63175 141.600797 \r\nL 219.37575 141.600797 \r\nL 219.37575 163.344797 \r\nL 197.63175 163.344797 \r\nL 197.63175 141.600797 \r\n\" style=\"fill:#871e5b;\"/>\r\n    <path clip-path=\"url(#pf1a5bb05f4)\" d=\"M 219.37575 141.600797 \r\nL 241.11975 141.600797 \r\nL 241.11975 163.344797 \r\nL 219.37575 163.344797 \r\nL 219.37575 141.600797 \r\n\" style=\"fill:#03051a;\"/>\r\n    <path clip-path=\"url(#pf1a5bb05f4)\" d=\"M 241.11975 141.600797 \r\nL 262.86375 141.600797 \r\nL 262.86375 163.344797 \r\nL 241.11975 163.344797 \r\nL 241.11975 141.600797 \r\n\" style=\"fill:#3a1a41;\"/>\r\n    <path clip-path=\"url(#pf1a5bb05f4)\" d=\"M 45.42375 163.344797 \r\nL 67.16775 163.344797 \r\nL 67.16775 185.088797 \r\nL 45.42375 185.088797 \r\nL 45.42375 163.344797 \r\n\" style=\"fill:#631f53;\"/>\r\n    <path clip-path=\"url(#pf1a5bb05f4)\" d=\"M 67.16775 163.344797 \r\nL 88.91175 163.344797 \r\nL 88.91175 185.088797 \r\nL 67.16775 185.088797 \r\nL 67.16775 163.344797 \r\n\" style=\"fill:#5c1e51;\"/>\r\n    <path clip-path=\"url(#pf1a5bb05f4)\" d=\"M 88.91175 163.344797 \r\nL 110.65575 163.344797 \r\nL 110.65575 185.088797 \r\nL 88.91175 185.088797 \r\nL 88.91175 163.344797 \r\n\" style=\"fill:#5e1f52;\"/>\r\n    <path clip-path=\"url(#pf1a5bb05f4)\" d=\"M 110.65575 163.344797 \r\nL 132.39975 163.344797 \r\nL 132.39975 185.088797 \r\nL 110.65575 185.088797 \r\nL 110.65575 163.344797 \r\n\" style=\"fill:#561e4f;\"/>\r\n    <path clip-path=\"url(#pf1a5bb05f4)\" d=\"M 132.39975 163.344797 \r\nL 154.14375 163.344797 \r\nL 154.14375 185.088797 \r\nL 132.39975 185.088797 \r\nL 132.39975 163.344797 \r\n\" style=\"fill:#601f52;\"/>\r\n    <path clip-path=\"url(#pf1a5bb05f4)\" d=\"M 154.14375 163.344797 \r\nL 175.88775 163.344797 \r\nL 175.88775 185.088797 \r\nL 154.14375 185.088797 \r\nL 154.14375 163.344797 \r\n\" style=\"fill:#561e4f;\"/>\r\n    <path clip-path=\"url(#pf1a5bb05f4)\" d=\"M 175.88775 163.344797 \r\nL 197.63175 163.344797 \r\nL 197.63175 185.088797 \r\nL 175.88775 185.088797 \r\nL 175.88775 163.344797 \r\n\" style=\"fill:#871e5b;\"/>\r\n    <path clip-path=\"url(#pf1a5bb05f4)\" d=\"M 197.63175 163.344797 \r\nL 219.37575 163.344797 \r\nL 219.37575 185.088797 \r\nL 197.63175 185.088797 \r\nL 197.63175 163.344797 \r\n\" style=\"fill:#faebdd;\"/>\r\n    <path clip-path=\"url(#pf1a5bb05f4)\" d=\"M 219.37575 163.344797 \r\nL 241.11975 163.344797 \r\nL 241.11975 185.088797 \r\nL 219.37575 185.088797 \r\nL 219.37575 163.344797 \r\n\" style=\"fill:#1b112b;\"/>\r\n    <path clip-path=\"url(#pf1a5bb05f4)\" d=\"M 241.11975 163.344797 \r\nL 262.86375 163.344797 \r\nL 262.86375 185.088797 \r\nL 241.11975 185.088797 \r\nL 241.11975 163.344797 \r\n\" style=\"fill:#5e1f52;\"/>\r\n    <path clip-path=\"url(#pf1a5bb05f4)\" d=\"M 45.42375 185.088797 \r\nL 67.16775 185.088797 \r\nL 67.16775 206.832797 \r\nL 45.42375 206.832797 \r\nL 45.42375 185.088797 \r\n\" style=\"fill:#531e4d;\"/>\r\n    <path clip-path=\"url(#pf1a5bb05f4)\" d=\"M 67.16775 185.088797 \r\nL 88.91175 185.088797 \r\nL 88.91175 206.832797 \r\nL 67.16775 206.832797 \r\nL 67.16775 185.088797 \r\n\" style=\"fill:#601f52;\"/>\r\n    <path clip-path=\"url(#pf1a5bb05f4)\" d=\"M 88.91175 185.088797 \r\nL 110.65575 185.088797 \r\nL 110.65575 206.832797 \r\nL 88.91175 206.832797 \r\nL 88.91175 185.088797 \r\n\" style=\"fill:#4e1d4b;\"/>\r\n    <path clip-path=\"url(#pf1a5bb05f4)\" d=\"M 110.65575 185.088797 \r\nL 132.39975 185.088797 \r\nL 132.39975 206.832797 \r\nL 110.65575 206.832797 \r\nL 110.65575 185.088797 \r\n\" style=\"fill:#751f58;\"/>\r\n    <path clip-path=\"url(#pf1a5bb05f4)\" d=\"M 132.39975 185.088797 \r\nL 154.14375 185.088797 \r\nL 154.14375 206.832797 \r\nL 132.39975 206.832797 \r\nL 132.39975 185.088797 \r\n\" style=\"fill:#4c1d4b;\"/>\r\n    <path clip-path=\"url(#pf1a5bb05f4)\" d=\"M 154.14375 185.088797 \r\nL 175.88775 185.088797 \r\nL 175.88775 206.832797 \r\nL 154.14375 206.832797 \r\nL 154.14375 185.088797 \r\n\" style=\"fill:#661f54;\"/>\r\n    <path clip-path=\"url(#pf1a5bb05f4)\" d=\"M 175.88775 185.088797 \r\nL 197.63175 185.088797 \r\nL 197.63175 206.832797 \r\nL 175.88775 206.832797 \r\nL 175.88775 185.088797 \r\n\" style=\"fill:#03051a;\"/>\r\n    <path clip-path=\"url(#pf1a5bb05f4)\" d=\"M 197.63175 185.088797 \r\nL 219.37575 185.088797 \r\nL 219.37575 206.832797 \r\nL 197.63175 206.832797 \r\nL 197.63175 185.088797 \r\n\" style=\"fill:#1b112b;\"/>\r\n    <path clip-path=\"url(#pf1a5bb05f4)\" d=\"M 219.37575 185.088797 \r\nL 241.11975 185.088797 \r\nL 241.11975 206.832797 \r\nL 219.37575 206.832797 \r\nL 219.37575 185.088797 \r\n\" style=\"fill:#faebdd;\"/>\r\n    <path clip-path=\"url(#pf1a5bb05f4)\" d=\"M 241.11975 185.088797 \r\nL 262.86375 185.088797 \r\nL 262.86375 206.832797 \r\nL 241.11975 206.832797 \r\nL 241.11975 185.088797 \r\n\" style=\"fill:#451c47;\"/>\r\n    <path clip-path=\"url(#pf1a5bb05f4)\" d=\"M 45.42375 206.832797 \r\nL 67.16775 206.832797 \r\nL 67.16775 228.576797 \r\nL 45.42375 228.576797 \r\nL 45.42375 206.832797 \r\n\" style=\"fill:#401b44;\"/>\r\n    <path clip-path=\"url(#pf1a5bb05f4)\" d=\"M 67.16775 206.832797 \r\nL 88.91175 206.832797 \r\nL 88.91175 228.576797 \r\nL 67.16775 228.576797 \r\nL 67.16775 206.832797 \r\n\" style=\"fill:#160e27;\"/>\r\n    <path clip-path=\"url(#pf1a5bb05f4)\" d=\"M 88.91175 206.832797 \r\nL 110.65575 206.832797 \r\nL 110.65575 228.576797 \r\nL 88.91175 228.576797 \r\nL 88.91175 206.832797 \r\n\" style=\"fill:#130d25;\"/>\r\n    <path clip-path=\"url(#pf1a5bb05f4)\" d=\"M 110.65575 206.832797 \r\nL 132.39975 206.832797 \r\nL 132.39975 228.576797 \r\nL 110.65575 228.576797 \r\nL 110.65575 206.832797 \r\n\" style=\"fill:#130d25;\"/>\r\n    <path clip-path=\"url(#pf1a5bb05f4)\" d=\"M 132.39975 206.832797 \r\nL 154.14375 206.832797 \r\nL 154.14375 228.576797 \r\nL 132.39975 228.576797 \r\nL 132.39975 206.832797 \r\n\" style=\"fill:#160e27;\"/>\r\n    <path clip-path=\"url(#pf1a5bb05f4)\" d=\"M 154.14375 206.832797 \r\nL 175.88775 206.832797 \r\nL 175.88775 228.576797 \r\nL 154.14375 228.576797 \r\nL 154.14375 206.832797 \r\n\" style=\"fill:#4c1d4b;\"/>\r\n    <path clip-path=\"url(#pf1a5bb05f4)\" d=\"M 175.88775 206.832797 \r\nL 197.63175 206.832797 \r\nL 197.63175 228.576797 \r\nL 175.88775 228.576797 \r\nL 175.88775 206.832797 \r\n\" style=\"fill:#3a1a41;\"/>\r\n    <path clip-path=\"url(#pf1a5bb05f4)\" d=\"M 197.63175 206.832797 \r\nL 219.37575 206.832797 \r\nL 219.37575 228.576797 \r\nL 197.63175 228.576797 \r\nL 197.63175 206.832797 \r\n\" style=\"fill:#5e1f52;\"/>\r\n    <path clip-path=\"url(#pf1a5bb05f4)\" d=\"M 219.37575 206.832797 \r\nL 241.11975 206.832797 \r\nL 241.11975 228.576797 \r\nL 219.37575 228.576797 \r\nL 219.37575 206.832797 \r\n\" style=\"fill:#451c47;\"/>\r\n    <path clip-path=\"url(#pf1a5bb05f4)\" d=\"M 241.11975 206.832797 \r\nL 262.86375 206.832797 \r\nL 262.86375 228.576797 \r\nL 241.11975 228.576797 \r\nL 241.11975 206.832797 \r\n\" style=\"fill:#faebdd;\"/>\r\n   </g>\r\n   <g id=\"text_21\">\r\n    <!-- 1.00 -->\r\n    <g style=\"fill:#262626;\" transform=\"translate(44.619187 25.110984)scale(0.12 -0.12)\">\r\n     <defs>\r\n      <path d=\"M 2384 0 \r\nL 1822 0 \r\nL 1822 3584 \r\nQ 1619 3391 1289 3197 \r\nQ 959 3003 697 2906 \r\nL 697 3450 \r\nQ 1169 3672 1522 3987 \r\nQ 1875 4303 2022 4600 \r\nL 2384 4600 \r\nL 2384 0 \r\nz\r\n\" id=\"ArialMT-31\" transform=\"scale(0.015625)\"/>\r\n      <path d=\"M 581 0 \r\nL 581 641 \r\nL 1222 641 \r\nL 1222 0 \r\nL 581 0 \r\nz\r\n\" id=\"ArialMT-2e\" transform=\"scale(0.015625)\"/>\r\n      <path d=\"M 266 2259 \r\nQ 266 3072 433 3567 \r\nQ 600 4063 929 4331 \r\nQ 1259 4600 1759 4600 \r\nQ 2128 4600 2406 4451 \r\nQ 2684 4303 2865 4023 \r\nQ 3047 3744 3150 3342 \r\nQ 3253 2941 3253 2259 \r\nQ 3253 1453 3087 958 \r\nQ 2922 463 2592 192 \r\nQ 2263 -78 1759 -78 \r\nQ 1097 -78 719 397 \r\nQ 266 969 266 2259 \r\nz\r\nM 844 2259 \r\nQ 844 1131 1108 757 \r\nQ 1372 384 1759 384 \r\nQ 2147 384 2411 759 \r\nQ 2675 1134 2675 2259 \r\nQ 2675 3391 2411 3762 \r\nQ 2147 4134 1753 4134 \r\nQ 1366 4134 1134 3806 \r\nQ 844 3388 844 2259 \r\nz\r\n\" id=\"ArialMT-30\" transform=\"scale(0.015625)\"/>\r\n     </defs>\r\n     <use xlink:href=\"#ArialMT-31\"/>\r\n     <use x=\"55.615234\" xlink:href=\"#ArialMT-2e\"/>\r\n     <use x=\"83.398438\" xlink:href=\"#ArialMT-30\"/>\r\n     <use x=\"139.013672\" xlink:href=\"#ArialMT-30\"/>\r\n    </g>\r\n   </g>\r\n   <g id=\"text_22\">\r\n    <!-- 0.92 -->\r\n    <g style=\"fill:#262626;\" transform=\"translate(66.363187 25.110984)scale(0.12 -0.12)\">\r\n     <defs>\r\n      <path d=\"M 350 1059 \r\nL 891 1109 \r\nQ 959 728 1153 556 \r\nQ 1347 384 1650 384 \r\nQ 1909 384 2104 503 \r\nQ 2300 622 2425 820 \r\nQ 2550 1019 2634 1356 \r\nQ 2719 1694 2719 2044 \r\nQ 2719 2081 2716 2156 \r\nQ 2547 1888 2255 1720 \r\nQ 1963 1553 1622 1553 \r\nQ 1053 1553 659 1965 \r\nQ 266 2378 266 3053 \r\nQ 266 3750 677 4175 \r\nQ 1088 4600 1706 4600 \r\nQ 2153 4600 2523 4359 \r\nQ 2894 4119 3086 3673 \r\nQ 3278 3228 3278 2384 \r\nQ 3278 1506 3087 986 \r\nQ 2897 466 2520 194 \r\nQ 2144 -78 1638 -78 \r\nQ 1100 -78 759 220 \r\nQ 419 519 350 1059 \r\nz\r\nM 2653 3081 \r\nQ 2653 3566 2395 3850 \r\nQ 2138 4134 1775 4134 \r\nQ 1400 4134 1122 3828 \r\nQ 844 3522 844 3034 \r\nQ 844 2597 1108 2323 \r\nQ 1372 2050 1759 2050 \r\nQ 2150 2050 2401 2323 \r\nQ 2653 2597 2653 3081 \r\nz\r\n\" id=\"ArialMT-39\" transform=\"scale(0.015625)\"/>\r\n      <path d=\"M 3222 541 \r\nL 3222 0 \r\nL 194 0 \r\nQ 188 203 259 391 \r\nQ 375 700 629 1000 \r\nQ 884 1300 1366 1694 \r\nQ 2113 2306 2375 2664 \r\nQ 2638 3022 2638 3341 \r\nQ 2638 3675 2398 3904 \r\nQ 2159 4134 1775 4134 \r\nQ 1369 4134 1125 3890 \r\nQ 881 3647 878 3216 \r\nL 300 3275 \r\nQ 359 3922 746 4261 \r\nQ 1134 4600 1788 4600 \r\nQ 2447 4600 2831 4234 \r\nQ 3216 3869 3216 3328 \r\nQ 3216 3053 3103 2787 \r\nQ 2991 2522 2730 2228 \r\nQ 2469 1934 1863 1422 \r\nQ 1356 997 1212 845 \r\nQ 1069 694 975 541 \r\nL 3222 541 \r\nz\r\n\" id=\"ArialMT-32\" transform=\"scale(0.015625)\"/>\r\n     </defs>\r\n     <use xlink:href=\"#ArialMT-30\"/>\r\n     <use x=\"55.615234\" xlink:href=\"#ArialMT-2e\"/>\r\n     <use x=\"83.398438\" xlink:href=\"#ArialMT-39\"/>\r\n     <use x=\"139.013672\" xlink:href=\"#ArialMT-32\"/>\r\n    </g>\r\n   </g>\r\n   <g id=\"text_23\">\r\n    <!-- 0.88 -->\r\n    <g style=\"fill:#262626;\" transform=\"translate(88.107187 25.110984)scale(0.12 -0.12)\">\r\n     <defs>\r\n      <path d=\"M 1131 2484 \r\nQ 781 2613 612 2850 \r\nQ 444 3088 444 3419 \r\nQ 444 3919 803 4259 \r\nQ 1163 4600 1759 4600 \r\nQ 2359 4600 2725 4251 \r\nQ 3091 3903 3091 3403 \r\nQ 3091 3084 2923 2848 \r\nQ 2756 2613 2416 2484 \r\nQ 2838 2347 3058 2040 \r\nQ 3278 1734 3278 1309 \r\nQ 3278 722 2862 322 \r\nQ 2447 -78 1769 -78 \r\nQ 1091 -78 675 323 \r\nQ 259 725 259 1325 \r\nQ 259 1772 486 2073 \r\nQ 713 2375 1131 2484 \r\nz\r\nM 1019 3438 \r\nQ 1019 3113 1228 2906 \r\nQ 1438 2700 1772 2700 \r\nQ 2097 2700 2305 2904 \r\nQ 2513 3109 2513 3406 \r\nQ 2513 3716 2298 3927 \r\nQ 2084 4138 1766 4138 \r\nQ 1444 4138 1231 3931 \r\nQ 1019 3725 1019 3438 \r\nz\r\nM 838 1322 \r\nQ 838 1081 952 856 \r\nQ 1066 631 1291 507 \r\nQ 1516 384 1775 384 \r\nQ 2178 384 2440 643 \r\nQ 2703 903 2703 1303 \r\nQ 2703 1709 2433 1975 \r\nQ 2163 2241 1756 2241 \r\nQ 1359 2241 1098 1978 \r\nQ 838 1716 838 1322 \r\nz\r\n\" id=\"ArialMT-38\" transform=\"scale(0.015625)\"/>\r\n     </defs>\r\n     <use xlink:href=\"#ArialMT-30\"/>\r\n     <use x=\"55.615234\" xlink:href=\"#ArialMT-2e\"/>\r\n     <use x=\"83.398438\" xlink:href=\"#ArialMT-38\"/>\r\n     <use x=\"139.013672\" xlink:href=\"#ArialMT-38\"/>\r\n    </g>\r\n   </g>\r\n   <g id=\"text_24\">\r\n    <!-- 0.87 -->\r\n    <g style=\"fill:#262626;\" transform=\"translate(109.851187 25.110984)scale(0.12 -0.12)\">\r\n     <defs>\r\n      <path d=\"M 303 3981 \r\nL 303 4522 \r\nL 3269 4522 \r\nL 3269 4084 \r\nQ 2831 3619 2401 2847 \r\nQ 1972 2075 1738 1259 \r\nQ 1569 684 1522 0 \r\nL 944 0 \r\nQ 953 541 1156 1306 \r\nQ 1359 2072 1739 2783 \r\nQ 2119 3494 2547 3981 \r\nL 303 3981 \r\nz\r\n\" id=\"ArialMT-37\" transform=\"scale(0.015625)\"/>\r\n     </defs>\r\n     <use xlink:href=\"#ArialMT-30\"/>\r\n     <use x=\"55.615234\" xlink:href=\"#ArialMT-2e\"/>\r\n     <use x=\"83.398438\" xlink:href=\"#ArialMT-38\"/>\r\n     <use x=\"139.013672\" xlink:href=\"#ArialMT-37\"/>\r\n    </g>\r\n   </g>\r\n   <g id=\"text_25\">\r\n    <!-- 0.86 -->\r\n    <g style=\"fill:#262626;\" transform=\"translate(131.595188 25.110984)scale(0.12 -0.12)\">\r\n     <defs>\r\n      <path d=\"M 3184 3459 \r\nL 2625 3416 \r\nQ 2550 3747 2413 3897 \r\nQ 2184 4138 1850 4138 \r\nQ 1581 4138 1378 3988 \r\nQ 1113 3794 959 3422 \r\nQ 806 3050 800 2363 \r\nQ 1003 2672 1297 2822 \r\nQ 1591 2972 1913 2972 \r\nQ 2475 2972 2870 2558 \r\nQ 3266 2144 3266 1488 \r\nQ 3266 1056 3080 686 \r\nQ 2894 316 2569 119 \r\nQ 2244 -78 1831 -78 \r\nQ 1128 -78 684 439 \r\nQ 241 956 241 2144 \r\nQ 241 3472 731 4075 \r\nQ 1159 4600 1884 4600 \r\nQ 2425 4600 2770 4297 \r\nQ 3116 3994 3184 3459 \r\nz\r\nM 888 1484 \r\nQ 888 1194 1011 928 \r\nQ 1134 663 1356 523 \r\nQ 1578 384 1822 384 \r\nQ 2178 384 2434 671 \r\nQ 2691 959 2691 1453 \r\nQ 2691 1928 2437 2201 \r\nQ 2184 2475 1800 2475 \r\nQ 1419 2475 1153 2201 \r\nQ 888 1928 888 1484 \r\nz\r\n\" id=\"ArialMT-36\" transform=\"scale(0.015625)\"/>\r\n     </defs>\r\n     <use xlink:href=\"#ArialMT-30\"/>\r\n     <use x=\"55.615234\" xlink:href=\"#ArialMT-2e\"/>\r\n     <use x=\"83.398438\" xlink:href=\"#ArialMT-38\"/>\r\n     <use x=\"139.013672\" xlink:href=\"#ArialMT-36\"/>\r\n    </g>\r\n   </g>\r\n   <g id=\"text_26\">\r\n    <!-- 0.17 -->\r\n    <g style=\"fill:#ffffff;\" transform=\"translate(153.339188 25.110984)scale(0.12 -0.12)\">\r\n     <use xlink:href=\"#ArialMT-30\"/>\r\n     <use x=\"55.615234\" xlink:href=\"#ArialMT-2e\"/>\r\n     <use x=\"83.398438\" xlink:href=\"#ArialMT-31\"/>\r\n     <use x=\"139.013672\" xlink:href=\"#ArialMT-37\"/>\r\n    </g>\r\n   </g>\r\n   <g id=\"text_27\">\r\n    <!-- 0.13 -->\r\n    <g style=\"fill:#ffffff;\" transform=\"translate(175.083188 25.110984)scale(0.12 -0.12)\">\r\n     <defs>\r\n      <path d=\"M 269 1209 \r\nL 831 1284 \r\nQ 928 806 1161 595 \r\nQ 1394 384 1728 384 \r\nQ 2125 384 2398 659 \r\nQ 2672 934 2672 1341 \r\nQ 2672 1728 2419 1979 \r\nQ 2166 2231 1775 2231 \r\nQ 1616 2231 1378 2169 \r\nL 1441 2663 \r\nQ 1497 2656 1531 2656 \r\nQ 1891 2656 2178 2843 \r\nQ 2466 3031 2466 3422 \r\nQ 2466 3731 2256 3934 \r\nQ 2047 4138 1716 4138 \r\nQ 1388 4138 1169 3931 \r\nQ 950 3725 888 3313 \r\nL 325 3413 \r\nQ 428 3978 793 4289 \r\nQ 1159 4600 1703 4600 \r\nQ 2078 4600 2393 4439 \r\nQ 2709 4278 2876 4000 \r\nQ 3044 3722 3044 3409 \r\nQ 3044 3113 2884 2869 \r\nQ 2725 2625 2413 2481 \r\nQ 2819 2388 3044 2092 \r\nQ 3269 1797 3269 1353 \r\nQ 3269 753 2831 336 \r\nQ 2394 -81 1725 -81 \r\nQ 1122 -81 723 278 \r\nQ 325 638 269 1209 \r\nz\r\n\" id=\"ArialMT-33\" transform=\"scale(0.015625)\"/>\r\n     </defs>\r\n     <use xlink:href=\"#ArialMT-30\"/>\r\n     <use x=\"55.615234\" xlink:href=\"#ArialMT-2e\"/>\r\n     <use x=\"83.398438\" xlink:href=\"#ArialMT-31\"/>\r\n     <use x=\"139.013672\" xlink:href=\"#ArialMT-33\"/>\r\n    </g>\r\n   </g>\r\n   <g id=\"text_28\">\r\n    <!-- 0.04 -->\r\n    <g style=\"fill:#ffffff;\" transform=\"translate(196.827187 25.110984)scale(0.12 -0.12)\">\r\n     <defs>\r\n      <path d=\"M 2069 0 \r\nL 2069 1097 \r\nL 81 1097 \r\nL 81 1613 \r\nL 2172 4581 \r\nL 2631 4581 \r\nL 2631 1613 \r\nL 3250 1613 \r\nL 3250 1097 \r\nL 2631 1097 \r\nL 2631 0 \r\nL 2069 0 \r\nz\r\nM 2069 1613 \r\nL 2069 3678 \r\nL 634 1613 \r\nL 2069 1613 \r\nz\r\n\" id=\"ArialMT-34\" transform=\"scale(0.015625)\"/>\r\n     </defs>\r\n     <use xlink:href=\"#ArialMT-30\"/>\r\n     <use x=\"55.615234\" xlink:href=\"#ArialMT-2e\"/>\r\n     <use x=\"83.398438\" xlink:href=\"#ArialMT-30\"/>\r\n     <use x=\"139.013672\" xlink:href=\"#ArialMT-34\"/>\r\n    </g>\r\n   </g>\r\n   <g id=\"text_29\">\r\n    <!-- -0.01 -->\r\n    <g style=\"fill:#ffffff;\" transform=\"translate(216.573375 25.110984)scale(0.12 -0.12)\">\r\n     <defs>\r\n      <path d=\"M 203 1375 \r\nL 203 1941 \r\nL 1931 1941 \r\nL 1931 1375 \r\nL 203 1375 \r\nz\r\n\" id=\"ArialMT-2d\" transform=\"scale(0.015625)\"/>\r\n     </defs>\r\n     <use xlink:href=\"#ArialMT-2d\"/>\r\n     <use x=\"33.300781\" xlink:href=\"#ArialMT-30\"/>\r\n     <use x=\"88.916016\" xlink:href=\"#ArialMT-2e\"/>\r\n     <use x=\"116.699219\" xlink:href=\"#ArialMT-30\"/>\r\n     <use x=\"172.314453\" xlink:href=\"#ArialMT-31\"/>\r\n    </g>\r\n   </g>\r\n   <g id=\"text_30\">\r\n    <!-- -0.07 -->\r\n    <g style=\"fill:#ffffff;\" transform=\"translate(238.317375 25.110984)scale(0.12 -0.12)\">\r\n     <use xlink:href=\"#ArialMT-2d\"/>\r\n     <use x=\"33.300781\" xlink:href=\"#ArialMT-30\"/>\r\n     <use x=\"88.916016\" xlink:href=\"#ArialMT-2e\"/>\r\n     <use x=\"116.699219\" xlink:href=\"#ArialMT-30\"/>\r\n     <use x=\"172.314453\" xlink:href=\"#ArialMT-37\"/>\r\n    </g>\r\n   </g>\r\n   <g id=\"text_31\">\r\n    <!-- 0.92 -->\r\n    <g style=\"fill:#262626;\" transform=\"translate(44.619187 46.854984)scale(0.12 -0.12)\">\r\n     <use xlink:href=\"#ArialMT-30\"/>\r\n     <use x=\"55.615234\" xlink:href=\"#ArialMT-2e\"/>\r\n     <use x=\"83.398438\" xlink:href=\"#ArialMT-39\"/>\r\n     <use x=\"139.013672\" xlink:href=\"#ArialMT-32\"/>\r\n    </g>\r\n   </g>\r\n   <g id=\"text_32\">\r\n    <!-- 1.00 -->\r\n    <g style=\"fill:#262626;\" transform=\"translate(66.363187 46.854984)scale(0.12 -0.12)\">\r\n     <use xlink:href=\"#ArialMT-31\"/>\r\n     <use x=\"55.615234\" xlink:href=\"#ArialMT-2e\"/>\r\n     <use x=\"83.398438\" xlink:href=\"#ArialMT-30\"/>\r\n     <use x=\"139.013672\" xlink:href=\"#ArialMT-30\"/>\r\n    </g>\r\n   </g>\r\n   <g id=\"text_33\">\r\n    <!-- 0.98 -->\r\n    <g style=\"fill:#262626;\" transform=\"translate(88.107187 46.854984)scale(0.12 -0.12)\">\r\n     <use xlink:href=\"#ArialMT-30\"/>\r\n     <use x=\"55.615234\" xlink:href=\"#ArialMT-2e\"/>\r\n     <use x=\"83.398438\" xlink:href=\"#ArialMT-39\"/>\r\n     <use x=\"139.013672\" xlink:href=\"#ArialMT-38\"/>\r\n    </g>\r\n   </g>\r\n   <g id=\"text_34\">\r\n    <!-- 0.97 -->\r\n    <g style=\"fill:#262626;\" transform=\"translate(109.851187 46.854984)scale(0.12 -0.12)\">\r\n     <use xlink:href=\"#ArialMT-30\"/>\r\n     <use x=\"55.615234\" xlink:href=\"#ArialMT-2e\"/>\r\n     <use x=\"83.398438\" xlink:href=\"#ArialMT-39\"/>\r\n     <use x=\"139.013672\" xlink:href=\"#ArialMT-37\"/>\r\n    </g>\r\n   </g>\r\n   <g id=\"text_35\">\r\n    <!-- 0.94 -->\r\n    <g style=\"fill:#262626;\" transform=\"translate(131.595188 46.854984)scale(0.12 -0.12)\">\r\n     <use xlink:href=\"#ArialMT-30\"/>\r\n     <use x=\"55.615234\" xlink:href=\"#ArialMT-2e\"/>\r\n     <use x=\"83.398438\" xlink:href=\"#ArialMT-39\"/>\r\n     <use x=\"139.013672\" xlink:href=\"#ArialMT-34\"/>\r\n    </g>\r\n   </g>\r\n   <g id=\"text_36\">\r\n    <!-- 0.29 -->\r\n    <g style=\"fill:#ffffff;\" transform=\"translate(153.339188 46.854984)scale(0.12 -0.12)\">\r\n     <use xlink:href=\"#ArialMT-30\"/>\r\n     <use x=\"55.615234\" xlink:href=\"#ArialMT-2e\"/>\r\n     <use x=\"83.398438\" xlink:href=\"#ArialMT-32\"/>\r\n     <use x=\"139.013672\" xlink:href=\"#ArialMT-39\"/>\r\n    </g>\r\n   </g>\r\n   <g id=\"text_37\">\r\n    <!-- 0.18 -->\r\n    <g style=\"fill:#ffffff;\" transform=\"translate(175.083188 46.854984)scale(0.12 -0.12)\">\r\n     <use xlink:href=\"#ArialMT-30\"/>\r\n     <use x=\"55.615234\" xlink:href=\"#ArialMT-2e\"/>\r\n     <use x=\"83.398438\" xlink:href=\"#ArialMT-31\"/>\r\n     <use x=\"139.013672\" xlink:href=\"#ArialMT-38\"/>\r\n    </g>\r\n   </g>\r\n   <g id=\"text_38\">\r\n    <!-- 0.02 -->\r\n    <g style=\"fill:#ffffff;\" transform=\"translate(196.827187 46.854984)scale(0.12 -0.12)\">\r\n     <use xlink:href=\"#ArialMT-30\"/>\r\n     <use x=\"55.615234\" xlink:href=\"#ArialMT-2e\"/>\r\n     <use x=\"83.398438\" xlink:href=\"#ArialMT-30\"/>\r\n     <use x=\"139.013672\" xlink:href=\"#ArialMT-32\"/>\r\n    </g>\r\n   </g>\r\n   <g id=\"text_39\">\r\n    <!-- 0.03 -->\r\n    <g style=\"fill:#ffffff;\" transform=\"translate(218.571188 46.854984)scale(0.12 -0.12)\">\r\n     <use xlink:href=\"#ArialMT-30\"/>\r\n     <use x=\"55.615234\" xlink:href=\"#ArialMT-2e\"/>\r\n     <use x=\"83.398438\" xlink:href=\"#ArialMT-30\"/>\r\n     <use x=\"139.013672\" xlink:href=\"#ArialMT-33\"/>\r\n    </g>\r\n   </g>\r\n   <g id=\"text_40\">\r\n    <!-- -0.21 -->\r\n    <g style=\"fill:#ffffff;\" transform=\"translate(238.317375 46.854984)scale(0.12 -0.12)\">\r\n     <use xlink:href=\"#ArialMT-2d\"/>\r\n     <use x=\"33.300781\" xlink:href=\"#ArialMT-30\"/>\r\n     <use x=\"88.916016\" xlink:href=\"#ArialMT-2e\"/>\r\n     <use x=\"116.699219\" xlink:href=\"#ArialMT-32\"/>\r\n     <use x=\"172.314453\" xlink:href=\"#ArialMT-31\"/>\r\n    </g>\r\n   </g>\r\n   <g id=\"text_41\">\r\n    <!-- 0.88 -->\r\n    <g style=\"fill:#262626;\" transform=\"translate(44.619187 68.598984)scale(0.12 -0.12)\">\r\n     <use xlink:href=\"#ArialMT-30\"/>\r\n     <use x=\"55.615234\" xlink:href=\"#ArialMT-2e\"/>\r\n     <use x=\"83.398438\" xlink:href=\"#ArialMT-38\"/>\r\n     <use x=\"139.013672\" xlink:href=\"#ArialMT-38\"/>\r\n    </g>\r\n   </g>\r\n   <g id=\"text_42\">\r\n    <!-- 0.98 -->\r\n    <g style=\"fill:#262626;\" transform=\"translate(66.363187 68.598984)scale(0.12 -0.12)\">\r\n     <use xlink:href=\"#ArialMT-30\"/>\r\n     <use x=\"55.615234\" xlink:href=\"#ArialMT-2e\"/>\r\n     <use x=\"83.398438\" xlink:href=\"#ArialMT-39\"/>\r\n     <use x=\"139.013672\" xlink:href=\"#ArialMT-38\"/>\r\n    </g>\r\n   </g>\r\n   <g id=\"text_43\">\r\n    <!-- 1.00 -->\r\n    <g style=\"fill:#262626;\" transform=\"translate(88.107187 68.598984)scale(0.12 -0.12)\">\r\n     <use xlink:href=\"#ArialMT-31\"/>\r\n     <use x=\"55.615234\" xlink:href=\"#ArialMT-2e\"/>\r\n     <use x=\"83.398438\" xlink:href=\"#ArialMT-30\"/>\r\n     <use x=\"139.013672\" xlink:href=\"#ArialMT-30\"/>\r\n    </g>\r\n   </g>\r\n   <g id=\"text_44\">\r\n    <!-- 0.99 -->\r\n    <g style=\"fill:#262626;\" transform=\"translate(109.851187 68.598984)scale(0.12 -0.12)\">\r\n     <use xlink:href=\"#ArialMT-30\"/>\r\n     <use x=\"55.615234\" xlink:href=\"#ArialMT-2e\"/>\r\n     <use x=\"83.398438\" xlink:href=\"#ArialMT-39\"/>\r\n     <use x=\"139.013672\" xlink:href=\"#ArialMT-39\"/>\r\n    </g>\r\n   </g>\r\n   <g id=\"text_45\">\r\n    <!-- 0.97 -->\r\n    <g style=\"fill:#262626;\" transform=\"translate(131.595188 68.598984)scale(0.12 -0.12)\">\r\n     <use xlink:href=\"#ArialMT-30\"/>\r\n     <use x=\"55.615234\" xlink:href=\"#ArialMT-2e\"/>\r\n     <use x=\"83.398438\" xlink:href=\"#ArialMT-39\"/>\r\n     <use x=\"139.013672\" xlink:href=\"#ArialMT-37\"/>\r\n    </g>\r\n   </g>\r\n   <g id=\"text_46\">\r\n    <!-- 0.26 -->\r\n    <g style=\"fill:#ffffff;\" transform=\"translate(153.339188 68.598984)scale(0.12 -0.12)\">\r\n     <use xlink:href=\"#ArialMT-30\"/>\r\n     <use x=\"55.615234\" xlink:href=\"#ArialMT-2e\"/>\r\n     <use x=\"83.398438\" xlink:href=\"#ArialMT-32\"/>\r\n     <use x=\"139.013672\" xlink:href=\"#ArialMT-36\"/>\r\n    </g>\r\n   </g>\r\n   <g id=\"text_47\">\r\n    <!-- 0.19 -->\r\n    <g style=\"fill:#ffffff;\" transform=\"translate(175.083188 68.598984)scale(0.12 -0.12)\">\r\n     <use xlink:href=\"#ArialMT-30\"/>\r\n     <use x=\"55.615234\" xlink:href=\"#ArialMT-2e\"/>\r\n     <use x=\"83.398438\" xlink:href=\"#ArialMT-31\"/>\r\n     <use x=\"139.013672\" xlink:href=\"#ArialMT-39\"/>\r\n    </g>\r\n   </g>\r\n   <g id=\"text_48\">\r\n    <!-- 0.02 -->\r\n    <g style=\"fill:#ffffff;\" transform=\"translate(196.827187 68.598984)scale(0.12 -0.12)\">\r\n     <use xlink:href=\"#ArialMT-30\"/>\r\n     <use x=\"55.615234\" xlink:href=\"#ArialMT-2e\"/>\r\n     <use x=\"83.398438\" xlink:href=\"#ArialMT-30\"/>\r\n     <use x=\"139.013672\" xlink:href=\"#ArialMT-32\"/>\r\n    </g>\r\n   </g>\r\n   <g id=\"text_49\">\r\n    <!-- -0.02 -->\r\n    <g style=\"fill:#ffffff;\" transform=\"translate(216.573375 68.598984)scale(0.12 -0.12)\">\r\n     <use xlink:href=\"#ArialMT-2d\"/>\r\n     <use x=\"33.300781\" xlink:href=\"#ArialMT-30\"/>\r\n     <use x=\"88.916016\" xlink:href=\"#ArialMT-2e\"/>\r\n     <use x=\"116.699219\" xlink:href=\"#ArialMT-30\"/>\r\n     <use x=\"172.314453\" xlink:href=\"#ArialMT-32\"/>\r\n    </g>\r\n   </g>\r\n   <g id=\"text_50\">\r\n    <!-- -0.23 -->\r\n    <g style=\"fill:#ffffff;\" transform=\"translate(238.317375 68.598984)scale(0.12 -0.12)\">\r\n     <use xlink:href=\"#ArialMT-2d\"/>\r\n     <use x=\"33.300781\" xlink:href=\"#ArialMT-30\"/>\r\n     <use x=\"88.916016\" xlink:href=\"#ArialMT-2e\"/>\r\n     <use x=\"116.699219\" xlink:href=\"#ArialMT-32\"/>\r\n     <use x=\"172.314453\" xlink:href=\"#ArialMT-33\"/>\r\n    </g>\r\n   </g>\r\n   <g id=\"text_51\">\r\n    <!-- 0.87 -->\r\n    <g style=\"fill:#262626;\" transform=\"translate(44.619187 90.342984)scale(0.12 -0.12)\">\r\n     <use xlink:href=\"#ArialMT-30\"/>\r\n     <use x=\"55.615234\" xlink:href=\"#ArialMT-2e\"/>\r\n     <use x=\"83.398438\" xlink:href=\"#ArialMT-38\"/>\r\n     <use x=\"139.013672\" xlink:href=\"#ArialMT-37\"/>\r\n    </g>\r\n   </g>\r\n   <g id=\"text_52\">\r\n    <!-- 0.97 -->\r\n    <g style=\"fill:#262626;\" transform=\"translate(66.363187 90.342984)scale(0.12 -0.12)\">\r\n     <use xlink:href=\"#ArialMT-30\"/>\r\n     <use x=\"55.615234\" xlink:href=\"#ArialMT-2e\"/>\r\n     <use x=\"83.398438\" xlink:href=\"#ArialMT-39\"/>\r\n     <use x=\"139.013672\" xlink:href=\"#ArialMT-37\"/>\r\n    </g>\r\n   </g>\r\n   <g id=\"text_53\">\r\n    <!-- 0.99 -->\r\n    <g style=\"fill:#262626;\" transform=\"translate(88.107187 90.342984)scale(0.12 -0.12)\">\r\n     <use xlink:href=\"#ArialMT-30\"/>\r\n     <use x=\"55.615234\" xlink:href=\"#ArialMT-2e\"/>\r\n     <use x=\"83.398438\" xlink:href=\"#ArialMT-39\"/>\r\n     <use x=\"139.013672\" xlink:href=\"#ArialMT-39\"/>\r\n    </g>\r\n   </g>\r\n   <g id=\"text_54\">\r\n    <!-- 1.00 -->\r\n    <g style=\"fill:#262626;\" transform=\"translate(109.851187 90.342984)scale(0.12 -0.12)\">\r\n     <use xlink:href=\"#ArialMT-31\"/>\r\n     <use x=\"55.615234\" xlink:href=\"#ArialMT-2e\"/>\r\n     <use x=\"83.398438\" xlink:href=\"#ArialMT-30\"/>\r\n     <use x=\"139.013672\" xlink:href=\"#ArialMT-30\"/>\r\n    </g>\r\n   </g>\r\n   <g id=\"text_55\">\r\n    <!-- 0.96 -->\r\n    <g style=\"fill:#262626;\" transform=\"translate(131.595188 90.342984)scale(0.12 -0.12)\">\r\n     <use xlink:href=\"#ArialMT-30\"/>\r\n     <use x=\"55.615234\" xlink:href=\"#ArialMT-2e\"/>\r\n     <use x=\"83.398438\" xlink:href=\"#ArialMT-39\"/>\r\n     <use x=\"139.013672\" xlink:href=\"#ArialMT-36\"/>\r\n    </g>\r\n   </g>\r\n   <g id=\"text_56\">\r\n    <!-- 0.27 -->\r\n    <g style=\"fill:#ffffff;\" transform=\"translate(153.339188 90.342984)scale(0.12 -0.12)\">\r\n     <use xlink:href=\"#ArialMT-30\"/>\r\n     <use x=\"55.615234\" xlink:href=\"#ArialMT-2e\"/>\r\n     <use x=\"83.398438\" xlink:href=\"#ArialMT-32\"/>\r\n     <use x=\"139.013672\" xlink:href=\"#ArialMT-37\"/>\r\n    </g>\r\n   </g>\r\n   <g id=\"text_57\">\r\n    <!-- 0.15 -->\r\n    <g style=\"fill:#ffffff;\" transform=\"translate(175.083188 90.342984)scale(0.12 -0.12)\">\r\n     <defs>\r\n      <path d=\"M 266 1200 \r\nL 856 1250 \r\nQ 922 819 1161 601 \r\nQ 1400 384 1738 384 \r\nQ 2144 384 2425 690 \r\nQ 2706 997 2706 1503 \r\nQ 2706 1984 2436 2262 \r\nQ 2166 2541 1728 2541 \r\nQ 1456 2541 1237 2417 \r\nQ 1019 2294 894 2097 \r\nL 366 2166 \r\nL 809 4519 \r\nL 3088 4519 \r\nL 3088 3981 \r\nL 1259 3981 \r\nL 1013 2750 \r\nQ 1425 3038 1878 3038 \r\nQ 2478 3038 2890 2622 \r\nQ 3303 2206 3303 1553 \r\nQ 3303 931 2941 478 \r\nQ 2500 -78 1738 -78 \r\nQ 1113 -78 717 272 \r\nQ 322 622 266 1200 \r\nz\r\n\" id=\"ArialMT-35\" transform=\"scale(0.015625)\"/>\r\n     </defs>\r\n     <use xlink:href=\"#ArialMT-30\"/>\r\n     <use x=\"55.615234\" xlink:href=\"#ArialMT-2e\"/>\r\n     <use x=\"83.398438\" xlink:href=\"#ArialMT-31\"/>\r\n     <use x=\"139.013672\" xlink:href=\"#ArialMT-35\"/>\r\n    </g>\r\n   </g>\r\n   <g id=\"text_58\">\r\n    <!-- 0.00 -->\r\n    <g style=\"fill:#ffffff;\" transform=\"translate(196.827187 90.342984)scale(0.12 -0.12)\">\r\n     <use xlink:href=\"#ArialMT-30\"/>\r\n     <use x=\"55.615234\" xlink:href=\"#ArialMT-2e\"/>\r\n     <use x=\"83.398438\" xlink:href=\"#ArialMT-30\"/>\r\n     <use x=\"139.013672\" xlink:href=\"#ArialMT-30\"/>\r\n    </g>\r\n   </g>\r\n   <g id=\"text_59\">\r\n    <!-- 0.10 -->\r\n    <g style=\"fill:#ffffff;\" transform=\"translate(218.571188 90.342984)scale(0.12 -0.12)\">\r\n     <use xlink:href=\"#ArialMT-30\"/>\r\n     <use x=\"55.615234\" xlink:href=\"#ArialMT-2e\"/>\r\n     <use x=\"83.398438\" xlink:href=\"#ArialMT-31\"/>\r\n     <use x=\"139.013672\" xlink:href=\"#ArialMT-30\"/>\r\n    </g>\r\n   </g>\r\n   <g id=\"text_60\">\r\n    <!-- -0.23 -->\r\n    <g style=\"fill:#ffffff;\" transform=\"translate(238.317375 90.342984)scale(0.12 -0.12)\">\r\n     <use xlink:href=\"#ArialMT-2d\"/>\r\n     <use x=\"33.300781\" xlink:href=\"#ArialMT-30\"/>\r\n     <use x=\"88.916016\" xlink:href=\"#ArialMT-2e\"/>\r\n     <use x=\"116.699219\" xlink:href=\"#ArialMT-32\"/>\r\n     <use x=\"172.314453\" xlink:href=\"#ArialMT-33\"/>\r\n    </g>\r\n   </g>\r\n   <g id=\"text_61\">\r\n    <!-- 0.86 -->\r\n    <g style=\"fill:#262626;\" transform=\"translate(44.619187 112.086984)scale(0.12 -0.12)\">\r\n     <use xlink:href=\"#ArialMT-30\"/>\r\n     <use x=\"55.615234\" xlink:href=\"#ArialMT-2e\"/>\r\n     <use x=\"83.398438\" xlink:href=\"#ArialMT-38\"/>\r\n     <use x=\"139.013672\" xlink:href=\"#ArialMT-36\"/>\r\n    </g>\r\n   </g>\r\n   <g id=\"text_62\">\r\n    <!-- 0.94 -->\r\n    <g style=\"fill:#262626;\" transform=\"translate(66.363187 112.086984)scale(0.12 -0.12)\">\r\n     <use xlink:href=\"#ArialMT-30\"/>\r\n     <use x=\"55.615234\" xlink:href=\"#ArialMT-2e\"/>\r\n     <use x=\"83.398438\" xlink:href=\"#ArialMT-39\"/>\r\n     <use x=\"139.013672\" xlink:href=\"#ArialMT-34\"/>\r\n    </g>\r\n   </g>\r\n   <g id=\"text_63\">\r\n    <!-- 0.97 -->\r\n    <g style=\"fill:#262626;\" transform=\"translate(88.107187 112.086984)scale(0.12 -0.12)\">\r\n     <use xlink:href=\"#ArialMT-30\"/>\r\n     <use x=\"55.615234\" xlink:href=\"#ArialMT-2e\"/>\r\n     <use x=\"83.398438\" xlink:href=\"#ArialMT-39\"/>\r\n     <use x=\"139.013672\" xlink:href=\"#ArialMT-37\"/>\r\n    </g>\r\n   </g>\r\n   <g id=\"text_64\">\r\n    <!-- 0.96 -->\r\n    <g style=\"fill:#262626;\" transform=\"translate(109.851187 112.086984)scale(0.12 -0.12)\">\r\n     <use xlink:href=\"#ArialMT-30\"/>\r\n     <use x=\"55.615234\" xlink:href=\"#ArialMT-2e\"/>\r\n     <use x=\"83.398438\" xlink:href=\"#ArialMT-39\"/>\r\n     <use x=\"139.013672\" xlink:href=\"#ArialMT-36\"/>\r\n    </g>\r\n   </g>\r\n   <g id=\"text_65\">\r\n    <!-- 1.00 -->\r\n    <g style=\"fill:#262626;\" transform=\"translate(131.595188 112.086984)scale(0.12 -0.12)\">\r\n     <use xlink:href=\"#ArialMT-31\"/>\r\n     <use x=\"55.615234\" xlink:href=\"#ArialMT-2e\"/>\r\n     <use x=\"83.398438\" xlink:href=\"#ArialMT-30\"/>\r\n     <use x=\"139.013672\" xlink:href=\"#ArialMT-30\"/>\r\n    </g>\r\n   </g>\r\n   <g id=\"text_66\">\r\n    <!-- 0.26 -->\r\n    <g style=\"fill:#ffffff;\" transform=\"translate(153.339188 112.086984)scale(0.12 -0.12)\">\r\n     <use xlink:href=\"#ArialMT-30\"/>\r\n     <use x=\"55.615234\" xlink:href=\"#ArialMT-2e\"/>\r\n     <use x=\"83.398438\" xlink:href=\"#ArialMT-32\"/>\r\n     <use x=\"139.013672\" xlink:href=\"#ArialMT-36\"/>\r\n    </g>\r\n   </g>\r\n   <g id=\"text_67\">\r\n    <!-- 0.18 -->\r\n    <g style=\"fill:#ffffff;\" transform=\"translate(175.083188 112.086984)scale(0.12 -0.12)\">\r\n     <use xlink:href=\"#ArialMT-30\"/>\r\n     <use x=\"55.615234\" xlink:href=\"#ArialMT-2e\"/>\r\n     <use x=\"83.398438\" xlink:href=\"#ArialMT-31\"/>\r\n     <use x=\"139.013672\" xlink:href=\"#ArialMT-38\"/>\r\n    </g>\r\n   </g>\r\n   <g id=\"text_68\">\r\n    <!-- 0.03 -->\r\n    <g style=\"fill:#ffffff;\" transform=\"translate(196.827187 112.086984)scale(0.12 -0.12)\">\r\n     <use xlink:href=\"#ArialMT-30\"/>\r\n     <use x=\"55.615234\" xlink:href=\"#ArialMT-2e\"/>\r\n     <use x=\"83.398438\" xlink:href=\"#ArialMT-30\"/>\r\n     <use x=\"139.013672\" xlink:href=\"#ArialMT-33\"/>\r\n    </g>\r\n   </g>\r\n   <g id=\"text_69\">\r\n    <!-- -0.03 -->\r\n    <g style=\"fill:#ffffff;\" transform=\"translate(216.573375 112.086984)scale(0.12 -0.12)\">\r\n     <use xlink:href=\"#ArialMT-2d\"/>\r\n     <use x=\"33.300781\" xlink:href=\"#ArialMT-30\"/>\r\n     <use x=\"88.916016\" xlink:href=\"#ArialMT-2e\"/>\r\n     <use x=\"116.699219\" xlink:href=\"#ArialMT-30\"/>\r\n     <use x=\"172.314453\" xlink:href=\"#ArialMT-33\"/>\r\n    </g>\r\n   </g>\r\n   <g id=\"text_70\">\r\n    <!-- -0.22 -->\r\n    <g style=\"fill:#ffffff;\" transform=\"translate(238.317375 112.086984)scale(0.12 -0.12)\">\r\n     <use xlink:href=\"#ArialMT-2d\"/>\r\n     <use x=\"33.300781\" xlink:href=\"#ArialMT-30\"/>\r\n     <use x=\"88.916016\" xlink:href=\"#ArialMT-2e\"/>\r\n     <use x=\"116.699219\" xlink:href=\"#ArialMT-32\"/>\r\n     <use x=\"172.314453\" xlink:href=\"#ArialMT-32\"/>\r\n    </g>\r\n   </g>\r\n   <g id=\"text_71\">\r\n    <!-- 0.17 -->\r\n    <g style=\"fill:#ffffff;\" transform=\"translate(44.619187 133.830984)scale(0.12 -0.12)\">\r\n     <use xlink:href=\"#ArialMT-30\"/>\r\n     <use x=\"55.615234\" xlink:href=\"#ArialMT-2e\"/>\r\n     <use x=\"83.398438\" xlink:href=\"#ArialMT-31\"/>\r\n     <use x=\"139.013672\" xlink:href=\"#ArialMT-37\"/>\r\n    </g>\r\n   </g>\r\n   <g id=\"text_72\">\r\n    <!-- 0.29 -->\r\n    <g style=\"fill:#ffffff;\" transform=\"translate(66.363187 133.830984)scale(0.12 -0.12)\">\r\n     <use xlink:href=\"#ArialMT-30\"/>\r\n     <use x=\"55.615234\" xlink:href=\"#ArialMT-2e\"/>\r\n     <use x=\"83.398438\" xlink:href=\"#ArialMT-32\"/>\r\n     <use x=\"139.013672\" xlink:href=\"#ArialMT-39\"/>\r\n    </g>\r\n   </g>\r\n   <g id=\"text_73\">\r\n    <!-- 0.26 -->\r\n    <g style=\"fill:#ffffff;\" transform=\"translate(88.107187 133.830984)scale(0.12 -0.12)\">\r\n     <use xlink:href=\"#ArialMT-30\"/>\r\n     <use x=\"55.615234\" xlink:href=\"#ArialMT-2e\"/>\r\n     <use x=\"83.398438\" xlink:href=\"#ArialMT-32\"/>\r\n     <use x=\"139.013672\" xlink:href=\"#ArialMT-36\"/>\r\n    </g>\r\n   </g>\r\n   <g id=\"text_74\">\r\n    <!-- 0.27 -->\r\n    <g style=\"fill:#ffffff;\" transform=\"translate(109.851187 133.830984)scale(0.12 -0.12)\">\r\n     <use xlink:href=\"#ArialMT-30\"/>\r\n     <use x=\"55.615234\" xlink:href=\"#ArialMT-2e\"/>\r\n     <use x=\"83.398438\" xlink:href=\"#ArialMT-32\"/>\r\n     <use x=\"139.013672\" xlink:href=\"#ArialMT-37\"/>\r\n    </g>\r\n   </g>\r\n   <g id=\"text_75\">\r\n    <!-- 0.26 -->\r\n    <g style=\"fill:#ffffff;\" transform=\"translate(131.595188 133.830984)scale(0.12 -0.12)\">\r\n     <use xlink:href=\"#ArialMT-30\"/>\r\n     <use x=\"55.615234\" xlink:href=\"#ArialMT-2e\"/>\r\n     <use x=\"83.398438\" xlink:href=\"#ArialMT-32\"/>\r\n     <use x=\"139.013672\" xlink:href=\"#ArialMT-36\"/>\r\n    </g>\r\n   </g>\r\n   <g id=\"text_76\">\r\n    <!-- 1.00 -->\r\n    <g style=\"fill:#262626;\" transform=\"translate(153.339188 133.830984)scale(0.12 -0.12)\">\r\n     <use xlink:href=\"#ArialMT-31\"/>\r\n     <use x=\"55.615234\" xlink:href=\"#ArialMT-2e\"/>\r\n     <use x=\"83.398438\" xlink:href=\"#ArialMT-30\"/>\r\n     <use x=\"139.013672\" xlink:href=\"#ArialMT-30\"/>\r\n    </g>\r\n   </g>\r\n   <g id=\"text_77\">\r\n    <!-- 0.02 -->\r\n    <g style=\"fill:#ffffff;\" transform=\"translate(175.083188 133.830984)scale(0.12 -0.12)\">\r\n     <use xlink:href=\"#ArialMT-30\"/>\r\n     <use x=\"55.615234\" xlink:href=\"#ArialMT-2e\"/>\r\n     <use x=\"83.398438\" xlink:href=\"#ArialMT-30\"/>\r\n     <use x=\"139.013672\" xlink:href=\"#ArialMT-32\"/>\r\n    </g>\r\n   </g>\r\n   <g id=\"text_78\">\r\n    <!-- -0.00 -->\r\n    <g style=\"fill:#ffffff;\" transform=\"translate(194.829375 133.830984)scale(0.12 -0.12)\">\r\n     <use xlink:href=\"#ArialMT-2d\"/>\r\n     <use x=\"33.300781\" xlink:href=\"#ArialMT-30\"/>\r\n     <use x=\"88.916016\" xlink:href=\"#ArialMT-2e\"/>\r\n     <use x=\"116.699219\" xlink:href=\"#ArialMT-30\"/>\r\n     <use x=\"172.314453\" xlink:href=\"#ArialMT-30\"/>\r\n    </g>\r\n   </g>\r\n   <g id=\"text_79\">\r\n    <!-- 0.05 -->\r\n    <g style=\"fill:#ffffff;\" transform=\"translate(218.571188 133.830984)scale(0.12 -0.12)\">\r\n     <use xlink:href=\"#ArialMT-30\"/>\r\n     <use x=\"55.615234\" xlink:href=\"#ArialMT-2e\"/>\r\n     <use x=\"83.398438\" xlink:href=\"#ArialMT-30\"/>\r\n     <use x=\"139.013672\" xlink:href=\"#ArialMT-35\"/>\r\n    </g>\r\n   </g>\r\n   <g id=\"text_80\">\r\n    <!-- -0.03 -->\r\n    <g style=\"fill:#ffffff;\" transform=\"translate(238.317375 133.830984)scale(0.12 -0.12)\">\r\n     <use xlink:href=\"#ArialMT-2d\"/>\r\n     <use x=\"33.300781\" xlink:href=\"#ArialMT-30\"/>\r\n     <use x=\"88.916016\" xlink:href=\"#ArialMT-2e\"/>\r\n     <use x=\"116.699219\" xlink:href=\"#ArialMT-30\"/>\r\n     <use x=\"172.314453\" xlink:href=\"#ArialMT-33\"/>\r\n    </g>\r\n   </g>\r\n   <g id=\"text_81\">\r\n    <!-- 0.13 -->\r\n    <g style=\"fill:#ffffff;\" transform=\"translate(44.619187 155.574984)scale(0.12 -0.12)\">\r\n     <use xlink:href=\"#ArialMT-30\"/>\r\n     <use x=\"55.615234\" xlink:href=\"#ArialMT-2e\"/>\r\n     <use x=\"83.398438\" xlink:href=\"#ArialMT-31\"/>\r\n     <use x=\"139.013672\" xlink:href=\"#ArialMT-33\"/>\r\n    </g>\r\n   </g>\r\n   <g id=\"text_82\">\r\n    <!-- 0.18 -->\r\n    <g style=\"fill:#ffffff;\" transform=\"translate(66.363187 155.574984)scale(0.12 -0.12)\">\r\n     <use xlink:href=\"#ArialMT-30\"/>\r\n     <use x=\"55.615234\" xlink:href=\"#ArialMT-2e\"/>\r\n     <use x=\"83.398438\" xlink:href=\"#ArialMT-31\"/>\r\n     <use x=\"139.013672\" xlink:href=\"#ArialMT-38\"/>\r\n    </g>\r\n   </g>\r\n   <g id=\"text_83\">\r\n    <!-- 0.19 -->\r\n    <g style=\"fill:#ffffff;\" transform=\"translate(88.107187 155.574984)scale(0.12 -0.12)\">\r\n     <use xlink:href=\"#ArialMT-30\"/>\r\n     <use x=\"55.615234\" xlink:href=\"#ArialMT-2e\"/>\r\n     <use x=\"83.398438\" xlink:href=\"#ArialMT-31\"/>\r\n     <use x=\"139.013672\" xlink:href=\"#ArialMT-39\"/>\r\n    </g>\r\n   </g>\r\n   <g id=\"text_84\">\r\n    <!-- 0.15 -->\r\n    <g style=\"fill:#ffffff;\" transform=\"translate(109.851187 155.574984)scale(0.12 -0.12)\">\r\n     <use xlink:href=\"#ArialMT-30\"/>\r\n     <use x=\"55.615234\" xlink:href=\"#ArialMT-2e\"/>\r\n     <use x=\"83.398438\" xlink:href=\"#ArialMT-31\"/>\r\n     <use x=\"139.013672\" xlink:href=\"#ArialMT-35\"/>\r\n    </g>\r\n   </g>\r\n   <g id=\"text_85\">\r\n    <!-- 0.18 -->\r\n    <g style=\"fill:#ffffff;\" transform=\"translate(131.595188 155.574984)scale(0.12 -0.12)\">\r\n     <use xlink:href=\"#ArialMT-30\"/>\r\n     <use x=\"55.615234\" xlink:href=\"#ArialMT-2e\"/>\r\n     <use x=\"83.398438\" xlink:href=\"#ArialMT-31\"/>\r\n     <use x=\"139.013672\" xlink:href=\"#ArialMT-38\"/>\r\n    </g>\r\n   </g>\r\n   <g id=\"text_86\">\r\n    <!-- 0.02 -->\r\n    <g style=\"fill:#ffffff;\" transform=\"translate(153.339188 155.574984)scale(0.12 -0.12)\">\r\n     <use xlink:href=\"#ArialMT-30\"/>\r\n     <use x=\"55.615234\" xlink:href=\"#ArialMT-2e\"/>\r\n     <use x=\"83.398438\" xlink:href=\"#ArialMT-30\"/>\r\n     <use x=\"139.013672\" xlink:href=\"#ArialMT-32\"/>\r\n    </g>\r\n   </g>\r\n   <g id=\"text_87\">\r\n    <!-- 1.00 -->\r\n    <g style=\"fill:#262626;\" transform=\"translate(175.083188 155.574984)scale(0.12 -0.12)\">\r\n     <use xlink:href=\"#ArialMT-31\"/>\r\n     <use x=\"55.615234\" xlink:href=\"#ArialMT-2e\"/>\r\n     <use x=\"83.398438\" xlink:href=\"#ArialMT-30\"/>\r\n     <use x=\"139.013672\" xlink:href=\"#ArialMT-30\"/>\r\n    </g>\r\n   </g>\r\n   <g id=\"text_88\">\r\n    <!-- 0.15 -->\r\n    <g style=\"fill:#ffffff;\" transform=\"translate(196.827187 155.574984)scale(0.12 -0.12)\">\r\n     <use xlink:href=\"#ArialMT-30\"/>\r\n     <use x=\"55.615234\" xlink:href=\"#ArialMT-2e\"/>\r\n     <use x=\"83.398438\" xlink:href=\"#ArialMT-31\"/>\r\n     <use x=\"139.013672\" xlink:href=\"#ArialMT-35\"/>\r\n    </g>\r\n   </g>\r\n   <g id=\"text_89\">\r\n    <!-- -0.29 -->\r\n    <g style=\"fill:#ffffff;\" transform=\"translate(216.573375 155.574984)scale(0.12 -0.12)\">\r\n     <use xlink:href=\"#ArialMT-2d\"/>\r\n     <use x=\"33.300781\" xlink:href=\"#ArialMT-30\"/>\r\n     <use x=\"88.916016\" xlink:href=\"#ArialMT-2e\"/>\r\n     <use x=\"116.699219\" xlink:href=\"#ArialMT-32\"/>\r\n     <use x=\"172.314453\" xlink:href=\"#ArialMT-39\"/>\r\n    </g>\r\n   </g>\r\n   <g id=\"text_90\">\r\n    <!-- -0.09 -->\r\n    <g style=\"fill:#ffffff;\" transform=\"translate(238.317375 155.574984)scale(0.12 -0.12)\">\r\n     <use xlink:href=\"#ArialMT-2d\"/>\r\n     <use x=\"33.300781\" xlink:href=\"#ArialMT-30\"/>\r\n     <use x=\"88.916016\" xlink:href=\"#ArialMT-2e\"/>\r\n     <use x=\"116.699219\" xlink:href=\"#ArialMT-30\"/>\r\n     <use x=\"172.314453\" xlink:href=\"#ArialMT-39\"/>\r\n    </g>\r\n   </g>\r\n   <g id=\"text_91\">\r\n    <!-- 0.04 -->\r\n    <g style=\"fill:#ffffff;\" transform=\"translate(44.619187 177.318984)scale(0.12 -0.12)\">\r\n     <use xlink:href=\"#ArialMT-30\"/>\r\n     <use x=\"55.615234\" xlink:href=\"#ArialMT-2e\"/>\r\n     <use x=\"83.398438\" xlink:href=\"#ArialMT-30\"/>\r\n     <use x=\"139.013672\" xlink:href=\"#ArialMT-34\"/>\r\n    </g>\r\n   </g>\r\n   <g id=\"text_92\">\r\n    <!-- 0.02 -->\r\n    <g style=\"fill:#ffffff;\" transform=\"translate(66.363187 177.318984)scale(0.12 -0.12)\">\r\n     <use xlink:href=\"#ArialMT-30\"/>\r\n     <use x=\"55.615234\" xlink:href=\"#ArialMT-2e\"/>\r\n     <use x=\"83.398438\" xlink:href=\"#ArialMT-30\"/>\r\n     <use x=\"139.013672\" xlink:href=\"#ArialMT-32\"/>\r\n    </g>\r\n   </g>\r\n   <g id=\"text_93\">\r\n    <!-- 0.02 -->\r\n    <g style=\"fill:#ffffff;\" transform=\"translate(88.107187 177.318984)scale(0.12 -0.12)\">\r\n     <use xlink:href=\"#ArialMT-30\"/>\r\n     <use x=\"55.615234\" xlink:href=\"#ArialMT-2e\"/>\r\n     <use x=\"83.398438\" xlink:href=\"#ArialMT-30\"/>\r\n     <use x=\"139.013672\" xlink:href=\"#ArialMT-32\"/>\r\n    </g>\r\n   </g>\r\n   <g id=\"text_94\">\r\n    <!-- 0.00 -->\r\n    <g style=\"fill:#ffffff;\" transform=\"translate(109.851187 177.318984)scale(0.12 -0.12)\">\r\n     <use xlink:href=\"#ArialMT-30\"/>\r\n     <use x=\"55.615234\" xlink:href=\"#ArialMT-2e\"/>\r\n     <use x=\"83.398438\" xlink:href=\"#ArialMT-30\"/>\r\n     <use x=\"139.013672\" xlink:href=\"#ArialMT-30\"/>\r\n    </g>\r\n   </g>\r\n   <g id=\"text_95\">\r\n    <!-- 0.03 -->\r\n    <g style=\"fill:#ffffff;\" transform=\"translate(131.595188 177.318984)scale(0.12 -0.12)\">\r\n     <use xlink:href=\"#ArialMT-30\"/>\r\n     <use x=\"55.615234\" xlink:href=\"#ArialMT-2e\"/>\r\n     <use x=\"83.398438\" xlink:href=\"#ArialMT-30\"/>\r\n     <use x=\"139.013672\" xlink:href=\"#ArialMT-33\"/>\r\n    </g>\r\n   </g>\r\n   <g id=\"text_96\">\r\n    <!-- -0.00 -->\r\n    <g style=\"fill:#ffffff;\" transform=\"translate(151.341375 177.318984)scale(0.12 -0.12)\">\r\n     <use xlink:href=\"#ArialMT-2d\"/>\r\n     <use x=\"33.300781\" xlink:href=\"#ArialMT-30\"/>\r\n     <use x=\"88.916016\" xlink:href=\"#ArialMT-2e\"/>\r\n     <use x=\"116.699219\" xlink:href=\"#ArialMT-30\"/>\r\n     <use x=\"172.314453\" xlink:href=\"#ArialMT-30\"/>\r\n    </g>\r\n   </g>\r\n   <g id=\"text_97\">\r\n    <!-- 0.15 -->\r\n    <g style=\"fill:#ffffff;\" transform=\"translate(175.083188 177.318984)scale(0.12 -0.12)\">\r\n     <use xlink:href=\"#ArialMT-30\"/>\r\n     <use x=\"55.615234\" xlink:href=\"#ArialMT-2e\"/>\r\n     <use x=\"83.398438\" xlink:href=\"#ArialMT-31\"/>\r\n     <use x=\"139.013672\" xlink:href=\"#ArialMT-35\"/>\r\n    </g>\r\n   </g>\r\n   <g id=\"text_98\">\r\n    <!-- 1.00 -->\r\n    <g style=\"fill:#262626;\" transform=\"translate(196.827187 177.318984)scale(0.12 -0.12)\">\r\n     <use xlink:href=\"#ArialMT-31\"/>\r\n     <use x=\"55.615234\" xlink:href=\"#ArialMT-2e\"/>\r\n     <use x=\"83.398438\" xlink:href=\"#ArialMT-30\"/>\r\n     <use x=\"139.013672\" xlink:href=\"#ArialMT-30\"/>\r\n    </g>\r\n   </g>\r\n   <g id=\"text_99\">\r\n    <!-- -0.20 -->\r\n    <g style=\"fill:#ffffff;\" transform=\"translate(216.573375 177.318984)scale(0.12 -0.12)\">\r\n     <use xlink:href=\"#ArialMT-2d\"/>\r\n     <use x=\"33.300781\" xlink:href=\"#ArialMT-30\"/>\r\n     <use x=\"88.916016\" xlink:href=\"#ArialMT-2e\"/>\r\n     <use x=\"116.699219\" xlink:href=\"#ArialMT-32\"/>\r\n     <use x=\"172.314453\" xlink:href=\"#ArialMT-30\"/>\r\n    </g>\r\n   </g>\r\n   <g id=\"text_100\">\r\n    <!-- 0.03 -->\r\n    <g style=\"fill:#ffffff;\" transform=\"translate(240.315187 177.318984)scale(0.12 -0.12)\">\r\n     <use xlink:href=\"#ArialMT-30\"/>\r\n     <use x=\"55.615234\" xlink:href=\"#ArialMT-2e\"/>\r\n     <use x=\"83.398438\" xlink:href=\"#ArialMT-30\"/>\r\n     <use x=\"139.013672\" xlink:href=\"#ArialMT-33\"/>\r\n    </g>\r\n   </g>\r\n   <g id=\"text_101\">\r\n    <!-- -0.01 -->\r\n    <g style=\"fill:#ffffff;\" transform=\"translate(42.621375 199.062984)scale(0.12 -0.12)\">\r\n     <use xlink:href=\"#ArialMT-2d\"/>\r\n     <use x=\"33.300781\" xlink:href=\"#ArialMT-30\"/>\r\n     <use x=\"88.916016\" xlink:href=\"#ArialMT-2e\"/>\r\n     <use x=\"116.699219\" xlink:href=\"#ArialMT-30\"/>\r\n     <use x=\"172.314453\" xlink:href=\"#ArialMT-31\"/>\r\n    </g>\r\n   </g>\r\n   <g id=\"text_102\">\r\n    <!-- 0.03 -->\r\n    <g style=\"fill:#ffffff;\" transform=\"translate(66.363187 199.062984)scale(0.12 -0.12)\">\r\n     <use xlink:href=\"#ArialMT-30\"/>\r\n     <use x=\"55.615234\" xlink:href=\"#ArialMT-2e\"/>\r\n     <use x=\"83.398438\" xlink:href=\"#ArialMT-30\"/>\r\n     <use x=\"139.013672\" xlink:href=\"#ArialMT-33\"/>\r\n    </g>\r\n   </g>\r\n   <g id=\"text_103\">\r\n    <!-- -0.02 -->\r\n    <g style=\"fill:#ffffff;\" transform=\"translate(86.109375 199.062984)scale(0.12 -0.12)\">\r\n     <use xlink:href=\"#ArialMT-2d\"/>\r\n     <use x=\"33.300781\" xlink:href=\"#ArialMT-30\"/>\r\n     <use x=\"88.916016\" xlink:href=\"#ArialMT-2e\"/>\r\n     <use x=\"116.699219\" xlink:href=\"#ArialMT-30\"/>\r\n     <use x=\"172.314453\" xlink:href=\"#ArialMT-32\"/>\r\n    </g>\r\n   </g>\r\n   <g id=\"text_104\">\r\n    <!-- 0.10 -->\r\n    <g style=\"fill:#ffffff;\" transform=\"translate(109.851187 199.062984)scale(0.12 -0.12)\">\r\n     <use xlink:href=\"#ArialMT-30\"/>\r\n     <use x=\"55.615234\" xlink:href=\"#ArialMT-2e\"/>\r\n     <use x=\"83.398438\" xlink:href=\"#ArialMT-31\"/>\r\n     <use x=\"139.013672\" xlink:href=\"#ArialMT-30\"/>\r\n    </g>\r\n   </g>\r\n   <g id=\"text_105\">\r\n    <!-- -0.03 -->\r\n    <g style=\"fill:#ffffff;\" transform=\"translate(129.597375 199.062984)scale(0.12 -0.12)\">\r\n     <use xlink:href=\"#ArialMT-2d\"/>\r\n     <use x=\"33.300781\" xlink:href=\"#ArialMT-30\"/>\r\n     <use x=\"88.916016\" xlink:href=\"#ArialMT-2e\"/>\r\n     <use x=\"116.699219\" xlink:href=\"#ArialMT-30\"/>\r\n     <use x=\"172.314453\" xlink:href=\"#ArialMT-33\"/>\r\n    </g>\r\n   </g>\r\n   <g id=\"text_106\">\r\n    <!-- 0.05 -->\r\n    <g style=\"fill:#ffffff;\" transform=\"translate(153.339188 199.062984)scale(0.12 -0.12)\">\r\n     <use xlink:href=\"#ArialMT-30\"/>\r\n     <use x=\"55.615234\" xlink:href=\"#ArialMT-2e\"/>\r\n     <use x=\"83.398438\" xlink:href=\"#ArialMT-30\"/>\r\n     <use x=\"139.013672\" xlink:href=\"#ArialMT-35\"/>\r\n    </g>\r\n   </g>\r\n   <g id=\"text_107\">\r\n    <!-- -0.29 -->\r\n    <g style=\"fill:#ffffff;\" transform=\"translate(173.085375 199.062984)scale(0.12 -0.12)\">\r\n     <use xlink:href=\"#ArialMT-2d\"/>\r\n     <use x=\"33.300781\" xlink:href=\"#ArialMT-30\"/>\r\n     <use x=\"88.916016\" xlink:href=\"#ArialMT-2e\"/>\r\n     <use x=\"116.699219\" xlink:href=\"#ArialMT-32\"/>\r\n     <use x=\"172.314453\" xlink:href=\"#ArialMT-39\"/>\r\n    </g>\r\n   </g>\r\n   <g id=\"text_108\">\r\n    <!-- -0.20 -->\r\n    <g style=\"fill:#ffffff;\" transform=\"translate(194.829375 199.062984)scale(0.12 -0.12)\">\r\n     <use xlink:href=\"#ArialMT-2d\"/>\r\n     <use x=\"33.300781\" xlink:href=\"#ArialMT-30\"/>\r\n     <use x=\"88.916016\" xlink:href=\"#ArialMT-2e\"/>\r\n     <use x=\"116.699219\" xlink:href=\"#ArialMT-32\"/>\r\n     <use x=\"172.314453\" xlink:href=\"#ArialMT-30\"/>\r\n    </g>\r\n   </g>\r\n   <g id=\"text_109\">\r\n    <!-- 1.00 -->\r\n    <g style=\"fill:#262626;\" transform=\"translate(218.571188 199.062984)scale(0.12 -0.12)\">\r\n     <use xlink:href=\"#ArialMT-31\"/>\r\n     <use x=\"55.615234\" xlink:href=\"#ArialMT-2e\"/>\r\n     <use x=\"83.398438\" xlink:href=\"#ArialMT-30\"/>\r\n     <use x=\"139.013672\" xlink:href=\"#ArialMT-30\"/>\r\n    </g>\r\n   </g>\r\n   <g id=\"text_110\">\r\n    <!-- -0.05 -->\r\n    <g style=\"fill:#ffffff;\" transform=\"translate(238.317375 199.062984)scale(0.12 -0.12)\">\r\n     <use xlink:href=\"#ArialMT-2d\"/>\r\n     <use x=\"33.300781\" xlink:href=\"#ArialMT-30\"/>\r\n     <use x=\"88.916016\" xlink:href=\"#ArialMT-2e\"/>\r\n     <use x=\"116.699219\" xlink:href=\"#ArialMT-30\"/>\r\n     <use x=\"172.314453\" xlink:href=\"#ArialMT-35\"/>\r\n    </g>\r\n   </g>\r\n   <g id=\"text_111\">\r\n    <!-- -0.07 -->\r\n    <g style=\"fill:#ffffff;\" transform=\"translate(42.621375 220.806984)scale(0.12 -0.12)\">\r\n     <use xlink:href=\"#ArialMT-2d\"/>\r\n     <use x=\"33.300781\" xlink:href=\"#ArialMT-30\"/>\r\n     <use x=\"88.916016\" xlink:href=\"#ArialMT-2e\"/>\r\n     <use x=\"116.699219\" xlink:href=\"#ArialMT-30\"/>\r\n     <use x=\"172.314453\" xlink:href=\"#ArialMT-37\"/>\r\n    </g>\r\n   </g>\r\n   <g id=\"text_112\">\r\n    <!-- -0.21 -->\r\n    <g style=\"fill:#ffffff;\" transform=\"translate(64.365375 220.806984)scale(0.12 -0.12)\">\r\n     <use xlink:href=\"#ArialMT-2d\"/>\r\n     <use x=\"33.300781\" xlink:href=\"#ArialMT-30\"/>\r\n     <use x=\"88.916016\" xlink:href=\"#ArialMT-2e\"/>\r\n     <use x=\"116.699219\" xlink:href=\"#ArialMT-32\"/>\r\n     <use x=\"172.314453\" xlink:href=\"#ArialMT-31\"/>\r\n    </g>\r\n   </g>\r\n   <g id=\"text_113\">\r\n    <!-- -0.23 -->\r\n    <g style=\"fill:#ffffff;\" transform=\"translate(86.109375 220.806984)scale(0.12 -0.12)\">\r\n     <use xlink:href=\"#ArialMT-2d\"/>\r\n     <use x=\"33.300781\" xlink:href=\"#ArialMT-30\"/>\r\n     <use x=\"88.916016\" xlink:href=\"#ArialMT-2e\"/>\r\n     <use x=\"116.699219\" xlink:href=\"#ArialMT-32\"/>\r\n     <use x=\"172.314453\" xlink:href=\"#ArialMT-33\"/>\r\n    </g>\r\n   </g>\r\n   <g id=\"text_114\">\r\n    <!-- -0.23 -->\r\n    <g style=\"fill:#ffffff;\" transform=\"translate(107.853375 220.806984)scale(0.12 -0.12)\">\r\n     <use xlink:href=\"#ArialMT-2d\"/>\r\n     <use x=\"33.300781\" xlink:href=\"#ArialMT-30\"/>\r\n     <use x=\"88.916016\" xlink:href=\"#ArialMT-2e\"/>\r\n     <use x=\"116.699219\" xlink:href=\"#ArialMT-32\"/>\r\n     <use x=\"172.314453\" xlink:href=\"#ArialMT-33\"/>\r\n    </g>\r\n   </g>\r\n   <g id=\"text_115\">\r\n    <!-- -0.22 -->\r\n    <g style=\"fill:#ffffff;\" transform=\"translate(129.597375 220.806984)scale(0.12 -0.12)\">\r\n     <use xlink:href=\"#ArialMT-2d\"/>\r\n     <use x=\"33.300781\" xlink:href=\"#ArialMT-30\"/>\r\n     <use x=\"88.916016\" xlink:href=\"#ArialMT-2e\"/>\r\n     <use x=\"116.699219\" xlink:href=\"#ArialMT-32\"/>\r\n     <use x=\"172.314453\" xlink:href=\"#ArialMT-32\"/>\r\n    </g>\r\n   </g>\r\n   <g id=\"text_116\">\r\n    <!-- -0.03 -->\r\n    <g style=\"fill:#ffffff;\" transform=\"translate(151.341375 220.806984)scale(0.12 -0.12)\">\r\n     <use xlink:href=\"#ArialMT-2d\"/>\r\n     <use x=\"33.300781\" xlink:href=\"#ArialMT-30\"/>\r\n     <use x=\"88.916016\" xlink:href=\"#ArialMT-2e\"/>\r\n     <use x=\"116.699219\" xlink:href=\"#ArialMT-30\"/>\r\n     <use x=\"172.314453\" xlink:href=\"#ArialMT-33\"/>\r\n    </g>\r\n   </g>\r\n   <g id=\"text_117\">\r\n    <!-- -0.09 -->\r\n    <g style=\"fill:#ffffff;\" transform=\"translate(173.085375 220.806984)scale(0.12 -0.12)\">\r\n     <use xlink:href=\"#ArialMT-2d\"/>\r\n     <use x=\"33.300781\" xlink:href=\"#ArialMT-30\"/>\r\n     <use x=\"88.916016\" xlink:href=\"#ArialMT-2e\"/>\r\n     <use x=\"116.699219\" xlink:href=\"#ArialMT-30\"/>\r\n     <use x=\"172.314453\" xlink:href=\"#ArialMT-39\"/>\r\n    </g>\r\n   </g>\r\n   <g id=\"text_118\">\r\n    <!-- 0.03 -->\r\n    <g style=\"fill:#ffffff;\" transform=\"translate(196.827187 220.806984)scale(0.12 -0.12)\">\r\n     <use xlink:href=\"#ArialMT-30\"/>\r\n     <use x=\"55.615234\" xlink:href=\"#ArialMT-2e\"/>\r\n     <use x=\"83.398438\" xlink:href=\"#ArialMT-30\"/>\r\n     <use x=\"139.013672\" xlink:href=\"#ArialMT-33\"/>\r\n    </g>\r\n   </g>\r\n   <g id=\"text_119\">\r\n    <!-- -0.05 -->\r\n    <g style=\"fill:#ffffff;\" transform=\"translate(216.573375 220.806984)scale(0.12 -0.12)\">\r\n     <use xlink:href=\"#ArialMT-2d\"/>\r\n     <use x=\"33.300781\" xlink:href=\"#ArialMT-30\"/>\r\n     <use x=\"88.916016\" xlink:href=\"#ArialMT-2e\"/>\r\n     <use x=\"116.699219\" xlink:href=\"#ArialMT-30\"/>\r\n     <use x=\"172.314453\" xlink:href=\"#ArialMT-35\"/>\r\n    </g>\r\n   </g>\r\n   <g id=\"text_120\">\r\n    <!-- 1.00 -->\r\n    <g style=\"fill:#262626;\" transform=\"translate(240.315187 220.806984)scale(0.12 -0.12)\">\r\n     <use xlink:href=\"#ArialMT-31\"/>\r\n     <use x=\"55.615234\" xlink:href=\"#ArialMT-2e\"/>\r\n     <use x=\"83.398438\" xlink:href=\"#ArialMT-30\"/>\r\n     <use x=\"139.013672\" xlink:href=\"#ArialMT-30\"/>\r\n    </g>\r\n   </g>\r\n  </g>\r\n  <g id=\"axes_2\">\r\n   <g id=\"patch_3\">\r\n    <path d=\"M 279.60375 228.576797 \r\nL 290.47575 228.576797 \r\nL 290.47575 11.136797 \r\nL 279.60375 11.136797 \r\nz\r\n\" style=\"fill:#eaeaf2;\"/>\r\n   </g>\r\n   <g id=\"patch_4\">\r\n    <path clip-path=\"url(#pe80648e111)\" d=\"M 279.60375 228.576797 \r\nL 279.60375 227.727422 \r\nL 279.60375 11.986172 \r\nL 279.60375 11.136797 \r\nL 290.47575 11.136797 \r\nL 290.47575 11.986172 \r\nL 290.47575 227.727422 \r\nL 290.47575 228.576797 \r\nL 290.47575 228.576797 \r\nz\r\n\" style=\"fill:#eaeaf2;stroke:#eaeaf2;stroke-linejoin:miter;stroke-width:0.01;\"/>\r\n   </g>\r\n   <g id=\"matplotlib.axis_3\"/>\r\n   <g id=\"matplotlib.axis_4\">\r\n    <g id=\"ytick_11\">\r\n     <g id=\"line2d_1\">\r\n      <defs>\r\n       <path d=\"M 0 0 \r\nL 6 0 \r\n\" id=\"mb7feed8f13\" style=\"stroke:#262626;stroke-width:1.25;\"/>\r\n      </defs>\r\n      <g>\r\n       <use style=\"fill:#262626;stroke:#262626;stroke-width:1.25;\" x=\"290.47575\" xlink:href=\"#mb7feed8f13\" y=\"213.565571\"/>\r\n      </g>\r\n     </g>\r\n     <g id=\"text_121\">\r\n      <!-- −0.2 -->\r\n      <g style=\"fill:#262626;\" transform=\"translate(299.97575 217.502367)scale(0.11 -0.11)\">\r\n       <defs>\r\n        <path d=\"M 3381 1997 \r\nL 356 1997 \r\nL 356 2522 \r\nL 3381 2522 \r\nL 3381 1997 \r\nz\r\n\" id=\"ArialMT-2212\" transform=\"scale(0.015625)\"/>\r\n       </defs>\r\n       <use xlink:href=\"#ArialMT-2212\"/>\r\n       <use x=\"58.398438\" xlink:href=\"#ArialMT-30\"/>\r\n       <use x=\"114.013672\" xlink:href=\"#ArialMT-2e\"/>\r\n       <use x=\"141.796875\" xlink:href=\"#ArialMT-32\"/>\r\n      </g>\r\n     </g>\r\n    </g>\r\n    <g id=\"ytick_12\">\r\n     <g id=\"line2d_2\">\r\n      <g>\r\n       <use style=\"fill:#262626;stroke:#262626;stroke-width:1.25;\" x=\"290.47575\" xlink:href=\"#mb7feed8f13\" y=\"179.827442\"/>\r\n      </g>\r\n     </g>\r\n     <g id=\"text_122\">\r\n      <!-- 0.0 -->\r\n      <g style=\"fill:#262626;\" transform=\"translate(299.97575 183.764238)scale(0.11 -0.11)\">\r\n       <use xlink:href=\"#ArialMT-30\"/>\r\n       <use x=\"55.615234\" xlink:href=\"#ArialMT-2e\"/>\r\n       <use x=\"83.398438\" xlink:href=\"#ArialMT-30\"/>\r\n      </g>\r\n     </g>\r\n    </g>\r\n    <g id=\"ytick_13\">\r\n     <g id=\"line2d_3\">\r\n      <g>\r\n       <use style=\"fill:#262626;stroke:#262626;stroke-width:1.25;\" x=\"290.47575\" xlink:href=\"#mb7feed8f13\" y=\"146.089313\"/>\r\n      </g>\r\n     </g>\r\n     <g id=\"text_123\">\r\n      <!-- 0.2 -->\r\n      <g style=\"fill:#262626;\" transform=\"translate(299.97575 150.02611)scale(0.11 -0.11)\">\r\n       <use xlink:href=\"#ArialMT-30\"/>\r\n       <use x=\"55.615234\" xlink:href=\"#ArialMT-2e\"/>\r\n       <use x=\"83.398438\" xlink:href=\"#ArialMT-32\"/>\r\n      </g>\r\n     </g>\r\n    </g>\r\n    <g id=\"ytick_14\">\r\n     <g id=\"line2d_4\">\r\n      <g>\r\n       <use style=\"fill:#262626;stroke:#262626;stroke-width:1.25;\" x=\"290.47575\" xlink:href=\"#mb7feed8f13\" y=\"112.351184\"/>\r\n      </g>\r\n     </g>\r\n     <g id=\"text_124\">\r\n      <!-- 0.4 -->\r\n      <g style=\"fill:#262626;\" transform=\"translate(299.97575 116.287981)scale(0.11 -0.11)\">\r\n       <use xlink:href=\"#ArialMT-30\"/>\r\n       <use x=\"55.615234\" xlink:href=\"#ArialMT-2e\"/>\r\n       <use x=\"83.398438\" xlink:href=\"#ArialMT-34\"/>\r\n      </g>\r\n     </g>\r\n    </g>\r\n    <g id=\"ytick_15\">\r\n     <g id=\"line2d_5\">\r\n      <g>\r\n       <use style=\"fill:#262626;stroke:#262626;stroke-width:1.25;\" x=\"290.47575\" xlink:href=\"#mb7feed8f13\" y=\"78.613055\"/>\r\n      </g>\r\n     </g>\r\n     <g id=\"text_125\">\r\n      <!-- 0.6 -->\r\n      <g style=\"fill:#262626;\" transform=\"translate(299.97575 82.549852)scale(0.11 -0.11)\">\r\n       <use xlink:href=\"#ArialMT-30\"/>\r\n       <use x=\"55.615234\" xlink:href=\"#ArialMT-2e\"/>\r\n       <use x=\"83.398438\" xlink:href=\"#ArialMT-36\"/>\r\n      </g>\r\n     </g>\r\n    </g>\r\n    <g id=\"ytick_16\">\r\n     <g id=\"line2d_6\">\r\n      <g>\r\n       <use style=\"fill:#262626;stroke:#262626;stroke-width:1.25;\" x=\"290.47575\" xlink:href=\"#mb7feed8f13\" y=\"44.874926\"/>\r\n      </g>\r\n     </g>\r\n     <g id=\"text_126\">\r\n      <!-- 0.8 -->\r\n      <g style=\"fill:#262626;\" transform=\"translate(299.97575 48.811723)scale(0.11 -0.11)\">\r\n       <use xlink:href=\"#ArialMT-30\"/>\r\n       <use x=\"55.615234\" xlink:href=\"#ArialMT-2e\"/>\r\n       <use x=\"83.398438\" xlink:href=\"#ArialMT-38\"/>\r\n      </g>\r\n     </g>\r\n    </g>\r\n    <g id=\"ytick_17\">\r\n     <g id=\"line2d_7\">\r\n      <g>\r\n       <use style=\"fill:#262626;stroke:#262626;stroke-width:1.25;\" x=\"290.47575\" xlink:href=\"#mb7feed8f13\" y=\"11.136797\"/>\r\n      </g>\r\n     </g>\r\n     <g id=\"text_127\">\r\n      <!-- 1.0 -->\r\n      <g style=\"fill:#262626;\" transform=\"translate(299.97575 15.073594)scale(0.11 -0.11)\">\r\n       <use xlink:href=\"#ArialMT-31\"/>\r\n       <use x=\"55.615234\" xlink:href=\"#ArialMT-2e\"/>\r\n       <use x=\"83.398438\" xlink:href=\"#ArialMT-30\"/>\r\n      </g>\r\n     </g>\r\n    </g>\r\n   </g>\r\n   <image height=\"218\" id=\"image6f4f6c4d0f\" transform=\"scale(1 -1)translate(0 -218)\" width=\"10\" x=\"280\" xlink:href=\"data:image/png;base64,\r\niVBORw0KGgoAAAANSUhEUgAAAAoAAADaCAYAAACfDNOSAAABYUlEQVR4nO2Y2Q3DMAxDdXWJ7j9n0w2CJ4CEWyD+JkiRkpUj+/W+ApxJgoqIyWTQBTDUjJ3FgCU3U3ozRc3IpXFn9DnyFnLXkNHgmjIaBvcfzBwcXLn0BB4zdhy9lrdwIc2OY+NS4MiHgruWtxBL97nB1cfT8ngWY6ZmXLTw92vUS7ecsdA7s8U13z2UkU84da2XnnPSvIXyoTjpWi49F6N0bIpz0th1hrrGhRko3bxGCoRBGuJJeF+nKbAoEEsvGBFu4xpuAIcZLo1wMdUfCOQ1Qmkcj8H1QNd8enCNhnggY8Gn5oS+13rgQCD8NltILxjhGylnhM/XCSqtr9EgDZ9d/K8CrnEBpDVSM1ya/mrSu07qOpp9axoCP5hjwi9sSwspI74zw1auJXB6ufTS2DXfPbgz6ngWt1AurTeDGRsP7uP6Bph5bnqwGR64fjWrW5j9EjM6BledY+qv62Pm5nwBB2crJ6GMvrMAAAAASUVORK5CYII=\" y=\"-11\"/>\r\n   <g id=\"LineCollection_1\"/>\r\n   <g id=\"patch_5\">\r\n    <path d=\"M 279.60375 228.576797 \r\nL 279.60375 227.727422 \r\nL 279.60375 11.986172 \r\nL 279.60375 11.136797 \r\nL 290.47575 11.136797 \r\nL 290.47575 11.986172 \r\nL 290.47575 227.727422 \r\nL 290.47575 228.576797 \r\nz\r\n\" style=\"fill:none;\"/>\r\n   </g>\r\n  </g>\r\n </g>\r\n <defs>\r\n  <clipPath id=\"pf1a5bb05f4\">\r\n   <rect height=\"217.44\" width=\"217.44\" x=\"45.42375\" y=\"11.136797\"/>\r\n  </clipPath>\r\n  <clipPath id=\"pe80648e111\">\r\n   <rect height=\"217.44\" width=\"10.872\" x=\"279.60375\" y=\"11.136797\"/>\r\n  </clipPath>\r\n </defs>\r\n</svg>\r\n",
      "image/png": "[encoded data removed]"
     },
     "metadata": {}
    }
   ],
   "source": [
    "correlation_map = np.corrcoef(df[columns].values.T)\n",
    "sns.set(font_scale=1.0)\n",
    "heatmap = sns.heatmap(correlation_map, cbar=True, annot=True, square=True, fmt='.2f', yticklabels=columns.values, xticklabels=columns.values)\n",
    "\n",
    "plt.show()"
   ]
  },
  {
   "cell_type": "code",
   "execution_count": 13,
   "metadata": {},
   "outputs": [
    {
     "output_type": "execute_result",
     "data": {
      "text/plain": [
       "       carat  cut  color  clarity  depth  table     x     y     z  price\n",
       "0       1.21    2      4        5   63.0   57.0  6.73  6.70  4.23   8.72\n",
       "1       0.28    4      0        7   64.0   56.0  4.14  4.17  2.66   6.28\n",
       "2       0.42    3      2        4   61.2   58.0  4.86  4.82  2.96   7.01\n",
       "3       0.26    2      4        1   61.1   57.0  4.16  4.12  2.53   6.40\n",
       "4       1.10    1      3        2   63.4   57.0  6.52  6.55  4.14   8.52\n",
       "...      ...  ...    ...      ...    ...    ...   ...   ...   ...    ...\n",
       "40340   1.55    3      4        5   61.3   61.0  7.46  7.39  4.55   9.37\n",
       "40341   0.36    2      0        2   60.6   56.0  4.58  4.63  2.79   6.43\n",
       "40342   0.57    4      5        5   62.2   55.0  5.33  5.34  3.32   7.14\n",
       "40343   1.01    4      2        1   59.6   62.0  6.47  6.56  3.88   9.21\n",
       "40344   0.54    2      1        3   60.4   57.0  5.33  5.27  3.20   7.20\n",
       "\n",
       "[40345 rows x 10 columns]"
      ],
      "text/html": "<div>\n<style scoped>\n    .dataframe tbody tr th:only-of-type {\n        vertical-align: middle;\n    }\n\n    .dataframe tbody tr th {\n        vertical-align: top;\n    }\n\n    .dataframe thead th {\n        text-align: right;\n    }\n</style>\n<table border=\"1\" class=\"dataframe\">\n  <thead>\n    <tr style=\"text-align: right;\">\n      <th></th>\n      <th>carat</th>\n      <th>cut</th>\n      <th>color</th>\n      <th>clarity</th>\n      <th>depth</th>\n      <th>table</th>\n      <th>x</th>\n      <th>y</th>\n      <th>z</th>\n      <th>price</th>\n    </tr>\n  </thead>\n  <tbody>\n    <tr>\n      <th>0</th>\n      <td>1.21</td>\n      <td>2</td>\n      <td>4</td>\n      <td>5</td>\n      <td>63.0</td>\n      <td>57.0</td>\n      <td>6.73</td>\n      <td>6.70</td>\n      <td>4.23</td>\n      <td>8.72</td>\n    </tr>\n    <tr>\n      <th>1</th>\n      <td>0.28</td>\n      <td>4</td>\n      <td>0</td>\n      <td>7</td>\n      <td>64.0</td>\n      <td>56.0</td>\n      <td>4.14</td>\n      <td>4.17</td>\n      <td>2.66</td>\n      <td>6.28</td>\n    </tr>\n    <tr>\n      <th>2</th>\n      <td>0.42</td>\n      <td>3</td>\n      <td>2</td>\n      <td>4</td>\n      <td>61.2</td>\n      <td>58.0</td>\n      <td>4.86</td>\n      <td>4.82</td>\n      <td>2.96</td>\n      <td>7.01</td>\n    </tr>\n    <tr>\n      <th>3</th>\n      <td>0.26</td>\n      <td>2</td>\n      <td>4</td>\n      <td>1</td>\n      <td>61.1</td>\n      <td>57.0</td>\n      <td>4.16</td>\n      <td>4.12</td>\n      <td>2.53</td>\n      <td>6.40</td>\n    </tr>\n    <tr>\n      <th>4</th>\n      <td>1.10</td>\n      <td>1</td>\n      <td>3</td>\n      <td>2</td>\n      <td>63.4</td>\n      <td>57.0</td>\n      <td>6.52</td>\n      <td>6.55</td>\n      <td>4.14</td>\n      <td>8.52</td>\n    </tr>\n    <tr>\n      <th>...</th>\n      <td>...</td>\n      <td>...</td>\n      <td>...</td>\n      <td>...</td>\n      <td>...</td>\n      <td>...</td>\n      <td>...</td>\n      <td>...</td>\n      <td>...</td>\n      <td>...</td>\n    </tr>\n    <tr>\n      <th>40340</th>\n      <td>1.55</td>\n      <td>3</td>\n      <td>4</td>\n      <td>5</td>\n      <td>61.3</td>\n      <td>61.0</td>\n      <td>7.46</td>\n      <td>7.39</td>\n      <td>4.55</td>\n      <td>9.37</td>\n    </tr>\n    <tr>\n      <th>40341</th>\n      <td>0.36</td>\n      <td>2</td>\n      <td>0</td>\n      <td>2</td>\n      <td>60.6</td>\n      <td>56.0</td>\n      <td>4.58</td>\n      <td>4.63</td>\n      <td>2.79</td>\n      <td>6.43</td>\n    </tr>\n    <tr>\n      <th>40342</th>\n      <td>0.57</td>\n      <td>4</td>\n      <td>5</td>\n      <td>5</td>\n      <td>62.2</td>\n      <td>55.0</td>\n      <td>5.33</td>\n      <td>5.34</td>\n      <td>3.32</td>\n      <td>7.14</td>\n    </tr>\n    <tr>\n      <th>40343</th>\n      <td>1.01</td>\n      <td>4</td>\n      <td>2</td>\n      <td>1</td>\n      <td>59.6</td>\n      <td>62.0</td>\n      <td>6.47</td>\n      <td>6.56</td>\n      <td>3.88</td>\n      <td>9.21</td>\n    </tr>\n    <tr>\n      <th>40344</th>\n      <td>0.54</td>\n      <td>2</td>\n      <td>1</td>\n      <td>3</td>\n      <td>60.4</td>\n      <td>57.0</td>\n      <td>5.33</td>\n      <td>5.27</td>\n      <td>3.20</td>\n      <td>7.20</td>\n    </tr>\n  </tbody>\n</table>\n<p>40345 rows × 10 columns</p>\n</div>"
     },
     "metadata": {},
     "execution_count": 13
    }
   ],
   "source": [
    "df['price'] = np.log(df['price'])\n",
    "df"
   ]
  },
  {
   "cell_type": "markdown",
   "metadata": {},
   "source": [
    "**Importante:**\n",
    "\n",
    "   - Si quitas columnas o creas columnas nuevas a partir de otras, o cualquier modificación column-wise tendrás que aplicarlo al dataset de `diamonds_test.csv` de cara a hacer la predicción.\n",
    "   - Si por lo contrario, decides por ejemplo, quitar los outliers o hacer un `dropna()`, o cualquier modificación row-wise eso NO PODRÁS (ni debes) aplicarlo al dataset de `diamonds_test.csv` de cara a hacer la predicción. ¿Por qué? Porque si el conjunto de test tiene 50 observaciones (filas) la predicción se espera que tenga 50 filas."
   ]
  },
  {
   "cell_type": "markdown",
   "metadata": {},
   "source": [
    "#### ¿Y si lo que hago es estandarizar los datos o hacer un encoding, también se lo tengo que hacer al test antes de predecir?"
   ]
  },
  {
   "cell_type": "code",
   "execution_count": null,
   "metadata": {},
   "outputs": [],
   "source": [
    "# ¿qué opináis?\n",
    "#Sí, habría que hacerlo"
   ]
  },
  {
   "cell_type": "markdown",
   "metadata": {},
   "source": [
    "-----------------------------------------------------------------------------------------------------------------"
   ]
  },
  {
   "cell_type": "markdown",
   "metadata": {},
   "source": [
    "### Pasos que si o si debéis realizar para poder participar en la competición:"
   ]
  },
  {
   "cell_type": "markdown",
   "metadata": {},
   "source": [
    "### 1. Definir X e y"
   ]
  },
  {
   "cell_type": "code",
   "execution_count": 100,
   "metadata": {},
   "outputs": [
    {
     "output_type": "execute_result",
     "data": {
      "text/plain": [
       "(40345, 6)"
      ]
     },
     "metadata": {},
     "execution_count": 100
    }
   ],
   "source": []
  },
  {
   "cell_type": "code",
   "execution_count": 75,
   "metadata": {},
   "outputs": [
    {
     "output_type": "execute_result",
     "data": {
      "text/plain": [
       "(40345,)"
      ]
     },
     "metadata": {},
     "execution_count": 75
    }
   ],
   "source": [
    "y.shape"
   ]
  },
  {
   "cell_type": "markdown",
   "metadata": {},
   "source": [
    "#### ¿Y si después del análisis exploratorio de mis datos llego a la conclusión de que puedo predecir el precio solo con las columnas `x`, `y` y `z`, también aplica al test?"
   ]
  },
  {
   "cell_type": "code",
   "execution_count": 101,
   "metadata": {},
   "outputs": [],
   "source": [
    "X_train, X_test, y_train, y_test = train_test_split(X, y, test_size = 0.25, random_state = 42)"
   ]
  },
  {
   "cell_type": "code",
   "execution_count": null,
   "metadata": {},
   "outputs": [],
   "source": [
    "# ¿qué opináis?\n",
    "# sí, el conjunto para predecir `diamonds_test.csv` también tendrá que tener 3 columnas"
   ]
  },
  {
   "cell_type": "code",
   "execution_count": 102,
   "metadata": {},
   "outputs": [],
   "source": [
    "train_data = X_train\n",
    "train_label = y_train\n",
    "test_dataX = X_test\n",
    "test_datay = y_test\n",
    "\n",
    "\n",
    "train_pool = Pool(train_data, \n",
    "                  train_label,\n",
    "                  )\n",
    "test_pool = Pool(test_dataX,\n",
    "                 test_datay)"
   ]
  },
  {
   "cell_type": "code",
   "execution_count": 103,
   "metadata": {},
   "outputs": [],
   "source": [
    "model = CatBoostRegressor(depth=6, iterations=100,\n",
    "                          learning_rate=0.2,\n",
    "                          l2_leaf_reg=3,\n",
    "                          loss_function='RMSE')   #bootstrap_type=Poisson, Bayesian, Bernoulli, MVS"
   ]
  },
  {
   "cell_type": "code",
   "execution_count": 104,
   "metadata": {},
   "outputs": [
    {
     "output_type": "stream",
     "name": "stdout",
     "text": [
      "0:\tlearn: 3297.9260486\ttotal: 7.44ms\tremaining: 737ms\n",
      "1:\tlearn: 2735.6033486\ttotal: 12.4ms\tremaining: 610ms\n",
      "2:\tlearn: 2300.7203608\ttotal: 16.8ms\tremaining: 544ms\n",
      "3:\tlearn: 1961.5449132\ttotal: 22.5ms\tremaining: 539ms\n",
      "4:\tlearn: 1703.1151325\ttotal: 27.5ms\tremaining: 522ms\n",
      "5:\tlearn: 1484.4805242\ttotal: 32.1ms\tremaining: 504ms\n",
      "6:\tlearn: 1322.2915034\ttotal: 37.3ms\tremaining: 495ms\n",
      "7:\tlearn: 1194.5149848\ttotal: 42.6ms\tremaining: 489ms\n",
      "8:\tlearn: 1094.9325868\ttotal: 47.5ms\tremaining: 480ms\n",
      "9:\tlearn: 1020.8052717\ttotal: 53ms\tremaining: 477ms\n",
      "10:\tlearn: 952.9394163\ttotal: 58.5ms\tremaining: 473ms\n",
      "11:\tlearn: 903.6390374\ttotal: 63.6ms\tremaining: 466ms\n",
      "12:\tlearn: 863.5927545\ttotal: 68.6ms\tremaining: 459ms\n",
      "13:\tlearn: 821.8416675\ttotal: 72.9ms\tremaining: 448ms\n",
      "14:\tlearn: 794.8111309\ttotal: 77ms\tremaining: 436ms\n",
      "15:\tlearn: 773.7690407\ttotal: 81.1ms\tremaining: 426ms\n",
      "16:\tlearn: 748.0523261\ttotal: 86.5ms\tremaining: 422ms\n",
      "17:\tlearn: 734.0196808\ttotal: 91.3ms\tremaining: 416ms\n",
      "18:\tlearn: 715.7603360\ttotal: 95.9ms\tremaining: 409ms\n",
      "19:\tlearn: 702.0054615\ttotal: 101ms\tremaining: 405ms\n",
      "20:\tlearn: 692.1895976\ttotal: 106ms\tremaining: 397ms\n",
      "21:\tlearn: 683.6282157\ttotal: 110ms\tremaining: 389ms\n",
      "22:\tlearn: 676.6347097\ttotal: 114ms\tremaining: 382ms\n",
      "23:\tlearn: 670.3510315\ttotal: 119ms\tremaining: 376ms\n",
      "24:\tlearn: 662.6767025\ttotal: 123ms\tremaining: 369ms\n",
      "25:\tlearn: 656.4386427\ttotal: 127ms\tremaining: 361ms\n",
      "26:\tlearn: 650.7655381\ttotal: 132ms\tremaining: 357ms\n",
      "27:\tlearn: 646.9243879\ttotal: 136ms\tremaining: 351ms\n",
      "28:\tlearn: 643.2174103\ttotal: 140ms\tremaining: 344ms\n",
      "29:\tlearn: 638.9060847\ttotal: 145ms\tremaining: 339ms\n",
      "30:\tlearn: 632.9361402\ttotal: 150ms\tremaining: 334ms\n",
      "31:\tlearn: 630.2459668\ttotal: 154ms\tremaining: 328ms\n",
      "32:\tlearn: 626.6949148\ttotal: 158ms\tremaining: 322ms\n",
      "33:\tlearn: 622.6670528\ttotal: 163ms\tremaining: 317ms\n",
      "34:\tlearn: 619.1295909\ttotal: 167ms\tremaining: 311ms\n",
      "35:\tlearn: 615.3825142\ttotal: 172ms\tremaining: 305ms\n",
      "36:\tlearn: 613.5651368\ttotal: 177ms\tremaining: 301ms\n",
      "37:\tlearn: 611.5777809\ttotal: 182ms\tremaining: 297ms\n",
      "38:\tlearn: 608.1037411\ttotal: 187ms\tremaining: 292ms\n",
      "39:\tlearn: 605.8869677\ttotal: 192ms\tremaining: 288ms\n",
      "40:\tlearn: 604.2864116\ttotal: 196ms\tremaining: 283ms\n",
      "41:\tlearn: 602.7512031\ttotal: 201ms\tremaining: 277ms\n",
      "42:\tlearn: 600.8931650\ttotal: 206ms\tremaining: 273ms\n",
      "43:\tlearn: 598.8019237\ttotal: 210ms\tremaining: 267ms\n",
      "44:\tlearn: 596.4273905\ttotal: 214ms\tremaining: 262ms\n",
      "45:\tlearn: 595.1423999\ttotal: 218ms\tremaining: 256ms\n",
      "46:\tlearn: 594.0762023\ttotal: 223ms\tremaining: 251ms\n",
      "47:\tlearn: 592.7549410\ttotal: 227ms\tremaining: 246ms\n",
      "48:\tlearn: 591.6094196\ttotal: 231ms\tremaining: 241ms\n",
      "49:\tlearn: 589.4154778\ttotal: 236ms\tremaining: 236ms\n",
      "50:\tlearn: 587.0730040\ttotal: 241ms\tremaining: 232ms\n",
      "51:\tlearn: 585.7101447\ttotal: 245ms\tremaining: 226ms\n",
      "52:\tlearn: 584.7385250\ttotal: 249ms\tremaining: 221ms\n",
      "53:\tlearn: 583.6199075\ttotal: 254ms\tremaining: 216ms\n",
      "54:\tlearn: 582.4956123\ttotal: 258ms\tremaining: 211ms\n",
      "55:\tlearn: 580.7047548\ttotal: 263ms\tremaining: 207ms\n",
      "56:\tlearn: 579.0569858\ttotal: 268ms\tremaining: 202ms\n",
      "57:\tlearn: 577.9476110\ttotal: 273ms\tremaining: 198ms\n",
      "58:\tlearn: 576.3982846\ttotal: 277ms\tremaining: 192ms\n",
      "59:\tlearn: 575.0129336\ttotal: 281ms\tremaining: 187ms\n",
      "60:\tlearn: 574.6399271\ttotal: 285ms\tremaining: 182ms\n",
      "61:\tlearn: 573.7897832\ttotal: 289ms\tremaining: 177ms\n",
      "62:\tlearn: 572.4020996\ttotal: 293ms\tremaining: 172ms\n",
      "63:\tlearn: 571.2069232\ttotal: 297ms\tremaining: 167ms\n",
      "64:\tlearn: 569.8983536\ttotal: 302ms\tremaining: 162ms\n",
      "65:\tlearn: 568.5807617\ttotal: 306ms\tremaining: 158ms\n",
      "66:\tlearn: 566.3661711\ttotal: 310ms\tremaining: 153ms\n",
      "67:\tlearn: 564.8167995\ttotal: 314ms\tremaining: 148ms\n",
      "68:\tlearn: 563.8604165\ttotal: 318ms\tremaining: 143ms\n",
      "69:\tlearn: 562.3374219\ttotal: 322ms\tremaining: 138ms\n",
      "70:\tlearn: 560.6581222\ttotal: 327ms\tremaining: 134ms\n",
      "71:\tlearn: 559.2204846\ttotal: 332ms\tremaining: 129ms\n",
      "72:\tlearn: 557.9942304\ttotal: 337ms\tremaining: 125ms\n",
      "73:\tlearn: 557.1739288\ttotal: 342ms\tremaining: 120ms\n",
      "74:\tlearn: 555.9294846\ttotal: 347ms\tremaining: 116ms\n",
      "75:\tlearn: 555.2400856\ttotal: 352ms\tremaining: 111ms\n",
      "76:\tlearn: 554.4815452\ttotal: 359ms\tremaining: 107ms\n",
      "77:\tlearn: 553.3634433\ttotal: 364ms\tremaining: 103ms\n",
      "78:\tlearn: 552.8263022\ttotal: 369ms\tremaining: 98ms\n",
      "79:\tlearn: 552.4003511\ttotal: 375ms\tremaining: 93.6ms\n",
      "80:\tlearn: 551.7384178\ttotal: 380ms\tremaining: 89.1ms\n",
      "81:\tlearn: 550.5568049\ttotal: 385ms\tremaining: 84.4ms\n",
      "82:\tlearn: 549.5801502\ttotal: 390ms\tremaining: 79.9ms\n",
      "83:\tlearn: 548.2890980\ttotal: 394ms\tremaining: 75.1ms\n",
      "84:\tlearn: 548.1888585\ttotal: 399ms\tremaining: 70.3ms\n",
      "85:\tlearn: 547.0055056\ttotal: 404ms\tremaining: 65.8ms\n",
      "86:\tlearn: 546.6401111\ttotal: 409ms\tremaining: 61.1ms\n",
      "87:\tlearn: 545.7489916\ttotal: 413ms\tremaining: 56.4ms\n",
      "88:\tlearn: 545.4646216\ttotal: 418ms\tremaining: 51.6ms\n",
      "89:\tlearn: 544.4798886\ttotal: 423ms\tremaining: 47ms\n",
      "90:\tlearn: 543.4380778\ttotal: 427ms\tremaining: 42.2ms\n",
      "91:\tlearn: 542.4594291\ttotal: 432ms\tremaining: 37.6ms\n",
      "92:\tlearn: 542.3820898\ttotal: 437ms\tremaining: 32.9ms\n",
      "93:\tlearn: 541.7636257\ttotal: 441ms\tremaining: 28.2ms\n",
      "94:\tlearn: 540.8697895\ttotal: 446ms\tremaining: 23.5ms\n",
      "95:\tlearn: 540.1457249\ttotal: 451ms\tremaining: 18.8ms\n",
      "96:\tlearn: 539.5947266\ttotal: 456ms\tremaining: 14.1ms\n",
      "97:\tlearn: 538.8254728\ttotal: 461ms\tremaining: 9.4ms\n",
      "98:\tlearn: 537.7971881\ttotal: 466ms\tremaining: 4.71ms\n",
      "99:\tlearn: 537.0898859\ttotal: 470ms\tremaining: 0us\n"
     ]
    },
    {
     "output_type": "execute_result",
     "data": {
      "text/plain": [
       "<catboost.core.CatBoostRegressor at 0x1f35db752c8>"
      ]
     },
     "metadata": {},
     "execution_count": 104
    }
   ],
   "source": [
    "model.fit(train_pool)"
   ]
  },
  {
   "cell_type": "code",
   "execution_count": 105,
   "metadata": {},
   "outputs": [],
   "source": [
    "preds = model.predict(test_pool)"
   ]
  },
  {
   "cell_type": "code",
   "execution_count": 106,
   "metadata": {},
   "outputs": [
    {
     "output_type": "execute_result",
     "data": {
      "text/plain": [
       "572.435331802674"
      ]
     },
     "metadata": {},
     "execution_count": 106
    }
   ],
   "source": [
    "np.sqrt(mean_squared_error(test_datay, preds))"
   ]
  },
  {
   "cell_type": "code",
   "execution_count": 107,
   "metadata": {},
   "outputs": [
    {
     "output_type": "execute_result",
     "data": {
      "text/plain": [
       "311.40743425153136"
      ]
     },
     "metadata": {},
     "execution_count": 107
    }
   ],
   "source": [
    "mean_absolute_error(test_datay, preds)"
   ]
  },
  {
   "cell_type": "code",
   "execution_count": 14,
   "metadata": {},
   "outputs": [
    {
     "output_type": "error",
     "ename": "AttributeError",
     "evalue": "'RandomForestRegressor' object has no attribute 'grid_search'",
     "traceback": [
      "\u001b[1;31m---------------------------------------------------------------------------\u001b[0m",
      "\u001b[1;31mAttributeError\u001b[0m                            Traceback (most recent call last)",
      "\u001b[1;32m<ipython-input-14-3605cb18b0d4>\u001b[0m in \u001b[0;36m<module>\u001b[1;34m\u001b[0m\n\u001b[0;32m      5\u001b[0m         'l2_leaf_reg': [1, 3]}\n\u001b[0;32m      6\u001b[0m \u001b[1;33m\u001b[0m\u001b[0m\n\u001b[1;32m----> 7\u001b[1;33m grid_search_result = RandomForestRegModel.grid_search(grid, \n\u001b[0m\u001b[0;32m      8\u001b[0m                                        \u001b[0mX\u001b[0m\u001b[1;33m,\u001b[0m\u001b[1;33m\u001b[0m\u001b[1;33m\u001b[0m\u001b[0m\n\u001b[0;32m      9\u001b[0m                                        \u001b[0my\u001b[0m\u001b[1;33m,\u001b[0m\u001b[1;33m\u001b[0m\u001b[1;33m\u001b[0m\u001b[0m\n",
      "\u001b[1;31mAttributeError\u001b[0m: 'RandomForestRegressor' object has no attribute 'grid_search'"
     ]
    }
   ],
   "source": [
    "#model2 = \n",
    "\n",
    "grid = {'learning_rate': [0.15, 0.5],\n",
    "        'depth': [6, 8],\n",
    "        'l2_leaf_reg': [1, 3]}\n",
    "\n",
    "grid_search_result = RandomForestRegModel.grid_search(grid, \n",
    "                                       X, \n",
    "                                       y, \n",
    "                                       plot=True) #cat_features=[1, 2, 3]"
   ]
  },
  {
   "cell_type": "markdown",
   "metadata": {},
   "source": [
    "### 2. Dividir X_train, X_test, y_train, y_test"
   ]
  },
  {
   "cell_type": "markdown",
   "metadata": {},
   "source": [
    "### 3. Asignar el modelo (vacío) a una variable\n",
    "Aquí meteríais los parámetros. \n",
    "\n",
    "**Consejo**: Usa GridSearch y vuélvete loca o loco probando modelos e hiperparámetros."
   ]
  },
  {
   "cell_type": "markdown",
   "metadata": {},
   "source": [
    "Siempre hay tiempo para una historia:\n",
    "https://catboost.ai/docs/concepts/python-reference_catboostregressor.html"
   ]
  },
  {
   "cell_type": "markdown",
   "metadata": {},
   "source": [
    "### 4. Entrenar el modelo con X_train, y_train"
   ]
  },
  {
   "cell_type": "markdown",
   "metadata": {},
   "source": [
    "### 5. Predecir con el modelo ya entrenado con X_test"
   ]
  },
  {
   "cell_type": "code",
   "execution_count": 50,
   "metadata": {},
   "outputs": [
    {
     "output_type": "stream",
     "name": "stdout",
     "text": [
      "[ 9.31908124e+01  4.70164474e+01  4.80009456e+01 -5.38636139e+00\n  7.19106923e+01  1.88700424e+01  9.64684070e+01 -6.10786216e+01\n -9.07641480e+01  1.14482455e+01 -4.75944298e+01 -8.70629492e+01\n  3.69308296e+01 -1.58773895e+01  1.22882030e+02  4.24057491e+00\n  3.47541866e+01 -5.21842883e+01  1.18366229e+02  3.98058663e+00\n -5.14264798e+00  1.03443694e+01 -4.11842638e+01 -4.20997670e+00\n  1.35803542e+02  2.96947919e+01  4.98942765e+01  5.20608795e+01\n  7.73498332e+01 -4.53066931e+01 -4.96566109e+01 -5.40455409e+01\n -2.66977910e+01  1.19472683e+02 -1.21657526e-01  5.51739717e+01\n  1.15975242e+01 -1.45836419e+01 -4.17567769e+01 -4.79572380e+01\n -4.72483266e+01  8.85384576e+01  3.09255407e-02 -8.00854060e+01\n -9.31713604e+01 -1.81850889e+01  2.81083453e+01 -1.39885768e+01\n  6.88024357e+01  1.55205868e+01 -4.90986104e+01 -9.89978206e+01\n -7.65552962e+01  4.60854725e+00 -6.57211135e+01  1.54758053e+01\n -9.11561379e+01 -6.51446019e+01  4.27465032e+01 -4.80163329e+01\n  4.52523605e+01 -2.11102447e+01  4.44240326e+01  7.32400675e+00\n -2.94374332e+01  3.07383436e+01  7.25695473e+01  5.19933018e+01\n -2.57457734e+01  1.12743122e+02  6.36407255e+01 -3.13982131e+00\n  5.29248551e+01  4.75257273e+01  4.66384006e+01 -3.84844412e+01\n -5.64166049e+01 -1.93426977e+01 -1.09019871e+02  1.17178623e+02\n  6.45481373e+01  1.02919735e+02  8.94330158e+01 -5.25887910e+01\n -3.19748476e+01  7.83231870e+01  4.76812032e+01 -1.06132613e+02\n -9.65018655e+01 -8.16011406e+01 -8.05896939e+00  1.12924545e+01\n  4.64453609e+01 -9.38687388e+01 -3.98044429e+01 -1.29285135e+01\n -6.87339012e+01 -4.96066855e+01 -7.09420162e+01  2.31059613e+01]\n"
     ]
    }
   ],
   "source": [
    "predictions = RandomForestRegModel.predict(X)\n",
    "print(predictions)"
   ]
  },
  {
   "cell_type": "markdown",
   "metadata": {},
   "source": [
    "### 6. Sacar métricas, valorar el modelo \n",
    "\n",
    "Recuerdo que en la competición se va a evaluar con la métrica de RMSE."
   ]
  },
  {
   "cell_type": "code",
   "execution_count": 51,
   "metadata": {},
   "outputs": [
    {
     "output_type": "execute_result",
     "data": {
      "text/plain": [
       "9.474952227950709"
      ]
     },
     "metadata": {},
     "execution_count": 51
    }
   ],
   "source": [
    "np.sqrt(mean_squared_error(y, predictions))"
   ]
  },
  {
   "cell_type": "code",
   "execution_count": 52,
   "metadata": {},
   "outputs": [
    {
     "output_type": "execute_result",
     "data": {
      "text/plain": [
       "6.495054459781049"
      ]
     },
     "metadata": {},
     "execution_count": 52
    }
   ],
   "source": [
    "mean_absolute_error(y, predictions)"
   ]
  },
  {
   "cell_type": "markdown",
   "metadata": {},
   "source": [
    "-----------------------------------------------------------------"
   ]
  },
  {
   "cell_type": "markdown",
   "metadata": {},
   "source": [
    "## Una vez listo el modelo, toca predecir con el dataset de predicción "
   ]
  },
  {
   "cell_type": "markdown",
   "metadata": {},
   "source": [
    "Definición de **modelo que está listo**. \n",
    "\n",
    "_Tras hacer suficientes pruebas, analizar los datos, hacer feature engineering, probar diferentes modelos con diferentes parámetros, es con este con el que observo mejores métricas y menos overfitting. ¡Cuidado con el overfitting aquí! Si vuestro modelo aprende muy bien de estos datos pero hay overfitting cuando le pasemos los datos desconocidos de `diamonds_test.csv` nos arriesgamos a que digamos, no salga lo esperado._"
   ]
  },
  {
   "cell_type": "markdown",
   "metadata": {},
   "source": [
    "### 1. Entrena dicho modelo con TODOS tus datos de train, esto es con `diamonds_train.csv` al completo.\n",
    "\n",
    "**CON LAS TRANSFORMACIONES QUE LE HAYAS REALIZADO A `X` INCLUÍDAS.**\n",
    "\n",
    "Véase:\n",
    "- Estandarización/Normalización\n",
    "- Eliminación de Outliers\n",
    "- Eliminación de columnas\n",
    "- Creación de columnas nuevas\n",
    "- Gestión de valores nulos\n",
    "- Y un largo etcétera de técnicas que como Data Scientist hayas considerado las mejores para tu dataset."
   ]
  },
  {
   "cell_type": "markdown",
   "metadata": {},
   "source": [
    "### 2. Carga los datos de `diamonds_test.csv` para predecir.\n",
    "\n",
    "**¿De dónde saco `diamonds_test.csv`?**"
   ]
  },
  {
   "cell_type": "code",
   "execution_count": 21,
   "metadata": {},
   "outputs": [
    {
     "output_type": "execute_result",
     "data": {
      "text/plain": [
       "   carat        cut color clarity  depth  table     x     y     z\n",
       "0   0.30      Ideal     H     SI2   60.0   56.0  4.41  4.43  2.65\n",
       "1   0.34      Ideal     D      IF   62.1   57.0  4.52  4.46  2.79\n",
       "2   1.57  Very Good     I     VS2   60.3   58.0  7.58  7.55  4.56\n",
       "3   0.31      Ideal     H     VS2   61.8   57.0  4.32  4.36  2.68\n",
       "4   1.51       Good     I    VVS1   64.0   60.0  7.26  7.21  4.63"
      ],
      "text/html": "<div>\n<style scoped>\n    .dataframe tbody tr th:only-of-type {\n        vertical-align: middle;\n    }\n\n    .dataframe tbody tr th {\n        vertical-align: top;\n    }\n\n    .dataframe thead th {\n        text-align: right;\n    }\n</style>\n<table border=\"1\" class=\"dataframe\">\n  <thead>\n    <tr style=\"text-align: right;\">\n      <th></th>\n      <th>carat</th>\n      <th>cut</th>\n      <th>color</th>\n      <th>clarity</th>\n      <th>depth</th>\n      <th>table</th>\n      <th>x</th>\n      <th>y</th>\n      <th>z</th>\n    </tr>\n  </thead>\n  <tbody>\n    <tr>\n      <th>0</th>\n      <td>0.30</td>\n      <td>Ideal</td>\n      <td>H</td>\n      <td>SI2</td>\n      <td>60.0</td>\n      <td>56.0</td>\n      <td>4.41</td>\n      <td>4.43</td>\n      <td>2.65</td>\n    </tr>\n    <tr>\n      <th>1</th>\n      <td>0.34</td>\n      <td>Ideal</td>\n      <td>D</td>\n      <td>IF</td>\n      <td>62.1</td>\n      <td>57.0</td>\n      <td>4.52</td>\n      <td>4.46</td>\n      <td>2.79</td>\n    </tr>\n    <tr>\n      <th>2</th>\n      <td>1.57</td>\n      <td>Very Good</td>\n      <td>I</td>\n      <td>VS2</td>\n      <td>60.3</td>\n      <td>58.0</td>\n      <td>7.58</td>\n      <td>7.55</td>\n      <td>4.56</td>\n    </tr>\n    <tr>\n      <th>3</th>\n      <td>0.31</td>\n      <td>Ideal</td>\n      <td>H</td>\n      <td>VS2</td>\n      <td>61.8</td>\n      <td>57.0</td>\n      <td>4.32</td>\n      <td>4.36</td>\n      <td>2.68</td>\n    </tr>\n    <tr>\n      <th>4</th>\n      <td>1.51</td>\n      <td>Good</td>\n      <td>I</td>\n      <td>VVS1</td>\n      <td>64.0</td>\n      <td>60.0</td>\n      <td>7.26</td>\n      <td>7.21</td>\n      <td>4.63</td>\n    </tr>\n  </tbody>\n</table>\n</div>"
     },
     "metadata": {},
     "execution_count": 21
    }
   ],
   "source": [
    "X_pred = pd.read_csv(\"diamonds_test.csv\", index_col = 0)\n",
    "X_pred.head()"
   ]
  },
  {
   "cell_type": "code",
   "execution_count": 22,
   "metadata": {},
   "outputs": [
    {
     "output_type": "execute_result",
     "data": {
      "text/plain": [
       "(13449, 9)"
      ]
     },
     "metadata": {},
     "execution_count": 22
    }
   ],
   "source": [
    "X_pred.shape"
   ]
  },
  {
   "cell_type": "code",
   "execution_count": 23,
   "metadata": {},
   "outputs": [],
   "source": [
    "lb_make = LabelEncoder()\n",
    "X_pred['cut'] = lb_make.fit_transform(X_pred['cut'])\n",
    "X_pred['color'] = lb_make.fit_transform(X_pred['color'])\n",
    "X_pred['clarity'] = lb_make.fit_transform(X_pred['clarity'])"
   ]
  },
  {
   "cell_type": "code",
   "execution_count": 24,
   "metadata": {},
   "outputs": [],
   "source": [
    "X_pred = np.array(X_pred[[\"carat\", \"color\", \"clarity\", \"x\",\"y\",\"z\"]])"
   ]
  },
  {
   "cell_type": "code",
   "execution_count": 54,
   "metadata": {},
   "outputs": [
    {
     "output_type": "execute_result",
     "data": {
      "text/plain": [
       "(13449, 8)"
      ]
     },
     "metadata": {},
     "execution_count": 54
    }
   ],
   "source": [
    "X_pred.shape"
   ]
  },
  {
   "cell_type": "markdown",
   "metadata": {},
   "source": [
    "**¿Por qué da error?** "
   ]
  },
  {
   "cell_type": "code",
   "execution_count": 55,
   "metadata": {},
   "outputs": [
    {
     "output_type": "error",
     "ename": "ValueError",
     "evalue": "X has 8 features, but DecisionTreeRegressor is expecting 6 features as input.",
     "traceback": [
      "\u001b[1;31m---------------------------------------------------------------------------\u001b[0m",
      "\u001b[1;31mValueError\u001b[0m                                Traceback (most recent call last)",
      "\u001b[1;32m<ipython-input-55-997619c23d1e>\u001b[0m in \u001b[0;36m<module>\u001b[1;34m\u001b[0m\n\u001b[1;32m----> 1\u001b[1;33m \u001b[0mpredictions_submit\u001b[0m \u001b[1;33m=\u001b[0m \u001b[0mRandomForestRegModel\u001b[0m\u001b[1;33m.\u001b[0m\u001b[0mpredict\u001b[0m\u001b[1;33m(\u001b[0m\u001b[0mX_pred\u001b[0m\u001b[1;33m)\u001b[0m\u001b[1;33m\u001b[0m\u001b[1;33m\u001b[0m\u001b[0m\n\u001b[0m\u001b[0;32m      2\u001b[0m \u001b[0mpredictions_submit\u001b[0m\u001b[1;33m\u001b[0m\u001b[1;33m\u001b[0m\u001b[0m\n",
      "\u001b[1;32m~\\AppData\\Local\\Programs\\Python\\Python37\\lib\\site-packages\\sklearn\\ensemble\\_forest.py\u001b[0m in \u001b[0;36mpredict\u001b[1;34m(self, X)\u001b[0m\n\u001b[0;32m    782\u001b[0m         \u001b[0mcheck_is_fitted\u001b[0m\u001b[1;33m(\u001b[0m\u001b[0mself\u001b[0m\u001b[1;33m)\u001b[0m\u001b[1;33m\u001b[0m\u001b[1;33m\u001b[0m\u001b[0m\n\u001b[0;32m    783\u001b[0m         \u001b[1;31m# Check data\u001b[0m\u001b[1;33m\u001b[0m\u001b[1;33m\u001b[0m\u001b[1;33m\u001b[0m\u001b[0m\n\u001b[1;32m--> 784\u001b[1;33m         \u001b[0mX\u001b[0m \u001b[1;33m=\u001b[0m \u001b[0mself\u001b[0m\u001b[1;33m.\u001b[0m\u001b[0m_validate_X_predict\u001b[0m\u001b[1;33m(\u001b[0m\u001b[0mX\u001b[0m\u001b[1;33m)\u001b[0m\u001b[1;33m\u001b[0m\u001b[1;33m\u001b[0m\u001b[0m\n\u001b[0m\u001b[0;32m    785\u001b[0m \u001b[1;33m\u001b[0m\u001b[0m\n\u001b[0;32m    786\u001b[0m         \u001b[1;31m# Assign chunk of trees to jobs\u001b[0m\u001b[1;33m\u001b[0m\u001b[1;33m\u001b[0m\u001b[1;33m\u001b[0m\u001b[0m\n",
      "\u001b[1;32m~\\AppData\\Local\\Programs\\Python\\Python37\\lib\\site-packages\\sklearn\\ensemble\\_forest.py\u001b[0m in \u001b[0;36m_validate_X_predict\u001b[1;34m(self, X)\u001b[0m\n\u001b[0;32m    420\u001b[0m         \u001b[0mcheck_is_fitted\u001b[0m\u001b[1;33m(\u001b[0m\u001b[0mself\u001b[0m\u001b[1;33m)\u001b[0m\u001b[1;33m\u001b[0m\u001b[1;33m\u001b[0m\u001b[0m\n\u001b[0;32m    421\u001b[0m \u001b[1;33m\u001b[0m\u001b[0m\n\u001b[1;32m--> 422\u001b[1;33m         \u001b[1;32mreturn\u001b[0m \u001b[0mself\u001b[0m\u001b[1;33m.\u001b[0m\u001b[0mestimators_\u001b[0m\u001b[1;33m[\u001b[0m\u001b[1;36m0\u001b[0m\u001b[1;33m]\u001b[0m\u001b[1;33m.\u001b[0m\u001b[0m_validate_X_predict\u001b[0m\u001b[1;33m(\u001b[0m\u001b[0mX\u001b[0m\u001b[1;33m,\u001b[0m \u001b[0mcheck_input\u001b[0m\u001b[1;33m=\u001b[0m\u001b[1;32mTrue\u001b[0m\u001b[1;33m)\u001b[0m\u001b[1;33m\u001b[0m\u001b[1;33m\u001b[0m\u001b[0m\n\u001b[0m\u001b[0;32m    423\u001b[0m \u001b[1;33m\u001b[0m\u001b[0m\n\u001b[0;32m    424\u001b[0m     \u001b[1;33m@\u001b[0m\u001b[0mproperty\u001b[0m\u001b[1;33m\u001b[0m\u001b[1;33m\u001b[0m\u001b[0m\n",
      "\u001b[1;32m~\\AppData\\Local\\Programs\\Python\\Python37\\lib\\site-packages\\sklearn\\tree\\_classes.py\u001b[0m in \u001b[0;36m_validate_X_predict\u001b[1;34m(self, X, check_input)\u001b[0m\n\u001b[0;32m    406\u001b[0m         \u001b[1;32mif\u001b[0m \u001b[0mcheck_input\u001b[0m\u001b[1;33m:\u001b[0m\u001b[1;33m\u001b[0m\u001b[1;33m\u001b[0m\u001b[0m\n\u001b[0;32m    407\u001b[0m             X = self._validate_data(X, dtype=DTYPE, accept_sparse=\"csr\",\n\u001b[1;32m--> 408\u001b[1;33m                                     reset=False)\n\u001b[0m\u001b[0;32m    409\u001b[0m             if issparse(X) and (X.indices.dtype != np.intc or\n\u001b[0;32m    410\u001b[0m                                 X.indptr.dtype != np.intc):\n",
      "\u001b[1;32m~\\AppData\\Local\\Programs\\Python\\Python37\\lib\\site-packages\\sklearn\\base.py\u001b[0m in \u001b[0;36m_validate_data\u001b[1;34m(self, X, y, reset, validate_separately, **check_params)\u001b[0m\n\u001b[0;32m    435\u001b[0m \u001b[1;33m\u001b[0m\u001b[0m\n\u001b[0;32m    436\u001b[0m         \u001b[1;32mif\u001b[0m \u001b[0mcheck_params\u001b[0m\u001b[1;33m.\u001b[0m\u001b[0mget\u001b[0m\u001b[1;33m(\u001b[0m\u001b[1;34m'ensure_2d'\u001b[0m\u001b[1;33m,\u001b[0m \u001b[1;32mTrue\u001b[0m\u001b[1;33m)\u001b[0m\u001b[1;33m:\u001b[0m\u001b[1;33m\u001b[0m\u001b[1;33m\u001b[0m\u001b[0m\n\u001b[1;32m--> 437\u001b[1;33m             \u001b[0mself\u001b[0m\u001b[1;33m.\u001b[0m\u001b[0m_check_n_features\u001b[0m\u001b[1;33m(\u001b[0m\u001b[0mX\u001b[0m\u001b[1;33m,\u001b[0m \u001b[0mreset\u001b[0m\u001b[1;33m=\u001b[0m\u001b[0mreset\u001b[0m\u001b[1;33m)\u001b[0m\u001b[1;33m\u001b[0m\u001b[1;33m\u001b[0m\u001b[0m\n\u001b[0m\u001b[0;32m    438\u001b[0m \u001b[1;33m\u001b[0m\u001b[0m\n\u001b[0;32m    439\u001b[0m         \u001b[1;32mreturn\u001b[0m \u001b[0mout\u001b[0m\u001b[1;33m\u001b[0m\u001b[1;33m\u001b[0m\u001b[0m\n",
      "\u001b[1;32m~\\AppData\\Local\\Programs\\Python\\Python37\\lib\\site-packages\\sklearn\\base.py\u001b[0m in \u001b[0;36m_check_n_features\u001b[1;34m(self, X, reset)\u001b[0m\n\u001b[0;32m    364\u001b[0m         \u001b[1;32mif\u001b[0m \u001b[0mn_features\u001b[0m \u001b[1;33m!=\u001b[0m \u001b[0mself\u001b[0m\u001b[1;33m.\u001b[0m\u001b[0mn_features_in_\u001b[0m\u001b[1;33m:\u001b[0m\u001b[1;33m\u001b[0m\u001b[1;33m\u001b[0m\u001b[0m\n\u001b[0;32m    365\u001b[0m             raise ValueError(\n\u001b[1;32m--> 366\u001b[1;33m                 \u001b[1;34mf\"X has {n_features} features, but {self.__class__.__name__} \"\u001b[0m\u001b[1;33m\u001b[0m\u001b[1;33m\u001b[0m\u001b[0m\n\u001b[0m\u001b[0;32m    367\u001b[0m                 f\"is expecting {self.n_features_in_} features as input.\")\n\u001b[0;32m    368\u001b[0m \u001b[1;33m\u001b[0m\u001b[0m\n",
      "\u001b[1;31mValueError\u001b[0m: X has 8 features, but DecisionTreeRegressor is expecting 6 features as input."
     ]
    }
   ],
   "source": [
    "predictions_submit = RandomForestRegModel.predict(X_pred)\n",
    "predictions_submit"
   ]
  },
  {
   "cell_type": "code",
   "execution_count": 28,
   "metadata": {},
   "outputs": [
    {
     "output_type": "execute_result",
     "data": {
      "text/plain": [
       "(13449,)"
      ]
     },
     "metadata": {},
     "execution_count": 28
    }
   ],
   "source": [
    "predictions_submit.shape"
   ]
  },
  {
   "cell_type": "markdown",
   "metadata": {},
   "source": [
    "## IMPORTANTE: APLICAR LO MISMO A ESTOS DATOS QUE HAYÁIS APLICADO A LOS DATOS DE ENTRENAMIENTO\n",
    "\n",
    "- SI EL ARRAY CON EL QUE HICISTEIS `.fit()` ERA DE 4 COLUMNAS, PARA `.predict()` DEBEN SER LAS MISMAS\n",
    "- SI AL ARRAY CON EL QUE HICISTEIS `.fit()` LO NORMALIZASTEIS, PARA `.predict()` DEBÉIS NORMALIZARLO\n",
    "- TODO IGUAL SALVO BORRAR FILAS, EL NÚMERO DE ROWS SE DEBE MANTENER EN ESTE SET, PUES LA PREDICCIÓN DEBE TENER 13449 FILAS, SI O SI"
   ]
  },
  {
   "cell_type": "markdown",
   "metadata": {},
   "source": [
    "**Entonces, si al cargar los datos de train usé `index_col=0` para que utilizara la primera columna del conjunto de datos como índice, ¿tendré que hacerlo también para el conjunto `diamonds_test.csv`?**"
   ]
  },
  {
   "cell_type": "code",
   "execution_count": null,
   "metadata": {},
   "outputs": [],
   "source": [
    "# ¿Qué opináis?\n",
    "# Sí"
   ]
  },
  {
   "cell_type": "markdown",
   "metadata": {},
   "source": [
    "![](https://www.tierraljelechu.com/web/img/wiki_up/1.996-SorpresaDto.-1-Red.jpg)"
   ]
  },
  {
   "cell_type": "markdown",
   "metadata": {},
   "source": [
    "**¿Qué más habrá que quitar o hacer?**"
   ]
  },
  {
   "cell_type": "code",
   "execution_count": null,
   "metadata": {},
   "outputs": [],
   "source": [
    "# ¿Qué opináis?\n",
    "# En este caso, quitar todas las columnas, menos la x, y y z"
   ]
  },
  {
   "cell_type": "markdown",
   "metadata": {},
   "source": [
    "![](https://www.tierraljelechu.com/web/img/wiki_up/1.996-SorpresaDto.-1-Red.jpg)"
   ]
  },
  {
   "cell_type": "markdown",
   "metadata": {},
   "source": [
    "**Truqui**: Carga X que debe estar actualmente actualizada a cómo la usaste para entrenar a `model` y haz que `X_pred` sea igual. ¡Sin quitar filas!"
   ]
  },
  {
   "cell_type": "markdown",
   "metadata": {},
   "source": [
    "Porque:\n",
    "    - SI EL ARRAY CON EL QUE HICISTEIS `.fit()` ERA DE 3 COLUMNAS, PARA `.predict()` DEBEN SER LAS MISMAS"
   ]
  },
  {
   "cell_type": "code",
   "execution_count": 99,
   "metadata": {},
   "outputs": [
    {
     "output_type": "execute_result",
     "data": {
      "text/plain": [
       "array([[4.41, 4.43, 2.65],\n",
       "       [4.52, 4.46, 2.79],\n",
       "       [7.58, 7.55, 4.56],\n",
       "       ...,\n",
       "       [7.3 , 7.37, 4.53],\n",
       "       [7.79, 7.68, 4.66],\n",
       "       [4.29, 4.34, 2.64]])"
      ]
     },
     "metadata": {},
     "execution_count": 99
    }
   ],
   "source": [
    "#X_pred"
   ]
  },
  {
   "cell_type": "markdown",
   "metadata": {},
   "source": [
    "### 3. AHORA puedo hacer la predicción que será lo que subirás a Kaggle. "
   ]
  },
  {
   "cell_type": "markdown",
   "metadata": {},
   "source": [
    "**¿Qué es lo que subirás a Kaggle?**"
   ]
  },
  {
   "cell_type": "code",
   "execution_count": null,
   "metadata": {},
   "outputs": [],
   "source": [
    "# respuestas"
   ]
  },
  {
   "cell_type": "code",
   "execution_count": 47,
   "metadata": {},
   "outputs": [
    {
     "output_type": "execute_result",
     "data": {
      "text/plain": [
       "array([   18.68779645,  2500.80852261,  4864.54195375, ...,\n",
       "        6118.55288359, 13395.34483755,  1887.97613812])"
      ]
     },
     "metadata": {},
     "execution_count": 47
    }
   ],
   "source": [
    "#predictions_submit = model.predict(X_pred)\n",
    "#predictions_submit"
   ]
  },
  {
   "cell_type": "code",
   "execution_count": 48,
   "metadata": {},
   "outputs": [
    {
     "output_type": "execute_result",
     "data": {
      "text/plain": [
       "(13449,)"
      ]
     },
     "metadata": {},
     "execution_count": 48
    }
   ],
   "source": [
    "#predictions_submit.shape"
   ]
  },
  {
   "cell_type": "markdown",
   "metadata": {},
   "source": [
    "**¡PERO! Para subir a Kaggle la predicción, ésta tendrá que tener una forma específica y no valdrá otra.**\n",
    "\n",
    "En este caso, la **MISMA** forma que `sample_submission.csv`. "
   ]
  },
  {
   "cell_type": "markdown",
   "metadata": {},
   "source": [
    "**¿De dónde saco `sample_submission.csv`?**"
   ]
  },
  {
   "cell_type": "code",
   "execution_count": 29,
   "metadata": {},
   "outputs": [],
   "source": [
    "sample = pd.read_csv(\"sample_submission.csv\")"
   ]
  },
  {
   "cell_type": "code",
   "execution_count": 30,
   "metadata": {},
   "outputs": [
    {
     "output_type": "execute_result",
     "data": {
      "text/plain": [
       "   id  price\n",
       "0   0  12132\n",
       "1   1  11786\n",
       "2   2  14684\n",
       "3   3  15425\n",
       "4   4   6724"
      ],
      "text/html": "<div>\n<style scoped>\n    .dataframe tbody tr th:only-of-type {\n        vertical-align: middle;\n    }\n\n    .dataframe tbody tr th {\n        vertical-align: top;\n    }\n\n    .dataframe thead th {\n        text-align: right;\n    }\n</style>\n<table border=\"1\" class=\"dataframe\">\n  <thead>\n    <tr style=\"text-align: right;\">\n      <th></th>\n      <th>id</th>\n      <th>price</th>\n    </tr>\n  </thead>\n  <tbody>\n    <tr>\n      <th>0</th>\n      <td>0</td>\n      <td>12132</td>\n    </tr>\n    <tr>\n      <th>1</th>\n      <td>1</td>\n      <td>11786</td>\n    </tr>\n    <tr>\n      <th>2</th>\n      <td>2</td>\n      <td>14684</td>\n    </tr>\n    <tr>\n      <th>3</th>\n      <td>3</td>\n      <td>15425</td>\n    </tr>\n    <tr>\n      <th>4</th>\n      <td>4</td>\n      <td>6724</td>\n    </tr>\n  </tbody>\n</table>\n</div>"
     },
     "metadata": {},
     "execution_count": 30
    }
   ],
   "source": [
    "sample.head()"
   ]
  },
  {
   "cell_type": "code",
   "execution_count": 31,
   "metadata": {},
   "outputs": [
    {
     "output_type": "execute_result",
     "data": {
      "text/plain": [
       "(13449, 2)"
      ]
     },
     "metadata": {},
     "execution_count": 31
    }
   ],
   "source": [
    "sample.shape"
   ]
  },
  {
   "cell_type": "markdown",
   "metadata": {},
   "source": [
    "### 4. Mete tus predicciones en un dataframe. \n",
    "\n",
    "En este caso, la **MISMA** forma que `sample_submission.csv`. "
   ]
  },
  {
   "cell_type": "code",
   "execution_count": 32,
   "metadata": {},
   "outputs": [],
   "source": [
    "submission = pd.DataFrame({\"id\": range(len(predictions_submit)), \"price\": predictions_submit})"
   ]
  },
  {
   "cell_type": "code",
   "execution_count": 33,
   "metadata": {},
   "outputs": [
    {
     "output_type": "execute_result",
     "data": {
      "text/plain": [
       "   id    price\n",
       "0   0   427.98\n",
       "1   1  1823.55\n",
       "2   2  9617.38\n",
       "3   3   480.89\n",
       "4   4  8452.21"
      ],
      "text/html": "<div>\n<style scoped>\n    .dataframe tbody tr th:only-of-type {\n        vertical-align: middle;\n    }\n\n    .dataframe tbody tr th {\n        vertical-align: top;\n    }\n\n    .dataframe thead th {\n        text-align: right;\n    }\n</style>\n<table border=\"1\" class=\"dataframe\">\n  <thead>\n    <tr style=\"text-align: right;\">\n      <th></th>\n      <th>id</th>\n      <th>price</th>\n    </tr>\n  </thead>\n  <tbody>\n    <tr>\n      <th>0</th>\n      <td>0</td>\n      <td>427.98</td>\n    </tr>\n    <tr>\n      <th>1</th>\n      <td>1</td>\n      <td>1823.55</td>\n    </tr>\n    <tr>\n      <th>2</th>\n      <td>2</td>\n      <td>9617.38</td>\n    </tr>\n    <tr>\n      <th>3</th>\n      <td>3</td>\n      <td>480.89</td>\n    </tr>\n    <tr>\n      <th>4</th>\n      <td>4</td>\n      <td>8452.21</td>\n    </tr>\n  </tbody>\n</table>\n</div>"
     },
     "metadata": {},
     "execution_count": 33
    }
   ],
   "source": [
    "submission.head()"
   ]
  },
  {
   "cell_type": "code",
   "execution_count": 34,
   "metadata": {},
   "outputs": [
    {
     "output_type": "execute_result",
     "data": {
      "text/plain": [
       "(13449, 2)"
      ]
     },
     "metadata": {},
     "execution_count": 34
    }
   ],
   "source": [
    "submission.shape"
   ]
  },
  {
   "cell_type": "markdown",
   "metadata": {},
   "source": [
    "### 5. Pásale el CHEQUEATOR para comprobar que efectivamente está listo para subir a Kaggle."
   ]
  },
  {
   "cell_type": "code",
   "execution_count": 37,
   "metadata": {},
   "outputs": [],
   "source": [
    "def chequeator(df_to_submit):\n",
    "    \"\"\"\n",
    "    Esta función se asegura de que tu submission tenga la forma requerida por Kaggle.\n",
    "    \n",
    "    Si es así, se guardará el dataframe en un `csv` y estará listo para subir a Kaggle.\n",
    "    \n",
    "    Si no, LEE EL MENSAJE Y HAZLE CASO.\n",
    "    \n",
    "    Si aún no:\n",
    "    - apaga tu ordenador, \n",
    "    - date una vuelta, \n",
    "    - enciendelo otra vez, \n",
    "    - abre este notebook y \n",
    "    - leelo todo de nuevo. \n",
    "    Todos nos merecemos una segunda oportunidad. También tú.\n",
    "    \"\"\"\n",
    "    if df_to_submit.shape == sample.shape:\n",
    "        if df_to_submit.columns.all() == sample.columns.all():\n",
    "            if df_to_submit.id.all() == sample.id.all():\n",
    "                print(\"You're ready to submit!\")\n",
    "                submission.to_csv(\"submission.csv\", index = False) #muy importante el index = False\n",
    "                urllib.request.urlretrieve(\"https://i.kym-cdn.com/photos/images/facebook/000/747/556/27a.jpg\", \"gfg.png\")     \n",
    "                img = Image.open(\"gfg.png\")\n",
    "                img.show()   \n",
    "            else:\n",
    "                print(\"Check the ids and try again\")\n",
    "        else:\n",
    "            print(\"Check the names of the columns and try again\")\n",
    "    else:\n",
    "        print(\"Check the number of rows and/or columns and try again\")\n",
    "        print(\"\\nMensaje secreto de Clara: No me puedo creer que después de todo este notebook hayas hecho algún cambio en las filas de `diamonds_test.csv`. Lloro.\")\n"
   ]
  },
  {
   "cell_type": "code",
   "execution_count": 58,
   "metadata": {},
   "outputs": [
    {
     "output_type": "stream",
     "name": "stdout",
     "text": [
      "Help on function chequeator in module __main__:\n\nchequeator(df_to_submit)\n    Esta función se asegura de que tu submission tenga la forma requerida por Kaggle.\n    \n    Si es así, se guardará el dataframe en un `csv` y estará listo para subir a Kaggle.\n    \n    Si no, LEE EL MENSAJE Y HAZLE CASO.\n    \n    Si aún no:\n    - apaga tu ordenador, \n    - date una vuelta, \n    - enciendelo otra vez, \n    - abre este notebook y \n    - leelo todo de nuevo. \n    Todos nos merecemos una segunda oportunidad. También tú.\n\n"
     ]
    }
   ],
   "source": [
    "help(chequeator)"
   ]
  },
  {
   "cell_type": "code",
   "execution_count": 39,
   "metadata": {},
   "outputs": [
    {
     "output_type": "stream",
     "name": "stdout",
     "text": [
      "You're ready to submit!\n"
     ]
    }
   ],
   "source": [
    "chequeator(submission)"
   ]
  },
  {
   "cell_type": "code",
   "execution_count": null,
   "metadata": {},
   "outputs": [],
   "source": []
  }
 ],
 "metadata": {
  "kernelspec": {
   "name": "python3",
   "display_name": "Python 3.7.4 64-bit"
  },
  "language_info": {
   "codemirror_mode": {
    "name": "ipython",
    "version": 3
   },
   "file_extension": ".py",
   "mimetype": "text/x-python",
   "name": "python",
   "nbconvert_exporter": "python",
   "pygments_lexer": "ipython3",
   "version": "3.7.4"
  },
  "interpreter": {
   "hash": "16eb897c26cdfcf18817bc60a8e0737e3939ff1e8491198c807979170104e811"
  }
 },
 "nbformat": 4,
 "nbformat_minor": 4
}