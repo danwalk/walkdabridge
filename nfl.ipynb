{
 "metadata": {
  "language_info": {
   "codemirror_mode": {
    "name": "ipython",
    "version": 3
   },
   "file_extension": ".py",
   "mimetype": "text/x-python",
   "name": "python",
   "nbconvert_exporter": "python",
   "pygments_lexer": "ipython3",
   "version": "3.7.4"
  },
  "orig_nbformat": 2,
  "kernelspec": {
   "name": "python374jvsc74a57bd016eb897c26cdfcf18817bc60a8e0737e3939ff1e8491198c807979170104e811",
   "display_name": "Python 3.7.4 64-bit"
  },
  "metadata": {
   "interpreter": {
    "hash": "16eb897c26cdfcf18817bc60a8e0737e3939ff1e8491198c807979170104e811"
   }
  }
 },
 "nbformat": 4,
 "nbformat_minor": 2,
 "cells": [
  {
   "cell_type": "code",
   "execution_count": 1,
   "metadata": {},
   "outputs": [
    {
     "output_type": "stream",
     "name": "stdout",
     "text": [
      "{\"message\":\"You are not subscribed to this API.\"}\n"
     ]
    }
   ],
   "source": [
    "import requests\n",
    "\n",
    "url = \"https://therundown-therundown-v1.p.rapidapi.com/lines/10978226/moneyline\"\n",
    "\n",
    "querystring = {\"include\":\"all_periods\"}\n",
    "\n",
    "headers = {\n",
    "    'x-rapidapi-key': \"1b098c66e6mshcb4bf2224b5b011p1f9443jsnbdeb0639a73a\",\n",
    "    'x-rapidapi-host': \"therundown-therundown-v1.p.rapidapi.com\"\n",
    "    }\n",
    "\n",
    "response = requests.request(\"GET\", url, headers=headers, params=querystring)\n",
    "\n",
    "print(response.text)"
   ]
  },
  {
   "cell_type": "code",
   "execution_count": 3,
   "metadata": {},
   "outputs": [
    {
     "output_type": "stream",
     "name": "stdout",
     "text": [
      "{\"message\":\"You are not subscribed to this API.\"}\n"
     ]
    }
   ],
   "source": [
    "import requests\n",
    "\n",
    "url = \"https://odds.p.rapidapi.com/v1/odds\"\n",
    "\n",
    "querystring = {\"sport\":\"soccer_epl\",\"region\":\"uk\",\"mkt\":\"h2h\",\"dateFormat\":\"iso\",\"oddsFormat\":\"decimal\"}\n",
    "\n",
    "headers = {\n",
    "    'x-rapidapi-key': \"1b098c66e6mshcb4bf2224b5b011p1f9443jsnbdeb0639a73a\",\n",
    "    'x-rapidapi-host': \"odds.p.rapidapi.com\"\n",
    "    }\n",
    "\n",
    "response = requests.request(\"GET\", url, headers=headers, params=querystring)\n",
    "\n",
    "print(response.text)"
   ]
  },
  {
   "cell_type": "code",
   "execution_count": null,
   "metadata": {},
   "outputs": [],
   "source": []
  }
 ]
}