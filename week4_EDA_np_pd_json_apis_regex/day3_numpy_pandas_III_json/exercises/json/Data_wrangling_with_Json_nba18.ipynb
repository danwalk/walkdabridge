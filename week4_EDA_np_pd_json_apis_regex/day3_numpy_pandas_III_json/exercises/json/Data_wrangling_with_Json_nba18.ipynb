{
 "cells": [
  {
   "cell_type": "markdown",
   "metadata": {},
   "source": [
    "## Working on Jsons"
   ]
  },
  {
   "cell_type": "code",
   "execution_count": 2,
   "metadata": {},
   "outputs": [],
   "source": [
    "import requests\n",
    "import json\n",
    "import pandas as pd\n",
    "import numpy as np"
   ]
  },
  {
   "cell_type": "code",
   "execution_count": 3,
   "metadata": {
    "tags": []
   },
   "outputs": [],
   "source": [
    "r = requests.get(url='http://data.nba.net/prod/v2/2018/teams.json')\n",
    "json_readed = json.loads(r.text)"
   ]
  },
  {
   "cell_type": "code",
   "execution_count": 4,
   "metadata": {
    "tags": []
   },
   "outputs": [
    {
     "output_type": "execute_result",
     "data": {
      "text/plain": [
       "                                          _internal  \\\n",
       "pubDateTime                 2018-08-30 20:00:04.422   \n",
       "xslt         xsl/league/roster/marty_teams_list.xsl   \n",
       "eventName                             league_roster   \n",
       "standard                                        NaN   \n",
       "africa                                          NaN   \n",
       "sacramento                                      NaN   \n",
       "vegas                                           NaN   \n",
       "utah                                            NaN   \n",
       "\n",
       "                                                        league  \n",
       "pubDateTime                                                NaN  \n",
       "xslt                                                       NaN  \n",
       "eventName                                                  NaN  \n",
       "standard     [{'isNBAFranchise': False, 'isAllStar': True, ...  \n",
       "africa       [{'isNBAFranchise': False, 'isAllStar': False,...  \n",
       "sacramento   [{'isNBAFranchise': True, 'isAllStar': False, ...  \n",
       "vegas        [{'isNBAFranchise': True, 'isAllStar': False, ...  \n",
       "utah         [{'isNBAFranchise': True, 'isAllStar': False, ...  "
      ],
      "text/html": "<div>\n<style scoped>\n    .dataframe tbody tr th:only-of-type {\n        vertical-align: middle;\n    }\n\n    .dataframe tbody tr th {\n        vertical-align: top;\n    }\n\n    .dataframe thead th {\n        text-align: right;\n    }\n</style>\n<table border=\"1\" class=\"dataframe\">\n  <thead>\n    <tr style=\"text-align: right;\">\n      <th></th>\n      <th>_internal</th>\n      <th>league</th>\n    </tr>\n  </thead>\n  <tbody>\n    <tr>\n      <th>pubDateTime</th>\n      <td>2018-08-30 20:00:04.422</td>\n      <td>NaN</td>\n    </tr>\n    <tr>\n      <th>xslt</th>\n      <td>xsl/league/roster/marty_teams_list.xsl</td>\n      <td>NaN</td>\n    </tr>\n    <tr>\n      <th>eventName</th>\n      <td>league_roster</td>\n      <td>NaN</td>\n    </tr>\n    <tr>\n      <th>standard</th>\n      <td>NaN</td>\n      <td>[{'isNBAFranchise': False, 'isAllStar': True, ...</td>\n    </tr>\n    <tr>\n      <th>africa</th>\n      <td>NaN</td>\n      <td>[{'isNBAFranchise': False, 'isAllStar': False,...</td>\n    </tr>\n    <tr>\n      <th>sacramento</th>\n      <td>NaN</td>\n      <td>[{'isNBAFranchise': True, 'isAllStar': False, ...</td>\n    </tr>\n    <tr>\n      <th>vegas</th>\n      <td>NaN</td>\n      <td>[{'isNBAFranchise': True, 'isAllStar': False, ...</td>\n    </tr>\n    <tr>\n      <th>utah</th>\n      <td>NaN</td>\n      <td>[{'isNBAFranchise': True, 'isAllStar': False, ...</td>\n    </tr>\n  </tbody>\n</table>\n</div>"
     },
     "metadata": {},
     "execution_count": 4
    }
   ],
   "source": [
    "df = pd.DataFrame(json_readed)\n",
    "df"
   ]
  },
  {
   "cell_type": "code",
   "execution_count": 5,
   "metadata": {},
   "outputs": [
    {
     "output_type": "execute_result",
     "data": {
      "text/plain": [
       "                                                       league\n",
       "standard    [{'isNBAFranchise': False, 'isAllStar': True, ...\n",
       "africa      [{'isNBAFranchise': False, 'isAllStar': False,...\n",
       "sacramento  [{'isNBAFranchise': True, 'isAllStar': False, ...\n",
       "vegas       [{'isNBAFranchise': True, 'isAllStar': False, ...\n",
       "utah        [{'isNBAFranchise': True, 'isAllStar': False, ..."
      ],
      "text/html": "<div>\n<style scoped>\n    .dataframe tbody tr th:only-of-type {\n        vertical-align: middle;\n    }\n\n    .dataframe tbody tr th {\n        vertical-align: top;\n    }\n\n    .dataframe thead th {\n        text-align: right;\n    }\n</style>\n<table border=\"1\" class=\"dataframe\">\n  <thead>\n    <tr style=\"text-align: right;\">\n      <th></th>\n      <th>league</th>\n    </tr>\n  </thead>\n  <tbody>\n    <tr>\n      <th>standard</th>\n      <td>[{'isNBAFranchise': False, 'isAllStar': True, ...</td>\n    </tr>\n    <tr>\n      <th>africa</th>\n      <td>[{'isNBAFranchise': False, 'isAllStar': False,...</td>\n    </tr>\n    <tr>\n      <th>sacramento</th>\n      <td>[{'isNBAFranchise': True, 'isAllStar': False, ...</td>\n    </tr>\n    <tr>\n      <th>vegas</th>\n      <td>[{'isNBAFranchise': True, 'isAllStar': False, ...</td>\n    </tr>\n    <tr>\n      <th>utah</th>\n      <td>[{'isNBAFranchise': True, 'isAllStar': False, ...</td>\n    </tr>\n  </tbody>\n</table>\n</div>"
     },
     "metadata": {},
     "execution_count": 5
    }
   ],
   "source": [
    "df2 = df.loc[\"standard\":, \"league\":]\n",
    "df2"
   ]
  },
  {
   "cell_type": "code",
   "execution_count": 6,
   "metadata": {},
   "outputs": [
    {
     "output_type": "execute_result",
     "data": {
      "text/plain": [
       "                                                       league\n",
       "standard    [{'isNBAFranchise': False, 'isAllStar': True, ...\n",
       "africa      [{'isNBAFranchise': False, 'isAllStar': False,...\n",
       "sacramento  [{'isNBAFranchise': True, 'isAllStar': False, ...\n",
       "vegas       [{'isNBAFranchise': True, 'isAllStar': False, ...\n",
       "utah        [{'isNBAFranchise': True, 'isAllStar': False, ..."
      ],
      "text/html": "<div>\n<style scoped>\n    .dataframe tbody tr th:only-of-type {\n        vertical-align: middle;\n    }\n\n    .dataframe tbody tr th {\n        vertical-align: top;\n    }\n\n    .dataframe thead th {\n        text-align: right;\n    }\n</style>\n<table border=\"1\" class=\"dataframe\">\n  <thead>\n    <tr style=\"text-align: right;\">\n      <th></th>\n      <th>league</th>\n    </tr>\n  </thead>\n  <tbody>\n    <tr>\n      <th>standard</th>\n      <td>[{'isNBAFranchise': False, 'isAllStar': True, ...</td>\n    </tr>\n    <tr>\n      <th>africa</th>\n      <td>[{'isNBAFranchise': False, 'isAllStar': False,...</td>\n    </tr>\n    <tr>\n      <th>sacramento</th>\n      <td>[{'isNBAFranchise': True, 'isAllStar': False, ...</td>\n    </tr>\n    <tr>\n      <th>vegas</th>\n      <td>[{'isNBAFranchise': True, 'isAllStar': False, ...</td>\n    </tr>\n    <tr>\n      <th>utah</th>\n      <td>[{'isNBAFranchise': True, 'isAllStar': False, ...</td>\n    </tr>\n  </tbody>\n</table>\n</div>"
     },
     "metadata": {},
     "execution_count": 6
    }
   ],
   "source": [
    "# Pasar una serie a DataFrame\n",
    "df_serie = df.loc[\"standard\":, \"league\"]\n",
    "df3 = pd.DataFrame(df_serie)\n",
    "df3"
   ]
  },
  {
   "cell_type": "markdown",
   "metadata": {},
   "source": [
    "### Data Mining & Data Wrangling\n",
    "As you can see, there are jsons inside the original json. For that, we have to mining the json (data mining) to be able to use it correctly (data wrangling). \n",
    "\n",
    "How do you solve this issue? Research about this and try a solution. "
   ]
  },
  {
   "source": [
    "#### GOAL"
   ],
   "cell_type": "markdown",
   "metadata": {}
  },
  {
   "source": [
    "![](json_df_goal_nba.png)"
   ],
   "cell_type": "markdown",
   "metadata": {}
  },
  {
   "cell_type": "code",
   "execution_count": 7,
   "metadata": {},
   "outputs": [
    {
     "output_type": "execute_result",
     "data": {
      "text/plain": [
       "Index(['league'], dtype='object')"
      ]
     },
     "metadata": {},
     "execution_count": 7
    }
   ],
   "source": [
    "df3.columns"
   ]
  },
  {
   "cell_type": "code",
   "execution_count": 8,
   "metadata": {},
   "outputs": [
    {
     "output_type": "execute_result",
     "data": {
      "text/plain": [
       "standard      [{'isNBAFranchise': False, 'isAllStar': True, ...\n",
       "africa        [{'isNBAFranchise': False, 'isAllStar': False,...\n",
       "sacramento    [{'isNBAFranchise': True, 'isAllStar': False, ...\n",
       "vegas         [{'isNBAFranchise': True, 'isAllStar': False, ...\n",
       "utah          [{'isNBAFranchise': True, 'isAllStar': False, ...\n",
       "Name: league, dtype: object"
      ]
     },
     "metadata": {},
     "execution_count": 8
    }
   ],
   "source": [
    "df3['league']"
   ]
  },
  {
   "cell_type": "code",
   "execution_count": 9,
   "metadata": {},
   "outputs": [
    {
     "output_type": "execute_result",
     "data": {
      "text/plain": [
       "[{'isNBAFranchise': True,\n",
       "  'isAllStar': False,\n",
       "  'city': 'Atlanta',\n",
       "  'altCityName': 'Atlanta',\n",
       "  'fullName': 'Atlanta Hawks',\n",
       "  'tricode': 'ATL',\n",
       "  'teamId': '1610612737',\n",
       "  'nickname': 'Hawks',\n",
       "  'urlName': 'hawks',\n",
       "  'confName': 'Utah',\n",
       "  'divName': ''},\n",
       " {'isNBAFranchise': True,\n",
       "  'isAllStar': False,\n",
       "  'city': 'Memphis',\n",
       "  'altCityName': 'Memphis',\n",
       "  'fullName': 'Memphis Grizzlies',\n",
       "  'tricode': 'MEM',\n",
       "  'teamId': '1610612763',\n",
       "  'nickname': 'Grizzlies',\n",
       "  'urlName': 'grizzlies',\n",
       "  'confName': 'Utah',\n",
       "  'divName': ''},\n",
       " {'isNBAFranchise': True,\n",
       "  'isAllStar': False,\n",
       "  'city': 'San Antonio',\n",
       "  'altCityName': 'San Antonio',\n",
       "  'fullName': 'San Antonio Spurs',\n",
       "  'tricode': 'SAS',\n",
       "  'teamId': '1610612759',\n",
       "  'nickname': 'Spurs',\n",
       "  'urlName': 'spurs',\n",
       "  'confName': 'Utah',\n",
       "  'divName': ''},\n",
       " {'isNBAFranchise': True,\n",
       "  'isAllStar': False,\n",
       "  'city': 'Utah',\n",
       "  'altCityName': 'Utah',\n",
       "  'fullName': 'Utah Jazz',\n",
       "  'tricode': 'UTA',\n",
       "  'teamId': '1610612762',\n",
       "  'nickname': 'Jazz',\n",
       "  'urlName': 'jazz',\n",
       "  'confName': 'Utah',\n",
       "  'divName': ''}]"
      ]
     },
     "metadata": {},
     "execution_count": 9
    }
   ],
   "source": [
    "df3['league'][\"utah\"]"
   ]
  },
  {
   "cell_type": "code",
   "execution_count": 11,
   "metadata": {},
   "outputs": [
    {
     "output_type": "execute_result",
     "data": {
      "text/plain": [
       "    isNBAFranchise  isAllStar            city         altCityName  \\\n",
       "0            False       True             USA                 USA   \n",
       "1            False       True           World               World   \n",
       "2            False       True            Team                Team   \n",
       "3            False       True            Team                Team   \n",
       "4            False       True    Team Giannis        Team Giannis   \n",
       "5            False       True     Team LeBron         Team LeBron   \n",
       "6            False      False            Team                Team   \n",
       "7            False      False            Team                Team   \n",
       "8            False      False        Adelaide            Adelaide   \n",
       "9             True      False         Atlanta             Atlanta   \n",
       "10           False      False         Beijing             Beijing   \n",
       "11            True      False          Boston              Boston   \n",
       "12            True      False        Brooklyn            Brooklyn   \n",
       "13            True      False       Charlotte           Charlotte   \n",
       "14            True      False         Chicago             Chicago   \n",
       "15            True      False       Cleveland           Cleveland   \n",
       "16            True      False          Dallas              Dallas   \n",
       "17            True      False          Denver              Denver   \n",
       "18            True      False         Detroit             Detroit   \n",
       "19            True      False    Golden State        Golden State   \n",
       "20           False      False       Guangzhou           Guangzhou   \n",
       "21           False      False           Haifa               Haifa   \n",
       "22            True      False         Houston             Houston   \n",
       "23            True      False         Indiana             Indiana   \n",
       "24            True      False              LA         LA Clippers   \n",
       "25            True      False     Los Angeles  Los Angeles Lakers   \n",
       "26           False      False       Melbourne           Melbourne   \n",
       "27            True      False         Memphis             Memphis   \n",
       "28            True      False           Miami               Miami   \n",
       "29            True      False       Milwaukee           Milwaukee   \n",
       "30            True      False       Minnesota           Minnesota   \n",
       "31            True      False     New Orleans         New Orleans   \n",
       "32            True      False        New York            New York   \n",
       "33           False      False     New Zealand         New Zealand   \n",
       "34            True      False   Oklahoma City       Oklahoma City   \n",
       "35            True      False         Orlando             Orlando   \n",
       "36           False      False           Perth               Perth   \n",
       "37            True      False    Philadelphia        Philadelphia   \n",
       "38            True      False         Phoenix             Phoenix   \n",
       "39            True      False        Portland            Portland   \n",
       "40           False      False  Rio de Janeiro      Rio de Janeiro   \n",
       "41            True      False      Sacramento          Sacramento   \n",
       "42            True      False     San Antonio         San Antonio   \n",
       "43           False      False        Shanghai            Shanghai   \n",
       "44           False      False          Sydney              Sydney   \n",
       "45            True      False         Toronto             Toronto   \n",
       "46            True      False            Utah                Utah   \n",
       "47            True      False      Washington          Washington   \n",
       "\n",
       "                   fullName tricode      teamId         nickname  \\\n",
       "0                       USA     USA  1610616843              USA   \n",
       "1                     World     WLD  1610616844            World   \n",
       "2                 All-Stars     EST  1699999999        All-Stars   \n",
       "3                 All-Stars     WST  1699999998        All-Stars   \n",
       "4              Team Giannis     GNS  1610616833     Team Giannis   \n",
       "5               Team LeBron     LBN  1610616834      Team LeBron   \n",
       "6               Team Africa     AFR       12326           Africa   \n",
       "7                Team World     WLD       12327            World   \n",
       "8            Adelaide 36ers     ADL       15019            36ers   \n",
       "9             Atlanta Hawks     ATL  1610612737            Hawks   \n",
       "10            Beijing Ducks     BJD       15021            Ducks   \n",
       "11           Boston Celtics     BOS  1610612738          Celtics   \n",
       "12            Brooklyn Nets     BKN  1610612751             Nets   \n",
       "13        Charlotte Hornets     CHA  1610612766          Hornets   \n",
       "14            Chicago Bulls     CHI  1610612741            Bulls   \n",
       "15      Cleveland Cavaliers     CLE  1610612739        Cavaliers   \n",
       "16         Dallas Mavericks     DAL  1610612742        Mavericks   \n",
       "17           Denver Nuggets     DEN  1610612743          Nuggets   \n",
       "18          Detroit Pistons     DET  1610612765          Pistons   \n",
       "19    Golden State Warriors     GSW  1610612744         Warriors   \n",
       "20     Guangzhou Long-Lions     GUA       15018       Long-Lions   \n",
       "21            Maccabi Haifa     MAC          93    Maccabi Haifa   \n",
       "22          Houston Rockets     HOU  1610612745          Rockets   \n",
       "23           Indiana Pacers     IND  1610612754           Pacers   \n",
       "24              LA Clippers     LAC  1610612746         Clippers   \n",
       "25       Los Angeles Lakers     LAL  1610612747           Lakers   \n",
       "26         Melbourne United     MEL       15016           United   \n",
       "27        Memphis Grizzlies     MEM  1610612763        Grizzlies   \n",
       "28               Miami Heat     MIA  1610612748             Heat   \n",
       "29          Milwaukee Bucks     MIL  1610612749            Bucks   \n",
       "30   Minnesota Timberwolves     MIN  1610612750     Timberwolves   \n",
       "31     New Orleans Pelicans     NOP  1610612740         Pelicans   \n",
       "32          New York Knicks     NYK  1610612752           Knicks   \n",
       "33     New Zealand Breakers     NZB       15020         Breakers   \n",
       "34    Oklahoma City Thunder     OKC  1610612760          Thunder   \n",
       "35            Orlando Magic     ORL  1610612753            Magic   \n",
       "36           Perth Wildcats     PER         104         Wildcats   \n",
       "37       Philadelphia 76ers     PHI  1610612755            76ers   \n",
       "38             Phoenix Suns     PHX  1610612756             Suns   \n",
       "39   Portland Trail Blazers     POR  1610612757    Trail Blazers   \n",
       "40  Rio de Janeiro Flamengo     FLA       12325         Flamengo   \n",
       "41         Sacramento Kings     SAC  1610612758            Kings   \n",
       "42        San Antonio Spurs     SAS  1610612759            Spurs   \n",
       "43          Shanghai Sharks     SDS       12329  Shanghai Sharks   \n",
       "44             Sydney Kings     SYD       15015            Kings   \n",
       "45          Toronto Raptors     TOR  1610612761          Raptors   \n",
       "46                Utah Jazz     UTA  1610612762             Jazz   \n",
       "47       Washington Wizards     WAS  1610612764          Wizards   \n",
       "\n",
       "            urlName confName    divName  \n",
       "0               usa     East       East  \n",
       "1             world     East       East  \n",
       "2         assn_away     East       East  \n",
       "3         assn_home     West       West  \n",
       "4      team_giannis     East       East  \n",
       "5       team_lebron     West       West  \n",
       "6            africa                      \n",
       "7             world                      \n",
       "8             36ers     Intl             \n",
       "9             hawks     East  Southeast  \n",
       "10            ducks     Intl             \n",
       "11          celtics     East   Atlantic  \n",
       "12             nets     East   Atlantic  \n",
       "13          hornets     East  Southeast  \n",
       "14            bulls     East    Central  \n",
       "15        cavaliers     East    Central  \n",
       "16        mavericks     West  Southwest  \n",
       "17          nuggets     West  Northwest  \n",
       "18          pistons     East    Central  \n",
       "19         warriors     West    Pacific  \n",
       "20       long-lions     Intl             \n",
       "21    maccabi_haifa     Intl             \n",
       "22          rockets     West  Southwest  \n",
       "23           pacers     East    Central  \n",
       "24         clippers     West    Pacific  \n",
       "25           lakers     West    Pacific  \n",
       "26           united     Intl             \n",
       "27        grizzlies     West  Southwest  \n",
       "28             heat     East  Southeast  \n",
       "29            bucks     East    Central  \n",
       "30     timberwolves     West  Northwest  \n",
       "31         pelicans     West  Southwest  \n",
       "32           knicks     East   Atlantic  \n",
       "33         breakers     Intl             \n",
       "34          thunder     West  Northwest  \n",
       "35            magic     East  Southeast  \n",
       "36         wildcats     Intl             \n",
       "37           sixers     East   Atlantic  \n",
       "38             suns     West    Pacific  \n",
       "39          blazers     West  Northwest  \n",
       "40         flamengo     Intl             \n",
       "41            kings     West    Pacific  \n",
       "42            spurs     West  Southwest  \n",
       "43  shanghai_sharks     Intl             \n",
       "44            kings     Intl             \n",
       "45          raptors     East   Atlantic  \n",
       "46             jazz     West  Northwest  \n",
       "47          wizards     East  Southeast  "
      ],
      "text/html": "<div>\n<style scoped>\n    .dataframe tbody tr th:only-of-type {\n        vertical-align: middle;\n    }\n\n    .dataframe tbody tr th {\n        vertical-align: top;\n    }\n\n    .dataframe thead th {\n        text-align: right;\n    }\n</style>\n<table border=\"1\" class=\"dataframe\">\n  <thead>\n    <tr style=\"text-align: right;\">\n      <th></th>\n      <th>isNBAFranchise</th>\n      <th>isAllStar</th>\n      <th>city</th>\n      <th>altCityName</th>\n      <th>fullName</th>\n      <th>tricode</th>\n      <th>teamId</th>\n      <th>nickname</th>\n      <th>urlName</th>\n      <th>confName</th>\n      <th>divName</th>\n    </tr>\n  </thead>\n  <tbody>\n    <tr>\n      <th>0</th>\n      <td>False</td>\n      <td>True</td>\n      <td>USA</td>\n      <td>USA</td>\n      <td>USA</td>\n      <td>USA</td>\n      <td>1610616843</td>\n      <td>USA</td>\n      <td>usa</td>\n      <td>East</td>\n      <td>East</td>\n    </tr>\n    <tr>\n      <th>1</th>\n      <td>False</td>\n      <td>True</td>\n      <td>World</td>\n      <td>World</td>\n      <td>World</td>\n      <td>WLD</td>\n      <td>1610616844</td>\n      <td>World</td>\n      <td>world</td>\n      <td>East</td>\n      <td>East</td>\n    </tr>\n    <tr>\n      <th>2</th>\n      <td>False</td>\n      <td>True</td>\n      <td>Team</td>\n      <td>Team</td>\n      <td>All-Stars</td>\n      <td>EST</td>\n      <td>1699999999</td>\n      <td>All-Stars</td>\n      <td>assn_away</td>\n      <td>East</td>\n      <td>East</td>\n    </tr>\n    <tr>\n      <th>3</th>\n      <td>False</td>\n      <td>True</td>\n      <td>Team</td>\n      <td>Team</td>\n      <td>All-Stars</td>\n      <td>WST</td>\n      <td>1699999998</td>\n      <td>All-Stars</td>\n      <td>assn_home</td>\n      <td>West</td>\n      <td>West</td>\n    </tr>\n    <tr>\n      <th>4</th>\n      <td>False</td>\n      <td>True</td>\n      <td>Team Giannis</td>\n      <td>Team Giannis</td>\n      <td>Team Giannis</td>\n      <td>GNS</td>\n      <td>1610616833</td>\n      <td>Team Giannis</td>\n      <td>team_giannis</td>\n      <td>East</td>\n      <td>East</td>\n    </tr>\n    <tr>\n      <th>5</th>\n      <td>False</td>\n      <td>True</td>\n      <td>Team LeBron</td>\n      <td>Team LeBron</td>\n      <td>Team LeBron</td>\n      <td>LBN</td>\n      <td>1610616834</td>\n      <td>Team LeBron</td>\n      <td>team_lebron</td>\n      <td>West</td>\n      <td>West</td>\n    </tr>\n    <tr>\n      <th>6</th>\n      <td>False</td>\n      <td>False</td>\n      <td>Team</td>\n      <td>Team</td>\n      <td>Team Africa</td>\n      <td>AFR</td>\n      <td>12326</td>\n      <td>Africa</td>\n      <td>africa</td>\n      <td></td>\n      <td></td>\n    </tr>\n    <tr>\n      <th>7</th>\n      <td>False</td>\n      <td>False</td>\n      <td>Team</td>\n      <td>Team</td>\n      <td>Team World</td>\n      <td>WLD</td>\n      <td>12327</td>\n      <td>World</td>\n      <td>world</td>\n      <td></td>\n      <td></td>\n    </tr>\n    <tr>\n      <th>8</th>\n      <td>False</td>\n      <td>False</td>\n      <td>Adelaide</td>\n      <td>Adelaide</td>\n      <td>Adelaide 36ers</td>\n      <td>ADL</td>\n      <td>15019</td>\n      <td>36ers</td>\n      <td>36ers</td>\n      <td>Intl</td>\n      <td></td>\n    </tr>\n    <tr>\n      <th>9</th>\n      <td>True</td>\n      <td>False</td>\n      <td>Atlanta</td>\n      <td>Atlanta</td>\n      <td>Atlanta Hawks</td>\n      <td>ATL</td>\n      <td>1610612737</td>\n      <td>Hawks</td>\n      <td>hawks</td>\n      <td>East</td>\n      <td>Southeast</td>\n    </tr>\n    <tr>\n      <th>10</th>\n      <td>False</td>\n      <td>False</td>\n      <td>Beijing</td>\n      <td>Beijing</td>\n      <td>Beijing Ducks</td>\n      <td>BJD</td>\n      <td>15021</td>\n      <td>Ducks</td>\n      <td>ducks</td>\n      <td>Intl</td>\n      <td></td>\n    </tr>\n    <tr>\n      <th>11</th>\n      <td>True</td>\n      <td>False</td>\n      <td>Boston</td>\n      <td>Boston</td>\n      <td>Boston Celtics</td>\n      <td>BOS</td>\n      <td>1610612738</td>\n      <td>Celtics</td>\n      <td>celtics</td>\n      <td>East</td>\n      <td>Atlantic</td>\n    </tr>\n    <tr>\n      <th>12</th>\n      <td>True</td>\n      <td>False</td>\n      <td>Brooklyn</td>\n      <td>Brooklyn</td>\n      <td>Brooklyn Nets</td>\n      <td>BKN</td>\n      <td>1610612751</td>\n      <td>Nets</td>\n      <td>nets</td>\n      <td>East</td>\n      <td>Atlantic</td>\n    </tr>\n    <tr>\n      <th>13</th>\n      <td>True</td>\n      <td>False</td>\n      <td>Charlotte</td>\n      <td>Charlotte</td>\n      <td>Charlotte Hornets</td>\n      <td>CHA</td>\n      <td>1610612766</td>\n      <td>Hornets</td>\n      <td>hornets</td>\n      <td>East</td>\n      <td>Southeast</td>\n    </tr>\n    <tr>\n      <th>14</th>\n      <td>True</td>\n      <td>False</td>\n      <td>Chicago</td>\n      <td>Chicago</td>\n      <td>Chicago Bulls</td>\n      <td>CHI</td>\n      <td>1610612741</td>\n      <td>Bulls</td>\n      <td>bulls</td>\n      <td>East</td>\n      <td>Central</td>\n    </tr>\n    <tr>\n      <th>15</th>\n      <td>True</td>\n      <td>False</td>\n      <td>Cleveland</td>\n      <td>Cleveland</td>\n      <td>Cleveland Cavaliers</td>\n      <td>CLE</td>\n      <td>1610612739</td>\n      <td>Cavaliers</td>\n      <td>cavaliers</td>\n      <td>East</td>\n      <td>Central</td>\n    </tr>\n    <tr>\n      <th>16</th>\n      <td>True</td>\n      <td>False</td>\n      <td>Dallas</td>\n      <td>Dallas</td>\n      <td>Dallas Mavericks</td>\n      <td>DAL</td>\n      <td>1610612742</td>\n      <td>Mavericks</td>\n      <td>mavericks</td>\n      <td>West</td>\n      <td>Southwest</td>\n    </tr>\n    <tr>\n      <th>17</th>\n      <td>True</td>\n      <td>False</td>\n      <td>Denver</td>\n      <td>Denver</td>\n      <td>Denver Nuggets</td>\n      <td>DEN</td>\n      <td>1610612743</td>\n      <td>Nuggets</td>\n      <td>nuggets</td>\n      <td>West</td>\n      <td>Northwest</td>\n    </tr>\n    <tr>\n      <th>18</th>\n      <td>True</td>\n      <td>False</td>\n      <td>Detroit</td>\n      <td>Detroit</td>\n      <td>Detroit Pistons</td>\n      <td>DET</td>\n      <td>1610612765</td>\n      <td>Pistons</td>\n      <td>pistons</td>\n      <td>East</td>\n      <td>Central</td>\n    </tr>\n    <tr>\n      <th>19</th>\n      <td>True</td>\n      <td>False</td>\n      <td>Golden State</td>\n      <td>Golden State</td>\n      <td>Golden State Warriors</td>\n      <td>GSW</td>\n      <td>1610612744</td>\n      <td>Warriors</td>\n      <td>warriors</td>\n      <td>West</td>\n      <td>Pacific</td>\n    </tr>\n    <tr>\n      <th>20</th>\n      <td>False</td>\n      <td>False</td>\n      <td>Guangzhou</td>\n      <td>Guangzhou</td>\n      <td>Guangzhou Long-Lions</td>\n      <td>GUA</td>\n      <td>15018</td>\n      <td>Long-Lions</td>\n      <td>long-lions</td>\n      <td>Intl</td>\n      <td></td>\n    </tr>\n    <tr>\n      <th>21</th>\n      <td>False</td>\n      <td>False</td>\n      <td>Haifa</td>\n      <td>Haifa</td>\n      <td>Maccabi Haifa</td>\n      <td>MAC</td>\n      <td>93</td>\n      <td>Maccabi Haifa</td>\n      <td>maccabi_haifa</td>\n      <td>Intl</td>\n      <td></td>\n    </tr>\n    <tr>\n      <th>22</th>\n      <td>True</td>\n      <td>False</td>\n      <td>Houston</td>\n      <td>Houston</td>\n      <td>Houston Rockets</td>\n      <td>HOU</td>\n      <td>1610612745</td>\n      <td>Rockets</td>\n      <td>rockets</td>\n      <td>West</td>\n      <td>Southwest</td>\n    </tr>\n    <tr>\n      <th>23</th>\n      <td>True</td>\n      <td>False</td>\n      <td>Indiana</td>\n      <td>Indiana</td>\n      <td>Indiana Pacers</td>\n      <td>IND</td>\n      <td>1610612754</td>\n      <td>Pacers</td>\n      <td>pacers</td>\n      <td>East</td>\n      <td>Central</td>\n    </tr>\n    <tr>\n      <th>24</th>\n      <td>True</td>\n      <td>False</td>\n      <td>LA</td>\n      <td>LA Clippers</td>\n      <td>LA Clippers</td>\n      <td>LAC</td>\n      <td>1610612746</td>\n      <td>Clippers</td>\n      <td>clippers</td>\n      <td>West</td>\n      <td>Pacific</td>\n    </tr>\n    <tr>\n      <th>25</th>\n      <td>True</td>\n      <td>False</td>\n      <td>Los Angeles</td>\n      <td>Los Angeles Lakers</td>\n      <td>Los Angeles Lakers</td>\n      <td>LAL</td>\n      <td>1610612747</td>\n      <td>Lakers</td>\n      <td>lakers</td>\n      <td>West</td>\n      <td>Pacific</td>\n    </tr>\n    <tr>\n      <th>26</th>\n      <td>False</td>\n      <td>False</td>\n      <td>Melbourne</td>\n      <td>Melbourne</td>\n      <td>Melbourne United</td>\n      <td>MEL</td>\n      <td>15016</td>\n      <td>United</td>\n      <td>united</td>\n      <td>Intl</td>\n      <td></td>\n    </tr>\n    <tr>\n      <th>27</th>\n      <td>True</td>\n      <td>False</td>\n      <td>Memphis</td>\n      <td>Memphis</td>\n      <td>Memphis Grizzlies</td>\n      <td>MEM</td>\n      <td>1610612763</td>\n      <td>Grizzlies</td>\n      <td>grizzlies</td>\n      <td>West</td>\n      <td>Southwest</td>\n    </tr>\n    <tr>\n      <th>28</th>\n      <td>True</td>\n      <td>False</td>\n      <td>Miami</td>\n      <td>Miami</td>\n      <td>Miami Heat</td>\n      <td>MIA</td>\n      <td>1610612748</td>\n      <td>Heat</td>\n      <td>heat</td>\n      <td>East</td>\n      <td>Southeast</td>\n    </tr>\n    <tr>\n      <th>29</th>\n      <td>True</td>\n      <td>False</td>\n      <td>Milwaukee</td>\n      <td>Milwaukee</td>\n      <td>Milwaukee Bucks</td>\n      <td>MIL</td>\n      <td>1610612749</td>\n      <td>Bucks</td>\n      <td>bucks</td>\n      <td>East</td>\n      <td>Central</td>\n    </tr>\n    <tr>\n      <th>30</th>\n      <td>True</td>\n      <td>False</td>\n      <td>Minnesota</td>\n      <td>Minnesota</td>\n      <td>Minnesota Timberwolves</td>\n      <td>MIN</td>\n      <td>1610612750</td>\n      <td>Timberwolves</td>\n      <td>timberwolves</td>\n      <td>West</td>\n      <td>Northwest</td>\n    </tr>\n    <tr>\n      <th>31</th>\n      <td>True</td>\n      <td>False</td>\n      <td>New Orleans</td>\n      <td>New Orleans</td>\n      <td>New Orleans Pelicans</td>\n      <td>NOP</td>\n      <td>1610612740</td>\n      <td>Pelicans</td>\n      <td>pelicans</td>\n      <td>West</td>\n      <td>Southwest</td>\n    </tr>\n    <tr>\n      <th>32</th>\n      <td>True</td>\n      <td>False</td>\n      <td>New York</td>\n      <td>New York</td>\n      <td>New York Knicks</td>\n      <td>NYK</td>\n      <td>1610612752</td>\n      <td>Knicks</td>\n      <td>knicks</td>\n      <td>East</td>\n      <td>Atlantic</td>\n    </tr>\n    <tr>\n      <th>33</th>\n      <td>False</td>\n      <td>False</td>\n      <td>New Zealand</td>\n      <td>New Zealand</td>\n      <td>New Zealand Breakers</td>\n      <td>NZB</td>\n      <td>15020</td>\n      <td>Breakers</td>\n      <td>breakers</td>\n      <td>Intl</td>\n      <td></td>\n    </tr>\n    <tr>\n      <th>34</th>\n      <td>True</td>\n      <td>False</td>\n      <td>Oklahoma City</td>\n      <td>Oklahoma City</td>\n      <td>Oklahoma City Thunder</td>\n      <td>OKC</td>\n      <td>1610612760</td>\n      <td>Thunder</td>\n      <td>thunder</td>\n      <td>West</td>\n      <td>Northwest</td>\n    </tr>\n    <tr>\n      <th>35</th>\n      <td>True</td>\n      <td>False</td>\n      <td>Orlando</td>\n      <td>Orlando</td>\n      <td>Orlando Magic</td>\n      <td>ORL</td>\n      <td>1610612753</td>\n      <td>Magic</td>\n      <td>magic</td>\n      <td>East</td>\n      <td>Southeast</td>\n    </tr>\n    <tr>\n      <th>36</th>\n      <td>False</td>\n      <td>False</td>\n      <td>Perth</td>\n      <td>Perth</td>\n      <td>Perth Wildcats</td>\n      <td>PER</td>\n      <td>104</td>\n      <td>Wildcats</td>\n      <td>wildcats</td>\n      <td>Intl</td>\n      <td></td>\n    </tr>\n    <tr>\n      <th>37</th>\n      <td>True</td>\n      <td>False</td>\n      <td>Philadelphia</td>\n      <td>Philadelphia</td>\n      <td>Philadelphia 76ers</td>\n      <td>PHI</td>\n      <td>1610612755</td>\n      <td>76ers</td>\n      <td>sixers</td>\n      <td>East</td>\n      <td>Atlantic</td>\n    </tr>\n    <tr>\n      <th>38</th>\n      <td>True</td>\n      <td>False</td>\n      <td>Phoenix</td>\n      <td>Phoenix</td>\n      <td>Phoenix Suns</td>\n      <td>PHX</td>\n      <td>1610612756</td>\n      <td>Suns</td>\n      <td>suns</td>\n      <td>West</td>\n      <td>Pacific</td>\n    </tr>\n    <tr>\n      <th>39</th>\n      <td>True</td>\n      <td>False</td>\n      <td>Portland</td>\n      <td>Portland</td>\n      <td>Portland Trail Blazers</td>\n      <td>POR</td>\n      <td>1610612757</td>\n      <td>Trail Blazers</td>\n      <td>blazers</td>\n      <td>West</td>\n      <td>Northwest</td>\n    </tr>\n    <tr>\n      <th>40</th>\n      <td>False</td>\n      <td>False</td>\n      <td>Rio de Janeiro</td>\n      <td>Rio de Janeiro</td>\n      <td>Rio de Janeiro Flamengo</td>\n      <td>FLA</td>\n      <td>12325</td>\n      <td>Flamengo</td>\n      <td>flamengo</td>\n      <td>Intl</td>\n      <td></td>\n    </tr>\n    <tr>\n      <th>41</th>\n      <td>True</td>\n      <td>False</td>\n      <td>Sacramento</td>\n      <td>Sacramento</td>\n      <td>Sacramento Kings</td>\n      <td>SAC</td>\n      <td>1610612758</td>\n      <td>Kings</td>\n      <td>kings</td>\n      <td>West</td>\n      <td>Pacific</td>\n    </tr>\n    <tr>\n      <th>42</th>\n      <td>True</td>\n      <td>False</td>\n      <td>San Antonio</td>\n      <td>San Antonio</td>\n      <td>San Antonio Spurs</td>\n      <td>SAS</td>\n      <td>1610612759</td>\n      <td>Spurs</td>\n      <td>spurs</td>\n      <td>West</td>\n      <td>Southwest</td>\n    </tr>\n    <tr>\n      <th>43</th>\n      <td>False</td>\n      <td>False</td>\n      <td>Shanghai</td>\n      <td>Shanghai</td>\n      <td>Shanghai Sharks</td>\n      <td>SDS</td>\n      <td>12329</td>\n      <td>Shanghai Sharks</td>\n      <td>shanghai_sharks</td>\n      <td>Intl</td>\n      <td></td>\n    </tr>\n    <tr>\n      <th>44</th>\n      <td>False</td>\n      <td>False</td>\n      <td>Sydney</td>\n      <td>Sydney</td>\n      <td>Sydney Kings</td>\n      <td>SYD</td>\n      <td>15015</td>\n      <td>Kings</td>\n      <td>kings</td>\n      <td>Intl</td>\n      <td></td>\n    </tr>\n    <tr>\n      <th>45</th>\n      <td>True</td>\n      <td>False</td>\n      <td>Toronto</td>\n      <td>Toronto</td>\n      <td>Toronto Raptors</td>\n      <td>TOR</td>\n      <td>1610612761</td>\n      <td>Raptors</td>\n      <td>raptors</td>\n      <td>East</td>\n      <td>Atlantic</td>\n    </tr>\n    <tr>\n      <th>46</th>\n      <td>True</td>\n      <td>False</td>\n      <td>Utah</td>\n      <td>Utah</td>\n      <td>Utah Jazz</td>\n      <td>UTA</td>\n      <td>1610612762</td>\n      <td>Jazz</td>\n      <td>jazz</td>\n      <td>West</td>\n      <td>Northwest</td>\n    </tr>\n    <tr>\n      <th>47</th>\n      <td>True</td>\n      <td>False</td>\n      <td>Washington</td>\n      <td>Washington</td>\n      <td>Washington Wizards</td>\n      <td>WAS</td>\n      <td>1610612764</td>\n      <td>Wizards</td>\n      <td>wizards</td>\n      <td>East</td>\n      <td>Southeast</td>\n    </tr>\n  </tbody>\n</table>\n</div>"
     },
     "metadata": {},
     "execution_count": 11
    }
   ],
   "source": [
    "df4 = df3['league'][\"standard\"]\n",
    "df4 = pd.DataFrame(df4)\n",
    "df4"
   ]
  },
  {
   "cell_type": "code",
   "execution_count": null,
   "metadata": {},
   "outputs": [],
   "source": []
  }
 ],
 "metadata": {
  "language_info": {
   "name": "python",
   "codemirror_mode": {
    "name": "ipython",
    "version": 3
   },
   "version": "3.7.4"
  },
  "orig_nbformat": 2,
  "file_extension": ".py",
  "mimetype": "text/x-python",
  "name": "python",
  "npconvert_exporter": "python",
  "pygments_lexer": "ipython3",
  "version": 3,
  "kernelspec": {
   "name": "python374jvsc74a57bd016eb897c26cdfcf18817bc60a8e0737e3939ff1e8491198c807979170104e811",
   "display_name": "Python 3.7.4 64-bit"
  },
  "metadata": {
   "interpreter": {
    "hash": "16eb897c26cdfcf18817bc60a8e0737e3939ff1e8491198c807979170104e811"
   }
  }
 },
 "nbformat": 4,
 "nbformat_minor": 2
}