{
 "cells": [
  {
   "cell_type": "markdown",
   "metadata": {},
   "source": [
    "# 04 - Grouping"
   ]
  },
  {
   "cell_type": "markdown",
   "metadata": {},
   "source": [
    "### Step 1. Import the necessary libraries"
   ]
  },
  {
   "cell_type": "code",
   "execution_count": 1,
   "metadata": {},
   "outputs": [],
   "source": [
    "import pandas as pd\n",
    "import numpy as np"
   ]
  },
  {
   "cell_type": "markdown",
   "metadata": {},
   "source": [
    "### Step 2. Import the dataset from this [address](https://raw.githubusercontent.com/justmarkham/DAT8/master/data/u.user). "
   ]
  },
  {
   "cell_type": "markdown",
   "metadata": {},
   "source": [
    "### Step 3. Assign it to a variable called users."
   ]
  },
  {
   "cell_type": "code",
   "execution_count": 2,
   "metadata": {},
   "outputs": [
    {
     "output_type": "execute_result",
     "data": {
      "text/plain": [
       "         age gender     occupation zip_code\n",
       "user_id                                    \n",
       "1         24      M     technician    85711\n",
       "2         53      F          other    94043\n",
       "3         23      M         writer    32067\n",
       "4         24      M     technician    43537\n",
       "5         33      F          other    15213\n",
       "...      ...    ...            ...      ...\n",
       "939       26      F        student    33319\n",
       "940       32      M  administrator    02215\n",
       "941       20      M        student    97229\n",
       "942       48      F      librarian    78209\n",
       "943       22      M        student    77841\n",
       "\n",
       "[943 rows x 4 columns]"
      ],
      "text/html": "<div>\n<style scoped>\n    .dataframe tbody tr th:only-of-type {\n        vertical-align: middle;\n    }\n\n    .dataframe tbody tr th {\n        vertical-align: top;\n    }\n\n    .dataframe thead th {\n        text-align: right;\n    }\n</style>\n<table border=\"1\" class=\"dataframe\">\n  <thead>\n    <tr style=\"text-align: right;\">\n      <th></th>\n      <th>age</th>\n      <th>gender</th>\n      <th>occupation</th>\n      <th>zip_code</th>\n    </tr>\n    <tr>\n      <th>user_id</th>\n      <th></th>\n      <th></th>\n      <th></th>\n      <th></th>\n    </tr>\n  </thead>\n  <tbody>\n    <tr>\n      <th>1</th>\n      <td>24</td>\n      <td>M</td>\n      <td>technician</td>\n      <td>85711</td>\n    </tr>\n    <tr>\n      <th>2</th>\n      <td>53</td>\n      <td>F</td>\n      <td>other</td>\n      <td>94043</td>\n    </tr>\n    <tr>\n      <th>3</th>\n      <td>23</td>\n      <td>M</td>\n      <td>writer</td>\n      <td>32067</td>\n    </tr>\n    <tr>\n      <th>4</th>\n      <td>24</td>\n      <td>M</td>\n      <td>technician</td>\n      <td>43537</td>\n    </tr>\n    <tr>\n      <th>5</th>\n      <td>33</td>\n      <td>F</td>\n      <td>other</td>\n      <td>15213</td>\n    </tr>\n    <tr>\n      <th>...</th>\n      <td>...</td>\n      <td>...</td>\n      <td>...</td>\n      <td>...</td>\n    </tr>\n    <tr>\n      <th>939</th>\n      <td>26</td>\n      <td>F</td>\n      <td>student</td>\n      <td>33319</td>\n    </tr>\n    <tr>\n      <th>940</th>\n      <td>32</td>\n      <td>M</td>\n      <td>administrator</td>\n      <td>02215</td>\n    </tr>\n    <tr>\n      <th>941</th>\n      <td>20</td>\n      <td>M</td>\n      <td>student</td>\n      <td>97229</td>\n    </tr>\n    <tr>\n      <th>942</th>\n      <td>48</td>\n      <td>F</td>\n      <td>librarian</td>\n      <td>78209</td>\n    </tr>\n    <tr>\n      <th>943</th>\n      <td>22</td>\n      <td>M</td>\n      <td>student</td>\n      <td>77841</td>\n    </tr>\n  </tbody>\n</table>\n<p>943 rows × 4 columns</p>\n</div>"
     },
     "metadata": {},
     "execution_count": 2
    }
   ],
   "source": [
    "users = pd.read_table('https://raw.githubusercontent.com/justmarkham/DAT8/master/data/u.user', \n",
    "                      sep='|', index_col='user_id')\n",
    "users"
   ]
  },
  {
   "cell_type": "markdown",
   "metadata": {},
   "source": [
    "### Step 4. Discover what is the mean age per occupation"
   ]
  },
  {
   "cell_type": "code",
   "execution_count": 4,
   "metadata": {},
   "outputs": [
    {
     "output_type": "execute_result",
     "data": {
      "text/plain": [
       "                     age\n",
       "occupation              \n",
       "administrator  38.746835\n",
       "artist         31.392857\n",
       "doctor         43.571429\n",
       "educator       42.010526\n",
       "engineer       36.388060\n",
       "entertainment  29.222222\n",
       "executive      38.718750\n",
       "healthcare     41.562500\n",
       "homemaker      32.571429\n",
       "lawyer         36.750000\n",
       "librarian      40.000000\n",
       "marketing      37.615385\n",
       "none           26.555556\n",
       "other          34.523810\n",
       "programmer     33.121212\n",
       "retired        63.071429\n",
       "salesman       35.666667\n",
       "scientist      35.548387\n",
       "student        22.081633\n",
       "technician     33.148148\n",
       "writer         36.311111"
      ],
      "text/html": "<div>\n<style scoped>\n    .dataframe tbody tr th:only-of-type {\n        vertical-align: middle;\n    }\n\n    .dataframe tbody tr th {\n        vertical-align: top;\n    }\n\n    .dataframe thead th {\n        text-align: right;\n    }\n</style>\n<table border=\"1\" class=\"dataframe\">\n  <thead>\n    <tr style=\"text-align: right;\">\n      <th></th>\n      <th>age</th>\n    </tr>\n    <tr>\n      <th>occupation</th>\n      <th></th>\n    </tr>\n  </thead>\n  <tbody>\n    <tr>\n      <th>administrator</th>\n      <td>38.746835</td>\n    </tr>\n    <tr>\n      <th>artist</th>\n      <td>31.392857</td>\n    </tr>\n    <tr>\n      <th>doctor</th>\n      <td>43.571429</td>\n    </tr>\n    <tr>\n      <th>educator</th>\n      <td>42.010526</td>\n    </tr>\n    <tr>\n      <th>engineer</th>\n      <td>36.388060</td>\n    </tr>\n    <tr>\n      <th>entertainment</th>\n      <td>29.222222</td>\n    </tr>\n    <tr>\n      <th>executive</th>\n      <td>38.718750</td>\n    </tr>\n    <tr>\n      <th>healthcare</th>\n      <td>41.562500</td>\n    </tr>\n    <tr>\n      <th>homemaker</th>\n      <td>32.571429</td>\n    </tr>\n    <tr>\n      <th>lawyer</th>\n      <td>36.750000</td>\n    </tr>\n    <tr>\n      <th>librarian</th>\n      <td>40.000000</td>\n    </tr>\n    <tr>\n      <th>marketing</th>\n      <td>37.615385</td>\n    </tr>\n    <tr>\n      <th>none</th>\n      <td>26.555556</td>\n    </tr>\n    <tr>\n      <th>other</th>\n      <td>34.523810</td>\n    </tr>\n    <tr>\n      <th>programmer</th>\n      <td>33.121212</td>\n    </tr>\n    <tr>\n      <th>retired</th>\n      <td>63.071429</td>\n    </tr>\n    <tr>\n      <th>salesman</th>\n      <td>35.666667</td>\n    </tr>\n    <tr>\n      <th>scientist</th>\n      <td>35.548387</td>\n    </tr>\n    <tr>\n      <th>student</th>\n      <td>22.081633</td>\n    </tr>\n    <tr>\n      <th>technician</th>\n      <td>33.148148</td>\n    </tr>\n    <tr>\n      <th>writer</th>\n      <td>36.311111</td>\n    </tr>\n  </tbody>\n</table>\n</div>"
     },
     "metadata": {},
     "execution_count": 4
    }
   ],
   "source": [
    "occ = users.groupby(\"occupation\")\n",
    "occ = occ.mean()\n",
    "occ\n"
   ]
  },
  {
   "cell_type": "markdown",
   "metadata": {},
   "source": [
    "### Step 5. Discover the Male ratio per occupation and sort it from the most to the least"
   ]
  },
  {
   "cell_type": "code",
   "execution_count": 18,
   "metadata": {},
   "outputs": [
    {
     "output_type": "execute_result",
     "data": {
      "text/plain": [
       "gender          F    M  Ratio M\n",
       "occupation                     \n",
       "doctor          0    7  100.00%\n",
       "engineer        2   65   97.01%\n",
       "technician      1   26   96.30%\n",
       "retired         1   13   92.86%\n",
       "programmer      6   60   90.91%\n",
       "executive       3   29   90.62%\n",
       "scientist       3   28   90.32%\n",
       "entertainment   2   16   88.89%\n",
       "lawyer          2   10   83.33%\n",
       "salesman        3    9   75.00%\n",
       "educator       26   69   72.63%\n",
       "student        60  136   69.39%\n",
       "other          36   69   65.71%\n",
       "marketing      10   16   61.54%\n",
       "writer         19   26   57.78%\n",
       "none            4    5   55.56%\n",
       "administrator  36   43   54.43%\n",
       "artist         13   15   53.57%\n",
       "librarian      29   22   43.14%\n",
       "healthcare     11    5   31.25%\n",
       "homemaker       6    1   14.29%"
      ],
      "text/html": "<div>\n<style scoped>\n    .dataframe tbody tr th:only-of-type {\n        vertical-align: middle;\n    }\n\n    .dataframe tbody tr th {\n        vertical-align: top;\n    }\n\n    .dataframe thead th {\n        text-align: right;\n    }\n</style>\n<table border=\"1\" class=\"dataframe\">\n  <thead>\n    <tr style=\"text-align: right;\">\n      <th>gender</th>\n      <th>F</th>\n      <th>M</th>\n      <th>Ratio M</th>\n    </tr>\n    <tr>\n      <th>occupation</th>\n      <th></th>\n      <th></th>\n      <th></th>\n    </tr>\n  </thead>\n  <tbody>\n    <tr>\n      <th>doctor</th>\n      <td>0</td>\n      <td>7</td>\n      <td>100.00%</td>\n    </tr>\n    <tr>\n      <th>engineer</th>\n      <td>2</td>\n      <td>65</td>\n      <td>97.01%</td>\n    </tr>\n    <tr>\n      <th>technician</th>\n      <td>1</td>\n      <td>26</td>\n      <td>96.30%</td>\n    </tr>\n    <tr>\n      <th>retired</th>\n      <td>1</td>\n      <td>13</td>\n      <td>92.86%</td>\n    </tr>\n    <tr>\n      <th>programmer</th>\n      <td>6</td>\n      <td>60</td>\n      <td>90.91%</td>\n    </tr>\n    <tr>\n      <th>executive</th>\n      <td>3</td>\n      <td>29</td>\n      <td>90.62%</td>\n    </tr>\n    <tr>\n      <th>scientist</th>\n      <td>3</td>\n      <td>28</td>\n      <td>90.32%</td>\n    </tr>\n    <tr>\n      <th>entertainment</th>\n      <td>2</td>\n      <td>16</td>\n      <td>88.89%</td>\n    </tr>\n    <tr>\n      <th>lawyer</th>\n      <td>2</td>\n      <td>10</td>\n      <td>83.33%</td>\n    </tr>\n    <tr>\n      <th>salesman</th>\n      <td>3</td>\n      <td>9</td>\n      <td>75.00%</td>\n    </tr>\n    <tr>\n      <th>educator</th>\n      <td>26</td>\n      <td>69</td>\n      <td>72.63%</td>\n    </tr>\n    <tr>\n      <th>student</th>\n      <td>60</td>\n      <td>136</td>\n      <td>69.39%</td>\n    </tr>\n    <tr>\n      <th>other</th>\n      <td>36</td>\n      <td>69</td>\n      <td>65.71%</td>\n    </tr>\n    <tr>\n      <th>marketing</th>\n      <td>10</td>\n      <td>16</td>\n      <td>61.54%</td>\n    </tr>\n    <tr>\n      <th>writer</th>\n      <td>19</td>\n      <td>26</td>\n      <td>57.78%</td>\n    </tr>\n    <tr>\n      <th>none</th>\n      <td>4</td>\n      <td>5</td>\n      <td>55.56%</td>\n    </tr>\n    <tr>\n      <th>administrator</th>\n      <td>36</td>\n      <td>43</td>\n      <td>54.43%</td>\n    </tr>\n    <tr>\n      <th>artist</th>\n      <td>13</td>\n      <td>15</td>\n      <td>53.57%</td>\n    </tr>\n    <tr>\n      <th>librarian</th>\n      <td>29</td>\n      <td>22</td>\n      <td>43.14%</td>\n    </tr>\n    <tr>\n      <th>healthcare</th>\n      <td>11</td>\n      <td>5</td>\n      <td>31.25%</td>\n    </tr>\n    <tr>\n      <th>homemaker</th>\n      <td>6</td>\n      <td>1</td>\n      <td>14.29%</td>\n    </tr>\n  </tbody>\n</table>\n</div>"
     },
     "metadata": {},
     "execution_count": 18
    }
   ],
   "source": [
    "#users.groupby(\"occupation\").size()\n",
    "\n",
    "#df2 = users.groupby(['occupation', 'gender']).size().reset_index(name='count') \n",
    "#print(df2)\n",
    "df3 = users.groupby(['occupation', 'gender']).size().unstack(fill_value=0)\n",
    "df3[\"Ratio M\"] = (df3[\"M\"] /(df3[\"M\"] + df3[\"F\"]))\n",
    "pd.options.display.float_format = \"{:,.2%}\".format\n",
    "df3.sort_values(by=['Ratio M'], ascending=False, inplace=True)\n",
    "df3\n"
   ]
  },
  {
   "cell_type": "markdown",
   "metadata": {},
   "source": [
    "### Step 6. For each occupation, calculate the minimum and maximum ages"
   ]
  },
  {
   "cell_type": "code",
   "execution_count": 28,
   "metadata": {
    "jupyter": {
     "outputs_hidden": false
    }
   },
   "outputs": [
    {
     "output_type": "execute_result",
     "data": {
      "text/plain": [
       "              age    \n",
       "              min max\n",
       "occupation           \n",
       "administrator  21  70\n",
       "artist         19  48\n",
       "doctor         28  64\n",
       "educator       23  63\n",
       "engineer       22  70\n",
       "entertainment  15  50\n",
       "executive      22  69\n",
       "healthcare     22  62\n",
       "homemaker      20  50\n",
       "lawyer         21  53\n",
       "librarian      23  69\n",
       "marketing      24  55\n",
       "none           11  55\n",
       "other          13  64\n",
       "programmer     20  63\n",
       "retired        51  73\n",
       "salesman       18  66\n",
       "scientist      23  55\n",
       "student         7  42\n",
       "technician     21  55\n",
       "writer         18  60"
      ],
      "text/html": "<div>\n<style scoped>\n    .dataframe tbody tr th:only-of-type {\n        vertical-align: middle;\n    }\n\n    .dataframe tbody tr th {\n        vertical-align: top;\n    }\n\n    .dataframe thead tr th {\n        text-align: left;\n    }\n\n    .dataframe thead tr:last-of-type th {\n        text-align: right;\n    }\n</style>\n<table border=\"1\" class=\"dataframe\">\n  <thead>\n    <tr>\n      <th></th>\n      <th colspan=\"2\" halign=\"left\">age</th>\n    </tr>\n    <tr>\n      <th></th>\n      <th>min</th>\n      <th>max</th>\n    </tr>\n    <tr>\n      <th>occupation</th>\n      <th></th>\n      <th></th>\n    </tr>\n  </thead>\n  <tbody>\n    <tr>\n      <th>administrator</th>\n      <td>21</td>\n      <td>70</td>\n    </tr>\n    <tr>\n      <th>artist</th>\n      <td>19</td>\n      <td>48</td>\n    </tr>\n    <tr>\n      <th>doctor</th>\n      <td>28</td>\n      <td>64</td>\n    </tr>\n    <tr>\n      <th>educator</th>\n      <td>23</td>\n      <td>63</td>\n    </tr>\n    <tr>\n      <th>engineer</th>\n      <td>22</td>\n      <td>70</td>\n    </tr>\n    <tr>\n      <th>entertainment</th>\n      <td>15</td>\n      <td>50</td>\n    </tr>\n    <tr>\n      <th>executive</th>\n      <td>22</td>\n      <td>69</td>\n    </tr>\n    <tr>\n      <th>healthcare</th>\n      <td>22</td>\n      <td>62</td>\n    </tr>\n    <tr>\n      <th>homemaker</th>\n      <td>20</td>\n      <td>50</td>\n    </tr>\n    <tr>\n      <th>lawyer</th>\n      <td>21</td>\n      <td>53</td>\n    </tr>\n    <tr>\n      <th>librarian</th>\n      <td>23</td>\n      <td>69</td>\n    </tr>\n    <tr>\n      <th>marketing</th>\n      <td>24</td>\n      <td>55</td>\n    </tr>\n    <tr>\n      <th>none</th>\n      <td>11</td>\n      <td>55</td>\n    </tr>\n    <tr>\n      <th>other</th>\n      <td>13</td>\n      <td>64</td>\n    </tr>\n    <tr>\n      <th>programmer</th>\n      <td>20</td>\n      <td>63</td>\n    </tr>\n    <tr>\n      <th>retired</th>\n      <td>51</td>\n      <td>73</td>\n    </tr>\n    <tr>\n      <th>salesman</th>\n      <td>18</td>\n      <td>66</td>\n    </tr>\n    <tr>\n      <th>scientist</th>\n      <td>23</td>\n      <td>55</td>\n    </tr>\n    <tr>\n      <th>student</th>\n      <td>7</td>\n      <td>42</td>\n    </tr>\n    <tr>\n      <th>technician</th>\n      <td>21</td>\n      <td>55</td>\n    </tr>\n    <tr>\n      <th>writer</th>\n      <td>18</td>\n      <td>60</td>\n    </tr>\n  </tbody>\n</table>\n</div>"
     },
     "metadata": {},
     "execution_count": 28
    }
   ],
   "source": [
    "result = users.groupby('occupation').agg({'age': ['min', 'max']})\n",
    "result\n",
    "\n",
    "#ages = users.groupby(\"occupation\")\n",
    "#agemin = ages.min()\n",
    "#agemin\n",
    "\n"
   ]
  },
  {
   "cell_type": "markdown",
   "metadata": {},
   "source": [
    "### Step 7. For each combination of occupation and gender, calculate the mean age"
   ]
  },
  {
   "cell_type": "code",
   "execution_count": 35,
   "metadata": {},
   "outputs": [
    {
     "output_type": "execute_result",
     "data": {
      "text/plain": [
       "                      age\n",
       "                     mean\n",
       "occupation    gender     \n",
       "administrator F      40.6\n",
       "              M      37.2\n",
       "artist        F      30.3\n",
       "              M      32.3\n",
       "doctor        M      43.6\n",
       "educator      F      39.1\n",
       "              M      43.1\n",
       "engineer      F      29.5\n",
       "              M      36.6\n",
       "entertainment F      31.0\n",
       "              M      29.0\n",
       "executive     F      44.0\n",
       "              M      38.2\n",
       "healthcare    F      39.8\n",
       "              M      45.4\n",
       "homemaker     F      34.2\n",
       "              M      23.0\n",
       "lawyer        F      39.5\n",
       "              M      36.2\n",
       "librarian     F      40.0\n",
       "              M      40.0\n",
       "marketing     F      37.2\n",
       "              M      37.9\n",
       "none          F      36.5\n",
       "              M      18.6\n",
       "other         F      35.5\n",
       "              M      34.0\n",
       "programmer    F      32.2\n",
       "              M      33.2\n",
       "retired       F      70.0\n",
       "              M      62.5\n",
       "salesman      F      27.0\n",
       "              M      38.6\n",
       "scientist     F      28.3\n",
       "              M      36.3\n",
       "student       F      20.8\n",
       "              M      22.7\n",
       "technician    F      38.0\n",
       "              M      33.0\n",
       "writer        F      37.6\n",
       "              M      35.3"
      ],
      "text/html": "<div>\n<style scoped>\n    .dataframe tbody tr th:only-of-type {\n        vertical-align: middle;\n    }\n\n    .dataframe tbody tr th {\n        vertical-align: top;\n    }\n\n    .dataframe thead tr th {\n        text-align: left;\n    }\n\n    .dataframe thead tr:last-of-type th {\n        text-align: right;\n    }\n</style>\n<table border=\"1\" class=\"dataframe\">\n  <thead>\n    <tr>\n      <th></th>\n      <th></th>\n      <th>age</th>\n    </tr>\n    <tr>\n      <th></th>\n      <th></th>\n      <th>mean</th>\n    </tr>\n    <tr>\n      <th>occupation</th>\n      <th>gender</th>\n      <th></th>\n    </tr>\n  </thead>\n  <tbody>\n    <tr>\n      <th rowspan=\"2\" valign=\"top\">administrator</th>\n      <th>F</th>\n      <td>40.6</td>\n    </tr>\n    <tr>\n      <th>M</th>\n      <td>37.2</td>\n    </tr>\n    <tr>\n      <th rowspan=\"2\" valign=\"top\">artist</th>\n      <th>F</th>\n      <td>30.3</td>\n    </tr>\n    <tr>\n      <th>M</th>\n      <td>32.3</td>\n    </tr>\n    <tr>\n      <th>doctor</th>\n      <th>M</th>\n      <td>43.6</td>\n    </tr>\n    <tr>\n      <th rowspan=\"2\" valign=\"top\">educator</th>\n      <th>F</th>\n      <td>39.1</td>\n    </tr>\n    <tr>\n      <th>M</th>\n      <td>43.1</td>\n    </tr>\n    <tr>\n      <th rowspan=\"2\" valign=\"top\">engineer</th>\n      <th>F</th>\n      <td>29.5</td>\n    </tr>\n    <tr>\n      <th>M</th>\n      <td>36.6</td>\n    </tr>\n    <tr>\n      <th rowspan=\"2\" valign=\"top\">entertainment</th>\n      <th>F</th>\n      <td>31.0</td>\n    </tr>\n    <tr>\n      <th>M</th>\n      <td>29.0</td>\n    </tr>\n    <tr>\n      <th rowspan=\"2\" valign=\"top\">executive</th>\n      <th>F</th>\n      <td>44.0</td>\n    </tr>\n    <tr>\n      <th>M</th>\n      <td>38.2</td>\n    </tr>\n    <tr>\n      <th rowspan=\"2\" valign=\"top\">healthcare</th>\n      <th>F</th>\n      <td>39.8</td>\n    </tr>\n    <tr>\n      <th>M</th>\n      <td>45.4</td>\n    </tr>\n    <tr>\n      <th rowspan=\"2\" valign=\"top\">homemaker</th>\n      <th>F</th>\n      <td>34.2</td>\n    </tr>\n    <tr>\n      <th>M</th>\n      <td>23.0</td>\n    </tr>\n    <tr>\n      <th rowspan=\"2\" valign=\"top\">lawyer</th>\n      <th>F</th>\n      <td>39.5</td>\n    </tr>\n    <tr>\n      <th>M</th>\n      <td>36.2</td>\n    </tr>\n    <tr>\n      <th rowspan=\"2\" valign=\"top\">librarian</th>\n      <th>F</th>\n      <td>40.0</td>\n    </tr>\n    <tr>\n      <th>M</th>\n      <td>40.0</td>\n    </tr>\n    <tr>\n      <th rowspan=\"2\" valign=\"top\">marketing</th>\n      <th>F</th>\n      <td>37.2</td>\n    </tr>\n    <tr>\n      <th>M</th>\n      <td>37.9</td>\n    </tr>\n    <tr>\n      <th rowspan=\"2\" valign=\"top\">none</th>\n      <th>F</th>\n      <td>36.5</td>\n    </tr>\n    <tr>\n      <th>M</th>\n      <td>18.6</td>\n    </tr>\n    <tr>\n      <th rowspan=\"2\" valign=\"top\">other</th>\n      <th>F</th>\n      <td>35.5</td>\n    </tr>\n    <tr>\n      <th>M</th>\n      <td>34.0</td>\n    </tr>\n    <tr>\n      <th rowspan=\"2\" valign=\"top\">programmer</th>\n      <th>F</th>\n      <td>32.2</td>\n    </tr>\n    <tr>\n      <th>M</th>\n      <td>33.2</td>\n    </tr>\n    <tr>\n      <th rowspan=\"2\" valign=\"top\">retired</th>\n      <th>F</th>\n      <td>70.0</td>\n    </tr>\n    <tr>\n      <th>M</th>\n      <td>62.5</td>\n    </tr>\n    <tr>\n      <th rowspan=\"2\" valign=\"top\">salesman</th>\n      <th>F</th>\n      <td>27.0</td>\n    </tr>\n    <tr>\n      <th>M</th>\n      <td>38.6</td>\n    </tr>\n    <tr>\n      <th rowspan=\"2\" valign=\"top\">scientist</th>\n      <th>F</th>\n      <td>28.3</td>\n    </tr>\n    <tr>\n      <th>M</th>\n      <td>36.3</td>\n    </tr>\n    <tr>\n      <th rowspan=\"2\" valign=\"top\">student</th>\n      <th>F</th>\n      <td>20.8</td>\n    </tr>\n    <tr>\n      <th>M</th>\n      <td>22.7</td>\n    </tr>\n    <tr>\n      <th rowspan=\"2\" valign=\"top\">technician</th>\n      <th>F</th>\n      <td>38.0</td>\n    </tr>\n    <tr>\n      <th>M</th>\n      <td>33.0</td>\n    </tr>\n    <tr>\n      <th rowspan=\"2\" valign=\"top\">writer</th>\n      <th>F</th>\n      <td>37.6</td>\n    </tr>\n    <tr>\n      <th>M</th>\n      <td>35.3</td>\n    </tr>\n  </tbody>\n</table>\n</div>"
     },
     "metadata": {},
     "execution_count": 35
    }
   ],
   "source": [
    "bygender = users.groupby(['occupation', 'gender']).agg({'age': ['mean']})\n",
    "pd.options.display.float_format = \"{:,.1f}\".format\n",
    "bygender"
   ]
  },
  {
   "cell_type": "markdown",
   "metadata": {},
   "source": [
    "### Step 8.  For each occupation present the percentage of women and men"
   ]
  },
  {
   "cell_type": "code",
   "execution_count": 43,
   "metadata": {},
   "outputs": [
    {
     "output_type": "execute_result",
     "data": {
      "text/plain": [
       "gender            F%      M%\n",
       "occupation                  \n",
       "administrator 45.57%  54.43%\n",
       "artist        46.43%  53.57%\n",
       "doctor         0.00% 100.00%\n",
       "educator      27.37%  72.63%\n",
       "engineer       2.99%  97.01%\n",
       "entertainment 11.11%  88.89%\n",
       "executive      9.38%  90.62%\n",
       "healthcare    68.75%  31.25%\n",
       "homemaker     85.71%  14.29%\n",
       "lawyer        16.67%  83.33%\n",
       "librarian     56.86%  43.14%\n",
       "marketing     38.46%  61.54%\n",
       "none          44.44%  55.56%\n",
       "other         34.29%  65.71%\n",
       "programmer     9.09%  90.91%\n",
       "retired        7.14%  92.86%\n",
       "salesman      25.00%  75.00%\n",
       "scientist      9.68%  90.32%\n",
       "student       30.61%  69.39%\n",
       "technician     3.70%  96.30%\n",
       "writer        42.22%  57.78%"
      ],
      "text/html": "<div>\n<style scoped>\n    .dataframe tbody tr th:only-of-type {\n        vertical-align: middle;\n    }\n\n    .dataframe tbody tr th {\n        vertical-align: top;\n    }\n\n    .dataframe thead th {\n        text-align: right;\n    }\n</style>\n<table border=\"1\" class=\"dataframe\">\n  <thead>\n    <tr style=\"text-align: right;\">\n      <th>gender</th>\n      <th>F%</th>\n      <th>M%</th>\n    </tr>\n    <tr>\n      <th>occupation</th>\n      <th></th>\n      <th></th>\n    </tr>\n  </thead>\n  <tbody>\n    <tr>\n      <th>administrator</th>\n      <td>45.57%</td>\n      <td>54.43%</td>\n    </tr>\n    <tr>\n      <th>artist</th>\n      <td>46.43%</td>\n      <td>53.57%</td>\n    </tr>\n    <tr>\n      <th>doctor</th>\n      <td>0.00%</td>\n      <td>100.00%</td>\n    </tr>\n    <tr>\n      <th>educator</th>\n      <td>27.37%</td>\n      <td>72.63%</td>\n    </tr>\n    <tr>\n      <th>engineer</th>\n      <td>2.99%</td>\n      <td>97.01%</td>\n    </tr>\n    <tr>\n      <th>entertainment</th>\n      <td>11.11%</td>\n      <td>88.89%</td>\n    </tr>\n    <tr>\n      <th>executive</th>\n      <td>9.38%</td>\n      <td>90.62%</td>\n    </tr>\n    <tr>\n      <th>healthcare</th>\n      <td>68.75%</td>\n      <td>31.25%</td>\n    </tr>\n    <tr>\n      <th>homemaker</th>\n      <td>85.71%</td>\n      <td>14.29%</td>\n    </tr>\n    <tr>\n      <th>lawyer</th>\n      <td>16.67%</td>\n      <td>83.33%</td>\n    </tr>\n    <tr>\n      <th>librarian</th>\n      <td>56.86%</td>\n      <td>43.14%</td>\n    </tr>\n    <tr>\n      <th>marketing</th>\n      <td>38.46%</td>\n      <td>61.54%</td>\n    </tr>\n    <tr>\n      <th>none</th>\n      <td>44.44%</td>\n      <td>55.56%</td>\n    </tr>\n    <tr>\n      <th>other</th>\n      <td>34.29%</td>\n      <td>65.71%</td>\n    </tr>\n    <tr>\n      <th>programmer</th>\n      <td>9.09%</td>\n      <td>90.91%</td>\n    </tr>\n    <tr>\n      <th>retired</th>\n      <td>7.14%</td>\n      <td>92.86%</td>\n    </tr>\n    <tr>\n      <th>salesman</th>\n      <td>25.00%</td>\n      <td>75.00%</td>\n    </tr>\n    <tr>\n      <th>scientist</th>\n      <td>9.68%</td>\n      <td>90.32%</td>\n    </tr>\n    <tr>\n      <th>student</th>\n      <td>30.61%</td>\n      <td>69.39%</td>\n    </tr>\n    <tr>\n      <th>technician</th>\n      <td>3.70%</td>\n      <td>96.30%</td>\n    </tr>\n    <tr>\n      <th>writer</th>\n      <td>42.22%</td>\n      <td>57.78%</td>\n    </tr>\n  </tbody>\n</table>\n</div>"
     },
     "metadata": {},
     "execution_count": 43
    }
   ],
   "source": [
    "fhh = users.groupby(['occupation', 'gender']).size().unstack(fill_value=0)\n",
    "fhh[\"F%\"] = (df3[\"F\"] /(df3[\"M\"] + df3[\"F\"]))\n",
    "fhh[\"M%\"] = (df3[\"M\"] /(df3[\"M\"] + df3[\"F\"]))\n",
    "pd.options.display.float_format = \"{:,.2%}\".format\n",
    "fhh.drop(['F', 'M'], axis=1)\n"
   ]
  }
 ],
 "metadata": {
  "kernelspec": {
   "name": "python374jvsc74a57bd016eb897c26cdfcf18817bc60a8e0737e3939ff1e8491198c807979170104e811",
   "display_name": "Python 3.7.4 64-bit"
  },
  "language_info": {
   "codemirror_mode": {
    "name": "ipython",
    "version": 3
   },
   "file_extension": ".py",
   "mimetype": "text/x-python",
   "name": "python",
   "nbconvert_exporter": "python",
   "pygments_lexer": "ipython3",
   "version": "3.7.4"
  },
  "metadata": {
   "interpreter": {
    "hash": "16eb897c26cdfcf18817bc60a8e0737e3939ff1e8491198c807979170104e811"
   }
  }
 },
 "nbformat": 4,
 "nbformat_minor": 4
}