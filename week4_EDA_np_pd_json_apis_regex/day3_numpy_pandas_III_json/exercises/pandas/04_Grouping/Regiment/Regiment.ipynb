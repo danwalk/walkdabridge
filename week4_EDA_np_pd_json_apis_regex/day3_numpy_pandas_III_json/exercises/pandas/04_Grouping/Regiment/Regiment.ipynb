{
 "cells": [
  {
   "cell_type": "markdown",
   "metadata": {},
   "source": [
    "# 04 - Grouping"
   ]
  },
  {
   "cell_type": "markdown",
   "metadata": {},
   "source": [
    "### Step 1. Import the necessary libraries"
   ]
  },
  {
   "cell_type": "code",
   "execution_count": 1,
   "metadata": {},
   "outputs": [],
   "source": [
    "import pandas as pd\n",
    "import numpy as np"
   ]
  },
  {
   "cell_type": "markdown",
   "metadata": {},
   "source": [
    "### Step 2. Create the DataFrame with the following values:"
   ]
  },
  {
   "cell_type": "code",
   "execution_count": 3,
   "metadata": {},
   "outputs": [],
   "source": [
    "raw_data = {'regiment': ['Nighthawks', 'Nighthawks', 'Nighthawks', 'Nighthawks', 'Dragoons', 'Dragoons', 'Dragoons', 'Dragoons', 'Scouts', 'Scouts', 'Scouts', 'Scouts'], \n",
    "        'company': ['1st', '1st', '2nd', '2nd', '1st', '1st', '2nd', '2nd','1st', '1st', '2nd', '2nd'], \n",
    "        'name': ['Miller', 'Jacobson', 'Ali', 'Milner', 'Cooze', 'Jacon', 'Ryaner', 'Sone', 'Sloan', 'Piger', 'Riani', 'Ali'], \n",
    "        'preTestScore': [4, 24, 31, 2, 3, 4, 24, 31, 2, 3, 2, 3],\n",
    "        'postTestScore': [25, 94, 57, 62, 70, 25, 94, 57, 62, 70, 62, 70]}"
   ]
  },
  {
   "cell_type": "markdown",
   "metadata": {},
   "source": [
    "### Step 3. Assign it to a variable called regiment."
   ]
  },
  {
   "cell_type": "code",
   "execution_count": 4,
   "metadata": {},
   "outputs": [
    {
     "output_type": "execute_result",
     "data": {
      "text/plain": [
       "      regiment company      name  preTestScore  postTestScore\n",
       "0   Nighthawks     1st    Miller             4             25\n",
       "1   Nighthawks     1st  Jacobson            24             94\n",
       "2   Nighthawks     2nd       Ali            31             57\n",
       "3   Nighthawks     2nd    Milner             2             62\n",
       "4     Dragoons     1st     Cooze             3             70\n",
       "5     Dragoons     1st     Jacon             4             25\n",
       "6     Dragoons     2nd    Ryaner            24             94\n",
       "7     Dragoons     2nd      Sone            31             57\n",
       "8       Scouts     1st     Sloan             2             62\n",
       "9       Scouts     1st     Piger             3             70\n",
       "10      Scouts     2nd     Riani             2             62\n",
       "11      Scouts     2nd       Ali             3             70"
      ],
      "text/html": "<div>\n<style scoped>\n    .dataframe tbody tr th:only-of-type {\n        vertical-align: middle;\n    }\n\n    .dataframe tbody tr th {\n        vertical-align: top;\n    }\n\n    .dataframe thead th {\n        text-align: right;\n    }\n</style>\n<table border=\"1\" class=\"dataframe\">\n  <thead>\n    <tr style=\"text-align: right;\">\n      <th></th>\n      <th>regiment</th>\n      <th>company</th>\n      <th>name</th>\n      <th>preTestScore</th>\n      <th>postTestScore</th>\n    </tr>\n  </thead>\n  <tbody>\n    <tr>\n      <th>0</th>\n      <td>Nighthawks</td>\n      <td>1st</td>\n      <td>Miller</td>\n      <td>4</td>\n      <td>25</td>\n    </tr>\n    <tr>\n      <th>1</th>\n      <td>Nighthawks</td>\n      <td>1st</td>\n      <td>Jacobson</td>\n      <td>24</td>\n      <td>94</td>\n    </tr>\n    <tr>\n      <th>2</th>\n      <td>Nighthawks</td>\n      <td>2nd</td>\n      <td>Ali</td>\n      <td>31</td>\n      <td>57</td>\n    </tr>\n    <tr>\n      <th>3</th>\n      <td>Nighthawks</td>\n      <td>2nd</td>\n      <td>Milner</td>\n      <td>2</td>\n      <td>62</td>\n    </tr>\n    <tr>\n      <th>4</th>\n      <td>Dragoons</td>\n      <td>1st</td>\n      <td>Cooze</td>\n      <td>3</td>\n      <td>70</td>\n    </tr>\n    <tr>\n      <th>5</th>\n      <td>Dragoons</td>\n      <td>1st</td>\n      <td>Jacon</td>\n      <td>4</td>\n      <td>25</td>\n    </tr>\n    <tr>\n      <th>6</th>\n      <td>Dragoons</td>\n      <td>2nd</td>\n      <td>Ryaner</td>\n      <td>24</td>\n      <td>94</td>\n    </tr>\n    <tr>\n      <th>7</th>\n      <td>Dragoons</td>\n      <td>2nd</td>\n      <td>Sone</td>\n      <td>31</td>\n      <td>57</td>\n    </tr>\n    <tr>\n      <th>8</th>\n      <td>Scouts</td>\n      <td>1st</td>\n      <td>Sloan</td>\n      <td>2</td>\n      <td>62</td>\n    </tr>\n    <tr>\n      <th>9</th>\n      <td>Scouts</td>\n      <td>1st</td>\n      <td>Piger</td>\n      <td>3</td>\n      <td>70</td>\n    </tr>\n    <tr>\n      <th>10</th>\n      <td>Scouts</td>\n      <td>2nd</td>\n      <td>Riani</td>\n      <td>2</td>\n      <td>62</td>\n    </tr>\n    <tr>\n      <th>11</th>\n      <td>Scouts</td>\n      <td>2nd</td>\n      <td>Ali</td>\n      <td>3</td>\n      <td>70</td>\n    </tr>\n  </tbody>\n</table>\n</div>"
     },
     "metadata": {},
     "execution_count": 4
    }
   ],
   "source": [
    "regiment = pd.DataFrame(raw_data, columns=['regiment', 'company', 'name', 'preTestScore', 'postTestScore'])\n",
    "regiment"
   ]
  },
  {
   "cell_type": "markdown",
   "metadata": {},
   "source": [
    "### Step 4. What is the mean preTestScore from the regiment Nighthawks?  "
   ]
  },
  {
   "cell_type": "code",
   "execution_count": 11,
   "metadata": {},
   "outputs": [
    {
     "output_type": "execute_result",
     "data": {
      "text/plain": [
       "           preTestScore\n",
       "                   mean\n",
       "regiment               \n",
       "Nighthawks        15.25"
      ],
      "text/html": "<div>\n<style scoped>\n    .dataframe tbody tr th:only-of-type {\n        vertical-align: middle;\n    }\n\n    .dataframe tbody tr th {\n        vertical-align: top;\n    }\n\n    .dataframe thead tr th {\n        text-align: left;\n    }\n\n    .dataframe thead tr:last-of-type th {\n        text-align: right;\n    }\n</style>\n<table border=\"1\" class=\"dataframe\">\n  <thead>\n    <tr>\n      <th></th>\n      <th>preTestScore</th>\n    </tr>\n    <tr>\n      <th></th>\n      <th>mean</th>\n    </tr>\n    <tr>\n      <th>regiment</th>\n      <th></th>\n    </tr>\n  </thead>\n  <tbody>\n    <tr>\n      <th>Nighthawks</th>\n      <td>15.25</td>\n    </tr>\n  </tbody>\n</table>\n</div>"
     },
     "metadata": {},
     "execution_count": 11
    }
   ],
   "source": [
    "pretest = regiment.groupby('regiment').agg({'preTestScore': ['mean']})\n",
    "pretest.loc[['Nighthawks']]"
   ]
  },
  {
   "cell_type": "markdown",
   "metadata": {},
   "source": [
    "\n",
    "### Step 5. Present general statistics by company"
   ]
  },
  {
   "cell_type": "code",
   "execution_count": 15,
   "metadata": {},
   "outputs": [
    {
     "output_type": "execute_result",
     "data": {
      "text/plain": [
       "                   preTestScore                                             \\\n",
       "                          count  mean        std   min    25%   50%    75%   \n",
       "regiment   company                                                           \n",
       "Dragoons   1st              2.0   3.5   0.707107   3.0   3.25   3.5   3.75   \n",
       "           2nd              2.0  27.5   4.949747  24.0  25.75  27.5  29.25   \n",
       "Nighthawks 1st              2.0  14.0  14.142136   4.0   9.00  14.0  19.00   \n",
       "           2nd              2.0  16.5  20.506097   2.0   9.25  16.5  23.75   \n",
       "Scouts     1st              2.0   2.5   0.707107   2.0   2.25   2.5   2.75   \n",
       "           2nd              2.0   2.5   0.707107   2.0   2.25   2.5   2.75   \n",
       "\n",
       "                         postTestScore                                      \\\n",
       "                     max         count  mean        std   min    25%   50%   \n",
       "regiment   company                                                           \n",
       "Dragoons   1st       4.0           2.0  47.5  31.819805  25.0  36.25  47.5   \n",
       "           2nd      31.0           2.0  75.5  26.162951  57.0  66.25  75.5   \n",
       "Nighthawks 1st      24.0           2.0  59.5  48.790368  25.0  42.25  59.5   \n",
       "           2nd      31.0           2.0  59.5   3.535534  57.0  58.25  59.5   \n",
       "Scouts     1st       3.0           2.0  66.0   5.656854  62.0  64.00  66.0   \n",
       "           2nd       3.0           2.0  66.0   5.656854  62.0  64.00  66.0   \n",
       "\n",
       "                                 \n",
       "                      75%   max  \n",
       "regiment   company               \n",
       "Dragoons   1st      58.75  70.0  \n",
       "           2nd      84.75  94.0  \n",
       "Nighthawks 1st      76.75  94.0  \n",
       "           2nd      60.75  62.0  \n",
       "Scouts     1st      68.00  70.0  \n",
       "           2nd      68.00  70.0  "
      ],
      "text/html": "<div>\n<style scoped>\n    .dataframe tbody tr th:only-of-type {\n        vertical-align: middle;\n    }\n\n    .dataframe tbody tr th {\n        vertical-align: top;\n    }\n\n    .dataframe thead tr th {\n        text-align: left;\n    }\n\n    .dataframe thead tr:last-of-type th {\n        text-align: right;\n    }\n</style>\n<table border=\"1\" class=\"dataframe\">\n  <thead>\n    <tr>\n      <th></th>\n      <th></th>\n      <th colspan=\"8\" halign=\"left\">preTestScore</th>\n      <th colspan=\"8\" halign=\"left\">postTestScore</th>\n    </tr>\n    <tr>\n      <th></th>\n      <th></th>\n      <th>count</th>\n      <th>mean</th>\n      <th>std</th>\n      <th>min</th>\n      <th>25%</th>\n      <th>50%</th>\n      <th>75%</th>\n      <th>max</th>\n      <th>count</th>\n      <th>mean</th>\n      <th>std</th>\n      <th>min</th>\n      <th>25%</th>\n      <th>50%</th>\n      <th>75%</th>\n      <th>max</th>\n    </tr>\n    <tr>\n      <th>regiment</th>\n      <th>company</th>\n      <th></th>\n      <th></th>\n      <th></th>\n      <th></th>\n      <th></th>\n      <th></th>\n      <th></th>\n      <th></th>\n      <th></th>\n      <th></th>\n      <th></th>\n      <th></th>\n      <th></th>\n      <th></th>\n      <th></th>\n      <th></th>\n    </tr>\n  </thead>\n  <tbody>\n    <tr>\n      <th rowspan=\"2\" valign=\"top\">Dragoons</th>\n      <th>1st</th>\n      <td>2.0</td>\n      <td>3.5</td>\n      <td>0.707107</td>\n      <td>3.0</td>\n      <td>3.25</td>\n      <td>3.5</td>\n      <td>3.75</td>\n      <td>4.0</td>\n      <td>2.0</td>\n      <td>47.5</td>\n      <td>31.819805</td>\n      <td>25.0</td>\n      <td>36.25</td>\n      <td>47.5</td>\n      <td>58.75</td>\n      <td>70.0</td>\n    </tr>\n    <tr>\n      <th>2nd</th>\n      <td>2.0</td>\n      <td>27.5</td>\n      <td>4.949747</td>\n      <td>24.0</td>\n      <td>25.75</td>\n      <td>27.5</td>\n      <td>29.25</td>\n      <td>31.0</td>\n      <td>2.0</td>\n      <td>75.5</td>\n      <td>26.162951</td>\n      <td>57.0</td>\n      <td>66.25</td>\n      <td>75.5</td>\n      <td>84.75</td>\n      <td>94.0</td>\n    </tr>\n    <tr>\n      <th rowspan=\"2\" valign=\"top\">Nighthawks</th>\n      <th>1st</th>\n      <td>2.0</td>\n      <td>14.0</td>\n      <td>14.142136</td>\n      <td>4.0</td>\n      <td>9.00</td>\n      <td>14.0</td>\n      <td>19.00</td>\n      <td>24.0</td>\n      <td>2.0</td>\n      <td>59.5</td>\n      <td>48.790368</td>\n      <td>25.0</td>\n      <td>42.25</td>\n      <td>59.5</td>\n      <td>76.75</td>\n      <td>94.0</td>\n    </tr>\n    <tr>\n      <th>2nd</th>\n      <td>2.0</td>\n      <td>16.5</td>\n      <td>20.506097</td>\n      <td>2.0</td>\n      <td>9.25</td>\n      <td>16.5</td>\n      <td>23.75</td>\n      <td>31.0</td>\n      <td>2.0</td>\n      <td>59.5</td>\n      <td>3.535534</td>\n      <td>57.0</td>\n      <td>58.25</td>\n      <td>59.5</td>\n      <td>60.75</td>\n      <td>62.0</td>\n    </tr>\n    <tr>\n      <th rowspan=\"2\" valign=\"top\">Scouts</th>\n      <th>1st</th>\n      <td>2.0</td>\n      <td>2.5</td>\n      <td>0.707107</td>\n      <td>2.0</td>\n      <td>2.25</td>\n      <td>2.5</td>\n      <td>2.75</td>\n      <td>3.0</td>\n      <td>2.0</td>\n      <td>66.0</td>\n      <td>5.656854</td>\n      <td>62.0</td>\n      <td>64.00</td>\n      <td>66.0</td>\n      <td>68.00</td>\n      <td>70.0</td>\n    </tr>\n    <tr>\n      <th>2nd</th>\n      <td>2.0</td>\n      <td>2.5</td>\n      <td>0.707107</td>\n      <td>2.0</td>\n      <td>2.25</td>\n      <td>2.5</td>\n      <td>2.75</td>\n      <td>3.0</td>\n      <td>2.0</td>\n      <td>66.0</td>\n      <td>5.656854</td>\n      <td>62.0</td>\n      <td>64.00</td>\n      <td>66.0</td>\n      <td>68.00</td>\n      <td>70.0</td>\n    </tr>\n  </tbody>\n</table>\n</div>"
     },
     "metadata": {},
     "execution_count": 15
    }
   ],
   "source": [
    "regiment.groupby(['regiment','company']).describe()"
   ]
  },
  {
   "cell_type": "markdown",
   "metadata": {},
   "source": [
    "### Step 6. What is the mean of each company's preTestScore?"
   ]
  },
  {
   "cell_type": "code",
   "execution_count": 20,
   "metadata": {
    "jupyter": {
     "outputs_hidden": false
    }
   },
   "outputs": [
    {
     "output_type": "execute_result",
     "data": {
      "text/plain": [
       "         preTestScore\n",
       "company              \n",
       "1st          6.666667\n",
       "2nd         15.500000"
      ],
      "text/html": "<div>\n<style scoped>\n    .dataframe tbody tr th:only-of-type {\n        vertical-align: middle;\n    }\n\n    .dataframe tbody tr th {\n        vertical-align: top;\n    }\n\n    .dataframe thead th {\n        text-align: right;\n    }\n</style>\n<table border=\"1\" class=\"dataframe\">\n  <thead>\n    <tr style=\"text-align: right;\">\n      <th></th>\n      <th>preTestScore</th>\n    </tr>\n    <tr>\n      <th>company</th>\n      <th></th>\n    </tr>\n  </thead>\n  <tbody>\n    <tr>\n      <th>1st</th>\n      <td>6.666667</td>\n    </tr>\n    <tr>\n      <th>2nd</th>\n      <td>15.500000</td>\n    </tr>\n  </tbody>\n</table>\n</div>"
     },
     "metadata": {},
     "execution_count": 20
    }
   ],
   "source": [
    "ff = regiment.groupby(['company']).mean()\n",
    "ff[['preTestScore']]"
   ]
  },
  {
   "cell_type": "markdown",
   "metadata": {},
   "source": [
    "### Step 7. Present the mean preTestScores grouped by regiment and company"
   ]
  },
  {
   "cell_type": "code",
   "execution_count": 21,
   "metadata": {
    "jupyter": {
     "outputs_hidden": false
    }
   },
   "outputs": [
    {
     "output_type": "execute_result",
     "data": {
      "text/plain": [
       "                    preTestScore\n",
       "regiment   company              \n",
       "Dragoons   1st               3.5\n",
       "           2nd              27.5\n",
       "Nighthawks 1st              14.0\n",
       "           2nd              16.5\n",
       "Scouts     1st               2.5\n",
       "           2nd               2.5"
      ],
      "text/html": "<div>\n<style scoped>\n    .dataframe tbody tr th:only-of-type {\n        vertical-align: middle;\n    }\n\n    .dataframe tbody tr th {\n        vertical-align: top;\n    }\n\n    .dataframe thead th {\n        text-align: right;\n    }\n</style>\n<table border=\"1\" class=\"dataframe\">\n  <thead>\n    <tr style=\"text-align: right;\">\n      <th></th>\n      <th></th>\n      <th>preTestScore</th>\n    </tr>\n    <tr>\n      <th>regiment</th>\n      <th>company</th>\n      <th></th>\n    </tr>\n  </thead>\n  <tbody>\n    <tr>\n      <th rowspan=\"2\" valign=\"top\">Dragoons</th>\n      <th>1st</th>\n      <td>3.5</td>\n    </tr>\n    <tr>\n      <th>2nd</th>\n      <td>27.5</td>\n    </tr>\n    <tr>\n      <th rowspan=\"2\" valign=\"top\">Nighthawks</th>\n      <th>1st</th>\n      <td>14.0</td>\n    </tr>\n    <tr>\n      <th>2nd</th>\n      <td>16.5</td>\n    </tr>\n    <tr>\n      <th rowspan=\"2\" valign=\"top\">Scouts</th>\n      <th>1st</th>\n      <td>2.5</td>\n    </tr>\n    <tr>\n      <th>2nd</th>\n      <td>2.5</td>\n    </tr>\n  </tbody>\n</table>\n</div>"
     },
     "metadata": {},
     "execution_count": 21
    }
   ],
   "source": [
    "gg = regiment.groupby(['regiment','company']).mean()\n",
    "gg[['preTestScore']]"
   ]
  },
  {
   "cell_type": "markdown",
   "metadata": {},
   "source": [
    "### Step 8. Present the mean preTestScores grouped by regiment and company without heirarchical indexing"
   ]
  },
  {
   "cell_type": "code",
   "execution_count": 26,
   "metadata": {},
   "outputs": [
    {
     "output_type": "execute_result",
     "data": {
      "text/plain": [
       "            preTestScore\n",
       "regiment                \n",
       "Dragoons           15.50\n",
       "Nighthawks         15.25\n",
       "Scouts              2.50"
      ],
      "text/html": "<div>\n<style scoped>\n    .dataframe tbody tr th:only-of-type {\n        vertical-align: middle;\n    }\n\n    .dataframe tbody tr th {\n        vertical-align: top;\n    }\n\n    .dataframe thead th {\n        text-align: right;\n    }\n</style>\n<table border=\"1\" class=\"dataframe\">\n  <thead>\n    <tr style=\"text-align: right;\">\n      <th></th>\n      <th>preTestScore</th>\n    </tr>\n    <tr>\n      <th>regiment</th>\n      <th></th>\n    </tr>\n  </thead>\n  <tbody>\n    <tr>\n      <th>Dragoons</th>\n      <td>15.50</td>\n    </tr>\n    <tr>\n      <th>Nighthawks</th>\n      <td>15.25</td>\n    </tr>\n    <tr>\n      <th>Scouts</th>\n      <td>2.50</td>\n    </tr>\n  </tbody>\n</table>\n</div>"
     },
     "metadata": {},
     "execution_count": 26
    }
   ],
   "source": [
    "tt = regiment.groupby(['regiment']).mean()\n",
    "tt[['preTestScore']]\n"
   ]
  },
  {
   "cell_type": "code",
   "execution_count": 27,
   "metadata": {},
   "outputs": [
    {
     "output_type": "execute_result",
     "data": {
      "text/plain": [
       "         preTestScore\n",
       "company              \n",
       "1st          6.666667\n",
       "2nd         15.500000"
      ],
      "text/html": "<div>\n<style scoped>\n    .dataframe tbody tr th:only-of-type {\n        vertical-align: middle;\n    }\n\n    .dataframe tbody tr th {\n        vertical-align: top;\n    }\n\n    .dataframe thead th {\n        text-align: right;\n    }\n</style>\n<table border=\"1\" class=\"dataframe\">\n  <thead>\n    <tr style=\"text-align: right;\">\n      <th></th>\n      <th>preTestScore</th>\n    </tr>\n    <tr>\n      <th>company</th>\n      <th></th>\n    </tr>\n  </thead>\n  <tbody>\n    <tr>\n      <th>1st</th>\n      <td>6.666667</td>\n    </tr>\n    <tr>\n      <th>2nd</th>\n      <td>15.500000</td>\n    </tr>\n  </tbody>\n</table>\n</div>"
     },
     "metadata": {},
     "execution_count": 27
    }
   ],
   "source": [
    "dd = regiment.groupby(['company']).mean()\n",
    "dd[['preTestScore']]"
   ]
  },
  {
   "cell_type": "markdown",
   "metadata": {},
   "source": [
    "### Step 9. Group the entire dataframe by regiment and company"
   ]
  },
  {
   "cell_type": "code",
   "execution_count": 28,
   "metadata": {},
   "outputs": [
    {
     "output_type": "execute_result",
     "data": {
      "text/plain": [
       "      regiment company      name  preTestScore  postTestScore\n",
       "0   Nighthawks     1st    Miller             4             25\n",
       "1   Nighthawks     1st  Jacobson            24             94\n",
       "2   Nighthawks     2nd       Ali            31             57\n",
       "3   Nighthawks     2nd    Milner             2             62\n",
       "4     Dragoons     1st     Cooze             3             70\n",
       "5     Dragoons     1st     Jacon             4             25\n",
       "6     Dragoons     2nd    Ryaner            24             94\n",
       "7     Dragoons     2nd      Sone            31             57\n",
       "8       Scouts     1st     Sloan             2             62\n",
       "9       Scouts     1st     Piger             3             70\n",
       "10      Scouts     2nd     Riani             2             62\n",
       "11      Scouts     2nd       Ali             3             70"
      ],
      "text/html": "<div>\n<style scoped>\n    .dataframe tbody tr th:only-of-type {\n        vertical-align: middle;\n    }\n\n    .dataframe tbody tr th {\n        vertical-align: top;\n    }\n\n    .dataframe thead th {\n        text-align: right;\n    }\n</style>\n<table border=\"1\" class=\"dataframe\">\n  <thead>\n    <tr style=\"text-align: right;\">\n      <th></th>\n      <th>regiment</th>\n      <th>company</th>\n      <th>name</th>\n      <th>preTestScore</th>\n      <th>postTestScore</th>\n    </tr>\n  </thead>\n  <tbody>\n    <tr>\n      <th>0</th>\n      <td>Nighthawks</td>\n      <td>1st</td>\n      <td>Miller</td>\n      <td>4</td>\n      <td>25</td>\n    </tr>\n    <tr>\n      <th>1</th>\n      <td>Nighthawks</td>\n      <td>1st</td>\n      <td>Jacobson</td>\n      <td>24</td>\n      <td>94</td>\n    </tr>\n    <tr>\n      <th>2</th>\n      <td>Nighthawks</td>\n      <td>2nd</td>\n      <td>Ali</td>\n      <td>31</td>\n      <td>57</td>\n    </tr>\n    <tr>\n      <th>3</th>\n      <td>Nighthawks</td>\n      <td>2nd</td>\n      <td>Milner</td>\n      <td>2</td>\n      <td>62</td>\n    </tr>\n    <tr>\n      <th>4</th>\n      <td>Dragoons</td>\n      <td>1st</td>\n      <td>Cooze</td>\n      <td>3</td>\n      <td>70</td>\n    </tr>\n    <tr>\n      <th>5</th>\n      <td>Dragoons</td>\n      <td>1st</td>\n      <td>Jacon</td>\n      <td>4</td>\n      <td>25</td>\n    </tr>\n    <tr>\n      <th>6</th>\n      <td>Dragoons</td>\n      <td>2nd</td>\n      <td>Ryaner</td>\n      <td>24</td>\n      <td>94</td>\n    </tr>\n    <tr>\n      <th>7</th>\n      <td>Dragoons</td>\n      <td>2nd</td>\n      <td>Sone</td>\n      <td>31</td>\n      <td>57</td>\n    </tr>\n    <tr>\n      <th>8</th>\n      <td>Scouts</td>\n      <td>1st</td>\n      <td>Sloan</td>\n      <td>2</td>\n      <td>62</td>\n    </tr>\n    <tr>\n      <th>9</th>\n      <td>Scouts</td>\n      <td>1st</td>\n      <td>Piger</td>\n      <td>3</td>\n      <td>70</td>\n    </tr>\n    <tr>\n      <th>10</th>\n      <td>Scouts</td>\n      <td>2nd</td>\n      <td>Riani</td>\n      <td>2</td>\n      <td>62</td>\n    </tr>\n    <tr>\n      <th>11</th>\n      <td>Scouts</td>\n      <td>2nd</td>\n      <td>Ali</td>\n      <td>3</td>\n      <td>70</td>\n    </tr>\n  </tbody>\n</table>\n</div>"
     },
     "metadata": {},
     "execution_count": 28
    }
   ],
   "source": [
    "regiment.groupby(['regiment','company'])\n",
    "regiment"
   ]
  },
  {
   "cell_type": "markdown",
   "metadata": {},
   "source": [
    "### Step 10. What is the number of observations in each regiment and company"
   ]
  },
  {
   "cell_type": "code",
   "execution_count": 35,
   "metadata": {},
   "outputs": [
    {
     "output_type": "execute_result",
     "data": {
      "text/plain": [
       "['c:\\\\Users\\\\Daniel\\\\Desktop\\\\The Bridge\\\\walkdabridge\\\\week4_EDA_np_pd_json_apis_regex\\\\day3_numpy_pandas_III_json\\\\exercises\\\\pandas\\\\04_Grouping\\\\Regiment',\n",
       " 'c:\\\\Users\\\\Daniel\\\\.vscode\\\\extensions\\\\ms-toolsai.jupyter-2021.6.811652604\\\\pythonFiles',\n",
       " 'c:\\\\Users\\\\Daniel\\\\.vscode\\\\extensions\\\\ms-toolsai.jupyter-2021.6.811652604\\\\pythonFiles',\n",
       " 'c:\\\\Users\\\\Daniel\\\\.vscode\\\\extensions\\\\ms-toolsai.jupyter-2021.6.811652604\\\\pythonFiles\\\\lib\\\\python',\n",
       " 'C:\\\\Users\\\\Daniel\\\\AppData\\\\Local\\\\Programs\\\\Python\\\\Python37\\\\python37.zip',\n",
       " 'C:\\\\Users\\\\Daniel\\\\AppData\\\\Local\\\\Programs\\\\Python\\\\Python37\\\\DLLs',\n",
       " 'C:\\\\Users\\\\Daniel\\\\AppData\\\\Local\\\\Programs\\\\Python\\\\Python37\\\\lib',\n",
       " 'C:\\\\Users\\\\Daniel\\\\AppData\\\\Local\\\\Programs\\\\Python\\\\Python37',\n",
       " '',\n",
       " 'C:\\\\Users\\\\Daniel\\\\AppData\\\\Roaming\\\\Python\\\\Python37\\\\site-packages',\n",
       " 'C:\\\\Users\\\\Daniel\\\\AppData\\\\Roaming\\\\Python\\\\Python37\\\\site-packages\\\\win32',\n",
       " 'C:\\\\Users\\\\Daniel\\\\AppData\\\\Roaming\\\\Python\\\\Python37\\\\site-packages\\\\win32\\\\lib',\n",
       " 'C:\\\\Users\\\\Daniel\\\\AppData\\\\Roaming\\\\Python\\\\Python37\\\\site-packages\\\\Pythonwin',\n",
       " 'C:\\\\Users\\\\Daniel\\\\AppData\\\\Local\\\\Programs\\\\Python\\\\Python37\\\\lib\\\\site-packages',\n",
       " 'C:\\\\Users\\\\Daniel\\\\AppData\\\\Roaming\\\\Python\\\\Python37\\\\site-packages\\\\IPython\\\\extensions',\n",
       " 'C:\\\\Users\\\\Daniel\\\\.ipython',\n",
       " 'c:\\\\Users\\\\Daniel\\\\Desktop\\\\The Bridge\\\\walkdabridge\\\\']"
      ]
     },
     "metadata": {},
     "execution_count": 35
    }
   ],
   "source": [
    "import sys, os\n",
    "\n",
    "dondeestoy= os.getcwd()\n",
    "carpeta_que_contiene_a_dondestoy= os.path.dirname(os.getcwd())\n",
    "carpeta_que_contiene_a_dondestoy = 'c:\\\\Users\\\\Daniel\\\\Desktop\\\\The Bridge\\\\walkdabridge\\\\'\n",
    "sys.path.append(carpeta_que_contiene_a_dondestoy)\n",
    "sys.path"
   ]
  },
  {
   "cell_type": "code",
   "execution_count": 36,
   "metadata": {},
   "outputs": [],
   "source": [
    "import walk_func as wf\n"
   ]
  },
  {
   "cell_type": "code",
   "execution_count": 43,
   "metadata": {},
   "outputs": [
    {
     "output_type": "execute_result",
     "data": {
      "text/plain": [
       "regiment\n",
       "Dragoons      4\n",
       "Nighthawks    4\n",
       "Scouts        4\n",
       "dtype: int64"
      ]
     },
     "metadata": {},
     "execution_count": 43
    }
   ],
   "source": [
    "wf.times_in_column(regiment, \"regiment\")"
   ]
  },
  {
   "cell_type": "code",
   "execution_count": 44,
   "metadata": {},
   "outputs": [
    {
     "output_type": "execute_result",
     "data": {
      "text/plain": [
       "regiment    company\n",
       "Dragoons    1st        2\n",
       "            2nd        2\n",
       "Nighthawks  1st        2\n",
       "            2nd        2\n",
       "Scouts      1st        2\n",
       "            2nd        2\n",
       "dtype: int64"
      ]
     },
     "metadata": {},
     "execution_count": 44
    }
   ],
   "source": [
    "regiment.groupby(['regiment','company']).size()"
   ]
  },
  {
   "cell_type": "markdown",
   "metadata": {},
   "source": [
    "### Step 11. Iterate over a group and print the name and the whole data from the regiment"
   ]
  },
  {
   "cell_type": "code",
   "execution_count": 45,
   "metadata": {},
   "outputs": [
    {
     "output_type": "stream",
     "name": "stdout",
     "text": [
      "Dragoons\n   regiment company    name  preTestScore  postTestScore\n4  Dragoons     1st   Cooze             3             70\n5  Dragoons     1st   Jacon             4             25\n6  Dragoons     2nd  Ryaner            24             94\n7  Dragoons     2nd    Sone            31             57\n\n\nNighthawks\n     regiment company      name  preTestScore  postTestScore\n0  Nighthawks     1st    Miller             4             25\n1  Nighthawks     1st  Jacobson            24             94\n2  Nighthawks     2nd       Ali            31             57\n3  Nighthawks     2nd    Milner             2             62\n\n\nScouts\n   regiment company   name  preTestScore  postTestScore\n8    Scouts     1st  Sloan             2             62\n9    Scouts     1st  Piger             3             70\n10   Scouts     2nd  Riani             2             62\n11   Scouts     2nd    Ali             3             70\n\n\n"
     ]
    }
   ],
   "source": [
    "groups = regiment.groupby(\"regiment\")\n",
    "  \n",
    "for name, group in groups:\n",
    "    print(name)\n",
    "    print(group)\n",
    "    print(\"\\n\")"
   ]
  },
  {
   "cell_type": "code",
   "execution_count": null,
   "metadata": {},
   "outputs": [],
   "source": []
  }
 ],
 "metadata": {
  "kernelspec": {
   "name": "python374jvsc74a57bd016eb897c26cdfcf18817bc60a8e0737e3939ff1e8491198c807979170104e811",
   "display_name": "Python 3.7.4 64-bit"
  },
  "language_info": {
   "codemirror_mode": {
    "name": "ipython",
    "version": 3
   },
   "file_extension": ".py",
   "mimetype": "text/x-python",
   "name": "python",
   "nbconvert_exporter": "python",
   "pygments_lexer": "ipython3",
   "version": "3.7.4"
  },
  "metadata": {
   "interpreter": {
    "hash": "16eb897c26cdfcf18817bc60a8e0737e3939ff1e8491198c807979170104e811"
   }
  }
 },
 "nbformat": 4,
 "nbformat_minor": 4
}