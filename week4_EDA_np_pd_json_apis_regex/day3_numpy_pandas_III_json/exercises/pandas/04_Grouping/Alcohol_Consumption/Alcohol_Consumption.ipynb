{
 "cells": [
  {
   "cell_type": "markdown",
   "metadata": {},
   "source": [
    "# 04 - Grouping"
   ]
  },
  {
   "cell_type": "markdown",
   "metadata": {},
   "source": [
    "### Step 1. Import the necessary libraries"
   ]
  },
  {
   "cell_type": "code",
   "execution_count": 1,
   "metadata": {},
   "outputs": [],
   "source": [
    "import pandas as pd\n",
    "import numpy as np"
   ]
  },
  {
   "cell_type": "markdown",
   "metadata": {},
   "source": [
    "### Step 2. Import the dataset from this [address](https://raw.githubusercontent.com/justmarkham/DAT8/master/data/drinks.csv). "
   ]
  },
  {
   "cell_type": "markdown",
   "metadata": {},
   "source": [
    "### Step 3. Assign it to a variable called drinks."
   ]
  },
  {
   "cell_type": "code",
   "execution_count": 2,
   "metadata": {},
   "outputs": [
    {
     "output_type": "execute_result",
     "data": {
      "text/plain": [
       "         country  beer_servings  spirit_servings  wine_servings  \\\n",
       "0    Afghanistan              0                0              0   \n",
       "1        Albania             89              132             54   \n",
       "2        Algeria             25                0             14   \n",
       "3        Andorra            245              138            312   \n",
       "4         Angola            217               57             45   \n",
       "..           ...            ...              ...            ...   \n",
       "188    Venezuela            333              100              3   \n",
       "189      Vietnam            111                2              1   \n",
       "190        Yemen              6                0              0   \n",
       "191       Zambia             32               19              4   \n",
       "192     Zimbabwe             64               18              4   \n",
       "\n",
       "     total_litres_of_pure_alcohol continent  \n",
       "0                             0.0        AS  \n",
       "1                             4.9        EU  \n",
       "2                             0.7        AF  \n",
       "3                            12.4        EU  \n",
       "4                             5.9        AF  \n",
       "..                            ...       ...  \n",
       "188                           7.7        SA  \n",
       "189                           2.0        AS  \n",
       "190                           0.1        AS  \n",
       "191                           2.5        AF  \n",
       "192                           4.7        AF  \n",
       "\n",
       "[193 rows x 6 columns]"
      ],
      "text/html": "<div>\n<style scoped>\n    .dataframe tbody tr th:only-of-type {\n        vertical-align: middle;\n    }\n\n    .dataframe tbody tr th {\n        vertical-align: top;\n    }\n\n    .dataframe thead th {\n        text-align: right;\n    }\n</style>\n<table border=\"1\" class=\"dataframe\">\n  <thead>\n    <tr style=\"text-align: right;\">\n      <th></th>\n      <th>country</th>\n      <th>beer_servings</th>\n      <th>spirit_servings</th>\n      <th>wine_servings</th>\n      <th>total_litres_of_pure_alcohol</th>\n      <th>continent</th>\n    </tr>\n  </thead>\n  <tbody>\n    <tr>\n      <th>0</th>\n      <td>Afghanistan</td>\n      <td>0</td>\n      <td>0</td>\n      <td>0</td>\n      <td>0.0</td>\n      <td>AS</td>\n    </tr>\n    <tr>\n      <th>1</th>\n      <td>Albania</td>\n      <td>89</td>\n      <td>132</td>\n      <td>54</td>\n      <td>4.9</td>\n      <td>EU</td>\n    </tr>\n    <tr>\n      <th>2</th>\n      <td>Algeria</td>\n      <td>25</td>\n      <td>0</td>\n      <td>14</td>\n      <td>0.7</td>\n      <td>AF</td>\n    </tr>\n    <tr>\n      <th>3</th>\n      <td>Andorra</td>\n      <td>245</td>\n      <td>138</td>\n      <td>312</td>\n      <td>12.4</td>\n      <td>EU</td>\n    </tr>\n    <tr>\n      <th>4</th>\n      <td>Angola</td>\n      <td>217</td>\n      <td>57</td>\n      <td>45</td>\n      <td>5.9</td>\n      <td>AF</td>\n    </tr>\n    <tr>\n      <th>...</th>\n      <td>...</td>\n      <td>...</td>\n      <td>...</td>\n      <td>...</td>\n      <td>...</td>\n      <td>...</td>\n    </tr>\n    <tr>\n      <th>188</th>\n      <td>Venezuela</td>\n      <td>333</td>\n      <td>100</td>\n      <td>3</td>\n      <td>7.7</td>\n      <td>SA</td>\n    </tr>\n    <tr>\n      <th>189</th>\n      <td>Vietnam</td>\n      <td>111</td>\n      <td>2</td>\n      <td>1</td>\n      <td>2.0</td>\n      <td>AS</td>\n    </tr>\n    <tr>\n      <th>190</th>\n      <td>Yemen</td>\n      <td>6</td>\n      <td>0</td>\n      <td>0</td>\n      <td>0.1</td>\n      <td>AS</td>\n    </tr>\n    <tr>\n      <th>191</th>\n      <td>Zambia</td>\n      <td>32</td>\n      <td>19</td>\n      <td>4</td>\n      <td>2.5</td>\n      <td>AF</td>\n    </tr>\n    <tr>\n      <th>192</th>\n      <td>Zimbabwe</td>\n      <td>64</td>\n      <td>18</td>\n      <td>4</td>\n      <td>4.7</td>\n      <td>AF</td>\n    </tr>\n  </tbody>\n</table>\n<p>193 rows × 6 columns</p>\n</div>"
     },
     "metadata": {},
     "execution_count": 2
    }
   ],
   "source": [
    "drinks = pd.read_csv('https://raw.githubusercontent.com/justmarkham/DAT8/master/data/drinks.csv')\n",
    "drinks"
   ]
  },
  {
   "cell_type": "markdown",
   "metadata": {},
   "source": [
    "### Step 4. Which continent drinks more beer on average?"
   ]
  },
  {
   "cell_type": "code",
   "execution_count": 71,
   "metadata": {},
   "outputs": [
    {
     "output_type": "execute_result",
     "data": {
      "text/plain": [
       "  continent  beer_servings  spirit_servings  wine_servings  \\\n",
       "0        AF      61.471698        16.339623      16.264151   \n",
       "1        AS      37.045455        60.840909       9.068182   \n",
       "2        EU     193.777778       132.555556     142.222222   \n",
       "3        OC      89.687500        58.437500      35.625000   \n",
       "4        SA     175.083333       114.750000      62.416667   \n",
       "\n",
       "   total_litres_of_pure_alcohol  \n",
       "0                      3.007547  \n",
       "1                      2.170455  \n",
       "2                      8.617778  \n",
       "3                      3.381250  \n",
       "4                      6.308333  "
      ],
      "text/html": "<div>\n<style scoped>\n    .dataframe tbody tr th:only-of-type {\n        vertical-align: middle;\n    }\n\n    .dataframe tbody tr th {\n        vertical-align: top;\n    }\n\n    .dataframe thead th {\n        text-align: right;\n    }\n</style>\n<table border=\"1\" class=\"dataframe\">\n  <thead>\n    <tr style=\"text-align: right;\">\n      <th></th>\n      <th>continent</th>\n      <th>beer_servings</th>\n      <th>spirit_servings</th>\n      <th>wine_servings</th>\n      <th>total_litres_of_pure_alcohol</th>\n    </tr>\n  </thead>\n  <tbody>\n    <tr>\n      <th>0</th>\n      <td>AF</td>\n      <td>61.471698</td>\n      <td>16.339623</td>\n      <td>16.264151</td>\n      <td>3.007547</td>\n    </tr>\n    <tr>\n      <th>1</th>\n      <td>AS</td>\n      <td>37.045455</td>\n      <td>60.840909</td>\n      <td>9.068182</td>\n      <td>2.170455</td>\n    </tr>\n    <tr>\n      <th>2</th>\n      <td>EU</td>\n      <td>193.777778</td>\n      <td>132.555556</td>\n      <td>142.222222</td>\n      <td>8.617778</td>\n    </tr>\n    <tr>\n      <th>3</th>\n      <td>OC</td>\n      <td>89.687500</td>\n      <td>58.437500</td>\n      <td>35.625000</td>\n      <td>3.381250</td>\n    </tr>\n    <tr>\n      <th>4</th>\n      <td>SA</td>\n      <td>175.083333</td>\n      <td>114.750000</td>\n      <td>62.416667</td>\n      <td>6.308333</td>\n    </tr>\n  </tbody>\n</table>\n</div>"
     },
     "metadata": {},
     "execution_count": 71
    }
   ],
   "source": [
    "continents = drinks.groupby(\"continent\")\n",
    "means = continents.mean()\n",
    "mean_df = means.reset_index()\n",
    "mean_df\n",
    "#cc = mean_df.beer_servings.idxmax(axis=0)\n",
    "#mean_df.iloc[[cc]]"
   ]
  },
  {
   "cell_type": "markdown",
   "metadata": {},
   "source": [
    "### Step 5. For each continent print the statistics for wine consumption."
   ]
  },
  {
   "cell_type": "code",
   "execution_count": 53,
   "metadata": {},
   "outputs": [
    {
     "output_type": "stream",
     "name": "stdout",
     "text": [
      "Continent:  AF  Mean Wine Consumption:  16.264150943396228\nContinent:  AS  Mean Wine Consumption:  9.068181818181818\nContinent:  EU  Mean Wine Consumption:  142.22222222222223\nContinent:  OC  Mean Wine Consumption:  35.625\nContinent:  SA  Mean Wine Consumption:  62.416666666666664\n"
     ]
    }
   ],
   "source": [
    "#print(mean_df.iloc[: , 3:4])\n",
    "\n",
    "for index, row in mean_df.iterrows():\n",
    "    print(\"Continent: \", row['continent'], \" Mean Wine Consumption: \", row['wine_servings'])\n",
    "\n"
   ]
  },
  {
   "cell_type": "markdown",
   "metadata": {},
   "source": [
    "### Step 6. Print the mean alcohol consumption per continent for every column"
   ]
  },
  {
   "cell_type": "code",
   "execution_count": 62,
   "metadata": {},
   "outputs": [
    {
     "output_type": "stream",
     "name": "stdout",
     "text": [
      "Mean consumption for each continent: \nContinent:  AF | Beer Consumption:  61.471698113207545 | Spirits Consumption:  16.339622641509433 | Wine Consumption:  16.264150943396228 | Tot Litres of Pure Alcohol:  3.00754716981132\nContinent:  AS | Beer Consumption:  37.04545454545455 | Spirits Consumption:  60.84090909090909 | Wine Consumption:  9.068181818181818 | Tot Litres of Pure Alcohol:  2.1704545454545454\nContinent:  EU | Beer Consumption:  193.77777777777777 | Spirits Consumption:  132.55555555555554 | Wine Consumption:  142.22222222222223 | Tot Litres of Pure Alcohol:  8.617777777777777\nContinent:  OC | Beer Consumption:  89.6875 | Spirits Consumption:  58.4375 | Wine Consumption:  35.625 | Tot Litres of Pure Alcohol:  3.3812500000000005\nContinent:  SA | Beer Consumption:  175.08333333333334 | Spirits Consumption:  114.75 | Wine Consumption:  62.416666666666664 | Tot Litres of Pure Alcohol:  6.308333333333334\n"
     ]
    }
   ],
   "source": [
    "print(\"Mean consumption for each continent: \")\n",
    "for index, row in mean_df.iterrows():\n",
    "    print(\"Continent: \", row['continent'], \"| Beer Consumption: \", row['beer_servings'],\"| Spirits Consumption: \", row['spirit_servings'], \"| Wine Consumption: \", row['wine_servings'],\"| Tot Litres of Pure Alcohol: \", row['total_litres_of_pure_alcohol'])"
   ]
  },
  {
   "cell_type": "markdown",
   "metadata": {},
   "source": [
    "### Step 7. Print the median alcohol consumption per continent for every column"
   ]
  },
  {
   "cell_type": "code",
   "execution_count": 61,
   "metadata": {},
   "outputs": [
    {
     "output_type": "stream",
     "name": "stdout",
     "text": [
      "Median consumption for each continent: \nContinent:  AF | Beer Consumption:  32.0 | Spirits Consumption:  3.0 | Wine Consumption:  2.0 | Tot Litres of Pure Alcohol:  2.3\nContinent:  AS | Beer Consumption:  17.5 | Spirits Consumption:  16.0 | Wine Consumption:  1.0 | Tot Litres of Pure Alcohol:  1.2\nContinent:  EU | Beer Consumption:  219.0 | Spirits Consumption:  122.0 | Wine Consumption:  128.0 | Tot Litres of Pure Alcohol:  10.0\nContinent:  OC | Beer Consumption:  52.5 | Spirits Consumption:  37.0 | Wine Consumption:  8.5 | Tot Litres of Pure Alcohol:  1.75\nContinent:  SA | Beer Consumption:  162.5 | Spirits Consumption:  108.5 | Wine Consumption:  12.0 | Tot Litres of Pure Alcohol:  6.85\n"
     ]
    }
   ],
   "source": [
    "conti = drinks.groupby(\"continent\")\n",
    "med = conti.median()\n",
    "med = med.reset_index()\n",
    "print(\"Median consumption for each continent: \")\n",
    "for index, row in med.iterrows():\n",
    "    print(\"Continent: \", row['continent'], \"| Beer Consumption: \", row['beer_servings'],\"| Spirits Consumption: \", row['spirit_servings'], \"| Wine Consumption: \", row['wine_servings'],\"| Tot Litres of Pure Alcohol: \", row['total_litres_of_pure_alcohol'])"
   ]
  },
  {
   "cell_type": "markdown",
   "metadata": {},
   "source": [
    "### Step 8. Print the mean, min and max values for spirit consumption."
   ]
  },
  {
   "cell_type": "code",
   "execution_count": 69,
   "metadata": {},
   "outputs": [
    {
     "output_type": "stream",
     "name": "stdout",
     "text": [
      "Minimum spirit consumption:  0\nMaximum spirit consumption:  438\nMean spirit consumption:  80.99481865284974\n"
     ]
    }
   ],
   "source": [
    "print(\"Minimum spirit consumption: \", drinks.spirit_servings.min())\n",
    "print(\"Maximum spirit consumption: \", drinks.spirit_servings.max())\n",
    "print(\"Mean spirit consumption: \", drinks.spirit_servings.mean())"
   ]
  },
  {
   "cell_type": "code",
   "execution_count": 72,
   "metadata": {},
   "outputs": [
    {
     "output_type": "execute_result",
     "data": {
      "text/plain": [
       "                                beer_servings  spirit_servings  wine_servings  \\\n",
       "continent country                                                               \n",
       "AS        Afghanistan                       0                0              0   \n",
       "          Bahrain                          42               63              7   \n",
       "          Bangladesh                        0                0              0   \n",
       "          Bhutan                           23                0              0   \n",
       "          Brunei                           31                2              1   \n",
       "          Cambodia                         57               65              1   \n",
       "          China                            79              192              8   \n",
       "          India                             9              114              0   \n",
       "          Indonesia                         5                1              0   \n",
       "          Iran                              0                0              0   \n",
       "          Iraq                              9                3              0   \n",
       "          Israel                           63               69              9   \n",
       "          Japan                            77              202             16   \n",
       "          Jordan                            6               21              1   \n",
       "          Kazakhstan                      124              246             12   \n",
       "          Kuwait                            0                0              0   \n",
       "          Kyrgyzstan                       31               97              6   \n",
       "          Laos                             62                0            123   \n",
       "          Lebanon                          20               55             31   \n",
       "          Malaysia                         13                4              0   \n",
       "          Maldives                          0                0              0   \n",
       "          Mongolia                         77              189              8   \n",
       "          Myanmar                           5                1              0   \n",
       "          Nepal                             5                6              0   \n",
       "          North Korea                       0                0              0   \n",
       "          Oman                             22               16              1   \n",
       "          Pakistan                          0                0              0   \n",
       "          Philippines                      71              186              1   \n",
       "          Qatar                             1               42              7   \n",
       "          Russian Federation              247              326             73   \n",
       "          Saudi Arabia                      0                5              0   \n",
       "          Singapore                        60               12             11   \n",
       "          South Korea                     140               16              9   \n",
       "          Sri Lanka                        16              104              0   \n",
       "          Syria                             5               35             16   \n",
       "          Tajikistan                        2               15              0   \n",
       "          Thailand                         99              258              1   \n",
       "          Timor-Leste                       1                1              4   \n",
       "          Turkey                           51               22              7   \n",
       "          Turkmenistan                     19               71             32   \n",
       "          United Arab Emirates             16              135              5   \n",
       "          Uzbekistan                       25              101              8   \n",
       "          Vietnam                         111                2              1   \n",
       "          Yemen                             6                0              0   \n",
       "\n",
       "                                total_litres_of_pure_alcohol  \n",
       "continent country                                             \n",
       "AS        Afghanistan                                    0.0  \n",
       "          Bahrain                                        2.0  \n",
       "          Bangladesh                                     0.0  \n",
       "          Bhutan                                         0.4  \n",
       "          Brunei                                         0.6  \n",
       "          Cambodia                                       2.2  \n",
       "          China                                          5.0  \n",
       "          India                                          2.2  \n",
       "          Indonesia                                      0.1  \n",
       "          Iran                                           0.0  \n",
       "          Iraq                                           0.2  \n",
       "          Israel                                         2.5  \n",
       "          Japan                                          7.0  \n",
       "          Jordan                                         0.5  \n",
       "          Kazakhstan                                     6.8  \n",
       "          Kuwait                                         0.0  \n",
       "          Kyrgyzstan                                     2.4  \n",
       "          Laos                                           6.2  \n",
       "          Lebanon                                        1.9  \n",
       "          Malaysia                                       0.3  \n",
       "          Maldives                                       0.0  \n",
       "          Mongolia                                       4.9  \n",
       "          Myanmar                                        0.1  \n",
       "          Nepal                                          0.2  \n",
       "          North Korea                                    0.0  \n",
       "          Oman                                           0.7  \n",
       "          Pakistan                                       0.0  \n",
       "          Philippines                                    4.6  \n",
       "          Qatar                                          0.9  \n",
       "          Russian Federation                            11.5  \n",
       "          Saudi Arabia                                   0.1  \n",
       "          Singapore                                      1.5  \n",
       "          South Korea                                    9.8  \n",
       "          Sri Lanka                                      2.2  \n",
       "          Syria                                          1.0  \n",
       "          Tajikistan                                     0.3  \n",
       "          Thailand                                       6.4  \n",
       "          Timor-Leste                                    0.1  \n",
       "          Turkey                                         1.4  \n",
       "          Turkmenistan                                   2.2  \n",
       "          United Arab Emirates                           2.8  \n",
       "          Uzbekistan                                     2.4  \n",
       "          Vietnam                                        2.0  \n",
       "          Yemen                                          0.1  "
      ],
      "text/html": "<div>\n<style scoped>\n    .dataframe tbody tr th:only-of-type {\n        vertical-align: middle;\n    }\n\n    .dataframe tbody tr th {\n        vertical-align: top;\n    }\n\n    .dataframe thead th {\n        text-align: right;\n    }\n</style>\n<table border=\"1\" class=\"dataframe\">\n  <thead>\n    <tr style=\"text-align: right;\">\n      <th></th>\n      <th></th>\n      <th>beer_servings</th>\n      <th>spirit_servings</th>\n      <th>wine_servings</th>\n      <th>total_litres_of_pure_alcohol</th>\n    </tr>\n    <tr>\n      <th>continent</th>\n      <th>country</th>\n      <th></th>\n      <th></th>\n      <th></th>\n      <th></th>\n    </tr>\n  </thead>\n  <tbody>\n    <tr>\n      <th rowspan=\"44\" valign=\"top\">AS</th>\n      <th>Afghanistan</th>\n      <td>0</td>\n      <td>0</td>\n      <td>0</td>\n      <td>0.0</td>\n    </tr>\n    <tr>\n      <th>Bahrain</th>\n      <td>42</td>\n      <td>63</td>\n      <td>7</td>\n      <td>2.0</td>\n    </tr>\n    <tr>\n      <th>Bangladesh</th>\n      <td>0</td>\n      <td>0</td>\n      <td>0</td>\n      <td>0.0</td>\n    </tr>\n    <tr>\n      <th>Bhutan</th>\n      <td>23</td>\n      <td>0</td>\n      <td>0</td>\n      <td>0.4</td>\n    </tr>\n    <tr>\n      <th>Brunei</th>\n      <td>31</td>\n      <td>2</td>\n      <td>1</td>\n      <td>0.6</td>\n    </tr>\n    <tr>\n      <th>Cambodia</th>\n      <td>57</td>\n      <td>65</td>\n      <td>1</td>\n      <td>2.2</td>\n    </tr>\n    <tr>\n      <th>China</th>\n      <td>79</td>\n      <td>192</td>\n      <td>8</td>\n      <td>5.0</td>\n    </tr>\n    <tr>\n      <th>India</th>\n      <td>9</td>\n      <td>114</td>\n      <td>0</td>\n      <td>2.2</td>\n    </tr>\n    <tr>\n      <th>Indonesia</th>\n      <td>5</td>\n      <td>1</td>\n      <td>0</td>\n      <td>0.1</td>\n    </tr>\n    <tr>\n      <th>Iran</th>\n      <td>0</td>\n      <td>0</td>\n      <td>0</td>\n      <td>0.0</td>\n    </tr>\n    <tr>\n      <th>Iraq</th>\n      <td>9</td>\n      <td>3</td>\n      <td>0</td>\n      <td>0.2</td>\n    </tr>\n    <tr>\n      <th>Israel</th>\n      <td>63</td>\n      <td>69</td>\n      <td>9</td>\n      <td>2.5</td>\n    </tr>\n    <tr>\n      <th>Japan</th>\n      <td>77</td>\n      <td>202</td>\n      <td>16</td>\n      <td>7.0</td>\n    </tr>\n    <tr>\n      <th>Jordan</th>\n      <td>6</td>\n      <td>21</td>\n      <td>1</td>\n      <td>0.5</td>\n    </tr>\n    <tr>\n      <th>Kazakhstan</th>\n      <td>124</td>\n      <td>246</td>\n      <td>12</td>\n      <td>6.8</td>\n    </tr>\n    <tr>\n      <th>Kuwait</th>\n      <td>0</td>\n      <td>0</td>\n      <td>0</td>\n      <td>0.0</td>\n    </tr>\n    <tr>\n      <th>Kyrgyzstan</th>\n      <td>31</td>\n      <td>97</td>\n      <td>6</td>\n      <td>2.4</td>\n    </tr>\n    <tr>\n      <th>Laos</th>\n      <td>62</td>\n      <td>0</td>\n      <td>123</td>\n      <td>6.2</td>\n    </tr>\n    <tr>\n      <th>Lebanon</th>\n      <td>20</td>\n      <td>55</td>\n      <td>31</td>\n      <td>1.9</td>\n    </tr>\n    <tr>\n      <th>Malaysia</th>\n      <td>13</td>\n      <td>4</td>\n      <td>0</td>\n      <td>0.3</td>\n    </tr>\n    <tr>\n      <th>Maldives</th>\n      <td>0</td>\n      <td>0</td>\n      <td>0</td>\n      <td>0.0</td>\n    </tr>\n    <tr>\n      <th>Mongolia</th>\n      <td>77</td>\n      <td>189</td>\n      <td>8</td>\n      <td>4.9</td>\n    </tr>\n    <tr>\n      <th>Myanmar</th>\n      <td>5</td>\n      <td>1</td>\n      <td>0</td>\n      <td>0.1</td>\n    </tr>\n    <tr>\n      <th>Nepal</th>\n      <td>5</td>\n      <td>6</td>\n      <td>0</td>\n      <td>0.2</td>\n    </tr>\n    <tr>\n      <th>North Korea</th>\n      <td>0</td>\n      <td>0</td>\n      <td>0</td>\n      <td>0.0</td>\n    </tr>\n    <tr>\n      <th>Oman</th>\n      <td>22</td>\n      <td>16</td>\n      <td>1</td>\n      <td>0.7</td>\n    </tr>\n    <tr>\n      <th>Pakistan</th>\n      <td>0</td>\n      <td>0</td>\n      <td>0</td>\n      <td>0.0</td>\n    </tr>\n    <tr>\n      <th>Philippines</th>\n      <td>71</td>\n      <td>186</td>\n      <td>1</td>\n      <td>4.6</td>\n    </tr>\n    <tr>\n      <th>Qatar</th>\n      <td>1</td>\n      <td>42</td>\n      <td>7</td>\n      <td>0.9</td>\n    </tr>\n    <tr>\n      <th>Russian Federation</th>\n      <td>247</td>\n      <td>326</td>\n      <td>73</td>\n      <td>11.5</td>\n    </tr>\n    <tr>\n      <th>Saudi Arabia</th>\n      <td>0</td>\n      <td>5</td>\n      <td>0</td>\n      <td>0.1</td>\n    </tr>\n    <tr>\n      <th>Singapore</th>\n      <td>60</td>\n      <td>12</td>\n      <td>11</td>\n      <td>1.5</td>\n    </tr>\n    <tr>\n      <th>South Korea</th>\n      <td>140</td>\n      <td>16</td>\n      <td>9</td>\n      <td>9.8</td>\n    </tr>\n    <tr>\n      <th>Sri Lanka</th>\n      <td>16</td>\n      <td>104</td>\n      <td>0</td>\n      <td>2.2</td>\n    </tr>\n    <tr>\n      <th>Syria</th>\n      <td>5</td>\n      <td>35</td>\n      <td>16</td>\n      <td>1.0</td>\n    </tr>\n    <tr>\n      <th>Tajikistan</th>\n      <td>2</td>\n      <td>15</td>\n      <td>0</td>\n      <td>0.3</td>\n    </tr>\n    <tr>\n      <th>Thailand</th>\n      <td>99</td>\n      <td>258</td>\n      <td>1</td>\n      <td>6.4</td>\n    </tr>\n    <tr>\n      <th>Timor-Leste</th>\n      <td>1</td>\n      <td>1</td>\n      <td>4</td>\n      <td>0.1</td>\n    </tr>\n    <tr>\n      <th>Turkey</th>\n      <td>51</td>\n      <td>22</td>\n      <td>7</td>\n      <td>1.4</td>\n    </tr>\n    <tr>\n      <th>Turkmenistan</th>\n      <td>19</td>\n      <td>71</td>\n      <td>32</td>\n      <td>2.2</td>\n    </tr>\n    <tr>\n      <th>United Arab Emirates</th>\n      <td>16</td>\n      <td>135</td>\n      <td>5</td>\n      <td>2.8</td>\n    </tr>\n    <tr>\n      <th>Uzbekistan</th>\n      <td>25</td>\n      <td>101</td>\n      <td>8</td>\n      <td>2.4</td>\n    </tr>\n    <tr>\n      <th>Vietnam</th>\n      <td>111</td>\n      <td>2</td>\n      <td>1</td>\n      <td>2.0</td>\n    </tr>\n    <tr>\n      <th>Yemen</th>\n      <td>6</td>\n      <td>0</td>\n      <td>0</td>\n      <td>0.1</td>\n    </tr>\n  </tbody>\n</table>\n</div>"
     },
     "metadata": {},
     "execution_count": 72
    }
   ],
   "source": [
    "drinks[drinks['continent']=='AS'].groupby(['continent','country']).max()"
   ]
  },
  {
   "cell_type": "code",
   "execution_count": null,
   "metadata": {},
   "outputs": [],
   "source": []
  }
 ],
 "metadata": {
  "kernelspec": {
   "name": "python374jvsc74a57bd016eb897c26cdfcf18817bc60a8e0737e3939ff1e8491198c807979170104e811",
   "display_name": "Python 3.7.4 64-bit"
  },
  "language_info": {
   "codemirror_mode": {
    "name": "ipython",
    "version": 3
   },
   "file_extension": ".py",
   "mimetype": "text/x-python",
   "name": "python",
   "nbconvert_exporter": "python",
   "pygments_lexer": "ipython3",
   "version": "3.7.4"
  },
  "metadata": {
   "interpreter": {
    "hash": "16eb897c26cdfcf18817bc60a8e0737e3939ff1e8491198c807979170104e811"
   }
  }
 },
 "nbformat": 4,
 "nbformat_minor": 4
}