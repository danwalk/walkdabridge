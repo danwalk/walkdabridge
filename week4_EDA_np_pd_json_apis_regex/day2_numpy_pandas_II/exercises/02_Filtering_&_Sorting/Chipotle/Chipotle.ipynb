{
 "cells": [
  {
   "cell_type": "markdown",
   "metadata": {},
   "source": [
    "# 02 - Filtering and Sorting Data"
   ]
  },
  {
   "cell_type": "markdown",
   "metadata": {},
   "source": [
    "\n",
    "\n",
    "### Step 1. Import the necessary libraries"
   ]
  },
  {
   "cell_type": "code",
   "execution_count": 11,
   "metadata": {},
   "outputs": [],
   "source": [
    "import pandas as pd\n",
    "import numpy as np"
   ]
  },
  {
   "cell_type": "markdown",
   "metadata": {},
   "source": [
    "### Step 2. Import the dataset from this [address](https://raw.githubusercontent.com/justmarkham/DAT8/master/data/chipotle.tsv). Assign it to a variable called chipo.\n",
    "\n",
    "This time we are going to pull data directly from the internet."
   ]
  },
  {
   "cell_type": "code",
   "execution_count": 7,
   "metadata": {},
   "outputs": [],
   "source": [
    "address = \"https://raw.githubusercontent.com/justmarkham/DAT8/master/data/chipotle.tsv\""
   ]
  },
  {
   "cell_type": "code",
   "execution_count": 12,
   "metadata": {},
   "outputs": [
    {
     "output_type": "execute_result",
     "data": {
      "text/plain": [
       "      order_id  quantity                              item_name  \\\n",
       "0            1         1           Chips and Fresh Tomato Salsa   \n",
       "1            1         1                                   Izze   \n",
       "2            1         1                       Nantucket Nectar   \n",
       "3            1         1  Chips and Tomatillo-Green Chili Salsa   \n",
       "4            2         2                           Chicken Bowl   \n",
       "...        ...       ...                                    ...   \n",
       "4617      1833         1                          Steak Burrito   \n",
       "4618      1833         1                          Steak Burrito   \n",
       "4619      1834         1                     Chicken Salad Bowl   \n",
       "4620      1834         1                     Chicken Salad Bowl   \n",
       "4621      1834         1                     Chicken Salad Bowl   \n",
       "\n",
       "                                     choice_description item_price  \n",
       "0                                                   NaN     $2.39   \n",
       "1                                          [Clementine]     $3.39   \n",
       "2                                               [Apple]     $3.39   \n",
       "3                                                   NaN     $2.39   \n",
       "4     [Tomatillo-Red Chili Salsa (Hot), [Black Beans...    $16.98   \n",
       "...                                                 ...        ...  \n",
       "4617  [Fresh Tomato Salsa, [Rice, Black Beans, Sour ...    $11.75   \n",
       "4618  [Fresh Tomato Salsa, [Rice, Sour Cream, Cheese...    $11.75   \n",
       "4619  [Fresh Tomato Salsa, [Fajita Vegetables, Pinto...    $11.25   \n",
       "4620  [Fresh Tomato Salsa, [Fajita Vegetables, Lettu...     $8.75   \n",
       "4621  [Fresh Tomato Salsa, [Fajita Vegetables, Pinto...     $8.75   \n",
       "\n",
       "[4622 rows x 5 columns]"
      ],
      "text/html": "<div>\n<style scoped>\n    .dataframe tbody tr th:only-of-type {\n        vertical-align: middle;\n    }\n\n    .dataframe tbody tr th {\n        vertical-align: top;\n    }\n\n    .dataframe thead th {\n        text-align: right;\n    }\n</style>\n<table border=\"1\" class=\"dataframe\">\n  <thead>\n    <tr style=\"text-align: right;\">\n      <th></th>\n      <th>order_id</th>\n      <th>quantity</th>\n      <th>item_name</th>\n      <th>choice_description</th>\n      <th>item_price</th>\n    </tr>\n  </thead>\n  <tbody>\n    <tr>\n      <th>0</th>\n      <td>1</td>\n      <td>1</td>\n      <td>Chips and Fresh Tomato Salsa</td>\n      <td>NaN</td>\n      <td>$2.39</td>\n    </tr>\n    <tr>\n      <th>1</th>\n      <td>1</td>\n      <td>1</td>\n      <td>Izze</td>\n      <td>[Clementine]</td>\n      <td>$3.39</td>\n    </tr>\n    <tr>\n      <th>2</th>\n      <td>1</td>\n      <td>1</td>\n      <td>Nantucket Nectar</td>\n      <td>[Apple]</td>\n      <td>$3.39</td>\n    </tr>\n    <tr>\n      <th>3</th>\n      <td>1</td>\n      <td>1</td>\n      <td>Chips and Tomatillo-Green Chili Salsa</td>\n      <td>NaN</td>\n      <td>$2.39</td>\n    </tr>\n    <tr>\n      <th>4</th>\n      <td>2</td>\n      <td>2</td>\n      <td>Chicken Bowl</td>\n      <td>[Tomatillo-Red Chili Salsa (Hot), [Black Beans...</td>\n      <td>$16.98</td>\n    </tr>\n    <tr>\n      <th>...</th>\n      <td>...</td>\n      <td>...</td>\n      <td>...</td>\n      <td>...</td>\n      <td>...</td>\n    </tr>\n    <tr>\n      <th>4617</th>\n      <td>1833</td>\n      <td>1</td>\n      <td>Steak Burrito</td>\n      <td>[Fresh Tomato Salsa, [Rice, Black Beans, Sour ...</td>\n      <td>$11.75</td>\n    </tr>\n    <tr>\n      <th>4618</th>\n      <td>1833</td>\n      <td>1</td>\n      <td>Steak Burrito</td>\n      <td>[Fresh Tomato Salsa, [Rice, Sour Cream, Cheese...</td>\n      <td>$11.75</td>\n    </tr>\n    <tr>\n      <th>4619</th>\n      <td>1834</td>\n      <td>1</td>\n      <td>Chicken Salad Bowl</td>\n      <td>[Fresh Tomato Salsa, [Fajita Vegetables, Pinto...</td>\n      <td>$11.25</td>\n    </tr>\n    <tr>\n      <th>4620</th>\n      <td>1834</td>\n      <td>1</td>\n      <td>Chicken Salad Bowl</td>\n      <td>[Fresh Tomato Salsa, [Fajita Vegetables, Lettu...</td>\n      <td>$8.75</td>\n    </tr>\n    <tr>\n      <th>4621</th>\n      <td>1834</td>\n      <td>1</td>\n      <td>Chicken Salad Bowl</td>\n      <td>[Fresh Tomato Salsa, [Fajita Vegetables, Pinto...</td>\n      <td>$8.75</td>\n    </tr>\n  </tbody>\n</table>\n<p>4622 rows × 5 columns</p>\n</div>"
     },
     "metadata": {},
     "execution_count": 12
    }
   ],
   "source": [
    "chipo = pd.read_csv(\"https://raw.githubusercontent.com/justmarkham/DAT8/master/data/chipotle.tsv\", sep='\\t')\n",
    "chipo"
   ]
  },
  {
   "cell_type": "markdown",
   "metadata": {},
   "source": [
    "### Step 3. Name of the most expensive products (item_name)\n",
    "\n",
    "¿Recuerdas el `map`? En **pandas** tienes el método [`apply`](https://pandas.pydata.org/pandas-docs/stable/reference/api/pandas.DataFrame.apply.html) y en para resolver este ejercicio te puede ser muy útil. \n",
    "\n",
    "Pero no acaba ahí https://stackoverflow.com/questions/19798153/difference-between-map-applymap-and-apply-methods-in-pandas"
   ]
  },
  {
   "cell_type": "code",
   "execution_count": 13,
   "metadata": {},
   "outputs": [
    {
     "output_type": "execute_result",
     "data": {
      "text/plain": [
       "                         item_name item_price\n",
       "3598  Chips and Fresh Tomato Salsa    $44.25 \n",
       "3480                 Carnitas Bowl    $35.25 \n",
       "1254               Chicken Burrito    $35.00 "
      ],
      "text/html": "<div>\n<style scoped>\n    .dataframe tbody tr th:only-of-type {\n        vertical-align: middle;\n    }\n\n    .dataframe tbody tr th {\n        vertical-align: top;\n    }\n\n    .dataframe thead th {\n        text-align: right;\n    }\n</style>\n<table border=\"1\" class=\"dataframe\">\n  <thead>\n    <tr style=\"text-align: right;\">\n      <th></th>\n      <th>item_name</th>\n      <th>item_price</th>\n    </tr>\n  </thead>\n  <tbody>\n    <tr>\n      <th>3598</th>\n      <td>Chips and Fresh Tomato Salsa</td>\n      <td>$44.25</td>\n    </tr>\n    <tr>\n      <th>3480</th>\n      <td>Carnitas Bowl</td>\n      <td>$35.25</td>\n    </tr>\n    <tr>\n      <th>1254</th>\n      <td>Chicken Burrito</td>\n      <td>$35.00</td>\n    </tr>\n  </tbody>\n</table>\n</div>"
     },
     "metadata": {},
     "execution_count": 13
    }
   ],
   "source": [
    "#chipo.sort_values(by=['item_price'], ascending=False, inplace=True)\n",
    "\n",
    "def clean_currency(x):\n",
    "    if isinstance(x, str):\n",
    "        return(x.replace('$', ''))\n",
    "    return(x)\n",
    "#HE AÑADIDO COLUMNAS PARA TENER EL PRECIO SIN $ Y TAMBIEN DIVIDIDO POR UNIDADES\n",
    "\n",
    "chipo['price_new'] = chipo['item_price'].apply(clean_currency).astype('float')\n",
    "chipo.sort_values(by=['price_new'], ascending=False, inplace=True)\n",
    "chipo[\"unit_price\"] = chipo[\"price_new\"] / chipo[\"quantity\"]\n",
    "chipo[[\"item_name\",\"item_price\"]].head(3)\n"
   ]
  },
  {
   "cell_type": "code",
   "execution_count": null,
   "metadata": {},
   "outputs": [],
   "source": []
  },
  {
   "cell_type": "markdown",
   "metadata": {},
   "source": [
    "### Step 4. How many products cost more than $10.00?"
   ]
  },
  {
   "cell_type": "code",
   "execution_count": 80,
   "metadata": {},
   "outputs": [
    {
     "output_type": "stream",
     "name": "stdout",
     "text": [
      "Amount of items that cost > $10.00:  25\n-------------\nitem_name\nBarbacoa Bowl             27\nBarbacoa Burrito          24\nBarbacoa Crispy Tacos      4\nBarbacoa Salad Bowl        5\nBarbacoa Soft Tacos        8\nCarnitas Bowl             32\nCarnitas Burrito          19\nCarnitas Crispy Tacos      2\nCarnitas Salad Bowl        4\nCarnitas Soft Tacos        3\nChicken Bowl             282\nChicken Burrito          180\nChicken Crispy Tacos      15\nChicken Salad              2\nChicken Salad Bowl        51\nChicken Soft Tacos        26\nSteak Bowl                90\nSteak Burrito            127\nSteak Crispy Tacos        11\nSteak Salad Bowl          19\nSteak Soft Tacos           9\nVeggie Bowl               45\nVeggie Burrito            37\nVeggie Salad Bowl         10\nVeggie Soft Tacos          2\nName: unit_price, dtype: int64\n"
     ]
    }
   ],
   "source": [
    "#chipo.groupby('item_name').size()\n",
    "\n",
    "gh = chipo[chipo['unit_price'] > 10.00].groupby('item_name')['unit_price'].count()\n",
    "print(\"Amount of items that cost > $10.00: \",len(gh))\n",
    "print(\"-------------\")\n",
    "print(gh)\n",
    "\n"
   ]
  },
  {
   "cell_type": "markdown",
   "metadata": {},
   "source": [
    "### Step 5. What is the price of each item? \n",
    "###### print a data frame with only two columns item_name and item_price"
   ]
  },
  {
   "cell_type": "code",
   "execution_count": 81,
   "metadata": {},
   "outputs": [
    {
     "output_type": "stream",
     "name": "stdout",
     "text": [
      "                         item_name item_price\n3598  Chips and Fresh Tomato Salsa    $44.25 \n3480                 Carnitas Bowl    $35.25 \n1254               Chicken Burrito    $35.00 \n3602               Chicken Burrito    $35.00 \n3601                Veggie Burrito    $33.75 \n...                            ...        ...\n2520                   Canned Soda     $1.09 \n2961                   Canned Soda     $1.09 \n248                    Canned Soda     $1.09 \n1662                   Canned Soda     $1.09 \n1290                   Canned Soda     $1.09 \n\n[4622 rows x 2 columns]\n"
     ]
    }
   ],
   "source": [
    "print(chipo[[\"item_name\",\"item_price\"]])"
   ]
  },
  {
   "cell_type": "markdown",
   "metadata": {},
   "source": [
    "### Step 6. Sort by the name of the item"
   ]
  },
  {
   "cell_type": "code",
   "execution_count": 82,
   "metadata": {},
   "outputs": [
    {
     "output_type": "execute_result",
     "data": {
      "text/plain": [
       "      order_id  quantity          item_name  \\\n",
       "4522      1798       1.0  6 Pack Soft Drink   \n",
       "2374       945       1.0  6 Pack Soft Drink   \n",
       "1392       566       1.0  6 Pack Soft Drink   \n",
       "4535      1803       1.0  6 Pack Soft Drink   \n",
       "3789      1517       1.0  6 Pack Soft Drink   \n",
       "...        ...       ...                ...   \n",
       "2384       948       1.0  Veggie Soft Tacos   \n",
       "1395       567       1.0  Veggie Soft Tacos   \n",
       "2851      1132       1.0  Veggie Soft Tacos   \n",
       "781        322       1.0  Veggie Soft Tacos   \n",
       "1699       688       1.0  Veggie Soft Tacos   \n",
       "\n",
       "                                     choice_description item_price  price_new  \\\n",
       "4522                                        [Diet Coke]     $6.49        6.49   \n",
       "2374                                           [Sprite]     $6.49        6.49   \n",
       "1392                                        [Diet Coke]     $6.49        6.49   \n",
       "4535                                         [Lemonade]     $6.49        6.49   \n",
       "3789                                        [Diet Coke]     $6.49        6.49   \n",
       "...                                                 ...        ...        ...   \n",
       "2384  [Roasted Chili Corn Salsa, [Fajita Vegetables,...     $8.75        8.75   \n",
       "1395  [Fresh Tomato Salsa (Mild), [Pinto Beans, Rice...     $8.49        8.49   \n",
       "2851  [Roasted Chili Corn Salsa (Medium), [Black Bea...     $8.49        8.49   \n",
       "781   [Fresh Tomato Salsa, [Black Beans, Cheese, Sou...     $8.75        8.75   \n",
       "1699  [Fresh Tomato Salsa, [Fajita Vegetables, Rice,...    $11.25       11.25   \n",
       "\n",
       "      unit_cost  unit_price  \n",
       "4522       6.49        6.49  \n",
       "2374       6.49        6.49  \n",
       "1392       6.49        6.49  \n",
       "4535       6.49        6.49  \n",
       "3789       6.49        6.49  \n",
       "...         ...         ...  \n",
       "2384       8.75        8.75  \n",
       "1395       8.49        8.49  \n",
       "2851       8.49        8.49  \n",
       "781        8.75        8.75  \n",
       "1699      11.25       11.25  \n",
       "\n",
       "[4622 rows x 8 columns]"
      ],
      "text/html": "<div>\n<style scoped>\n    .dataframe tbody tr th:only-of-type {\n        vertical-align: middle;\n    }\n\n    .dataframe tbody tr th {\n        vertical-align: top;\n    }\n\n    .dataframe thead th {\n        text-align: right;\n    }\n</style>\n<table border=\"1\" class=\"dataframe\">\n  <thead>\n    <tr style=\"text-align: right;\">\n      <th></th>\n      <th>order_id</th>\n      <th>quantity</th>\n      <th>item_name</th>\n      <th>choice_description</th>\n      <th>item_price</th>\n      <th>price_new</th>\n      <th>unit_cost</th>\n      <th>unit_price</th>\n    </tr>\n  </thead>\n  <tbody>\n    <tr>\n      <th>4522</th>\n      <td>1798</td>\n      <td>1.0</td>\n      <td>6 Pack Soft Drink</td>\n      <td>[Diet Coke]</td>\n      <td>$6.49</td>\n      <td>6.49</td>\n      <td>6.49</td>\n      <td>6.49</td>\n    </tr>\n    <tr>\n      <th>2374</th>\n      <td>945</td>\n      <td>1.0</td>\n      <td>6 Pack Soft Drink</td>\n      <td>[Sprite]</td>\n      <td>$6.49</td>\n      <td>6.49</td>\n      <td>6.49</td>\n      <td>6.49</td>\n    </tr>\n    <tr>\n      <th>1392</th>\n      <td>566</td>\n      <td>1.0</td>\n      <td>6 Pack Soft Drink</td>\n      <td>[Diet Coke]</td>\n      <td>$6.49</td>\n      <td>6.49</td>\n      <td>6.49</td>\n      <td>6.49</td>\n    </tr>\n    <tr>\n      <th>4535</th>\n      <td>1803</td>\n      <td>1.0</td>\n      <td>6 Pack Soft Drink</td>\n      <td>[Lemonade]</td>\n      <td>$6.49</td>\n      <td>6.49</td>\n      <td>6.49</td>\n      <td>6.49</td>\n    </tr>\n    <tr>\n      <th>3789</th>\n      <td>1517</td>\n      <td>1.0</td>\n      <td>6 Pack Soft Drink</td>\n      <td>[Diet Coke]</td>\n      <td>$6.49</td>\n      <td>6.49</td>\n      <td>6.49</td>\n      <td>6.49</td>\n    </tr>\n    <tr>\n      <th>...</th>\n      <td>...</td>\n      <td>...</td>\n      <td>...</td>\n      <td>...</td>\n      <td>...</td>\n      <td>...</td>\n      <td>...</td>\n      <td>...</td>\n    </tr>\n    <tr>\n      <th>2384</th>\n      <td>948</td>\n      <td>1.0</td>\n      <td>Veggie Soft Tacos</td>\n      <td>[Roasted Chili Corn Salsa, [Fajita Vegetables,...</td>\n      <td>$8.75</td>\n      <td>8.75</td>\n      <td>8.75</td>\n      <td>8.75</td>\n    </tr>\n    <tr>\n      <th>1395</th>\n      <td>567</td>\n      <td>1.0</td>\n      <td>Veggie Soft Tacos</td>\n      <td>[Fresh Tomato Salsa (Mild), [Pinto Beans, Rice...</td>\n      <td>$8.49</td>\n      <td>8.49</td>\n      <td>8.49</td>\n      <td>8.49</td>\n    </tr>\n    <tr>\n      <th>2851</th>\n      <td>1132</td>\n      <td>1.0</td>\n      <td>Veggie Soft Tacos</td>\n      <td>[Roasted Chili Corn Salsa (Medium), [Black Bea...</td>\n      <td>$8.49</td>\n      <td>8.49</td>\n      <td>8.49</td>\n      <td>8.49</td>\n    </tr>\n    <tr>\n      <th>781</th>\n      <td>322</td>\n      <td>1.0</td>\n      <td>Veggie Soft Tacos</td>\n      <td>[Fresh Tomato Salsa, [Black Beans, Cheese, Sou...</td>\n      <td>$8.75</td>\n      <td>8.75</td>\n      <td>8.75</td>\n      <td>8.75</td>\n    </tr>\n    <tr>\n      <th>1699</th>\n      <td>688</td>\n      <td>1.0</td>\n      <td>Veggie Soft Tacos</td>\n      <td>[Fresh Tomato Salsa, [Fajita Vegetables, Rice,...</td>\n      <td>$11.25</td>\n      <td>11.25</td>\n      <td>11.25</td>\n      <td>11.25</td>\n    </tr>\n  </tbody>\n</table>\n<p>4622 rows × 8 columns</p>\n</div>"
     },
     "metadata": {},
     "execution_count": 82
    }
   ],
   "source": [
    "chipo.sort_values(by=['item_name'], ascending=True, inplace=True)\n",
    "chipo"
   ]
  },
  {
   "cell_type": "markdown",
   "metadata": {},
   "source": [
    "### Step 7. What was the quantity of the most expensive item ordered? 2 ways"
   ]
  },
  {
   "cell_type": "markdown",
   "metadata": {},
   "source": [
    "V1"
   ]
  },
  {
   "cell_type": "code",
   "execution_count": 94,
   "metadata": {},
   "outputs": [
    {
     "output_type": "stream",
     "name": "stdout",
     "text": [
      "Row with highest value for price:  3598\nQuantity = 15.0\n"
     ]
    }
   ],
   "source": [
    "bb = chipo.price_new.idxmax(axis=0)\n",
    "print(\"Row with highest value for price: \", bb)\n",
    "print(\"Quantity =\", chipo.quantity[bb])"
   ]
  },
  {
   "cell_type": "markdown",
   "metadata": {},
   "source": [
    "V2"
   ]
  },
  {
   "cell_type": "code",
   "execution_count": 102,
   "metadata": {},
   "outputs": [
    {
     "output_type": "execute_result",
     "data": {
      "text/plain": [
       "order_id                                      1443\n",
       "quantity                                      15.0\n",
       "item_name             Chips and Fresh Tomato Salsa\n",
       "choice_description                             NaN\n",
       "item_price                                 $44.25 \n",
       "price_new                                    44.25\n",
       "unit_cost                                     2.95\n",
       "unit_price                                    2.95\n",
       "Name: 3598, dtype: object"
      ]
     },
     "metadata": {},
     "execution_count": 102
    }
   ],
   "source": [
    "chipo.loc[chipo['price_new'].idxmax()]"
   ]
  },
  {
   "cell_type": "markdown",
   "metadata": {},
   "source": [
    "### Step 8. How many times was a Veggie Salad Bowl ordered?"
   ]
  },
  {
   "cell_type": "code",
   "execution_count": 108,
   "metadata": {},
   "outputs": [
    {
     "output_type": "stream",
     "name": "stdout",
     "text": [
      "How many times has Veggie Salad Bowl been ordered:  18\n"
     ]
    }
   ],
   "source": [
    "print(\"How many times has Veggie Salad Bowl been ordered: \", chipo.loc[chipo.item_name == 'Veggie Salad Bowl', \"item_name\"].count())\n"
   ]
  },
  {
   "cell_type": "markdown",
   "metadata": {},
   "source": [
    "### Step 9. How many times did someone order more than one Canned Soda?"
   ]
  },
  {
   "cell_type": "code",
   "execution_count": 128,
   "metadata": {
    "tags": []
   },
   "outputs": [
    {
     "output_type": "stream",
     "name": "stdout",
     "text": [
      "How many times was more than one Canned Soda ordered:  20\n"
     ]
    }
   ],
   "source": [
    "print(\"How many times was more than one Canned Soda ordered: \", chipo[(chipo[\"item_name\"]==\"Canned Soda\") & (chipo[\"quantity\"]>1)].count()[\"item_name\"])\n"
   ]
  }
 ],
 "metadata": {
  "anaconda-cloud": {},
  "kernelspec": {
   "name": "python374jvsc74a57bd016eb897c26cdfcf18817bc60a8e0737e3939ff1e8491198c807979170104e811",
   "display_name": "Python 3.7.4 64-bit"
  },
  "language_info": {
   "codemirror_mode": {
    "name": "ipython",
    "version": 3
   },
   "file_extension": ".py",
   "mimetype": "text/x-python",
   "name": "python",
   "nbconvert_exporter": "python",
   "pygments_lexer": "ipython3",
   "version": "3.7.4"
  },
  "metadata": {
   "interpreter": {
    "hash": "16eb897c26cdfcf18817bc60a8e0737e3939ff1e8491198c807979170104e811"
   }
  }
 },
 "nbformat": 4,
 "nbformat_minor": 4
}